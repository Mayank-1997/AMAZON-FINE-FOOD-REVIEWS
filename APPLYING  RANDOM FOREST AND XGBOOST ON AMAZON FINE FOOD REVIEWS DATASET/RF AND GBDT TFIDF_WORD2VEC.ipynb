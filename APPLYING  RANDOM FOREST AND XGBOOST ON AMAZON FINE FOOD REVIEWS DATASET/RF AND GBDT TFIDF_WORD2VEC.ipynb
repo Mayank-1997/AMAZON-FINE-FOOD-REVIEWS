{
 "cells": [
  {
   "cell_type": "markdown",
   "metadata": {
    "colab_type": "text",
    "id": "JY8IF99xnx6g"
   },
   "source": [
    "# OBJECTIVE #\n",
    "\n",
    "1.   <b>APPLYING RANDOM FOREST WITH TFIDF_WORD2VEC VECTORIZATION\n",
    "\n",
    " *   FINDING THE BEST HYPERPARAMETER USING GRIDSEARCHCV WITH TRAIN DATA AND CROSS-VALIDATION DATA BY PLOTTING THE RESLUTS OF VAROIUS TRAIN DATA AND CROSS VALIDATION DATA\n",
    " * USING THE APROPRIATE VALUE OF HYPERPARAMETER ,TESTING ACCURACY ON TEST DATA\n",
    "    USING F1-SCORE\n",
    " * PLOTTING THE CONFUSION MATRIX TO GET THE  PRECISOIN ,RECALL VALUE WITH HELP OF HEATMAP\n",
    "  * PRINTING THE TOP 30 MOST IMPORTANT  FEATURES \n",
    "  \n"
   ]
  },
  {
   "cell_type": "code",
   "execution_count": 0,
   "metadata": {
    "colab": {},
    "colab_type": "code",
    "collapsed": true,
    "id": "sqKe2mXbEWul"
   },
   "outputs": [],
   "source": [
    "from sklearn.model_selection import train_test_split          #importing the necessary libraries\n",
    "from sklearn.model_selection import RandomizedSearchCV\n",
    "from sklearn.datasets import *\n",
    "from sklearn import naive_bayes\n",
    "from sklearn.feature_extraction.text import CountVectorizer\n",
    "from sklearn.feature_extraction.text import TfidfVectorizer\n",
    "import numpy as np\n",
    "import pandas as pd\n",
    "from sklearn import *\n",
    "import warnings\n",
    "warnings.filterwarnings(\"ignore\")\n",
    "from sklearn.ensemble import RandomForestClassifier\n",
    "from gensim.models import Word2Vec\n",
    "from tqdm import tqdm\n"
   ]
  },
  {
   "cell_type": "code",
   "execution_count": 2,
   "metadata": {
    "colab": {
     "base_uri": "https://localhost:8080/",
     "height": 122
    },
    "colab_type": "code",
    "executionInfo": {
     "elapsed": 24759,
     "status": "ok",
     "timestamp": 1549345593609,
     "user": {
      "displayName": "mayank aggarwal",
      "photoUrl": "",
      "userId": "04107947634097457088"
     },
     "user_tz": -330
    },
    "id": "I9Yx8XnxTAXi",
    "outputId": "2017a5c8-362f-4dc6-d0cc-aa21503f4976"
   },
   "outputs": [
    {
     "name": "stdout",
     "output_type": "stream",
     "text": [
      "Go to this URL in a browser: https://accounts.google.com/o/oauth2/auth?client_id=947318989803-6bn6qk8qdgf4n4g3pfee6491hc0brc4i.apps.googleusercontent.com&redirect_uri=urn%3Aietf%3Awg%3Aoauth%3A2.0%3Aoob&scope=email%20https%3A%2F%2Fwww.googleapis.com%2Fauth%2Fdocs.test%20https%3A%2F%2Fwww.googleapis.com%2Fauth%2Fdrive%20https%3A%2F%2Fwww.googleapis.com%2Fauth%2Fdrive.photos.readonly%20https%3A%2F%2Fwww.googleapis.com%2Fauth%2Fpeopleapi.readonly&response_type=code\n",
      "\n",
      "Enter your authorization code:\n",
      "··········\n",
      "Mounted at /content/gdrive\n"
     ]
    }
   ],
   "source": [
    "from google.colab import drive\n",
    "drive.mount('/content/gdrive')#geeting the content from the google drive"
   ]
  },
  {
   "cell_type": "code",
   "execution_count": 0,
   "metadata": {
    "colab": {},
    "colab_type": "code",
    "collapsed": true,
    "id": "UB3PtZmvTK7W"
   },
   "outputs": [],
   "source": [
    "final_processed_data=pd.read_csv(\"gdrive/My Drive/final_new_data.csv\")#loading the preprocessed data  with 100k points into dataframe "
   ]
  },
  {
   "cell_type": "code",
   "execution_count": 4,
   "metadata": {
    "colab": {
     "base_uri": "https://localhost:8080/",
     "height": 51
    },
    "colab_type": "code",
    "executionInfo": {
     "elapsed": 1471,
     "status": "ok",
     "timestamp": 1549345602173,
     "user": {
      "displayName": "mayank aggarwal",
      "photoUrl": "",
      "userId": "04107947634097457088"
     },
     "user_tz": -330
    },
    "id": "RENTF3KZTWSM",
    "outputId": "3d5f294a-c776-482d-ec96-f4751213b1e7"
   },
   "outputs": [
    {
     "name": "stdout",
     "output_type": "stream",
     "text": [
      "88521\n",
      "11479\n"
     ]
    }
   ],
   "source": [
    "# getting the counts of 0 and 1 in \"SCORE\" column to know whether it is unbalanced data or not\n",
    "count_of_1=0\n",
    "count_of_0=0\n",
    "for i in final_processed_data['Score']:\n",
    "   if i==1:\n",
    "    count_of_1+=1\n",
    "   else:\n",
    "    count_of_0+=1\n",
    "print(count_of_1)\n",
    "print(count_of_0)\n",
    "#it is an imbalanced dataset"
   ]
  },
  {
   "cell_type": "code",
   "execution_count": 0,
   "metadata": {
    "colab": {},
    "colab_type": "code",
    "collapsed": true,
    "id": "icFP4UVuTY78"
   },
   "outputs": [],
   "source": [
    "#spliiting the data into train and test data\n",
    "x_train,x_test,y_train,y_test=model_selection.train_test_split(final_processed_data['CleanedText'].values,final_processed_data['Score'].values,test_size=0.3,shuffle=False)"
   ]
  },
  {
   "cell_type": "code",
   "execution_count": 6,
   "metadata": {
    "colab": {
     "base_uri": "https://localhost:8080/",
     "height": 122
    },
    "colab_type": "code",
    "executionInfo": {
     "elapsed": 20871,
     "status": "ok",
     "timestamp": 1549345624077,
     "user": {
      "displayName": "mayank aggarwal",
      "photoUrl": "",
      "userId": "04107947634097457088"
     },
     "user_tz": -330
    },
    "id": "bb46J4fdz5O6",
    "outputId": "6a7ac2d2-e7c1-45cf-fc75-f7bfaf67a2c1"
   },
   "outputs": [
    {
     "name": "stdout",
     "output_type": "stream",
     "text": [
      "witti littl book make son laugh loud recit car drive along alway sing refrain hes learn whale india droop love new word book introduc silli classic book will bet son still abl recit memori colleg\n",
      "*****************************************************************\n",
      "['witti', 'littl', 'book', 'make', 'son', 'laugh', 'loud', 'recit', 'car', 'drive', 'along', 'alway', 'sing', 'refrain', 'hes', 'learn', 'whale', 'india', 'droop', 'love', 'new', 'word', 'book', 'introduc', 'silli', 'classic', 'book', 'will', 'bet', 'son', 'still', 'abl', 'recit', 'memori', 'colleg']\n",
      "***********************************************************************\n",
      "sample words  ['witti', 'littl', 'book', 'make', 'son', 'laugh', 'loud', 'car', 'drive', 'along', 'alway', 'sing', 'hes', 'learn', 'india', 'droop', 'love', 'new', 'word', 'introduc']\n"
     ]
    }
   ],
   "source": [
    "# Training my own Word2Vec model using your own text corpus\n",
    "list_of_sent=[]\n",
    "for sent in x_train:\n",
    " list_of_sent.append(sent.split())#splitting of sentences into words AND appending them to list\n",
    "print(x_train[0])\n",
    "print(\"*****************************************************************\")\n",
    "print(list_of_sent[0])\n",
    "word_to_vector=Word2Vec(list_of_sent,min_count=5,size=100,workers=2)#constructing my our word to vector\n",
    "w_t_c_words=list(word_to_vector.wv.vocab)\n",
    "print(\"***********************************************************************\")\n",
    "print(\"sample words \", w_t_c_words[0:20])"
   ]
  },
  {
   "cell_type": "code",
   "execution_count": 7,
   "metadata": {
    "colab": {
     "base_uri": "https://localhost:8080/",
     "height": 34
    },
    "colab_type": "code",
    "executionInfo": {
     "elapsed": 128387,
     "status": "ok",
     "timestamp": 1549345739240,
     "user": {
      "displayName": "mayank aggarwal",
      "photoUrl": "",
      "userId": "04107947634097457088"
     },
     "user_tz": -330
    },
    "id": "AGoUQYvPz5aE",
    "outputId": "ec09e4f0-be2f-4a1f-934d-5e8c6576146a"
   },
   "outputs": [
    {
     "name": "stderr",
     "output_type": "stream",
     "text": [
      "100%|██████████| 70000/70000 [01:52<00:00, 619.75it/s]\n"
     ]
    }
   ],
   "source": [
    "###### NOW STARTING TFIDF WORD TO VEC FOR TRAIN DATA#################################################################\n",
    "#NOW STARTING TF-IDF WEIGHTED WORD-TO-VEC\n",
    "model = TfidfVectorizer()\n",
    "tf_idf_matrix = model.fit_transform(x_train)\n",
    "# we are converting a dictionary with word as a key, and the idf as a value\n",
    "dictionary = dict(zip(model.get_feature_names(), list(model.idf_)))\n",
    "train_tfidf_sent_vectors =[]# the tfidf-w2v for each sentence/review is stored in this list\n",
    "\n",
    "for sent in tqdm(list_of_sent): # for each review/sentence\n",
    "  sent_vec = np.zeros(100) # as word vectors are of zero length\n",
    "  weight_sum =0; # num of words with a valid vector in the sentence/review\n",
    "  for word in sent: # for each word in a review/sentence\n",
    "   if word in w_t_c_words:\n",
    "     vec = word_to_vector.wv[word]\n",
    "     tf_idf = dictionary[word]*(sent.count(word)/len(sent))# dictionary[word] = idf value of word in whole courpus\n",
    "     sent_vec += (vec * tf_idf)# sent.count(word) = tf valeus of word in this review\n",
    "     weight_sum += tf_idf \n",
    "  if weight_sum != 0:\n",
    "   sent_vec /= weight_sum\n",
    "   train_tfidf_sent_vectors.append(sent_vec)"
   ]
  },
  {
   "cell_type": "code",
   "execution_count": 8,
   "metadata": {
    "colab": {
     "base_uri": "https://localhost:8080/",
     "height": 34
    },
    "colab_type": "code",
    "executionInfo": {
     "elapsed": 126813,
     "status": "ok",
     "timestamp": 1549345739611,
     "user": {
      "displayName": "mayank aggarwal",
      "photoUrl": "",
      "userId": "04107947634097457088"
     },
     "user_tz": -330
    },
    "id": "31h5L602z5iE",
    "outputId": "c617baef-d4ba-49ed-a08c-e83226918b73"
   },
   "outputs": [
    {
     "name": "stdout",
     "output_type": "stream",
     "text": [
      "(70000, 100)\n"
     ]
    }
   ],
   "source": [
    "from sklearn.preprocessing import StandardScaler #standarizing the training  data  \n",
    "x_train_data=StandardScaler( with_mean=False).fit_transform(train_tfidf_sent_vectors)\n",
    "print(x_train_data.shape)"
   ]
  },
  {
   "cell_type": "code",
   "execution_count": 9,
   "metadata": {
    "colab": {
     "base_uri": "https://localhost:8080/",
     "height": 105
    },
    "colab_type": "code",
    "executionInfo": {
     "elapsed": 125682,
     "status": "ok",
     "timestamp": 1549345739968,
     "user": {
      "displayName": "mayank aggarwal",
      "photoUrl": "",
      "userId": "04107947634097457088"
     },
     "user_tz": -330
    },
    "id": "Kj63JZxLz5oB",
    "outputId": "9b562160-12f6-4384-ba3a-432dd88ec27b"
   },
   "outputs": [
    {
     "name": "stdout",
     "output_type": "stream",
     "text": [
      "product carbon fruit juic high fructos corn syrup pack calori littl product prefer drink calori plain water tast wasnt pleas left unpleas aftertast also sweet drink made less thirst quencher\n",
      "*****************************************************************\n",
      "['product', 'carbon', 'fruit', 'juic', 'high', 'fructos', 'corn', 'syrup', 'pack', 'calori', 'littl', 'product', 'prefer', 'drink', 'calori', 'plain', 'water', 'tast', 'wasnt', 'pleas', 'left', 'unpleas', 'aftertast', 'also', 'sweet', 'drink', 'made', 'less', 'thirst', 'quencher']\n",
      "*******************************************************************\n"
     ]
    }
   ],
   "source": [
    "list_of_sent=[]\n",
    "for sent in x_test:\n",
    " list_of_sent.append(sent.split())#splitting of sentences into words AND appending them to list\n",
    "print(x_test[0])\n",
    "print(\"*****************************************************************\")\n",
    "print(list_of_sent[0])\n",
    "print('*******************************************************************')"
   ]
  },
  {
   "cell_type": "code",
   "execution_count": 10,
   "metadata": {
    "colab": {
     "base_uri": "https://localhost:8080/",
     "height": 34
    },
    "colab_type": "code",
    "executionInfo": {
     "elapsed": 178386,
     "status": "ok",
     "timestamp": 1549345793916,
     "user": {
      "displayName": "mayank aggarwal",
      "photoUrl": "",
      "userId": "04107947634097457088"
     },
     "user_tz": -330
    },
    "id": "7KdMpIJGz51a",
    "outputId": "483f04c7-93e4-41b9-e691-8b15f93a9502"
   },
   "outputs": [
    {
     "name": "stderr",
     "output_type": "stream",
     "text": [
      "100%|██████████| 30000/30000 [00:50<00:00, 594.46it/s]\n"
     ]
    }
   ],
   "source": [
    "###### NOW STARTING TFIDF WORD TO VEC FOR TEST DATA#################################################################\n",
    "#NOW STARTING TF-IDF WEIGHTED WORD-TO-VEC\n",
    "model = TfidfVectorizer()\n",
    "model.fit_transform(x_train)\n",
    "model.transform(x_test)\n",
    "# we are converting a dictionary with word as a key, and the idf as a value\n",
    "dictionary = dict(zip(model.get_feature_names(), list(model.idf_)))\n",
    "test_tfidf_sent_vectors =[]# the tfidf-w2v for each sentence/review is stored in this list\n",
    "\n",
    "for sent in tqdm(list_of_sent): # for each review/sentence\n",
    "  sent_vec = np.zeros(100) # as word vectors are of zero length\n",
    "  weight_sum =0; # num of words with a valid vector in the sentence/review\n",
    "  for word in sent: # for each word in a review/sentence\n",
    "   if word in w_t_c_words:\n",
    "     vec = word_to_vector.wv[word]\n",
    "     tf_idf = dictionary[word]*(sent.count(word)/len(sent))# dictionary[word] = idf value of word in whole courpus\n",
    "     sent_vec += (vec * tf_idf)# sent.count(word) = tf valeus of word in this review\n",
    "     weight_sum += tf_idf\n",
    "  if weight_sum != 0:\n",
    "   sent_vec /= weight_sum\n",
    "   test_tfidf_sent_vectors.append(sent_vec)"
   ]
  },
  {
   "cell_type": "code",
   "execution_count": 12,
   "metadata": {
    "colab": {
     "base_uri": "https://localhost:8080/",
     "height": 34
    },
    "colab_type": "code",
    "executionInfo": {
     "elapsed": 960,
     "status": "ok",
     "timestamp": 1549345807597,
     "user": {
      "displayName": "mayank aggarwal",
      "photoUrl": "",
      "userId": "04107947634097457088"
     },
     "user_tz": -330
    },
    "id": "anIFSg8bz5x8",
    "outputId": "07e284f0-f960-42a8-c8c6-8869815ca03c"
   },
   "outputs": [
    {
     "name": "stdout",
     "output_type": "stream",
     "text": [
      "(30000, 100)\n"
     ]
    }
   ],
   "source": [
    "from sklearn.preprocessing import StandardScaler #standarizing the training  data  \n",
    "x_test_data=StandardScaler( with_mean=False).fit_transform(test_tfidf_sent_vectors)\n",
    "print(x_test_data.shape)"
   ]
  },
  {
   "cell_type": "code",
   "execution_count": 0,
   "metadata": {
    "colab": {
     "base_uri": "https://localhost:8080/",
     "height": 52
    },
    "colab_type": "code",
    "executionInfo": {
     "elapsed": 229361,
     "status": "ok",
     "timestamp": 1549290909014,
     "user": {
      "displayName": "mayank aggarwal",
      "photoUrl": "",
      "userId": "04107947634097457088"
     },
     "user_tz": -330
    },
    "id": "XDGtTsqllX5t",
    "outputId": "1f8800cf-4f34-47b9-8c5e-4a3b87561002"
   },
   "outputs": [
    {
     "name": "stdout",
     "output_type": "stream",
     "text": [
      "CPU times: user 3 µs, sys: 0 ns, total: 3 µs\n",
      "Wall time: 7.15 µs\n"
     ]
    }
   ],
   "source": [
    "#biudling the model\n",
    "#using time series split method for cross-validation score\n",
    "from sklearn.model_selection import TimeSeriesSplit\n",
    "tscv = TimeSeriesSplit(n_splits=5) \n",
    "rf=RandomForestClassifier(criterion='gini',class_weight={1:.5,0:.5})\n",
    "tuned_parameters=[{'max_depth':[20,30,40,50,60,80],'n_estimators':[21,30,40,50,70,100]}]\n",
    "#applying the model of decision tree and using gridsearchcv to find the best hyper parameter\n",
    "%time\n",
    "from sklearn.model_selection import GridSearchCV\n",
    "model = GridSearchCV(rf, tuned_parameters, scoring = 'f1', cv=tscv,n_jobs=-1)#building the gridsearchcv model\n"
   ]
  },
  {
   "cell_type": "code",
   "execution_count": 0,
   "metadata": {
    "colab": {
     "base_uri": "https://localhost:8080/",
     "height": 283
    },
    "colab_type": "code",
    "executionInfo": {
     "elapsed": 108423,
     "status": "ok",
     "timestamp": 1549293976675,
     "user": {
      "displayName": "mayank aggarwal",
      "photoUrl": "",
      "userId": "04107947634097457088"
     },
     "user_tz": -330
    },
    "id": "LCZJCchRlZUT",
    "outputId": "557c7d1e-a1b2-453b-8a73-44d4f0c6c320"
   },
   "outputs": [
    {
     "name": "stdout",
     "output_type": "stream",
     "text": [
      "CPU times: user 43 s, sys: 384 ms, total: 43.4 s\n",
      "Wall time: 51min 7s\n"
     ]
    },
    {
     "data": {
      "text/plain": [
       "GridSearchCV(cv=TimeSeriesSplit(max_train_size=None, n_splits=5),\n",
       "       error_score='raise-deprecating',\n",
       "       estimator=RandomForestClassifier(bootstrap=True, class_weight={1: 0.5, 0: 0.5},\n",
       "            criterion='gini', max_depth=None, max_features='auto',\n",
       "            max_leaf_nodes=None, min_impurity_decrease=0.0,\n",
       "            min_impurity_split=None, min_samples_leaf=1,\n",
       "            min_samples_split=2, min_weight_fraction_leaf=0.0,\n",
       "            n_estimators='warn', n_jobs=None, oob_score=False,\n",
       "            random_state=None, verbose=0, warm_start=False),\n",
       "       fit_params=None, iid='warn', n_jobs=-1,\n",
       "       param_grid=[{'max_depth': [20, 30, 40, 50, 60, 80], 'n_estimators': [21, 30, 40, 50, 70, 100]}],\n",
       "       pre_dispatch='2*n_jobs', refit=True, return_train_score='warn',\n",
       "       scoring='f1', verbose=0)"
      ]
     },
     "execution_count": 13,
     "metadata": {
      "tags": []
     },
     "output_type": "execute_result"
    }
   ],
   "source": [
    "%%time\n",
    "model.fit(x_train_data, y_train)#fiitting the training data\n"
   ]
  },
  {
   "cell_type": "code",
   "execution_count": 0,
   "metadata": {
    "colab": {
     "base_uri": "https://localhost:8080/",
     "height": 141
    },
    "colab_type": "code",
    "executionInfo": {
     "elapsed": 213,
     "status": "ok",
     "timestamp": 1549293976689,
     "user": {
      "displayName": "mayank aggarwal",
      "photoUrl": "",
      "userId": "04107947634097457088"
     },
     "user_tz": -330
    },
    "id": "PMKWg1allZQv",
    "outputId": "20d67e9b-ab1a-40e0-bfce-82d3890a97a7"
   },
   "outputs": [
    {
     "name": "stdout",
     "output_type": "stream",
     "text": [
      "RandomForestClassifier(bootstrap=True, class_weight={1: 0.5, 0: 0.5},\n",
      "            criterion='gini', max_depth=80, max_features='auto',\n",
      "            max_leaf_nodes=None, min_impurity_decrease=0.0,\n",
      "            min_impurity_split=None, min_samples_leaf=1,\n",
      "            min_samples_split=2, min_weight_fraction_leaf=0.0,\n",
      "            n_estimators=40, n_jobs=None, oob_score=False,\n",
      "            random_state=None, verbose=0, warm_start=False)\n"
     ]
    }
   ],
   "source": [
    "print(model.best_estimator_)#printing the best_estimator"
   ]
  },
  {
   "cell_type": "code",
   "execution_count": 0,
   "metadata": {
    "colab": {
     "base_uri": "https://localhost:8080/",
     "height": 496
    },
    "colab_type": "code",
    "executionInfo": {
     "elapsed": 839,
     "status": "ok",
     "timestamp": 1549295553791,
     "user": {
      "displayName": "mayank aggarwal",
      "photoUrl": "",
      "userId": "04107947634097457088"
     },
     "user_tz": -330
    },
    "id": "oHPSBPF0lZB_",
    "outputId": "00715292-7ef2-49ad-ffa6-b8cc54296e43"
   },
   "outputs": [
    {
     "data": {
      "text/html": [
       "<div>\n",
       "<style scoped>\n",
       "    .dataframe tbody tr th:only-of-type {\n",
       "        vertical-align: middle;\n",
       "    }\n",
       "\n",
       "    .dataframe tbody tr th {\n",
       "        vertical-align: top;\n",
       "    }\n",
       "\n",
       "    .dataframe thead th {\n",
       "        text-align: right;\n",
       "    }\n",
       "</style>\n",
       "<table border=\"1\" class=\"dataframe\">\n",
       "  <thead>\n",
       "    <tr style=\"text-align: right;\">\n",
       "      <th></th>\n",
       "      <th>mean_fit_time</th>\n",
       "      <th>mean_score_time</th>\n",
       "      <th>mean_test_score</th>\n",
       "      <th>mean_train_score</th>\n",
       "      <th>param_max_depth</th>\n",
       "      <th>param_n_estimators</th>\n",
       "      <th>params</th>\n",
       "      <th>rank_test_score</th>\n",
       "      <th>split0_test_score</th>\n",
       "      <th>split0_train_score</th>\n",
       "      <th>...</th>\n",
       "      <th>split2_test_score</th>\n",
       "      <th>split2_train_score</th>\n",
       "      <th>split3_test_score</th>\n",
       "      <th>split3_train_score</th>\n",
       "      <th>split4_test_score</th>\n",
       "      <th>split4_train_score</th>\n",
       "      <th>std_fit_time</th>\n",
       "      <th>std_score_time</th>\n",
       "      <th>std_test_score</th>\n",
       "      <th>std_train_score</th>\n",
       "    </tr>\n",
       "  </thead>\n",
       "  <tbody>\n",
       "    <tr>\n",
       "      <th>0</th>\n",
       "      <td>12.983693</td>\n",
       "      <td>0.064387</td>\n",
       "      <td>0.943818</td>\n",
       "      <td>0.995695</td>\n",
       "      <td>20</td>\n",
       "      <td>21</td>\n",
       "      <td>{'max_depth': 20, 'n_estimators': 21}</td>\n",
       "      <td>29</td>\n",
       "      <td>0.947023</td>\n",
       "      <td>0.997742</td>\n",
       "      <td>...</td>\n",
       "      <td>0.944010</td>\n",
       "      <td>0.996106</td>\n",
       "      <td>0.946641</td>\n",
       "      <td>0.994894</td>\n",
       "      <td>0.938817</td>\n",
       "      <td>0.993579</td>\n",
       "      <td>6.990797</td>\n",
       "      <td>0.007131</td>\n",
       "      <td>0.002993</td>\n",
       "      <td>0.001392</td>\n",
       "    </tr>\n",
       "    <tr>\n",
       "      <th>1</th>\n",
       "      <td>18.296815</td>\n",
       "      <td>0.089172</td>\n",
       "      <td>0.943961</td>\n",
       "      <td>0.996532</td>\n",
       "      <td>20</td>\n",
       "      <td>30</td>\n",
       "      <td>{'max_depth': 20, 'n_estimators': 30}</td>\n",
       "      <td>23</td>\n",
       "      <td>0.946069</td>\n",
       "      <td>0.998846</td>\n",
       "      <td>...</td>\n",
       "      <td>0.945714</td>\n",
       "      <td>0.996710</td>\n",
       "      <td>0.944973</td>\n",
       "      <td>0.995763</td>\n",
       "      <td>0.940241</td>\n",
       "      <td>0.994425</td>\n",
       "      <td>9.894910</td>\n",
       "      <td>0.007289</td>\n",
       "      <td>0.002177</td>\n",
       "      <td>0.001454</td>\n",
       "    </tr>\n",
       "    <tr>\n",
       "      <th>2</th>\n",
       "      <td>24.447854</td>\n",
       "      <td>0.117207</td>\n",
       "      <td>0.944163</td>\n",
       "      <td>0.996857</td>\n",
       "      <td>20</td>\n",
       "      <td>40</td>\n",
       "      <td>{'max_depth': 20, 'n_estimators': 40}</td>\n",
       "      <td>14</td>\n",
       "      <td>0.948039</td>\n",
       "      <td>0.999182</td>\n",
       "      <td>...</td>\n",
       "      <td>0.944864</td>\n",
       "      <td>0.996663</td>\n",
       "      <td>0.946589</td>\n",
       "      <td>0.996347</td>\n",
       "      <td>0.939667</td>\n",
       "      <td>0.994701</td>\n",
       "      <td>13.137854</td>\n",
       "      <td>0.008965</td>\n",
       "      <td>0.003095</td>\n",
       "      <td>0.001459</td>\n",
       "    </tr>\n",
       "    <tr>\n",
       "      <th>3</th>\n",
       "      <td>30.142504</td>\n",
       "      <td>0.138907</td>\n",
       "      <td>0.943967</td>\n",
       "      <td>0.997148</td>\n",
       "      <td>20</td>\n",
       "      <td>50</td>\n",
       "      <td>{'max_depth': 20, 'n_estimators': 50}</td>\n",
       "      <td>21</td>\n",
       "      <td>0.946947</td>\n",
       "      <td>0.999278</td>\n",
       "      <td>...</td>\n",
       "      <td>0.944728</td>\n",
       "      <td>0.997427</td>\n",
       "      <td>0.947143</td>\n",
       "      <td>0.996634</td>\n",
       "      <td>0.939211</td>\n",
       "      <td>0.994815</td>\n",
       "      <td>16.159649</td>\n",
       "      <td>0.011941</td>\n",
       "      <td>0.003061</td>\n",
       "      <td>0.001450</td>\n",
       "    </tr>\n",
       "    <tr>\n",
       "      <th>4</th>\n",
       "      <td>42.804373</td>\n",
       "      <td>0.196317</td>\n",
       "      <td>0.943715</td>\n",
       "      <td>0.997414</td>\n",
       "      <td>20</td>\n",
       "      <td>70</td>\n",
       "      <td>{'max_depth': 20, 'n_estimators': 70}</td>\n",
       "      <td>31</td>\n",
       "      <td>0.947809</td>\n",
       "      <td>0.999471</td>\n",
       "      <td>...</td>\n",
       "      <td>0.944465</td>\n",
       "      <td>0.997411</td>\n",
       "      <td>0.944404</td>\n",
       "      <td>0.996395</td>\n",
       "      <td>0.938875</td>\n",
       "      <td>0.995253</td>\n",
       "      <td>23.118533</td>\n",
       "      <td>0.023641</td>\n",
       "      <td>0.002888</td>\n",
       "      <td>0.001497</td>\n",
       "    </tr>\n",
       "  </tbody>\n",
       "</table>\n",
       "<p>5 rows × 22 columns</p>\n",
       "</div>"
      ],
      "text/plain": [
       "   mean_fit_time  mean_score_time  mean_test_score  mean_train_score  \\\n",
       "0      12.983693         0.064387         0.943818          0.995695   \n",
       "1      18.296815         0.089172         0.943961          0.996532   \n",
       "2      24.447854         0.117207         0.944163          0.996857   \n",
       "3      30.142504         0.138907         0.943967          0.997148   \n",
       "4      42.804373         0.196317         0.943715          0.997414   \n",
       "\n",
       "  param_max_depth param_n_estimators                                 params  \\\n",
       "0              20                 21  {'max_depth': 20, 'n_estimators': 21}   \n",
       "1              20                 30  {'max_depth': 20, 'n_estimators': 30}   \n",
       "2              20                 40  {'max_depth': 20, 'n_estimators': 40}   \n",
       "3              20                 50  {'max_depth': 20, 'n_estimators': 50}   \n",
       "4              20                 70  {'max_depth': 20, 'n_estimators': 70}   \n",
       "\n",
       "   rank_test_score  split0_test_score  split0_train_score       ...         \\\n",
       "0               29           0.947023            0.997742       ...          \n",
       "1               23           0.946069            0.998846       ...          \n",
       "2               14           0.948039            0.999182       ...          \n",
       "3               21           0.946947            0.999278       ...          \n",
       "4               31           0.947809            0.999471       ...          \n",
       "\n",
       "   split2_test_score  split2_train_score  split3_test_score  \\\n",
       "0           0.944010            0.996106           0.946641   \n",
       "1           0.945714            0.996710           0.944973   \n",
       "2           0.944864            0.996663           0.946589   \n",
       "3           0.944728            0.997427           0.947143   \n",
       "4           0.944465            0.997411           0.944404   \n",
       "\n",
       "   split3_train_score  split4_test_score  split4_train_score  std_fit_time  \\\n",
       "0            0.994894           0.938817            0.993579      6.990797   \n",
       "1            0.995763           0.940241            0.994425      9.894910   \n",
       "2            0.996347           0.939667            0.994701     13.137854   \n",
       "3            0.996634           0.939211            0.994815     16.159649   \n",
       "4            0.996395           0.938875            0.995253     23.118533   \n",
       "\n",
       "   std_score_time  std_test_score  std_train_score  \n",
       "0        0.007131        0.002993         0.001392  \n",
       "1        0.007289        0.002177         0.001454  \n",
       "2        0.008965        0.003095         0.001459  \n",
       "3        0.011941        0.003061         0.001450  \n",
       "4        0.023641        0.002888         0.001497  \n",
       "\n",
       "[5 rows x 22 columns]"
      ]
     },
     "execution_count": 17,
     "metadata": {
      "tags": []
     },
     "output_type": "execute_result"
    }
   ],
   "source": [
    "results=pd.DataFrame(model.cv_results_)# getting varoius cv_scores and train_scores various values of hyperparameter given as parameter and storing it in a dataframe\n",
    "results.head()#printing the dataframe"
   ]
  },
  {
   "cell_type": "code",
   "execution_count": 0,
   "metadata": {
    "colab": {},
    "colab_type": "code",
    "collapsed": true,
    "id": "YlWq4WNxq72l"
   },
   "outputs": [],
   "source": [
    "\n",
    "results['mean_test_score']=results['mean_test_score']*100\n",
    "results=results.round(decimals=2)\n",
    "results['cv_error_score']=100-results['mean_test_score']"
   ]
  },
  {
   "cell_type": "markdown",
   "metadata": {
    "colab_type": "text",
    "id": "_TI-EqwGlzWx"
   },
   "source": [
    "# PLOTTING THE HEATMAP WITH  HYPERPARAMETERS FOR CV_ERROR SCORE "
   ]
  },
  {
   "cell_type": "code",
   "execution_count": 0,
   "metadata": {
    "colab": {},
    "colab_type": "code",
    "collapsed": true,
    "id": "NzG-ZY6MlYtG"
   },
   "outputs": [],
   "source": [
    "test_score_heatmap=results.pivot(\t'param_max_depth'\t,'param_n_estimators','cv_error_score'\t)"
   ]
  },
  {
   "cell_type": "code",
   "execution_count": 0,
   "metadata": {
    "colab": {
     "base_uri": "https://localhost:8080/",
     "height": 257
    },
    "colab_type": "code",
    "executionInfo": {
     "elapsed": 616,
     "status": "ok",
     "timestamp": 1549295557925,
     "user": {
      "displayName": "mayank aggarwal",
      "photoUrl": "",
      "userId": "04107947634097457088"
     },
     "user_tz": -330
    },
    "id": "h0HOdEmhlYap",
    "outputId": "f4849144-3fb5-472f-c4b9-3f964b543a22"
   },
   "outputs": [
    {
     "data": {
      "text/html": [
       "<div>\n",
       "<style scoped>\n",
       "    .dataframe tbody tr th:only-of-type {\n",
       "        vertical-align: middle;\n",
       "    }\n",
       "\n",
       "    .dataframe tbody tr th {\n",
       "        vertical-align: top;\n",
       "    }\n",
       "\n",
       "    .dataframe thead th {\n",
       "        text-align: right;\n",
       "    }\n",
       "</style>\n",
       "<table border=\"1\" class=\"dataframe\">\n",
       "  <thead>\n",
       "    <tr style=\"text-align: right;\">\n",
       "      <th>param_n_estimators</th>\n",
       "      <th>21</th>\n",
       "      <th>30</th>\n",
       "      <th>40</th>\n",
       "      <th>50</th>\n",
       "      <th>70</th>\n",
       "      <th>100</th>\n",
       "    </tr>\n",
       "    <tr>\n",
       "      <th>param_max_depth</th>\n",
       "      <th></th>\n",
       "      <th></th>\n",
       "      <th></th>\n",
       "      <th></th>\n",
       "      <th></th>\n",
       "      <th></th>\n",
       "    </tr>\n",
       "  </thead>\n",
       "  <tbody>\n",
       "    <tr>\n",
       "      <th>20</th>\n",
       "      <td>5.62</td>\n",
       "      <td>5.60</td>\n",
       "      <td>5.58</td>\n",
       "      <td>5.60</td>\n",
       "      <td>5.63</td>\n",
       "      <td>5.54</td>\n",
       "    </tr>\n",
       "    <tr>\n",
       "      <th>30</th>\n",
       "      <td>5.61</td>\n",
       "      <td>5.60</td>\n",
       "      <td>5.61</td>\n",
       "      <td>5.60</td>\n",
       "      <td>5.58</td>\n",
       "      <td>5.55</td>\n",
       "    </tr>\n",
       "    <tr>\n",
       "      <th>40</th>\n",
       "      <td>5.62</td>\n",
       "      <td>5.60</td>\n",
       "      <td>5.60</td>\n",
       "      <td>5.61</td>\n",
       "      <td>5.58</td>\n",
       "      <td>5.56</td>\n",
       "    </tr>\n",
       "    <tr>\n",
       "      <th>50</th>\n",
       "      <td>5.71</td>\n",
       "      <td>5.61</td>\n",
       "      <td>5.58</td>\n",
       "      <td>5.54</td>\n",
       "      <td>5.56</td>\n",
       "      <td>5.60</td>\n",
       "    </tr>\n",
       "    <tr>\n",
       "      <th>60</th>\n",
       "      <td>5.66</td>\n",
       "      <td>5.69</td>\n",
       "      <td>5.63</td>\n",
       "      <td>5.55</td>\n",
       "      <td>5.56</td>\n",
       "      <td>5.54</td>\n",
       "    </tr>\n",
       "    <tr>\n",
       "      <th>80</th>\n",
       "      <td>5.70</td>\n",
       "      <td>5.60</td>\n",
       "      <td>5.54</td>\n",
       "      <td>5.54</td>\n",
       "      <td>5.55</td>\n",
       "      <td>5.60</td>\n",
       "    </tr>\n",
       "  </tbody>\n",
       "</table>\n",
       "</div>"
      ],
      "text/plain": [
       "param_n_estimators   21    30    40    50    70    100\n",
       "param_max_depth                                       \n",
       "20                  5.62  5.60  5.58  5.60  5.63  5.54\n",
       "30                  5.61  5.60  5.61  5.60  5.58  5.55\n",
       "40                  5.62  5.60  5.60  5.61  5.58  5.56\n",
       "50                  5.71  5.61  5.58  5.54  5.56  5.60\n",
       "60                  5.66  5.69  5.63  5.55  5.56  5.54\n",
       "80                  5.70  5.60  5.54  5.54  5.55  5.60"
      ]
     },
     "execution_count": 20,
     "metadata": {
      "tags": []
     },
     "output_type": "execute_result"
    }
   ],
   "source": [
    "test_score_heatmap"
   ]
  },
  {
   "cell_type": "code",
   "execution_count": 0,
   "metadata": {
    "colab": {
     "base_uri": "https://localhost:8080/",
     "height": 378
    },
    "colab_type": "code",
    "executionInfo": {
     "elapsed": 1744,
     "status": "ok",
     "timestamp": 1549295561136,
     "user": {
      "displayName": "mayank aggarwal",
      "photoUrl": "",
      "userId": "04107947634097457088"
     },
     "user_tz": -330
    },
    "id": "QcyVeIh7l8vv",
    "outputId": "f9cd36cc-fded-43d8-c1f6-b9383423fbfd"
   },
   "outputs": [
    {
     "data": {
      "text/plain": [
       "<matplotlib.axes._subplots.AxesSubplot at 0x7f129a9e9898>"
      ]
     },
     "execution_count": 21,
     "metadata": {
      "tags": []
     },
     "output_type": "execute_result"
    },
    {
     "data": {
      "image/png": "[encoded data removed]",
      "text/plain": [
       "<Figure size 576x396 with 2 Axes>"
      ]
     },
     "metadata": {
      "tags": []
     },
     "output_type": "display_data"
    }
   ],
   "source": [
    "import seaborn as sns\n",
    "sns.heatmap(test_score_heatmap,annot=True,annot_kws={\"size\": 15}, fmt='g',linewidths=.3)"
   ]
  },
  {
   "cell_type": "code",
   "execution_count": 0,
   "metadata": {
    "colab": {
     "base_uri": "https://localhost:8080/",
     "height": 141
    },
    "colab_type": "code",
    "executionInfo": {
     "elapsed": 928,
     "status": "ok",
     "timestamp": 1549295563988,
     "user": {
      "displayName": "mayank aggarwal",
      "photoUrl": "",
      "userId": "04107947634097457088"
     },
     "user_tz": -330
    },
    "id": "YXCoY4_QmANE",
    "outputId": "46a6a343-0783-4a08-8806-50ff5479481b"
   },
   "outputs": [
    {
     "name": "stdout",
     "output_type": "stream",
     "text": [
      "RandomForestClassifier(bootstrap=True, class_weight={1: 0.5, 0: 0.5},\n",
      "            criterion='gini', max_depth=80, max_features='auto',\n",
      "            max_leaf_nodes=None, min_impurity_decrease=0.0,\n",
      "            min_impurity_split=None, min_samples_leaf=1,\n",
      "            min_samples_split=2, min_weight_fraction_leaf=0.0,\n",
      "            n_estimators=40, n_jobs=None, oob_score=False,\n",
      "            random_state=None, verbose=0, warm_start=False)\n"
     ]
    }
   ],
   "source": [
    "print(model.best_estimator_)#printing the best_estimator"
   ]
  },
  {
   "cell_type": "code",
   "execution_count": 0,
   "metadata": {
    "colab": {},
    "colab_type": "code",
    "collapsed": true,
    "id": "XhjaqHCiIWsz"
   },
   "outputs": [],
   "source": []
  },
  {
   "cell_type": "markdown",
   "metadata": {
    "colab_type": "text",
    "id": "CzPQCUJoO_jI"
   },
   "source": [
    "# FROM THE ABOVE HEATMAPS RESULTS FOR  CV DATA,WE FOUND THAT BEST HYPERPARAMETERS AS MAX_DEPTH=80 AND N_ESTIMATORS=40"
   ]
  },
  {
   "cell_type": "markdown",
   "metadata": {
    "colab_type": "text",
    "id": "BTrONZFPO1Et"
   },
   "source": [
    "# PLOTTING THE ROC CURVE FOR GETTING AUC SCORE"
   ]
  },
  {
   "cell_type": "code",
   "execution_count": 0,
   "metadata": {
    "colab": {
     "base_uri": "https://localhost:8080/",
     "height": 375
    },
    "colab_type": "code",
    "executionInfo": {
     "elapsed": 42691,
     "status": "ok",
     "timestamp": 1549295625388,
     "user": {
      "displayName": "mayank aggarwal",
      "photoUrl": "",
      "userId": "04107947634097457088"
     },
     "user_tz": -330
    },
    "id": "4lsQvgDsH8bH",
    "outputId": "75365746-6dfc-426b-da6b-7d468df6de44"
   },
   "outputs": [
    {
     "data": {
      "image/png": "[encoded data removed]",
      "text/plain": [
       "<Figure size 576x396 with 1 Axes>"
      ]
     },
     "metadata": {
      "tags": []
     },
     "output_type": "display_data"
    }
   ],
   "source": [
    "rf=RandomForestClassifier(criterion='gini',class_weight={1:.5,0:.5},max_depth=80 ,n_estimators=40)\n",
    "rf.fit(x_train_data,y_train)#fitting the model \n",
    "probs = rf.predict_proba(x_test_data)\n",
    "preds = probs[:,1]\n",
    "fpr, tpr, threshold = metrics.roc_curve(y_test, preds)\n",
    "roc_auc = metrics.auc(fpr, tpr)\n",
    "\n",
    "#plotting the auc curve with best hyperparameters to get auc value\n",
    "import matplotlib.pyplot as plt\n",
    "plt.title('Receiver Operating Characteristic')\n",
    "plt.plot(fpr, tpr, 'b', label = 'AUC = %0.2f' % roc_auc)\n",
    "plt.legend(loc = 'best')\n",
    "plt.plot([0, 1], [0, 1],'r--')\n",
    "plt.xlim([0, 1])\n",
    "plt.ylim([0, 1])\n",
    "plt.ylabel('True Positive Rate')\n",
    "plt.xlabel('False Positive Rate')\n",
    "plt.show()"
   ]
  },
  {
   "cell_type": "code",
   "execution_count": 0,
   "metadata": {
    "colab": {
     "base_uri": "https://localhost:8080/",
     "height": 34
    },
    "colab_type": "code",
    "executionInfo": {
     "elapsed": 31516,
     "status": "ok",
     "timestamp": 1549295625392,
     "user": {
      "displayName": "mayank aggarwal",
      "photoUrl": "",
      "userId": "04107947634097457088"
     },
     "user_tz": -330
    },
    "id": "6M_K4t1bPEw9",
    "outputId": "bfa8089f-a7e5-4144-dfc1-9477bbf3f9b9"
   },
   "outputs": [
    {
     "name": "stdout",
     "output_type": "stream",
     "text": [
      "accuracy from the ROC curve is found as  80.30889220018497\n"
     ]
    }
   ],
   "source": [
    "print('accuracy from the ROC curve is found as ',roc_auc*100)"
   ]
  },
  {
   "cell_type": "markdown",
   "metadata": {
    "colab_type": "text",
    "id": "L02W9vmpqcjH"
   },
   "source": [
    "# TESTING OUR MODEL ON TEST DATA AND CHECKING ITS PRECISION ,RECALL ,F1_FCORE"
   ]
  },
  {
   "cell_type": "code",
   "execution_count": 0,
   "metadata": {
    "colab": {
     "base_uri": "https://localhost:8080/",
     "height": 511
    },
    "colab_type": "code",
    "executionInfo": {
     "elapsed": 1568,
     "status": "ok",
     "timestamp": 1549295694611,
     "user": {
      "displayName": "mayank aggarwal",
      "photoUrl": "",
      "userId": "04107947634097457088"
     },
     "user_tz": -330
    },
    "id": "HIKew9mC4-Rx",
    "outputId": "49f079a7-cf0d-4d32-c59f-a2216dbb8e40"
   },
   "outputs": [
    {
     "name": "stdout",
     "output_type": "stream",
     "text": [
      "Accuracy on test set: 88.497%\n",
      "Precision on test set: 0.888\n",
      "Recall on test set: 0.994\n",
      "F1-Score on test set: 0.938\n",
      "Confusion Matrix of test set:\n",
      " [ [TN  FP]\n",
      " [FN TP] ]\n",
      "\n"
     ]
    },
    {
     "data": {
      "text/plain": [
       "<matplotlib.axes._subplots.AxesSubplot at 0x7f1293d5c208>"
      ]
     },
     "execution_count": 25,
     "metadata": {
      "tags": []
     },
     "output_type": "execute_result"
    },
    {
     "data": {
      "image/png": "[encoded data removed]",
      "text/plain": [
       "<Figure size 576x396 with 2 Axes>"
      ]
     },
     "metadata": {
      "tags": []
     },
     "output_type": "display_data"
    }
   ],
   "source": [
    "#Testing Accuracy on Test data  \n",
    "import seaborn as sns #importing seaborn as sns\n",
    "from sklearn.metrics import *#importing varoius metrics from sklearn\n",
    "#building the model\n",
    "y_pred = rf.predict(x_test_data) \n",
    "print(\"Accuracy on test set: %0.3f%%\"%(accuracy_score(y_test, y_pred)*100))#printing accuracy\n",
    "print(\"Precision on test set: %0.3f\"%(precision_score(y_test, y_pred)))#printing precision score\n",
    "print(\"Recall on test set: %0.3f\"%(recall_score(y_test, y_pred))) #printing recall\n",
    "print(\"F1-Score on test set: %0.3f\"%(f1_score(y_test, y_pred))) \n",
    "print(\"Confusion Matrix of test set:\\n [ [TN  FP]\\n [FN TP] ]\\n\") \n",
    "df_cm = pd.DataFrame(confusion_matrix(y_test, y_pred), range(2),range(2)) #generating the heatmap for confusion matrix\n",
    "sns.set(font_scale=1.4)#for label size\n",
    "sns.heatmap(df_cm, annot=True,annot_kws={\"size\": 16}, fmt='g',cmap=\"YlGnBu\")\n"
   ]
  },
  {
   "cell_type": "markdown",
   "metadata": {
    "colab_type": "text",
    "id": "KsvbjbW8qJ5r"
   },
   "source": [
    "# AVG WORD2VEC VECTORIZATION FOR RANDOM  FOREST IS COMPLETED "
   ]
  },
  {
   "cell_type": "markdown",
   "metadata": {
    "colab_type": "text",
    "id": "Hi44doP_1PhD"
   },
   "source": [
    "# OBJECTIVE #\n",
    "\n",
    "1.   <b>APPLYING GBDT WITH TFIDF_WORD2VEC VECTORIZATION\n",
    "\n",
    " *   FINDING THE BEST HYPERPARAMETER USING GRIDSEARCHCV WITH TRAIN DATA AND CROSS-VALIDATION DATA BY PLOTTING THE RESLUTS OF VAROIUS TRAIN DATA AND CROSS VALIDATION DATA\n",
    " * USING THE APROPRIATE VALUE OF HYPERPARAMETER ,TESTING ACCURACY ON TEST DATA\n",
    "    USING F1-SCORE\n",
    " * PLOTTING THE CONFUSION MATRIX TO GET THE  PRECISOIN ,RECALL VALUE WITH HELP OF HEATMAP\n",
    "  * PRINTING THE TOP 30 MOST IMPORTANT  FEATURES \n",
    "  \n"
   ]
  },
  {
   "cell_type": "code",
   "execution_count": 13,
   "metadata": {
    "colab": {
     "base_uri": "https://localhost:8080/",
     "height": 51
    },
    "colab_type": "code",
    "executionInfo": {
     "elapsed": 887,
     "status": "ok",
     "timestamp": 1549345831781,
     "user": {
      "displayName": "mayank aggarwal",
      "photoUrl": "",
      "userId": "04107947634097457088"
     },
     "user_tz": -330
    },
    "id": "A8IdBsvkrKiP",
    "outputId": "ee8a2a54-3fe4-4f36-a582-b9fb64a0310b"
   },
   "outputs": [
    {
     "name": "stdout",
     "output_type": "stream",
     "text": [
      "CPU times: user 3 µs, sys: 0 ns, total: 3 µs\n",
      "Wall time: 5.96 µs\n"
     ]
    }
   ],
   "source": [
    "from xgboost import XGBClassifier\n",
    "#biudling the model\n",
    "#using time series split method for cross-validation score\n",
    "from sklearn.model_selection import TimeSeriesSplit\n",
    "tscv = TimeSeriesSplit(n_splits=2) \n",
    "xg=XGBClassifier(n_jobs=-1)\n",
    "tuned_parameters=[{'max_depth':[20,30,40,50,80],'n_estimators':[30,40,50,70,100]}]\n",
    "#applying the model of decision tree and using gridsearchcv to find the best hyper parameter\n",
    "%time\n",
    "from sklearn.model_selection import GridSearchCV\n",
    "model = GridSearchCV(xg, tuned_parameters, scoring = 'f1', cv=tscv,n_jobs=-1)#building the gridsearchcv model\n",
    "\n"
   ]
  },
  {
   "cell_type": "code",
   "execution_count": 14,
   "metadata": {
    "colab": {
     "base_uri": "https://localhost:8080/",
     "height": 255
    },
    "colab_type": "code",
    "executionInfo": {
     "elapsed": 2902792,
     "status": "ok",
     "timestamp": 1549348735726,
     "user": {
      "displayName": "mayank aggarwal",
      "photoUrl": "",
      "userId": "04107947634097457088"
     },
     "user_tz": -330
    },
    "id": "ybHubaKQ19uk",
    "outputId": "22b96294-54ad-4732-e2e2-c6a28dc006cc"
   },
   "outputs": [
    {
     "name": "stdout",
     "output_type": "stream",
     "text": [
      "CPU times: user 3min 55s, sys: 200 ms, total: 3min 55s\n",
      "Wall time: 48min 21s\n"
     ]
    },
    {
     "data": {
      "text/plain": [
       "GridSearchCV(cv=TimeSeriesSplit(max_train_size=None, n_splits=2),\n",
       "       error_score='raise-deprecating',\n",
       "       estimator=XGBClassifier(base_score=0.5, booster='gbtree', colsample_bylevel=1,\n",
       "       colsample_bytree=1, gamma=0, learning_rate=0.1, max_delta_step=0,\n",
       "       max_depth=3, min_child_weight=1, missing=None, n_estimators=100,\n",
       "       n_jobs=-1, nthread=None, objective='binary:logistic',\n",
       "       random_state=0, reg_alpha=0, reg_lambda=1, scale_pos_weight=1,\n",
       "       seed=None, silent=True, subsample=1),\n",
       "       fit_params=None, iid='warn', n_jobs=-1,\n",
       "       param_grid=[{'max_depth': [20, 30, 40, 50, 80], 'n_estimators': [30, 40, 50, 70, 100]}],\n",
       "       pre_dispatch='2*n_jobs', refit=True, return_train_score='warn',\n",
       "       scoring='f1', verbose=0)"
      ]
     },
     "execution_count": 14,
     "metadata": {
      "tags": []
     },
     "output_type": "execute_result"
    }
   ],
   "source": [
    "%%time\n",
    "model.fit(x_train_data, y_train)#fiitting the training data\n"
   ]
  },
  {
   "cell_type": "code",
   "execution_count": 15,
   "metadata": {
    "colab": {
     "base_uri": "https://localhost:8080/",
     "height": 119
    },
    "colab_type": "code",
    "executionInfo": {
     "elapsed": 872,
     "status": "ok",
     "timestamp": 1549348936741,
     "user": {
      "displayName": "mayank aggarwal",
      "photoUrl": "",
      "userId": "04107947634097457088"
     },
     "user_tz": -330
    },
    "id": "8RHbOMIRKXeB",
    "outputId": "ba1e9229-698a-4a8b-e400-fbe124794066"
   },
   "outputs": [
    {
     "name": "stdout",
     "output_type": "stream",
     "text": [
      "XGBClassifier(base_score=0.5, booster='gbtree', colsample_bylevel=1,\n",
      "       colsample_bytree=1, gamma=0, learning_rate=0.1, max_delta_step=0,\n",
      "       max_depth=30, min_child_weight=1, missing=None, n_estimators=100,\n",
      "       n_jobs=-1, nthread=None, objective='binary:logistic',\n",
      "       random_state=0, reg_alpha=0, reg_lambda=1, scale_pos_weight=1,\n",
      "       seed=None, silent=True, subsample=1)\n"
     ]
    }
   ],
   "source": [
    "print(model.best_estimator_)#printing the best_estimator"
   ]
  },
  {
   "cell_type": "code",
   "execution_count": 16,
   "metadata": {
    "colab": {
     "base_uri": "https://localhost:8080/",
     "height": 479
    },
    "colab_type": "code",
    "executionInfo": {
     "elapsed": 874,
     "status": "ok",
     "timestamp": 1549348951812,
     "user": {
      "displayName": "mayank aggarwal",
      "photoUrl": "",
      "userId": "04107947634097457088"
     },
     "user_tz": -330
    },
    "id": "QBdBgmbjKnAZ",
    "outputId": "0e064fed-4d75-490d-95e8-e5a49efc25b8"
   },
   "outputs": [
    {
     "data": {
      "text/html": [
       "<div>\n",
       "<style scoped>\n",
       "    .dataframe tbody tr th:only-of-type {\n",
       "        vertical-align: middle;\n",
       "    }\n",
       "\n",
       "    .dataframe tbody tr th {\n",
       "        vertical-align: top;\n",
       "    }\n",
       "\n",
       "    .dataframe thead th {\n",
       "        text-align: right;\n",
       "    }\n",
       "</style>\n",
       "<table border=\"1\" class=\"dataframe\">\n",
       "  <thead>\n",
       "    <tr style=\"text-align: right;\">\n",
       "      <th></th>\n",
       "      <th>mean_fit_time</th>\n",
       "      <th>mean_score_time</th>\n",
       "      <th>mean_test_score</th>\n",
       "      <th>mean_train_score</th>\n",
       "      <th>param_max_depth</th>\n",
       "      <th>param_n_estimators</th>\n",
       "      <th>params</th>\n",
       "      <th>rank_test_score</th>\n",
       "      <th>split0_test_score</th>\n",
       "      <th>split0_train_score</th>\n",
       "      <th>split1_test_score</th>\n",
       "      <th>split1_train_score</th>\n",
       "      <th>std_fit_time</th>\n",
       "      <th>std_score_time</th>\n",
       "      <th>std_test_score</th>\n",
       "      <th>std_train_score</th>\n",
       "    </tr>\n",
       "  </thead>\n",
       "  <tbody>\n",
       "    <tr>\n",
       "      <th>0</th>\n",
       "      <td>56.692909</td>\n",
       "      <td>0.240994</td>\n",
       "      <td>0.943103</td>\n",
       "      <td>0.998652</td>\n",
       "      <td>20</td>\n",
       "      <td>30</td>\n",
       "      <td>{'max_depth': 20, 'n_estimators': 30}</td>\n",
       "      <td>25</td>\n",
       "      <td>0.942904</td>\n",
       "      <td>0.998564</td>\n",
       "      <td>0.943303</td>\n",
       "      <td>0.998739</td>\n",
       "      <td>22.817108</td>\n",
       "      <td>0.020875</td>\n",
       "      <td>0.000200</td>\n",
       "      <td>0.000088</td>\n",
       "    </tr>\n",
       "    <tr>\n",
       "      <th>1</th>\n",
       "      <td>74.767461</td>\n",
       "      <td>0.288751</td>\n",
       "      <td>0.943172</td>\n",
       "      <td>0.999622</td>\n",
       "      <td>20</td>\n",
       "      <td>40</td>\n",
       "      <td>{'max_depth': 20, 'n_estimators': 40}</td>\n",
       "      <td>24</td>\n",
       "      <td>0.943179</td>\n",
       "      <td>0.999641</td>\n",
       "      <td>0.943165</td>\n",
       "      <td>0.999603</td>\n",
       "      <td>31.492382</td>\n",
       "      <td>0.039201</td>\n",
       "      <td>0.000007</td>\n",
       "      <td>0.000019</td>\n",
       "    </tr>\n",
       "    <tr>\n",
       "      <th>2</th>\n",
       "      <td>86.954333</td>\n",
       "      <td>0.336272</td>\n",
       "      <td>0.944159</td>\n",
       "      <td>0.999964</td>\n",
       "      <td>20</td>\n",
       "      <td>50</td>\n",
       "      <td>{'max_depth': 20, 'n_estimators': 50}</td>\n",
       "      <td>11</td>\n",
       "      <td>0.944510</td>\n",
       "      <td>1.000000</td>\n",
       "      <td>0.943808</td>\n",
       "      <td>0.999928</td>\n",
       "      <td>35.210752</td>\n",
       "      <td>0.022879</td>\n",
       "      <td>0.000351</td>\n",
       "      <td>0.000036</td>\n",
       "    </tr>\n",
       "    <tr>\n",
       "      <th>3</th>\n",
       "      <td>122.297282</td>\n",
       "      <td>0.449713</td>\n",
       "      <td>0.944691</td>\n",
       "      <td>1.000000</td>\n",
       "      <td>20</td>\n",
       "      <td>70</td>\n",
       "      <td>{'max_depth': 20, 'n_estimators': 70}</td>\n",
       "      <td>6</td>\n",
       "      <td>0.945379</td>\n",
       "      <td>1.000000</td>\n",
       "      <td>0.944002</td>\n",
       "      <td>1.000000</td>\n",
       "      <td>51.638154</td>\n",
       "      <td>0.047013</td>\n",
       "      <td>0.000689</td>\n",
       "      <td>0.000000</td>\n",
       "    </tr>\n",
       "    <tr>\n",
       "      <th>4</th>\n",
       "      <td>160.436852</td>\n",
       "      <td>0.621527</td>\n",
       "      <td>0.944944</td>\n",
       "      <td>1.000000</td>\n",
       "      <td>20</td>\n",
       "      <td>100</td>\n",
       "      <td>{'max_depth': 20, 'n_estimators': 100}</td>\n",
       "      <td>5</td>\n",
       "      <td>0.945565</td>\n",
       "      <td>1.000000</td>\n",
       "      <td>0.944324</td>\n",
       "      <td>1.000000</td>\n",
       "      <td>70.165256</td>\n",
       "      <td>0.061967</td>\n",
       "      <td>0.000621</td>\n",
       "      <td>0.000000</td>\n",
       "    </tr>\n",
       "  </tbody>\n",
       "</table>\n",
       "</div>"
      ],
      "text/plain": [
       "   mean_fit_time  mean_score_time  mean_test_score  mean_train_score  \\\n",
       "0      56.692909         0.240994         0.943103          0.998652   \n",
       "1      74.767461         0.288751         0.943172          0.999622   \n",
       "2      86.954333         0.336272         0.944159          0.999964   \n",
       "3     122.297282         0.449713         0.944691          1.000000   \n",
       "4     160.436852         0.621527         0.944944          1.000000   \n",
       "\n",
       "  param_max_depth param_n_estimators                                  params  \\\n",
       "0              20                 30   {'max_depth': 20, 'n_estimators': 30}   \n",
       "1              20                 40   {'max_depth': 20, 'n_estimators': 40}   \n",
       "2              20                 50   {'max_depth': 20, 'n_estimators': 50}   \n",
       "3              20                 70   {'max_depth': 20, 'n_estimators': 70}   \n",
       "4              20                100  {'max_depth': 20, 'n_estimators': 100}   \n",
       "\n",
       "   rank_test_score  split0_test_score  split0_train_score  split1_test_score  \\\n",
       "0               25           0.942904            0.998564           0.943303   \n",
       "1               24           0.943179            0.999641           0.943165   \n",
       "2               11           0.944510            1.000000           0.943808   \n",
       "3                6           0.945379            1.000000           0.944002   \n",
       "4                5           0.945565            1.000000           0.944324   \n",
       "\n",
       "   split1_train_score  std_fit_time  std_score_time  std_test_score  \\\n",
       "0            0.998739     22.817108        0.020875        0.000200   \n",
       "1            0.999603     31.492382        0.039201        0.000007   \n",
       "2            0.999928     35.210752        0.022879        0.000351   \n",
       "3            1.000000     51.638154        0.047013        0.000689   \n",
       "4            1.000000     70.165256        0.061967        0.000621   \n",
       "\n",
       "   std_train_score  \n",
       "0         0.000088  \n",
       "1         0.000019  \n",
       "2         0.000036  \n",
       "3         0.000000  \n",
       "4         0.000000  "
      ]
     },
     "execution_count": 16,
     "metadata": {
      "tags": []
     },
     "output_type": "execute_result"
    }
   ],
   "source": [
    "results=pd.DataFrame(model.cv_results_)# getting varoius cv_scores and train_scores various values of hyperparameter given as parameter and storing it in a dataframe\n",
    "results.head()#printing the dataframe"
   ]
  },
  {
   "cell_type": "code",
   "execution_count": 0,
   "metadata": {
    "colab": {},
    "colab_type": "code",
    "collapsed": true,
    "id": "BSEQS_4mKm91"
   },
   "outputs": [],
   "source": [
    "results['mean_test_score']=results['mean_test_score']*100\n",
    "\n",
    "results=results.round(decimals=2)\n",
    "\n",
    "results['cv_error_score']=100-results['mean_test_score']\n",
    "\n"
   ]
  },
  {
   "cell_type": "markdown",
   "metadata": {
    "colab_type": "text",
    "id": "7BiVZ_OaLAsn"
   },
   "source": [
    "# PLOTTING THE HEATMAP WITH HYPERPARAMETERS FOR CV_ERROR SCORE"
   ]
  },
  {
   "cell_type": "code",
   "execution_count": 18,
   "metadata": {
    "colab": {
     "base_uri": "https://localhost:8080/",
     "height": 235
    },
    "colab_type": "code",
    "executionInfo": {
     "elapsed": 655,
     "status": "ok",
     "timestamp": 1549348959729,
     "user": {
      "displayName": "mayank aggarwal",
      "photoUrl": "",
      "userId": "04107947634097457088"
     },
     "user_tz": -330
    },
    "id": "GPqnGWk5Km6d",
    "outputId": "fa5efec1-a20a-44e0-f470-c4227e9ab0e3"
   },
   "outputs": [
    {
     "data": {
      "text/html": [
       "<div>\n",
       "<style scoped>\n",
       "    .dataframe tbody tr th:only-of-type {\n",
       "        vertical-align: middle;\n",
       "    }\n",
       "\n",
       "    .dataframe tbody tr th {\n",
       "        vertical-align: top;\n",
       "    }\n",
       "\n",
       "    .dataframe thead th {\n",
       "        text-align: right;\n",
       "    }\n",
       "</style>\n",
       "<table border=\"1\" class=\"dataframe\">\n",
       "  <thead>\n",
       "    <tr style=\"text-align: right;\">\n",
       "      <th>param_n_estimators</th>\n",
       "      <th>30</th>\n",
       "      <th>40</th>\n",
       "      <th>50</th>\n",
       "      <th>70</th>\n",
       "      <th>100</th>\n",
       "    </tr>\n",
       "    <tr>\n",
       "      <th>param_max_depth</th>\n",
       "      <th></th>\n",
       "      <th></th>\n",
       "      <th></th>\n",
       "      <th></th>\n",
       "      <th></th>\n",
       "    </tr>\n",
       "  </thead>\n",
       "  <tbody>\n",
       "    <tr>\n",
       "      <th>20</th>\n",
       "      <td>5.69</td>\n",
       "      <td>5.68</td>\n",
       "      <td>5.58</td>\n",
       "      <td>5.53</td>\n",
       "      <td>5.51</td>\n",
       "    </tr>\n",
       "    <tr>\n",
       "      <th>30</th>\n",
       "      <td>5.62</td>\n",
       "      <td>5.61</td>\n",
       "      <td>5.63</td>\n",
       "      <td>5.54</td>\n",
       "      <td>5.47</td>\n",
       "    </tr>\n",
       "    <tr>\n",
       "      <th>40</th>\n",
       "      <td>5.63</td>\n",
       "      <td>5.60</td>\n",
       "      <td>5.60</td>\n",
       "      <td>5.54</td>\n",
       "      <td>5.48</td>\n",
       "    </tr>\n",
       "    <tr>\n",
       "      <th>50</th>\n",
       "      <td>5.63</td>\n",
       "      <td>5.60</td>\n",
       "      <td>5.60</td>\n",
       "      <td>5.54</td>\n",
       "      <td>5.48</td>\n",
       "    </tr>\n",
       "    <tr>\n",
       "      <th>80</th>\n",
       "      <td>5.63</td>\n",
       "      <td>5.60</td>\n",
       "      <td>5.60</td>\n",
       "      <td>5.54</td>\n",
       "      <td>5.48</td>\n",
       "    </tr>\n",
       "  </tbody>\n",
       "</table>\n",
       "</div>"
      ],
      "text/plain": [
       "param_n_estimators   30    40    50    70    100\n",
       "param_max_depth                                 \n",
       "20                  5.69  5.68  5.58  5.53  5.51\n",
       "30                  5.62  5.61  5.63  5.54  5.47\n",
       "40                  5.63  5.60  5.60  5.54  5.48\n",
       "50                  5.63  5.60  5.60  5.54  5.48\n",
       "80                  5.63  5.60  5.60  5.54  5.48"
      ]
     },
     "execution_count": 18,
     "metadata": {
      "tags": []
     },
     "output_type": "execute_result"
    }
   ],
   "source": [
    "\n",
    "test_score_heatmap=results.pivot( 'param_max_depth' ,'param_n_estimators','cv_error_score'  )\n",
    "\n",
    "test_score_heatmap\n"
   ]
  },
  {
   "cell_type": "code",
   "execution_count": 19,
   "metadata": {
    "colab": {
     "base_uri": "https://localhost:8080/",
     "height": 378
    },
    "colab_type": "code",
    "executionInfo": {
     "elapsed": 1516,
     "status": "ok",
     "timestamp": 1549348964426,
     "user": {
      "displayName": "mayank aggarwal",
      "photoUrl": "",
      "userId": "04107947634097457088"
     },
     "user_tz": -330
    },
    "id": "-p4_Rk7kKm3L",
    "outputId": "38d38c52-2c9c-46d2-e881-a62dfca7b4fd"
   },
   "outputs": [
    {
     "data": {
      "text/plain": [
       "<matplotlib.axes._subplots.AxesSubplot at 0x7f6c983e6400>"
      ]
     },
     "execution_count": 19,
     "metadata": {
      "tags": []
     },
     "output_type": "execute_result"
    },
    {
     "data": {
      "image/png": "[encoded data removed]",
      "text/plain": [
       "<Figure size 576x396 with 2 Axes>"
      ]
     },
     "metadata": {
      "tags": []
     },
     "output_type": "display_data"
    }
   ],
   "source": [
    "import seaborn as sns\n",
    "sns.heatmap(test_score_heatmap,annot=True,annot_kws={\"size\": 15}, fmt='g',linewidths=.3)"
   ]
  },
  {
   "cell_type": "code",
   "execution_count": 20,
   "metadata": {
    "colab": {
     "base_uri": "https://localhost:8080/",
     "height": 119
    },
    "colab_type": "code",
    "executionInfo": {
     "elapsed": 924,
     "status": "ok",
     "timestamp": 1549348971388,
     "user": {
      "displayName": "mayank aggarwal",
      "photoUrl": "",
      "userId": "04107947634097457088"
     },
     "user_tz": -330
    },
    "id": "Ch14p_wnKm0B",
    "outputId": "ae10d36b-7d5c-4662-8e73-4a661833b017"
   },
   "outputs": [
    {
     "name": "stdout",
     "output_type": "stream",
     "text": [
      "XGBClassifier(base_score=0.5, booster='gbtree', colsample_bylevel=1,\n",
      "       colsample_bytree=1, gamma=0, learning_rate=0.1, max_delta_step=0,\n",
      "       max_depth=30, min_child_weight=1, missing=None, n_estimators=100,\n",
      "       n_jobs=-1, nthread=None, objective='binary:logistic',\n",
      "       random_state=0, reg_alpha=0, reg_lambda=1, scale_pos_weight=1,\n",
      "       seed=None, silent=True, subsample=1)\n"
     ]
    }
   ],
   "source": [
    "print(model.best_estimator_)#printing the best_estimator"
   ]
  },
  {
   "cell_type": "markdown",
   "metadata": {
    "colab_type": "text",
    "id": "98XxtuHIMZpX"
   },
   "source": [
    "# FROM THE ABOVE HEATMAPS RESULTS FOR  CV DATA,WE FOUND THAT BEST HYPERPARAMETERS AS MAX_DEPTH=30 AND N_ESTIMATORS=100"
   ]
  },
  {
   "cell_type": "markdown",
   "metadata": {
    "colab_type": "text",
    "id": "eiwIXv-7MrTy"
   },
   "source": [
    "# PLOTTING THE ROC CURVE FOR GETTING AUC SCORE"
   ]
  },
  {
   "cell_type": "code",
   "execution_count": 21,
   "metadata": {
    "colab": {
     "base_uri": "https://localhost:8080/",
     "height": 119
    },
    "colab_type": "code",
    "executionInfo": {
     "elapsed": 246764,
     "status": "ok",
     "timestamp": 1549349238893,
     "user": {
      "displayName": "mayank aggarwal",
      "photoUrl": "",
      "userId": "04107947634097457088"
     },
     "user_tz": -330
    },
    "id": "q0CtZx0OKmwu",
    "outputId": "be6e0a8f-e140-48e0-8443-0585b764e05d"
   },
   "outputs": [
    {
     "data": {
      "text/plain": [
       "XGBClassifier(base_score=0.5, booster='gbtree', colsample_bylevel=1,\n",
       "       colsample_bytree=1, gamma=0, learning_rate=0.1, max_delta_step=0,\n",
       "       max_depth=30, min_child_weight=1, missing=None, n_estimators=100,\n",
       "       n_jobs=-1, nthread=None, objective='binary:logistic',\n",
       "       random_state=0, reg_alpha=0, reg_lambda=1, scale_pos_weight=1,\n",
       "       seed=None, silent=True, subsample=1)"
      ]
     },
     "execution_count": 21,
     "metadata": {
      "tags": []
     },
     "output_type": "execute_result"
    }
   ],
   "source": [
    "xg=XGBClassifier(n_jobs=-1,max_depth=30 ,n_estimators=100)\n",
    "xg.fit(x_train_data,y_train)#fitting the model \n"
   ]
  },
  {
   "cell_type": "code",
   "execution_count": 22,
   "metadata": {
    "colab": {
     "base_uri": "https://localhost:8080/",
     "height": 376
    },
    "colab_type": "code",
    "executionInfo": {
     "elapsed": 2293,
     "status": "ok",
     "timestamp": 1549349285765,
     "user": {
      "displayName": "mayank aggarwal",
      "photoUrl": "",
      "userId": "04107947634097457088"
     },
     "user_tz": -330
    },
    "id": "2ziFa9Wzz6kV",
    "outputId": "b856df58-a515-4d67-cbc5-d7ef1fc965df"
   },
   "outputs": [
    {
     "data": {
      "image/png": "[encoded data removed]",
      "text/plain": [
       "<Figure size 576x396 with 1 Axes>"
      ]
     },
     "metadata": {
      "tags": []
     },
     "output_type": "display_data"
    }
   ],
   "source": [
    "probs = xg.predict_proba(x_test_data)\n",
    "preds = probs[:,1]\n",
    "fpr, tpr, threshold = metrics.roc_curve(y_test, preds)\n",
    "roc_auc = metrics.auc(fpr, tpr)\n",
    " \n",
    "import matplotlib.pyplot as plt\n",
    "plt.title('Receiver Operating Characteristic')\n",
    "plt.plot(fpr, tpr, 'b', label = 'AUC = %0.2f' % roc_auc)\n",
    "plt.legend(loc = 'best')\n",
    "plt.plot([0, 1], [0, 1],'r--')\n",
    "plt.xlim([0, 1])\n",
    "plt.ylim([0, 1])\n",
    "plt.ylabel('True Positive Rate')\n",
    "plt.xlabel('False Positive Rate')\n",
    "plt.show()"
   ]
  },
  {
   "cell_type": "code",
   "execution_count": 23,
   "metadata": {
    "colab": {
     "base_uri": "https://localhost:8080/",
     "height": 34
    },
    "colab_type": "code",
    "executionInfo": {
     "elapsed": 877,
     "status": "ok",
     "timestamp": 1549349291247,
     "user": {
      "displayName": "mayank aggarwal",
      "photoUrl": "",
      "userId": "04107947634097457088"
     },
     "user_tz": -330
    },
    "id": "gylUXWEUTjNi",
    "outputId": "290113d7-3f5c-4809-865b-d91e34a42cb0"
   },
   "outputs": [
    {
     "name": "stdout",
     "output_type": "stream",
     "text": [
      "accuracy from the ROC curve is found as  86.60876014798069\n"
     ]
    }
   ],
   "source": [
    "print('accuracy from the ROC curve is found as ',roc_auc*100)"
   ]
  },
  {
   "cell_type": "markdown",
   "metadata": {
    "colab_type": "text",
    "id": "Cc901Dv3xzzx"
   },
   "source": [
    "# TESTING OUR MODEL ON TEST DATA AND CHECKING ITS PRECISION ,RECALL ,F1_FCORE"
   ]
  },
  {
   "cell_type": "code",
   "execution_count": 25,
   "metadata": {
    "colab": {
     "base_uri": "https://localhost:8080/",
     "height": 504
    },
    "colab_type": "code",
    "executionInfo": {
     "elapsed": 2100,
     "status": "ok",
     "timestamp": 1549349369329,
     "user": {
      "displayName": "mayank aggarwal",
      "photoUrl": "",
      "userId": "04107947634097457088"
     },
     "user_tz": -330
    },
    "id": "7g9CPL9ak3LK",
    "outputId": "0875920a-5aec-4bd9-a057-e4a0c045a876"
   },
   "outputs": [
    {
     "name": "stdout",
     "output_type": "stream",
     "text": [
      "Accuracy on test set: 89.213%\n",
      "Precision on test set: 0.899\n",
      "Recall on test set: 0.989\n",
      "F1-Score on test set: 0.941\n",
      "Confusion Matrix of test set:\n",
      " [ [TN  FP]\n",
      " [FN TP] ]\n",
      "\n"
     ]
    },
    {
     "data": {
      "text/plain": [
       "<matplotlib.axes._subplots.AxesSubplot at 0x7f6c991ec470>"
      ]
     },
     "execution_count": 25,
     "metadata": {
      "tags": []
     },
     "output_type": "execute_result"
    },
    {
     "data": {
      "image/png": "[encoded data removed]",
      "text/plain": [
       "<Figure size 576x396 with 2 Axes>"
      ]
     },
     "metadata": {
      "tags": []
     },
     "output_type": "display_data"
    }
   ],
   "source": [
    "from sklearn.metrics import *\n",
    "y_pred = xg.predict(x_test_data)\n",
    "print(\"Accuracy on test set: %0.3f%%\"%(accuracy_score(y_test, y_pred)*100))#printing accuracy\n",
    "print(\"Precision on test set: %0.3f\"%(precision_score(y_test, y_pred)))#printing precision score\n",
    "print(\"Recall on test set: %0.3f\"%(recall_score(y_test, y_pred))) #printing recall\n",
    "print(\"F1-Score on test set: %0.3f\"%(f1_score(y_test, y_pred))) \n",
    "print(\"Confusion Matrix of test set:\\n [ [TN  FP]\\n [FN TP] ]\\n\") \n",
    "df_cm = pd.DataFrame(confusion_matrix(y_test, y_pred), range(2),range(2)) #generating the heatmap for confusion matrix\n",
    "sns.set(font_scale=1.4)#for label size\n",
    "sns.heatmap(df_cm, annot=True,annot_kws={\"size\": 16}, fmt='g')\n"
   ]
  },
  {
   "cell_type": "markdown",
   "metadata": {
    "colab_type": "text",
    "id": "Erv5xfjdy4Mb"
   },
   "source": [
    "# TFIDF WORD2VEC VECTORIZATION IS COMPLETED FOR GBDT"
   ]
  },
  {
   "cell_type": "markdown",
   "metadata": {},
   "source": [
    "# COMPARING ALL MODELS PERFORMANCE WITH DIFFERENT VECTORIZATIONS"
   ]
  },
  {
   "cell_type": "markdown",
   "metadata": {
    "colab": {},
    "colab_type": "code",
    "id": "66AObhdplgZp"
   },
   "source": []
  },
  {
   "cell_type": "code",
   "execution_count": 2,
   "metadata": {
    "collapsed": true
   },
   "outputs": [],
   "source": [
    "from tabulate import tabulate"
   ]
  },
  {
   "cell_type": "code",
   "execution_count": 9,
   "metadata": {},
   "outputs": [
    {
     "name": "stdout",
     "output_type": "stream",
     "text": [
      "PERFORMANCE EVALUATION for RANDOM FOREST FOR ALL VECTORIZATIONS\n",
      "╒══════════════════════╤═════════════╤════════════════╤════════════╤════════════╕\n",
      "│ VECTORIZATION        │   MAX_DEPTH │   N_ESTIMATORS │ F1_SCORE   │ ACCURACY   │\n",
      "╞══════════════════════╪═════════════╪════════════════╪════════════╪════════════╡\n",
      "│ BOW                  │          77 │             35 │ 93.5%      │ 86.3%      │\n",
      "├──────────────────────┼─────────────┼────────────────┼────────────┼────────────┤\n",
      "│ TF-IDF               │          73 │             21 │ 93.2%      │ 85.6%      │\n",
      "├──────────────────────┼─────────────┼────────────────┼────────────┼────────────┤\n",
      "│ AVG_WORD_2_VEC       │          80 │             70 │ 94.1%      │ 84.1%      │\n",
      "├──────────────────────┼─────────────┼────────────────┼────────────┼────────────┤\n",
      "│ TFIDF_AVG_WORD_2_VEC │          80 │             40 │ 93.1%      │ 80.1%      │\n",
      "╘══════════════════════╧═════════════╧════════════════╧════════════╧════════════╛\n"
     ]
    }
   ],
   "source": [
    "print(\"PERFORMANCE EVALUATION for RANDOM FOREST FOR ALL VECTORIZATIONS\")\n",
    "table = [[\"BOW\",'77','35','93.5%','86.3%'],[\"TF-IDF\",'73','21','93.2%','85.6%'], [\"AVG_WORD_2_VEC\",'80','70','94.1%','84.1%'],[\"TFIDF_AVG_WORD_2_VEC\",80,40,'93.1%','80.1%']]\n",
    "headers=['VECTORIZATION','MAX_DEPTH','N_ESTIMATORS','F1_SCORE','ACCURACY']\n",
    "print (tabulate(table, headers, tablefmt=\"fancy_grid\"))"
   ]
  },
  {
   "cell_type": "code",
   "execution_count": 10,
   "metadata": {},
   "outputs": [
    {
     "name": "stdout",
     "output_type": "stream",
     "text": [
      "PERFORMANCE EVALUATION for XG BOOST FOR ALL VECTORIZATIONS\n",
      "╒══════════════════════╤═════════════╤════════════════╤════════════╤════════════╕\n",
      "│ VECTORIZATION        │   MAX_DEPTH │   N_ESTIMATORS │ F1_SCORE   │ ACCURACY   │\n",
      "╞══════════════════════╪═════════════╪════════════════╪════════════╪════════════╡\n",
      "│ BOW                  │          27 │             50 │ 87.9%      │ 94.2%      │\n",
      "├──────────────────────┼─────────────┼────────────────┼────────────┼────────────┤\n",
      "│ TF-IDF               │          30 │             50 │ 94.6%      │ 87.3%      │\n",
      "├──────────────────────┼─────────────┼────────────────┼────────────┼────────────┤\n",
      "│ AVG_WORD_2_VEC       │          40 │            100 │ 94.4%      │ 88.6%      │\n",
      "├──────────────────────┼─────────────┼────────────────┼────────────┼────────────┤\n",
      "│ TFIDF_AVG_WORD_2_VEC │          30 │            100 │ 94.9%      │ 86.6%      │\n",
      "╘══════════════════════╧═════════════╧════════════════╧════════════╧════════════╛\n"
     ]
    }
   ],
   "source": [
    "print(\"PERFORMANCE EVALUATION for XG BOOST FOR ALL VECTORIZATIONS\")\n",
    "table = [[\"BOW\",'27','50','87.9%','94.2%'],[\"TF-IDF\",'30','50','94.6%','87.3%'], [\"AVG_WORD_2_VEC\",'40','100','94.4%','88.6%'],[\"TFIDF_AVG_WORD_2_VEC\",30,100,'94.9%','86.6%']]\n",
    "headers=['VECTORIZATION','MAX_DEPTH','N_ESTIMATORS','F1_SCORE','ACCURACY']\n",
    "print (tabulate(table, headers, tablefmt=\"fancy_grid\"))"
   ]
  },
  {
   "cell_type": "markdown",
   "metadata": {},
   "source": [
    "##   #####RANDOM FOREST AND XG_BOOST IS COMPLETED FOR ALL 4 VECTORIZATIONS  ###"
   ]
  },
  {
   "cell_type": "code",
   "execution_count": 12,
   "metadata": {},
   "outputs": [
    {
     "name": "stdout",
     "output_type": "stream",
     "text": [
      "### RANDOM FOREST AND XG_BOOST IS COMPLETED FOR ALL 4 VECTORIZATIONS\n"
     ]
    }
   ],
   "source": [
    "print(\"### RANDOM FOREST AND XG_BOOST IS COMPLETED FOR ALL 4 VECTORIZATIONS\")"
   ]
  },
  {
   "cell_type": "code",
   "execution_count": null,
   "metadata": {
    "collapsed": true
   },
   "outputs": [],
   "source": []
  }
 ],
 "metadata": {
  "colab": {
   "collapsed_sections": [],
   "name": " rf and gbdt_ tfidf_avg word2vec.ipynb",
   "provenance": [
    {
     "file_id": "1Fy2bwF-eFhX1wPxEmvoCW65EC6Q_9EdK",
     "timestamp": 1549221642538
    },
    {
     "file_id": "1vDw35BBt-y9WjGWf0HHwF1HqOoKUjX3O",
     "timestamp": 1549192324556
    },
    {
     "file_id": "1EzSmPMxViRAktrdeBWXUEp6ez9TrQQqb",
     "timestamp": 1549135430990
    },
    {
     "file_id": "1YrZGXsgV_wAU4O2vR_ZS8ZJeo3YZV-zL",
     "timestamp": 1549103206250
    }
   ],
   "version": "0.3.2"
  },
  "kernelspec": {
   "display_name": "Python 3",
   "language": "python",
   "name": "python3"
  },
  "language_info": {
   "codemirror_mode": {
    "name": "ipython",
    "version": 3
   },
   "file_extension": ".py",
   "mimetype": "text/x-python",
   "name": "python",
   "nbconvert_exporter": "python",
   "pygments_lexer": "ipython3",
   "version": "3.6.3"
  }
 },
 "nbformat": 4,
 "nbformat_minor": 1
}
