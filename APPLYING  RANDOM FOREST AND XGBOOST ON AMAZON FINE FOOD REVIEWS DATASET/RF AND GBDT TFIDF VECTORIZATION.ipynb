{
 "cells": [
  {
   "cell_type": "markdown",
   "metadata": {
    "colab_type": "text",
    "id": "JY8IF99xnx6g"
   },
   "source": [
    "# OBJECTIVE #\n",
    "\n",
    "1.   <b>APPLYING RANDOM FOREST WITH TFIDF VECTORIZATION\n",
    "\n",
    " *   FINDING THE BEST HYPERPARAMETER USING GRIDSEARCHCV WITH TRAIN DATA AND CROSS-VALIDATION DATA BY PLOTTING THE RESLUTS OF VAROIUS TRAIN DATA AND CROSS VALIDATION DATA\n",
    " * USING THE APROPRIATE VALUE OF HYPERPARAMETER ,TESTING ACCURACY ON TEST DATA\n",
    "    USING F1-SCORE\n",
    " * PLOTTING THE CONFUSION MATRIX TO GET THE  PRECISOIN ,RECALL VALUE WITH HELP OF HEATMAP\n",
    "  * PRINTING THE TOP 30 MOST IMPORTANT  FEATURES \n",
    "  \n"
   ]
  },
  {
   "cell_type": "code",
   "execution_count": 0,
   "metadata": {
    "colab": {},
    "colab_type": "code",
    "collapsed": true,
    "id": "sqKe2mXbEWul"
   },
   "outputs": [],
   "source": [
    "from sklearn.model_selection import train_test_split          #importing the necessary libraries\n",
    "from sklearn.model_selection import RandomizedSearchCV\n",
    "from sklearn.datasets import *\n",
    "from sklearn import naive_bayes\n",
    "from sklearn.feature_extraction.text import CountVectorizer\n",
    "from sklearn.feature_extraction.text import TfidfVectorizer\n",
    "import numpy as np\n",
    "import pandas as pd\n",
    "from sklearn import *\n",
    "import warnings\n",
    "warnings.filterwarnings(\"ignore\")\n",
    "from sklearn.ensemble import RandomForestClassifier\n"
   ]
  },
  {
   "cell_type": "code",
   "execution_count": 4,
   "metadata": {
    "colab": {
     "base_uri": "https://localhost:8080/",
     "height": 34
    },
    "colab_type": "code",
    "executionInfo": {
     "elapsed": 2060,
     "status": "ok",
     "timestamp": 1549181187034,
     "user": {
      "displayName": "mayank aggarwal",
      "photoUrl": "",
      "userId": "04107947634097457088"
     },
     "user_tz": -330
    },
    "id": "I9Yx8XnxTAXi",
    "outputId": "9a406f72-3124-4cd8-f8bc-fd4b4f199bc6"
   },
   "outputs": [
    {
     "name": "stdout",
     "output_type": "stream",
     "text": [
      "Drive already mounted at /content/gdrive; to attempt to forcibly remount, call drive.mount(\"/content/gdrive\", force_remount=True).\n"
     ]
    }
   ],
   "source": [
    "from google.colab import drive\n",
    "drive.mount('/content/gdrive')#geeting the content from the google drive"
   ]
  },
  {
   "cell_type": "code",
   "execution_count": 0,
   "metadata": {
    "colab": {},
    "colab_type": "code",
    "collapsed": true,
    "id": "UB3PtZmvTK7W"
   },
   "outputs": [],
   "source": [
    "final_processed_data=pd.read_csv(\"gdrive/My Drive/final_new_data.csv\")#loading the preprocessed data  with 100k points into dataframe "
   ]
  },
  {
   "cell_type": "code",
   "execution_count": 6,
   "metadata": {
    "colab": {
     "base_uri": "https://localhost:8080/",
     "height": 52
    },
    "colab_type": "code",
    "executionInfo": {
     "elapsed": 2702,
     "status": "ok",
     "timestamp": 1549181187708,
     "user": {
      "displayName": "mayank aggarwal",
      "photoUrl": "",
      "userId": "04107947634097457088"
     },
     "user_tz": -330
    },
    "id": "RENTF3KZTWSM",
    "outputId": "eb8dbd2e-384c-47e0-b6c0-4f67d952a929"
   },
   "outputs": [
    {
     "name": "stdout",
     "output_type": "stream",
     "text": [
      "88521\n",
      "11479\n"
     ]
    }
   ],
   "source": [
    "# getting the counts of 0 and 1 in \"SCORE\" column to know whether it is unbalanced data or not\n",
    "count_of_1=0\n",
    "count_of_0=0\n",
    "for i in final_processed_data['Score']:\n",
    "   if i==1:\n",
    "    count_of_1+=1\n",
    "   else:\n",
    "    count_of_0+=1\n",
    "print(count_of_1)\n",
    "print(count_of_0)\n",
    "#it is an imbalanced dataset"
   ]
  },
  {
   "cell_type": "code",
   "execution_count": 0,
   "metadata": {
    "colab": {},
    "colab_type": "code",
    "collapsed": true,
    "id": "icFP4UVuTY78"
   },
   "outputs": [],
   "source": [
    "#spliiting the data into train and test data\n",
    "x_train,x_test,y_train,y_test=model_selection.train_test_split(final_processed_data['CleanedText'].values,final_processed_data['Score'].values,test_size=0.3,shuffle=False)"
   ]
  },
  {
   "cell_type": "code",
   "execution_count": 8,
   "metadata": {
    "colab": {
     "base_uri": "https://localhost:8080/",
     "height": 34
    },
    "colab_type": "code",
    "executionInfo": {
     "elapsed": 5408,
     "status": "ok",
     "timestamp": 1549181190443,
     "user": {
      "displayName": "mayank aggarwal",
      "photoUrl": "",
      "userId": "04107947634097457088"
     },
     "user_tz": -330
    },
    "id": "5FGfuNoMTjjz",
    "outputId": "b645516f-5ae8-4072-bf23-72285f92d4f5"
   },
   "outputs": [
    {
     "name": "stdout",
     "output_type": "stream",
     "text": [
      "(70000, 16382)\n"
     ]
    }
   ],
   "source": [
    "vectorizer=TfidfVectorizer(min_df=2)#building the vertorizer with word counts equal and more then 2\n",
    "train_tfidf=vectorizer.fit_transform(x_train)#fitting the model on training data\n",
    "print(train_tfidf.shape)\n"
   ]
  },
  {
   "cell_type": "code",
   "execution_count": 9,
   "metadata": {
    "colab": {
     "base_uri": "https://localhost:8080/",
     "height": 34
    },
    "colab_type": "code",
    "executionInfo": {
     "elapsed": 6405,
     "status": "ok",
     "timestamp": 1549181191472,
     "user": {
      "displayName": "mayank aggarwal",
      "photoUrl": "",
      "userId": "04107947634097457088"
     },
     "user_tz": -330
    },
    "id": "X2_VGcIzTtAI",
    "outputId": "1f89b56b-23cd-42c9-d05d-2cfd146923e3"
   },
   "outputs": [
    {
     "name": "stdout",
     "output_type": "stream",
     "text": [
      "shape of x_test after tfidf vectorization  (30000, 16382)\n"
     ]
    }
   ],
   "source": [
    "test_tfidf=vectorizer.transform(x_test)#fitting the bow model on test data\n",
    "print(\"shape of x_test after tfidf vectorization \",test_tfidf.shape)"
   ]
  },
  {
   "cell_type": "code",
   "execution_count": 0,
   "metadata": {
    "colab": {},
    "colab_type": "code",
    "collapsed": true,
    "id": "DmWEEG_cWtuz"
   },
   "outputs": [],
   "source": [
    "\n",
    "\n",
    "\n"
   ]
  },
  {
   "cell_type": "code",
   "execution_count": 10,
   "metadata": {
    "colab": {
     "base_uri": "https://localhost:8080/",
     "height": 52
    },
    "colab_type": "code",
    "executionInfo": {
     "elapsed": 6382,
     "status": "ok",
     "timestamp": 1549181191478,
     "user": {
      "displayName": "mayank aggarwal",
      "photoUrl": "",
      "userId": "04107947634097457088"
     },
     "user_tz": -330
    },
    "id": "XDGtTsqllX5t",
    "outputId": "fabce089-f1cc-4672-94c9-5e22aa0744e8"
   },
   "outputs": [
    {
     "name": "stdout",
     "output_type": "stream",
     "text": [
      "CPU times: user 4 µs, sys: 1 µs, total: 5 µs\n",
      "Wall time: 7.63 µs\n"
     ]
    }
   ],
   "source": [
    "#biudling the model\n",
    "#using time series split method for cross-validation score\n",
    "from sklearn.model_selection import TimeSeriesSplit\n",
    "tscv = TimeSeriesSplit(n_splits=5) \n",
    "rf=RandomForestClassifier(criterion='gini',class_weight={1:.5,0:.5})\n",
    "tuned_parameters=[{'max_depth':[61,64,68,73,77,80],'n_estimators':[21,30,35,40,45,50]}]\n",
    "#applying the model of decision tree and using gridsearchcv to find the best hyper parameter\n",
    "%time\n",
    "from sklearn.model_selection import GridSearchCV\n",
    "model = GridSearchCV(rf, tuned_parameters, scoring = 'f1', cv=tscv,n_jobs=-1)#building the gridsearchcv model\n"
   ]
  },
  {
   "cell_type": "code",
   "execution_count": 11,
   "metadata": {
    "colab": {
     "base_uri": "https://localhost:8080/",
     "height": 283
    },
    "colab_type": "code",
    "executionInfo": {
     "elapsed": 1607533,
     "status": "ok",
     "timestamp": 1549182792658,
     "user": {
      "displayName": "mayank aggarwal",
      "photoUrl": "",
      "userId": "04107947634097457088"
     },
     "user_tz": -330
    },
    "id": "LCZJCchRlZUT",
    "outputId": "42ff4c6f-4807-4327-d697-f31e0e4443e7"
   },
   "outputs": [
    {
     "name": "stdout",
     "output_type": "stream",
     "text": [
      "CPU times: user 11.2 s, sys: 284 ms, total: 11.5 s\n",
      "Wall time: 26min 40s\n"
     ]
    },
    {
     "data": {
      "text/plain": [
       "GridSearchCV(cv=TimeSeriesSplit(max_train_size=None, n_splits=5),\n",
       "       error_score='raise-deprecating',\n",
       "       estimator=RandomForestClassifier(bootstrap=True, class_weight={1: 0.5, 0: 0.5},\n",
       "            criterion='gini', max_depth=None, max_features='auto',\n",
       "            max_leaf_nodes=None, min_impurity_decrease=0.0,\n",
       "            min_impurity_split=None, min_samples_leaf=1,\n",
       "            min_samples_split=2, min_weight_fraction_leaf=0.0,\n",
       "            n_estimators='warn', n_jobs=None, oob_score=False,\n",
       "            random_state=None, verbose=0, warm_start=False),\n",
       "       fit_params=None, iid='warn', n_jobs=-1,\n",
       "       param_grid=[{'max_depth': [61, 64, 68, 73, 77, 80], 'n_estimators': [21, 30, 35, 40, 45, 50]}],\n",
       "       pre_dispatch='2*n_jobs', refit=True, return_train_score='warn',\n",
       "       scoring='f1', verbose=0)"
      ]
     },
     "execution_count": 11,
     "metadata": {
      "tags": []
     },
     "output_type": "execute_result"
    }
   ],
   "source": [
    "%%time\n",
    "model.fit(train_tfidf, y_train)#fiitting the training data\n"
   ]
  },
  {
   "cell_type": "code",
   "execution_count": 20,
   "metadata": {
    "colab": {
     "base_uri": "https://localhost:8080/",
     "height": 141
    },
    "colab_type": "code",
    "executionInfo": {
     "elapsed": 993,
     "status": "ok",
     "timestamp": 1549183036402,
     "user": {
      "displayName": "mayank aggarwal",
      "photoUrl": "",
      "userId": "04107947634097457088"
     },
     "user_tz": -330
    },
    "id": "PMKWg1allZQv",
    "outputId": "9254fcbb-ded4-4844-d891-ea15d1901637"
   },
   "outputs": [
    {
     "name": "stdout",
     "output_type": "stream",
     "text": [
      "RandomForestClassifier(bootstrap=True, class_weight={1: 0.5, 0: 0.5},\n",
      "            criterion='gini', max_depth=73, max_features='auto',\n",
      "            max_leaf_nodes=None, min_impurity_decrease=0.0,\n",
      "            min_impurity_split=None, min_samples_leaf=1,\n",
      "            min_samples_split=2, min_weight_fraction_leaf=0.0,\n",
      "            n_estimators=21, n_jobs=None, oob_score=False,\n",
      "            random_state=None, verbose=0, warm_start=False)\n"
     ]
    }
   ],
   "source": [
    "print(model.best_estimator_)#printing the best_estimator"
   ]
  },
  {
   "cell_type": "code",
   "execution_count": 21,
   "metadata": {
    "colab": {
     "base_uri": "https://localhost:8080/",
     "height": 34
    },
    "colab_type": "code",
    "executionInfo": {
     "elapsed": 1144,
     "status": "ok",
     "timestamp": 1549183046219,
     "user": {
      "displayName": "mayank aggarwal",
      "photoUrl": "",
      "userId": "04107947634097457088"
     },
     "user_tz": -330
    },
    "id": "7lYgOfYPlZJ0",
    "outputId": "c774ac73-7a98-47c9-f4b1-aa926c100ae7"
   },
   "outputs": [
    {
     "name": "stdout",
     "output_type": "stream",
     "text": [
      "0.9376672494380418\n"
     ]
    }
   ],
   "source": [
    "print(model.score(test_tfidf,y_test))#checking the score on test_Data "
   ]
  },
  {
   "cell_type": "code",
   "execution_count": 22,
   "metadata": {
    "colab": {
     "base_uri": "https://localhost:8080/",
     "height": 2976
    },
    "colab_type": "code",
    "executionInfo": {
     "elapsed": 1437,
     "status": "ok",
     "timestamp": 1549183049361,
     "user": {
      "displayName": "mayank aggarwal",
      "photoUrl": "",
      "userId": "04107947634097457088"
     },
     "user_tz": -330
    },
    "id": "oHPSBPF0lZB_",
    "outputId": "a6223ffa-2058-499a-8a26-a0312ecc83a2"
   },
   "outputs": [
    {
     "data": {
      "text/html": [
       "<div>\n",
       "<style scoped>\n",
       "    .dataframe tbody tr th:only-of-type {\n",
       "        vertical-align: middle;\n",
       "    }\n",
       "\n",
       "    .dataframe tbody tr th {\n",
       "        vertical-align: top;\n",
       "    }\n",
       "\n",
       "    .dataframe thead th {\n",
       "        text-align: right;\n",
       "    }\n",
       "</style>\n",
       "<table border=\"1\" class=\"dataframe\">\n",
       "  <thead>\n",
       "    <tr style=\"text-align: right;\">\n",
       "      <th></th>\n",
       "      <th>mean_fit_time</th>\n",
       "      <th>mean_score_time</th>\n",
       "      <th>mean_test_score</th>\n",
       "      <th>mean_train_score</th>\n",
       "      <th>param_max_depth</th>\n",
       "      <th>param_n_estimators</th>\n",
       "      <th>params</th>\n",
       "      <th>rank_test_score</th>\n",
       "      <th>split0_test_score</th>\n",
       "      <th>split0_train_score</th>\n",
       "      <th>...</th>\n",
       "      <th>split2_test_score</th>\n",
       "      <th>split2_train_score</th>\n",
       "      <th>split3_test_score</th>\n",
       "      <th>split3_train_score</th>\n",
       "      <th>split4_test_score</th>\n",
       "      <th>split4_train_score</th>\n",
       "      <th>std_fit_time</th>\n",
       "      <th>std_score_time</th>\n",
       "      <th>std_test_score</th>\n",
       "      <th>std_train_score</th>\n",
       "    </tr>\n",
       "  </thead>\n",
       "  <tbody>\n",
       "    <tr>\n",
       "      <th>0</th>\n",
       "      <td>8.207892</td>\n",
       "      <td>0.125787</td>\n",
       "      <td>0.942826</td>\n",
       "      <td>0.968657</td>\n",
       "      <td>61</td>\n",
       "      <td>21</td>\n",
       "      <td>{'max_depth': 61, 'n_estimators': 21}</td>\n",
       "      <td>21</td>\n",
       "      <td>0.947683</td>\n",
       "      <td>0.971511</td>\n",
       "      <td>...</td>\n",
       "      <td>0.943117</td>\n",
       "      <td>0.967134</td>\n",
       "      <td>0.944341</td>\n",
       "      <td>0.967812</td>\n",
       "      <td>0.936761</td>\n",
       "      <td>0.966325</td>\n",
       "      <td>4.103327</td>\n",
       "      <td>0.004299</td>\n",
       "      <td>0.003553</td>\n",
       "      <td>0.002001</td>\n",
       "    </tr>\n",
       "    <tr>\n",
       "      <th>1</th>\n",
       "      <td>11.751353</td>\n",
       "      <td>0.175003</td>\n",
       "      <td>0.942623</td>\n",
       "      <td>0.968801</td>\n",
       "      <td>61</td>\n",
       "      <td>30</td>\n",
       "      <td>{'max_depth': 61, 'n_estimators': 30}</td>\n",
       "      <td>31</td>\n",
       "      <td>0.946783</td>\n",
       "      <td>0.971511</td>\n",
       "      <td>...</td>\n",
       "      <td>0.944164</td>\n",
       "      <td>0.967464</td>\n",
       "      <td>0.944132</td>\n",
       "      <td>0.968003</td>\n",
       "      <td>0.936369</td>\n",
       "      <td>0.967719</td>\n",
       "      <td>5.789906</td>\n",
       "      <td>0.009467</td>\n",
       "      <td>0.003521</td>\n",
       "      <td>0.001497</td>\n",
       "    </tr>\n",
       "    <tr>\n",
       "      <th>2</th>\n",
       "      <td>13.598304</td>\n",
       "      <td>0.196765</td>\n",
       "      <td>0.942794</td>\n",
       "      <td>0.968604</td>\n",
       "      <td>61</td>\n",
       "      <td>35</td>\n",
       "      <td>{'max_depth': 61, 'n_estimators': 35}</td>\n",
       "      <td>22</td>\n",
       "      <td>0.947140</td>\n",
       "      <td>0.971103</td>\n",
       "      <td>...</td>\n",
       "      <td>0.943736</td>\n",
       "      <td>0.967164</td>\n",
       "      <td>0.944137</td>\n",
       "      <td>0.968183</td>\n",
       "      <td>0.937417</td>\n",
       "      <td>0.966927</td>\n",
       "      <td>6.748325</td>\n",
       "      <td>0.010340</td>\n",
       "      <td>0.003227</td>\n",
       "      <td>0.001574</td>\n",
       "    </tr>\n",
       "    <tr>\n",
       "      <th>3</th>\n",
       "      <td>15.517566</td>\n",
       "      <td>0.228227</td>\n",
       "      <td>0.942471</td>\n",
       "      <td>0.968346</td>\n",
       "      <td>61</td>\n",
       "      <td>40</td>\n",
       "      <td>{'max_depth': 61, 'n_estimators': 40}</td>\n",
       "      <td>35</td>\n",
       "      <td>0.946612</td>\n",
       "      <td>0.970558</td>\n",
       "      <td>...</td>\n",
       "      <td>0.944078</td>\n",
       "      <td>0.968395</td>\n",
       "      <td>0.943900</td>\n",
       "      <td>0.966766</td>\n",
       "      <td>0.935755</td>\n",
       "      <td>0.966388</td>\n",
       "      <td>7.653642</td>\n",
       "      <td>0.008082</td>\n",
       "      <td>0.003663</td>\n",
       "      <td>0.001604</td>\n",
       "    </tr>\n",
       "    <tr>\n",
       "      <th>4</th>\n",
       "      <td>17.657933</td>\n",
       "      <td>0.251955</td>\n",
       "      <td>0.942571</td>\n",
       "      <td>0.968759</td>\n",
       "      <td>61</td>\n",
       "      <td>45</td>\n",
       "      <td>{'max_depth': 61, 'n_estimators': 45}</td>\n",
       "      <td>33</td>\n",
       "      <td>0.946679</td>\n",
       "      <td>0.971693</td>\n",
       "      <td>...</td>\n",
       "      <td>0.943736</td>\n",
       "      <td>0.967779</td>\n",
       "      <td>0.944114</td>\n",
       "      <td>0.968014</td>\n",
       "      <td>0.936270</td>\n",
       "      <td>0.967026</td>\n",
       "      <td>8.881016</td>\n",
       "      <td>0.009133</td>\n",
       "      <td>0.003481</td>\n",
       "      <td>0.001637</td>\n",
       "    </tr>\n",
       "    <tr>\n",
       "      <th>5</th>\n",
       "      <td>19.466890</td>\n",
       "      <td>0.272821</td>\n",
       "      <td>0.942472</td>\n",
       "      <td>0.969249</td>\n",
       "      <td>61</td>\n",
       "      <td>50</td>\n",
       "      <td>{'max_depth': 61, 'n_estimators': 50}</td>\n",
       "      <td>34</td>\n",
       "      <td>0.946831</td>\n",
       "      <td>0.971784</td>\n",
       "      <td>...</td>\n",
       "      <td>0.943907</td>\n",
       "      <td>0.968455</td>\n",
       "      <td>0.943814</td>\n",
       "      <td>0.967362</td>\n",
       "      <td>0.936484</td>\n",
       "      <td>0.967646</td>\n",
       "      <td>9.919978</td>\n",
       "      <td>0.014856</td>\n",
       "      <td>0.003465</td>\n",
       "      <td>0.001803</td>\n",
       "    </tr>\n",
       "    <tr>\n",
       "      <th>6</th>\n",
       "      <td>8.745539</td>\n",
       "      <td>0.132947</td>\n",
       "      <td>0.942786</td>\n",
       "      <td>0.970711</td>\n",
       "      <td>64</td>\n",
       "      <td>21</td>\n",
       "      <td>{'max_depth': 64, 'n_estimators': 21}</td>\n",
       "      <td>23</td>\n",
       "      <td>0.947392</td>\n",
       "      <td>0.974109</td>\n",
       "      <td>...</td>\n",
       "      <td>0.944121</td>\n",
       "      <td>0.969011</td>\n",
       "      <td>0.945129</td>\n",
       "      <td>0.968826</td>\n",
       "      <td>0.935909</td>\n",
       "      <td>0.969342</td>\n",
       "      <td>4.290776</td>\n",
       "      <td>0.003738</td>\n",
       "      <td>0.003944</td>\n",
       "      <td>0.002111</td>\n",
       "    </tr>\n",
       "    <tr>\n",
       "      <th>7</th>\n",
       "      <td>12.032980</td>\n",
       "      <td>0.176906</td>\n",
       "      <td>0.943092</td>\n",
       "      <td>0.970263</td>\n",
       "      <td>64</td>\n",
       "      <td>30</td>\n",
       "      <td>{'max_depth': 64, 'n_estimators': 30}</td>\n",
       "      <td>14</td>\n",
       "      <td>0.948131</td>\n",
       "      <td>0.972512</td>\n",
       "      <td>...</td>\n",
       "      <td>0.943554</td>\n",
       "      <td>0.968470</td>\n",
       "      <td>0.944465</td>\n",
       "      <td>0.969289</td>\n",
       "      <td>0.936956</td>\n",
       "      <td>0.969342</td>\n",
       "      <td>5.994120</td>\n",
       "      <td>0.008506</td>\n",
       "      <td>0.003625</td>\n",
       "      <td>0.001558</td>\n",
       "    </tr>\n",
       "    <tr>\n",
       "      <th>8</th>\n",
       "      <td>14.123110</td>\n",
       "      <td>0.203084</td>\n",
       "      <td>0.942750</td>\n",
       "      <td>0.970345</td>\n",
       "      <td>64</td>\n",
       "      <td>35</td>\n",
       "      <td>{'max_depth': 64, 'n_estimators': 35}</td>\n",
       "      <td>24</td>\n",
       "      <td>0.947268</td>\n",
       "      <td>0.972057</td>\n",
       "      <td>...</td>\n",
       "      <td>0.943521</td>\n",
       "      <td>0.969463</td>\n",
       "      <td>0.944379</td>\n",
       "      <td>0.970159</td>\n",
       "      <td>0.936570</td>\n",
       "      <td>0.968548</td>\n",
       "      <td>7.011075</td>\n",
       "      <td>0.009581</td>\n",
       "      <td>0.003533</td>\n",
       "      <td>0.001288</td>\n",
       "    </tr>\n",
       "    <tr>\n",
       "      <th>9</th>\n",
       "      <td>16.386997</td>\n",
       "      <td>0.228492</td>\n",
       "      <td>0.942637</td>\n",
       "      <td>0.970659</td>\n",
       "      <td>64</td>\n",
       "      <td>40</td>\n",
       "      <td>{'max_depth': 64, 'n_estimators': 40}</td>\n",
       "      <td>29</td>\n",
       "      <td>0.947216</td>\n",
       "      <td>0.972467</td>\n",
       "      <td>...</td>\n",
       "      <td>0.943993</td>\n",
       "      <td>0.969237</td>\n",
       "      <td>0.944066</td>\n",
       "      <td>0.969888</td>\n",
       "      <td>0.936289</td>\n",
       "      <td>0.969595</td>\n",
       "      <td>8.340040</td>\n",
       "      <td>0.010531</td>\n",
       "      <td>0.003638</td>\n",
       "      <td>0.001350</td>\n",
       "    </tr>\n",
       "    <tr>\n",
       "      <th>10</th>\n",
       "      <td>18.190747</td>\n",
       "      <td>0.255849</td>\n",
       "      <td>0.942665</td>\n",
       "      <td>0.970313</td>\n",
       "      <td>64</td>\n",
       "      <td>45</td>\n",
       "      <td>{'max_depth': 64, 'n_estimators': 45}</td>\n",
       "      <td>27</td>\n",
       "      <td>0.947340</td>\n",
       "      <td>0.972968</td>\n",
       "      <td>...</td>\n",
       "      <td>0.943940</td>\n",
       "      <td>0.969177</td>\n",
       "      <td>0.944538</td>\n",
       "      <td>0.968725</td>\n",
       "      <td>0.936055</td>\n",
       "      <td>0.968043</td>\n",
       "      <td>9.231099</td>\n",
       "      <td>0.014885</td>\n",
       "      <td>0.003798</td>\n",
       "      <td>0.002073</td>\n",
       "    </tr>\n",
       "    <tr>\n",
       "      <th>11</th>\n",
       "      <td>20.558136</td>\n",
       "      <td>0.284757</td>\n",
       "      <td>0.942728</td>\n",
       "      <td>0.970934</td>\n",
       "      <td>64</td>\n",
       "      <td>50</td>\n",
       "      <td>{'max_depth': 64, 'n_estimators': 50}</td>\n",
       "      <td>25</td>\n",
       "      <td>0.947349</td>\n",
       "      <td>0.974063</td>\n",
       "      <td>...</td>\n",
       "      <td>0.943950</td>\n",
       "      <td>0.969960</td>\n",
       "      <td>0.944361</td>\n",
       "      <td>0.970284</td>\n",
       "      <td>0.936184</td>\n",
       "      <td>0.968503</td>\n",
       "      <td>10.358606</td>\n",
       "      <td>0.011003</td>\n",
       "      <td>0.003720</td>\n",
       "      <td>0.001894</td>\n",
       "    </tr>\n",
       "    <tr>\n",
       "      <th>12</th>\n",
       "      <td>9.144402</td>\n",
       "      <td>0.134296</td>\n",
       "      <td>0.943007</td>\n",
       "      <td>0.972365</td>\n",
       "      <td>68</td>\n",
       "      <td>21</td>\n",
       "      <td>{'max_depth': 68, 'n_estimators': 21}</td>\n",
       "      <td>17</td>\n",
       "      <td>0.947088</td>\n",
       "      <td>0.973789</td>\n",
       "      <td>...</td>\n",
       "      <td>0.944803</td>\n",
       "      <td>0.972666</td>\n",
       "      <td>0.944722</td>\n",
       "      <td>0.971201</td>\n",
       "      <td>0.937136</td>\n",
       "      <td>0.971516</td>\n",
       "      <td>4.697342</td>\n",
       "      <td>0.006973</td>\n",
       "      <td>0.003472</td>\n",
       "      <td>0.000925</td>\n",
       "    </tr>\n",
       "    <tr>\n",
       "      <th>13</th>\n",
       "      <td>12.795353</td>\n",
       "      <td>0.185571</td>\n",
       "      <td>0.942633</td>\n",
       "      <td>0.971862</td>\n",
       "      <td>68</td>\n",
       "      <td>30</td>\n",
       "      <td>{'max_depth': 68, 'n_estimators': 30}</td>\n",
       "      <td>30</td>\n",
       "      <td>0.946797</td>\n",
       "      <td>0.973013</td>\n",
       "      <td>...</td>\n",
       "      <td>0.943940</td>\n",
       "      <td>0.971001</td>\n",
       "      <td>0.944023</td>\n",
       "      <td>0.970872</td>\n",
       "      <td>0.936773</td>\n",
       "      <td>0.971861</td>\n",
       "      <td>6.477367</td>\n",
       "      <td>0.015782</td>\n",
       "      <td>0.003356</td>\n",
       "      <td>0.000841</td>\n",
       "    </tr>\n",
       "    <tr>\n",
       "      <th>14</th>\n",
       "      <td>15.200046</td>\n",
       "      <td>0.212584</td>\n",
       "      <td>0.942648</td>\n",
       "      <td>0.972416</td>\n",
       "      <td>68</td>\n",
       "      <td>35</td>\n",
       "      <td>{'max_depth': 68, 'n_estimators': 35}</td>\n",
       "      <td>28</td>\n",
       "      <td>0.946783</td>\n",
       "      <td>0.973926</td>\n",
       "      <td>...</td>\n",
       "      <td>0.942956</td>\n",
       "      <td>0.972378</td>\n",
       "      <td>0.944270</td>\n",
       "      <td>0.970204</td>\n",
       "      <td>0.937405</td>\n",
       "      <td>0.971397</td>\n",
       "      <td>7.605594</td>\n",
       "      <td>0.012316</td>\n",
       "      <td>0.003098</td>\n",
       "      <td>0.001503</td>\n",
       "    </tr>\n",
       "    <tr>\n",
       "      <th>15</th>\n",
       "      <td>17.023168</td>\n",
       "      <td>0.234259</td>\n",
       "      <td>0.942667</td>\n",
       "      <td>0.972219</td>\n",
       "      <td>68</td>\n",
       "      <td>40</td>\n",
       "      <td>{'max_depth': 68, 'n_estimators': 40}</td>\n",
       "      <td>26</td>\n",
       "      <td>0.947573</td>\n",
       "      <td>0.974017</td>\n",
       "      <td>...</td>\n",
       "      <td>0.943478</td>\n",
       "      <td>0.971651</td>\n",
       "      <td>0.943874</td>\n",
       "      <td>0.971598</td>\n",
       "      <td>0.936527</td>\n",
       "      <td>0.970654</td>\n",
       "      <td>8.490147</td>\n",
       "      <td>0.008750</td>\n",
       "      <td>0.003592</td>\n",
       "      <td>0.001209</td>\n",
       "    </tr>\n",
       "    <tr>\n",
       "      <th>16</th>\n",
       "      <td>19.363737</td>\n",
       "      <td>0.266417</td>\n",
       "      <td>0.942464</td>\n",
       "      <td>0.972856</td>\n",
       "      <td>68</td>\n",
       "      <td>45</td>\n",
       "      <td>{'max_depth': 68, 'n_estimators': 45}</td>\n",
       "      <td>36</td>\n",
       "      <td>0.946893</td>\n",
       "      <td>0.975207</td>\n",
       "      <td>...</td>\n",
       "      <td>0.944336</td>\n",
       "      <td>0.972408</td>\n",
       "      <td>0.943852</td>\n",
       "      <td>0.971655</td>\n",
       "      <td>0.936044</td>\n",
       "      <td>0.971452</td>\n",
       "      <td>9.870024</td>\n",
       "      <td>0.013162</td>\n",
       "      <td>0.003684</td>\n",
       "      <td>0.001388</td>\n",
       "    </tr>\n",
       "    <tr>\n",
       "      <th>17</th>\n",
       "      <td>21.581563</td>\n",
       "      <td>0.289683</td>\n",
       "      <td>0.942622</td>\n",
       "      <td>0.971730</td>\n",
       "      <td>68</td>\n",
       "      <td>50</td>\n",
       "      <td>{'max_depth': 68, 'n_estimators': 50}</td>\n",
       "      <td>32</td>\n",
       "      <td>0.946964</td>\n",
       "      <td>0.973698</td>\n",
       "      <td>...</td>\n",
       "      <td>0.944288</td>\n",
       "      <td>0.971077</td>\n",
       "      <td>0.943693</td>\n",
       "      <td>0.970657</td>\n",
       "      <td>0.936455</td>\n",
       "      <td>0.970156</td>\n",
       "      <td>10.989827</td>\n",
       "      <td>0.018782</td>\n",
       "      <td>0.003511</td>\n",
       "      <td>0.001393</td>\n",
       "    </tr>\n",
       "    <tr>\n",
       "      <th>18</th>\n",
       "      <td>9.801576</td>\n",
       "      <td>0.143186</td>\n",
       "      <td>0.943570</td>\n",
       "      <td>0.974136</td>\n",
       "      <td>73</td>\n",
       "      <td>21</td>\n",
       "      <td>{'max_depth': 73, 'n_estimators': 21}</td>\n",
       "      <td>1</td>\n",
       "      <td>0.947936</td>\n",
       "      <td>0.975298</td>\n",
       "      <td>...</td>\n",
       "      <td>0.944793</td>\n",
       "      <td>0.973637</td>\n",
       "      <td>0.945946</td>\n",
       "      <td>0.973770</td>\n",
       "      <td>0.936736</td>\n",
       "      <td>0.973006</td>\n",
       "      <td>5.015770</td>\n",
       "      <td>0.004339</td>\n",
       "      <td>0.003852</td>\n",
       "      <td>0.000861</td>\n",
       "    </tr>\n",
       "    <tr>\n",
       "      <th>19</th>\n",
       "      <td>14.160118</td>\n",
       "      <td>0.194498</td>\n",
       "      <td>0.943043</td>\n",
       "      <td>0.973793</td>\n",
       "      <td>73</td>\n",
       "      <td>30</td>\n",
       "      <td>{'max_depth': 73, 'n_estimators': 30}</td>\n",
       "      <td>15</td>\n",
       "      <td>0.947807</td>\n",
       "      <td>0.975161</td>\n",
       "      <td>...</td>\n",
       "      <td>0.943773</td>\n",
       "      <td>0.973348</td>\n",
       "      <td>0.944318</td>\n",
       "      <td>0.972666</td>\n",
       "      <td>0.936718</td>\n",
       "      <td>0.973708</td>\n",
       "      <td>7.300224</td>\n",
       "      <td>0.013547</td>\n",
       "      <td>0.003607</td>\n",
       "      <td>0.000828</td>\n",
       "    </tr>\n",
       "    <tr>\n",
       "      <th>20</th>\n",
       "      <td>16.824344</td>\n",
       "      <td>0.218368</td>\n",
       "      <td>0.943022</td>\n",
       "      <td>0.974422</td>\n",
       "      <td>73</td>\n",
       "      <td>35</td>\n",
       "      <td>{'max_depth': 73, 'n_estimators': 35}</td>\n",
       "      <td>16</td>\n",
       "      <td>0.947435</td>\n",
       "      <td>0.976628</td>\n",
       "      <td>...</td>\n",
       "      <td>0.944154</td>\n",
       "      <td>0.973120</td>\n",
       "      <td>0.944497</td>\n",
       "      <td>0.973622</td>\n",
       "      <td>0.937357</td>\n",
       "      <td>0.973425</td>\n",
       "      <td>8.489164</td>\n",
       "      <td>0.012449</td>\n",
       "      <td>0.003372</td>\n",
       "      <td>0.001341</td>\n",
       "    </tr>\n",
       "    <tr>\n",
       "      <th>21</th>\n",
       "      <td>18.932823</td>\n",
       "      <td>0.247959</td>\n",
       "      <td>0.943131</td>\n",
       "      <td>0.973988</td>\n",
       "      <td>73</td>\n",
       "      <td>40</td>\n",
       "      <td>{'max_depth': 73, 'n_estimators': 40}</td>\n",
       "      <td>13</td>\n",
       "      <td>0.947449</td>\n",
       "      <td>0.976307</td>\n",
       "      <td>...</td>\n",
       "      <td>0.944242</td>\n",
       "      <td>0.973819</td>\n",
       "      <td>0.944603</td>\n",
       "      <td>0.972370</td>\n",
       "      <td>0.937695</td>\n",
       "      <td>0.972815</td>\n",
       "      <td>9.928362</td>\n",
       "      <td>0.013907</td>\n",
       "      <td>0.003279</td>\n",
       "      <td>0.001401</td>\n",
       "    </tr>\n",
       "    <tr>\n",
       "      <th>22</th>\n",
       "      <td>21.523917</td>\n",
       "      <td>0.281439</td>\n",
       "      <td>0.942929</td>\n",
       "      <td>0.974456</td>\n",
       "      <td>73</td>\n",
       "      <td>45</td>\n",
       "      <td>{'max_depth': 73, 'n_estimators': 45}</td>\n",
       "      <td>19</td>\n",
       "      <td>0.947407</td>\n",
       "      <td>0.976399</td>\n",
       "      <td>...</td>\n",
       "      <td>0.943894</td>\n",
       "      <td>0.974655</td>\n",
       "      <td>0.944543</td>\n",
       "      <td>0.973235</td>\n",
       "      <td>0.937122</td>\n",
       "      <td>0.972906</td>\n",
       "      <td>11.167164</td>\n",
       "      <td>0.017544</td>\n",
       "      <td>0.003431</td>\n",
       "      <td>0.001273</td>\n",
       "    </tr>\n",
       "    <tr>\n",
       "      <th>23</th>\n",
       "      <td>24.093993</td>\n",
       "      <td>0.315355</td>\n",
       "      <td>0.942896</td>\n",
       "      <td>0.974129</td>\n",
       "      <td>73</td>\n",
       "      <td>50</td>\n",
       "      <td>{'max_depth': 73, 'n_estimators': 50}</td>\n",
       "      <td>20</td>\n",
       "      <td>0.947168</td>\n",
       "      <td>0.976674</td>\n",
       "      <td>...</td>\n",
       "      <td>0.944550</td>\n",
       "      <td>0.973819</td>\n",
       "      <td>0.944147</td>\n",
       "      <td>0.973702</td>\n",
       "      <td>0.936816</td>\n",
       "      <td>0.972979</td>\n",
       "      <td>12.694931</td>\n",
       "      <td>0.015362</td>\n",
       "      <td>0.003485</td>\n",
       "      <td>0.001305</td>\n",
       "    </tr>\n",
       "    <tr>\n",
       "      <th>24</th>\n",
       "      <td>10.646736</td>\n",
       "      <td>0.146012</td>\n",
       "      <td>0.943391</td>\n",
       "      <td>0.975058</td>\n",
       "      <td>77</td>\n",
       "      <td>21</td>\n",
       "      <td>{'max_depth': 77, 'n_estimators': 21}</td>\n",
       "      <td>4</td>\n",
       "      <td>0.946902</td>\n",
       "      <td>0.975756</td>\n",
       "      <td>...</td>\n",
       "      <td>0.944275</td>\n",
       "      <td>0.974975</td>\n",
       "      <td>0.944704</td>\n",
       "      <td>0.974934</td>\n",
       "      <td>0.938099</td>\n",
       "      <td>0.974200</td>\n",
       "      <td>5.573074</td>\n",
       "      <td>0.006976</td>\n",
       "      <td>0.002933</td>\n",
       "      <td>0.000526</td>\n",
       "    </tr>\n",
       "    <tr>\n",
       "      <th>25</th>\n",
       "      <td>15.027038</td>\n",
       "      <td>0.198350</td>\n",
       "      <td>0.943395</td>\n",
       "      <td>0.975380</td>\n",
       "      <td>77</td>\n",
       "      <td>30</td>\n",
       "      <td>{'max_depth': 77, 'n_estimators': 30}</td>\n",
       "      <td>3</td>\n",
       "      <td>0.947464</td>\n",
       "      <td>0.976582</td>\n",
       "      <td>...</td>\n",
       "      <td>0.944503</td>\n",
       "      <td>0.974899</td>\n",
       "      <td>0.945400</td>\n",
       "      <td>0.975872</td>\n",
       "      <td>0.937099</td>\n",
       "      <td>0.974100</td>\n",
       "      <td>7.834751</td>\n",
       "      <td>0.009778</td>\n",
       "      <td>0.003528</td>\n",
       "      <td>0.000844</td>\n",
       "    </tr>\n",
       "    <tr>\n",
       "      <th>26</th>\n",
       "      <td>17.612787</td>\n",
       "      <td>0.228716</td>\n",
       "      <td>0.943262</td>\n",
       "      <td>0.976097</td>\n",
       "      <td>77</td>\n",
       "      <td>35</td>\n",
       "      <td>{'max_depth': 77, 'n_estimators': 35}</td>\n",
       "      <td>8</td>\n",
       "      <td>0.948274</td>\n",
       "      <td>0.977962</td>\n",
       "      <td>...</td>\n",
       "      <td>0.944409</td>\n",
       "      <td>0.975737</td>\n",
       "      <td>0.944460</td>\n",
       "      <td>0.975300</td>\n",
       "      <td>0.937122</td>\n",
       "      <td>0.974529</td>\n",
       "      <td>9.092349</td>\n",
       "      <td>0.009623</td>\n",
       "      <td>0.003662</td>\n",
       "      <td>0.001220</td>\n",
       "    </tr>\n",
       "    <tr>\n",
       "      <th>27</th>\n",
       "      <td>19.867350</td>\n",
       "      <td>0.254089</td>\n",
       "      <td>0.943224</td>\n",
       "      <td>0.975760</td>\n",
       "      <td>77</td>\n",
       "      <td>40</td>\n",
       "      <td>{'max_depth': 77, 'n_estimators': 40}</td>\n",
       "      <td>10</td>\n",
       "      <td>0.947978</td>\n",
       "      <td>0.978515</td>\n",
       "      <td>...</td>\n",
       "      <td>0.943959</td>\n",
       "      <td>0.975158</td>\n",
       "      <td>0.945048</td>\n",
       "      <td>0.975254</td>\n",
       "      <td>0.936950</td>\n",
       "      <td>0.974036</td>\n",
       "      <td>10.493998</td>\n",
       "      <td>0.013925</td>\n",
       "      <td>0.003658</td>\n",
       "      <td>0.001496</td>\n",
       "    </tr>\n",
       "    <tr>\n",
       "      <th>28</th>\n",
       "      <td>22.579286</td>\n",
       "      <td>0.295588</td>\n",
       "      <td>0.943239</td>\n",
       "      <td>0.975469</td>\n",
       "      <td>77</td>\n",
       "      <td>45</td>\n",
       "      <td>{'max_depth': 77, 'n_estimators': 45}</td>\n",
       "      <td>9</td>\n",
       "      <td>0.947349</td>\n",
       "      <td>0.978238</td>\n",
       "      <td>...</td>\n",
       "      <td>0.943803</td>\n",
       "      <td>0.974488</td>\n",
       "      <td>0.945061</td>\n",
       "      <td>0.975311</td>\n",
       "      <td>0.937729</td>\n",
       "      <td>0.973562</td>\n",
       "      <td>11.493272</td>\n",
       "      <td>0.008533</td>\n",
       "      <td>0.003221</td>\n",
       "      <td>0.001573</td>\n",
       "    </tr>\n",
       "    <tr>\n",
       "      <th>29</th>\n",
       "      <td>24.659954</td>\n",
       "      <td>0.314257</td>\n",
       "      <td>0.943005</td>\n",
       "      <td>0.976081</td>\n",
       "      <td>77</td>\n",
       "      <td>50</td>\n",
       "      <td>{'max_depth': 77, 'n_estimators': 50}</td>\n",
       "      <td>18</td>\n",
       "      <td>0.946821</td>\n",
       "      <td>0.978192</td>\n",
       "      <td>...</td>\n",
       "      <td>0.943993</td>\n",
       "      <td>0.974610</td>\n",
       "      <td>0.944576</td>\n",
       "      <td>0.975620</td>\n",
       "      <td>0.937030</td>\n",
       "      <td>0.974639</td>\n",
       "      <td>12.845311</td>\n",
       "      <td>0.018430</td>\n",
       "      <td>0.003282</td>\n",
       "      <td>0.001450</td>\n",
       "    </tr>\n",
       "    <tr>\n",
       "      <th>30</th>\n",
       "      <td>10.896179</td>\n",
       "      <td>0.148836</td>\n",
       "      <td>0.943315</td>\n",
       "      <td>0.976295</td>\n",
       "      <td>80</td>\n",
       "      <td>21</td>\n",
       "      <td>{'max_depth': 80, 'n_estimators': 21}</td>\n",
       "      <td>6</td>\n",
       "      <td>0.947416</td>\n",
       "      <td>0.977456</td>\n",
       "      <td>...</td>\n",
       "      <td>0.944725</td>\n",
       "      <td>0.975280</td>\n",
       "      <td>0.944439</td>\n",
       "      <td>0.975849</td>\n",
       "      <td>0.937589</td>\n",
       "      <td>0.975818</td>\n",
       "      <td>5.615719</td>\n",
       "      <td>0.005997</td>\n",
       "      <td>0.003277</td>\n",
       "      <td>0.000825</td>\n",
       "    </tr>\n",
       "    <tr>\n",
       "      <th>31</th>\n",
       "      <td>15.231942</td>\n",
       "      <td>0.198558</td>\n",
       "      <td>0.943331</td>\n",
       "      <td>0.976448</td>\n",
       "      <td>80</td>\n",
       "      <td>30</td>\n",
       "      <td>{'max_depth': 80, 'n_estimators': 30}</td>\n",
       "      <td>5</td>\n",
       "      <td>0.947092</td>\n",
       "      <td>0.978515</td>\n",
       "      <td>...</td>\n",
       "      <td>0.945132</td>\n",
       "      <td>0.975280</td>\n",
       "      <td>0.945167</td>\n",
       "      <td>0.976926</td>\n",
       "      <td>0.937638</td>\n",
       "      <td>0.975407</td>\n",
       "      <td>7.823455</td>\n",
       "      <td>0.011251</td>\n",
       "      <td>0.003349</td>\n",
       "      <td>0.001189</td>\n",
       "    </tr>\n",
       "    <tr>\n",
       "      <th>32</th>\n",
       "      <td>17.803722</td>\n",
       "      <td>0.228328</td>\n",
       "      <td>0.943447</td>\n",
       "      <td>0.976752</td>\n",
       "      <td>80</td>\n",
       "      <td>35</td>\n",
       "      <td>{'max_depth': 80, 'n_estimators': 35}</td>\n",
       "      <td>2</td>\n",
       "      <td>0.947188</td>\n",
       "      <td>0.976674</td>\n",
       "      <td>...</td>\n",
       "      <td>0.945185</td>\n",
       "      <td>0.976012</td>\n",
       "      <td>0.944795</td>\n",
       "      <td>0.976926</td>\n",
       "      <td>0.938157</td>\n",
       "      <td>0.976002</td>\n",
       "      <td>9.198179</td>\n",
       "      <td>0.011931</td>\n",
       "      <td>0.003136</td>\n",
       "      <td>0.000787</td>\n",
       "    </tr>\n",
       "    <tr>\n",
       "      <th>33</th>\n",
       "      <td>20.242478</td>\n",
       "      <td>0.261301</td>\n",
       "      <td>0.943186</td>\n",
       "      <td>0.977049</td>\n",
       "      <td>80</td>\n",
       "      <td>40</td>\n",
       "      <td>{'max_depth': 80, 'n_estimators': 40}</td>\n",
       "      <td>12</td>\n",
       "      <td>0.947649</td>\n",
       "      <td>0.980270</td>\n",
       "      <td>...</td>\n",
       "      <td>0.943969</td>\n",
       "      <td>0.977250</td>\n",
       "      <td>0.944533</td>\n",
       "      <td>0.976433</td>\n",
       "      <td>0.937380</td>\n",
       "      <td>0.974474</td>\n",
       "      <td>10.376641</td>\n",
       "      <td>0.015703</td>\n",
       "      <td>0.003367</td>\n",
       "      <td>0.001870</td>\n",
       "    </tr>\n",
       "    <tr>\n",
       "      <th>34</th>\n",
       "      <td>22.851599</td>\n",
       "      <td>0.298497</td>\n",
       "      <td>0.943296</td>\n",
       "      <td>0.976556</td>\n",
       "      <td>80</td>\n",
       "      <td>45</td>\n",
       "      <td>{'max_depth': 80, 'n_estimators': 45}</td>\n",
       "      <td>7</td>\n",
       "      <td>0.947921</td>\n",
       "      <td>0.978976</td>\n",
       "      <td>...</td>\n",
       "      <td>0.943892</td>\n",
       "      <td>0.976638</td>\n",
       "      <td>0.944260</td>\n",
       "      <td>0.974831</td>\n",
       "      <td>0.937982</td>\n",
       "      <td>0.975745</td>\n",
       "      <td>11.628919</td>\n",
       "      <td>0.016903</td>\n",
       "      <td>0.003215</td>\n",
       "      <td>0.001378</td>\n",
       "    </tr>\n",
       "    <tr>\n",
       "      <th>35</th>\n",
       "      <td>23.545404</td>\n",
       "      <td>0.307550</td>\n",
       "      <td>0.943202</td>\n",
       "      <td>0.977062</td>\n",
       "      <td>80</td>\n",
       "      <td>50</td>\n",
       "      <td>{'max_depth': 80, 'n_estimators': 50}</td>\n",
       "      <td>11</td>\n",
       "      <td>0.947135</td>\n",
       "      <td>0.978699</td>\n",
       "      <td>...</td>\n",
       "      <td>0.944550</td>\n",
       "      <td>0.976730</td>\n",
       "      <td>0.944374</td>\n",
       "      <td>0.975780</td>\n",
       "      <td>0.937529</td>\n",
       "      <td>0.976368</td>\n",
       "      <td>10.885349</td>\n",
       "      <td>0.020725</td>\n",
       "      <td>0.003208</td>\n",
       "      <td>0.001036</td>\n",
       "    </tr>\n",
       "  </tbody>\n",
       "</table>\n",
       "<p>36 rows × 22 columns</p>\n",
       "</div>"
      ],
      "text/plain": [
       "    mean_fit_time  mean_score_time  mean_test_score  mean_train_score  \\\n",
       "0        8.207892         0.125787         0.942826          0.968657   \n",
       "1       11.751353         0.175003         0.942623          0.968801   \n",
       "2       13.598304         0.196765         0.942794          0.968604   \n",
       "3       15.517566         0.228227         0.942471          0.968346   \n",
       "4       17.657933         0.251955         0.942571          0.968759   \n",
       "5       19.466890         0.272821         0.942472          0.969249   \n",
       "6        8.745539         0.132947         0.942786          0.970711   \n",
       "7       12.032980         0.176906         0.943092          0.970263   \n",
       "8       14.123110         0.203084         0.942750          0.970345   \n",
       "9       16.386997         0.228492         0.942637          0.970659   \n",
       "10      18.190747         0.255849         0.942665          0.970313   \n",
       "11      20.558136         0.284757         0.942728          0.970934   \n",
       "12       9.144402         0.134296         0.943007          0.972365   \n",
       "13      12.795353         0.185571         0.942633          0.971862   \n",
       "14      15.200046         0.212584         0.942648          0.972416   \n",
       "15      17.023168         0.234259         0.942667          0.972219   \n",
       "16      19.363737         0.266417         0.942464          0.972856   \n",
       "17      21.581563         0.289683         0.942622          0.971730   \n",
       "18       9.801576         0.143186         0.943570          0.974136   \n",
       "19      14.160118         0.194498         0.943043          0.973793   \n",
       "20      16.824344         0.218368         0.943022          0.974422   \n",
       "21      18.932823         0.247959         0.943131          0.973988   \n",
       "22      21.523917         0.281439         0.942929          0.974456   \n",
       "23      24.093993         0.315355         0.942896          0.974129   \n",
       "24      10.646736         0.146012         0.943391          0.975058   \n",
       "25      15.027038         0.198350         0.943395          0.975380   \n",
       "26      17.612787         0.228716         0.943262          0.976097   \n",
       "27      19.867350         0.254089         0.943224          0.975760   \n",
       "28      22.579286         0.295588         0.943239          0.975469   \n",
       "29      24.659954         0.314257         0.943005          0.976081   \n",
       "30      10.896179         0.148836         0.943315          0.976295   \n",
       "31      15.231942         0.198558         0.943331          0.976448   \n",
       "32      17.803722         0.228328         0.943447          0.976752   \n",
       "33      20.242478         0.261301         0.943186          0.977049   \n",
       "34      22.851599         0.298497         0.943296          0.976556   \n",
       "35      23.545404         0.307550         0.943202          0.977062   \n",
       "\n",
       "   param_max_depth param_n_estimators                                 params  \\\n",
       "0               61                 21  {'max_depth': 61, 'n_estimators': 21}   \n",
       "1               61                 30  {'max_depth': 61, 'n_estimators': 30}   \n",
       "2               61                 35  {'max_depth': 61, 'n_estimators': 35}   \n",
       "3               61                 40  {'max_depth': 61, 'n_estimators': 40}   \n",
       "4               61                 45  {'max_depth': 61, 'n_estimators': 45}   \n",
       "5               61                 50  {'max_depth': 61, 'n_estimators': 50}   \n",
       "6               64                 21  {'max_depth': 64, 'n_estimators': 21}   \n",
       "7               64                 30  {'max_depth': 64, 'n_estimators': 30}   \n",
       "8               64                 35  {'max_depth': 64, 'n_estimators': 35}   \n",
       "9               64                 40  {'max_depth': 64, 'n_estimators': 40}   \n",
       "10              64                 45  {'max_depth': 64, 'n_estimators': 45}   \n",
       "11              64                 50  {'max_depth': 64, 'n_estimators': 50}   \n",
       "12              68                 21  {'max_depth': 68, 'n_estimators': 21}   \n",
       "13              68                 30  {'max_depth': 68, 'n_estimators': 30}   \n",
       "14              68                 35  {'max_depth': 68, 'n_estimators': 35}   \n",
       "15              68                 40  {'max_depth': 68, 'n_estimators': 40}   \n",
       "16              68                 45  {'max_depth': 68, 'n_estimators': 45}   \n",
       "17              68                 50  {'max_depth': 68, 'n_estimators': 50}   \n",
       "18              73                 21  {'max_depth': 73, 'n_estimators': 21}   \n",
       "19              73                 30  {'max_depth': 73, 'n_estimators': 30}   \n",
       "20              73                 35  {'max_depth': 73, 'n_estimators': 35}   \n",
       "21              73                 40  {'max_depth': 73, 'n_estimators': 40}   \n",
       "22              73                 45  {'max_depth': 73, 'n_estimators': 45}   \n",
       "23              73                 50  {'max_depth': 73, 'n_estimators': 50}   \n",
       "24              77                 21  {'max_depth': 77, 'n_estimators': 21}   \n",
       "25              77                 30  {'max_depth': 77, 'n_estimators': 30}   \n",
       "26              77                 35  {'max_depth': 77, 'n_estimators': 35}   \n",
       "27              77                 40  {'max_depth': 77, 'n_estimators': 40}   \n",
       "28              77                 45  {'max_depth': 77, 'n_estimators': 45}   \n",
       "29              77                 50  {'max_depth': 77, 'n_estimators': 50}   \n",
       "30              80                 21  {'max_depth': 80, 'n_estimators': 21}   \n",
       "31              80                 30  {'max_depth': 80, 'n_estimators': 30}   \n",
       "32              80                 35  {'max_depth': 80, 'n_estimators': 35}   \n",
       "33              80                 40  {'max_depth': 80, 'n_estimators': 40}   \n",
       "34              80                 45  {'max_depth': 80, 'n_estimators': 45}   \n",
       "35              80                 50  {'max_depth': 80, 'n_estimators': 50}   \n",
       "\n",
       "    rank_test_score  split0_test_score  split0_train_score       ...         \\\n",
       "0                21           0.947683            0.971511       ...          \n",
       "1                31           0.946783            0.971511       ...          \n",
       "2                22           0.947140            0.971103       ...          \n",
       "3                35           0.946612            0.970558       ...          \n",
       "4                33           0.946679            0.971693       ...          \n",
       "5                34           0.946831            0.971784       ...          \n",
       "6                23           0.947392            0.974109       ...          \n",
       "7                14           0.948131            0.972512       ...          \n",
       "8                24           0.947268            0.972057       ...          \n",
       "9                29           0.947216            0.972467       ...          \n",
       "10               27           0.947340            0.972968       ...          \n",
       "11               25           0.947349            0.974063       ...          \n",
       "12               17           0.947088            0.973789       ...          \n",
       "13               30           0.946797            0.973013       ...          \n",
       "14               28           0.946783            0.973926       ...          \n",
       "15               26           0.947573            0.974017       ...          \n",
       "16               36           0.946893            0.975207       ...          \n",
       "17               32           0.946964            0.973698       ...          \n",
       "18                1           0.947936            0.975298       ...          \n",
       "19               15           0.947807            0.975161       ...          \n",
       "20               16           0.947435            0.976628       ...          \n",
       "21               13           0.947449            0.976307       ...          \n",
       "22               19           0.947407            0.976399       ...          \n",
       "23               20           0.947168            0.976674       ...          \n",
       "24                4           0.946902            0.975756       ...          \n",
       "25                3           0.947464            0.976582       ...          \n",
       "26                8           0.948274            0.977962       ...          \n",
       "27               10           0.947978            0.978515       ...          \n",
       "28                9           0.947349            0.978238       ...          \n",
       "29               18           0.946821            0.978192       ...          \n",
       "30                6           0.947416            0.977456       ...          \n",
       "31                5           0.947092            0.978515       ...          \n",
       "32                2           0.947188            0.976674       ...          \n",
       "33               12           0.947649            0.980270       ...          \n",
       "34                7           0.947921            0.978976       ...          \n",
       "35               11           0.947135            0.978699       ...          \n",
       "\n",
       "    split2_test_score  split2_train_score  split3_test_score  \\\n",
       "0            0.943117            0.967134           0.944341   \n",
       "1            0.944164            0.967464           0.944132   \n",
       "2            0.943736            0.967164           0.944137   \n",
       "3            0.944078            0.968395           0.943900   \n",
       "4            0.943736            0.967779           0.944114   \n",
       "5            0.943907            0.968455           0.943814   \n",
       "6            0.944121            0.969011           0.945129   \n",
       "7            0.943554            0.968470           0.944465   \n",
       "8            0.943521            0.969463           0.944379   \n",
       "9            0.943993            0.969237           0.944066   \n",
       "10           0.943940            0.969177           0.944538   \n",
       "11           0.943950            0.969960           0.944361   \n",
       "12           0.944803            0.972666           0.944722   \n",
       "13           0.943940            0.971001           0.944023   \n",
       "14           0.942956            0.972378           0.944270   \n",
       "15           0.943478            0.971651           0.943874   \n",
       "16           0.944336            0.972408           0.943852   \n",
       "17           0.944288            0.971077           0.943693   \n",
       "18           0.944793            0.973637           0.945946   \n",
       "19           0.943773            0.973348           0.944318   \n",
       "20           0.944154            0.973120           0.944497   \n",
       "21           0.944242            0.973819           0.944603   \n",
       "22           0.943894            0.974655           0.944543   \n",
       "23           0.944550            0.973819           0.944147   \n",
       "24           0.944275            0.974975           0.944704   \n",
       "25           0.944503            0.974899           0.945400   \n",
       "26           0.944409            0.975737           0.944460   \n",
       "27           0.943959            0.975158           0.945048   \n",
       "28           0.943803            0.974488           0.945061   \n",
       "29           0.943993            0.974610           0.944576   \n",
       "30           0.944725            0.975280           0.944439   \n",
       "31           0.945132            0.975280           0.945167   \n",
       "32           0.945185            0.976012           0.944795   \n",
       "33           0.943969            0.977250           0.944533   \n",
       "34           0.943892            0.976638           0.944260   \n",
       "35           0.944550            0.976730           0.944374   \n",
       "\n",
       "    split3_train_score  split4_test_score  split4_train_score  std_fit_time  \\\n",
       "0             0.967812           0.936761            0.966325      4.103327   \n",
       "1             0.968003           0.936369            0.967719      5.789906   \n",
       "2             0.968183           0.937417            0.966927      6.748325   \n",
       "3             0.966766           0.935755            0.966388      7.653642   \n",
       "4             0.968014           0.936270            0.967026      8.881016   \n",
       "5             0.967362           0.936484            0.967646      9.919978   \n",
       "6             0.968826           0.935909            0.969342      4.290776   \n",
       "7             0.969289           0.936956            0.969342      5.994120   \n",
       "8             0.970159           0.936570            0.968548      7.011075   \n",
       "9             0.969888           0.936289            0.969595      8.340040   \n",
       "10            0.968725           0.936055            0.968043      9.231099   \n",
       "11            0.970284           0.936184            0.968503     10.358606   \n",
       "12            0.971201           0.937136            0.971516      4.697342   \n",
       "13            0.970872           0.936773            0.971861      6.477367   \n",
       "14            0.970204           0.937405            0.971397      7.605594   \n",
       "15            0.971598           0.936527            0.970654      8.490147   \n",
       "16            0.971655           0.936044            0.971452      9.870024   \n",
       "17            0.970657           0.936455            0.970156     10.989827   \n",
       "18            0.973770           0.936736            0.973006      5.015770   \n",
       "19            0.972666           0.936718            0.973708      7.300224   \n",
       "20            0.973622           0.937357            0.973425      8.489164   \n",
       "21            0.972370           0.937695            0.972815      9.928362   \n",
       "22            0.973235           0.937122            0.972906     11.167164   \n",
       "23            0.973702           0.936816            0.972979     12.694931   \n",
       "24            0.974934           0.938099            0.974200      5.573074   \n",
       "25            0.975872           0.937099            0.974100      7.834751   \n",
       "26            0.975300           0.937122            0.974529      9.092349   \n",
       "27            0.975254           0.936950            0.974036     10.493998   \n",
       "28            0.975311           0.937729            0.973562     11.493272   \n",
       "29            0.975620           0.937030            0.974639     12.845311   \n",
       "30            0.975849           0.937589            0.975818      5.615719   \n",
       "31            0.976926           0.937638            0.975407      7.823455   \n",
       "32            0.976926           0.938157            0.976002      9.198179   \n",
       "33            0.976433           0.937380            0.974474     10.376641   \n",
       "34            0.974831           0.937982            0.975745     11.628919   \n",
       "35            0.975780           0.937529            0.976368     10.885349   \n",
       "\n",
       "    std_score_time  std_test_score  std_train_score  \n",
       "0         0.004299        0.003553         0.002001  \n",
       "1         0.009467        0.003521         0.001497  \n",
       "2         0.010340        0.003227         0.001574  \n",
       "3         0.008082        0.003663         0.001604  \n",
       "4         0.009133        0.003481         0.001637  \n",
       "5         0.014856        0.003465         0.001803  \n",
       "6         0.003738        0.003944         0.002111  \n",
       "7         0.008506        0.003625         0.001558  \n",
       "8         0.009581        0.003533         0.001288  \n",
       "9         0.010531        0.003638         0.001350  \n",
       "10        0.014885        0.003798         0.002073  \n",
       "11        0.011003        0.003720         0.001894  \n",
       "12        0.006973        0.003472         0.000925  \n",
       "13        0.015782        0.003356         0.000841  \n",
       "14        0.012316        0.003098         0.001503  \n",
       "15        0.008750        0.003592         0.001209  \n",
       "16        0.013162        0.003684         0.001388  \n",
       "17        0.018782        0.003511         0.001393  \n",
       "18        0.004339        0.003852         0.000861  \n",
       "19        0.013547        0.003607         0.000828  \n",
       "20        0.012449        0.003372         0.001341  \n",
       "21        0.013907        0.003279         0.001401  \n",
       "22        0.017544        0.003431         0.001273  \n",
       "23        0.015362        0.003485         0.001305  \n",
       "24        0.006976        0.002933         0.000526  \n",
       "25        0.009778        0.003528         0.000844  \n",
       "26        0.009623        0.003662         0.001220  \n",
       "27        0.013925        0.003658         0.001496  \n",
       "28        0.008533        0.003221         0.001573  \n",
       "29        0.018430        0.003282         0.001450  \n",
       "30        0.005997        0.003277         0.000825  \n",
       "31        0.011251        0.003349         0.001189  \n",
       "32        0.011931        0.003136         0.000787  \n",
       "33        0.015703        0.003367         0.001870  \n",
       "34        0.016903        0.003215         0.001378  \n",
       "35        0.020725        0.003208         0.001036  \n",
       "\n",
       "[36 rows x 22 columns]"
      ]
     },
     "execution_count": 22,
     "metadata": {
      "tags": []
     },
     "output_type": "execute_result"
    }
   ],
   "source": [
    "results=pd.DataFrame(model.cv_results_)# getting varoius cv_scores and train_scores various values of hyperparameter given as parameter and storing it in a dataframe\n",
    "results#printing the dataframe"
   ]
  },
  {
   "cell_type": "code",
   "execution_count": 0,
   "metadata": {
    "colab": {},
    "colab_type": "code",
    "collapsed": true,
    "id": "YlWq4WNxq72l"
   },
   "outputs": [],
   "source": [
    "\n",
    "results['mean_test_score']=results['mean_test_score']*100\n",
    "results=results.round(decimals=2)\n",
    "results['cv_error_score']=100-results['mean_test_score']"
   ]
  },
  {
   "cell_type": "markdown",
   "metadata": {
    "colab_type": "text",
    "id": "_TI-EqwGlzWx"
   },
   "source": [
    "# PLOTTING THE HEATMAP WITH  HYPERPARAMETERS FOR CV_ERROR SCORE "
   ]
  },
  {
   "cell_type": "code",
   "execution_count": 0,
   "metadata": {
    "colab": {},
    "colab_type": "code",
    "collapsed": true,
    "id": "NzG-ZY6MlYtG"
   },
   "outputs": [],
   "source": [
    "test_score_heatmap=results.pivot(\t'param_max_depth'\t,'param_n_estimators','cv_error_score'\t)"
   ]
  },
  {
   "cell_type": "code",
   "execution_count": 25,
   "metadata": {
    "colab": {
     "base_uri": "https://localhost:8080/",
     "height": 257
    },
    "colab_type": "code",
    "executionInfo": {
     "elapsed": 953,
     "status": "ok",
     "timestamp": 1549183053227,
     "user": {
      "displayName": "mayank aggarwal",
      "photoUrl": "",
      "userId": "04107947634097457088"
     },
     "user_tz": -330
    },
    "id": "h0HOdEmhlYap",
    "outputId": "45b91955-a0d3-4845-d5cc-2a450fdc117c"
   },
   "outputs": [
    {
     "data": {
      "text/html": [
       "<div>\n",
       "<style scoped>\n",
       "    .dataframe tbody tr th:only-of-type {\n",
       "        vertical-align: middle;\n",
       "    }\n",
       "\n",
       "    .dataframe tbody tr th {\n",
       "        vertical-align: top;\n",
       "    }\n",
       "\n",
       "    .dataframe thead th {\n",
       "        text-align: right;\n",
       "    }\n",
       "</style>\n",
       "<table border=\"1\" class=\"dataframe\">\n",
       "  <thead>\n",
       "    <tr style=\"text-align: right;\">\n",
       "      <th>param_n_estimators</th>\n",
       "      <th>21</th>\n",
       "      <th>30</th>\n",
       "      <th>35</th>\n",
       "      <th>40</th>\n",
       "      <th>45</th>\n",
       "      <th>50</th>\n",
       "    </tr>\n",
       "    <tr>\n",
       "      <th>param_max_depth</th>\n",
       "      <th></th>\n",
       "      <th></th>\n",
       "      <th></th>\n",
       "      <th></th>\n",
       "      <th></th>\n",
       "      <th></th>\n",
       "    </tr>\n",
       "  </thead>\n",
       "  <tbody>\n",
       "    <tr>\n",
       "      <th>61</th>\n",
       "      <td>5.72</td>\n",
       "      <td>5.74</td>\n",
       "      <td>5.72</td>\n",
       "      <td>5.75</td>\n",
       "      <td>5.74</td>\n",
       "      <td>5.75</td>\n",
       "    </tr>\n",
       "    <tr>\n",
       "      <th>64</th>\n",
       "      <td>5.72</td>\n",
       "      <td>5.69</td>\n",
       "      <td>5.72</td>\n",
       "      <td>5.74</td>\n",
       "      <td>5.73</td>\n",
       "      <td>5.73</td>\n",
       "    </tr>\n",
       "    <tr>\n",
       "      <th>68</th>\n",
       "      <td>5.70</td>\n",
       "      <td>5.74</td>\n",
       "      <td>5.74</td>\n",
       "      <td>5.73</td>\n",
       "      <td>5.75</td>\n",
       "      <td>5.74</td>\n",
       "    </tr>\n",
       "    <tr>\n",
       "      <th>73</th>\n",
       "      <td>5.64</td>\n",
       "      <td>5.70</td>\n",
       "      <td>5.70</td>\n",
       "      <td>5.69</td>\n",
       "      <td>5.71</td>\n",
       "      <td>5.71</td>\n",
       "    </tr>\n",
       "    <tr>\n",
       "      <th>77</th>\n",
       "      <td>5.66</td>\n",
       "      <td>5.66</td>\n",
       "      <td>5.67</td>\n",
       "      <td>5.68</td>\n",
       "      <td>5.68</td>\n",
       "      <td>5.70</td>\n",
       "    </tr>\n",
       "    <tr>\n",
       "      <th>80</th>\n",
       "      <td>5.67</td>\n",
       "      <td>5.67</td>\n",
       "      <td>5.66</td>\n",
       "      <td>5.68</td>\n",
       "      <td>5.67</td>\n",
       "      <td>5.68</td>\n",
       "    </tr>\n",
       "  </tbody>\n",
       "</table>\n",
       "</div>"
      ],
      "text/plain": [
       "param_n_estimators    21    30    35    40    45    50\n",
       "param_max_depth                                       \n",
       "61                  5.72  5.74  5.72  5.75  5.74  5.75\n",
       "64                  5.72  5.69  5.72  5.74  5.73  5.73\n",
       "68                  5.70  5.74  5.74  5.73  5.75  5.74\n",
       "73                  5.64  5.70  5.70  5.69  5.71  5.71\n",
       "77                  5.66  5.66  5.67  5.68  5.68  5.70\n",
       "80                  5.67  5.67  5.66  5.68  5.67  5.68"
      ]
     },
     "execution_count": 25,
     "metadata": {
      "tags": []
     },
     "output_type": "execute_result"
    }
   ],
   "source": [
    "test_score_heatmap"
   ]
  },
  {
   "cell_type": "code",
   "execution_count": 26,
   "metadata": {
    "colab": {
     "base_uri": "https://localhost:8080/",
     "height": 378
    },
    "colab_type": "code",
    "executionInfo": {
     "elapsed": 1463,
     "status": "ok",
     "timestamp": 1549183059490,
     "user": {
      "displayName": "mayank aggarwal",
      "photoUrl": "",
      "userId": "04107947634097457088"
     },
     "user_tz": -330
    },
    "id": "QcyVeIh7l8vv",
    "outputId": "5bea3f30-bffb-42c1-d45b-4b91150b9fc3"
   },
   "outputs": [
    {
     "data": {
      "text/plain": [
       "<matplotlib.axes._subplots.AxesSubplot at 0x7fb8be172a58>"
      ]
     },
     "execution_count": 26,
     "metadata": {
      "tags": []
     },
     "output_type": "execute_result"
    },
    {
     "data": {
      "image/png": "[encoded data removed]",
      "text/plain": [
       "<Figure size 576x396 with 2 Axes>"
      ]
     },
     "metadata": {
      "tags": []
     },
     "output_type": "display_data"
    }
   ],
   "source": [
    "import seaborn as sns\n",
    "sns.heatmap(test_score_heatmap,annot=True,annot_kws={\"size\": 15}, fmt='g',linewidths=.3)"
   ]
  },
  {
   "cell_type": "code",
   "execution_count": 27,
   "metadata": {
    "colab": {
     "base_uri": "https://localhost:8080/",
     "height": 141
    },
    "colab_type": "code",
    "executionInfo": {
     "elapsed": 1223,
     "status": "ok",
     "timestamp": 1549183065376,
     "user": {
      "displayName": "mayank aggarwal",
      "photoUrl": "",
      "userId": "04107947634097457088"
     },
     "user_tz": -330
    },
    "id": "YXCoY4_QmANE",
    "outputId": "74a7673c-36ad-48f1-f5e7-f8b24a7994f2"
   },
   "outputs": [
    {
     "name": "stdout",
     "output_type": "stream",
     "text": [
      "RandomForestClassifier(bootstrap=True, class_weight={1: 0.5, 0: 0.5},\n",
      "            criterion='gini', max_depth=73, max_features='auto',\n",
      "            max_leaf_nodes=None, min_impurity_decrease=0.0,\n",
      "            min_impurity_split=None, min_samples_leaf=1,\n",
      "            min_samples_split=2, min_weight_fraction_leaf=0.0,\n",
      "            n_estimators=21, n_jobs=None, oob_score=False,\n",
      "            random_state=None, verbose=0, warm_start=False)\n"
     ]
    }
   ],
   "source": [
    "print(model.best_estimator_)#printing the best_estimator"
   ]
  },
  {
   "cell_type": "code",
   "execution_count": 0,
   "metadata": {
    "colab": {},
    "colab_type": "code",
    "collapsed": true,
    "id": "XhjaqHCiIWsz"
   },
   "outputs": [],
   "source": []
  },
  {
   "cell_type": "markdown",
   "metadata": {
    "colab_type": "text",
    "id": "CzPQCUJoO_jI"
   },
   "source": [
    "# FROM THE ABOVE HEATMAPS RESULTS FOR  CV DATA,WE FOUND THAT BEST HYPERPARAMETERS AS MAX_DEPTH=73 AND N_ESTIMATORS=21"
   ]
  },
  {
   "cell_type": "markdown",
   "metadata": {
    "colab_type": "text",
    "id": "BTrONZFPO1Et"
   },
   "source": [
    "# PLOTTING THE ROC CURVE FOR GETTING AUC SCORE"
   ]
  },
  {
   "cell_type": "code",
   "execution_count": 29,
   "metadata": {
    "colab": {
     "base_uri": "https://localhost:8080/",
     "height": 375
    },
    "colab_type": "code",
    "executionInfo": {
     "elapsed": 11265,
     "status": "ok",
     "timestamp": 1549183142172,
     "user": {
      "displayName": "mayank aggarwal",
      "photoUrl": "",
      "userId": "04107947634097457088"
     },
     "user_tz": -330
    },
    "id": "4lsQvgDsH8bH",
    "outputId": "a6b0cc3c-8053-4d29-f605-76d8a2a81739"
   },
   "outputs": [
    {
     "data": {
      "image/png": "[encoded data removed]",
      "text/plain": [
       "<Figure size 576x396 with 1 Axes>"
      ]
     },
     "metadata": {
      "tags": []
     },
     "output_type": "display_data"
    }
   ],
   "source": [
    "rf=RandomForestClassifier(criterion='gini',class_weight={1:.5,0:.5},max_depth=73 ,n_estimators=21)\n",
    "rf.fit(train_tfidf,y_train)#fitting the model \n",
    "probs = rf.predict_proba(test_tfidf)\n",
    "preds = probs[:,1]\n",
    "fpr, tpr, threshold = metrics.roc_curve(y_test, preds)\n",
    "roc_auc = metrics.auc(fpr, tpr)\n",
    "\n",
    "# \n",
    "import matplotlib.pyplot as plt\n",
    "plt.title('Receiver Operating Characteristic')\n",
    "plt.plot(fpr, tpr, 'b', label = 'AUC = %0.2f' % roc_auc)\n",
    "plt.legend(loc = 'best')\n",
    "plt.plot([0, 1], [0, 1],'r--')\n",
    "plt.xlim([0, 1])\n",
    "plt.ylim([0, 1])\n",
    "plt.ylabel('True Positive Rate')\n",
    "plt.xlabel('False Positive Rate')\n",
    "plt.show()"
   ]
  },
  {
   "cell_type": "code",
   "execution_count": 30,
   "metadata": {
    "colab": {
     "base_uri": "https://localhost:8080/",
     "height": 34
    },
    "colab_type": "code",
    "executionInfo": {
     "elapsed": 1321,
     "status": "ok",
     "timestamp": 1549183154867,
     "user": {
      "displayName": "mayank aggarwal",
      "photoUrl": "",
      "userId": "04107947634097457088"
     },
     "user_tz": -330
    },
    "id": "6M_K4t1bPEw9",
    "outputId": "80a30395-1f38-4c94-848c-d2ec2ccaf005"
   },
   "outputs": [
    {
     "name": "stdout",
     "output_type": "stream",
     "text": [
      "accuracy from the ROC curve is found as  85.30101633953345\n"
     ]
    }
   ],
   "source": [
    "print('accuracy from the ROC curve is found as ',roc_auc*100)"
   ]
  },
  {
   "cell_type": "code",
   "execution_count": 31,
   "metadata": {
    "colab": {
     "base_uri": "https://localhost:8080/",
     "height": 34
    },
    "colab_type": "code",
    "executionInfo": {
     "elapsed": 1402,
     "status": "ok",
     "timestamp": 1549183158305,
     "user": {
      "displayName": "mayank aggarwal",
      "photoUrl": "",
      "userId": "04107947634097457088"
     },
     "user_tz": -330
    },
    "id": "MF2xMZDMsmXH",
    "outputId": "e7f42a43-5cf1-4f81-adde-42f81058ace8"
   },
   "outputs": [
    {
     "name": "stdout",
     "output_type": "stream",
     "text": [
      "shape of wieght vector is: (16382,)\n"
     ]
    }
   ],
   "source": [
    "z=rf.feature_importances_\n",
    "a=z.argsort()\n",
    "print('shape of wieght vector is:',a.shape)\n",
    "top_features=np.take(vectorizer.get_feature_names(),a[16360:])#taking last features as they are of very high importance "
   ]
  },
  {
   "cell_type": "code",
   "execution_count": 32,
   "metadata": {
    "colab": {
     "base_uri": "https://localhost:8080/",
     "height": 70
    },
    "colab_type": "code",
    "executionInfo": {
     "elapsed": 1048,
     "status": "ok",
     "timestamp": 1549183161681,
     "user": {
      "displayName": "mayank aggarwal",
      "photoUrl": "",
      "userId": "04107947634097457088"
     },
     "user_tz": -330
    },
    "id": "XGJfVGt7spyw",
    "outputId": "86592c7c-5d00-4579-a1b3-f8e66304c8bb"
   },
   "outputs": [
    {
     "name": "stdout",
     "output_type": "stream",
     "text": [
      "['return' 'refund' 'receiv' 'poor' 'gross' 'money' 'best' 'thought' 'tast'\n",
      " 'horribl' 'mayb' 'stale' 'love' 'threw' 'wast' 'bad' 'worst' 'terribl'\n",
      " 'aw' 'would' 'great' 'disappoint']\n"
     ]
    }
   ],
   "source": [
    "print(top_features)#printing the top_features\n",
    "top=list(top_features)"
   ]
  },
  {
   "cell_type": "markdown",
   "metadata": {
    "colab_type": "text",
    "id": "jSRugdUFsw6c"
   },
   "source": [
    "# REPRESENTING TOP IMPORTANT FEATURES USING WORDCLOUD LIBRARY"
   ]
  },
  {
   "cell_type": "code",
   "execution_count": 33,
   "metadata": {
    "colab": {
     "base_uri": "https://localhost:8080/",
     "height": 415
    },
    "colab_type": "code",
    "executionInfo": {
     "elapsed": 2973,
     "status": "ok",
     "timestamp": 1549183165742,
     "user": {
      "displayName": "mayank aggarwal",
      "photoUrl": "",
      "userId": "04107947634097457088"
     },
     "user_tz": -330
    },
    "id": "V-jArYvHsz6D",
    "outputId": "9cd63067-ac68-49b9-9bce-f6aa95ca6ab4"
   },
   "outputs": [
    {
     "data": {
      "image/png": "[encoded data removed]",
      "text/plain": [
       "<Figure size 576x576 with 1 Axes>"
      ]
     },
     "metadata": {
      "tags": []
     },
     "output_type": "display_data"
    }
   ],
   "source": [
    "from wordcloud import WordCloud #here we are printing the top features using wordcloud library\n",
    "import matplotlib.pyplot as plt\n",
    "wordcloud = WordCloud(width = 1500, height = 1000, \n",
    "                background_color ='white', \n",
    "                 \n",
    "                min_font_size = 10).generate(str(top)) \n",
    "  \n",
    "# plot the WordCloud image                        \n",
    "plt.figure(figsize = (8, 8), facecolor = None) \n",
    "plt.imshow(wordcloud) \n",
    "plt.axis(\"off\") \n",
    "plt.tight_layout(pad = 0) \n",
    "  \n",
    "plt.show() "
   ]
  },
  {
   "cell_type": "code",
   "execution_count": 0,
   "metadata": {
    "colab": {},
    "colab_type": "code",
    "collapsed": true,
    "id": "lbO_cwKYszqN"
   },
   "outputs": [],
   "source": []
  },
  {
   "cell_type": "markdown",
   "metadata": {
    "colab_type": "text",
    "id": "L02W9vmpqcjH"
   },
   "source": [
    "# TESTING OUR MODEL ON TEST DATA AND CHECKING ITS PRECISION ,RECALL ,F1_FCORE"
   ]
  },
  {
   "cell_type": "code",
   "execution_count": 34,
   "metadata": {
    "colab": {
     "base_uri": "https://localhost:8080/",
     "height": 511
    },
    "colab_type": "code",
    "executionInfo": {
     "elapsed": 1640,
     "status": "ok",
     "timestamp": 1549183196554,
     "user": {
      "displayName": "mayank aggarwal",
      "photoUrl": "",
      "userId": "04107947634097457088"
     },
     "user_tz": -330
    },
    "id": "HIKew9mC4-Rx",
    "outputId": "dd843110-13d6-4737-967c-a80deec03b71"
   },
   "outputs": [
    {
     "name": "stdout",
     "output_type": "stream",
     "text": [
      "Accuracy on test set: 88.443%\n",
      "Precision on test set: 0.884\n",
      "Recall on test set: 0.999\n",
      "F1-Score on test set: 0.938\n",
      "Confusion Matrix of test set:\n",
      " [ [TN  FP]\n",
      " [FN TP] ]\n",
      "\n"
     ]
    },
    {
     "data": {
      "text/plain": [
       "<matplotlib.axes._subplots.AxesSubplot at 0x7fb8b91d6e80>"
      ]
     },
     "execution_count": 34,
     "metadata": {
      "tags": []
     },
     "output_type": "execute_result"
    },
    {
     "data": {
      "image/png": "[encoded data removed]",
      "text/plain": [
       "<Figure size 576x396 with 2 Axes>"
      ]
     },
     "metadata": {
      "tags": []
     },
     "output_type": "display_data"
    }
   ],
   "source": [
    "#Testing Accuracy on Test data  \n",
    "import seaborn as sns #importing seaborn as sns\n",
    "from sklearn.metrics import *#importing varoius metrics from sklearn\n",
    "#building the model\n",
    "y_pred = rf.predict(test_tfidf) \n",
    "print(\"Accuracy on test set: %0.3f%%\"%(accuracy_score(y_test, y_pred)*100))#printing accuracy\n",
    "print(\"Precision on test set: %0.3f\"%(precision_score(y_test, y_pred)))#printing precision score\n",
    "print(\"Recall on test set: %0.3f\"%(recall_score(y_test, y_pred))) #printing recall\n",
    "print(\"F1-Score on test set: %0.3f\"%(f1_score(y_test, y_pred))) \n",
    "print(\"Confusion Matrix of test set:\\n [ [TN  FP]\\n [FN TP] ]\\n\") \n",
    "df_cm = pd.DataFrame(confusion_matrix(y_test, y_pred), range(2),range(2)) #generating the heatmap for confusion matrix\n",
    "sns.set(font_scale=1.4)#for label size\n",
    "sns.heatmap(df_cm, annot=True,annot_kws={\"size\": 16}, fmt='g',cmap=\"YlGnBu\")\n"
   ]
  },
  {
   "cell_type": "markdown",
   "metadata": {
    "colab_type": "text",
    "id": "KsvbjbW8qJ5r"
   },
   "source": [
    "# BOW VECTORIZATION FOR RANDOM  FOREST IS COMPLETED "
   ]
  },
  {
   "cell_type": "markdown",
   "metadata": {
    "colab_type": "text",
    "id": "Hi44doP_1PhD"
   },
   "source": [
    "# OBJECTIVE #\n",
    "\n",
    "1.   <b>APPLYING GBDT WITH TFIDF VECTORIZATION\n",
    "\n",
    " *   FINDING THE BEST HYPERPARAMETER USING GRIDSEARCHCV WITH TRAIN DATA AND CROSS-VALIDATION DATA BY PLOTTING THE RESLUTS OF VAROIUS TRAIN DATA AND CROSS VALIDATION DATA\n",
    " * USING THE APROPRIATE VALUE OF HYPERPARAMETER ,TESTING ACCURACY ON TEST DATA\n",
    "    USING F1-SCORE\n",
    " * PLOTTING THE CONFUSION MATRIX TO GET THE  PRECISOIN ,RECALL VALUE WITH HELP OF HEATMAP\n",
    "  * PRINTING THE TOP 30 MOST IMPORTANT  FEATURES \n",
    "  \n"
   ]
  },
  {
   "cell_type": "code",
   "execution_count": 35,
   "metadata": {
    "colab": {
     "base_uri": "https://localhost:8080/",
     "height": 52
    },
    "colab_type": "code",
    "executionInfo": {
     "elapsed": 1151,
     "status": "ok",
     "timestamp": 1549183283399,
     "user": {
      "displayName": "mayank aggarwal",
      "photoUrl": "",
      "userId": "04107947634097457088"
     },
     "user_tz": -330
    },
    "id": "A8IdBsvkrKiP",
    "outputId": "968c8fb5-e327-4691-ab80-6fff5d5ebe93"
   },
   "outputs": [
    {
     "name": "stdout",
     "output_type": "stream",
     "text": [
      "CPU times: user 3 µs, sys: 1 µs, total: 4 µs\n",
      "Wall time: 6.91 µs\n"
     ]
    }
   ],
   "source": [
    "from xgboost import XGBClassifier\n",
    "#biudling the model\n",
    "#using time series split method for cross-validation score\n",
    "from sklearn.model_selection import TimeSeriesSplit\n",
    "tscv = TimeSeriesSplit(n_splits=5) \n",
    "xg=XGBClassifier(n_jobs=-1)\n",
    "tuned_parameters=[{'max_depth':[11,15,20,24,27,30],'n_estimators':[21,30,35,40,45,50]}]\n",
    "#applying the model of decision tree and using gridsearchcv to find the best hyper parameter\n",
    "%time\n",
    "from sklearn.model_selection import GridSearchCV\n",
    "model = GridSearchCV(xg, tuned_parameters, scoring = 'f1', cv=tscv,n_jobs=-1)#building the gridsearchcv model\n",
    "\n"
   ]
  },
  {
   "cell_type": "code",
   "execution_count": 36,
   "metadata": {
    "colab": {
     "base_uri": "https://localhost:8080/",
     "height": 265
    },
    "colab_type": "code",
    "executionInfo": {
     "elapsed": 4342785,
     "status": "ok",
     "timestamp": 1549187640459,
     "user": {
      "displayName": "mayank aggarwal",
      "photoUrl": "",
      "userId": "04107947634097457088"
     },
     "user_tz": -330
    },
    "id": "ybHubaKQ19uk",
    "outputId": "ac19143d-975b-4bb3-8e31-27c3600967ec"
   },
   "outputs": [
    {
     "name": "stdout",
     "output_type": "stream",
     "text": [
      "CPU times: user 2min 51s, sys: 362 ms, total: 2min 51s\n",
      "Wall time: 1h 12min 21s\n"
     ]
    },
    {
     "data": {
      "text/plain": [
       "GridSearchCV(cv=TimeSeriesSplit(max_train_size=None, n_splits=5),\n",
       "       error_score='raise-deprecating',\n",
       "       estimator=XGBClassifier(base_score=0.5, booster='gbtree', colsample_bylevel=1,\n",
       "       colsample_bytree=1, gamma=0, learning_rate=0.1, max_delta_step=0,\n",
       "       max_depth=3, min_child_weight=1, missing=None, n_estimators=100,\n",
       "       n_jobs=-1, nthread=None, objective='binary:logistic',\n",
       "       random_state=0, reg_alpha=0, reg_lambda=1, scale_pos_weight=1,\n",
       "       seed=None, silent=True, subsample=1),\n",
       "       fit_params=None, iid='warn', n_jobs=-1,\n",
       "       param_grid=[{'max_depth': [11, 15, 20, 24, 27, 30], 'n_estimators': [21, 30, 35, 40, 45, 50]}],\n",
       "       pre_dispatch='2*n_jobs', refit=True, return_train_score='warn',\n",
       "       scoring='f1', verbose=0)"
      ]
     },
     "execution_count": 36,
     "metadata": {
      "tags": []
     },
     "output_type": "execute_result"
    }
   ],
   "source": [
    "%%time\n",
    "model.fit(train_tfidf, y_train)#fiitting the training data\n"
   ]
  },
  {
   "cell_type": "code",
   "execution_count": 43,
   "metadata": {
    "colab": {
     "base_uri": "https://localhost:8080/",
     "height": 123
    },
    "colab_type": "code",
    "executionInfo": {
     "elapsed": 1049,
     "status": "ok",
     "timestamp": 1549187980114,
     "user": {
      "displayName": "mayank aggarwal",
      "photoUrl": "",
      "userId": "04107947634097457088"
     },
     "user_tz": -330
    },
    "id": "8RHbOMIRKXeB",
    "outputId": "48a01568-d185-4313-fb43-e91c099f6391"
   },
   "outputs": [
    {
     "name": "stdout",
     "output_type": "stream",
     "text": [
      "XGBClassifier(base_score=0.5, booster='gbtree', colsample_bylevel=1,\n",
      "       colsample_bytree=1, gamma=0, learning_rate=0.1, max_delta_step=0,\n",
      "       max_depth=30, min_child_weight=1, missing=None, n_estimators=50,\n",
      "       n_jobs=-1, nthread=None, objective='binary:logistic',\n",
      "       random_state=0, reg_alpha=0, reg_lambda=1, scale_pos_weight=1,\n",
      "       seed=None, silent=True, subsample=1)\n"
     ]
    }
   ],
   "source": [
    "print(model.best_estimator_)#printing the best_estimator"
   ]
  },
  {
   "cell_type": "code",
   "execution_count": 60,
   "metadata": {
    "colab": {
     "base_uri": "https://localhost:8080/",
     "height": 496
    },
    "colab_type": "code",
    "executionInfo": {
     "elapsed": 1149,
     "status": "ok",
     "timestamp": 1549188256851,
     "user": {
      "displayName": "mayank aggarwal",
      "photoUrl": "",
      "userId": "04107947634097457088"
     },
     "user_tz": -330
    },
    "id": "QBdBgmbjKnAZ",
    "outputId": "bb52c411-7464-4551-ff43-918074006117"
   },
   "outputs": [
    {
     "data": {
      "text/html": [
       "<div>\n",
       "<style scoped>\n",
       "    .dataframe tbody tr th:only-of-type {\n",
       "        vertical-align: middle;\n",
       "    }\n",
       "\n",
       "    .dataframe tbody tr th {\n",
       "        vertical-align: top;\n",
       "    }\n",
       "\n",
       "    .dataframe thead th {\n",
       "        text-align: right;\n",
       "    }\n",
       "</style>\n",
       "<table border=\"1\" class=\"dataframe\">\n",
       "  <thead>\n",
       "    <tr style=\"text-align: right;\">\n",
       "      <th></th>\n",
       "      <th>mean_fit_time</th>\n",
       "      <th>mean_score_time</th>\n",
       "      <th>mean_test_score</th>\n",
       "      <th>mean_train_score</th>\n",
       "      <th>param_max_depth</th>\n",
       "      <th>param_n_estimators</th>\n",
       "      <th>params</th>\n",
       "      <th>rank_test_score</th>\n",
       "      <th>split0_test_score</th>\n",
       "      <th>split0_train_score</th>\n",
       "      <th>...</th>\n",
       "      <th>split2_test_score</th>\n",
       "      <th>split2_train_score</th>\n",
       "      <th>split3_test_score</th>\n",
       "      <th>split3_train_score</th>\n",
       "      <th>split4_test_score</th>\n",
       "      <th>split4_train_score</th>\n",
       "      <th>std_fit_time</th>\n",
       "      <th>std_score_time</th>\n",
       "      <th>std_test_score</th>\n",
       "      <th>std_train_score</th>\n",
       "    </tr>\n",
       "  </thead>\n",
       "  <tbody>\n",
       "    <tr>\n",
       "      <th>0</th>\n",
       "      <td>14.193161</td>\n",
       "      <td>0.189327</td>\n",
       "      <td>0.946074</td>\n",
       "      <td>0.959469</td>\n",
       "      <td>11</td>\n",
       "      <td>21</td>\n",
       "      <td>{'max_depth': 11, 'n_estimators': 21}</td>\n",
       "      <td>36</td>\n",
       "      <td>0.948659</td>\n",
       "      <td>0.961775</td>\n",
       "      <td>...</td>\n",
       "      <td>0.948009</td>\n",
       "      <td>0.959019</td>\n",
       "      <td>0.947344</td>\n",
       "      <td>0.958365</td>\n",
       "      <td>0.940477</td>\n",
       "      <td>0.957193</td>\n",
       "      <td>6.470520</td>\n",
       "      <td>0.009445</td>\n",
       "      <td>0.002946</td>\n",
       "      <td>0.001688</td>\n",
       "    </tr>\n",
       "    <tr>\n",
       "      <th>1</th>\n",
       "      <td>20.153732</td>\n",
       "      <td>0.204038</td>\n",
       "      <td>0.947127</td>\n",
       "      <td>0.962851</td>\n",
       "      <td>11</td>\n",
       "      <td>30</td>\n",
       "      <td>{'max_depth': 11, 'n_estimators': 30}</td>\n",
       "      <td>34</td>\n",
       "      <td>0.950135</td>\n",
       "      <td>0.965270</td>\n",
       "      <td>...</td>\n",
       "      <td>0.948389</td>\n",
       "      <td>0.962619</td>\n",
       "      <td>0.948236</td>\n",
       "      <td>0.961843</td>\n",
       "      <td>0.942013</td>\n",
       "      <td>0.960995</td>\n",
       "      <td>9.047792</td>\n",
       "      <td>0.012643</td>\n",
       "      <td>0.002760</td>\n",
       "      <td>0.001471</td>\n",
       "    </tr>\n",
       "    <tr>\n",
       "      <th>2</th>\n",
       "      <td>23.310932</td>\n",
       "      <td>0.210168</td>\n",
       "      <td>0.947627</td>\n",
       "      <td>0.964501</td>\n",
       "      <td>11</td>\n",
       "      <td>35</td>\n",
       "      <td>{'max_depth': 11, 'n_estimators': 35}</td>\n",
       "      <td>32</td>\n",
       "      <td>0.950972</td>\n",
       "      <td>0.967252</td>\n",
       "      <td>...</td>\n",
       "      <td>0.948630</td>\n",
       "      <td>0.964045</td>\n",
       "      <td>0.948540</td>\n",
       "      <td>0.963246</td>\n",
       "      <td>0.942421</td>\n",
       "      <td>0.962474</td>\n",
       "      <td>10.459056</td>\n",
       "      <td>0.008551</td>\n",
       "      <td>0.002833</td>\n",
       "      <td>0.001699</td>\n",
       "    </tr>\n",
       "    <tr>\n",
       "      <th>3</th>\n",
       "      <td>26.559028</td>\n",
       "      <td>0.217920</td>\n",
       "      <td>0.947915</td>\n",
       "      <td>0.966236</td>\n",
       "      <td>11</td>\n",
       "      <td>40</td>\n",
       "      <td>{'max_depth': 11, 'n_estimators': 40}</td>\n",
       "      <td>29</td>\n",
       "      <td>0.951354</td>\n",
       "      <td>0.968289</td>\n",
       "      <td>...</td>\n",
       "      <td>0.948813</td>\n",
       "      <td>0.965939</td>\n",
       "      <td>0.948931</td>\n",
       "      <td>0.965292</td>\n",
       "      <td>0.942825</td>\n",
       "      <td>0.964557</td>\n",
       "      <td>11.809055</td>\n",
       "      <td>0.009069</td>\n",
       "      <td>0.002816</td>\n",
       "      <td>0.001324</td>\n",
       "    </tr>\n",
       "    <tr>\n",
       "      <th>4</th>\n",
       "      <td>29.652577</td>\n",
       "      <td>0.224765</td>\n",
       "      <td>0.948380</td>\n",
       "      <td>0.967831</td>\n",
       "      <td>11</td>\n",
       "      <td>45</td>\n",
       "      <td>{'max_depth': 11, 'n_estimators': 45}</td>\n",
       "      <td>25</td>\n",
       "      <td>0.951519</td>\n",
       "      <td>0.970779</td>\n",
       "      <td>...</td>\n",
       "      <td>0.949785</td>\n",
       "      <td>0.967256</td>\n",
       "      <td>0.949549</td>\n",
       "      <td>0.967007</td>\n",
       "      <td>0.943290</td>\n",
       "      <td>0.965933</td>\n",
       "      <td>13.329764</td>\n",
       "      <td>0.014536</td>\n",
       "      <td>0.002811</td>\n",
       "      <td>0.001639</td>\n",
       "    </tr>\n",
       "  </tbody>\n",
       "</table>\n",
       "<p>5 rows × 22 columns</p>\n",
       "</div>"
      ],
      "text/plain": [
       "   mean_fit_time  mean_score_time  mean_test_score  mean_train_score  \\\n",
       "0      14.193161         0.189327         0.946074          0.959469   \n",
       "1      20.153732         0.204038         0.947127          0.962851   \n",
       "2      23.310932         0.210168         0.947627          0.964501   \n",
       "3      26.559028         0.217920         0.947915          0.966236   \n",
       "4      29.652577         0.224765         0.948380          0.967831   \n",
       "\n",
       "  param_max_depth param_n_estimators                                 params  \\\n",
       "0              11                 21  {'max_depth': 11, 'n_estimators': 21}   \n",
       "1              11                 30  {'max_depth': 11, 'n_estimators': 30}   \n",
       "2              11                 35  {'max_depth': 11, 'n_estimators': 35}   \n",
       "3              11                 40  {'max_depth': 11, 'n_estimators': 40}   \n",
       "4              11                 45  {'max_depth': 11, 'n_estimators': 45}   \n",
       "\n",
       "   rank_test_score  split0_test_score  split0_train_score       ...         \\\n",
       "0               36           0.948659            0.961775       ...          \n",
       "1               34           0.950135            0.965270       ...          \n",
       "2               32           0.950972            0.967252       ...          \n",
       "3               29           0.951354            0.968289       ...          \n",
       "4               25           0.951519            0.970779       ...          \n",
       "\n",
       "   split2_test_score  split2_train_score  split3_test_score  \\\n",
       "0           0.948009            0.959019           0.947344   \n",
       "1           0.948389            0.962619           0.948236   \n",
       "2           0.948630            0.964045           0.948540   \n",
       "3           0.948813            0.965939           0.948931   \n",
       "4           0.949785            0.967256           0.949549   \n",
       "\n",
       "   split3_train_score  split4_test_score  split4_train_score  std_fit_time  \\\n",
       "0            0.958365           0.940477            0.957193      6.470520   \n",
       "1            0.961843           0.942013            0.960995      9.047792   \n",
       "2            0.963246           0.942421            0.962474     10.459056   \n",
       "3            0.965292           0.942825            0.964557     11.809055   \n",
       "4            0.967007           0.943290            0.965933     13.329764   \n",
       "\n",
       "   std_score_time  std_test_score  std_train_score  \n",
       "0        0.009445        0.002946         0.001688  \n",
       "1        0.012643        0.002760         0.001471  \n",
       "2        0.008551        0.002833         0.001699  \n",
       "3        0.009069        0.002816         0.001324  \n",
       "4        0.014536        0.002811         0.001639  \n",
       "\n",
       "[5 rows x 22 columns]"
      ]
     },
     "execution_count": 60,
     "metadata": {
      "tags": []
     },
     "output_type": "execute_result"
    }
   ],
   "source": [
    "results=pd.DataFrame(model.cv_results_)# getting varoius cv_scores and train_scores various values of hyperparameter given as parameter and storing it in a dataframe\n",
    "results.head()#printing the dataframe"
   ]
  },
  {
   "cell_type": "code",
   "execution_count": 0,
   "metadata": {
    "colab": {},
    "colab_type": "code",
    "collapsed": true,
    "id": "BSEQS_4mKm91"
   },
   "outputs": [],
   "source": [
    "results['mean_test_score']=results['mean_test_score']*100\n",
    "\n",
    "results=results.round(decimals=2)\n",
    "\n",
    "results['cv_error_score']=100-results['mean_test_score']\n",
    "\n"
   ]
  },
  {
   "cell_type": "markdown",
   "metadata": {
    "colab_type": "text",
    "id": "7BiVZ_OaLAsn"
   },
   "source": [
    "# PLOTTING THE HEATMAP WITH HYPERPARAMETERS FOR CV_ERROR SCORE"
   ]
  },
  {
   "cell_type": "code",
   "execution_count": 48,
   "metadata": {
    "colab": {
     "base_uri": "https://localhost:8080/",
     "height": 257
    },
    "colab_type": "code",
    "executionInfo": {
     "elapsed": 1099,
     "status": "ok",
     "timestamp": 1549188019702,
     "user": {
      "displayName": "mayank aggarwal",
      "photoUrl": "",
      "userId": "04107947634097457088"
     },
     "user_tz": -330
    },
    "id": "GPqnGWk5Km6d",
    "outputId": "5d8fdd6b-4393-4271-95f3-3b2d77a9dd99"
   },
   "outputs": [
    {
     "data": {
      "text/html": [
       "<div>\n",
       "<style scoped>\n",
       "    .dataframe tbody tr th:only-of-type {\n",
       "        vertical-align: middle;\n",
       "    }\n",
       "\n",
       "    .dataframe tbody tr th {\n",
       "        vertical-align: top;\n",
       "    }\n",
       "\n",
       "    .dataframe thead th {\n",
       "        text-align: right;\n",
       "    }\n",
       "</style>\n",
       "<table border=\"1\" class=\"dataframe\">\n",
       "  <thead>\n",
       "    <tr style=\"text-align: right;\">\n",
       "      <th>param_n_estimators</th>\n",
       "      <th>21</th>\n",
       "      <th>30</th>\n",
       "      <th>35</th>\n",
       "      <th>40</th>\n",
       "      <th>45</th>\n",
       "      <th>50</th>\n",
       "    </tr>\n",
       "    <tr>\n",
       "      <th>param_max_depth</th>\n",
       "      <th></th>\n",
       "      <th></th>\n",
       "      <th></th>\n",
       "      <th></th>\n",
       "      <th></th>\n",
       "      <th></th>\n",
       "    </tr>\n",
       "  </thead>\n",
       "  <tbody>\n",
       "    <tr>\n",
       "      <th>11</th>\n",
       "      <td>5.39</td>\n",
       "      <td>5.29</td>\n",
       "      <td>5.24</td>\n",
       "      <td>5.21</td>\n",
       "      <td>5.16</td>\n",
       "      <td>5.13</td>\n",
       "    </tr>\n",
       "    <tr>\n",
       "      <th>15</th>\n",
       "      <td>5.31</td>\n",
       "      <td>5.23</td>\n",
       "      <td>5.15</td>\n",
       "      <td>5.10</td>\n",
       "      <td>5.04</td>\n",
       "      <td>5.03</td>\n",
       "    </tr>\n",
       "    <tr>\n",
       "      <th>20</th>\n",
       "      <td>5.25</td>\n",
       "      <td>5.17</td>\n",
       "      <td>5.11</td>\n",
       "      <td>5.08</td>\n",
       "      <td>5.07</td>\n",
       "      <td>5.02</td>\n",
       "    </tr>\n",
       "    <tr>\n",
       "      <th>24</th>\n",
       "      <td>5.22</td>\n",
       "      <td>5.10</td>\n",
       "      <td>5.02</td>\n",
       "      <td>5.01</td>\n",
       "      <td>4.96</td>\n",
       "      <td>4.94</td>\n",
       "    </tr>\n",
       "    <tr>\n",
       "      <th>27</th>\n",
       "      <td>5.18</td>\n",
       "      <td>5.06</td>\n",
       "      <td>5.01</td>\n",
       "      <td>4.96</td>\n",
       "      <td>4.94</td>\n",
       "      <td>4.91</td>\n",
       "    </tr>\n",
       "    <tr>\n",
       "      <th>30</th>\n",
       "      <td>5.18</td>\n",
       "      <td>5.02</td>\n",
       "      <td>5.01</td>\n",
       "      <td>4.97</td>\n",
       "      <td>4.93</td>\n",
       "      <td>4.91</td>\n",
       "    </tr>\n",
       "  </tbody>\n",
       "</table>\n",
       "</div>"
      ],
      "text/plain": [
       "param_n_estimators    21    30    35    40    45    50\n",
       "param_max_depth                                       \n",
       "11                  5.39  5.29  5.24  5.21  5.16  5.13\n",
       "15                  5.31  5.23  5.15  5.10  5.04  5.03\n",
       "20                  5.25  5.17  5.11  5.08  5.07  5.02\n",
       "24                  5.22  5.10  5.02  5.01  4.96  4.94\n",
       "27                  5.18  5.06  5.01  4.96  4.94  4.91\n",
       "30                  5.18  5.02  5.01  4.97  4.93  4.91"
      ]
     },
     "execution_count": 48,
     "metadata": {
      "tags": []
     },
     "output_type": "execute_result"
    }
   ],
   "source": [
    "\n",
    "test_score_heatmap=results.pivot( 'param_max_depth' ,'param_n_estimators','cv_error_score'  )\n",
    "\n",
    "test_score_heatmap\n"
   ]
  },
  {
   "cell_type": "code",
   "execution_count": 49,
   "metadata": {
    "colab": {
     "base_uri": "https://localhost:8080/",
     "height": 386
    },
    "colab_type": "code",
    "executionInfo": {
     "elapsed": 1635,
     "status": "ok",
     "timestamp": 1549188027713,
     "user": {
      "displayName": "mayank aggarwal",
      "photoUrl": "",
      "userId": "04107947634097457088"
     },
     "user_tz": -330
    },
    "id": "-p4_Rk7kKm3L",
    "outputId": "3ca6935a-9185-4292-fb21-9cc5243b6d3f"
   },
   "outputs": [
    {
     "data": {
      "text/plain": [
       "<matplotlib.axes._subplots.AxesSubplot at 0x7fb8b81160b8>"
      ]
     },
     "execution_count": 49,
     "metadata": {
      "tags": []
     },
     "output_type": "execute_result"
    },
    {
     "data": {
      "image/png": "[encoded data removed]",
      "text/plain": [
       "<Figure size 576x396 with 2 Axes>"
      ]
     },
     "metadata": {
      "tags": []
     },
     "output_type": "display_data"
    }
   ],
   "source": [
    "import seaborn as sns\n",
    "sns.heatmap(test_score_heatmap,annot=True,annot_kws={\"size\": 15}, fmt='g',linewidths=.3)"
   ]
  },
  {
   "cell_type": "code",
   "execution_count": 50,
   "metadata": {
    "colab": {
     "base_uri": "https://localhost:8080/",
     "height": 123
    },
    "colab_type": "code",
    "executionInfo": {
     "elapsed": 1153,
     "status": "ok",
     "timestamp": 1549188044980,
     "user": {
      "displayName": "mayank aggarwal",
      "photoUrl": "",
      "userId": "04107947634097457088"
     },
     "user_tz": -330
    },
    "id": "Ch14p_wnKm0B",
    "outputId": "7c04bae5-e818-4d6a-b9b4-66cd1401a6b8"
   },
   "outputs": [
    {
     "name": "stdout",
     "output_type": "stream",
     "text": [
      "XGBClassifier(base_score=0.5, booster='gbtree', colsample_bylevel=1,\n",
      "       colsample_bytree=1, gamma=0, learning_rate=0.1, max_delta_step=0,\n",
      "       max_depth=30, min_child_weight=1, missing=None, n_estimators=50,\n",
      "       n_jobs=-1, nthread=None, objective='binary:logistic',\n",
      "       random_state=0, reg_alpha=0, reg_lambda=1, scale_pos_weight=1,\n",
      "       seed=None, silent=True, subsample=1)\n"
     ]
    }
   ],
   "source": [
    "print(model.best_estimator_)#printing the best_estimator"
   ]
  },
  {
   "cell_type": "markdown",
   "metadata": {
    "colab_type": "text",
    "id": "98XxtuHIMZpX"
   },
   "source": [
    "# FROM THE ABOVE HEATMAPS RESULTS FOR  CV DATA,WE FOUND THAT BEST HYPERPARAMETERS AS MAX_DEPTH=30 AND N_ESTIMATORS=50"
   ]
  },
  {
   "cell_type": "markdown",
   "metadata": {
    "colab_type": "text",
    "id": "eiwIXv-7MrTy"
   },
   "source": [
    "# PLOTTING THE ROC CURVE FOR GETTING AUC SCORE"
   ]
  },
  {
   "cell_type": "code",
   "execution_count": 0,
   "metadata": {
    "colab": {},
    "colab_type": "code",
    "collapsed": true,
    "id": "q0CtZx0OKmwu"
   },
   "outputs": [],
   "source": [
    "xg=XGBClassifier(n_jobs=-1,max_depth=30 ,n_estimators=50)\n",
    "xg.fit(train_tfidf,y_train)#fitting the model \n"
   ]
  },
  {
   "cell_type": "code",
   "execution_count": 53,
   "metadata": {
    "colab": {
     "base_uri": "https://localhost:8080/",
     "height": 386
    },
    "colab_type": "code",
    "executionInfo": {
     "elapsed": 2521,
     "status": "ok",
     "timestamp": 1549188185752,
     "user": {
      "displayName": "mayank aggarwal",
      "photoUrl": "",
      "userId": "04107947634097457088"
     },
     "user_tz": -330
    },
    "id": "2ziFa9Wzz6kV",
    "outputId": "98abac4b-a85c-439e-b9db-87a67222b0d5"
   },
   "outputs": [
    {
     "data": {
      "image/png": "[encoded data removed]",
      "text/plain": [
       "<Figure size 576x396 with 1 Axes>"
      ]
     },
     "metadata": {
      "tags": []
     },
     "output_type": "display_data"
    }
   ],
   "source": [
    "probs = xg.predict_proba(test_tfidf)\n",
    "preds = probs[:,1]\n",
    "fpr, tpr, threshold = metrics.roc_curve(y_test, preds)\n",
    "roc_auc = metrics.auc(fpr, tpr)\n",
    " \n",
    "import matplotlib.pyplot as plt\n",
    "plt.title('Receiver Operating Characteristic')\n",
    "plt.plot(fpr, tpr, 'b', label = 'AUC = %0.2f' % roc_auc)\n",
    "plt.legend(loc = 'best')\n",
    "plt.plot([0, 1], [0, 1],'r--')\n",
    "plt.xlim([0, 1])\n",
    "plt.ylim([0, 1])\n",
    "plt.ylabel('True Positive Rate')\n",
    "plt.xlabel('False Positive Rate')\n",
    "plt.show()"
   ]
  },
  {
   "cell_type": "code",
   "execution_count": 54,
   "metadata": {
    "colab": {
     "base_uri": "https://localhost:8080/",
     "height": 34
    },
    "colab_type": "code",
    "executionInfo": {
     "elapsed": 1037,
     "status": "ok",
     "timestamp": 1549188191878,
     "user": {
      "displayName": "mayank aggarwal",
      "photoUrl": "",
      "userId": "04107947634097457088"
     },
     "user_tz": -330
    },
    "id": "gylUXWEUTjNi",
    "outputId": "bb15a898-047f-43f6-9555-64d3bd6f2cca"
   },
   "outputs": [
    {
     "name": "stdout",
     "output_type": "stream",
     "text": [
      "accuracy from the ROC curve is found as  87.37248689754394\n"
     ]
    }
   ],
   "source": [
    "print('accuracy from the ROC curve is found as ',roc_auc*100)"
   ]
  },
  {
   "cell_type": "code",
   "execution_count": 55,
   "metadata": {
    "colab": {
     "base_uri": "https://localhost:8080/",
     "height": 34
    },
    "colab_type": "code",
    "executionInfo": {
     "elapsed": 1314,
     "status": "ok",
     "timestamp": 1549188194647,
     "user": {
      "displayName": "mayank aggarwal",
      "photoUrl": "",
      "userId": "04107947634097457088"
     },
     "user_tz": -330
    },
    "id": "me1oIasNTnZs",
    "outputId": "b376d5b2-137e-4249-972a-6648b1904dfe"
   },
   "outputs": [
    {
     "name": "stdout",
     "output_type": "stream",
     "text": [
      "shape of wieght vector is: (16382,)\n"
     ]
    }
   ],
   "source": [
    "z=rf.feature_importances_\n",
    "a=z.argsort()\n",
    "print('shape of wieght vector is:',a.shape)\n",
    "top_features=np.take(vectorizer.get_feature_names(),a[16360:])#taking last features as they are of very high importance "
   ]
  },
  {
   "cell_type": "code",
   "execution_count": 56,
   "metadata": {
    "colab": {
     "base_uri": "https://localhost:8080/",
     "height": 70
    },
    "colab_type": "code",
    "executionInfo": {
     "elapsed": 1472,
     "status": "ok",
     "timestamp": 1549188196045,
     "user": {
      "displayName": "mayank aggarwal",
      "photoUrl": "",
      "userId": "04107947634097457088"
     },
     "user_tz": -330
    },
    "id": "qmMmh7FKTrD1",
    "outputId": "767d2c64-f808-4428-8f55-3fa33ae4c87e"
   },
   "outputs": [
    {
     "name": "stdout",
     "output_type": "stream",
     "text": [
      "['return' 'refund' 'receiv' 'poor' 'gross' 'money' 'best' 'thought' 'tast'\n",
      " 'horribl' 'mayb' 'stale' 'love' 'threw' 'wast' 'bad' 'worst' 'terribl'\n",
      " 'aw' 'would' 'great' 'disappoint']\n"
     ]
    }
   ],
   "source": [
    "print(top_features)#printing the top_features\n",
    "top=list(top_features)"
   ]
  },
  {
   "cell_type": "markdown",
   "metadata": {
    "colab_type": "text",
    "id": "YCFe4B98TwKh"
   },
   "source": [
    "# REPRESENTING TOP IMPORTANT FEATURES USING WORDCLOUD LIBRARY"
   ]
  },
  {
   "cell_type": "code",
   "execution_count": 57,
   "metadata": {
    "colab": {
     "base_uri": "https://localhost:8080/",
     "height": 415
    },
    "colab_type": "code",
    "executionInfo": {
     "elapsed": 2888,
     "status": "ok",
     "timestamp": 1549188198671,
     "user": {
      "displayName": "mayank aggarwal",
      "photoUrl": "",
      "userId": "04107947634097457088"
     },
     "user_tz": -330
    },
    "id": "TceIDN2yTwyz",
    "outputId": "82cc7dad-7a6a-493d-b9c1-7193772cd531"
   },
   "outputs": [
    {
     "data": {
      "image/png": "[encoded data removed]",
      "text/plain": [
       "<Figure size 576x576 with 1 Axes>"
      ]
     },
     "metadata": {
      "tags": []
     },
     "output_type": "display_data"
    }
   ],
   "source": [
    "from wordcloud import WordCloud #here we are printing the top features using wordcloud library\n",
    "import matplotlib.pyplot as plt\n",
    "wordcloud = WordCloud(width = 1500, height = 1000, \n",
    "                background_color ='white', \n",
    "                 \n",
    "                min_font_size = 10).generate(str(top)) \n",
    "  \n",
    "# plot the WordCloud image                        \n",
    "plt.figure(figsize = (8, 8), facecolor = None) \n",
    "plt.imshow(wordcloud) \n",
    "plt.axis(\"off\") \n",
    "plt.tight_layout(pad = 0) \n",
    "  \n",
    "plt.show() "
   ]
  },
  {
   "cell_type": "code",
   "execution_count": 59,
   "metadata": {
    "colab": {
     "base_uri": "https://localhost:8080/",
     "height": 511
    },
    "colab_type": "code",
    "executionInfo": {
     "elapsed": 2130,
     "status": "ok",
     "timestamp": 1549188233748,
     "user": {
      "displayName": "mayank aggarwal",
      "photoUrl": "",
      "userId": "04107947634097457088"
     },
     "user_tz": -330
    },
    "id": "7g9CPL9ak3LK",
    "outputId": "fd94b75b-ed9e-4b71-e68b-29d85a2fedd9"
   },
   "outputs": [
    {
     "name": "stdout",
     "output_type": "stream",
     "text": [
      "Accuracy on test set: 90.110%\n",
      "Precision on test set: 0.905\n",
      "Recall on test set: 0.991\n",
      "F1-Score on test set: 0.946\n",
      "Confusion Matrix of test set:\n",
      " [ [TN  FP]\n",
      " [FN TP] ]\n",
      "\n"
     ]
    },
    {
     "data": {
      "text/plain": [
       "<matplotlib.axes._subplots.AxesSubplot at 0x7fb8b7f11128>"
      ]
     },
     "execution_count": 59,
     "metadata": {
      "tags": []
     },
     "output_type": "execute_result"
    },
    {
     "data": {
      "image/png": "[encoded data removed]",
      "text/plain": [
       "<Figure size 576x396 with 2 Axes>"
      ]
     },
     "metadata": {
      "tags": []
     },
     "output_type": "display_data"
    }
   ],
   "source": [
    "\n",
    "y_pred = xg.predict(test_tfidf)\n",
    "print(\"Accuracy on test set: %0.3f%%\"%(accuracy_score(y_test, y_pred)*100))#printing accuracy\n",
    "print(\"Precision on test set: %0.3f\"%(precision_score(y_test, y_pred)))#printing precision score\n",
    "print(\"Recall on test set: %0.3f\"%(recall_score(y_test, y_pred))) #printing recall\n",
    "print(\"F1-Score on test set: %0.3f\"%(f1_score(y_test, y_pred))) \n",
    "print(\"Confusion Matrix of test set:\\n [ [TN  FP]\\n [FN TP] ]\\n\") \n",
    "df_cm = pd.DataFrame(confusion_matrix(y_test, y_pred), range(2),range(2)) #generating the heatmap for confusion matrix\n",
    "sns.set(font_scale=1.4)#for label size\n",
    "sns.heatmap(df_cm, annot=True,annot_kws={\"size\": 16}, fmt='g')\n"
   ]
  },
  {
   "cell_type": "code",
   "execution_count": 0,
   "metadata": {
    "colab": {},
    "colab_type": "code",
    "collapsed": true,
    "id": "66AObhdplgZp"
   },
   "outputs": [],
   "source": []
  }
 ],
 "metadata": {
  "colab": {
   "collapsed_sections": [],
   "name": " rf and gbdt_tfidf.ipynb",
   "provenance": [
    {
     "file_id": "1EzSmPMxViRAktrdeBWXUEp6ez9TrQQqb",
     "timestamp": 1549135430990
    },
    {
     "file_id": "1YrZGXsgV_wAU4O2vR_ZS8ZJeo3YZV-zL",
     "timestamp": 1549103206250
    }
   ],
   "version": "0.3.2"
  },
  "kernelspec": {
   "display_name": "Python 3",
   "language": "python",
   "name": "python3"
  },
  "language_info": {
   "codemirror_mode": {
    "name": "ipython",
    "version": 3
   },
   "file_extension": ".py",
   "mimetype": "text/x-python",
   "name": "python",
   "nbconvert_exporter": "python",
   "pygments_lexer": "ipython3",
   "version": "3.6.3"
  }
 },
 "nbformat": 4,
 "nbformat_minor": 1
}
