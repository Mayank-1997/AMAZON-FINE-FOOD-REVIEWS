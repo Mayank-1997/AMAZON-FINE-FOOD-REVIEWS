{
 "cells": [
  {
   "cell_type": "markdown",
   "metadata": {
    "colab_type": "text",
    "id": "JY8IF99xnx6g"
   },
   "source": [
    "# OBJECTIVE #\n",
    "\n",
    "1.   <b>APPLYING RANDOM FOREST WITH AVG WORD2VEC VECTORIZATION\n",
    "\n",
    " *   FINDING THE BEST HYPERPARAMETER USING GRIDSEARCHCV WITH TRAIN DATA AND CROSS-VALIDATION DATA BY PLOTTING THE RESLUTS OF VAROIUS TRAIN DATA AND CROSS VALIDATION DATA\n",
    " * USING THE APROPRIATE VALUE OF HYPERPARAMETER ,TESTING ACCURACY ON TEST DATA\n",
    "    USING F1-SCORE\n",
    " * PLOTTING THE CONFUSION MATRIX TO GET THE  PRECISOIN ,RECALL VALUE WITH HELP OF HEATMAP\n",
    "  * PRINTING THE TOP 30 MOST IMPORTANT  FEATURES \n",
    "  \n"
   ]
  },
  {
   "cell_type": "code",
   "execution_count": 0,
   "metadata": {
    "colab": {},
    "colab_type": "code",
    "collapsed": true,
    "id": "sqKe2mXbEWul"
   },
   "outputs": [],
   "source": [
    "from sklearn.model_selection import train_test_split          #importing the necessary libraries\n",
    "from sklearn.model_selection import RandomizedSearchCV\n",
    "from sklearn.datasets import *\n",
    "from sklearn import naive_bayes\n",
    "from sklearn.feature_extraction.text import CountVectorizer\n",
    "from sklearn.feature_extraction.text import TfidfVectorizer\n",
    "import numpy as np\n",
    "import pandas as pd\n",
    "from sklearn import *\n",
    "import warnings\n",
    "warnings.filterwarnings(\"ignore\")\n",
    "from sklearn.ensemble import RandomForestClassifier\n",
    "from gensim.models import Word2Vec\n",
    "from tqdm import tqdm\n"
   ]
  },
  {
   "cell_type": "code",
   "execution_count": 8,
   "metadata": {
    "colab": {
     "base_uri": "https://localhost:8080/",
     "height": 34
    },
    "colab_type": "code",
    "executionInfo": {
     "elapsed": 1202,
     "status": "ok",
     "timestamp": 1549198808228,
     "user": {
      "displayName": "mayank aggarwal",
      "photoUrl": "",
      "userId": "04107947634097457088"
     },
     "user_tz": -330
    },
    "id": "I9Yx8XnxTAXi",
    "outputId": "c55ff209-81fa-470e-8302-9f559f9a218e"
   },
   "outputs": [
    {
     "name": "stdout",
     "output_type": "stream",
     "text": [
      "Drive already mounted at /content/gdrive; to attempt to forcibly remount, call drive.mount(\"/content/gdrive\", force_remount=True).\n"
     ]
    }
   ],
   "source": [
    "from google.colab import drive\n",
    "drive.mount('/content/gdrive')#geeting the content from the google drive"
   ]
  },
  {
   "cell_type": "code",
   "execution_count": 0,
   "metadata": {
    "colab": {},
    "colab_type": "code",
    "collapsed": true,
    "id": "UB3PtZmvTK7W"
   },
   "outputs": [],
   "source": [
    "final_processed_data=pd.read_csv(\"gdrive/My Drive/final_new_data.csv\")#loading the preprocessed data  with 100k points into dataframe "
   ]
  },
  {
   "cell_type": "code",
   "execution_count": 10,
   "metadata": {
    "colab": {
     "base_uri": "https://localhost:8080/",
     "height": 52
    },
    "colab_type": "code",
    "executionInfo": {
     "elapsed": 2057,
     "status": "ok",
     "timestamp": 1549198811587,
     "user": {
      "displayName": "mayank aggarwal",
      "photoUrl": "",
      "userId": "04107947634097457088"
     },
     "user_tz": -330
    },
    "id": "RENTF3KZTWSM",
    "outputId": "347adcaa-f1f3-424e-e63e-947f30448279"
   },
   "outputs": [
    {
     "name": "stdout",
     "output_type": "stream",
     "text": [
      "88521\n",
      "11479\n"
     ]
    }
   ],
   "source": [
    "# getting the counts of 0 and 1 in \"SCORE\" column to know whether it is unbalanced data or not\n",
    "count_of_1=0\n",
    "count_of_0=0\n",
    "for i in final_processed_data['Score']:\n",
    "   if i==1:\n",
    "    count_of_1+=1\n",
    "   else:\n",
    "    count_of_0+=1\n",
    "print(count_of_1)\n",
    "print(count_of_0)\n",
    "#it is an imbalanced dataset"
   ]
  },
  {
   "cell_type": "code",
   "execution_count": 0,
   "metadata": {
    "colab": {},
    "colab_type": "code",
    "collapsed": true,
    "id": "icFP4UVuTY78"
   },
   "outputs": [],
   "source": [
    "#spliiting the data into train and test data\n",
    "x_train,x_test,y_train,y_test=model_selection.train_test_split(final_processed_data['CleanedText'].values,final_processed_data['Score'].values,test_size=0.3,shuffle=False)"
   ]
  },
  {
   "cell_type": "code",
   "execution_count": 15,
   "metadata": {
    "colab": {
     "base_uri": "https://localhost:8080/",
     "height": 126
    },
    "colab_type": "code",
    "executionInfo": {
     "elapsed": 21737,
     "status": "ok",
     "timestamp": 1549198869493,
     "user": {
      "displayName": "mayank aggarwal",
      "photoUrl": "",
      "userId": "04107947634097457088"
     },
     "user_tz": -330
    },
    "id": "8eqrT4wWRKCZ",
    "outputId": "d645e8cd-6962-4d8b-d9e4-8ee2041a6b8a"
   },
   "outputs": [
    {
     "name": "stdout",
     "output_type": "stream",
     "text": [
      "witti littl book make son laugh loud recit car drive along alway sing refrain hes learn whale india droop love new word book introduc silli classic book will bet son still abl recit memori colleg\n",
      "*****************************************************************\n",
      "['witti', 'littl', 'book', 'make', 'son', 'laugh', 'loud', 'recit', 'car', 'drive', 'along', 'alway', 'sing', 'refrain', 'hes', 'learn', 'whale', 'india', 'droop', 'love', 'new', 'word', 'book', 'introduc', 'silli', 'classic', 'book', 'will', 'bet', 'son', 'still', 'abl', 'recit', 'memori', 'colleg']\n",
      "***********************************************************************\n",
      "sample words  ['witti', 'littl', 'book', 'make', 'son', 'laugh', 'loud', 'car', 'drive', 'along', 'alway', 'sing', 'hes', 'learn', 'india', 'droop', 'love', 'new', 'word', 'introduc', 'silli', 'classic', 'will', 'bet', 'still', 'abl', 'memori', 'colleg', 'rememb', 'see', 'show', 'air', 'televis', 'year', 'ago', 'child', 'sister', 'later', 'bought', 'day', 'thirti', 'someth', 'use', 'seri', 'song', 'student', 'teach', 'preschool', 'turn', 'whole']\n"
     ]
    }
   ],
   "source": [
    "list_of_sent=[]\n",
    "for sent in x_train:\n",
    " list_of_sent.append(sent.split())#splitting of sentences into words AND appending them to list\n",
    "print(x_train[0])\n",
    "print(\"*****************************************************************\")\n",
    "print(list_of_sent[0])\n",
    "word_to_vector=Word2Vec(list_of_sent,min_count=5,size=50,workers=2)#constructing my our word to vector\n",
    "w_t_c_words=list(word_to_vector.wv.vocab)\n",
    "print(\"***********************************************************************\")\n",
    "print(\"sample words \", w_t_c_words[0:50])"
   ]
  },
  {
   "cell_type": "code",
   "execution_count": 18,
   "metadata": {
    "colab": {
     "base_uri": "https://localhost:8080/",
     "height": 70
    },
    "colab_type": "code",
    "executionInfo": {
     "elapsed": 86520,
     "status": "ok",
     "timestamp": 1549198979220,
     "user": {
      "displayName": "mayank aggarwal",
      "photoUrl": "",
      "userId": "04107947634097457088"
     },
     "user_tz": -330
    },
    "id": "jDfECWNURJ7m",
    "outputId": "f33dc9b0-a6f9-4815-fe47-18174531e5ec"
   },
   "outputs": [
    {
     "name": "stderr",
     "output_type": "stream",
     "text": [
      "100%|██████████| 70000/70000 [01:25<00:00, 814.41it/s]"
     ]
    },
    {
     "name": "stdout",
     "output_type": "stream",
     "text": [
      "70000\n",
      "50\n"
     ]
    },
    {
     "name": "stderr",
     "output_type": "stream",
     "text": [
      "\n"
     ]
    }
   ],
   "source": [
    "###### NOW STARTING AVERAGE WORD TO VEC FOR TRAIN DATA#################################################################\n",
    "train_sent_vectors = []; # the avg-w2v for each sentence/review is stored in this list\n",
    "for sent in tqdm(list_of_sent): # for each review/sentence\n",
    " sent_vec = np.zeros(50) # as word vectors are of zero length\n",
    " cnt_words =0; # num of words with a valid vector in the sentence/review\n",
    " for word in sent: # for each word in a review/sentence\n",
    "   if word in w_t_c_words:\n",
    "     vec = word_to_vector.wv[word]\n",
    "     sent_vec += vec\n",
    "     cnt_words += 1\n",
    " if cnt_words != 0:\n",
    "  sent_vec /= cnt_words\n",
    " train_sent_vectors.append(sent_vec)\n",
    "print(len(train_sent_vectors))\n",
    "print(len(train_sent_vectors[0]))"
   ]
  },
  {
   "cell_type": "code",
   "execution_count": 19,
   "metadata": {
    "colab": {
     "base_uri": "https://localhost:8080/",
     "height": 34
    },
    "colab_type": "code",
    "executionInfo": {
     "elapsed": 80277,
     "status": "ok",
     "timestamp": 1549198979707,
     "user": {
      "displayName": "mayank aggarwal",
      "photoUrl": "",
      "userId": "04107947634097457088"
     },
     "user_tz": -330
    },
    "id": "tgNo7-JnRJ36",
    "outputId": "84ce82d4-046c-4fc5-8efd-3304fe556250"
   },
   "outputs": [
    {
     "name": "stdout",
     "output_type": "stream",
     "text": [
      "(70000, 50)\n"
     ]
    }
   ],
   "source": [
    "from sklearn.preprocessing import StandardScaler #standarizing the training  data  \n",
    "x_train_data=StandardScaler( with_mean=False).fit_transform(train_sent_vectors)\n",
    "print(x_train_data.shape)"
   ]
  },
  {
   "cell_type": "code",
   "execution_count": 20,
   "metadata": {
    "colab": {
     "base_uri": "https://localhost:8080/",
     "height": 107
    },
    "colab_type": "code",
    "executionInfo": {
     "elapsed": 78006,
     "status": "ok",
     "timestamp": 1549198979709,
     "user": {
      "displayName": "mayank aggarwal",
      "photoUrl": "",
      "userId": "04107947634097457088"
     },
     "user_tz": -330
    },
    "id": "eM6GqiNfRJxR",
    "outputId": "0abe139f-d147-415d-cc69-90f5901f215b"
   },
   "outputs": [
    {
     "name": "stdout",
     "output_type": "stream",
     "text": [
      "product carbon fruit juic high fructos corn syrup pack calori littl product prefer drink calori plain water tast wasnt pleas left unpleas aftertast also sweet drink made less thirst quencher\n",
      "*****************************************************************\n",
      "['product', 'carbon', 'fruit', 'juic', 'high', 'fructos', 'corn', 'syrup', 'pack', 'calori', 'littl', 'product', 'prefer', 'drink', 'calori', 'plain', 'water', 'tast', 'wasnt', 'pleas', 'left', 'unpleas', 'aftertast', 'also', 'sweet', 'drink', 'made', 'less', 'thirst', 'quencher']\n",
      "*******************************************************************\n"
     ]
    }
   ],
   "source": [
    "list_of_sent=[]\n",
    "for sent in x_test:\n",
    " list_of_sent.append(sent.split())#splitting of sentences into words AND appending them to list\n",
    "print(x_test[0])\n",
    "print(\"*****************************************************************\")\n",
    "print(list_of_sent[0])\n",
    "print('*******************************************************************')\n"
   ]
  },
  {
   "cell_type": "code",
   "execution_count": 21,
   "metadata": {
    "colab": {
     "base_uri": "https://localhost:8080/",
     "height": 70
    },
    "colab_type": "code",
    "executionInfo": {
     "elapsed": 39267,
     "status": "ok",
     "timestamp": 1549199023946,
     "user": {
      "displayName": "mayank aggarwal",
      "photoUrl": "",
      "userId": "04107947634097457088"
     },
     "user_tz": -330
    },
    "id": "F499DPw2RJoF",
    "outputId": "bd473481-7304-4b14-e860-6b2d4cf965e7"
   },
   "outputs": [
    {
     "name": "stderr",
     "output_type": "stream",
     "text": [
      "100%|██████████| 30000/30000 [00:38<00:00, 786.82it/s]"
     ]
    },
    {
     "name": "stdout",
     "output_type": "stream",
     "text": [
      "30000\n",
      "50\n"
     ]
    },
    {
     "name": "stderr",
     "output_type": "stream",
     "text": [
      "\n"
     ]
    }
   ],
   "source": [
    "###### NOW STARTING AVERAGE WORD TO VEC FOR TEST DATA#################################################################\n",
    "sent_vectors = []; # the avg-w2v for each sentence/review is stored in this list\n",
    "for sent in tqdm(list_of_sent): # for each review/sentence\n",
    " sent_vec = np.zeros(50) # as word vectors are of zero length\n",
    " cnt_words =0; # num of words with a valid vector in the sentence/review\n",
    " for word in sent: # for each word in a review/sentence\n",
    "   if word in w_t_c_words:\n",
    "     vec = word_to_vector.wv[word]\n",
    "     sent_vec += vec\n",
    "     cnt_words += 1\n",
    " if cnt_words != 0:\n",
    "  sent_vec /= cnt_words\n",
    " sent_vectors.append(sent_vec)\n",
    "print(len(sent_vectors))\n",
    "print(len(sent_vectors[0]))"
   ]
  },
  {
   "cell_type": "code",
   "execution_count": 41,
   "metadata": {
    "colab": {
     "base_uri": "https://localhost:8080/",
     "height": 34
    },
    "colab_type": "code",
    "executionInfo": {
     "elapsed": 1306,
     "status": "ok",
     "timestamp": 1549210859907,
     "user": {
      "displayName": "mayank aggarwal",
      "photoUrl": "",
      "userId": "04107947634097457088"
     },
     "user_tz": -330
    },
    "id": "qdTYpDVUKTdt",
    "outputId": "255e9bb1-b608-4c16-b3c4-5a3061eb90a9"
   },
   "outputs": [
    {
     "name": "stdout",
     "output_type": "stream",
     "text": [
      "(30000, 50)\n"
     ]
    }
   ],
   "source": [
    "from sklearn.preprocessing import StandardScaler #standarizing the training  data  \n",
    "x_test_data=StandardScaler( with_mean=False).fit_transform(sent_vectors)\n",
    "print(x_test_data.shape)"
   ]
  },
  {
   "cell_type": "code",
   "execution_count": 31,
   "metadata": {
    "colab": {
     "base_uri": "https://localhost:8080/",
     "height": 52
    },
    "colab_type": "code",
    "executionInfo": {
     "elapsed": 2157,
     "status": "ok",
     "timestamp": 1549208218525,
     "user": {
      "displayName": "mayank aggarwal",
      "photoUrl": "",
      "userId": "04107947634097457088"
     },
     "user_tz": -330
    },
    "id": "XDGtTsqllX5t",
    "outputId": "21db8257-576f-4a83-d602-8b1d57f4839d"
   },
   "outputs": [
    {
     "name": "stdout",
     "output_type": "stream",
     "text": [
      "CPU times: user 3 µs, sys: 0 ns, total: 3 µs\n",
      "Wall time: 6.2 µs\n"
     ]
    }
   ],
   "source": [
    "#biudling the model\n",
    "#using time series split method for cross-validation score\n",
    "from sklearn.model_selection import TimeSeriesSplit\n",
    "tscv = TimeSeriesSplit(n_splits=5) \n",
    "rf=RandomForestClassifier(criterion='gini',class_weight={1:.5,0:.5})\n",
    "tuned_parameters=[{'max_depth':[20,30,40,50,60,80],'n_estimators':[21,30,40,50,70,100]}]\n",
    "#applying the model of decision tree and using gridsearchcv to find the best hyper parameter\n",
    "%time\n",
    "from sklearn.model_selection import GridSearchCV\n",
    "model = GridSearchCV(rf, tuned_parameters, scoring = 'f1', cv=tscv,n_jobs=-1)#building the gridsearchcv model\n"
   ]
  },
  {
   "cell_type": "code",
   "execution_count": 32,
   "metadata": {
    "colab": {
     "base_uri": "https://localhost:8080/",
     "height": 283
    },
    "colab_type": "code",
    "executionInfo": {
     "elapsed": 2090113,
     "status": "ok",
     "timestamp": 1549210315297,
     "user": {
      "displayName": "mayank aggarwal",
      "photoUrl": "",
      "userId": "04107947634097457088"
     },
     "user_tz": -330
    },
    "id": "LCZJCchRlZUT",
    "outputId": "a3505c92-84bc-4ee4-bf94-b37913db00c3"
   },
   "outputs": [
    {
     "name": "stdout",
     "output_type": "stream",
     "text": [
      "CPU times: user 48.4 s, sys: 276 ms, total: 48.7 s\n",
      "Wall time: 34min 46s\n"
     ]
    },
    {
     "data": {
      "text/plain": [
       "GridSearchCV(cv=TimeSeriesSplit(max_train_size=None, n_splits=5),\n",
       "       error_score='raise-deprecating',\n",
       "       estimator=RandomForestClassifier(bootstrap=True, class_weight={1: 0.5, 0: 0.5},\n",
       "            criterion='gini', max_depth=None, max_features='auto',\n",
       "            max_leaf_nodes=None, min_impurity_decrease=0.0,\n",
       "            min_impurity_split=None, min_samples_leaf=1,\n",
       "            min_samples_split=2, min_weight_fraction_leaf=0.0,\n",
       "            n_estimators='warn', n_jobs=None, oob_score=False,\n",
       "            random_state=None, verbose=0, warm_start=False),\n",
       "       fit_params=None, iid='warn', n_jobs=-1,\n",
       "       param_grid=[{'max_depth': [20, 30, 40, 50, 60, 80], 'n_estimators': [21, 30, 40, 50, 70, 100]}],\n",
       "       pre_dispatch='2*n_jobs', refit=True, return_train_score='warn',\n",
       "       scoring='f1', verbose=0)"
      ]
     },
     "execution_count": 32,
     "metadata": {
      "tags": []
     },
     "output_type": "execute_result"
    }
   ],
   "source": [
    "%%time\n",
    "model.fit(x_train_data, y_train)#fiitting the training data\n"
   ]
  },
  {
   "cell_type": "code",
   "execution_count": 33,
   "metadata": {
    "colab": {
     "base_uri": "https://localhost:8080/",
     "height": 141
    },
    "colab_type": "code",
    "executionInfo": {
     "elapsed": 1130,
     "status": "ok",
     "timestamp": 1549210469592,
     "user": {
      "displayName": "mayank aggarwal",
      "photoUrl": "",
      "userId": "04107947634097457088"
     },
     "user_tz": -330
    },
    "id": "PMKWg1allZQv",
    "outputId": "b5bdb633-91b0-4930-850e-d6d4f55c9c6a"
   },
   "outputs": [
    {
     "name": "stdout",
     "output_type": "stream",
     "text": [
      "RandomForestClassifier(bootstrap=True, class_weight={1: 0.5, 0: 0.5},\n",
      "            criterion='gini', max_depth=80, max_features='auto',\n",
      "            max_leaf_nodes=None, min_impurity_decrease=0.0,\n",
      "            min_impurity_split=None, min_samples_leaf=1,\n",
      "            min_samples_split=2, min_weight_fraction_leaf=0.0,\n",
      "            n_estimators=70, n_jobs=None, oob_score=False,\n",
      "            random_state=None, verbose=0, warm_start=False)\n"
     ]
    }
   ],
   "source": [
    "print(model.best_estimator_)#printing the best_estimator"
   ]
  },
  {
   "cell_type": "code",
   "execution_count": 34,
   "metadata": {
    "colab": {
     "base_uri": "https://localhost:8080/",
     "height": 496
    },
    "colab_type": "code",
    "executionInfo": {
     "elapsed": 1097,
     "status": "ok",
     "timestamp": 1549210494837,
     "user": {
      "displayName": "mayank aggarwal",
      "photoUrl": "",
      "userId": "04107947634097457088"
     },
     "user_tz": -330
    },
    "id": "oHPSBPF0lZB_",
    "outputId": "654fa398-580c-40a1-95b9-181589b87571"
   },
   "outputs": [
    {
     "data": {
      "text/html": [
       "<div>\n",
       "<style scoped>\n",
       "    .dataframe tbody tr th:only-of-type {\n",
       "        vertical-align: middle;\n",
       "    }\n",
       "\n",
       "    .dataframe tbody tr th {\n",
       "        vertical-align: top;\n",
       "    }\n",
       "\n",
       "    .dataframe thead th {\n",
       "        text-align: right;\n",
       "    }\n",
       "</style>\n",
       "<table border=\"1\" class=\"dataframe\">\n",
       "  <thead>\n",
       "    <tr style=\"text-align: right;\">\n",
       "      <th></th>\n",
       "      <th>mean_fit_time</th>\n",
       "      <th>mean_score_time</th>\n",
       "      <th>mean_test_score</th>\n",
       "      <th>mean_train_score</th>\n",
       "      <th>param_max_depth</th>\n",
       "      <th>param_n_estimators</th>\n",
       "      <th>params</th>\n",
       "      <th>rank_test_score</th>\n",
       "      <th>split0_test_score</th>\n",
       "      <th>split0_train_score</th>\n",
       "      <th>...</th>\n",
       "      <th>split2_test_score</th>\n",
       "      <th>split2_train_score</th>\n",
       "      <th>split3_test_score</th>\n",
       "      <th>split3_train_score</th>\n",
       "      <th>split4_test_score</th>\n",
       "      <th>split4_train_score</th>\n",
       "      <th>std_fit_time</th>\n",
       "      <th>std_score_time</th>\n",
       "      <th>std_test_score</th>\n",
       "      <th>std_train_score</th>\n",
       "    </tr>\n",
       "  </thead>\n",
       "  <tbody>\n",
       "    <tr>\n",
       "      <th>0</th>\n",
       "      <td>8.740210</td>\n",
       "      <td>0.057351</td>\n",
       "      <td>0.944865</td>\n",
       "      <td>0.996863</td>\n",
       "      <td>20</td>\n",
       "      <td>21</td>\n",
       "      <td>{'max_depth': 20, 'n_estimators': 21}</td>\n",
       "      <td>34</td>\n",
       "      <td>0.948730</td>\n",
       "      <td>0.998270</td>\n",
       "      <td>...</td>\n",
       "      <td>0.945956</td>\n",
       "      <td>0.996647</td>\n",
       "      <td>0.945093</td>\n",
       "      <td>0.996467</td>\n",
       "      <td>0.939062</td>\n",
       "      <td>0.995634</td>\n",
       "      <td>4.670454</td>\n",
       "      <td>0.005628</td>\n",
       "      <td>0.003170</td>\n",
       "      <td>0.000881</td>\n",
       "    </tr>\n",
       "    <tr>\n",
       "      <th>1</th>\n",
       "      <td>12.501804</td>\n",
       "      <td>0.077723</td>\n",
       "      <td>0.946017</td>\n",
       "      <td>0.997540</td>\n",
       "      <td>20</td>\n",
       "      <td>30</td>\n",
       "      <td>{'max_depth': 20, 'n_estimators': 30}</td>\n",
       "      <td>12</td>\n",
       "      <td>0.949224</td>\n",
       "      <td>0.999519</td>\n",
       "      <td>...</td>\n",
       "      <td>0.946101</td>\n",
       "      <td>0.997220</td>\n",
       "      <td>0.947475</td>\n",
       "      <td>0.996813</td>\n",
       "      <td>0.941526</td>\n",
       "      <td>0.996159</td>\n",
       "      <td>6.589666</td>\n",
       "      <td>0.007625</td>\n",
       "      <td>0.002556</td>\n",
       "      <td>0.001154</td>\n",
       "    </tr>\n",
       "    <tr>\n",
       "      <th>2</th>\n",
       "      <td>16.637933</td>\n",
       "      <td>0.101920</td>\n",
       "      <td>0.945213</td>\n",
       "      <td>0.997816</td>\n",
       "      <td>20</td>\n",
       "      <td>40</td>\n",
       "      <td>{'max_depth': 20, 'n_estimators': 40}</td>\n",
       "      <td>32</td>\n",
       "      <td>0.948613</td>\n",
       "      <td>0.999759</td>\n",
       "      <td>...</td>\n",
       "      <td>0.946003</td>\n",
       "      <td>0.997475</td>\n",
       "      <td>0.947131</td>\n",
       "      <td>0.997159</td>\n",
       "      <td>0.940204</td>\n",
       "      <td>0.996722</td>\n",
       "      <td>8.820613</td>\n",
       "      <td>0.009610</td>\n",
       "      <td>0.002904</td>\n",
       "      <td>0.001053</td>\n",
       "    </tr>\n",
       "    <tr>\n",
       "      <th>3</th>\n",
       "      <td>20.628283</td>\n",
       "      <td>0.124750</td>\n",
       "      <td>0.946391</td>\n",
       "      <td>0.997981</td>\n",
       "      <td>20</td>\n",
       "      <td>50</td>\n",
       "      <td>{'max_depth': 20, 'n_estimators': 50}</td>\n",
       "      <td>2</td>\n",
       "      <td>0.948823</td>\n",
       "      <td>0.999471</td>\n",
       "      <td>...</td>\n",
       "      <td>0.946728</td>\n",
       "      <td>0.997523</td>\n",
       "      <td>0.948291</td>\n",
       "      <td>0.997901</td>\n",
       "      <td>0.941542</td>\n",
       "      <td>0.996397</td>\n",
       "      <td>10.926643</td>\n",
       "      <td>0.011323</td>\n",
       "      <td>0.002576</td>\n",
       "      <td>0.001034</td>\n",
       "    </tr>\n",
       "    <tr>\n",
       "      <th>4</th>\n",
       "      <td>28.996505</td>\n",
       "      <td>0.173270</td>\n",
       "      <td>0.946063</td>\n",
       "      <td>0.998126</td>\n",
       "      <td>20</td>\n",
       "      <td>70</td>\n",
       "      <td>{'max_depth': 20, 'n_estimators': 70}</td>\n",
       "      <td>11</td>\n",
       "      <td>0.948859</td>\n",
       "      <td>0.999807</td>\n",
       "      <td>...</td>\n",
       "      <td>0.947238</td>\n",
       "      <td>0.998273</td>\n",
       "      <td>0.948625</td>\n",
       "      <td>0.997315</td>\n",
       "      <td>0.941564</td>\n",
       "      <td>0.996598</td>\n",
       "      <td>15.459756</td>\n",
       "      <td>0.015753</td>\n",
       "      <td>0.002834</td>\n",
       "      <td>0.001105</td>\n",
       "    </tr>\n",
       "  </tbody>\n",
       "</table>\n",
       "<p>5 rows × 22 columns</p>\n",
       "</div>"
      ],
      "text/plain": [
       "   mean_fit_time  mean_score_time  mean_test_score  mean_train_score  \\\n",
       "0       8.740210         0.057351         0.944865          0.996863   \n",
       "1      12.501804         0.077723         0.946017          0.997540   \n",
       "2      16.637933         0.101920         0.945213          0.997816   \n",
       "3      20.628283         0.124750         0.946391          0.997981   \n",
       "4      28.996505         0.173270         0.946063          0.998126   \n",
       "\n",
       "  param_max_depth param_n_estimators                                 params  \\\n",
       "0              20                 21  {'max_depth': 20, 'n_estimators': 21}   \n",
       "1              20                 30  {'max_depth': 20, 'n_estimators': 30}   \n",
       "2              20                 40  {'max_depth': 20, 'n_estimators': 40}   \n",
       "3              20                 50  {'max_depth': 20, 'n_estimators': 50}   \n",
       "4              20                 70  {'max_depth': 20, 'n_estimators': 70}   \n",
       "\n",
       "   rank_test_score  split0_test_score  split0_train_score       ...         \\\n",
       "0               34           0.948730            0.998270       ...          \n",
       "1               12           0.949224            0.999519       ...          \n",
       "2               32           0.948613            0.999759       ...          \n",
       "3                2           0.948823            0.999471       ...          \n",
       "4               11           0.948859            0.999807       ...          \n",
       "\n",
       "   split2_test_score  split2_train_score  split3_test_score  \\\n",
       "0           0.945956            0.996647           0.945093   \n",
       "1           0.946101            0.997220           0.947475   \n",
       "2           0.946003            0.997475           0.947131   \n",
       "3           0.946728            0.997523           0.948291   \n",
       "4           0.947238            0.998273           0.948625   \n",
       "\n",
       "   split3_train_score  split4_test_score  split4_train_score  std_fit_time  \\\n",
       "0            0.996467           0.939062            0.995634      4.670454   \n",
       "1            0.996813           0.941526            0.996159      6.589666   \n",
       "2            0.997159           0.940204            0.996722      8.820613   \n",
       "3            0.997901           0.941542            0.996397     10.926643   \n",
       "4            0.997315           0.941564            0.996598     15.459756   \n",
       "\n",
       "   std_score_time  std_test_score  std_train_score  \n",
       "0        0.005628        0.003170         0.000881  \n",
       "1        0.007625        0.002556         0.001154  \n",
       "2        0.009610        0.002904         0.001053  \n",
       "3        0.011323        0.002576         0.001034  \n",
       "4        0.015753        0.002834         0.001105  \n",
       "\n",
       "[5 rows x 22 columns]"
      ]
     },
     "execution_count": 34,
     "metadata": {
      "tags": []
     },
     "output_type": "execute_result"
    }
   ],
   "source": [
    "results=pd.DataFrame(model.cv_results_)# getting varoius cv_scores and train_scores various values of hyperparameter given as parameter and storing it in a dataframe\n",
    "results.head()#printing the dataframe"
   ]
  },
  {
   "cell_type": "code",
   "execution_count": 0,
   "metadata": {
    "colab": {},
    "colab_type": "code",
    "collapsed": true,
    "id": "YlWq4WNxq72l"
   },
   "outputs": [],
   "source": [
    "\n",
    "results['mean_test_score']=results['mean_test_score']*100\n",
    "results=results.round(decimals=2)\n",
    "results['cv_error_score']=100-results['mean_test_score']"
   ]
  },
  {
   "cell_type": "markdown",
   "metadata": {
    "colab_type": "text",
    "id": "_TI-EqwGlzWx"
   },
   "source": [
    "# PLOTTING THE HEATMAP WITH  HYPERPARAMETERS FOR CV_ERROR SCORE "
   ]
  },
  {
   "cell_type": "code",
   "execution_count": 0,
   "metadata": {
    "colab": {},
    "colab_type": "code",
    "collapsed": true,
    "id": "NzG-ZY6MlYtG"
   },
   "outputs": [],
   "source": [
    "test_score_heatmap=results.pivot(\t'param_max_depth'\t,'param_n_estimators','cv_error_score'\t)"
   ]
  },
  {
   "cell_type": "code",
   "execution_count": 37,
   "metadata": {
    "colab": {
     "base_uri": "https://localhost:8080/",
     "height": 257
    },
    "colab_type": "code",
    "executionInfo": {
     "elapsed": 1062,
     "status": "ok",
     "timestamp": 1549210508249,
     "user": {
      "displayName": "mayank aggarwal",
      "photoUrl": "",
      "userId": "04107947634097457088"
     },
     "user_tz": -330
    },
    "id": "h0HOdEmhlYap",
    "outputId": "19eb20aa-9940-4176-b502-1cbf305a66bb"
   },
   "outputs": [
    {
     "data": {
      "text/html": [
       "<div>\n",
       "<style scoped>\n",
       "    .dataframe tbody tr th:only-of-type {\n",
       "        vertical-align: middle;\n",
       "    }\n",
       "\n",
       "    .dataframe tbody tr th {\n",
       "        vertical-align: top;\n",
       "    }\n",
       "\n",
       "    .dataframe thead th {\n",
       "        text-align: right;\n",
       "    }\n",
       "</style>\n",
       "<table border=\"1\" class=\"dataframe\">\n",
       "  <thead>\n",
       "    <tr style=\"text-align: right;\">\n",
       "      <th>param_n_estimators</th>\n",
       "      <th>21</th>\n",
       "      <th>30</th>\n",
       "      <th>40</th>\n",
       "      <th>50</th>\n",
       "      <th>70</th>\n",
       "      <th>100</th>\n",
       "    </tr>\n",
       "    <tr>\n",
       "      <th>param_max_depth</th>\n",
       "      <th></th>\n",
       "      <th></th>\n",
       "      <th></th>\n",
       "      <th></th>\n",
       "      <th></th>\n",
       "      <th></th>\n",
       "    </tr>\n",
       "  </thead>\n",
       "  <tbody>\n",
       "    <tr>\n",
       "      <th>20</th>\n",
       "      <td>5.51</td>\n",
       "      <td>5.40</td>\n",
       "      <td>5.48</td>\n",
       "      <td>5.36</td>\n",
       "      <td>5.39</td>\n",
       "      <td>5.37</td>\n",
       "    </tr>\n",
       "    <tr>\n",
       "      <th>30</th>\n",
       "      <td>5.52</td>\n",
       "      <td>5.43</td>\n",
       "      <td>5.42</td>\n",
       "      <td>5.48</td>\n",
       "      <td>5.42</td>\n",
       "      <td>5.41</td>\n",
       "    </tr>\n",
       "    <tr>\n",
       "      <th>40</th>\n",
       "      <td>5.47</td>\n",
       "      <td>5.44</td>\n",
       "      <td>5.36</td>\n",
       "      <td>5.39</td>\n",
       "      <td>5.42</td>\n",
       "      <td>5.39</td>\n",
       "    </tr>\n",
       "    <tr>\n",
       "      <th>50</th>\n",
       "      <td>5.46</td>\n",
       "      <td>5.40</td>\n",
       "      <td>5.38</td>\n",
       "      <td>5.41</td>\n",
       "      <td>5.40</td>\n",
       "      <td>5.44</td>\n",
       "    </tr>\n",
       "    <tr>\n",
       "      <th>60</th>\n",
       "      <td>5.59</td>\n",
       "      <td>5.47</td>\n",
       "      <td>5.37</td>\n",
       "      <td>5.41</td>\n",
       "      <td>5.47</td>\n",
       "      <td>5.39</td>\n",
       "    </tr>\n",
       "    <tr>\n",
       "      <th>80</th>\n",
       "      <td>5.46</td>\n",
       "      <td>5.39</td>\n",
       "      <td>5.41</td>\n",
       "      <td>5.47</td>\n",
       "      <td>5.36</td>\n",
       "      <td>5.41</td>\n",
       "    </tr>\n",
       "  </tbody>\n",
       "</table>\n",
       "</div>"
      ],
      "text/plain": [
       "param_n_estimators   21    30    40    50    70    100\n",
       "param_max_depth                                       \n",
       "20                  5.51  5.40  5.48  5.36  5.39  5.37\n",
       "30                  5.52  5.43  5.42  5.48  5.42  5.41\n",
       "40                  5.47  5.44  5.36  5.39  5.42  5.39\n",
       "50                  5.46  5.40  5.38  5.41  5.40  5.44\n",
       "60                  5.59  5.47  5.37  5.41  5.47  5.39\n",
       "80                  5.46  5.39  5.41  5.47  5.36  5.41"
      ]
     },
     "execution_count": 37,
     "metadata": {
      "tags": []
     },
     "output_type": "execute_result"
    }
   ],
   "source": [
    "test_score_heatmap"
   ]
  },
  {
   "cell_type": "code",
   "execution_count": 38,
   "metadata": {
    "colab": {
     "base_uri": "https://localhost:8080/",
     "height": 378
    },
    "colab_type": "code",
    "executionInfo": {
     "elapsed": 3090,
     "status": "ok",
     "timestamp": 1549210513055,
     "user": {
      "displayName": "mayank aggarwal",
      "photoUrl": "",
      "userId": "04107947634097457088"
     },
     "user_tz": -330
    },
    "id": "QcyVeIh7l8vv",
    "outputId": "1903b71b-b74c-4f2f-96a3-4f3096499c36"
   },
   "outputs": [
    {
     "data": {
      "text/plain": [
       "<matplotlib.axes._subplots.AxesSubplot at 0x7f5f4f2d8c88>"
      ]
     },
     "execution_count": 38,
     "metadata": {
      "tags": []
     },
     "output_type": "execute_result"
    },
    {
     "data": {
      "image/png": "[encoded data removed]",
      "text/plain": [
       "<Figure size 576x396 with 2 Axes>"
      ]
     },
     "metadata": {
      "tags": []
     },
     "output_type": "display_data"
    }
   ],
   "source": [
    "import seaborn as sns\n",
    "sns.heatmap(test_score_heatmap,annot=True,annot_kws={\"size\": 15}, fmt='g',linewidths=.3)"
   ]
  },
  {
   "cell_type": "code",
   "execution_count": 39,
   "metadata": {
    "colab": {
     "base_uri": "https://localhost:8080/",
     "height": 141
    },
    "colab_type": "code",
    "executionInfo": {
     "elapsed": 1172,
     "status": "ok",
     "timestamp": 1549210536684,
     "user": {
      "displayName": "mayank aggarwal",
      "photoUrl": "",
      "userId": "04107947634097457088"
     },
     "user_tz": -330
    },
    "id": "YXCoY4_QmANE",
    "outputId": "9b91607b-86dc-4b80-8845-098243dee0d8"
   },
   "outputs": [
    {
     "name": "stdout",
     "output_type": "stream",
     "text": [
      "RandomForestClassifier(bootstrap=True, class_weight={1: 0.5, 0: 0.5},\n",
      "            criterion='gini', max_depth=80, max_features='auto',\n",
      "            max_leaf_nodes=None, min_impurity_decrease=0.0,\n",
      "            min_impurity_split=None, min_samples_leaf=1,\n",
      "            min_samples_split=2, min_weight_fraction_leaf=0.0,\n",
      "            n_estimators=70, n_jobs=None, oob_score=False,\n",
      "            random_state=None, verbose=0, warm_start=False)\n"
     ]
    }
   ],
   "source": [
    "print(model.best_estimator_)#printing the best_estimator"
   ]
  },
  {
   "cell_type": "code",
   "execution_count": 0,
   "metadata": {
    "colab": {},
    "colab_type": "code",
    "collapsed": true,
    "id": "XhjaqHCiIWsz"
   },
   "outputs": [],
   "source": []
  },
  {
   "cell_type": "markdown",
   "metadata": {
    "colab_type": "text",
    "id": "CzPQCUJoO_jI"
   },
   "source": [
    "# FROM THE ABOVE HEATMAPS RESULTS FOR  CV DATA,WE FOUND THAT BEST HYPERPARAMETERS AS MAX_DEPTH=80 AND N_ESTIMATORS=70"
   ]
  },
  {
   "cell_type": "markdown",
   "metadata": {
    "colab_type": "text",
    "id": "BTrONZFPO1Et"
   },
   "source": [
    "# PLOTTING THE ROC CURVE FOR GETTING AUC SCORE"
   ]
  },
  {
   "cell_type": "code",
   "execution_count": 42,
   "metadata": {
    "colab": {
     "base_uri": "https://localhost:8080/",
     "height": 375
    },
    "colab_type": "code",
    "executionInfo": {
     "elapsed": 50232,
     "status": "ok",
     "timestamp": 1549210919372,
     "user": {
      "displayName": "mayank aggarwal",
      "photoUrl": "",
      "userId": "04107947634097457088"
     },
     "user_tz": -330
    },
    "id": "4lsQvgDsH8bH",
    "outputId": "d73fe94e-551d-4d4a-9319-d06b6d67adec"
   },
   "outputs": [
    {
     "data": {
      "image/png": "[encoded data removed]",
      "text/plain": [
       "<Figure size 576x396 with 1 Axes>"
      ]
     },
     "metadata": {
      "tags": []
     },
     "output_type": "display_data"
    }
   ],
   "source": [
    "rf=RandomForestClassifier(criterion='gini',class_weight={1:.5,0:.5},max_depth=80 ,n_estimators=70)\n",
    "rf.fit(x_train_data,y_train)#fitting the model \n",
    "probs = rf.predict_proba(x_test_data)\n",
    "preds = probs[:,1]\n",
    "fpr, tpr, threshold = metrics.roc_curve(y_test, preds)\n",
    "roc_auc = metrics.auc(fpr, tpr)\n",
    "\n",
    "#plotting the auc curve with best hyperparameters to get auc value\n",
    "import matplotlib.pyplot as plt\n",
    "plt.title('Receiver Operating Characteristic')\n",
    "plt.plot(fpr, tpr, 'b', label = 'AUC = %0.2f' % roc_auc)\n",
    "plt.legend(loc = 'best')\n",
    "plt.plot([0, 1], [0, 1],'r--')\n",
    "plt.xlim([0, 1])\n",
    "plt.ylim([0, 1])\n",
    "plt.ylabel('True Positive Rate')\n",
    "plt.xlabel('False Positive Rate')\n",
    "plt.show()"
   ]
  },
  {
   "cell_type": "code",
   "execution_count": 43,
   "metadata": {
    "colab": {
     "base_uri": "https://localhost:8080/",
     "height": 34
    },
    "colab_type": "code",
    "executionInfo": {
     "elapsed": 1278,
     "status": "ok",
     "timestamp": 1549210925887,
     "user": {
      "displayName": "mayank aggarwal",
      "photoUrl": "",
      "userId": "04107947634097457088"
     },
     "user_tz": -330
    },
    "id": "6M_K4t1bPEw9",
    "outputId": "72aa9ba5-7115-437f-979a-929294245d4d"
   },
   "outputs": [
    {
     "name": "stdout",
     "output_type": "stream",
     "text": [
      "accuracy from the ROC curve is found as  85.112476107286\n"
     ]
    }
   ],
   "source": [
    "print('accuracy from the ROC curve is found as ',roc_auc*100)"
   ]
  },
  {
   "cell_type": "markdown",
   "metadata": {
    "colab_type": "text",
    "id": "L02W9vmpqcjH"
   },
   "source": [
    "# TESTING OUR MODEL ON TEST DATA AND CHECKING ITS PRECISION ,RECALL ,F1_FCORE"
   ]
  },
  {
   "cell_type": "code",
   "execution_count": 44,
   "metadata": {
    "colab": {
     "base_uri": "https://localhost:8080/",
     "height": 511
    },
    "colab_type": "code",
    "executionInfo": {
     "elapsed": 1621,
     "status": "ok",
     "timestamp": 1549210947639,
     "user": {
      "displayName": "mayank aggarwal",
      "photoUrl": "",
      "userId": "04107947634097457088"
     },
     "user_tz": -330
    },
    "id": "HIKew9mC4-Rx",
    "outputId": "1434810c-a487-48df-9f64-3853ea83c30f"
   },
   "outputs": [
    {
     "name": "stdout",
     "output_type": "stream",
     "text": [
      "Accuracy on test set: 89.080%\n",
      "Precision on test set: 0.894\n",
      "Recall on test set: 0.994\n",
      "F1-Score on test set: 0.941\n",
      "Confusion Matrix of test set:\n",
      " [ [TN  FP]\n",
      " [FN TP] ]\n",
      "\n"
     ]
    },
    {
     "data": {
      "text/plain": [
       "<matplotlib.axes._subplots.AxesSubplot at 0x7f5f4ea1ea90>"
      ]
     },
     "execution_count": 44,
     "metadata": {
      "tags": []
     },
     "output_type": "execute_result"
    },
    {
     "data": {
      "image/png": "[encoded data removed]",
      "text/plain": [
       "<Figure size 576x396 with 2 Axes>"
      ]
     },
     "metadata": {
      "tags": []
     },
     "output_type": "display_data"
    }
   ],
   "source": [
    "#Testing Accuracy on Test data  \n",
    "import seaborn as sns #importing seaborn as sns\n",
    "from sklearn.metrics import *#importing varoius metrics from sklearn\n",
    "#building the model\n",
    "y_pred = rf.predict(x_test_data) \n",
    "print(\"Accuracy on test set: %0.3f%%\"%(accuracy_score(y_test, y_pred)*100))#printing accuracy\n",
    "print(\"Precision on test set: %0.3f\"%(precision_score(y_test, y_pred)))#printing precision score\n",
    "print(\"Recall on test set: %0.3f\"%(recall_score(y_test, y_pred))) #printing recall\n",
    "print(\"F1-Score on test set: %0.3f\"%(f1_score(y_test, y_pred))) \n",
    "print(\"Confusion Matrix of test set:\\n [ [TN  FP]\\n [FN TP] ]\\n\") \n",
    "df_cm = pd.DataFrame(confusion_matrix(y_test, y_pred), range(2),range(2)) #generating the heatmap for confusion matrix\n",
    "sns.set(font_scale=1.4)#for label size\n",
    "sns.heatmap(df_cm, annot=True,annot_kws={\"size\": 16}, fmt='g',cmap=\"YlGnBu\")\n"
   ]
  },
  {
   "cell_type": "markdown",
   "metadata": {
    "colab_type": "text",
    "id": "KsvbjbW8qJ5r"
   },
   "source": [
    "# AVG WORD2VEC VECTORIZATION FOR RANDOM  FOREST IS COMPLETED "
   ]
  },
  {
   "cell_type": "markdown",
   "metadata": {
    "colab_type": "text",
    "id": "Hi44doP_1PhD"
   },
   "source": [
    "# OBJECTIVE #\n",
    "\n",
    "1.   <b>APPLYING GBDT WITH AVG WORD2VEC VECTORIZATION\n",
    "\n",
    " *   FINDING THE BEST HYPERPARAMETER USING GRIDSEARCHCV WITH TRAIN DATA AND CROSS-VALIDATION DATA BY PLOTTING THE RESLUTS OF VAROIUS TRAIN DATA AND CROSS VALIDATION DATA\n",
    " * USING THE APROPRIATE VALUE OF HYPERPARAMETER ,TESTING ACCURACY ON TEST DATA\n",
    "    USING F1-SCORE\n",
    " * PLOTTING THE CONFUSION MATRIX TO GET THE  PRECISOIN ,RECALL VALUE WITH HELP OF HEATMAP\n",
    "  * PRINTING THE TOP 30 MOST IMPORTANT  FEATURES \n",
    "  \n"
   ]
  },
  {
   "cell_type": "code",
   "execution_count": 45,
   "metadata": {
    "colab": {
     "base_uri": "https://localhost:8080/",
     "height": 52
    },
    "colab_type": "code",
    "executionInfo": {
     "elapsed": 1159,
     "status": "ok",
     "timestamp": 1549211057843,
     "user": {
      "displayName": "mayank aggarwal",
      "photoUrl": "",
      "userId": "04107947634097457088"
     },
     "user_tz": -330
    },
    "id": "A8IdBsvkrKiP",
    "outputId": "74e3f1cc-0651-42b3-b7cd-d20da95f0ffa"
   },
   "outputs": [
    {
     "name": "stdout",
     "output_type": "stream",
     "text": [
      "CPU times: user 3 µs, sys: 0 ns, total: 3 µs\n",
      "Wall time: 6.2 µs\n"
     ]
    }
   ],
   "source": [
    "from xgboost import XGBClassifier\n",
    "#biudling the model\n",
    "#using time series split method for cross-validation score\n",
    "from sklearn.model_selection import TimeSeriesSplit\n",
    "tscv = TimeSeriesSplit(n_splits=5) \n",
    "xg=XGBClassifier(n_jobs=-1)\n",
    "tuned_parameters=[{'max_depth':[20,30,40,50,60,80],'n_estimators':[21,30,40,50,70,100]}]\n",
    "#applying the model of decision tree and using gridsearchcv to find the best hyper parameter\n",
    "%time\n",
    "from sklearn.model_selection import GridSearchCV\n",
    "model = GridSearchCV(xg, tuned_parameters, scoring = 'f1', cv=tscv,n_jobs=-1)#building the gridsearchcv model\n",
    "\n"
   ]
  },
  {
   "cell_type": "code",
   "execution_count": 46,
   "metadata": {
    "colab": {
     "base_uri": "https://localhost:8080/",
     "height": 265
    },
    "colab_type": "code",
    "executionInfo": {
     "elapsed": 1988093,
     "status": "ok",
     "timestamp": 1549215773804,
     "user": {
      "displayName": "mayank aggarwal",
      "photoUrl": "",
      "userId": "04107947634097457088"
     },
     "user_tz": -330
    },
    "id": "ybHubaKQ19uk",
    "outputId": "5659007e-aad2-490a-b242-7cf811838f62"
   },
   "outputs": [
    {
     "name": "stdout",
     "output_type": "stream",
     "text": [
      "CPU times: user 2min 8s, sys: 386 ms, total: 2min 9s\n",
      "Wall time: 1h 17min 46s\n"
     ]
    },
    {
     "data": {
      "text/plain": [
       "GridSearchCV(cv=TimeSeriesSplit(max_train_size=None, n_splits=5),\n",
       "       error_score='raise-deprecating',\n",
       "       estimator=XGBClassifier(base_score=0.5, booster='gbtree', colsample_bylevel=1,\n",
       "       colsample_bytree=1, gamma=0, learning_rate=0.1, max_delta_step=0,\n",
       "       max_depth=3, min_child_weight=1, missing=None, n_estimators=100,\n",
       "       n_jobs=-1, nthread=None, objective='binary:logistic',\n",
       "       random_state=0, reg_alpha=0, reg_lambda=1, scale_pos_weight=1,\n",
       "       seed=None, silent=True, subsample=1),\n",
       "       fit_params=None, iid='warn', n_jobs=-1,\n",
       "       param_grid=[{'max_depth': [20, 30, 40, 50, 60, 80], 'n_estimators': [21, 30, 40, 50, 70, 100]}],\n",
       "       pre_dispatch='2*n_jobs', refit=True, return_train_score='warn',\n",
       "       scoring='f1', verbose=0)"
      ]
     },
     "execution_count": 46,
     "metadata": {
      "tags": []
     },
     "output_type": "execute_result"
    }
   ],
   "source": [
    "%%time\n",
    "model.fit(x_train_data, y_train)#fiitting the training data\n"
   ]
  },
  {
   "cell_type": "code",
   "execution_count": 47,
   "metadata": {
    "colab": {
     "base_uri": "https://localhost:8080/",
     "height": 123
    },
    "colab_type": "code",
    "executionInfo": {
     "elapsed": 5786,
     "status": "ok",
     "timestamp": 1549220982246,
     "user": {
      "displayName": "mayank aggarwal",
      "photoUrl": "",
      "userId": "04107947634097457088"
     },
     "user_tz": -330
    },
    "id": "8RHbOMIRKXeB",
    "outputId": "f1fba6f6-fe52-48a9-a5e0-e195cf909be0"
   },
   "outputs": [
    {
     "name": "stdout",
     "output_type": "stream",
     "text": [
      "XGBClassifier(base_score=0.5, booster='gbtree', colsample_bylevel=1,\n",
      "       colsample_bytree=1, gamma=0, learning_rate=0.1, max_delta_step=0,\n",
      "       max_depth=40, min_child_weight=1, missing=None, n_estimators=100,\n",
      "       n_jobs=-1, nthread=None, objective='binary:logistic',\n",
      "       random_state=0, reg_alpha=0, reg_lambda=1, scale_pos_weight=1,\n",
      "       seed=None, silent=True, subsample=1)\n"
     ]
    }
   ],
   "source": [
    "print(model.best_estimator_)#printing the best_estimator"
   ]
  },
  {
   "cell_type": "code",
   "execution_count": 48,
   "metadata": {
    "colab": {
     "base_uri": "https://localhost:8080/",
     "height": 496
    },
    "colab_type": "code",
    "executionInfo": {
     "elapsed": 1199,
     "status": "ok",
     "timestamp": 1549220995941,
     "user": {
      "displayName": "mayank aggarwal",
      "photoUrl": "",
      "userId": "04107947634097457088"
     },
     "user_tz": -330
    },
    "id": "QBdBgmbjKnAZ",
    "outputId": "23719eb1-1ccd-4a5d-b009-497c78a5737e"
   },
   "outputs": [
    {
     "data": {
      "text/html": [
       "<div>\n",
       "<style scoped>\n",
       "    .dataframe tbody tr th:only-of-type {\n",
       "        vertical-align: middle;\n",
       "    }\n",
       "\n",
       "    .dataframe tbody tr th {\n",
       "        vertical-align: top;\n",
       "    }\n",
       "\n",
       "    .dataframe thead th {\n",
       "        text-align: right;\n",
       "    }\n",
       "</style>\n",
       "<table border=\"1\" class=\"dataframe\">\n",
       "  <thead>\n",
       "    <tr style=\"text-align: right;\">\n",
       "      <th></th>\n",
       "      <th>mean_fit_time</th>\n",
       "      <th>mean_score_time</th>\n",
       "      <th>mean_test_score</th>\n",
       "      <th>mean_train_score</th>\n",
       "      <th>param_max_depth</th>\n",
       "      <th>param_n_estimators</th>\n",
       "      <th>params</th>\n",
       "      <th>rank_test_score</th>\n",
       "      <th>split0_test_score</th>\n",
       "      <th>split0_train_score</th>\n",
       "      <th>...</th>\n",
       "      <th>split2_test_score</th>\n",
       "      <th>split2_train_score</th>\n",
       "      <th>split3_test_score</th>\n",
       "      <th>split3_train_score</th>\n",
       "      <th>split4_test_score</th>\n",
       "      <th>split4_train_score</th>\n",
       "      <th>std_fit_time</th>\n",
       "      <th>std_score_time</th>\n",
       "      <th>std_test_score</th>\n",
       "      <th>std_train_score</th>\n",
       "    </tr>\n",
       "  </thead>\n",
       "  <tbody>\n",
       "    <tr>\n",
       "      <th>0</th>\n",
       "      <td>21.150612</td>\n",
       "      <td>0.071006</td>\n",
       "      <td>0.944721</td>\n",
       "      <td>0.996258</td>\n",
       "      <td>20</td>\n",
       "      <td>21</td>\n",
       "      <td>{'max_depth': 20, 'n_estimators': 21}</td>\n",
       "      <td>36</td>\n",
       "      <td>0.946500</td>\n",
       "      <td>0.996545</td>\n",
       "      <td>...</td>\n",
       "      <td>0.947456</td>\n",
       "      <td>0.996360</td>\n",
       "      <td>0.943697</td>\n",
       "      <td>0.995799</td>\n",
       "      <td>0.939878</td>\n",
       "      <td>0.995834</td>\n",
       "      <td>11.977900</td>\n",
       "      <td>0.009676</td>\n",
       "      <td>0.002719</td>\n",
       "      <td>0.000381</td>\n",
       "    </tr>\n",
       "    <tr>\n",
       "      <th>1</th>\n",
       "      <td>29.628869</td>\n",
       "      <td>0.097126</td>\n",
       "      <td>0.946084</td>\n",
       "      <td>0.998488</td>\n",
       "      <td>20</td>\n",
       "      <td>30</td>\n",
       "      <td>{'max_depth': 20, 'n_estimators': 30}</td>\n",
       "      <td>30</td>\n",
       "      <td>0.947373</td>\n",
       "      <td>0.998846</td>\n",
       "      <td>...</td>\n",
       "      <td>0.948269</td>\n",
       "      <td>0.998544</td>\n",
       "      <td>0.946238</td>\n",
       "      <td>0.998332</td>\n",
       "      <td>0.941187</td>\n",
       "      <td>0.998176</td>\n",
       "      <td>16.482376</td>\n",
       "      <td>0.015790</td>\n",
       "      <td>0.002532</td>\n",
       "      <td>0.000226</td>\n",
       "    </tr>\n",
       "    <tr>\n",
       "      <th>2</th>\n",
       "      <td>38.470601</td>\n",
       "      <td>0.124978</td>\n",
       "      <td>0.946626</td>\n",
       "      <td>0.999468</td>\n",
       "      <td>20</td>\n",
       "      <td>40</td>\n",
       "      <td>{'max_depth': 20, 'n_estimators': 40}</td>\n",
       "      <td>25</td>\n",
       "      <td>0.948497</td>\n",
       "      <td>0.999567</td>\n",
       "      <td>...</td>\n",
       "      <td>0.948595</td>\n",
       "      <td>0.999520</td>\n",
       "      <td>0.947178</td>\n",
       "      <td>0.999399</td>\n",
       "      <td>0.941967</td>\n",
       "      <td>0.999356</td>\n",
       "      <td>21.191564</td>\n",
       "      <td>0.018832</td>\n",
       "      <td>0.002427</td>\n",
       "      <td>0.000078</td>\n",
       "    </tr>\n",
       "    <tr>\n",
       "      <th>3</th>\n",
       "      <td>46.729607</td>\n",
       "      <td>0.147422</td>\n",
       "      <td>0.947057</td>\n",
       "      <td>0.999787</td>\n",
       "      <td>20</td>\n",
       "      <td>50</td>\n",
       "      <td>{'max_depth': 20, 'n_estimators': 50}</td>\n",
       "      <td>23</td>\n",
       "      <td>0.948560</td>\n",
       "      <td>0.999856</td>\n",
       "      <td>...</td>\n",
       "      <td>0.950000</td>\n",
       "      <td>0.999792</td>\n",
       "      <td>0.946607</td>\n",
       "      <td>0.999784</td>\n",
       "      <td>0.943236</td>\n",
       "      <td>0.999769</td>\n",
       "      <td>26.185854</td>\n",
       "      <td>0.023353</td>\n",
       "      <td>0.002269</td>\n",
       "      <td>0.000039</td>\n",
       "    </tr>\n",
       "    <tr>\n",
       "      <th>4</th>\n",
       "      <td>62.315705</td>\n",
       "      <td>0.208297</td>\n",
       "      <td>0.947818</td>\n",
       "      <td>0.999981</td>\n",
       "      <td>20</td>\n",
       "      <td>70</td>\n",
       "      <td>{'max_depth': 20, 'n_estimators': 70}</td>\n",
       "      <td>11</td>\n",
       "      <td>0.948837</td>\n",
       "      <td>1.000000</td>\n",
       "      <td>...</td>\n",
       "      <td>0.952179</td>\n",
       "      <td>0.999968</td>\n",
       "      <td>0.947002</td>\n",
       "      <td>0.999964</td>\n",
       "      <td>0.943320</td>\n",
       "      <td>0.999971</td>\n",
       "      <td>34.963135</td>\n",
       "      <td>0.040558</td>\n",
       "      <td>0.002862</td>\n",
       "      <td>0.000016</td>\n",
       "    </tr>\n",
       "  </tbody>\n",
       "</table>\n",
       "<p>5 rows × 22 columns</p>\n",
       "</div>"
      ],
      "text/plain": [
       "   mean_fit_time  mean_score_time  mean_test_score  mean_train_score  \\\n",
       "0      21.150612         0.071006         0.944721          0.996258   \n",
       "1      29.628869         0.097126         0.946084          0.998488   \n",
       "2      38.470601         0.124978         0.946626          0.999468   \n",
       "3      46.729607         0.147422         0.947057          0.999787   \n",
       "4      62.315705         0.208297         0.947818          0.999981   \n",
       "\n",
       "  param_max_depth param_n_estimators                                 params  \\\n",
       "0              20                 21  {'max_depth': 20, 'n_estimators': 21}   \n",
       "1              20                 30  {'max_depth': 20, 'n_estimators': 30}   \n",
       "2              20                 40  {'max_depth': 20, 'n_estimators': 40}   \n",
       "3              20                 50  {'max_depth': 20, 'n_estimators': 50}   \n",
       "4              20                 70  {'max_depth': 20, 'n_estimators': 70}   \n",
       "\n",
       "   rank_test_score  split0_test_score  split0_train_score       ...         \\\n",
       "0               36           0.946500            0.996545       ...          \n",
       "1               30           0.947373            0.998846       ...          \n",
       "2               25           0.948497            0.999567       ...          \n",
       "3               23           0.948560            0.999856       ...          \n",
       "4               11           0.948837            1.000000       ...          \n",
       "\n",
       "   split2_test_score  split2_train_score  split3_test_score  \\\n",
       "0           0.947456            0.996360           0.943697   \n",
       "1           0.948269            0.998544           0.946238   \n",
       "2           0.948595            0.999520           0.947178   \n",
       "3           0.950000            0.999792           0.946607   \n",
       "4           0.952179            0.999968           0.947002   \n",
       "\n",
       "   split3_train_score  split4_test_score  split4_train_score  std_fit_time  \\\n",
       "0            0.995799           0.939878            0.995834     11.977900   \n",
       "1            0.998332           0.941187            0.998176     16.482376   \n",
       "2            0.999399           0.941967            0.999356     21.191564   \n",
       "3            0.999784           0.943236            0.999769     26.185854   \n",
       "4            0.999964           0.943320            0.999971     34.963135   \n",
       "\n",
       "   std_score_time  std_test_score  std_train_score  \n",
       "0        0.009676        0.002719         0.000381  \n",
       "1        0.015790        0.002532         0.000226  \n",
       "2        0.018832        0.002427         0.000078  \n",
       "3        0.023353        0.002269         0.000039  \n",
       "4        0.040558        0.002862         0.000016  \n",
       "\n",
       "[5 rows x 22 columns]"
      ]
     },
     "execution_count": 48,
     "metadata": {
      "tags": []
     },
     "output_type": "execute_result"
    }
   ],
   "source": [
    "results=pd.DataFrame(model.cv_results_)# getting varoius cv_scores and train_scores various values of hyperparameter given as parameter and storing it in a dataframe\n",
    "results.head()#printing the dataframe"
   ]
  },
  {
   "cell_type": "code",
   "execution_count": 0,
   "metadata": {
    "colab": {},
    "colab_type": "code",
    "collapsed": true,
    "id": "BSEQS_4mKm91"
   },
   "outputs": [],
   "source": [
    "results['mean_test_score']=results['mean_test_score']*100\n",
    "\n",
    "results=results.round(decimals=2)\n",
    "\n",
    "results['cv_error_score']=100-results['mean_test_score']\n",
    "\n"
   ]
  },
  {
   "cell_type": "markdown",
   "metadata": {
    "colab_type": "text",
    "id": "7BiVZ_OaLAsn"
   },
   "source": [
    "# PLOTTING THE HEATMAP WITH HYPERPARAMETERS FOR CV_ERROR SCORE"
   ]
  },
  {
   "cell_type": "code",
   "execution_count": 50,
   "metadata": {
    "colab": {
     "base_uri": "https://localhost:8080/",
     "height": 257
    },
    "colab_type": "code",
    "executionInfo": {
     "elapsed": 1392,
     "status": "ok",
     "timestamp": 1549221009692,
     "user": {
      "displayName": "mayank aggarwal",
      "photoUrl": "",
      "userId": "04107947634097457088"
     },
     "user_tz": -330
    },
    "id": "GPqnGWk5Km6d",
    "outputId": "19ab8011-4cd4-4e9b-b63e-b10aac06e563"
   },
   "outputs": [
    {
     "data": {
      "text/html": [
       "<div>\n",
       "<style scoped>\n",
       "    .dataframe tbody tr th:only-of-type {\n",
       "        vertical-align: middle;\n",
       "    }\n",
       "\n",
       "    .dataframe tbody tr th {\n",
       "        vertical-align: top;\n",
       "    }\n",
       "\n",
       "    .dataframe thead th {\n",
       "        text-align: right;\n",
       "    }\n",
       "</style>\n",
       "<table border=\"1\" class=\"dataframe\">\n",
       "  <thead>\n",
       "    <tr style=\"text-align: right;\">\n",
       "      <th>param_n_estimators</th>\n",
       "      <th>21</th>\n",
       "      <th>30</th>\n",
       "      <th>40</th>\n",
       "      <th>50</th>\n",
       "      <th>70</th>\n",
       "      <th>100</th>\n",
       "    </tr>\n",
       "    <tr>\n",
       "      <th>param_max_depth</th>\n",
       "      <th></th>\n",
       "      <th></th>\n",
       "      <th></th>\n",
       "      <th></th>\n",
       "      <th></th>\n",
       "      <th></th>\n",
       "    </tr>\n",
       "  </thead>\n",
       "  <tbody>\n",
       "    <tr>\n",
       "      <th>20</th>\n",
       "      <td>5.53</td>\n",
       "      <td>5.39</td>\n",
       "      <td>5.34</td>\n",
       "      <td>5.29</td>\n",
       "      <td>5.22</td>\n",
       "      <td>5.18</td>\n",
       "    </tr>\n",
       "    <tr>\n",
       "      <th>30</th>\n",
       "      <td>5.47</td>\n",
       "      <td>5.33</td>\n",
       "      <td>5.27</td>\n",
       "      <td>5.25</td>\n",
       "      <td>5.23</td>\n",
       "      <td>5.17</td>\n",
       "    </tr>\n",
       "    <tr>\n",
       "      <th>40</th>\n",
       "      <td>5.49</td>\n",
       "      <td>5.36</td>\n",
       "      <td>5.26</td>\n",
       "      <td>5.23</td>\n",
       "      <td>5.20</td>\n",
       "      <td>5.13</td>\n",
       "    </tr>\n",
       "    <tr>\n",
       "      <th>50</th>\n",
       "      <td>5.49</td>\n",
       "      <td>5.36</td>\n",
       "      <td>5.26</td>\n",
       "      <td>5.23</td>\n",
       "      <td>5.20</td>\n",
       "      <td>5.13</td>\n",
       "    </tr>\n",
       "    <tr>\n",
       "      <th>60</th>\n",
       "      <td>5.49</td>\n",
       "      <td>5.36</td>\n",
       "      <td>5.26</td>\n",
       "      <td>5.23</td>\n",
       "      <td>5.20</td>\n",
       "      <td>5.13</td>\n",
       "    </tr>\n",
       "    <tr>\n",
       "      <th>80</th>\n",
       "      <td>5.49</td>\n",
       "      <td>5.36</td>\n",
       "      <td>5.26</td>\n",
       "      <td>5.23</td>\n",
       "      <td>5.20</td>\n",
       "      <td>5.13</td>\n",
       "    </tr>\n",
       "  </tbody>\n",
       "</table>\n",
       "</div>"
      ],
      "text/plain": [
       "param_n_estimators   21    30    40    50    70    100\n",
       "param_max_depth                                       \n",
       "20                  5.53  5.39  5.34  5.29  5.22  5.18\n",
       "30                  5.47  5.33  5.27  5.25  5.23  5.17\n",
       "40                  5.49  5.36  5.26  5.23  5.20  5.13\n",
       "50                  5.49  5.36  5.26  5.23  5.20  5.13\n",
       "60                  5.49  5.36  5.26  5.23  5.20  5.13\n",
       "80                  5.49  5.36  5.26  5.23  5.20  5.13"
      ]
     },
     "execution_count": 50,
     "metadata": {
      "tags": []
     },
     "output_type": "execute_result"
    }
   ],
   "source": [
    "\n",
    "test_score_heatmap=results.pivot( 'param_max_depth' ,'param_n_estimators','cv_error_score'  )\n",
    "\n",
    "test_score_heatmap\n"
   ]
  },
  {
   "cell_type": "code",
   "execution_count": 51,
   "metadata": {
    "colab": {
     "base_uri": "https://localhost:8080/",
     "height": 386
    },
    "colab_type": "code",
    "executionInfo": {
     "elapsed": 3217,
     "status": "ok",
     "timestamp": 1549221015607,
     "user": {
      "displayName": "mayank aggarwal",
      "photoUrl": "",
      "userId": "04107947634097457088"
     },
     "user_tz": -330
    },
    "id": "-p4_Rk7kKm3L",
    "outputId": "76c2e523-009c-4330-9671-3450a7fd9c28"
   },
   "outputs": [
    {
     "data": {
      "text/plain": [
       "<matplotlib.axes._subplots.AxesSubplot at 0x7f5f4e8ee400>"
      ]
     },
     "execution_count": 51,
     "metadata": {
      "tags": []
     },
     "output_type": "execute_result"
    },
    {
     "data": {
      "image/png": "[encoded data removed]",
      "text/plain": [
       "<Figure size 576x396 with 2 Axes>"
      ]
     },
     "metadata": {
      "tags": []
     },
     "output_type": "display_data"
    }
   ],
   "source": [
    "import seaborn as sns\n",
    "sns.heatmap(test_score_heatmap,annot=True,annot_kws={\"size\": 15}, fmt='g',linewidths=.3)"
   ]
  },
  {
   "cell_type": "code",
   "execution_count": 52,
   "metadata": {
    "colab": {
     "base_uri": "https://localhost:8080/",
     "height": 123
    },
    "colab_type": "code",
    "executionInfo": {
     "elapsed": 989,
     "status": "ok",
     "timestamp": 1549221022950,
     "user": {
      "displayName": "mayank aggarwal",
      "photoUrl": "",
      "userId": "04107947634097457088"
     },
     "user_tz": -330
    },
    "id": "Ch14p_wnKm0B",
    "outputId": "45fb7d54-915b-435f-d9ee-59ff5857fc51"
   },
   "outputs": [
    {
     "name": "stdout",
     "output_type": "stream",
     "text": [
      "XGBClassifier(base_score=0.5, booster='gbtree', colsample_bylevel=1,\n",
      "       colsample_bytree=1, gamma=0, learning_rate=0.1, max_delta_step=0,\n",
      "       max_depth=40, min_child_weight=1, missing=None, n_estimators=100,\n",
      "       n_jobs=-1, nthread=None, objective='binary:logistic',\n",
      "       random_state=0, reg_alpha=0, reg_lambda=1, scale_pos_weight=1,\n",
      "       seed=None, silent=True, subsample=1)\n"
     ]
    }
   ],
   "source": [
    "print(model.best_estimator_)#printing the best_estimator"
   ]
  },
  {
   "cell_type": "markdown",
   "metadata": {
    "colab_type": "text",
    "id": "98XxtuHIMZpX"
   },
   "source": [
    "# FROM THE ABOVE HEATMAPS RESULTS FOR  CV DATA,WE FOUND THAT BEST HYPERPARAMETERS AS MAX_DEPTH=40 AND N_ESTIMATORS=100"
   ]
  },
  {
   "cell_type": "markdown",
   "metadata": {
    "colab_type": "text",
    "id": "eiwIXv-7MrTy"
   },
   "source": [
    "# PLOTTING THE ROC CURVE FOR GETTING AUC SCORE"
   ]
  },
  {
   "cell_type": "code",
   "execution_count": 54,
   "metadata": {
    "colab": {
     "base_uri": "https://localhost:8080/",
     "height": 123
    },
    "colab_type": "code",
    "executionInfo": {
     "elapsed": 128446,
     "status": "ok",
     "timestamp": 1549221217391,
     "user": {
      "displayName": "mayank aggarwal",
      "photoUrl": "",
      "userId": "04107947634097457088"
     },
     "user_tz": -330
    },
    "id": "q0CtZx0OKmwu",
    "outputId": "ce459a5d-55c4-4b2a-a46b-d0ad10692733"
   },
   "outputs": [
    {
     "data": {
      "text/plain": [
       "XGBClassifier(base_score=0.5, booster='gbtree', colsample_bylevel=1,\n",
       "       colsample_bytree=1, gamma=0, learning_rate=0.1, max_delta_step=0,\n",
       "       max_depth=40, min_child_weight=1, missing=None, n_estimators=100,\n",
       "       n_jobs=-1, nthread=None, objective='binary:logistic',\n",
       "       random_state=0, reg_alpha=0, reg_lambda=1, scale_pos_weight=1,\n",
       "       seed=None, silent=True, subsample=1)"
      ]
     },
     "execution_count": 54,
     "metadata": {
      "tags": []
     },
     "output_type": "execute_result"
    }
   ],
   "source": [
    "xg=XGBClassifier(n_jobs=-1,max_depth=40 ,n_estimators=100)\n",
    "xg.fit(x_train_data,y_train)#fitting the model \n"
   ]
  },
  {
   "cell_type": "code",
   "execution_count": 55,
   "metadata": {
    "colab": {
     "base_uri": "https://localhost:8080/",
     "height": 386
    },
    "colab_type": "code",
    "executionInfo": {
     "elapsed": 112169,
     "status": "ok",
     "timestamp": 1549221218987,
     "user": {
      "displayName": "mayank aggarwal",
      "photoUrl": "",
      "userId": "04107947634097457088"
     },
     "user_tz": -330
    },
    "id": "2ziFa9Wzz6kV",
    "outputId": "eb0df3c8-e527-4ff3-9909-feb85781c51b"
   },
   "outputs": [
    {
     "data": {
      "image/png": "[encoded data removed]",
      "text/plain": [
       "<Figure size 576x396 with 1 Axes>"
      ]
     },
     "metadata": {
      "tags": []
     },
     "output_type": "display_data"
    }
   ],
   "source": [
    "probs = xg.predict_proba(x_test_data)\n",
    "preds = probs[:,1]\n",
    "fpr, tpr, threshold = metrics.roc_curve(y_test, preds)\n",
    "roc_auc = metrics.auc(fpr, tpr)\n",
    " \n",
    "import matplotlib.pyplot as plt\n",
    "plt.title('Receiver Operating Characteristic')\n",
    "plt.plot(fpr, tpr, 'b', label = 'AUC = %0.2f' % roc_auc)\n",
    "plt.legend(loc = 'best')\n",
    "plt.plot([0, 1], [0, 1],'r--')\n",
    "plt.xlim([0, 1])\n",
    "plt.ylim([0, 1])\n",
    "plt.ylabel('True Positive Rate')\n",
    "plt.xlabel('False Positive Rate')\n",
    "plt.show()"
   ]
  },
  {
   "cell_type": "code",
   "execution_count": 57,
   "metadata": {
    "colab": {
     "base_uri": "https://localhost:8080/",
     "height": 34
    },
    "colab_type": "code",
    "executionInfo": {
     "elapsed": 80456,
     "status": "ok",
     "timestamp": 1549221219907,
     "user": {
      "displayName": "mayank aggarwal",
      "photoUrl": "",
      "userId": "04107947634097457088"
     },
     "user_tz": -330
    },
    "id": "gylUXWEUTjNi",
    "outputId": "6c41c4c7-b3ef-45fb-f2d4-c17dc17b7347"
   },
   "outputs": [
    {
     "name": "stdout",
     "output_type": "stream",
     "text": [
      "accuracy from the ROC curve is found as  88.3943536121673\n"
     ]
    }
   ],
   "source": [
    "print('accuracy from the ROC curve is found as ',roc_auc*100)"
   ]
  },
  {
   "cell_type": "markdown",
   "metadata": {
    "colab_type": "text",
    "id": "Cc901Dv3xzzx"
   },
   "source": [
    "# TESTING OUR MODEL ON TEST DATA AND CHECKING ITS PRECISION ,RECALL ,F1_FCORE"
   ]
  },
  {
   "cell_type": "code",
   "execution_count": 56,
   "metadata": {
    "colab": {
     "base_uri": "https://localhost:8080/",
     "height": 511
    },
    "colab_type": "code",
    "executionInfo": {
     "elapsed": 85472,
     "status": "ok",
     "timestamp": 1549221219898,
     "user": {
      "displayName": "mayank aggarwal",
      "photoUrl": "",
      "userId": "04107947634097457088"
     },
     "user_tz": -330
    },
    "id": "7g9CPL9ak3LK",
    "outputId": "54f16431-0cb7-4887-aada-808dd2d2c81f"
   },
   "outputs": [
    {
     "name": "stdout",
     "output_type": "stream",
     "text": [
      "Accuracy on test set: 89.813%\n",
      "Precision on test set: 0.905\n",
      "Recall on test set: 0.987\n",
      "F1-Score on test set: 0.944\n",
      "Confusion Matrix of test set:\n",
      " [ [TN  FP]\n",
      " [FN TP] ]\n",
      "\n"
     ]
    },
    {
     "data": {
      "text/plain": [
       "<matplotlib.axes._subplots.AxesSubplot at 0x7f5f4e9297b8>"
      ]
     },
     "execution_count": 56,
     "metadata": {
      "tags": []
     },
     "output_type": "execute_result"
    },
    {
     "data": {
      "image/png": "[encoded data removed]",
      "text/plain": [
       "<Figure size 576x396 with 2 Axes>"
      ]
     },
     "metadata": {
      "tags": []
     },
     "output_type": "display_data"
    }
   ],
   "source": [
    "\n",
    "y_pred = xg.predict(x_test_data)\n",
    "print(\"Accuracy on test set: %0.3f%%\"%(accuracy_score(y_test, y_pred)*100))#printing accuracy\n",
    "print(\"Precision on test set: %0.3f\"%(precision_score(y_test, y_pred)))#printing precision score\n",
    "print(\"Recall on test set: %0.3f\"%(recall_score(y_test, y_pred))) #printing recall\n",
    "print(\"F1-Score on test set: %0.3f\"%(f1_score(y_test, y_pred))) \n",
    "print(\"Confusion Matrix of test set:\\n [ [TN  FP]\\n [FN TP] ]\\n\") \n",
    "df_cm = pd.DataFrame(confusion_matrix(y_test, y_pred), range(2),range(2)) #generating the heatmap for confusion matrix\n",
    "sns.set(font_scale=1.4)#for label size\n",
    "sns.heatmap(df_cm, annot=True,annot_kws={\"size\": 16}, fmt='g')\n"
   ]
  },
  {
   "cell_type": "markdown",
   "metadata": {
    "colab_type": "text",
    "id": "Erv5xfjdy4Mb"
   },
   "source": [
    "# avg word2vec for random forest and gbdt is completed"
   ]
  },
  {
   "cell_type": "code",
   "execution_count": 0,
   "metadata": {
    "colab": {},
    "colab_type": "code",
    "collapsed": true,
    "id": "66AObhdplgZp"
   },
   "outputs": [],
   "source": []
  }
 ],
 "metadata": {
  "colab": {
   "collapsed_sections": [],
   "name": " rf and gbdt_avg word2vec.ipynb",
   "provenance": [
    {
     "file_id": "1vDw35BBt-y9WjGWf0HHwF1HqOoKUjX3O",
     "timestamp": 1549192324556
    },
    {
     "file_id": "1EzSmPMxViRAktrdeBWXUEp6ez9TrQQqb",
     "timestamp": 1549135430990
    },
    {
     "file_id": "1YrZGXsgV_wAU4O2vR_ZS8ZJeo3YZV-zL",
     "timestamp": 1549103206250
    }
   ],
   "version": "0.3.2"
  },
  "kernelspec": {
   "display_name": "Python 3",
   "language": "python",
   "name": "python3"
  },
  "language_info": {
   "codemirror_mode": {
    "name": "ipython",
    "version": 3
   },
   "file_extension": ".py",
   "mimetype": "text/x-python",
   "name": "python",
   "nbconvert_exporter": "python",
   "pygments_lexer": "ipython3",
   "version": "3.6.3"
  }
 },
 "nbformat": 4,
 "nbformat_minor": 1
}
