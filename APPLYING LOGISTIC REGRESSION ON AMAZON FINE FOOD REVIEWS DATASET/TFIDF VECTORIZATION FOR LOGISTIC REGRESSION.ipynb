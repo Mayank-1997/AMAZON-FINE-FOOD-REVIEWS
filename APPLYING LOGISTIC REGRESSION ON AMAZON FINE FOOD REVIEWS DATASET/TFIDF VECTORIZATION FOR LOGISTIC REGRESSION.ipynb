{
 "cells": [
  {
   "cell_type": "markdown",
   "metadata": {
    "colab_type": "text",
    "id": "yE_CEe9g5GJ5"
   },
   "source": [
    "#  OBJECTIVE :#\n",
    "\n",
    "1.   <b>APPLYING LOGISTIC REGRESSION WITH TFIDF WORD2VEC VECTORIZATION\n",
    " * PERFORMING PERTUBATION TEST TO CHECK WHETHER OUR DATA  FEATURES ARE COLLINER OR NOT AND PLOTTING THE RESULT\n",
    " *   FINDING THE BEST HYPERPARAMETER USING GRIDSEARCHCV WITH TRAIN DATA AND CROSS-VALIDATION DATA BY PLOTTING THE RESLUTS OF VAROIUS TRAIN DATA AND CROSS VALIDATION DATA\n",
    " * USING THE APROPRIATE VALUE OF HYPERPARAMETER ,TESTING ACCURACY ON TEST DATA\n",
    "    USING F1-SCORE\n",
    " * PLOTTING THE CONFUSION MATRIX TO GET THE  PRECISOIN ,RECALL VALUE WITH HELP OF HEATMAP\n",
    "  <font>   \n",
    "\n",
    "\n"
   ]
  },
  {
   "cell_type": "code",
   "execution_count": 0,
   "metadata": {
    "colab": {},
    "colab_type": "code",
    "collapsed": true,
    "id": "Fluc2eJIGzB1"
   },
   "outputs": [],
   "source": [
    "from sklearn.model_selection import train_test_split          #importing the necessary libraries\n",
    "from sklearn.model_selection import RandomizedSearchCV\n",
    "from sklearn.datasets import *\n",
    "from sklearn import naive_bayes\n",
    "from sklearn.feature_extraction.text import CountVectorizer\n",
    "from sklearn.feature_extraction.text import TfidfVectorizer\n",
    "import numpy as np\n",
    "import pandas as pd\n",
    "from sklearn import *\n",
    "from gensim.models import Word2Vec\n",
    "import warnings\n",
    "warnings.filterwarnings(\"ignore\")\n",
    "from tqdm import tqdm"
   ]
  },
  {
   "cell_type": "code",
   "execution_count": 0,
   "metadata": {
    "colab": {},
    "colab_type": "code",
    "collapsed": true,
    "id": "HRlwwBNLB4tT"
   },
   "outputs": [],
   "source": []
  },
  {
   "cell_type": "code",
   "execution_count": 0,
   "metadata": {
    "colab": {
     "base_uri": "https://localhost:8080/",
     "height": 34
    },
    "colab_type": "code",
    "id": "-De_uLuV5BIh",
    "outputId": "eed7e7de-1d81-4d2d-bae8-753f03521bb8"
   },
   "outputs": [
    {
     "name": "stdout",
     "output_type": "stream",
     "text": [
      "Drive already mounted at /content/gdrive; to attempt to forcibly remount, call drive.mount(\"/content/gdrive\", force_remount=True).\n"
     ]
    }
   ],
   "source": [
    "from google.colab import drive\n",
    "drive.mount('/content/gdrive')#geeting the content from the google drive"
   ]
  },
  {
   "cell_type": "code",
   "execution_count": 0,
   "metadata": {
    "colab": {},
    "colab_type": "code",
    "collapsed": true,
    "id": "ECeKKDS0G4J_"
   },
   "outputs": [],
   "source": [
    "final_processed_data=pd.read_csv(\"gdrive/My Drive/final_new_data.csv\")#loading the preprocessed data  with 100k points into dataframe "
   ]
  },
  {
   "cell_type": "code",
   "execution_count": 0,
   "metadata": {
    "colab": {
     "base_uri": "https://localhost:8080/",
     "height": 51
    },
    "colab_type": "code",
    "id": "lyVHaHeoG6lp",
    "outputId": "125de9e2-886e-4e34-bd85-10bc3188d7bd"
   },
   "outputs": [
    {
     "name": "stdout",
     "output_type": "stream",
     "text": [
      "88521\n",
      "11479\n"
     ]
    }
   ],
   "source": [
    "# getting the counts of 0 and 1 in \"SCORE\" column to know whether it is unbalanced data or not\n",
    "count_of_1=0\n",
    "count_of_0=0\n",
    "for i in final_processed_data['Score']:\n",
    "   if i==1:\n",
    "    count_of_1+=1\n",
    "   else:\n",
    "    count_of_0+=1\n",
    "print(count_of_1)\n",
    "print(count_of_0)\n",
    "#it is an imbalanced dataset"
   ]
  },
  {
   "cell_type": "code",
   "execution_count": 0,
   "metadata": {
    "colab": {},
    "colab_type": "code",
    "collapsed": true,
    "id": "zXC7JSnTG9eK"
   },
   "outputs": [],
   "source": [
    "#spliiting the data into train and test data\n",
    "x_train,x_test,y_train,y_test=model_selection.train_test_split(final_processed_data['CleanedText'].values,final_processed_data['Score'].values,test_size=0.2,shuffle=False)"
   ]
  },
  {
   "cell_type": "code",
   "execution_count": 0,
   "metadata": {
    "colab": {
     "base_uri": "https://localhost:8080/",
     "height": 122
    },
    "colab_type": "code",
    "id": "h4N1lWyIHJDa",
    "outputId": "eb525ced-b0d3-44cb-b78d-90f94d19e7d6"
   },
   "outputs": [
    {
     "name": "stdout",
     "output_type": "stream",
     "text": [
      "witti littl book make son laugh loud recit car drive along alway sing refrain hes learn whale india droop love new word book introduc silli classic book will bet son still abl recit memori colleg\n",
      "*****************************************************************\n",
      "['witti', 'littl', 'book', 'make', 'son', 'laugh', 'loud', 'recit', 'car', 'drive', 'along', 'alway', 'sing', 'refrain', 'hes', 'learn', 'whale', 'india', 'droop', 'love', 'new', 'word', 'book', 'introduc', 'silli', 'classic', 'book', 'will', 'bet', 'son', 'still', 'abl', 'recit', 'memori', 'colleg']\n",
      "***********************************************************************\n",
      "sample words  ['witti', 'littl', 'book', 'make', 'son', 'laugh', 'loud', 'car', 'drive', 'along', 'alway', 'sing', 'refrain', 'hes', 'learn', 'india', 'droop', 'love', 'new', 'word']\n"
     ]
    }
   ],
   "source": [
    "# Training my own Word2Vec model using your own text corpus\n",
    "list_of_sent=[]\n",
    "for sent in x_train:\n",
    " list_of_sent.append(sent.split())#splitting of sentences into words AND appending them to list\n",
    "print(x_train[0])\n",
    "print(\"*****************************************************************\")\n",
    "print(list_of_sent[0])\n",
    "word_to_vector=Word2Vec(list_of_sent,min_count=5,size=100,workers=2)#constructing my our word to vector\n",
    "w_t_c_words=list(word_to_vector.wv.vocab)\n",
    "print(\"***********************************************************************\")\n",
    "print(\"sample words \", w_t_c_words[0:20])"
   ]
  },
  {
   "cell_type": "code",
   "execution_count": 0,
   "metadata": {
    "colab": {
     "base_uri": "https://localhost:8080/",
     "height": 34
    },
    "colab_type": "code",
    "id": "4t9W-SznCa5L",
    "outputId": "8747f19f-14f3-4cbe-cb78-31b595fb8fcc"
   },
   "outputs": [
    {
     "name": "stderr",
     "output_type": "stream",
     "text": [
      "100%|██████████| 80000/80000 [06:33<00:00, 203.33it/s]\n"
     ]
    }
   ],
   "source": [
    "###### NOW STARTING TFIDF WORD TO VEC FOR TRAIN DATA#################################################################\n",
    "#NOW STARTING TF-IDF WEIGHTED WORD-TO-VEC\n",
    "model = TfidfVectorizer()\n",
    "tf_idf_matrix = model.fit_transform(x_train)\n",
    "# we are converting a dictionary with word as a key, and the idf as a value\n",
    "dictionary = dict(zip(model.get_feature_names(), list(model.idf_)))\n",
    "train_tfidf_sent_vectors =[]# the tfidf-w2v for each sentence/review is stored in this list\n",
    "\n",
    "for sent in tqdm(list_of_sent): # for each review/sentence\n",
    "  sent_vec = np.zeros(100) # as word vectors are of zero length\n",
    "  weight_sum =0; # num of words with a valid vector in the sentence/review\n",
    "  for word in sent: # for each word in a review/sentence\n",
    "   if word in w_t_c_words:\n",
    "     vec = word_to_vector.wv[word]\n",
    "     tf_idf = dictionary[word]*(sent.count(word)/len(sent))# dictionary[word] = idf value of word in whole courpus\n",
    "     sent_vec += (vec * tf_idf)# sent.count(word) = tf valeus of word in this review\n",
    "     weight_sum += tf_idf \n",
    "  if weight_sum != 0:\n",
    "   sent_vec /= weight_sum\n",
    "   train_tfidf_sent_vectors.append(sent_vec)"
   ]
  },
  {
   "cell_type": "code",
   "execution_count": 0,
   "metadata": {
    "colab": {
     "base_uri": "https://localhost:8080/",
     "height": 34
    },
    "colab_type": "code",
    "id": "euxhGXSARuT8",
    "outputId": "c865f777-2047-423f-d764-4ad32dd8a37c"
   },
   "outputs": [
    {
     "name": "stdout",
     "output_type": "stream",
     "text": [
      "(80000, 100)\n"
     ]
    }
   ],
   "source": [
    "from sklearn.preprocessing import StandardScaler #standarizing the training  data  \n",
    "x_train_data=StandardScaler( with_mean=False).fit_transform(train_tfidf_sent_vectors)\n",
    "print(x_train_data.shape)"
   ]
  },
  {
   "cell_type": "code",
   "execution_count": 0,
   "metadata": {
    "colab": {
     "base_uri": "https://localhost:8080/",
     "height": 85
    },
    "colab_type": "code",
    "id": "VDAKz930EqpA",
    "outputId": "c7484e34-2531-43f5-eca1-fd79013582fe"
   },
   "outputs": [
    {
     "name": "stdout",
     "output_type": "stream",
     "text": [
      "hard find item dont buy mani either came stale got way quick classic nonetheless\n",
      "*****************************************************************\n",
      "['hard', 'find', 'item', 'dont', 'buy', 'mani', 'either', 'came', 'stale', 'got', 'way', 'quick', 'classic', 'nonetheless']\n",
      "*******************************************************************\n"
     ]
    }
   ],
   "source": [
    "list_of_sent=[]\n",
    "for sent in x_test:\n",
    " list_of_sent.append(sent.split())#splitting of sentences into words AND appending them to list\n",
    "print(x_test[0])\n",
    "print(\"*****************************************************************\")\n",
    "print(list_of_sent[0])\n",
    "print('*******************************************************************')\n"
   ]
  },
  {
   "cell_type": "code",
   "execution_count": 0,
   "metadata": {
    "colab": {
     "base_uri": "https://localhost:8080/",
     "height": 34
    },
    "colab_type": "code",
    "id": "lh1zEyoAKnHu",
    "outputId": "19802f81-f4e9-453a-ef19-804979207506"
   },
   "outputs": [
    {
     "name": "stderr",
     "output_type": "stream",
     "text": [
      "100%|██████████| 20000/20000 [01:51<00:00, 179.80it/s]\n"
     ]
    }
   ],
   "source": [
    "###### NOW STARTING TFIDF WORD TO VEC FOR TEST DATA#################################################################\n",
    "#NOW STARTING TF-IDF WEIGHTED WORD-TO-VEC\n",
    "model = TfidfVectorizer()\n",
    "model.fit_transform(x_train)\n",
    "model.transform(x_test)\n",
    "# we are converting a dictionary with word as a key, and the idf as a value\n",
    "dictionary = dict(zip(model.get_feature_names(), list(model.idf_)))\n",
    "test_tfidf_sent_vectors =[]# the tfidf-w2v for each sentence/review is stored in this list\n",
    "\n",
    "for sent in tqdm(list_of_sent): # for each review/sentence\n",
    "  sent_vec = np.zeros(100) # as word vectors are of zero length\n",
    "  weight_sum =0; # num of words with a valid vector in the sentence/review\n",
    "  for word in sent: # for each word in a review/sentence\n",
    "   if word in w_t_c_words:\n",
    "     vec = word_to_vector.wv[word]\n",
    "     tf_idf = dictionary[word]*(sent.count(word)/len(sent))# dictionary[word] = idf value of word in whole courpus\n",
    "     sent_vec += (vec * tf_idf)# sent.count(word) = tf valeus of word in this review\n",
    "     weight_sum += tf_idf\n",
    "  if weight_sum != 0:\n",
    "   sent_vec /= weight_sum\n",
    "   test_tfidf_sent_vectors.append(sent_vec)"
   ]
  },
  {
   "cell_type": "code",
   "execution_count": 0,
   "metadata": {
    "colab": {
     "base_uri": "https://localhost:8080/",
     "height": 34
    },
    "colab_type": "code",
    "id": "eA6sBkqhKc6X",
    "outputId": "56aa9614-2df4-4477-b6aa-0d7ddd91773d"
   },
   "outputs": [
    {
     "name": "stdout",
     "output_type": "stream",
     "text": [
      "(20000, 100)\n"
     ]
    }
   ],
   "source": [
    "from sklearn.preprocessing import StandardScaler #standarizing the training  data  \n",
    "x_test_data=StandardScaler( with_mean=False).fit_transform(test_tfidf_sent_vectors)\n",
    "print(x_test_data.shape)"
   ]
  },
  {
   "cell_type": "code",
   "execution_count": 0,
   "metadata": {
    "colab": {},
    "colab_type": "code",
    "collapsed": true,
    "id": "chWOpjaYHQJ9"
   },
   "outputs": [],
   "source": [
    "#using time series split method for cross-validation score\n",
    "from sklearn.model_selection import TimeSeriesSplit\n",
    "tscv = TimeSeriesSplit(n_splits=10) \n",
    "from sklearn.linear_model import LogisticRegression\n",
    "from scipy.stats import uniform\n",
    "parameter_range=[10**-4,10**-3,10**-2,10**-1,10**0,10**1,10**2,10**3,10**4]#range of hyperparameter\n",
    "\n",
    "\n"
   ]
  },
  {
   "cell_type": "code",
   "execution_count": 0,
   "metadata": {
    "colab": {},
    "colab_type": "code",
    "collapsed": true,
    "id": "rG88j1YPCZA2"
   },
   "outputs": [],
   "source": [
    "lr=LogisticRegression(penalty='l2',class_weight={1:.5,0:.5},n_jobs=-1)#building logistic regression model\n",
    "tuned_parameters=[{'C':parameter_range}]"
   ]
  },
  {
   "cell_type": "code",
   "execution_count": 0,
   "metadata": {
    "colab": {
     "base_uri": "https://localhost:8080/",
     "height": 136
    },
    "colab_type": "code",
    "id": "TiPOTRBoVW27",
    "outputId": "4ae6d889-b0d0-4b04-d7d3-32699b4857e0"
   },
   "outputs": [
    {
     "name": "stdout",
     "output_type": "stream",
     "text": [
      "CPU times: user 5 µs, sys: 0 ns, total: 5 µs\n",
      "Wall time: 9.06 µs\n",
      "LogisticRegression(C=0.1, class_weight={1: 0.5, 0: 0.5}, dual=False,\n",
      "          fit_intercept=True, intercept_scaling=1, max_iter=100,\n",
      "          multi_class='warn', n_jobs=-1, penalty='l2', random_state=None,\n",
      "          solver='warn', tol=0.0001, verbose=0, warm_start=False)\n",
      "0.9398098682227883\n"
     ]
    }
   ],
   "source": [
    "#applying the model of logistic regression and using gridsearchcv to find the best hyper parameter\n",
    "%time\n",
    "from sklearn.model_selection import GridSearchCV\n",
    "model = GridSearchCV(lr, tuned_parameters, scoring = 'f1', cv=tscv,n_jobs=-1)#building the gridsearchcv model\n",
    "model.fit(x_train_data, y_train)#fiitting the training data\n",
    "\n",
    "print(model.best_estimator_)#printing the best_estimator\n",
    "print(model.score(x_test_data, y_test))#predicting  f1 score on test data"
   ]
  },
  {
   "cell_type": "code",
   "execution_count": 0,
   "metadata": {
    "colab": {
     "base_uri": "https://localhost:8080/",
     "height": 34
    },
    "colab_type": "code",
    "id": "tfX1tl8tFY1t",
    "outputId": "3a67bda6-4956-49c3-da76-12121eaf18e2"
   },
   "outputs": [
    {
     "name": "stdout",
     "output_type": "stream",
     "text": [
      "[3.3817815  3.72982275 4.43153667 ... 2.21317907 2.13869536 3.92686093]\n"
     ]
    }
   ],
   "source": [
    "lr=LogisticRegression(C=0.1,penalty='l2',class_weight={1:.5,0:.5},n_jobs=-1)#building model for getting wieght vector\n",
    "lr.fit(x_train_data,y_train)#fitting the training data\n",
    "z=lr.decision_function(x_train_data)#checking the signed distance of a point from hyperplane\n",
    "print(z)#printing the signed distance"
   ]
  },
  {
   "cell_type": "code",
   "execution_count": 0,
   "metadata": {
    "colab": {
     "base_uri": "https://localhost:8080/",
     "height": 323
    },
    "colab_type": "code",
    "id": "O9878ojqngnG",
    "outputId": "900433e4-7eb6-49b1-b128-60ce9c4f5b1d"
   },
   "outputs": [
    {
     "name": "stdout",
     "output_type": "stream",
     "text": [
      "(1, 100)\n",
      "[[-0.16501958 -0.21457623  0.13722374 -0.11166733  0.22102247 -0.01286958\n",
      "  -0.06977602  0.23810098  0.1583446  -0.01580348 -0.56143422  0.04459377\n",
      "  -0.27458457 -0.02144127  0.23681264  0.3060031   0.13795873 -0.0692436\n",
      "   0.05188021  0.02388875 -0.09548089  0.32181222 -0.12674304  0.05133334\n",
      "   0.33665299  0.01795062 -0.21469577  0.36660306 -0.02321149  0.40511709\n",
      "  -0.35227165  0.26881642 -0.57090952  0.22466264  0.36935362  0.12171855\n",
      "  -0.20692414 -0.22261148 -0.23196746  0.11794993  0.0297931  -0.04519193\n",
      "  -0.62683822  0.30744293  0.70980847 -0.26242057  0.25476866  0.13351317\n",
      "  -0.11249602  0.59678395  0.07131134 -0.07589831  0.00088051 -0.05646999\n",
      "  -0.11040431 -0.05918636 -0.25525033 -0.20574963 -0.21631142  0.33505151\n",
      "   0.10419019 -0.35587076 -0.0598645  -0.20009404  0.19458033  0.11728163\n",
      "   0.17198177 -0.60256641  0.1729033  -0.10077599  0.17313286  0.09018091\n",
      "  -0.31024814 -0.25297867 -0.1085571  -0.02121957 -0.31238821 -0.13970466\n",
      "   0.06517518  0.03902697  0.05164876  0.2659251   0.2649679   0.06729649\n",
      "  -0.24576033 -0.10450755  0.06208229  0.01022223 -0.03161103 -0.05128143\n",
      "  -0.04471847  0.00125878 -0.10737445  0.20960195 -0.11948915  0.01593372\n",
      "   0.05709511 -0.0287014   0.11602911 -0.2704184 ]]\n"
     ]
    }
   ],
   "source": [
    "wieght_vector=lr.coef_#getting the weight vector\n",
    "print(wieght_vector.shape)#wieght vector shape\n",
    "print(wieght_vector[:10])"
   ]
  },
  {
   "cell_type": "markdown",
   "metadata": {
    "colab_type": "text",
    "id": "eBxTRYWtRsb7"
   },
   "source": [
    "# PERTUBATION TEST : #\n",
    "   AIM:    TO CHECK FOR MULTI COLLINEARITY  OF FEATURES\n",
    "    STEPS \n",
    "  1.  <b> GETTING THE WIEGHT VECTOR FROM  MODEL AND SAVING IT</br>\n",
    "  2.   ADDING  NOISE TO THE  TRAINING DATA TO GET NEW  TRAINING  DATA</br>\n",
    "  3. FITTING THE MODEL AGAIN ON NEW DATA</br>\n",
    "  4. GETTING THE WIEGHT VECTOR FROM THIS MODEL</br> \n",
    "  5.ADDING SMALL VALUE TO WEIGHT VECTOR OF BOTH TRAINNG  DATA TO REMOVE ANY ERROR\n",
    "  6. FINDING THE PERCENTAGE CHANGE VECTOR \n",
    "  7. GEETING HOW MANY GEATURE HAS CHANGED USING SOME THRESHOLD VALUE( HERE TAKING IT AS  100)\n",
    "  8. PLOTTING THE  QUANTILES WITH THIER PERCENTAGE WIGHT  VALUE TO CHECK IF COLLINEARITY EXITS OR NOT</i></font></br>\n",
    "  \n",
    "  #  RESULT : TO KNOW WHETHER FEATURES ARE MULTICOLLINEAR OR NOT     AND TO KNOW WHETHER MODEL IS RELIABLE OR NOT #\n",
    "    \n",
    "  "
   ]
  },
  {
   "cell_type": "code",
   "execution_count": 0,
   "metadata": {
    "colab": {},
    "colab_type": "code",
    "collapsed": true,
    "id": "KjO5al3OpBHN"
   },
   "outputs": [],
   "source": [
    "#here,we are adding noise to the data \n",
    "from scipy.stats import norm\n",
    "noise=norm.rvs(size=1)#noise\n",
    "x_train_data.data+=noise#adding noise\n"
   ]
  },
  {
   "cell_type": "code",
   "execution_count": 0,
   "metadata": {
    "colab": {
     "base_uri": "https://localhost:8080/",
     "height": 34
    },
    "colab_type": "code",
    "id": "qv9Pk61dIYzP",
    "outputId": "14d7338f-57b1-42d0-c3d3-922dfac7b6d0"
   },
   "outputs": [
    {
     "name": "stdout",
     "output_type": "stream",
     "text": [
      "shape of our new train data  after adding noise is :  (80000, 100)\n"
     ]
    }
   ],
   "source": [
    "print('shape of our new train data  after adding noise is : ',x_train_data.shape)#printing shape of new training data\n"
   ]
  },
  {
   "cell_type": "code",
   "execution_count": 0,
   "metadata": {
    "colab": {},
    "colab_type": "code",
    "collapsed": true,
    "id": "Q0VNtjb8R-7F"
   },
   "outputs": [],
   "source": [
    "#uilding the model using timeSeriesSplit\n",
    "from sklearn.model_selection import TimeSeriesSplit\n",
    "tscv = TimeSeriesSplit(n_splits=10) # 10 spilts cross validation\n",
    "from sklearn.linear_model import LogisticRegression\n",
    "from scipy.stats import uniform\n",
    "data=[10**-4,10**-3,10**-2,10**-1,10**0,10**1,10**2,10**3,10**4]#value range of hyper parameter for grid searchcv\n",
    "lr=LogisticRegression(penalty='l2',class_weight={1:.5,0:.5},n_jobs=-1)#building the model\n",
    "tuned_parameters=[{'C':data}]\n"
   ]
  },
  {
   "cell_type": "code",
   "execution_count": 0,
   "metadata": {
    "colab": {
     "base_uri": "https://localhost:8080/",
     "height": 119
    },
    "colab_type": "code",
    "id": "TyMjKFZOSdnz",
    "outputId": "ae48c489-66a7-462e-9928-def459525c70"
   },
   "outputs": [
    {
     "name": "stdout",
     "output_type": "stream",
     "text": [
      "CPU times: user 4 µs, sys: 0 ns, total: 4 µs\n",
      "Wall time: 9.54 µs\n",
      "best estimator of our new data is:  LogisticRegression(C=0.1, class_weight={1: 0.5, 0: 0.5}, dual=False,\n",
      "          fit_intercept=True, intercept_scaling=1, max_iter=100,\n",
      "          multi_class='warn', n_jobs=-1, penalty='l2', random_state=None,\n",
      "          solver='warn', tol=0.0001, verbose=0, warm_start=False)\n"
     ]
    }
   ],
   "source": [
    "%time\n",
    "from sklearn.model_selection import GridSearchCV\n",
    "model = GridSearchCV(lr, tuned_parameters, scoring = 'f1', cv=tscv,n_jobs=-1)#building the gridsearchcv model\n",
    "model.fit(x_train_data, y_train)#fiitting the training data\n",
    "\n",
    "print('best estimator of our new data is: ',model.best_estimator_)#printing the best_estimator"
   ]
  },
  {
   "cell_type": "code",
   "execution_count": 0,
   "metadata": {
    "colab": {
     "base_uri": "https://localhost:8080/",
     "height": 34
    },
    "colab_type": "code",
    "id": "p6CYIA4sUAbZ",
    "outputId": "42c8ce4c-af3e-47a5-c84a-16772db7576d"
   },
   "outputs": [
    {
     "name": "stdout",
     "output_type": "stream",
     "text": [
      "(1, 100)\n"
     ]
    }
   ],
   "source": [
    "# again building the model for finding the wieght vector of the words from model\n",
    "lr=LogisticRegression(C=10,penalty='l2',class_weight={1:.5,0:.5},n_jobs=-1)#building the logistic regression model\n",
    "lr.fit(x_train_data,y_train)#fiting the training model\n",
    "new_wieght_vector=lr.coef_\n",
    "print(new_wieght_vector.shape)#printing shape of wieght vector"
   ]
  },
  {
   "cell_type": "code",
   "execution_count": 0,
   "metadata": {
    "colab": {},
    "colab_type": "code",
    "collapsed": true,
    "id": "kvT7CUuIVEIp"
   },
   "outputs": [],
   "source": [
    "percent_change_vec=np.ones((1,100))#generating the percent_change_vetor to store the percentage change  values for each word"
   ]
  },
  {
   "cell_type": "code",
   "execution_count": 0,
   "metadata": {
    "colab": {},
    "colab_type": "code",
    "collapsed": true,
    "id": "h2gPDOfsBGPZ"
   },
   "outputs": [],
   "source": [
    "wieght_vector=wieght_vector+10**-6 #adding some values to wieght vector to avoid error while division\n",
    "      \n",
    "new_wieght_vector=new_wieght_vector+10**-6 #adding some values to wieght vector to avoid error while division\n",
    "      \n",
    "percent_change_vec=abs((wieght_vector-new_wieght_vector)/wieght_vector)*100#calculating the percentage change in the vector\n"
   ]
  },
  {
   "cell_type": "code",
   "execution_count": 0,
   "metadata": {
    "colab": {
     "base_uri": "https://localhost:8080/",
     "height": 34
    },
    "colab_type": "code",
    "id": "XUi-owIl7_k-",
    "outputId": "2f591ba9-f0cd-466e-e663-eeea8609f490"
   },
   "outputs": [
    {
     "name": "stdout",
     "output_type": "stream",
     "text": [
      "0.00283117933505747\n"
     ]
    }
   ],
   "source": [
    "x=abs((wieght_vector[0][2]-new_wieght_vector[0][2])/wieght_vector[0][2])#just checking randomly that every value is positve in percent_change_vector \n",
    "print(x)"
   ]
  },
  {
   "cell_type": "code",
   "execution_count": 0,
   "metadata": {
    "colab": {
     "base_uri": "https://localhost:8080/",
     "height": 34
    },
    "colab_type": "code",
    "id": "P4k621dtBJGk",
    "outputId": "cd818546-5178-4fe8-b869-7ead650f0ad6"
   },
   "outputs": [
    {
     "name": "stdout",
     "output_type": "stream",
     "text": [
      "shape of percent change wieght vector is (1, 100)\n"
     ]
    }
   ],
   "source": [
    "print('shape of percent change wieght vector is', percent_change_vec.shape)#printing shape of percent_change_vector"
   ]
  },
  {
   "cell_type": "code",
   "execution_count": 0,
   "metadata": {
    "colab": {},
    "colab_type": "code",
    "collapsed": true,
    "id": "hi1oC_R8BNSJ"
   },
   "outputs": [],
   "source": [
    "per_change_df=pd.DataFrame(percent_change_vec.T,columns=['CHANGE'])#building a dataframe from wight vector"
   ]
  },
  {
   "cell_type": "code",
   "execution_count": 0,
   "metadata": {
    "colab": {
     "base_uri": "https://localhost:8080/",
     "height": 204
    },
    "colab_type": "code",
    "id": "yJ0gARInBXwH",
    "outputId": "8c7988e4-0a12-4b0f-83ea-731e6a0ebc14"
   },
   "outputs": [
    {
     "data": {
      "text/html": [
       "<div>\n",
       "<style scoped>\n",
       "    .dataframe tbody tr th:only-of-type {\n",
       "        vertical-align: middle;\n",
       "    }\n",
       "\n",
       "    .dataframe tbody tr th {\n",
       "        vertical-align: top;\n",
       "    }\n",
       "\n",
       "    .dataframe thead th {\n",
       "        text-align: right;\n",
       "    }\n",
       "</style>\n",
       "<table border=\"1\" class=\"dataframe\">\n",
       "  <thead>\n",
       "    <tr style=\"text-align: right;\">\n",
       "      <th></th>\n",
       "      <th>CHANGE</th>\n",
       "    </tr>\n",
       "  </thead>\n",
       "  <tbody>\n",
       "    <tr>\n",
       "      <th>0</th>\n",
       "      <td>8.252026</td>\n",
       "    </tr>\n",
       "    <tr>\n",
       "      <th>1</th>\n",
       "      <td>5.562601</td>\n",
       "    </tr>\n",
       "    <tr>\n",
       "      <th>2</th>\n",
       "      <td>0.283118</td>\n",
       "    </tr>\n",
       "    <tr>\n",
       "      <th>3</th>\n",
       "      <td>6.209997</td>\n",
       "    </tr>\n",
       "    <tr>\n",
       "      <th>4</th>\n",
       "      <td>1.448420</td>\n",
       "    </tr>\n",
       "  </tbody>\n",
       "</table>\n",
       "</div>"
      ],
      "text/plain": [
       "     CHANGE\n",
       "0  8.252026\n",
       "1  5.562601\n",
       "2  0.283118\n",
       "3  6.209997\n",
       "4  1.448420"
      ]
     },
     "execution_count": 27,
     "metadata": {
      "tags": []
     },
     "output_type": "execute_result"
    }
   ],
   "source": [
    "per_change_df.head()#getting first 5 values "
   ]
  },
  {
   "cell_type": "code",
   "execution_count": 0,
   "metadata": {
    "colab": {
     "base_uri": "https://localhost:8080/",
     "height": 297
    },
    "colab_type": "code",
    "id": "JthxyW_W2XAh",
    "outputId": "c7b0478b-005e-4906-9a6d-6b2eab41a7d6"
   },
   "outputs": [
    {
     "data": {
      "text/html": [
       "<div>\n",
       "<style scoped>\n",
       "    .dataframe tbody tr th:only-of-type {\n",
       "        vertical-align: middle;\n",
       "    }\n",
       "\n",
       "    .dataframe tbody tr th {\n",
       "        vertical-align: top;\n",
       "    }\n",
       "\n",
       "    .dataframe thead th {\n",
       "        text-align: right;\n",
       "    }\n",
       "</style>\n",
       "<table border=\"1\" class=\"dataframe\">\n",
       "  <thead>\n",
       "    <tr style=\"text-align: right;\">\n",
       "      <th></th>\n",
       "      <th>CHANGE</th>\n",
       "    </tr>\n",
       "  </thead>\n",
       "  <tbody>\n",
       "    <tr>\n",
       "      <th>count</th>\n",
       "      <td>100.000000</td>\n",
       "    </tr>\n",
       "    <tr>\n",
       "      <th>mean</th>\n",
       "      <td>21.766990</td>\n",
       "    </tr>\n",
       "    <tr>\n",
       "      <th>std</th>\n",
       "      <td>96.913322</td>\n",
       "    </tr>\n",
       "    <tr>\n",
       "      <th>min</th>\n",
       "      <td>0.041925</td>\n",
       "    </tr>\n",
       "    <tr>\n",
       "      <th>25%</th>\n",
       "      <td>2.558892</td>\n",
       "    </tr>\n",
       "    <tr>\n",
       "      <th>50%</th>\n",
       "      <td>5.629969</td>\n",
       "    </tr>\n",
       "    <tr>\n",
       "      <th>75%</th>\n",
       "      <td>8.782768</td>\n",
       "    </tr>\n",
       "    <tr>\n",
       "      <th>max</th>\n",
       "      <td>947.544153</td>\n",
       "    </tr>\n",
       "  </tbody>\n",
       "</table>\n",
       "</div>"
      ],
      "text/plain": [
       "           CHANGE\n",
       "count  100.000000\n",
       "mean    21.766990\n",
       "std     96.913322\n",
       "min      0.041925\n",
       "25%      2.558892\n",
       "50%      5.629969\n",
       "75%      8.782768\n",
       "max    947.544153"
      ]
     },
     "execution_count": 28,
     "metadata": {
      "tags": []
     },
     "output_type": "execute_result"
    }
   ],
   "source": [
    "sorted_Df=per_change_df.sort_values('CHANGE',ascending=True,axis=0)#sorting the dataframe to calculate the quantiles values\n",
    "sorted_Df.describe()#describe function"
   ]
  },
  {
   "cell_type": "code",
   "execution_count": 0,
   "metadata": {
    "colab": {
     "base_uri": "https://localhost:8080/",
     "height": 374
    },
    "colab_type": "code",
    "id": "irRAKZ7-KT9v",
    "outputId": "b4f4d627-a637-40d9-a946-ce54e193e5a3"
   },
   "outputs": [
    {
     "name": "stdout",
     "output_type": "stream",
     "text": [
      "sorted_Data 0.00th quantiles is   0.042\n",
      "sorted_Data 0.05th quantiles is   0.446\n",
      "sorted_Data 0.10th quantiles is   1.014\n",
      "sorted_Data 0.15th quantiles is   1.443\n",
      "sorted_Data 0.20th quantiles is   1.793\n",
      "sorted_Data 0.25th quantiles is   2.559\n",
      "sorted_Data 0.30th quantiles is   3.411\n",
      "sorted_Data 0.35th quantiles is   3.770\n",
      "sorted_Data 0.40th quantiles is   4.985\n",
      "sorted_Data 0.45th quantiles is   5.261\n",
      "sorted_Data 0.50th quantiles is   5.630\n",
      "sorted_Data 0.55th quantiles is   6.221\n",
      "sorted_Data 0.60th quantiles is   6.526\n",
      "sorted_Data 0.65th quantiles is   7.206\n",
      "sorted_Data 0.70th quantiles is   8.266\n",
      "sorted_Data 0.75th quantiles is   8.783\n",
      "sorted_Data 0.80th quantiles is   9.965\n",
      "sorted_Data 0.85th quantiles is  14.053\n",
      "sorted_Data 0.90th quantiles is  27.903\n",
      "sorted_Data 0.95th quantiles is  57.288\n",
      "sorted_Data 1.00th quantiles is 947.544\n"
     ]
    }
   ],
   "source": [
    "quantiles=list( i/100 for i in range(0,101,5))#building the list of quantiles value \n",
    "for i in quantiles:\n",
    "  print('sorted_Data {:.2f}th quantiles is {:7.3f}'.format(i,sorted_Df['CHANGE'].quantile(i)))#printing the quantiles and thier coreesponding values\n",
    "\n",
    "      \n",
    "      \n",
    "    \n",
    "    "
   ]
  },
  {
   "cell_type": "code",
   "execution_count": 0,
   "metadata": {
    "colab": {
     "base_uri": "https://localhost:8080/",
     "height": 119
    },
    "colab_type": "code",
    "id": "gVBhyVa7MhfT",
    "outputId": "4fce43ba-075a-4f60-f468-2f734c395690"
   },
   "outputs": [
    {
     "name": "stdout",
     "output_type": "stream",
     "text": [
      "sorted_Data 0.95th quantiles is  57.288\n",
      "sorted_Data 0.96th quantiles is  64.478\n",
      "sorted_Data 0.97th quantiles is  79.859\n",
      "sorted_Data 0.98th quantiles is 159.585\n",
      "sorted_Data 0.99th quantiles is 174.877\n",
      "sorted_Data 1.00th quantiles is 947.544\n"
     ]
    }
   ],
   "source": [
    "quantiles=list( i/100 for i in range(95,101,1))#printing the last percentiles values because this region is showing abrupt change\n",
    "percent_change_list=[]#empty percent_change\n",
    "for i in quantiles:\n",
    "  print('sorted_Data {:.2f}th quantiles is {:7.3f}'.format(i,sorted_Df['CHANGE'].quantile(i)))\n",
    "  percent_change_list.append(sorted_Df['CHANGE'].quantile(i))#building the list"
   ]
  },
  {
   "cell_type": "code",
   "execution_count": 0,
   "metadata": {
    "colab": {
     "base_uri": "https://localhost:8080/",
     "height": 68
    },
    "colab_type": "code",
    "id": "wkB8LGD3F2ro",
    "outputId": "927badfb-40aa-4d63-ab73-ffb32620e8c2"
   },
   "outputs": [
    {
     "name": "stdout",
     "output_type": "stream",
     "text": [
      "[57.28808961407178, 64.47832543785151, 79.85944211906845, 159.58493481949412, 174.8767261023266, 947.5441530541704]\n",
      "[57.29, 64.48, 79.86, 159.58, 174.88, 947.54]\n",
      "[0.95, 0.96, 0.97, 0.98, 0.99, 1.0]\n"
     ]
    }
   ],
   "source": [
    "print(percent_change_list)\n",
    "my_formatted_list = [ '%.2f' % elem for elem in percent_change_list ]#formatted list with string values in it\n",
    "my_formatted_list=[float(i) for i in my_formatted_list]#formatted list with flaot values in it\n",
    "print(my_formatted_list)#printing formatted list\n",
    "print(quantiles)#printing quantiles\n"
   ]
  },
  {
   "cell_type": "code",
   "execution_count": 0,
   "metadata": {
    "colab": {
     "base_uri": "https://localhost:8080/",
     "height": 296
    },
    "colab_type": "code",
    "id": "_pHGWehRbLX7",
    "outputId": "ce841bdf-55e5-438b-afbb-9b4001490f20"
   },
   "outputs": [
    {
     "data": {
      "text/plain": [
       "<matplotlib.legend.Legend at 0x7fa1a6a6d978>"
      ]
     },
     "execution_count": 32,
     "metadata": {
      "tags": []
     },
     "output_type": "execute_result"
    },
    {
     "data": {
      "image/png": "[encoded data removed]",
      "text/plain": [
       "<matplotlib.figure.Figure at 0x7fa1a6b1f550>"
      ]
     },
     "metadata": {
      "tags": []
     },
     "output_type": "display_data"
    }
   ],
   "source": [
    "%matplotlib inline\n",
    "import matplotlib.pyplot as plt\n",
    "plt.show() \n",
    "plt.xlabel('QUANTILES VALUES')\n",
    "plt.ylabel('PERCENTAGE VALUES FOR QUANTILES')\n",
    "plt.plot(quantiles,my_formatted_list,'r--' ,label='PERCENTAGE VALUES FOR QUANTILES')\n",
    "plt.legend(loc='best')"
   ]
  },
  {
   "cell_type": "markdown",
   "metadata": {
    "colab_type": "text",
    "id": "hkT2E5g5S0Jy"
   },
   "source": [
    "###FROM THE ABOVE VISUALIZATION , MAIN POINTS ARE:. </font>###\n",
    "\n",
    "1.  THAT ONLY 1% OF FEATURES GOT AFFECTED AFTER ADDING NOISE TO THE DATA. </font>\n",
    "2.   VERY LESS COLLINEARITY OF DATA IS PRESENT  ,BECAUSE MOST OF THE WEIGHT VECTORS VALUES  REMAINS SAME </font><br>\n",
    "3.THERFORE, OUR MODEL IS RELIABLE AND WE CAN PROCEED FURTHER TO CHECK ACCURACY ON TEST DATA </font>\n",
    "\n"
   ]
  },
  {
   "cell_type": "markdown",
   "metadata": {
    "colab_type": "text",
    "id": "_7wUeBTCZk5X"
   },
   "source": [
    "## CALCULATING  THE BEST HYPERPARAMETER ON TRAIN  DATA AND CALCULATING THE ACCURACY USING F1-SCORE AND PLOTTING IT "
   ]
  },
  {
   "cell_type": "code",
   "execution_count": 0,
   "metadata": {
    "colab": {},
    "colab_type": "code",
    "collapsed": true,
    "id": "BZF-q9eutTFs"
   },
   "outputs": [],
   "source": [
    "#using time series split method for cross-validation score\n",
    "from sklearn.model_selection import TimeSeriesSplit\n",
    "tscv = TimeSeriesSplit(n_splits=10) \n",
    "from sklearn.linear_model import LogisticRegression\n",
    "from scipy.stats import uniform\n",
    "data=[10**-4,10**-3,10**-2,10**-1,10**0,10**1,10**2,10**3,10**4]#range of hyperparameter"
   ]
  },
  {
   "cell_type": "code",
   "execution_count": 0,
   "metadata": {
    "colab": {},
    "colab_type": "code",
    "collapsed": true,
    "id": "4Q_AGHBgqkJA"
   },
   "outputs": [],
   "source": [
    "lr=LogisticRegression(penalty='l2',class_weight={1:.5,0:.5},n_jobs=-1)#building logistic regression model\n",
    "tuned_parameters=[{'C':data}]"
   ]
  },
  {
   "cell_type": "code",
   "execution_count": 0,
   "metadata": {
    "colab": {
     "base_uri": "https://localhost:8080/",
     "height": 187
    },
    "colab_type": "code",
    "id": "_9W2TEOxquDR",
    "outputId": "816cec19-6082-4c48-9dd9-68fe64c941f5"
   },
   "outputs": [
    {
     "data": {
      "text/plain": [
       "GridSearchCV(cv=TimeSeriesSplit(max_train_size=None, n_splits=10),\n",
       "       error_score='raise-deprecating',\n",
       "       estimator=LogisticRegression(C=1.0, class_weight={1: 0.5, 0: 0.5}, dual=False,\n",
       "          fit_intercept=True, intercept_scaling=1, max_iter=100,\n",
       "          multi_class='warn', n_jobs=-1, penalty='l2', random_state=None,\n",
       "          solver='warn', tol=0.0001, verbose=0, warm_start=False),\n",
       "       fit_params=None, iid='warn', n_jobs=-1,\n",
       "       param_grid=[{'C': [0.0001, 0.001, 0.01, 0.1, 1, 10, 100, 1000, 10000]}],\n",
       "       pre_dispatch='2*n_jobs', refit=True, return_train_score='warn',\n",
       "       scoring='f1', verbose=0)"
      ]
     },
     "execution_count": 35,
     "metadata": {
      "tags": []
     },
     "output_type": "execute_result"
    }
   ],
   "source": [
    "#applying the model of logistic regression and using gridsearchcv to find the best hyper parameter\n",
    "from sklearn.model_selection import GridSearchCV\n",
    "model = GridSearchCV(lr, tuned_parameters, scoring = 'f1', cv=tscv,n_jobs=-1)#building the gridsearchcv model\n",
    "model.fit(x_train_data, y_train)#fiitting the training data"
   ]
  },
  {
   "cell_type": "code",
   "execution_count": 0,
   "metadata": {
    "colab": {
     "base_uri": "https://localhost:8080/",
     "height": 85
    },
    "colab_type": "code",
    "id": "SyPK8AqSskym",
    "outputId": "437bf79a-456d-42cb-f7aa-6c42f66757e4"
   },
   "outputs": [
    {
     "name": "stdout",
     "output_type": "stream",
     "text": [
      "LogisticRegression(C=0.1, class_weight={1: 0.5, 0: 0.5}, dual=False,\n",
      "          fit_intercept=True, intercept_scaling=1, max_iter=100,\n",
      "          multi_class='warn', n_jobs=-1, penalty='l2', random_state=None,\n",
      "          solver='warn', tol=0.0001, verbose=0, warm_start=False)\n"
     ]
    }
   ],
   "source": [
    "print(model.best_estimator_)"
   ]
  },
  {
   "cell_type": "code",
   "execution_count": 0,
   "metadata": {
    "colab": {
     "base_uri": "https://localhost:8080/",
     "height": 513
    },
    "colab_type": "code",
    "id": "T7y5hJNi0B2C",
    "outputId": "e267c8d3-6f1a-41bd-c172-2fe4ce6cfc49"
   },
   "outputs": [
    {
     "data": {
      "text/html": [
       "<div>\n",
       "<style scoped>\n",
       "    .dataframe tbody tr th:only-of-type {\n",
       "        vertical-align: middle;\n",
       "    }\n",
       "\n",
       "    .dataframe tbody tr th {\n",
       "        vertical-align: top;\n",
       "    }\n",
       "\n",
       "    .dataframe thead th {\n",
       "        text-align: right;\n",
       "    }\n",
       "</style>\n",
       "<table border=\"1\" class=\"dataframe\">\n",
       "  <thead>\n",
       "    <tr style=\"text-align: right;\">\n",
       "      <th></th>\n",
       "      <th>mean_fit_time</th>\n",
       "      <th>mean_score_time</th>\n",
       "      <th>mean_test_score</th>\n",
       "      <th>mean_train_score</th>\n",
       "      <th>param_C</th>\n",
       "      <th>params</th>\n",
       "      <th>rank_test_score</th>\n",
       "      <th>split0_test_score</th>\n",
       "      <th>split0_train_score</th>\n",
       "      <th>split1_test_score</th>\n",
       "      <th>...</th>\n",
       "      <th>split7_test_score</th>\n",
       "      <th>split7_train_score</th>\n",
       "      <th>split8_test_score</th>\n",
       "      <th>split8_train_score</th>\n",
       "      <th>split9_test_score</th>\n",
       "      <th>split9_train_score</th>\n",
       "      <th>std_fit_time</th>\n",
       "      <th>std_score_time</th>\n",
       "      <th>std_test_score</th>\n",
       "      <th>std_train_score</th>\n",
       "    </tr>\n",
       "  </thead>\n",
       "  <tbody>\n",
       "    <tr>\n",
       "      <th>0</th>\n",
       "      <td>1.996376</td>\n",
       "      <td>0.014547</td>\n",
       "      <td>0.941283</td>\n",
       "      <td>0.941648</td>\n",
       "      <td>0.0001</td>\n",
       "      <td>{'C': 0.0001}</td>\n",
       "      <td>9</td>\n",
       "      <td>0.942793</td>\n",
       "      <td>0.936916</td>\n",
       "      <td>0.950195</td>\n",
       "      <td>...</td>\n",
       "      <td>0.938236</td>\n",
       "      <td>0.942548</td>\n",
       "      <td>0.934838</td>\n",
       "      <td>0.942104</td>\n",
       "      <td>0.937125</td>\n",
       "      <td>0.941422</td>\n",
       "      <td>1.197211</td>\n",
       "      <td>0.004855</td>\n",
       "      <td>0.004385</td>\n",
       "      <td>0.001824</td>\n",
       "    </tr>\n",
       "    <tr>\n",
       "      <th>1</th>\n",
       "      <td>3.171960</td>\n",
       "      <td>0.014771</td>\n",
       "      <td>0.943710</td>\n",
       "      <td>0.945046</td>\n",
       "      <td>0.001</td>\n",
       "      <td>{'C': 0.001}</td>\n",
       "      <td>8</td>\n",
       "      <td>0.944064</td>\n",
       "      <td>0.937683</td>\n",
       "      <td>0.952001</td>\n",
       "      <td>...</td>\n",
       "      <td>0.943310</td>\n",
       "      <td>0.946514</td>\n",
       "      <td>0.940074</td>\n",
       "      <td>0.946374</td>\n",
       "      <td>0.938432</td>\n",
       "      <td>0.946074</td>\n",
       "      <td>1.843353</td>\n",
       "      <td>0.006436</td>\n",
       "      <td>0.004006</td>\n",
       "      <td>0.002770</td>\n",
       "    </tr>\n",
       "    <tr>\n",
       "      <th>2</th>\n",
       "      <td>4.698934</td>\n",
       "      <td>0.015680</td>\n",
       "      <td>0.946472</td>\n",
       "      <td>0.950018</td>\n",
       "      <td>0.01</td>\n",
       "      <td>{'C': 0.01}</td>\n",
       "      <td>2</td>\n",
       "      <td>0.949467</td>\n",
       "      <td>0.948083</td>\n",
       "      <td>0.954726</td>\n",
       "      <td>...</td>\n",
       "      <td>0.946146</td>\n",
       "      <td>0.949881</td>\n",
       "      <td>0.940487</td>\n",
       "      <td>0.949128</td>\n",
       "      <td>0.940500</td>\n",
       "      <td>0.948367</td>\n",
       "      <td>2.659848</td>\n",
       "      <td>0.018304</td>\n",
       "      <td>0.004548</td>\n",
       "      <td>0.001300</td>\n",
       "    </tr>\n",
       "    <tr>\n",
       "      <th>3</th>\n",
       "      <td>7.046733</td>\n",
       "      <td>0.015911</td>\n",
       "      <td>0.946884</td>\n",
       "      <td>0.950443</td>\n",
       "      <td>0.1</td>\n",
       "      <td>{'C': 0.1}</td>\n",
       "      <td>1</td>\n",
       "      <td>0.949715</td>\n",
       "      <td>0.949974</td>\n",
       "      <td>0.954414</td>\n",
       "      <td>...</td>\n",
       "      <td>0.947297</td>\n",
       "      <td>0.949669</td>\n",
       "      <td>0.941301</td>\n",
       "      <td>0.949208</td>\n",
       "      <td>0.941467</td>\n",
       "      <td>0.948292</td>\n",
       "      <td>3.918287</td>\n",
       "      <td>0.003340</td>\n",
       "      <td>0.003959</td>\n",
       "      <td>0.001310</td>\n",
       "    </tr>\n",
       "    <tr>\n",
       "      <th>4</th>\n",
       "      <td>7.538299</td>\n",
       "      <td>0.014789</td>\n",
       "      <td>0.946434</td>\n",
       "      <td>0.950578</td>\n",
       "      <td>1</td>\n",
       "      <td>{'C': 1}</td>\n",
       "      <td>3</td>\n",
       "      <td>0.948660</td>\n",
       "      <td>0.949709</td>\n",
       "      <td>0.952593</td>\n",
       "      <td>...</td>\n",
       "      <td>0.947566</td>\n",
       "      <td>0.949668</td>\n",
       "      <td>0.940644</td>\n",
       "      <td>0.949136</td>\n",
       "      <td>0.941537</td>\n",
       "      <td>0.948442</td>\n",
       "      <td>4.096572</td>\n",
       "      <td>0.003677</td>\n",
       "      <td>0.003759</td>\n",
       "      <td>0.001518</td>\n",
       "    </tr>\n",
       "    <tr>\n",
       "      <th>5</th>\n",
       "      <td>7.361695</td>\n",
       "      <td>0.012899</td>\n",
       "      <td>0.946418</td>\n",
       "      <td>0.950613</td>\n",
       "      <td>10</td>\n",
       "      <td>{'C': 10}</td>\n",
       "      <td>6</td>\n",
       "      <td>0.948542</td>\n",
       "      <td>0.949822</td>\n",
       "      <td>0.952664</td>\n",
       "      <td>...</td>\n",
       "      <td>0.947637</td>\n",
       "      <td>0.949655</td>\n",
       "      <td>0.940644</td>\n",
       "      <td>0.949101</td>\n",
       "      <td>0.941607</td>\n",
       "      <td>0.948394</td>\n",
       "      <td>3.928839</td>\n",
       "      <td>0.004641</td>\n",
       "      <td>0.003753</td>\n",
       "      <td>0.001550</td>\n",
       "    </tr>\n",
       "    <tr>\n",
       "      <th>6</th>\n",
       "      <td>7.598320</td>\n",
       "      <td>0.013064</td>\n",
       "      <td>0.946426</td>\n",
       "      <td>0.950609</td>\n",
       "      <td>100</td>\n",
       "      <td>{'C': 100}</td>\n",
       "      <td>4</td>\n",
       "      <td>0.948614</td>\n",
       "      <td>0.949743</td>\n",
       "      <td>0.952664</td>\n",
       "      <td>...</td>\n",
       "      <td>0.947637</td>\n",
       "      <td>0.949665</td>\n",
       "      <td>0.940644</td>\n",
       "      <td>0.949086</td>\n",
       "      <td>0.941607</td>\n",
       "      <td>0.948401</td>\n",
       "      <td>4.053224</td>\n",
       "      <td>0.003273</td>\n",
       "      <td>0.003757</td>\n",
       "      <td>0.001558</td>\n",
       "    </tr>\n",
       "    <tr>\n",
       "      <th>7</th>\n",
       "      <td>7.546490</td>\n",
       "      <td>0.016040</td>\n",
       "      <td>0.946426</td>\n",
       "      <td>0.950609</td>\n",
       "      <td>1000</td>\n",
       "      <td>{'C': 1000}</td>\n",
       "      <td>4</td>\n",
       "      <td>0.948614</td>\n",
       "      <td>0.949743</td>\n",
       "      <td>0.952664</td>\n",
       "      <td>...</td>\n",
       "      <td>0.947637</td>\n",
       "      <td>0.949665</td>\n",
       "      <td>0.940644</td>\n",
       "      <td>0.949086</td>\n",
       "      <td>0.941607</td>\n",
       "      <td>0.948401</td>\n",
       "      <td>4.011150</td>\n",
       "      <td>0.006744</td>\n",
       "      <td>0.003757</td>\n",
       "      <td>0.001558</td>\n",
       "    </tr>\n",
       "    <tr>\n",
       "      <th>8</th>\n",
       "      <td>7.403473</td>\n",
       "      <td>0.012514</td>\n",
       "      <td>0.946418</td>\n",
       "      <td>0.950605</td>\n",
       "      <td>10000</td>\n",
       "      <td>{'C': 10000}</td>\n",
       "      <td>7</td>\n",
       "      <td>0.948614</td>\n",
       "      <td>0.949743</td>\n",
       "      <td>0.952664</td>\n",
       "      <td>...</td>\n",
       "      <td>0.947637</td>\n",
       "      <td>0.949665</td>\n",
       "      <td>0.940644</td>\n",
       "      <td>0.949024</td>\n",
       "      <td>0.941607</td>\n",
       "      <td>0.948416</td>\n",
       "      <td>3.819227</td>\n",
       "      <td>0.003333</td>\n",
       "      <td>0.003760</td>\n",
       "      <td>0.001562</td>\n",
       "    </tr>\n",
       "  </tbody>\n",
       "</table>\n",
       "<p>9 rows × 31 columns</p>\n",
       "</div>"
      ],
      "text/plain": [
       "   mean_fit_time  mean_score_time  mean_test_score  mean_train_score param_C  \\\n",
       "0       1.996376         0.014547         0.941283          0.941648  0.0001   \n",
       "1       3.171960         0.014771         0.943710          0.945046   0.001   \n",
       "2       4.698934         0.015680         0.946472          0.950018    0.01   \n",
       "3       7.046733         0.015911         0.946884          0.950443     0.1   \n",
       "4       7.538299         0.014789         0.946434          0.950578       1   \n",
       "5       7.361695         0.012899         0.946418          0.950613      10   \n",
       "6       7.598320         0.013064         0.946426          0.950609     100   \n",
       "7       7.546490         0.016040         0.946426          0.950609    1000   \n",
       "8       7.403473         0.012514         0.946418          0.950605   10000   \n",
       "\n",
       "          params  rank_test_score  split0_test_score  split0_train_score  \\\n",
       "0  {'C': 0.0001}                9           0.942793            0.936916   \n",
       "1   {'C': 0.001}                8           0.944064            0.937683   \n",
       "2    {'C': 0.01}                2           0.949467            0.948083   \n",
       "3     {'C': 0.1}                1           0.949715            0.949974   \n",
       "4       {'C': 1}                3           0.948660            0.949709   \n",
       "5      {'C': 10}                6           0.948542            0.949822   \n",
       "6     {'C': 100}                4           0.948614            0.949743   \n",
       "7    {'C': 1000}                4           0.948614            0.949743   \n",
       "8   {'C': 10000}                7           0.948614            0.949743   \n",
       "\n",
       "   split1_test_score       ...         split7_test_score  split7_train_score  \\\n",
       "0           0.950195       ...                  0.938236            0.942548   \n",
       "1           0.952001       ...                  0.943310            0.946514   \n",
       "2           0.954726       ...                  0.946146            0.949881   \n",
       "3           0.954414       ...                  0.947297            0.949669   \n",
       "4           0.952593       ...                  0.947566            0.949668   \n",
       "5           0.952664       ...                  0.947637            0.949655   \n",
       "6           0.952664       ...                  0.947637            0.949665   \n",
       "7           0.952664       ...                  0.947637            0.949665   \n",
       "8           0.952664       ...                  0.947637            0.949665   \n",
       "\n",
       "   split8_test_score  split8_train_score  split9_test_score  \\\n",
       "0           0.934838            0.942104           0.937125   \n",
       "1           0.940074            0.946374           0.938432   \n",
       "2           0.940487            0.949128           0.940500   \n",
       "3           0.941301            0.949208           0.941467   \n",
       "4           0.940644            0.949136           0.941537   \n",
       "5           0.940644            0.949101           0.941607   \n",
       "6           0.940644            0.949086           0.941607   \n",
       "7           0.940644            0.949086           0.941607   \n",
       "8           0.940644            0.949024           0.941607   \n",
       "\n",
       "   split9_train_score  std_fit_time  std_score_time  std_test_score  \\\n",
       "0            0.941422      1.197211        0.004855        0.004385   \n",
       "1            0.946074      1.843353        0.006436        0.004006   \n",
       "2            0.948367      2.659848        0.018304        0.004548   \n",
       "3            0.948292      3.918287        0.003340        0.003959   \n",
       "4            0.948442      4.096572        0.003677        0.003759   \n",
       "5            0.948394      3.928839        0.004641        0.003753   \n",
       "6            0.948401      4.053224        0.003273        0.003757   \n",
       "7            0.948401      4.011150        0.006744        0.003757   \n",
       "8            0.948416      3.819227        0.003333        0.003760   \n",
       "\n",
       "   std_train_score  \n",
       "0         0.001824  \n",
       "1         0.002770  \n",
       "2         0.001300  \n",
       "3         0.001310  \n",
       "4         0.001518  \n",
       "5         0.001550  \n",
       "6         0.001558  \n",
       "7         0.001558  \n",
       "8         0.001562  \n",
       "\n",
       "[9 rows x 31 columns]"
      ]
     },
     "execution_count": 37,
     "metadata": {
      "tags": []
     },
     "output_type": "execute_result"
    }
   ],
   "source": [
    "results=pd.DataFrame(model.cv_results_)# getting varoius cv_scores and train_scores various values of alpha given as parameter and storing it in a dataframe\n",
    "results#printing the dataframe"
   ]
  },
  {
   "cell_type": "code",
   "execution_count": 0,
   "metadata": {
    "colab": {
     "base_uri": "https://localhost:8080/",
     "height": 333
    },
    "colab_type": "code",
    "id": "19Sfrfuv0yKn",
    "outputId": "0544d15b-d305-4b2c-8589-e5c334b7c8b8"
   },
   "outputs": [
    {
     "name": "stdout",
     "output_type": "stream",
     "text": [
      "[5.8716940632852825, 5.629002786920556, 5.352804983977344, 5.311628165248572, 5.35657351955895, 5.358155325677227, 5.3574406314689575, 5.3574406314689575, 5.358235102558151]\n"
     ]
    },
    {
     "data": {
      "text/plain": [
       "<matplotlib.legend.Legend at 0x7fa1a630ee48>"
      ]
     },
     "execution_count": 38,
     "metadata": {
      "tags": []
     },
     "output_type": "execute_result"
    },
    {
     "data": {
      "image/png": "[encoded data removed]",
      "text/plain": [
       "<matplotlib.figure.Figure at 0x7fa1a6b1f710>"
      ]
     },
     "metadata": {
      "tags": []
     },
     "output_type": "display_data"
    }
   ],
   "source": [
    "%matplotlib inline\n",
    "import matplotlib.pyplot as plt\n",
    "\n",
    "\n",
    "mean_test_score=list(results['mean_test_score'])#taking mean_test_score values of various alpha into a list\n",
    "mean_train_score=list(results['mean_train_score'])#taking mean_train_score values of varoius alpha into a list\n",
    "cv_error_list=[]\n",
    "train_error_list=[]\n",
    "for i  in mean_test_score:\n",
    "   i=1-i\n",
    "   i=i*100\n",
    "   cv_error_list.append(i)#appending the list with cv_error \n",
    "for i  in mean_train_score:\n",
    "   i=1-i\n",
    "   i=i*100\n",
    "   train_error_list.append(i)#appending  the list with train_error     \n",
    "    \n",
    "print(cv_error_list)\n",
    "C_values_in_10_power=[-4,-3,-2,-1,0,1,2,3,4]#list of alpha values in power of 10\n",
    "plt.plot(C_values_in_10_power,cv_error_list,label='cv_error')#plotting alpha with cv_error\n",
    "plt.plot(C_values_in_10_power,train_error_list,label='train_error')#plotting aplhawith train_error\n",
    "plt.xlabel('C value in  power of 10 ')\n",
    "plt.ylabel('cv error and train error')\n",
    "plt.legend(loc='best')\n"
   ]
  },
  {
   "cell_type": "markdown",
   "metadata": {
    "colab_type": "text",
    "id": "7BOpkgvi7gmK"
   },
   "source": [
    "## From here,the best hyperparameter value is c=10 or alpha=0.1 <font>#"
   ]
  },
  {
   "cell_type": "markdown",
   "metadata": {
    "colab_type": "text",
    "id": "iIPcvIHIN3Qq"
   },
   "source": [
    "## USING BEST HYPERPARAMETER VALUE ON TEST DATA AND PLOTTING THE CONFUSION MATRIX WITH HEATMAP #"
   ]
  },
  {
   "cell_type": "code",
   "execution_count": 0,
   "metadata": {
    "colab": {
     "base_uri": "https://localhost:8080/",
     "height": 504
    },
    "colab_type": "code",
    "id": "2DLMaFSbvWcP",
    "outputId": "99b72728-3c5b-4aa1-f441-65ab29db082f"
   },
   "outputs": [
    {
     "name": "stdout",
     "output_type": "stream",
     "text": [
      "Accuracy on test set: 89.470%\n",
      "Precision on test set: 0.909\n",
      "Recall on test set: 0.977\n",
      "F1-Score on test set: 0.942\n",
      "Confusion Matrix of test set:\n",
      " [ [TN  FP]\n",
      " [FN TP] ]\n",
      "\n"
     ]
    },
    {
     "data": {
      "text/plain": [
       "<matplotlib.axes._subplots.AxesSubplot at 0x7fa1a69a4208>"
      ]
     },
     "execution_count": 39,
     "metadata": {
      "tags": []
     },
     "output_type": "execute_result"
    },
    {
     "data": {
      "image/png": "[encoded data removed]",
      "text/plain": [
       "<matplotlib.figure.Figure at 0x7fa1a63226a0>"
      ]
     },
     "metadata": {
      "tags": []
     },
     "output_type": "display_data"
    }
   ],
   "source": [
    "#Testing Accuracy on Test data  \n",
    "import seaborn as sns #importing seaborn as sns\n",
    "from sklearn.metrics import *#importing varoius metrics from sklearn\n",
    "lr=LogisticRegression(C=10,penalty='l2',class_weight={1:.5,0:.5},n_jobs=-1)#building logistic regression model#building the model\n",
    "lr.fit(x_test_data,y_test)\n",
    "y_pred = lr.predict(x_test_data) \n",
    "print(\"Accuracy on test set: %0.3f%%\"%(accuracy_score(y_test, y_pred)*100))#printing accuracy\n",
    "print(\"Precision on test set: %0.3f\"%(precision_score(y_test, y_pred)))#printing precision score\n",
    "print(\"Recall on test set: %0.3f\"%(recall_score(y_test, y_pred))) #printing recall\n",
    "print(\"F1-Score on test set: %0.3f\"%(f1_score(y_test, y_pred))) \n",
    "print(\"Confusion Matrix of test set:\\n [ [TN  FP]\\n [FN TP] ]\\n\") \n",
    "df_cm = pd.DataFrame(confusion_matrix(y_test, y_pred), range(2),range(2)) #generating the heatmap for confusion matrix\n",
    "sns.set(font_scale=1.4)#for label size\n",
    "sns.heatmap(df_cm, annot=True,annot_kws={\"size\": 16}, fmt='g')\n"
   ]
  },
  {
   "cell_type": "markdown",
   "metadata": {
    "colab_type": "text",
    "id": "yN8gMC0FQ0Wg"
   },
   "source": [
    "<h2> FROM THE ABOVE OBSERVATIONS ,IT IS FOUND THAT THE BEST HYPERPARAMETER IS FOUND AS APLHA=0.1  AND IT IS ALSO HAVING HIGH PRECISION,RECALL VALUE ON TEST DATA<h2>"
   ]
  },
  {
   "cell_type": "code",
   "execution_count": 0,
   "metadata": {
    "colab": {},
    "colab_type": "code",
    "collapsed": true,
    "id": "HfmdUQ-UNrpN"
   },
   "outputs": [],
   "source": [
    "#TFIDF WIEGHTED WORD2VEC VECTORIZATION IS COMPLETED FOR LOGISTIC REGRESSION"
   ]
  },
  {
   "cell_type": "markdown",
   "metadata": {
    "colab_type": "text",
    "id": "hOJky29rvJRJ"
   },
   "source": [
    "<h1>SUMMARIZING THE VAROIUS VECTORIZATIONS  FOR F1-SCORE,RECALL,PRECISION ,ACCURACY ON TEST DATA WITH HELP OF TABLE\n",
    "<h1>"
   ]
  },
  {
   "cell_type": "code",
   "execution_count": 3,
   "metadata": {
    "colab": {},
    "colab_type": "code",
    "id": "Yc2H1YLKwF5i"
   },
   "outputs": [],
   "source": [
    "from tabulate import tabulate\n",
    "  "
   ]
  },
  {
   "cell_type": "code",
   "execution_count": 4,
   "metadata": {
    "colab": {
     "base_uri": "https://localhost:8080/",
     "height": 167
    },
    "colab_type": "code",
    "id": "oKOsrnO1xEVj",
    "outputId": "698dbefc-ce51-4e25-da3f-428e162ece33"
   },
   "outputs": [
    {
     "name": "stdout",
     "output_type": "stream",
     "text": [
      "--------------------  ------  --  --  --\n",
      "BOW                   1000    90  99  95\n",
      "TF-IDF                1000    90  99  94\n",
      "AVG_WORD_2_VEC           0.1  91  97  94\n",
      "TFIDF_AVG_WORD_2_VEC     0.1  91  98  94\n",
      "--------------------  ------  --  --  --\n"
     ]
    }
   ],
   "source": [
    "table = [[\"BOW\",1000,90,99,95],[\"TF-IDF\",1000,90,99,94], [\"AVG_WORD_2_VEC\",0.1,91,97,94],[\"TFIDF_AVG_WORD_2_VEC\",0.1,91,98,94]]\n",
    "print (tabulate(table))"
   ]
  },
  {
   "cell_type": "code",
   "execution_count": 5,
   "metadata": {
    "colab": {
     "base_uri": "https://localhost:8080/",
     "height": 132
    },
    "colab_type": "code",
    "id": "Mlajhs1NmAXk",
    "outputId": "9bfbb79e-e1a2-40f0-fadb-c561f56c80d3"
   },
   "outputs": [
    {
     "name": "stdout",
     "output_type": "stream",
     "text": [
      "╒══════════════════════╤═════════╤═════════════╤══════════╤════════════╕\n",
      "│ VECTORIZATION        │   ALPHA │   PRECISION │   RECALL │   F1_SCORE │\n",
      "╞══════════════════════╪═════════╪═════════════╪══════════╪════════════╡\n",
      "│ BOW                  │  1000   │          90 │       99 │         95 │\n",
      "├──────────────────────┼─────────┼─────────────┼──────────┼────────────┤\n",
      "│ TF-IDF               │  1000   │          90 │       99 │         94 │\n",
      "├──────────────────────┼─────────┼─────────────┼──────────┼────────────┤\n",
      "│ AVG_WORD_2_VEC       │     0.1 │          91 │       97 │         94 │\n",
      "├──────────────────────┼─────────┼─────────────┼──────────┼────────────┤\n",
      "│ TFIDF_AVG_WORD_2_VEC │     0.1 │          91 │       98 │         94 │\n",
      "╘══════════════════════╧═════════╧═════════════╧══════════╧════════════╛\n"
     ]
    }
   ],
   "source": [
    "headers=['VECTORIZATION','ALPHA','PRECISION','RECALL','F1_SCORE']\n",
    "print (tabulate(table, headers, tablefmt=\"fancy_grid\"))"
   ]
  },
  {
   "cell_type": "code",
   "execution_count": null,
   "metadata": {
    "colab": {
     "base_uri": "https://localhost:8080/",
     "height": 34
    },
    "colab_type": "code",
    "id": "PFsaGnOOyBOe",
    "outputId": "efda3d8b-6f74-41c9-ac33-0b6568177fb8"
   },
   "outputs": [],
   "source": []
  },
  {
   "cell_type": "code",
   "execution_count": null,
   "metadata": {
    "colab": {
     "base_uri": "https://localhost:8080/",
     "height": 34
    },
    "colab_type": "code",
    "id": "3Du116z91FIV",
    "outputId": "9f616a67-7a9e-4b6d-93a5-17fa2c4d71ba"
   },
   "outputs": [],
   "source": []
  },
  {
   "cell_type": "code",
   "execution_count": 0,
   "metadata": {
    "colab": {},
    "colab_type": "code",
    "collapsed": true,
    "id": "SfZuQ5DpVMbE"
   },
   "outputs": [],
   "source": []
  }
 ],
 "metadata": {
  "colab": {
   "collapsed_sections": [],
   "name": "TFIDF -word2vec vectorization for logistic regression.ipynb",
   "provenance": [],
   "version": "0.3.2"
  },
  "kernelspec": {
   "display_name": "Python 3",
   "language": "python",
   "name": "python3"
  },
  "language_info": {
   "codemirror_mode": {
    "name": "ipython",
    "version": 3
   },
   "file_extension": ".py",
   "mimetype": "text/x-python",
   "name": "python",
   "nbconvert_exporter": "python",
   "pygments_lexer": "ipython3",
   "version": "3.6.3"
  }
 },
 "nbformat": 4,
 "nbformat_minor": 1
}
