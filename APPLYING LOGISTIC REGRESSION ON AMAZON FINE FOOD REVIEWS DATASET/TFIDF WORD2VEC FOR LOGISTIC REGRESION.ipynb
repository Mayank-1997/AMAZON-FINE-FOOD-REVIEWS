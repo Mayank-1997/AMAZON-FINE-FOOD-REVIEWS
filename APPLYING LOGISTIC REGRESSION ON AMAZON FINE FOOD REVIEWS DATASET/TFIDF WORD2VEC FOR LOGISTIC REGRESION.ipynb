{
 "cells": [
  {
   "cell_type": "markdown",
   "metadata": {
    "colab_type": "text",
    "id": "yE_CEe9g5GJ5"
   },
   "source": [
    "# OBJECTIVE :#\n",
    "\n",
    "1.   APPLYING LOGISTIC REGRESSION WITH TFIDF VECTORIZATION\n",
    " * PERFORMING PERTUBATION TEST TO CHECK WHETHER OUR DATA  FEATURES ARE COLLINER OR NOT AND PLOTTING THE RESULT\n",
    " *   FINDING THE BEST HYPERPARAMETER USING GRIDSEARCHCV WITH TRAIN DATA AND CROSS-VALIDATION DATA BY PLOTTING THE RESLUTS OF VAROIUS TRAIN DATA AND CROSS VALIDATION DATA\n",
    " * USING THE APROPRIATE VALUE OF HYPERPARAMETER ,TESTING ACCURACY ON TEST DATA\n",
    "    USING F1-SCORE\n",
    " * PLOTTING THE CONFUSION MATRIX TO GET THE  PRECISOIN ,RECALL VALUE WITH HELP OF HEATMAP\n",
    "  * PRINTING THE TOP 20 FEATURES FOR BOTH POSITIVE AND NEGATIVE WORDS #\n",
    "\n",
    "\n"
   ]
  },
  {
   "cell_type": "code",
   "execution_count": 0,
   "metadata": {
    "colab": {},
    "colab_type": "code",
    "collapsed": true,
    "id": "Fluc2eJIGzB1"
   },
   "outputs": [],
   "source": [
    "from sklearn.model_selection import train_test_split          #importing the necessary libraries\n",
    "from sklearn.model_selection import RandomizedSearchCV\n",
    "from sklearn.datasets import *\n",
    "from sklearn import naive_bayes\n",
    "from sklearn.feature_extraction.text import CountVectorizer\n",
    "from sklearn.feature_extraction.text import TfidfVectorizer\n",
    "import numpy as np\n",
    "import pandas as pd\n",
    "from sklearn import *\n",
    "import warnings\n",
    "warnings.filterwarnings(\"ignore\")\n"
   ]
  },
  {
   "cell_type": "code",
   "execution_count": 43,
   "metadata": {
    "colab": {
     "base_uri": "https://localhost:8080/",
     "height": 33
    },
    "colab_type": "code",
    "executionInfo": {
     "elapsed": 2652,
     "status": "ok",
     "timestamp": 1546367187960,
     "user": {
      "displayName": "mayank aggarwal",
      "photoUrl": "",
      "userId": "04107947634097457088"
     },
     "user_tz": -330
    },
    "id": "-De_uLuV5BIh",
    "outputId": "c52771e6-35ff-4b75-90f4-662fc84bb1a2"
   },
   "outputs": [
    {
     "name": "stdout",
     "output_type": "stream",
     "text": [
      "Drive already mounted at /content/gdrive; to attempt to forcibly remount, call drive.mount(\"/content/gdrive\", force_remount=True).\n"
     ]
    }
   ],
   "source": [
    "from google.colab import drive\n",
    "drive.mount('/content/gdrive')#geeting the content from the google drive"
   ]
  },
  {
   "cell_type": "code",
   "execution_count": 0,
   "metadata": {
    "colab": {},
    "colab_type": "code",
    "collapsed": true,
    "id": "ECeKKDS0G4J_"
   },
   "outputs": [],
   "source": [
    "final_processed_data=pd.read_csv(\"gdrive/My Drive/final_new_data.csv\")#loading the preprocessed data  with 100k points into dataframe "
   ]
  },
  {
   "cell_type": "code",
   "execution_count": 45,
   "metadata": {
    "colab": {
     "base_uri": "https://localhost:8080/",
     "height": 50
    },
    "colab_type": "code",
    "executionInfo": {
     "elapsed": 2617,
     "status": "ok",
     "timestamp": 1546367187969,
     "user": {
      "displayName": "mayank aggarwal",
      "photoUrl": "",
      "userId": "04107947634097457088"
     },
     "user_tz": -330
    },
    "id": "lyVHaHeoG6lp",
    "outputId": "292ed688-4898-45bd-9790-6a4a59cb4ac8"
   },
   "outputs": [
    {
     "name": "stdout",
     "output_type": "stream",
     "text": [
      "88521\n",
      "11479\n"
     ]
    }
   ],
   "source": [
    "# getting the counts of 0 and 1 in \"SCORE\" column to know whether it is unbalanced data or not\n",
    "count_of_1=0\n",
    "count_of_0=0\n",
    "for i in final_processed_data['Score']:\n",
    "   if i==1:\n",
    "    count_of_1+=1\n",
    "   else:\n",
    "    count_of_0+=1\n",
    "print(count_of_1)\n",
    "print(count_of_0)\n",
    "#it is an imbalanced dataset"
   ]
  },
  {
   "cell_type": "code",
   "execution_count": 0,
   "metadata": {
    "colab": {},
    "colab_type": "code",
    "collapsed": true,
    "id": "zXC7JSnTG9eK"
   },
   "outputs": [],
   "source": [
    "#spliiting the data into train and test data\n",
    "x_train,x_test,y_train,y_test=model_selection.train_test_split(final_processed_data['CleanedText'].values,final_processed_data['Score'].values,test_size=0.2,shuffle=False)"
   ]
  },
  {
   "cell_type": "code",
   "execution_count": 47,
   "metadata": {
    "colab": {
     "base_uri": "https://localhost:8080/",
     "height": 33
    },
    "colab_type": "code",
    "executionInfo": {
     "elapsed": 6691,
     "status": "ok",
     "timestamp": 1546367192088,
     "user": {
      "displayName": "mayank aggarwal",
      "photoUrl": "",
      "userId": "04107947634097457088"
     },
     "user_tz": -330
    },
    "id": "h4N1lWyIHJDa",
    "outputId": "ff49afa0-f123-4ca1-9754-986a417690a7"
   },
   "outputs": [
    {
     "name": "stdout",
     "output_type": "stream",
     "text": [
      "(80000, 17204)\n"
     ]
    }
   ],
   "source": [
    "vectorizer=TfidfVectorizer(min_df=2)#building the vertorizer with word counts equal and more then 2\n",
    "train_bow=vectorizer.fit_transform(x_train)#fitting the model on training data\n",
    "print(train_bow.shape)"
   ]
  },
  {
   "cell_type": "code",
   "execution_count": 48,
   "metadata": {
    "colab": {
     "base_uri": "https://localhost:8080/",
     "height": 33
    },
    "colab_type": "code",
    "executionInfo": {
     "elapsed": 6657,
     "status": "ok",
     "timestamp": 1546367192091,
     "user": {
      "displayName": "mayank aggarwal",
      "photoUrl": "",
      "userId": "04107947634097457088"
     },
     "user_tz": -330
    },
    "id": "euxhGXSARuT8",
    "outputId": "409ce3b4-087a-4ba5-ec57-05c6f6aeda69"
   },
   "outputs": [
    {
     "name": "stdout",
     "output_type": "stream",
     "text": [
      "(80000, 17204)\n"
     ]
    }
   ],
   "source": [
    "from sklearn.preprocessing import StandardScaler #standarizing the training  data  \n",
    "x_train_data=StandardScaler( with_mean=False).fit_transform(train_bow)\n",
    "print(x_train_data.shape)"
   ]
  },
  {
   "cell_type": "code",
   "execution_count": 49,
   "metadata": {
    "colab": {
     "base_uri": "https://localhost:8080/",
     "height": 50
    },
    "colab_type": "code",
    "executionInfo": {
     "elapsed": 7503,
     "status": "ok",
     "timestamp": 1546367192972,
     "user": {
      "displayName": "mayank aggarwal",
      "photoUrl": "",
      "userId": "04107947634097457088"
     },
     "user_tz": -330
    },
    "id": "n6iGM6o-HLgv",
    "outputId": "b076238c-7dcb-4238-e1ca-48488517fc64"
   },
   "outputs": [
    {
     "name": "stdout",
     "output_type": "stream",
     "text": [
      "shape of x_test after bow vectorization  (20000, 17204)\n",
      "shape of x_test after standardization  (20000, 17204)\n"
     ]
    }
   ],
   "source": [
    "test_bow=vectorizer.transform(x_test)#fitting the bow model on test data\n",
    "print(\"shape of x_test after bow vectorization \",test_bow.shape)\n",
    "x_test_data=StandardScaler( with_mean=False).fit_transform(test_bow)#standarizing the test data\n",
    "print(\"shape of x_test after standardization \",x_test_data.shape)"
   ]
  },
  {
   "cell_type": "code",
   "execution_count": 0,
   "metadata": {
    "colab": {},
    "colab_type": "code",
    "collapsed": true,
    "id": "1t9cych-W6dK"
   },
   "outputs": [],
   "source": []
  },
  {
   "cell_type": "code",
   "execution_count": 0,
   "metadata": {
    "colab": {},
    "colab_type": "code",
    "collapsed": true,
    "id": "chWOpjaYHQJ9"
   },
   "outputs": [],
   "source": [
    "#using time series split method for cross-validation score\n",
    "from sklearn.model_selection import TimeSeriesSplit\n",
    "tscv = TimeSeriesSplit(n_splits=10) \n",
    "from sklearn.linear_model import LogisticRegression\n",
    "from scipy.stats import uniform\n",
    "data=[10**-4,10**-3,10**-2,10**-1,10**0,10**1,10**2,10**3,10**4]#range of hyperparameter\n",
    "\n",
    "\n"
   ]
  },
  {
   "cell_type": "code",
   "execution_count": 0,
   "metadata": {
    "colab": {},
    "colab_type": "code",
    "collapsed": true,
    "id": "rG88j1YPCZA2"
   },
   "outputs": [],
   "source": [
    "lr=LogisticRegression(penalty='l2',class_weight={1:.5,0:.5},n_jobs=-1)#building logistic regression model\n",
    "tuned_parameters=[{'C':data}]"
   ]
  },
  {
   "cell_type": "code",
   "execution_count": 52,
   "metadata": {
    "colab": {
     "base_uri": "https://localhost:8080/",
     "height": 133
    },
    "colab_type": "code",
    "executionInfo": {
     "elapsed": 295320,
     "status": "ok",
     "timestamp": 1546367480825,
     "user": {
      "displayName": "mayank aggarwal",
      "photoUrl": "",
      "userId": "04107947634097457088"
     },
     "user_tz": -330
    },
    "id": "TiPOTRBoVW27",
    "outputId": "f1573682-9ae3-4ff0-9609-6709e9a02378"
   },
   "outputs": [
    {
     "name": "stdout",
     "output_type": "stream",
     "text": [
      "CPU times: user 4 µs, sys: 1 µs, total: 5 µs\n",
      "Wall time: 9.54 µs\n",
      "LogisticRegression(C=0.001, class_weight={1: 0.5, 0: 0.5}, dual=False,\n",
      "          fit_intercept=True, intercept_scaling=1, max_iter=100,\n",
      "          multi_class='warn', n_jobs=-1, penalty='l2', random_state=None,\n",
      "          solver='warn', tol=0.0001, verbose=0, warm_start=False)\n",
      "0.9499237910489122\n"
     ]
    }
   ],
   "source": [
    "#applying the model of logistic regression and using gridsearchcv to find the best hyper parameter\n",
    "%time\n",
    "from sklearn.model_selection import GridSearchCV\n",
    "model = GridSearchCV(lr, tuned_parameters, scoring = 'f1', cv=tscv,n_jobs=-1)#building the gridsearchcv model\n",
    "model.fit(x_train_data, y_train)#fiitting the training data\n",
    "\n",
    "print(model.best_estimator_)#printing the best_estimator\n",
    "print(model.score(x_test_data, y_test))#predicting  f1 score on test data"
   ]
  },
  {
   "cell_type": "code",
   "execution_count": 53,
   "metadata": {
    "colab": {
     "base_uri": "https://localhost:8080/",
     "height": 50
    },
    "colab_type": "code",
    "executionInfo": {
     "elapsed": 296765,
     "status": "ok",
     "timestamp": 1546367482288,
     "user": {
      "displayName": "mayank aggarwal",
      "photoUrl": "",
      "userId": "04107947634097457088"
     },
     "user_tz": -330
    },
    "id": "tfX1tl8tFY1t",
    "outputId": "c42b0ce9-0fdb-4753-e619-672eaa14f696"
   },
   "outputs": [
    {
     "name": "stdout",
     "output_type": "stream",
     "text": [
      "[ 3.22430529  3.7502316   1.46200477 ...  6.44421549 -2.94619339\n",
      "  5.07137844]\n"
     ]
    }
   ],
   "source": [
    "lr=LogisticRegression(C=0.001,penalty='l2',class_weight={1:.5,0:.5},n_jobs=-1)#again building the model to find best hyperparameter\n",
    "lr.fit(x_train_data,y_train)#fitting the training data\n",
    "z=lr.decision_function(x_train_data)#checking the signed distance of a point from hyperplane\n",
    "print(z)#printing the signed distance"
   ]
  },
  {
   "cell_type": "code",
   "execution_count": 54,
   "metadata": {
    "colab": {
     "base_uri": "https://localhost:8080/",
     "height": 66
    },
    "colab_type": "code",
    "executionInfo": {
     "elapsed": 296746,
     "status": "ok",
     "timestamp": 1546367482298,
     "user": {
      "displayName": "mayank aggarwal",
      "photoUrl": "",
      "userId": "04107947634097457088"
     },
     "user_tz": -330
    },
    "id": "O9878ojqngnG",
    "outputId": "edf67b46-12b7-46a7-962b-93d3500238e0"
   },
   "outputs": [
    {
     "name": "stdout",
     "output_type": "stream",
     "text": [
      "(1, 17204)\n",
      "[[ 0.00156031 -0.01348685 -0.00636204 ...  0.00090725  0.00090725\n",
      "   0.00790802]]\n"
     ]
    }
   ],
   "source": [
    "wieght_vector=lr.coef_#getting the weight vector\n",
    "print(wieght_vector.shape)#wieght vector shape\n",
    "print(wieght_vector[:20])"
   ]
  },
  {
   "cell_type": "markdown",
   "metadata": {
    "colab_type": "text",
    "id": "eBxTRYWtRsb7"
   },
   "source": [
    "# PERTUBATION TEST : #\n",
    "    AIM:    TO CHECK FOR MULTI COLLINEARITY  OF FEATURES\n",
    "  1.   GETTING THE WIEGHT VECTOR FROM  MODEL AND SAVING IT</br>\n",
    "  2.   ADDING  NOISE TO THE  TRAINING DATA TO GET NEW  TRAINING  DATA</br>\n",
    "  3. FITTING THE MODEL AGAIN ON NEW DATA</br>\n",
    "  4. GETTING THE WIEGHT VECTOR FROM THIS MODEL</br> \n",
    "  5.ADDING SMALL VALUE TO WEIGHT VECTOR OF BOTH TRAINNG  DATA TO REMOVE ANY ERROR\n",
    "  6. FINDING THE PERCENTAGE CHANGE VECTOR \n",
    "  7. GEETING HOW MANY GEATURE HAS CHANGED USING SOME THRESHOLD VALUE( HERE TAKING IT AS  100)\n",
    "  8. PLOTTING THE  QUANTILES WITH THIER PERCENTAGE WIGHT  VALUE TO CHECK IF COLLINEARITY EXITS OR NOT</br>\n",
    "  \n",
    "  #  RESULT : TO KNOW WHETHER FEATURES ARE MULTICOLLINEAR OR NOT  #\n",
    "#   AND TO KNOW WHETHER MODEL IS RELIABLE OR NOT#\n",
    "    \n",
    "  "
   ]
  },
  {
   "cell_type": "code",
   "execution_count": 0,
   "metadata": {
    "colab": {},
    "colab_type": "code",
    "collapsed": true,
    "id": "KjO5al3OpBHN"
   },
   "outputs": [],
   "source": [
    "#here,we are adding noise to the data \n",
    "from scipy.stats import norm\n",
    "noise=norm.rvs(size=1)#noise\n",
    "x_train_data.data+=noise#adding noise\n"
   ]
  },
  {
   "cell_type": "code",
   "execution_count": 56,
   "metadata": {
    "colab": {
     "base_uri": "https://localhost:8080/",
     "height": 33
    },
    "colab_type": "code",
    "executionInfo": {
     "elapsed": 296738,
     "status": "ok",
     "timestamp": 1546367482310,
     "user": {
      "displayName": "mayank aggarwal",
      "photoUrl": "",
      "userId": "04107947634097457088"
     },
     "user_tz": -330
    },
    "id": "qv9Pk61dIYzP",
    "outputId": "f358826a-a2eb-4645-f44c-c05175681ff1"
   },
   "outputs": [
    {
     "name": "stdout",
     "output_type": "stream",
     "text": [
      "shape of our new train data  after adding noise is :  (80000, 17204)\n"
     ]
    }
   ],
   "source": [
    "print('shape of our new train data  after adding noise is : ',x_train_data.shape)#printing shape of new training data\n"
   ]
  },
  {
   "cell_type": "code",
   "execution_count": 0,
   "metadata": {
    "colab": {},
    "colab_type": "code",
    "collapsed": true,
    "id": "Q0VNtjb8R-7F"
   },
   "outputs": [],
   "source": [
    "#uilding the model using timeSeriesSplit\n",
    "from sklearn.model_selection import TimeSeriesSplit\n",
    "tscv = TimeSeriesSplit(n_splits=10) # 10 spilts cross validation\n",
    "from sklearn.linear_model import LogisticRegression\n",
    "from scipy.stats import uniform\n",
    "data=[10**-4,10**-3,10**-2,10**-1,10**0,10**1,10**2,10**3,10**4]#value range of hyper parameter for grid searchcv\n",
    "lr=LogisticRegression(penalty='l2',class_weight={1:.5,0:.5},n_jobs=-1)#building the model\n",
    "tuned_parameters=[{'C':data}]\n"
   ]
  },
  {
   "cell_type": "code",
   "execution_count": 58,
   "metadata": {
    "colab": {
     "base_uri": "https://localhost:8080/",
     "height": 116
    },
    "colab_type": "code",
    "executionInfo": {
     "elapsed": 1030594,
     "status": "ok",
     "timestamp": 1546368216197,
     "user": {
      "displayName": "mayank aggarwal",
      "photoUrl": "",
      "userId": "04107947634097457088"
     },
     "user_tz": -330
    },
    "id": "TyMjKFZOSdnz",
    "outputId": "d2783b2e-1cab-4c82-8b4a-c211a7b80469"
   },
   "outputs": [
    {
     "name": "stdout",
     "output_type": "stream",
     "text": [
      "CPU times: user 6 µs, sys: 0 ns, total: 6 µs\n",
      "Wall time: 11.9 µs\n",
      "best estimator of our new data is:  LogisticRegression(C=0.001, class_weight={1: 0.5, 0: 0.5}, dual=False,\n",
      "          fit_intercept=True, intercept_scaling=1, max_iter=100,\n",
      "          multi_class='warn', n_jobs=-1, penalty='l2', random_state=None,\n",
      "          solver='warn', tol=0.0001, verbose=0, warm_start=False)\n"
     ]
    }
   ],
   "source": [
    "%time\n",
    "from sklearn.model_selection import GridSearchCV\n",
    "model = GridSearchCV(lr, tuned_parameters, scoring = 'f1', cv=tscv,n_jobs=-1)#building the gridsearchcv model\n",
    "model.fit(x_train_data, y_train)#fiitting the training data\n",
    "\n",
    "print('best estimator of our new data is: ',model.best_estimator_)#printing the best_estimator"
   ]
  },
  {
   "cell_type": "code",
   "execution_count": 59,
   "metadata": {
    "colab": {
     "base_uri": "https://localhost:8080/",
     "height": 33
    },
    "colab_type": "code",
    "executionInfo": {
     "elapsed": 1033775,
     "status": "ok",
     "timestamp": 1546368219395,
     "user": {
      "displayName": "mayank aggarwal",
      "photoUrl": "",
      "userId": "04107947634097457088"
     },
     "user_tz": -330
    },
    "id": "p6CYIA4sUAbZ",
    "outputId": "d7183a58-fa78-4ab0-ec15-3ea986acedbe"
   },
   "outputs": [
    {
     "name": "stdout",
     "output_type": "stream",
     "text": [
      "(1, 17204)\n"
     ]
    }
   ],
   "source": [
    "# again building the model for finding the wieght vector of the words from model\n",
    "lr=LogisticRegression(C=0.001,penalty='l2',class_weight={1:.5,0:.5},n_jobs=-1)#building the logistic regression model\n",
    "lr.fit(x_train_data,y_train)#fiting the training model\n",
    "new_wieght_vector=lr.coef_\n",
    "print(new_wieght_vector.shape)#printing shape of wieght vector"
   ]
  },
  {
   "cell_type": "code",
   "execution_count": 0,
   "metadata": {
    "colab": {},
    "colab_type": "code",
    "collapsed": true,
    "id": "kvT7CUuIVEIp"
   },
   "outputs": [],
   "source": [
    "percent_change_vec=np.ones((1,17204))#generating the percent_change_vetor to store the percentage change  values for each word"
   ]
  },
  {
   "cell_type": "code",
   "execution_count": 0,
   "metadata": {
    "colab": {},
    "colab_type": "code",
    "collapsed": true,
    "id": "h2gPDOfsBGPZ"
   },
   "outputs": [],
   "source": [
    "wieght_vector=wieght_vector+10**-6 #adding some values to wieght vector to avoid error while division\n",
    "      \n",
    "new_wieght_vector=new_wieght_vector+10**-6 #adding some values to wieght vector to avoid error while division\n",
    "      \n",
    "percent_change_vec=abs((wieght_vector-new_wieght_vector)/wieght_vector)*100#calculating the percentage change in the vector\n"
   ]
  },
  {
   "cell_type": "code",
   "execution_count": 62,
   "metadata": {
    "colab": {
     "base_uri": "https://localhost:8080/",
     "height": 33
    },
    "colab_type": "code",
    "executionInfo": {
     "elapsed": 1033794,
     "status": "ok",
     "timestamp": 1546368219445,
     "user": {
      "displayName": "mayank aggarwal",
      "photoUrl": "",
      "userId": "04107947634097457088"
     },
     "user_tz": -330
    },
    "id": "XUi-owIl7_k-",
    "outputId": "01d65f8e-c013-44dc-99f2-a74372b53e9a"
   },
   "outputs": [
    {
     "name": "stdout",
     "output_type": "stream",
     "text": [
      "0.5041951123949374\n"
     ]
    }
   ],
   "source": [
    "x=(wieght_vector[0][2]-new_wieght_vector[0][2])/wieght_vector[0][2]#just checking randomly that every value is positve in percent_change_vector \n",
    "print(x)"
   ]
  },
  {
   "cell_type": "code",
   "execution_count": 63,
   "metadata": {
    "colab": {
     "base_uri": "https://localhost:8080/",
     "height": 33
    },
    "colab_type": "code",
    "executionInfo": {
     "elapsed": 1033772,
     "status": "ok",
     "timestamp": 1546368219448,
     "user": {
      "displayName": "mayank aggarwal",
      "photoUrl": "",
      "userId": "04107947634097457088"
     },
     "user_tz": -330
    },
    "id": "P4k621dtBJGk",
    "outputId": "9811733c-e379-46ea-ed25-c011d610903c"
   },
   "outputs": [
    {
     "name": "stdout",
     "output_type": "stream",
     "text": [
      "shape of percent change wieght vector is (1, 17204)\n"
     ]
    }
   ],
   "source": [
    "print('shape of percent change wieght vector is', percent_change_vec.shape)#printing shape of percent_change_vector"
   ]
  },
  {
   "cell_type": "code",
   "execution_count": 0,
   "metadata": {
    "colab": {},
    "colab_type": "code",
    "collapsed": true,
    "id": "hi1oC_R8BNSJ"
   },
   "outputs": [],
   "source": [
    "per_change_df=pd.DataFrame(percent_change_vec.T,columns=['CHANGE'])#building a dataframe from wight vector"
   ]
  },
  {
   "cell_type": "code",
   "execution_count": 65,
   "metadata": {
    "colab": {
     "base_uri": "https://localhost:8080/",
     "height": 197
    },
    "colab_type": "code",
    "executionInfo": {
     "elapsed": 1033770,
     "status": "ok",
     "timestamp": 1546368219466,
     "user": {
      "displayName": "mayank aggarwal",
      "photoUrl": "",
      "userId": "04107947634097457088"
     },
     "user_tz": -330
    },
    "id": "yJ0gARInBXwH",
    "outputId": "7c1ac977-3774-454d-9482-9a79189e1731"
   },
   "outputs": [
    {
     "data": {
      "text/html": [
       "<div>\n",
       "<style scoped>\n",
       "    .dataframe tbody tr th:only-of-type {\n",
       "        vertical-align: middle;\n",
       "    }\n",
       "\n",
       "    .dataframe tbody tr th {\n",
       "        vertical-align: top;\n",
       "    }\n",
       "\n",
       "    .dataframe thead th {\n",
       "        text-align: right;\n",
       "    }\n",
       "</style>\n",
       "<table border=\"1\" class=\"dataframe\">\n",
       "  <thead>\n",
       "    <tr style=\"text-align: right;\">\n",
       "      <th></th>\n",
       "      <th>CHANGE</th>\n",
       "    </tr>\n",
       "  </thead>\n",
       "  <tbody>\n",
       "    <tr>\n",
       "      <th>0</th>\n",
       "      <td>42.443140</td>\n",
       "    </tr>\n",
       "    <tr>\n",
       "      <th>1</th>\n",
       "      <td>5.888841</td>\n",
       "    </tr>\n",
       "    <tr>\n",
       "      <th>2</th>\n",
       "      <td>50.419511</td>\n",
       "    </tr>\n",
       "    <tr>\n",
       "      <th>3</th>\n",
       "      <td>26.623331</td>\n",
       "    </tr>\n",
       "    <tr>\n",
       "      <th>4</th>\n",
       "      <td>0.641874</td>\n",
       "    </tr>\n",
       "  </tbody>\n",
       "</table>\n",
       "</div>"
      ],
      "text/plain": [
       "      CHANGE\n",
       "0  42.443140\n",
       "1   5.888841\n",
       "2  50.419511\n",
       "3  26.623331\n",
       "4   0.641874"
      ]
     },
     "execution_count": 65,
     "metadata": {
      "tags": []
     },
     "output_type": "execute_result"
    }
   ],
   "source": [
    "per_change_df.head()#getting first 5 values "
   ]
  },
  {
   "cell_type": "code",
   "execution_count": 66,
   "metadata": {
    "colab": {
     "base_uri": "https://localhost:8080/",
     "height": 287
    },
    "colab_type": "code",
    "executionInfo": {
     "elapsed": 1033759,
     "status": "ok",
     "timestamp": 1546368219471,
     "user": {
      "displayName": "mayank aggarwal",
      "photoUrl": "",
      "userId": "04107947634097457088"
     },
     "user_tz": -330
    },
    "id": "JthxyW_W2XAh",
    "outputId": "05f6ec0e-5afe-4446-c80b-af9ae90091cf"
   },
   "outputs": [
    {
     "data": {
      "text/html": [
       "<div>\n",
       "<style scoped>\n",
       "    .dataframe tbody tr th:only-of-type {\n",
       "        vertical-align: middle;\n",
       "    }\n",
       "\n",
       "    .dataframe tbody tr th {\n",
       "        vertical-align: top;\n",
       "    }\n",
       "\n",
       "    .dataframe thead th {\n",
       "        text-align: right;\n",
       "    }\n",
       "</style>\n",
       "<table border=\"1\" class=\"dataframe\">\n",
       "  <thead>\n",
       "    <tr style=\"text-align: right;\">\n",
       "      <th></th>\n",
       "      <th>CHANGE</th>\n",
       "    </tr>\n",
       "  </thead>\n",
       "  <tbody>\n",
       "    <tr>\n",
       "      <th>count</th>\n",
       "      <td>17204.000000</td>\n",
       "    </tr>\n",
       "    <tr>\n",
       "      <th>mean</th>\n",
       "      <td>105.345025</td>\n",
       "    </tr>\n",
       "    <tr>\n",
       "      <th>std</th>\n",
       "      <td>4572.583468</td>\n",
       "    </tr>\n",
       "    <tr>\n",
       "      <th>min</th>\n",
       "      <td>0.001482</td>\n",
       "    </tr>\n",
       "    <tr>\n",
       "      <th>25%</th>\n",
       "      <td>7.841999</td>\n",
       "    </tr>\n",
       "    <tr>\n",
       "      <th>50%</th>\n",
       "      <td>18.893531</td>\n",
       "    </tr>\n",
       "    <tr>\n",
       "      <th>75%</th>\n",
       "      <td>42.919648</td>\n",
       "    </tr>\n",
       "    <tr>\n",
       "      <th>max</th>\n",
       "      <td>589144.069804</td>\n",
       "    </tr>\n",
       "  </tbody>\n",
       "</table>\n",
       "</div>"
      ],
      "text/plain": [
       "              CHANGE\n",
       "count   17204.000000\n",
       "mean      105.345025\n",
       "std      4572.583468\n",
       "min         0.001482\n",
       "25%         7.841999\n",
       "50%        18.893531\n",
       "75%        42.919648\n",
       "max    589144.069804"
      ]
     },
     "execution_count": 66,
     "metadata": {
      "tags": []
     },
     "output_type": "execute_result"
    }
   ],
   "source": [
    "sorted_Df=per_change_df.sort_values('CHANGE',ascending=True,axis=0)#sorting the dataframe to calculate the quantiles values\n",
    "sorted_Df.describe()#describe function"
   ]
  },
  {
   "cell_type": "code",
   "execution_count": 67,
   "metadata": {
    "colab": {
     "base_uri": "https://localhost:8080/",
     "height": 366
    },
    "colab_type": "code",
    "executionInfo": {
     "elapsed": 1033753,
     "status": "ok",
     "timestamp": 1546368219481,
     "user": {
      "displayName": "mayank aggarwal",
      "photoUrl": "",
      "userId": "04107947634097457088"
     },
     "user_tz": -330
    },
    "id": "irRAKZ7-KT9v",
    "outputId": "94788992-dd97-4e7e-8071-25831565f0a5"
   },
   "outputs": [
    {
     "name": "stdout",
     "output_type": "stream",
     "text": [
      "sorted_Data 0.00th quantiles is   0.001\n",
      "sorted_Data 0.05th quantiles is   1.482\n",
      "sorted_Data 0.10th quantiles is   3.008\n",
      "sorted_Data 0.15th quantiles is   4.629\n",
      "sorted_Data 0.20th quantiles is   6.233\n",
      "sorted_Data 0.25th quantiles is   7.842\n",
      "sorted_Data 0.30th quantiles is   9.637\n",
      "sorted_Data 0.35th quantiles is  11.568\n",
      "sorted_Data 0.40th quantiles is  13.699\n",
      "sorted_Data 0.45th quantiles is  16.154\n",
      "sorted_Data 0.50th quantiles is  18.894\n",
      "sorted_Data 0.55th quantiles is  22.261\n",
      "sorted_Data 0.60th quantiles is  25.857\n",
      "sorted_Data 0.65th quantiles is  30.450\n",
      "sorted_Data 0.70th quantiles is  35.828\n",
      "sorted_Data 0.75th quantiles is  42.920\n",
      "sorted_Data 0.80th quantiles is  53.868\n",
      "sorted_Data 0.85th quantiles is  70.981\n",
      "sorted_Data 0.90th quantiles is 102.337\n",
      "sorted_Data 0.95th quantiles is 183.193\n",
      "sorted_Data 1.00th quantiles is 589144.070\n"
     ]
    }
   ],
   "source": [
    "quantiles=list( i/100 for i in range(0,101,5))#building the list of quantiles value \n",
    "for i in quantiles:\n",
    "  print('sorted_Data {:.2f}th quantiles is {:7.3f}'.format(i,sorted_Df['CHANGE'].quantile(i)))#printing the quantiles and thier coreesponding values\n",
    "\n",
    "      \n",
    "      \n",
    "    \n",
    "    "
   ]
  },
  {
   "cell_type": "code",
   "execution_count": 68,
   "metadata": {
    "colab": {
     "base_uri": "https://localhost:8080/",
     "height": 116
    },
    "colab_type": "code",
    "executionInfo": {
     "elapsed": 1033726,
     "status": "ok",
     "timestamp": 1546368219487,
     "user": {
      "displayName": "mayank aggarwal",
      "photoUrl": "",
      "userId": "04107947634097457088"
     },
     "user_tz": -330
    },
    "id": "gVBhyVa7MhfT",
    "outputId": "2cd1c02e-0382-48b9-c596-86e11bdfd656"
   },
   "outputs": [
    {
     "name": "stdout",
     "output_type": "stream",
     "text": [
      "sorted_Data 0.95th quantiles is 183.193\n",
      "sorted_Data 0.96th quantiles is 220.656\n",
      "sorted_Data 0.97th quantiles is 270.647\n",
      "sorted_Data 0.98th quantiles is 383.633\n",
      "sorted_Data 0.99th quantiles is 679.049\n",
      "sorted_Data 1.00th quantiles is 589144.070\n"
     ]
    }
   ],
   "source": [
    "quantiles=list( i/100 for i in range(95,101,1))#printing the last percentiles values because this region is showing abrupt change\n",
    "percent_change_list=[]#empty percent_change\n",
    "for i in quantiles:\n",
    "  print('sorted_Data {:.2f}th quantiles is {:7.3f}'.format(i,sorted_Df['CHANGE'].quantile(i)))\n",
    "  percent_change_list.append(sorted_Df['CHANGE'].quantile(i))#building the list"
   ]
  },
  {
   "cell_type": "code",
   "execution_count": 69,
   "metadata": {
    "colab": {
     "base_uri": "https://localhost:8080/",
     "height": 66
    },
    "colab_type": "code",
    "executionInfo": {
     "elapsed": 1033711,
     "status": "ok",
     "timestamp": 1546368219491,
     "user": {
      "displayName": "mayank aggarwal",
      "photoUrl": "",
      "userId": "04107947634097457088"
     },
     "user_tz": -330
    },
    "id": "wkB8LGD3F2ro",
    "outputId": "4a3998b1-4916-40a1-e04b-58a59488b125"
   },
   "outputs": [
    {
     "name": "stdout",
     "output_type": "stream",
     "text": [
      "[183.1929593634676, 220.65596077380062, 270.64692175469014, 383.6329012667263, 679.0491786417696, 589144.0698039597]\n",
      "[183.19, 220.66, 270.65, 383.63, 679.05, 589144.07]\n",
      "[0.95, 0.96, 0.97, 0.98, 0.99, 1.0]\n"
     ]
    }
   ],
   "source": [
    "print(percent_change_list)\n",
    "my_formatted_list = [ '%.2f' % elem for elem in percent_change_list ]#formatted list with string values in it\n",
    "my_formatted_list=[float(i) for i in my_formatted_list]#formatted list with flaot values in it\n",
    "print(my_formatted_list)#printing formatted list\n",
    "print(quantiles)#printing quantiles\n"
   ]
  },
  {
   "cell_type": "code",
   "execution_count": 70,
   "metadata": {
    "colab": {
     "base_uri": "https://localhost:8080/",
     "height": 346
    },
    "colab_type": "code",
    "executionInfo": {
     "elapsed": 1033699,
     "status": "ok",
     "timestamp": 1546368219496,
     "user": {
      "displayName": "mayank aggarwal",
      "photoUrl": "",
      "userId": "04107947634097457088"
     },
     "user_tz": -330
    },
    "id": "_pHGWehRbLX7",
    "outputId": "d931c4f8-f08d-406b-bbc1-0c87289d9e8e"
   },
   "outputs": [
    {
     "data": {
      "text/plain": [
       "<matplotlib.legend.Legend at 0x7f9864386ef0>"
      ]
     },
     "execution_count": 70,
     "metadata": {
      "tags": []
     },
     "output_type": "execute_result"
    },
    {
     "data": {
      "image/png": "[encoded data removed]",
      "text/plain": [
       "<matplotlib.figure.Figure at 0x7f98642472b0>"
      ]
     },
     "metadata": {
      "tags": []
     },
     "output_type": "display_data"
    }
   ],
   "source": [
    "%matplotlib inline\n",
    "import matplotlib.pyplot as plt\n",
    "plt.show() \n",
    "plt.xlabel('QUANTILES VALUES')\n",
    "plt.ylabel('PERCENTAGE VALUES FOR QUANTILES')\n",
    "plt.plot(quantiles,my_formatted_list,'r--' ,label='PERCENTAGE VALUES FOR QUANTILES')\n",
    "plt.legend(loc='best')"
   ]
  },
  {
   "cell_type": "markdown",
   "metadata": {
    "colab_type": "text",
    "id": "hkT2E5g5S0Jy"
   },
   "source": [
    "### FROM THE ABOVE VISUALIZATION , MAIN POINTS ARE:. ###\n",
    "\n",
    "1.   THAT ONLY 1% OF FEATURES GOT AFFECTED AFTER ADDING NOISE TO THE DATA. \n",
    "2.    VERY LESS COLLINEARITY OF DATA IS PRESENT  ,BECAUSE MOST OF THE WEIGHT VECTORS VALUES  REMAINS SAME \n",
    "3.    THERFORE, OUR MODEL IS RELIABLE AND WE CAN PROCEED FURTHER TO CHECK ACCURACY ON TEST DATA \n",
    "\n"
   ]
  },
  {
   "cell_type": "markdown",
   "metadata": {
    "colab_type": "text",
    "id": "_7wUeBTCZk5X"
   },
   "source": [
    "# CALCULATING  THE BEST HYPERPARAMETER ON TRAIN  DATA AND CALCULATING THE ACCURACY USING F1-SCORE AND PLOTTING IT  </font>#"
   ]
  },
  {
   "cell_type": "code",
   "execution_count": 0,
   "metadata": {
    "colab": {},
    "colab_type": "code",
    "collapsed": true,
    "id": "BZF-q9eutTFs"
   },
   "outputs": [],
   "source": [
    "#using time series split method for cross-validation score\n",
    "from sklearn.model_selection import TimeSeriesSplit\n",
    "tscv = TimeSeriesSplit(n_splits=10) \n",
    "from sklearn.linear_model import LogisticRegression\n",
    "from scipy.stats import uniform\n",
    "data=[10**-4,10**-3,10**-2,10**-1,10**0,10**1,10**2,10**3,10**4]#range of hyperparameter"
   ]
  },
  {
   "cell_type": "code",
   "execution_count": 0,
   "metadata": {
    "colab": {},
    "colab_type": "code",
    "collapsed": true,
    "id": "4Q_AGHBgqkJA"
   },
   "outputs": [],
   "source": [
    "lr=LogisticRegression(penalty='l2',class_weight={1:.5,0:.5},n_jobs=-1)#building logistic regression model\n",
    "tuned_parameters=[{'C':data}]"
   ]
  },
  {
   "cell_type": "code",
   "execution_count": 73,
   "metadata": {
    "colab": {
     "base_uri": "https://localhost:8080/",
     "height": 183
    },
    "colab_type": "code",
    "executionInfo": {
     "elapsed": 1784133,
     "status": "ok",
     "timestamp": 1546368969956,
     "user": {
      "displayName": "mayank aggarwal",
      "photoUrl": "",
      "userId": "04107947634097457088"
     },
     "user_tz": -330
    },
    "id": "_9W2TEOxquDR",
    "outputId": "23d414f6-81a6-479b-c395-8dc04d7a0b6b"
   },
   "outputs": [
    {
     "data": {
      "text/plain": [
       "GridSearchCV(cv=TimeSeriesSplit(max_train_size=None, n_splits=10),\n",
       "       error_score='raise-deprecating',\n",
       "       estimator=LogisticRegression(C=1.0, class_weight={1: 0.5, 0: 0.5}, dual=False,\n",
       "          fit_intercept=True, intercept_scaling=1, max_iter=100,\n",
       "          multi_class='warn', n_jobs=-1, penalty='l2', random_state=None,\n",
       "          solver='warn', tol=0.0001, verbose=0, warm_start=False),\n",
       "       fit_params=None, iid='warn', n_jobs=-1,\n",
       "       param_grid=[{'C': [0.0001, 0.001, 0.01, 0.1, 1, 10, 100, 1000, 10000]}],\n",
       "       pre_dispatch='2*n_jobs', refit=True, return_train_score='warn',\n",
       "       scoring='f1', verbose=0)"
      ]
     },
     "execution_count": 73,
     "metadata": {
      "tags": []
     },
     "output_type": "execute_result"
    }
   ],
   "source": [
    "#applying the model of logistic regression and using gridsearchcv to find the best hyper parameter\n",
    "from sklearn.model_selection import GridSearchCV\n",
    "model = GridSearchCV(lr, tuned_parameters, scoring = 'f1', cv=tscv,n_jobs=-1)#building the gridsearchcv model\n",
    "model.fit(x_train_data, y_train)#fiitting the training data"
   ]
  },
  {
   "cell_type": "code",
   "execution_count": 74,
   "metadata": {
    "colab": {
     "base_uri": "https://localhost:8080/",
     "height": 484
    },
    "colab_type": "code",
    "executionInfo": {
     "elapsed": 1784121,
     "status": "ok",
     "timestamp": 1546368969964,
     "user": {
      "displayName": "mayank aggarwal",
      "photoUrl": "",
      "userId": "04107947634097457088"
     },
     "user_tz": -330
    },
    "id": "T7y5hJNi0B2C",
    "outputId": "02d3e157-ac4b-4d3c-a979-a5e93a8daf69"
   },
   "outputs": [
    {
     "data": {
      "text/html": [
       "<div>\n",
       "<style scoped>\n",
       "    .dataframe tbody tr th:only-of-type {\n",
       "        vertical-align: middle;\n",
       "    }\n",
       "\n",
       "    .dataframe tbody tr th {\n",
       "        vertical-align: top;\n",
       "    }\n",
       "\n",
       "    .dataframe thead th {\n",
       "        text-align: right;\n",
       "    }\n",
       "</style>\n",
       "<table border=\"1\" class=\"dataframe\">\n",
       "  <thead>\n",
       "    <tr style=\"text-align: right;\">\n",
       "      <th></th>\n",
       "      <th>mean_fit_time</th>\n",
       "      <th>mean_score_time</th>\n",
       "      <th>mean_test_score</th>\n",
       "      <th>mean_train_score</th>\n",
       "      <th>param_C</th>\n",
       "      <th>params</th>\n",
       "      <th>rank_test_score</th>\n",
       "      <th>split0_test_score</th>\n",
       "      <th>split0_train_score</th>\n",
       "      <th>split1_test_score</th>\n",
       "      <th>...</th>\n",
       "      <th>split7_test_score</th>\n",
       "      <th>split7_train_score</th>\n",
       "      <th>split8_test_score</th>\n",
       "      <th>split8_train_score</th>\n",
       "      <th>split9_test_score</th>\n",
       "      <th>split9_train_score</th>\n",
       "      <th>std_fit_time</th>\n",
       "      <th>std_score_time</th>\n",
       "      <th>std_test_score</th>\n",
       "      <th>std_train_score</th>\n",
       "    </tr>\n",
       "  </thead>\n",
       "  <tbody>\n",
       "    <tr>\n",
       "      <th>0</th>\n",
       "      <td>0.717606</td>\n",
       "      <td>0.003946</td>\n",
       "      <td>0.944873</td>\n",
       "      <td>0.964170</td>\n",
       "      <td>0.0001</td>\n",
       "      <td>{'C': 0.0001}</td>\n",
       "      <td>3</td>\n",
       "      <td>0.943715</td>\n",
       "      <td>0.967791</td>\n",
       "      <td>0.951389</td>\n",
       "      <td>...</td>\n",
       "      <td>0.944039</td>\n",
       "      <td>0.964162</td>\n",
       "      <td>0.943340</td>\n",
       "      <td>0.964409</td>\n",
       "      <td>0.943797</td>\n",
       "      <td>0.964286</td>\n",
       "      <td>0.382508</td>\n",
       "      <td>0.001230</td>\n",
       "      <td>0.003148</td>\n",
       "      <td>0.001309</td>\n",
       "    </tr>\n",
       "    <tr>\n",
       "      <th>1</th>\n",
       "      <td>1.459562</td>\n",
       "      <td>0.003723</td>\n",
       "      <td>0.949598</td>\n",
       "      <td>0.985778</td>\n",
       "      <td>0.001</td>\n",
       "      <td>{'C': 0.001}</td>\n",
       "      <td>1</td>\n",
       "      <td>0.947949</td>\n",
       "      <td>0.989128</td>\n",
       "      <td>0.951671</td>\n",
       "      <td>...</td>\n",
       "      <td>0.949353</td>\n",
       "      <td>0.984748</td>\n",
       "      <td>0.948063</td>\n",
       "      <td>0.984555</td>\n",
       "      <td>0.948934</td>\n",
       "      <td>0.984018</td>\n",
       "      <td>0.835441</td>\n",
       "      <td>0.000413</td>\n",
       "      <td>0.002476</td>\n",
       "      <td>0.001393</td>\n",
       "    </tr>\n",
       "    <tr>\n",
       "      <th>2</th>\n",
       "      <td>2.893135</td>\n",
       "      <td>0.003624</td>\n",
       "      <td>0.945169</td>\n",
       "      <td>0.995277</td>\n",
       "      <td>0.01</td>\n",
       "      <td>{'C': 0.01}</td>\n",
       "      <td>2</td>\n",
       "      <td>0.946733</td>\n",
       "      <td>0.999377</td>\n",
       "      <td>0.951245</td>\n",
       "      <td>...</td>\n",
       "      <td>0.946087</td>\n",
       "      <td>0.993163</td>\n",
       "      <td>0.942637</td>\n",
       "      <td>0.992483</td>\n",
       "      <td>0.944633</td>\n",
       "      <td>0.991227</td>\n",
       "      <td>1.672178</td>\n",
       "      <td>0.000115</td>\n",
       "      <td>0.003424</td>\n",
       "      <td>0.002468</td>\n",
       "    </tr>\n",
       "    <tr>\n",
       "      <th>3</th>\n",
       "      <td>5.871643</td>\n",
       "      <td>0.003663</td>\n",
       "      <td>0.936517</td>\n",
       "      <td>0.998380</td>\n",
       "      <td>0.1</td>\n",
       "      <td>{'C': 0.1}</td>\n",
       "      <td>4</td>\n",
       "      <td>0.945455</td>\n",
       "      <td>1.000000</td>\n",
       "      <td>0.946249</td>\n",
       "      <td>...</td>\n",
       "      <td>0.933073</td>\n",
       "      <td>0.996976</td>\n",
       "      <td>0.934507</td>\n",
       "      <td>0.996196</td>\n",
       "      <td>0.935994</td>\n",
       "      <td>0.995191</td>\n",
       "      <td>3.745076</td>\n",
       "      <td>0.000129</td>\n",
       "      <td>0.005952</td>\n",
       "      <td>0.001655</td>\n",
       "    </tr>\n",
       "    <tr>\n",
       "      <th>4</th>\n",
       "      <td>10.949172</td>\n",
       "      <td>0.003649</td>\n",
       "      <td>0.929837</td>\n",
       "      <td>0.999340</td>\n",
       "      <td>1</td>\n",
       "      <td>{'C': 1}</td>\n",
       "      <td>5</td>\n",
       "      <td>0.944319</td>\n",
       "      <td>1.000000</td>\n",
       "      <td>0.943964</td>\n",
       "      <td>...</td>\n",
       "      <td>0.922907</td>\n",
       "      <td>0.998969</td>\n",
       "      <td>0.924794</td>\n",
       "      <td>0.998079</td>\n",
       "      <td>0.930148</td>\n",
       "      <td>0.996824</td>\n",
       "      <td>8.721698</td>\n",
       "      <td>0.000163</td>\n",
       "      <td>0.008344</td>\n",
       "      <td>0.001032</td>\n",
       "    </tr>\n",
       "    <tr>\n",
       "      <th>5</th>\n",
       "      <td>21.886775</td>\n",
       "      <td>0.003672</td>\n",
       "      <td>0.923833</td>\n",
       "      <td>0.999674</td>\n",
       "      <td>10</td>\n",
       "      <td>{'C': 10}</td>\n",
       "      <td>6</td>\n",
       "      <td>0.941622</td>\n",
       "      <td>1.000000</td>\n",
       "      <td>0.940855</td>\n",
       "      <td>...</td>\n",
       "      <td>0.915644</td>\n",
       "      <td>0.999981</td>\n",
       "      <td>0.911643</td>\n",
       "      <td>0.999202</td>\n",
       "      <td>0.920813</td>\n",
       "      <td>0.997558</td>\n",
       "      <td>23.501582</td>\n",
       "      <td>0.000150</td>\n",
       "      <td>0.010506</td>\n",
       "      <td>0.000744</td>\n",
       "    </tr>\n",
       "    <tr>\n",
       "      <th>6</th>\n",
       "      <td>30.515149</td>\n",
       "      <td>0.003657</td>\n",
       "      <td>0.920352</td>\n",
       "      <td>0.999783</td>\n",
       "      <td>100</td>\n",
       "      <td>{'C': 100}</td>\n",
       "      <td>7</td>\n",
       "      <td>0.940693</td>\n",
       "      <td>1.000000</td>\n",
       "      <td>0.937476</td>\n",
       "      <td>...</td>\n",
       "      <td>0.914136</td>\n",
       "      <td>1.000000</td>\n",
       "      <td>0.909004</td>\n",
       "      <td>0.999931</td>\n",
       "      <td>0.917828</td>\n",
       "      <td>0.997898</td>\n",
       "      <td>38.050653</td>\n",
       "      <td>0.000136</td>\n",
       "      <td>0.010363</td>\n",
       "      <td>0.000629</td>\n",
       "    </tr>\n",
       "    <tr>\n",
       "      <th>7</th>\n",
       "      <td>30.891412</td>\n",
       "      <td>0.003730</td>\n",
       "      <td>0.916224</td>\n",
       "      <td>0.999775</td>\n",
       "      <td>1000</td>\n",
       "      <td>{'C': 1000}</td>\n",
       "      <td>8</td>\n",
       "      <td>0.939851</td>\n",
       "      <td>1.000000</td>\n",
       "      <td>0.933507</td>\n",
       "      <td>...</td>\n",
       "      <td>0.913547</td>\n",
       "      <td>1.000000</td>\n",
       "      <td>0.908788</td>\n",
       "      <td>0.999803</td>\n",
       "      <td>0.915870</td>\n",
       "      <td>0.997952</td>\n",
       "      <td>43.349055</td>\n",
       "      <td>0.000162</td>\n",
       "      <td>0.011160</td>\n",
       "      <td>0.000611</td>\n",
       "    </tr>\n",
       "    <tr>\n",
       "      <th>8</th>\n",
       "      <td>33.434185</td>\n",
       "      <td>0.003593</td>\n",
       "      <td>0.915188</td>\n",
       "      <td>0.999757</td>\n",
       "      <td>10000</td>\n",
       "      <td>{'C': 10000}</td>\n",
       "      <td>9</td>\n",
       "      <td>0.939124</td>\n",
       "      <td>1.000000</td>\n",
       "      <td>0.931135</td>\n",
       "      <td>...</td>\n",
       "      <td>0.912930</td>\n",
       "      <td>1.000000</td>\n",
       "      <td>0.909640</td>\n",
       "      <td>0.999631</td>\n",
       "      <td>0.915310</td>\n",
       "      <td>0.997936</td>\n",
       "      <td>49.106565</td>\n",
       "      <td>0.000358</td>\n",
       "      <td>0.011067</td>\n",
       "      <td>0.000617</td>\n",
       "    </tr>\n",
       "  </tbody>\n",
       "</table>\n",
       "<p>9 rows × 31 columns</p>\n",
       "</div>"
      ],
      "text/plain": [
       "   mean_fit_time  mean_score_time  mean_test_score  mean_train_score param_C  \\\n",
       "0       0.717606         0.003946         0.944873          0.964170  0.0001   \n",
       "1       1.459562         0.003723         0.949598          0.985778   0.001   \n",
       "2       2.893135         0.003624         0.945169          0.995277    0.01   \n",
       "3       5.871643         0.003663         0.936517          0.998380     0.1   \n",
       "4      10.949172         0.003649         0.929837          0.999340       1   \n",
       "5      21.886775         0.003672         0.923833          0.999674      10   \n",
       "6      30.515149         0.003657         0.920352          0.999783     100   \n",
       "7      30.891412         0.003730         0.916224          0.999775    1000   \n",
       "8      33.434185         0.003593         0.915188          0.999757   10000   \n",
       "\n",
       "          params  rank_test_score  split0_test_score  split0_train_score  \\\n",
       "0  {'C': 0.0001}                3           0.943715            0.967791   \n",
       "1   {'C': 0.001}                1           0.947949            0.989128   \n",
       "2    {'C': 0.01}                2           0.946733            0.999377   \n",
       "3     {'C': 0.1}                4           0.945455            1.000000   \n",
       "4       {'C': 1}                5           0.944319            1.000000   \n",
       "5      {'C': 10}                6           0.941622            1.000000   \n",
       "6     {'C': 100}                7           0.940693            1.000000   \n",
       "7    {'C': 1000}                8           0.939851            1.000000   \n",
       "8   {'C': 10000}                9           0.939124            1.000000   \n",
       "\n",
       "   split1_test_score       ...         split7_test_score  split7_train_score  \\\n",
       "0           0.951389       ...                  0.944039            0.964162   \n",
       "1           0.951671       ...                  0.949353            0.984748   \n",
       "2           0.951245       ...                  0.946087            0.993163   \n",
       "3           0.946249       ...                  0.933073            0.996976   \n",
       "4           0.943964       ...                  0.922907            0.998969   \n",
       "5           0.940855       ...                  0.915644            0.999981   \n",
       "6           0.937476       ...                  0.914136            1.000000   \n",
       "7           0.933507       ...                  0.913547            1.000000   \n",
       "8           0.931135       ...                  0.912930            1.000000   \n",
       "\n",
       "   split8_test_score  split8_train_score  split9_test_score  \\\n",
       "0           0.943340            0.964409           0.943797   \n",
       "1           0.948063            0.984555           0.948934   \n",
       "2           0.942637            0.992483           0.944633   \n",
       "3           0.934507            0.996196           0.935994   \n",
       "4           0.924794            0.998079           0.930148   \n",
       "5           0.911643            0.999202           0.920813   \n",
       "6           0.909004            0.999931           0.917828   \n",
       "7           0.908788            0.999803           0.915870   \n",
       "8           0.909640            0.999631           0.915310   \n",
       "\n",
       "   split9_train_score  std_fit_time  std_score_time  std_test_score  \\\n",
       "0            0.964286      0.382508        0.001230        0.003148   \n",
       "1            0.984018      0.835441        0.000413        0.002476   \n",
       "2            0.991227      1.672178        0.000115        0.003424   \n",
       "3            0.995191      3.745076        0.000129        0.005952   \n",
       "4            0.996824      8.721698        0.000163        0.008344   \n",
       "5            0.997558     23.501582        0.000150        0.010506   \n",
       "6            0.997898     38.050653        0.000136        0.010363   \n",
       "7            0.997952     43.349055        0.000162        0.011160   \n",
       "8            0.997936     49.106565        0.000358        0.011067   \n",
       "\n",
       "   std_train_score  \n",
       "0         0.001309  \n",
       "1         0.001393  \n",
       "2         0.002468  \n",
       "3         0.001655  \n",
       "4         0.001032  \n",
       "5         0.000744  \n",
       "6         0.000629  \n",
       "7         0.000611  \n",
       "8         0.000617  \n",
       "\n",
       "[9 rows x 31 columns]"
      ]
     },
     "execution_count": 74,
     "metadata": {
      "tags": []
     },
     "output_type": "execute_result"
    }
   ],
   "source": [
    "results=pd.DataFrame(model.cv_results_)# getting varoius cv_scores and train_scores various values of alpha given as parameter and storing it in a dataframe\n",
    "results#printing the dataframe"
   ]
  },
  {
   "cell_type": "code",
   "execution_count": 75,
   "metadata": {
    "colab": {
     "base_uri": "https://localhost:8080/",
     "height": 320
    },
    "colab_type": "code",
    "executionInfo": {
     "elapsed": 1784097,
     "status": "ok",
     "timestamp": 1546368969966,
     "user": {
      "displayName": "mayank aggarwal",
      "photoUrl": "",
      "userId": "04107947634097457088"
     },
     "user_tz": -330
    },
    "id": "19Sfrfuv0yKn",
    "outputId": "5989c6f8-2ab1-464b-978d-fe52ab6b9b5a"
   },
   "outputs": [
    {
     "name": "stdout",
     "output_type": "stream",
     "text": [
      "[5.512688041304193, 5.0401969174698085, 5.483117272006677, 6.34826236095829, 7.016290512105949, 7.616710721853415, 7.964755829772341, 8.37755784182751, 8.481160225314222]\n"
     ]
    },
    {
     "data": {
      "text/plain": [
       "<matplotlib.legend.Legend at 0x7f98640e44e0>"
      ]
     },
     "execution_count": 75,
     "metadata": {
      "tags": []
     },
     "output_type": "execute_result"
    },
    {
     "data": {
      "image/png": "[encoded data removed]",
      "text/plain": [
       "<matplotlib.figure.Figure at 0x7f98642e7630>"
      ]
     },
     "metadata": {
      "tags": []
     },
     "output_type": "display_data"
    }
   ],
   "source": [
    "%matplotlib inline\n",
    "import matplotlib.pyplot as plt\n",
    "\n",
    "\n",
    "mean_test_score=list(results['mean_test_score'])#taking mean_test_score values of various alpha into a list\n",
    "mean_train_score=list(results['mean_train_score'])#taking mean_train_score values of varoius alpha into a list\n",
    "cv_error_list=[]\n",
    "train_error_list=[]\n",
    "for i  in mean_test_score:\n",
    "   i=1-i\n",
    "   i=i*100\n",
    "   cv_error_list.append(i)#appending the list with cv_error \n",
    "for i  in mean_train_score:\n",
    "   i=1-i\n",
    "   i=i*100\n",
    "   train_error_list.append(i)#appending  the list with train_error     \n",
    "    \n",
    "print(cv_error_list)\n",
    "C_values_in_10_power=[-4,-3,-2,-1,0,1,2,3,4]#list of alpha values in power of 10\n",
    "plt.plot(C_values_in_10_power,cv_error_list,label='cv_error')#plotting alpha with cv_error\n",
    "plt.plot(C_values_in_10_power,train_error_list,label='train_error')#plotting aplhawith train_error\n",
    "plt.xlabel('C value in  power of 10 ')\n",
    "plt.ylabel('cv error and train error')\n",
    "plt.legend(loc='best')\n"
   ]
  },
  {
   "cell_type": "markdown",
   "metadata": {
    "colab_type": "text",
    "id": "7BOpkgvi7gmK"
   },
   "source": [
    "## From here,the best hyperparameter value is c=0.001 or alpha=1000 #"
   ]
  },
  {
   "cell_type": "markdown",
   "metadata": {
    "colab_type": "text",
    "id": "rqlZDby4HdbA"
   },
   "source": [
    "#NOW GETTING THE TOP 30 FEATURES WORDS FOR POSITIVE AND NEGATIVE WORDS#"
   ]
  },
  {
   "cell_type": "code",
   "execution_count": 76,
   "metadata": {
    "colab": {
     "base_uri": "https://localhost:8080/",
     "height": 83
    },
    "colab_type": "code",
    "executionInfo": {
     "elapsed": 1786073,
     "status": "ok",
     "timestamp": 1546368971958,
     "user": {
      "displayName": "mayank aggarwal",
      "photoUrl": "",
      "userId": "04107947634097457088"
     },
     "user_tz": -330
    },
    "id": "kfDwrnnM13r_",
    "outputId": "d692732b-2c40-49c3-c770-a7977a62c237"
   },
   "outputs": [
    {
     "data": {
      "text/plain": [
       "LogisticRegression(C=0.001, class_weight={1: 0.5, 0: 0.5}, dual=False,\n",
       "          fit_intercept=True, intercept_scaling=1, max_iter=100,\n",
       "          multi_class='warn', n_jobs=-1, penalty='l2', random_state=None,\n",
       "          solver='warn', tol=0.0001, verbose=0, warm_start=False)"
      ]
     },
     "execution_count": 76,
     "metadata": {
      "tags": []
     },
     "output_type": "execute_result"
    }
   ],
   "source": [
    "#building the model using timeSeriesSplit\n",
    "from sklearn.model_selection import TimeSeriesSplit\n",
    "tscv = TimeSeriesSplit(n_splits=10) # 10 spilts cross validation\n",
    "from sklearn.linear_model import LogisticRegression\n",
    "lr=LogisticRegression(C=0.001,penalty='l2',class_weight={1:.5,0:.5},n_jobs=-1)#building logistic regression model\n",
    "lr.fit(x_train_data,y_train)"
   ]
  },
  {
   "cell_type": "code",
   "execution_count": 77,
   "metadata": {
    "colab": {
     "base_uri": "https://localhost:8080/",
     "height": 50
    },
    "colab_type": "code",
    "executionInfo": {
     "elapsed": 1786053,
     "status": "ok",
     "timestamp": 1546368971969,
     "user": {
      "displayName": "mayank aggarwal",
      "photoUrl": "",
      "userId": "04107947634097457088"
     },
     "user_tz": -330
    },
    "id": "zDmgDoyt5ccO",
    "outputId": "c7994cb8-9c75-4568-ce8a-9986123cb6a4"
   },
   "outputs": [
    {
     "name": "stdout",
     "output_type": "stream",
     "text": [
      "[ 0.00222298 -0.01428101 -0.00315483 ...  0.00183116  0.00183116\n",
      "  0.00728819]\n"
     ]
    }
   ],
   "source": [
    "z=lr.coef_[0]#getting the wieght of the vector \n",
    "print(z)#printing the wieght of the vector"
   ]
  },
  {
   "cell_type": "code",
   "execution_count": 78,
   "metadata": {
    "colab": {
     "base_uri": "https://localhost:8080/",
     "height": 33
    },
    "colab_type": "code",
    "executionInfo": {
     "elapsed": 1786024,
     "status": "ok",
     "timestamp": 1546368971971,
     "user": {
      "displayName": "mayank aggarwal",
      "photoUrl": "",
      "userId": "04107947634097457088"
     },
     "user_tz": -330
    },
    "id": "Vr6abL8nuPSa",
    "outputId": "a04b034e-e17a-4b40-c8f6-74da37e7679d"
   },
   "outputs": [
    {
     "name": "stdout",
     "output_type": "stream",
     "text": [
      "shape of wieght vector is: (17204,)\n"
     ]
    }
   ],
   "source": [
    "a=z.argsort()\n",
    "print('shape of wieght vector is:',a.shape)\n",
    "top_30_positive=np.take(vectorizer.get_feature_names(),a[17174:])\n",
    "top_30_negative=np.take(vectorizer.get_feature_names(),a[:30])"
   ]
  },
  {
   "cell_type": "code",
   "execution_count": 79,
   "metadata": {
    "colab": {
     "base_uri": "https://localhost:8080/",
     "height": 533
    },
    "colab_type": "code",
    "executionInfo": {
     "elapsed": 1785995,
     "status": "ok",
     "timestamp": 1546368971973,
     "user": {
      "displayName": "mayank aggarwal",
      "photoUrl": "",
      "userId": "04107947634097457088"
     },
     "user_tz": -330
    },
    "id": "qWtmad7zv7ah",
    "outputId": "c6d55483-82c6-4641-8f16-e060b2cecdf7"
   },
   "outputs": [
    {
     "name": "stdout",
     "output_type": "stream",
     "text": [
      "POSITVE WORDS\t|\tNEGATIVE WORDS\n",
      "alway\t\t|\t\tdisappoint\n",
      "friend\t\t|\t\tworst\n",
      "happi\t\t|\t\tterribl\n",
      "ever\t\t|\t\taw\n",
      "smooth\t\t|\t\tunfortun\n",
      "ive\t\t|\t\treturn\n",
      "awesom\t\t|\t\tstale\n",
      "yummi\t\t|\t\tthrew\n",
      "amaz\t\t|\t\thorribl\n",
      "fast\t\t|\t\tbland\n",
      "high\t\t|\t\tmayb\n",
      "keep\t\t|\t\tbad\n",
      "addict\t\t|\t\tweak\n",
      "quick\t\t|\t\tthought\n",
      "right\t\t|\t\tdidnt\n",
      "snack\t\t|\t\twast\n",
      "tasti\t\t|\t\tmoney\n",
      "easi\t\t|\t\twors\n",
      "thank\t\t|\t\tvomit\n",
      "find\t\t|\t\thope\n",
      "wonder\t\t|\t\treceiv\n",
      "nice\t\t|\t\tgross\n",
      "excel\t\t|\t\ttasteless\n",
      "favorit\t\t|\t\tunpleas\n",
      "perfect\t\t|\t\tdisgust\n",
      "delici\t\t|\t\tlack\n",
      "good\t\t|\t\tsorri\n",
      "best\t\t|\t\tdecept\n",
      "love\t\t|\t\trefund\n",
      "great\t\t|\t\texpedit\n"
     ]
    }
   ],
   "source": [
    "print(\"POSITVE WORDS\\t|\\tNEGATIVE WORDS\")\n",
    "for i,j in zip(top_30_positive,top_30_negative):\n",
    "    print( '{}\\t\\t|\\t\\t{}'.format(i,j) )#printing the postive and negative words"
   ]
  },
  {
   "cell_type": "markdown",
   "metadata": {
    "colab_type": "text",
    "id": "iIPcvIHIN3Qq"
   },
   "source": [
    "# USING BEST HYPERPARAMETER VALUE ON TEST DATA AND PLOTTING THE CONFUSION MATRIX WITH HEATMAP#"
   ]
  },
  {
   "cell_type": "code",
   "execution_count": 80,
   "metadata": {
    "colab": {
     "base_uri": "https://localhost:8080/",
     "height": 501
    },
    "colab_type": "code",
    "executionInfo": {
     "elapsed": 1787198,
     "status": "ok",
     "timestamp": 1546368973193,
     "user": {
      "displayName": "mayank aggarwal",
      "photoUrl": "",
      "userId": "04107947634097457088"
     },
     "user_tz": -330
    },
    "id": "2DLMaFSbvWcP",
    "outputId": "199bf531-d095-414a-8e4b-b20c6536bab8"
   },
   "outputs": [
    {
     "name": "stdout",
     "output_type": "stream",
     "text": [
      "Accuracy on test set: 97.720%\n",
      "Precision on test set: 0.975\n",
      "Recall on test set: 0.999\n",
      "F1-Score on test set: 0.987\n",
      "Confusion Matrix of test set:\n",
      " [ [TN  FP]\n",
      " [FN TP] ]\n",
      "\n"
     ]
    },
    {
     "data": {
      "text/plain": [
       "<matplotlib.axes._subplots.AxesSubplot at 0x7f986404fb70>"
      ]
     },
     "execution_count": 80,
     "metadata": {
      "tags": []
     },
     "output_type": "execute_result"
    },
    {
     "data": {
      "image/png": "[encoded data removed]",
      "text/plain": [
       "<matplotlib.figure.Figure at 0x7f986404f518>"
      ]
     },
     "metadata": {
      "tags": []
     },
     "output_type": "display_data"
    }
   ],
   "source": [
    "#Testing Accuracy on Test data  \n",
    "import seaborn as sns #importing seaborn as sns\n",
    "from sklearn.metrics import *#importing varoius metrics from sklearn\n",
    "#building the model\n",
    "lr.fit(x_test_data,y_test)\n",
    "y_pred = lr.predict(x_test_data) \n",
    "print(\"Accuracy on test set: %0.3f%%\"%(accuracy_score(y_test, y_pred)*100))#printing accuracy\n",
    "print(\"Precision on test set: %0.3f\"%(precision_score(y_test, y_pred)))#printing precision score\n",
    "print(\"Recall on test set: %0.3f\"%(recall_score(y_test, y_pred))) #printing recall\n",
    "print(\"F1-Score on test set: %0.3f\"%(f1_score(y_test, y_pred))) \n",
    "print(\"Confusion Matrix of test set:\\n [ [TN  FP]\\n [FN TP] ]\\n\") \n",
    "df_cm = pd.DataFrame(confusion_matrix(y_test, y_pred), range(2),range(2)) #generating the heatmap for confusion matrix\n",
    "sns.set(font_scale=1.4)#for label size\n",
    "sns.heatmap(df_cm, annot=True,annot_kws={\"size\": 16}, fmt='g')\n"
   ]
  },
  {
   "cell_type": "markdown",
   "metadata": {
    "colab_type": "text",
    "id": "yN8gMC0FQ0Wg"
   },
   "source": [
    "# <font color=MediumOrchid><u><i>FROM THE ABOVE OBSERVATIONS ,IT IS FOUND THAT THE BEST HYPERPARAMETER IS FOUND AS APLHA=1000  AND IT IS ALSO HAVING HIGH PRECISION,RECALL VALUE ON TEST DATA"
   ]
  },
  {
   "cell_type": "code",
   "execution_count": 0,
   "metadata": {
    "colab": {},
    "colab_type": "code",
    "collapsed": true,
    "id": "HfmdUQ-UNrpN"
   },
   "outputs": [],
   "source": [
    "#BOW VECTORIZATION IS COMPLETED FOR LOGISTIC REGRESSION"
   ]
  },
  {
   "cell_type": "code",
   "execution_count": 0,
   "metadata": {
    "colab": {},
    "colab_type": "code",
    "collapsed": true,
    "id": "VwaVpm9JR-mv"
   },
   "outputs": [],
   "source": []
  }
 ],
 "metadata": {
  "colab": {
   "collapsed_sections": [],
   "name": "tfidf_lr.ipynb",
   "provenance": [
    {
     "file_id": "1KqX7mYeKZOOJ69A9fLXA9pZFCVKwrI0V",
     "timestamp": 1546347661710
    }
   ],
   "version": "0.3.2"
  },
  "kernelspec": {
   "display_name": "Python 3",
   "language": "python",
   "name": "python3"
  },
  "language_info": {
   "codemirror_mode": {
    "name": "ipython",
    "version": 3
   },
   "file_extension": ".py",
   "mimetype": "text/x-python",
   "name": "python",
   "nbconvert_exporter": "python",
   "pygments_lexer": "ipython3",
   "version": "3.6.3"
  }
 },
 "nbformat": 4,
 "nbformat_minor": 1
}
