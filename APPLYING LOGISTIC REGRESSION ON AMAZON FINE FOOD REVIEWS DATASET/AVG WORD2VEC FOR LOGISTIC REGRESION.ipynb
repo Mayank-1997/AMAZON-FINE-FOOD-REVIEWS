{
 "cells": [
  {
   "cell_type": "markdown",
   "metadata": {
    "colab_type": "text",
    "id": "yE_CEe9g5GJ5"
   },
   "source": [
    "# OBJECTIVE :#\n",
    "\n",
    "1.   APPLYING LOGISTIC REGRESSION WITH AVG WORD2VEC VECTORIZATION\n",
    " * PERFORMING PERTUBATION TEST TO CHECK WHETHER OUR DATA  FEATURES ARE COLLINER OR NOT AND PLOTTING THE RESULT\n",
    " *   FINDING THE BEST HYPERPARAMETER USING GRIDSEARCHCV WITH TRAIN DATA AND CROSS-VALIDATION DATA BY PLOTTING THE RESLUTS OF VAROIUS TRAIN DATA AND CROSS VALIDATION DATA\n",
    " * USING THE APROPRIATE VALUE OF HYPERPARAMETER ,TESTING ACCURACY ON TEST DATA\n",
    "    USING F1-SCORE\n",
    " * PLOTTING THE CONFUSION MATRIX TO GET THE  PRECISOIN ,RECALL VALUE WITH HELP OF HEATMAP\n",
    "  * PRINTING THE TOP 20 FEATURES FOR BOTH POSITIVE AND NEGATIVE WORDS\n",
    "  #\n",
    "\n",
    "\n"
   ]
  },
  {
   "cell_type": "code",
   "execution_count": 0,
   "metadata": {
    "colab": {},
    "colab_type": "code",
    "collapsed": true,
    "id": "Fluc2eJIGzB1"
   },
   "outputs": [],
   "source": [
    "from sklearn.model_selection import train_test_split          #importing the necessary libraries\n",
    "from sklearn.model_selection import RandomizedSearchCV\n",
    "from sklearn.datasets import *\n",
    "from sklearn import naive_bayes\n",
    "from sklearn.feature_extraction.text import CountVectorizer\n",
    "from sklearn.feature_extraction.text import TfidfVectorizer\n",
    "import numpy as np\n",
    "import pandas as pd\n",
    "from sklearn import *\n",
    "from gensim.models import Word2Vec\n",
    "import warnings\n",
    "warnings.filterwarnings(\"ignore\")\n",
    "from tqdm import tqdm"
   ]
  },
  {
   "cell_type": "code",
   "execution_count": 0,
   "metadata": {
    "colab": {},
    "colab_type": "code",
    "collapsed": true,
    "id": "HRlwwBNLB4tT"
   },
   "outputs": [],
   "source": []
  },
  {
   "cell_type": "code",
   "execution_count": 0,
   "metadata": {
    "colab": {
     "base_uri": "https://localhost:8080/",
     "height": 33
    },
    "colab_type": "code",
    "executionInfo": {
     "elapsed": 1576,
     "status": "ok",
     "timestamp": 1546372420336,
     "user": {
      "displayName": "mayank aggarwal",
      "photoUrl": "",
      "userId": "04107947634097457088"
     },
     "user_tz": -330
    },
    "id": "-De_uLuV5BIh",
    "outputId": "87512edf-b147-43fe-e74d-cd7d6df3067f"
   },
   "outputs": [
    {
     "name": "stdout",
     "output_type": "stream",
     "text": [
      "Drive already mounted at /content/gdrive; to attempt to forcibly remount, call drive.mount(\"/content/gdrive\", force_remount=True).\n"
     ]
    }
   ],
   "source": [
    "from google.colab import drive\n",
    "drive.mount('/content/gdrive')#geeting the content from the google drive"
   ]
  },
  {
   "cell_type": "code",
   "execution_count": 0,
   "metadata": {
    "colab": {},
    "colab_type": "code",
    "collapsed": true,
    "id": "ECeKKDS0G4J_"
   },
   "outputs": [],
   "source": [
    "final_processed_data=pd.read_csv(\"gdrive/My Drive/final_new_data.csv\")#loading the preprocessed data  with 100k points into dataframe "
   ]
  },
  {
   "cell_type": "code",
   "execution_count": 0,
   "metadata": {
    "colab": {
     "base_uri": "https://localhost:8080/",
     "height": 50
    },
    "colab_type": "code",
    "executionInfo": {
     "elapsed": 1979,
     "status": "ok",
     "timestamp": 1546372420779,
     "user": {
      "displayName": "mayank aggarwal",
      "photoUrl": "",
      "userId": "04107947634097457088"
     },
     "user_tz": -330
    },
    "id": "lyVHaHeoG6lp",
    "outputId": "b4078149-4a3d-4301-9981-d8e005f6f39a"
   },
   "outputs": [
    {
     "name": "stdout",
     "output_type": "stream",
     "text": [
      "88521\n",
      "11479\n"
     ]
    }
   ],
   "source": [
    "# getting the counts of 0 and 1 in \"SCORE\" column to know whether it is unbalanced data or not\n",
    "count_of_1=0\n",
    "count_of_0=0\n",
    "for i in final_processed_data['Score']:\n",
    "   if i==1:\n",
    "    count_of_1+=1\n",
    "   else:\n",
    "    count_of_0+=1\n",
    "print(count_of_1)\n",
    "print(count_of_0)\n",
    "#it is an imbalanced dataset"
   ]
  },
  {
   "cell_type": "code",
   "execution_count": 0,
   "metadata": {
    "colab": {},
    "colab_type": "code",
    "collapsed": true,
    "id": "zXC7JSnTG9eK"
   },
   "outputs": [],
   "source": [
    "#spliiting the data into train and test data\n",
    "x_train,x_test,y_train,y_test=model_selection.train_test_split(final_processed_data['CleanedText'].values,final_processed_data['Score'].values,test_size=0.2,shuffle=False)"
   ]
  },
  {
   "cell_type": "code",
   "execution_count": 0,
   "metadata": {
    "colab": {
     "base_uri": "https://localhost:8080/",
     "height": 126
    },
    "colab_type": "code",
    "executionInfo": {
     "elapsed": 24701,
     "status": "ok",
     "timestamp": 1546373394194,
     "user": {
      "displayName": "mayank aggarwal",
      "photoUrl": "",
      "userId": "04107947634097457088"
     },
     "user_tz": -330
    },
    "id": "h4N1lWyIHJDa",
    "outputId": "b12f3345-6f1b-4997-d04b-1c21f993ee16"
   },
   "outputs": [
    {
     "name": "stdout",
     "output_type": "stream",
     "text": [
      "witti littl book make son laugh loud recit car drive along alway sing refrain hes learn whale india droop love new word book introduc silli classic book will bet son still abl recit memori colleg\n",
      "*****************************************************************\n",
      "['witti', 'littl', 'book', 'make', 'son', 'laugh', 'loud', 'recit', 'car', 'drive', 'along', 'alway', 'sing', 'refrain', 'hes', 'learn', 'whale', 'india', 'droop', 'love', 'new', 'word', 'book', 'introduc', 'silli', 'classic', 'book', 'will', 'bet', 'son', 'still', 'abl', 'recit', 'memori', 'colleg']\n",
      "***********************************************************************\n",
      "sample words  ['witti', 'littl', 'book', 'make', 'son', 'laugh', 'loud', 'car', 'drive', 'along', 'alway', 'sing', 'refrain', 'hes', 'learn', 'india', 'droop', 'love', 'new', 'word', 'introduc', 'silli', 'classic', 'will', 'bet', 'still', 'abl', 'memori', 'colleg', 'rememb', 'see', 'show', 'air', 'televis', 'year', 'ago', 'child', 'sister', 'later', 'bought', 'day', 'thirti', 'someth', 'use', 'seri', 'song', 'student', 'teach', 'preschool', 'turn']\n"
     ]
    }
   ],
   "source": [
    "# Training my own Word2Vec model using your own text corpus\n",
    "list_of_sent=[]\n",
    "for sent in x_train:\n",
    " list_of_sent.append(sent.split())#splitting of sentences into words AND appending them to list\n",
    "print(x_train[0])\n",
    "print(\"*****************************************************************\")\n",
    "print(list_of_sent[0])\n",
    "word_to_vector=Word2Vec(list_of_sent,min_count=5,size=50,workers=2)#constructing my our word to vector\n",
    "w_t_c_words=list(word_to_vector.wv.vocab)\n",
    "print(\"***********************************************************************\")\n",
    "print(\"sample words \", w_t_c_words[0:50])"
   ]
  },
  {
   "cell_type": "code",
   "execution_count": 0,
   "metadata": {
    "colab": {
     "base_uri": "https://localhost:8080/",
     "height": 66
    },
    "colab_type": "code",
    "executionInfo": {
     "elapsed": 340893,
     "status": "ok",
     "timestamp": 1546375202918,
     "user": {
      "displayName": "mayank aggarwal",
      "photoUrl": "",
      "userId": "04107947634097457088"
     },
     "user_tz": -330
    },
    "id": "4t9W-SznCa5L",
    "outputId": "24424c50-383f-4d4f-f4b3-c2b94b4f3f31"
   },
   "outputs": [
    {
     "name": "stderr",
     "output_type": "stream",
     "text": [
      "100%|██████████| 80000/80000 [05:39<00:00, 235.31it/s]"
     ]
    },
    {
     "name": "stdout",
     "output_type": "stream",
     "text": [
      "80000\n",
      "50\n"
     ]
    },
    {
     "name": "stderr",
     "output_type": "stream",
     "text": [
      "\n"
     ]
    }
   ],
   "source": [
    "###### NOW STARTING AVERAGE WORD TO VEC FOR TRAIN DATA#################################################################\n",
    "train_sent_vectors = []; # the avg-w2v for each sentence/review is stored in this list\n",
    "for sent in tqdm(list_of_sent): # for each review/sentence\n",
    " sent_vec = np.zeros(50) # as word vectors are of zero length\n",
    " cnt_words =0; # num of words with a valid vector in the sentence/review\n",
    " for word in sent: # for each word in a review/sentence\n",
    "   if word in w_t_c_words:\n",
    "     vec = word_to_vector.wv[word]\n",
    "     sent_vec += vec\n",
    "     cnt_words += 1\n",
    " if cnt_words != 0:\n",
    "  sent_vec /= cnt_words\n",
    " train_sent_vectors.append(sent_vec)\n",
    "print(len(train_sent_vectors))\n",
    "print(len(train_sent_vectors[0]))"
   ]
  },
  {
   "cell_type": "code",
   "execution_count": 0,
   "metadata": {
    "colab": {
     "base_uri": "https://localhost:8080/",
     "height": 33
    },
    "colab_type": "code",
    "executionInfo": {
     "elapsed": 1502,
     "status": "ok",
     "timestamp": 1546375210597,
     "user": {
      "displayName": "mayank aggarwal",
      "photoUrl": "",
      "userId": "04107947634097457088"
     },
     "user_tz": -330
    },
    "id": "euxhGXSARuT8",
    "outputId": "384b533f-ee8d-4d01-85da-d14471f16360"
   },
   "outputs": [
    {
     "name": "stdout",
     "output_type": "stream",
     "text": [
      "(80000, 50)\n"
     ]
    }
   ],
   "source": [
    "from sklearn.preprocessing import StandardScaler #standarizing the training  data  \n",
    "x_train_data=StandardScaler( with_mean=False).fit_transform(train_sent_vectors)\n",
    "print(x_train_data.shape)"
   ]
  },
  {
   "cell_type": "code",
   "execution_count": 0,
   "metadata": {
    "colab": {
     "base_uri": "https://localhost:8080/",
     "height": 83
    },
    "colab_type": "code",
    "executionInfo": {
     "elapsed": 1150,
     "status": "ok",
     "timestamp": 1546375552338,
     "user": {
      "displayName": "mayank aggarwal",
      "photoUrl": "",
      "userId": "04107947634097457088"
     },
     "user_tz": -330
    },
    "id": "VDAKz930EqpA",
    "outputId": "a6069d67-cd3a-402b-d368-ab83fcb12688"
   },
   "outputs": [
    {
     "name": "stdout",
     "output_type": "stream",
     "text": [
      "hard find item dont buy mani either came stale got way quick classic nonetheless\n",
      "*****************************************************************\n",
      "['hard', 'find', 'item', 'dont', 'buy', 'mani', 'either', 'came', 'stale', 'got', 'way', 'quick', 'classic', 'nonetheless']\n",
      "*******************************************************************\n"
     ]
    }
   ],
   "source": [
    "list_of_sent=[]\n",
    "for sent in x_test:\n",
    " list_of_sent.append(sent.split())#splitting of sentences into words AND appending them to list\n",
    "print(x_test[0])\n",
    "print(\"*****************************************************************\")\n",
    "print(list_of_sent[0])\n",
    "print('*******************************************************************')\n"
   ]
  },
  {
   "cell_type": "code",
   "execution_count": 0,
   "metadata": {
    "colab": {
     "base_uri": "https://localhost:8080/",
     "height": 50
    },
    "colab_type": "code",
    "executionInfo": {
     "elapsed": 50260,
     "status": "ok",
     "timestamp": 1546375744049,
     "user": {
      "displayName": "mayank aggarwal",
      "photoUrl": "",
      "userId": "04107947634097457088"
     },
     "user_tz": -330
    },
    "id": "lh1zEyoAKnHu",
    "outputId": "edd7be21-3d9c-4f66-9b0c-b3935d3b161f"
   },
   "outputs": [
    {
     "name": "stdout",
     "output_type": "stream",
     "text": [
      "20000\n",
      "50\n"
     ]
    }
   ],
   "source": [
    "###### NOW STARTING AVERAGE WORD TO VEC FOR TEST DATA#################################################################\n",
    "sent_vectors = []; # the avg-w2v for each sentence/review is stored in this list\n",
    "for sent in list_of_sent: # for each review/sentence\n",
    " sent_vec = np.zeros(50) # as word vectors are of zero length\n",
    " cnt_words =0; # num of words with a valid vector in the sentence/review\n",
    " for word in sent: # for each word in a review/sentence\n",
    "   if word in w_t_c_words:\n",
    "     vec = word_to_vector.wv[word]\n",
    "     sent_vec += vec\n",
    "     cnt_words += 1\n",
    " if cnt_words != 0:\n",
    "  sent_vec /= cnt_words\n",
    " sent_vectors.append(sent_vec)\n",
    "print(len(sent_vectors))\n",
    "print(len(sent_vectors[0]))"
   ]
  },
  {
   "cell_type": "code",
   "execution_count": 0,
   "metadata": {
    "colab": {
     "base_uri": "https://localhost:8080/",
     "height": 33
    },
    "colab_type": "code",
    "executionInfo": {
     "elapsed": 1433,
     "status": "ok",
     "timestamp": 1546375790137,
     "user": {
      "displayName": "mayank aggarwal",
      "photoUrl": "",
      "userId": "04107947634097457088"
     },
     "user_tz": -330
    },
    "id": "eA6sBkqhKc6X",
    "outputId": "8771b033-56bb-47da-bef6-0ad648ced01d"
   },
   "outputs": [
    {
     "name": "stdout",
     "output_type": "stream",
     "text": [
      "(20000, 50)\n"
     ]
    }
   ],
   "source": [
    "from sklearn.preprocessing import StandardScaler #standarizing the training  data  \n",
    "x_test_data=StandardScaler( with_mean=False).fit_transform(sent_vectors)\n",
    "print(x_test_data.shape)"
   ]
  },
  {
   "cell_type": "code",
   "execution_count": 0,
   "metadata": {
    "colab": {},
    "colab_type": "code",
    "collapsed": true,
    "id": "chWOpjaYHQJ9"
   },
   "outputs": [],
   "source": [
    "#using time series split method for cross-validation score\n",
    "from sklearn.model_selection import TimeSeriesSplit\n",
    "tscv = TimeSeriesSplit(n_splits=10) \n",
    "from sklearn.linear_model import LogisticRegression\n",
    "from scipy.stats import uniform\n",
    "data=[10**-4,10**-3,10**-2,10**-1,10**0,10**1,10**2,10**3,10**4]#range of hyperparameter\n",
    "\n",
    "\n"
   ]
  },
  {
   "cell_type": "code",
   "execution_count": 0,
   "metadata": {
    "colab": {},
    "colab_type": "code",
    "collapsed": true,
    "id": "rG88j1YPCZA2"
   },
   "outputs": [],
   "source": [
    "lr=LogisticRegression(penalty='l2',class_weight={1:.5,0:.5},n_jobs=-1)#building logistic regression model\n",
    "tuned_parameters=[{'C':data}]"
   ]
  },
  {
   "cell_type": "code",
   "execution_count": 0,
   "metadata": {
    "colab": {
     "base_uri": "https://localhost:8080/",
     "height": 133
    },
    "colab_type": "code",
    "executionInfo": {
     "elapsed": 60502,
     "status": "ok",
     "timestamp": 1546375861772,
     "user": {
      "displayName": "mayank aggarwal",
      "photoUrl": "",
      "userId": "04107947634097457088"
     },
     "user_tz": -330
    },
    "id": "TiPOTRBoVW27",
    "outputId": "f93c2c36-b3a5-469b-f752-a073dbea0b4d"
   },
   "outputs": [
    {
     "name": "stdout",
     "output_type": "stream",
     "text": [
      "CPU times: user 5 µs, sys: 0 ns, total: 5 µs\n",
      "Wall time: 9.3 µs\n",
      "LogisticRegression(C=10, class_weight={1: 0.5, 0: 0.5}, dual=False,\n",
      "          fit_intercept=True, intercept_scaling=1, max_iter=100,\n",
      "          multi_class='warn', n_jobs=-1, penalty='l2', random_state=None,\n",
      "          solver='warn', tol=0.0001, verbose=0, warm_start=False)\n",
      "0.9414095825191954\n"
     ]
    }
   ],
   "source": [
    "#applying the model of logistic regression and using gridsearchcv to find the best hyper parameter\n",
    "%time\n",
    "from sklearn.model_selection import GridSearchCV\n",
    "model = GridSearchCV(lr, tuned_parameters, scoring = 'f1', cv=tscv,n_jobs=-1)#building the gridsearchcv model\n",
    "model.fit(x_train_data, y_train)#fiitting the training data\n",
    "\n",
    "print(model.best_estimator_)#printing the best_estimator\n",
    "print(model.score(x_test_data, y_test))#predicting  f1 score on test data"
   ]
  },
  {
   "cell_type": "code",
   "execution_count": 0,
   "metadata": {
    "colab": {
     "base_uri": "https://localhost:8080/",
     "height": 33
    },
    "colab_type": "code",
    "executionInfo": {
     "elapsed": 3179,
     "status": "ok",
     "timestamp": 1546375989773,
     "user": {
      "displayName": "mayank aggarwal",
      "photoUrl": "",
      "userId": "04107947634097457088"
     },
     "user_tz": -330
    },
    "id": "tfX1tl8tFY1t",
    "outputId": "b111e24a-b88e-4ee2-bd6b-fc72608e893c"
   },
   "outputs": [
    {
     "name": "stdout",
     "output_type": "stream",
     "text": [
      "[4.20125878 3.60267944 4.69642116 ... 3.17373434 1.63222391 4.14039603]\n"
     ]
    }
   ],
   "source": [
    "lr=LogisticRegression(C=10,penalty='l2',class_weight={1:.5,0:.5},n_jobs=-1)#building model for getting wieght vector\n",
    "lr.fit(x_train_data,y_train)#fitting the training data\n",
    "z=lr.decision_function(x_train_data)#checking the signed distance of a point from hyperplane\n",
    "print(z)#printing the signed distance"
   ]
  },
  {
   "cell_type": "code",
   "execution_count": 0,
   "metadata": {
    "colab": {
     "base_uri": "https://localhost:8080/",
     "height": 183
    },
    "colab_type": "code",
    "executionInfo": {
     "elapsed": 1144,
     "status": "ok",
     "timestamp": 1546375998551,
     "user": {
      "displayName": "mayank aggarwal",
      "photoUrl": "",
      "userId": "04107947634097457088"
     },
     "user_tz": -330
    },
    "id": "O9878ojqngnG",
    "outputId": "98f4cf05-dbd5-4e38-fa53-81b7e35f95bf"
   },
   "outputs": [
    {
     "name": "stdout",
     "output_type": "stream",
     "text": [
      "(1, 50)\n",
      "[[-0.02904195 -0.11591003 -0.26360131  0.41546582 -0.28146277  0.24493463\n",
      "  -0.22771467 -0.36448311  0.09265409  0.4494914   0.15364282 -0.49319665\n",
      "  -0.05501359 -0.17571591 -0.40005203 -0.20770648  0.06262386  0.11948688\n",
      "  -0.25327633 -0.04375454 -0.54338845 -0.38397442  0.25019977  0.48324115\n",
      "  -0.45697059  0.27151116  0.62401274  0.44643779 -0.46102941  0.59007208\n",
      "   0.40110036  0.11620863 -0.00840976  0.33985595  0.16540033  0.07041701\n",
      "  -0.24189498  0.25014858 -0.20108789  0.20547129 -0.31597726 -0.2450294\n",
      "  -0.08363616  0.13000548 -0.10402377  0.20358218 -0.00952736 -0.17997881\n",
      "  -0.31772343 -0.40610872]]\n"
     ]
    }
   ],
   "source": [
    "wieght_vector=lr.coef_#getting the weight vector\n",
    "print(wieght_vector.shape)#wieght vector shape\n",
    "print(wieght_vector[:20])"
   ]
  },
  {
   "cell_type": "markdown",
   "metadata": {
    "colab_type": "text",
    "id": "eBxTRYWtRsb7"
   },
   "source": [
    "#  PERTUBATION TEST : #\n",
    "    AIM:    TO CHECK FOR MULTI COLLINEARITY  OF FEATURES\n",
    "    STEPS\n",
    "  1.   GETTING THE WIEGHT VECTOR FROM  MODEL AND SAVING IT</br>\n",
    "  2.   ADDING  NOISE TO THE  TRAINING DATA TO GET NEW  TRAINING  DATA</br>\n",
    "  3. FITTING THE MODEL AGAIN ON NEW DATA</br>\n",
    "  4. GETTING THE WIEGHT VECTOR FROM THIS MODEL</br> \n",
    "  5.ADDING SMALL VALUE TO WEIGHT VECTOR OF BOTH TRAINNG  DATA TO REMOVE ANY ERROR\n",
    "  6. FINDING THE PERCENTAGE CHANGE VECTOR \n",
    "  7. GEETING HOW MANY GEATURE HAS CHANGED USING SOME THRESHOLD VALUE( HERE TAKING IT AS  100)\n",
    "  8. PLOTTING THE  QUANTILES WITH THIER PERCENTAGE WIGHT  VALUE TO CHECK IF COLLINEARITY EXITS OR NOT\n",
    "  \n",
    "  #  RESULT : TO KNOW WHETHER FEATURES ARE MULTICOLLINEAR OR NOT  #\n",
    "#   AND TO KNOW WHETHER MODEL IS RELIABLE OR NOT #\n",
    "    \n",
    "  "
   ]
  },
  {
   "cell_type": "code",
   "execution_count": 0,
   "metadata": {
    "colab": {},
    "colab_type": "code",
    "collapsed": true,
    "id": "KjO5al3OpBHN"
   },
   "outputs": [],
   "source": [
    "#here,we are adding noise to the data \n",
    "from scipy.stats import norm\n",
    "noise=norm.rvs(size=1)#noise\n",
    "x_train_data.data+=noise#adding noise\n"
   ]
  },
  {
   "cell_type": "code",
   "execution_count": 0,
   "metadata": {
    "colab": {
     "base_uri": "https://localhost:8080/",
     "height": 33
    },
    "colab_type": "code",
    "executionInfo": {
     "elapsed": 728,
     "status": "ok",
     "timestamp": 1546376012806,
     "user": {
      "displayName": "mayank aggarwal",
      "photoUrl": "",
      "userId": "04107947634097457088"
     },
     "user_tz": -330
    },
    "id": "qv9Pk61dIYzP",
    "outputId": "d806b6cd-fed1-466a-d950-50f22674b789"
   },
   "outputs": [
    {
     "name": "stdout",
     "output_type": "stream",
     "text": [
      "shape of our new train data  after adding noise is :  (80000, 50)\n"
     ]
    }
   ],
   "source": [
    "print('shape of our new train data  after adding noise is : ',x_train_data.shape)#printing shape of new training data\n"
   ]
  },
  {
   "cell_type": "code",
   "execution_count": 0,
   "metadata": {
    "colab": {},
    "colab_type": "code",
    "collapsed": true,
    "id": "Q0VNtjb8R-7F"
   },
   "outputs": [],
   "source": [
    "#uilding the model using timeSeriesSplit\n",
    "from sklearn.model_selection import TimeSeriesSplit\n",
    "tscv = TimeSeriesSplit(n_splits=10) # 10 spilts cross validation\n",
    "from sklearn.linear_model import LogisticRegression\n",
    "from scipy.stats import uniform\n",
    "data=[10**-4,10**-3,10**-2,10**-1,10**0,10**1,10**2,10**3,10**4]#value range of hyper parameter for grid searchcv\n",
    "lr=LogisticRegression(penalty='l2',class_weight={1:.5,0:.5},n_jobs=-1)#building the model\n",
    "tuned_parameters=[{'C':data}]\n"
   ]
  },
  {
   "cell_type": "code",
   "execution_count": 0,
   "metadata": {
    "colab": {
     "base_uri": "https://localhost:8080/",
     "height": 116
    },
    "colab_type": "code",
    "executionInfo": {
     "elapsed": 59422,
     "status": "ok",
     "timestamp": 1546376075341,
     "user": {
      "displayName": "mayank aggarwal",
      "photoUrl": "",
      "userId": "04107947634097457088"
     },
     "user_tz": -330
    },
    "id": "TyMjKFZOSdnz",
    "outputId": "a3d12861-a631-4f06-e0e9-28fec348cf13"
   },
   "outputs": [
    {
     "name": "stdout",
     "output_type": "stream",
     "text": [
      "CPU times: user 4 µs, sys: 0 ns, total: 4 µs\n",
      "Wall time: 9.3 µs\n",
      "best estimator of our new data is:  LogisticRegression(C=10, class_weight={1: 0.5, 0: 0.5}, dual=False,\n",
      "          fit_intercept=True, intercept_scaling=1, max_iter=100,\n",
      "          multi_class='warn', n_jobs=-1, penalty='l2', random_state=None,\n",
      "          solver='warn', tol=0.0001, verbose=0, warm_start=False)\n"
     ]
    }
   ],
   "source": [
    "%time\n",
    "from sklearn.model_selection import GridSearchCV\n",
    "model = GridSearchCV(lr, tuned_parameters, scoring = 'f1', cv=tscv,n_jobs=-1)#building the gridsearchcv model\n",
    "model.fit(x_train_data, y_train)#fiitting the training data\n",
    "\n",
    "print('best estimator of our new data is: ',model.best_estimator_)#printing the best_estimator"
   ]
  },
  {
   "cell_type": "code",
   "execution_count": 0,
   "metadata": {
    "colab": {
     "base_uri": "https://localhost:8080/",
     "height": 33
    },
    "colab_type": "code",
    "executionInfo": {
     "elapsed": 14508,
     "status": "ok",
     "timestamp": 1546376077458,
     "user": {
      "displayName": "mayank aggarwal",
      "photoUrl": "",
      "userId": "04107947634097457088"
     },
     "user_tz": -330
    },
    "id": "p6CYIA4sUAbZ",
    "outputId": "e49616a0-a233-48b8-9da7-ad4297df2371"
   },
   "outputs": [
    {
     "name": "stdout",
     "output_type": "stream",
     "text": [
      "(1, 50)\n"
     ]
    }
   ],
   "source": [
    "# again building the model for finding the wieght vector of the words from model\n",
    "lr=LogisticRegression(C=10,penalty='l2',class_weight={1:.5,0:.5},n_jobs=-1)#building the logistic regression model\n",
    "lr.fit(x_train_data,y_train)#fiting the training model\n",
    "new_wieght_vector=lr.coef_\n",
    "print(new_wieght_vector.shape)#printing shape of wieght vector"
   ]
  },
  {
   "cell_type": "code",
   "execution_count": 0,
   "metadata": {
    "colab": {},
    "colab_type": "code",
    "collapsed": true,
    "id": "kvT7CUuIVEIp"
   },
   "outputs": [],
   "source": [
    "percent_change_vec=np.ones((1,50))#generating the percent_change_vetor to store the percentage change  values for each word"
   ]
  },
  {
   "cell_type": "code",
   "execution_count": 0,
   "metadata": {
    "colab": {},
    "colab_type": "code",
    "collapsed": true,
    "id": "h2gPDOfsBGPZ"
   },
   "outputs": [],
   "source": [
    "wieght_vector=wieght_vector+10**-6 #adding some values to wieght vector to avoid error while division\n",
    "      \n",
    "new_wieght_vector=new_wieght_vector+10**-6 #adding some values to wieght vector to avoid error while division\n",
    "      \n",
    "percent_change_vec=abs((wieght_vector-new_wieght_vector)/wieght_vector)*100#calculating the percentage change in the vector\n"
   ]
  },
  {
   "cell_type": "code",
   "execution_count": 0,
   "metadata": {
    "colab": {
     "base_uri": "https://localhost:8080/",
     "height": 33
    },
    "colab_type": "code",
    "executionInfo": {
     "elapsed": 1258,
     "status": "ok",
     "timestamp": 1546376165431,
     "user": {
      "displayName": "mayank aggarwal",
      "photoUrl": "",
      "userId": "04107947634097457088"
     },
     "user_tz": -330
    },
    "id": "XUi-owIl7_k-",
    "outputId": "e4170e93-0850-487f-a141-7b689a035fdb"
   },
   "outputs": [
    {
     "name": "stdout",
     "output_type": "stream",
     "text": [
      "0.00037991118132659076\n"
     ]
    }
   ],
   "source": [
    "x=abs((wieght_vector[0][2]-new_wieght_vector[0][2])/wieght_vector[0][2])#just checking randomly that every value is positve in percent_change_vector \n",
    "print(x)"
   ]
  },
  {
   "cell_type": "code",
   "execution_count": 0,
   "metadata": {
    "colab": {
     "base_uri": "https://localhost:8080/",
     "height": 33
    },
    "colab_type": "code",
    "executionInfo": {
     "elapsed": 1414,
     "status": "ok",
     "timestamp": 1546376170892,
     "user": {
      "displayName": "mayank aggarwal",
      "photoUrl": "",
      "userId": "04107947634097457088"
     },
     "user_tz": -330
    },
    "id": "P4k621dtBJGk",
    "outputId": "45c7fdc8-ec05-4513-80ff-51ee448c1365"
   },
   "outputs": [
    {
     "name": "stdout",
     "output_type": "stream",
     "text": [
      "shape of percent change wieght vector is (1, 50)\n"
     ]
    }
   ],
   "source": [
    "print('shape of percent change wieght vector is', percent_change_vec.shape)#printing shape of percent_change_vector"
   ]
  },
  {
   "cell_type": "code",
   "execution_count": 0,
   "metadata": {
    "colab": {},
    "colab_type": "code",
    "collapsed": true,
    "id": "hi1oC_R8BNSJ"
   },
   "outputs": [],
   "source": [
    "per_change_df=pd.DataFrame(percent_change_vec.T,columns=['CHANGE'])#building a dataframe from wight vector"
   ]
  },
  {
   "cell_type": "code",
   "execution_count": 0,
   "metadata": {
    "colab": {
     "base_uri": "https://localhost:8080/",
     "height": 197
    },
    "colab_type": "code",
    "executionInfo": {
     "elapsed": 1049,
     "status": "ok",
     "timestamp": 1546376184888,
     "user": {
      "displayName": "mayank aggarwal",
      "photoUrl": "",
      "userId": "04107947634097457088"
     },
     "user_tz": -330
    },
    "id": "yJ0gARInBXwH",
    "outputId": "57886afb-0fc4-4abd-b34b-6e1bdf0a2f61"
   },
   "outputs": [
    {
     "data": {
      "text/html": [
       "<div>\n",
       "<style scoped>\n",
       "    .dataframe tbody tr th:only-of-type {\n",
       "        vertical-align: middle;\n",
       "    }\n",
       "\n",
       "    .dataframe tbody tr th {\n",
       "        vertical-align: top;\n",
       "    }\n",
       "\n",
       "    .dataframe thead th {\n",
       "        text-align: right;\n",
       "    }\n",
       "</style>\n",
       "<table border=\"1\" class=\"dataframe\">\n",
       "  <thead>\n",
       "    <tr style=\"text-align: right;\">\n",
       "      <th></th>\n",
       "      <th>CHANGE</th>\n",
       "    </tr>\n",
       "  </thead>\n",
       "  <tbody>\n",
       "    <tr>\n",
       "      <th>0</th>\n",
       "      <td>0.848063</td>\n",
       "    </tr>\n",
       "    <tr>\n",
       "      <th>1</th>\n",
       "      <td>0.666781</td>\n",
       "    </tr>\n",
       "    <tr>\n",
       "      <th>2</th>\n",
       "      <td>0.037991</td>\n",
       "    </tr>\n",
       "    <tr>\n",
       "      <th>3</th>\n",
       "      <td>0.165658</td>\n",
       "    </tr>\n",
       "    <tr>\n",
       "      <th>4</th>\n",
       "      <td>0.439478</td>\n",
       "    </tr>\n",
       "  </tbody>\n",
       "</table>\n",
       "</div>"
      ],
      "text/plain": [
       "     CHANGE\n",
       "0  0.848063\n",
       "1  0.666781\n",
       "2  0.037991\n",
       "3  0.165658\n",
       "4  0.439478"
      ]
     },
     "execution_count": 53,
     "metadata": {
      "tags": []
     },
     "output_type": "execute_result"
    }
   ],
   "source": [
    "per_change_df.head()#getting first 5 values "
   ]
  },
  {
   "cell_type": "code",
   "execution_count": 0,
   "metadata": {
    "colab": {
     "base_uri": "https://localhost:8080/",
     "height": 287
    },
    "colab_type": "code",
    "executionInfo": {
     "elapsed": 1406,
     "status": "ok",
     "timestamp": 1546376211221,
     "user": {
      "displayName": "mayank aggarwal",
      "photoUrl": "",
      "userId": "04107947634097457088"
     },
     "user_tz": -330
    },
    "id": "JthxyW_W2XAh",
    "outputId": "852423c6-da71-4de5-8dff-3ef921cbb804"
   },
   "outputs": [
    {
     "data": {
      "text/html": [
       "<div>\n",
       "<style scoped>\n",
       "    .dataframe tbody tr th:only-of-type {\n",
       "        vertical-align: middle;\n",
       "    }\n",
       "\n",
       "    .dataframe tbody tr th {\n",
       "        vertical-align: top;\n",
       "    }\n",
       "\n",
       "    .dataframe thead th {\n",
       "        text-align: right;\n",
       "    }\n",
       "</style>\n",
       "<table border=\"1\" class=\"dataframe\">\n",
       "  <thead>\n",
       "    <tr style=\"text-align: right;\">\n",
       "      <th></th>\n",
       "      <th>CHANGE</th>\n",
       "    </tr>\n",
       "  </thead>\n",
       "  <tbody>\n",
       "    <tr>\n",
       "      <th>count</th>\n",
       "      <td>50.000000</td>\n",
       "    </tr>\n",
       "    <tr>\n",
       "      <th>mean</th>\n",
       "      <td>0.439151</td>\n",
       "    </tr>\n",
       "    <tr>\n",
       "      <th>std</th>\n",
       "      <td>0.713103</td>\n",
       "    </tr>\n",
       "    <tr>\n",
       "      <th>min</th>\n",
       "      <td>0.003997</td>\n",
       "    </tr>\n",
       "    <tr>\n",
       "      <th>25%</th>\n",
       "      <td>0.094802</td>\n",
       "    </tr>\n",
       "    <tr>\n",
       "      <th>50%</th>\n",
       "      <td>0.211508</td>\n",
       "    </tr>\n",
       "    <tr>\n",
       "      <th>75%</th>\n",
       "      <td>0.483936</td>\n",
       "    </tr>\n",
       "    <tr>\n",
       "      <th>max</th>\n",
       "      <td>4.392146</td>\n",
       "    </tr>\n",
       "  </tbody>\n",
       "</table>\n",
       "</div>"
      ],
      "text/plain": [
       "          CHANGE\n",
       "count  50.000000\n",
       "mean    0.439151\n",
       "std     0.713103\n",
       "min     0.003997\n",
       "25%     0.094802\n",
       "50%     0.211508\n",
       "75%     0.483936\n",
       "max     4.392146"
      ]
     },
     "execution_count": 54,
     "metadata": {
      "tags": []
     },
     "output_type": "execute_result"
    }
   ],
   "source": [
    "sorted_Df=per_change_df.sort_values('CHANGE',ascending=True,axis=0)#sorting the dataframe to calculate the quantiles values\n",
    "sorted_Df.describe()#describe function"
   ]
  },
  {
   "cell_type": "code",
   "execution_count": 0,
   "metadata": {
    "colab": {
     "base_uri": "https://localhost:8080/",
     "height": 366
    },
    "colab_type": "code",
    "executionInfo": {
     "elapsed": 1434,
     "status": "ok",
     "timestamp": 1546376218577,
     "user": {
      "displayName": "mayank aggarwal",
      "photoUrl": "",
      "userId": "04107947634097457088"
     },
     "user_tz": -330
    },
    "id": "irRAKZ7-KT9v",
    "outputId": "eff2988f-3f9e-4c62-c0f0-dbaa31770b1d"
   },
   "outputs": [
    {
     "name": "stdout",
     "output_type": "stream",
     "text": [
      "sorted_Data 0.00th quantiles is   0.004\n",
      "sorted_Data 0.05th quantiles is   0.024\n",
      "sorted_Data 0.10th quantiles is   0.062\n",
      "sorted_Data 0.15th quantiles is   0.081\n",
      "sorted_Data 0.20th quantiles is   0.090\n",
      "sorted_Data 0.25th quantiles is   0.095\n",
      "sorted_Data 0.30th quantiles is   0.114\n",
      "sorted_Data 0.35th quantiles is   0.143\n",
      "sorted_Data 0.40th quantiles is   0.160\n",
      "sorted_Data 0.45th quantiles is   0.166\n",
      "sorted_Data 0.50th quantiles is   0.212\n",
      "sorted_Data 0.55th quantiles is   0.235\n",
      "sorted_Data 0.60th quantiles is   0.295\n",
      "sorted_Data 0.65th quantiles is   0.361\n",
      "sorted_Data 0.70th quantiles is   0.430\n",
      "sorted_Data 0.75th quantiles is   0.484\n",
      "sorted_Data 0.80th quantiles is   0.541\n",
      "sorted_Data 0.85th quantiles is   0.695\n",
      "sorted_Data 0.90th quantiles is   0.854\n",
      "sorted_Data 0.95th quantiles is   1.453\n",
      "sorted_Data 1.00th quantiles is   4.392\n"
     ]
    }
   ],
   "source": [
    "quantiles=list( i/100 for i in range(0,101,5))#building the list of quantiles value \n",
    "for i in quantiles:\n",
    "  print('sorted_Data {:.2f}th quantiles is {:7.3f}'.format(i,sorted_Df['CHANGE'].quantile(i)))#printing the quantiles and thier coreesponding values\n",
    "\n",
    "      \n",
    "      \n",
    "    \n",
    "    "
   ]
  },
  {
   "cell_type": "code",
   "execution_count": 0,
   "metadata": {
    "colab": {
     "base_uri": "https://localhost:8080/",
     "height": 116
    },
    "colab_type": "code",
    "executionInfo": {
     "elapsed": 1020,
     "status": "ok",
     "timestamp": 1546376226569,
     "user": {
      "displayName": "mayank aggarwal",
      "photoUrl": "",
      "userId": "04107947634097457088"
     },
     "user_tz": -330
    },
    "id": "gVBhyVa7MhfT",
    "outputId": "4ee609d4-58aa-4298-a047-b367e75e885b"
   },
   "outputs": [
    {
     "name": "stdout",
     "output_type": "stream",
     "text": [
      "sorted_Data 0.95th quantiles is   1.453\n",
      "sorted_Data 0.96th quantiles is   1.890\n",
      "sorted_Data 0.97th quantiles is   2.060\n",
      "sorted_Data 0.98th quantiles is   2.267\n",
      "sorted_Data 0.99th quantiles is   3.330\n",
      "sorted_Data 1.00th quantiles is   4.392\n"
     ]
    }
   ],
   "source": [
    "quantiles=list( i/100 for i in range(95,101,1))#printing the last percentiles values because this region is showing abrupt change\n",
    "percent_change_list=[]#empty percent_change\n",
    "for i in quantiles:\n",
    "  print('sorted_Data {:.2f}th quantiles is {:7.3f}'.format(i,sorted_Df['CHANGE'].quantile(i)))\n",
    "  percent_change_list.append(sorted_Df['CHANGE'].quantile(i))#building the list"
   ]
  },
  {
   "cell_type": "code",
   "execution_count": 0,
   "metadata": {
    "colab": {
     "base_uri": "https://localhost:8080/",
     "height": 66
    },
    "colab_type": "code",
    "executionInfo": {
     "elapsed": 1046,
     "status": "ok",
     "timestamp": 1546376234194,
     "user": {
      "displayName": "mayank aggarwal",
      "photoUrl": "",
      "userId": "04107947634097457088"
     },
     "user_tz": -330
    },
    "id": "wkB8LGD3F2ro",
    "outputId": "418a71f2-934b-4392-ad60-a0ece4821ac7"
   },
   "outputs": [
    {
     "name": "stdout",
     "output_type": "stream",
     "text": [
      "[1.4526432286776458, 1.8900288702504262, 2.0604313484690424, 2.267243965870643, 3.329694854072624, 4.3921457422746055]\n",
      "[1.45, 1.89, 2.06, 2.27, 3.33, 4.39]\n",
      "[0.95, 0.96, 0.97, 0.98, 0.99, 1.0]\n"
     ]
    }
   ],
   "source": [
    "print(percent_change_list)\n",
    "my_formatted_list = [ '%.2f' % elem for elem in percent_change_list ]#formatted list with string values in it\n",
    "my_formatted_list=[float(i) for i in my_formatted_list]#formatted list with flaot values in it\n",
    "print(my_formatted_list)#printing formatted list\n",
    "print(quantiles)#printing quantiles\n"
   ]
  },
  {
   "cell_type": "code",
   "execution_count": 0,
   "metadata": {
    "colab": {
     "base_uri": "https://localhost:8080/",
     "height": 297
    },
    "colab_type": "code",
    "executionInfo": {
     "elapsed": 1565,
     "status": "ok",
     "timestamp": 1546376240800,
     "user": {
      "displayName": "mayank aggarwal",
      "photoUrl": "",
      "userId": "04107947634097457088"
     },
     "user_tz": -330
    },
    "id": "_pHGWehRbLX7",
    "outputId": "9cf46dc0-7ed0-42f1-87da-45766616d801"
   },
   "outputs": [
    {
     "data": {
      "text/plain": [
       "<matplotlib.legend.Legend at 0x7ff532cc7e10>"
      ]
     },
     "execution_count": 58,
     "metadata": {
      "tags": []
     },
     "output_type": "execute_result"
    },
    {
     "data": {
      "image/png": "[encoded data removed]",
      "text/plain": [
       "<matplotlib.figure.Figure at 0x7ff5340f3b00>"
      ]
     },
     "metadata": {
      "tags": []
     },
     "output_type": "display_data"
    }
   ],
   "source": [
    "%matplotlib inline\n",
    "import matplotlib.pyplot as plt\n",
    "plt.show() \n",
    "plt.xlabel('QUANTILES VALUES')\n",
    "plt.ylabel('PERCENTAGE VALUES FOR QUANTILES')\n",
    "plt.plot(quantiles,my_formatted_list,'r--' ,label='PERCENTAGE VALUES FOR QUANTILES')\n",
    "plt.legend(loc='best')"
   ]
  },
  {
   "cell_type": "markdown",
   "metadata": {
    "colab_type": "text",
    "id": "hkT2E5g5S0Jy"
   },
   "source": [
    "### FROM THE ABOVE VISUALIZATION , MAIN POINTS ARE:. </font>###\n",
    "\n",
    "1.   THAT ONLY 2% OF FEATURES GOT AFFECTED AFTER ADDING NOISE TO THE DATA. \n",
    "2.    VERY LESS COLLINEARITY OF DATA IS PRESENT  ,BECAUSE MOST OF THE WEIGHT VECTORS VALUES  REMAINS SAME \n",
    "3. THERFORE, OUR MODEL IS RELIABLE AND WE CAN PROCEED FURTHER TO CHECK ACCURACY ON TEST DATA </font>\n",
    "\n"
   ]
  },
  {
   "cell_type": "markdown",
   "metadata": {
    "colab_type": "text",
    "id": "_7wUeBTCZk5X"
   },
   "source": [
    "# CALCULATING  THE BEST HYPERPARAMETER ON TRAIN  DATA AND CALCULATING THE ACCURACY USING F1-SCORE AND PLOTTING IT  #"
   ]
  },
  {
   "cell_type": "code",
   "execution_count": 0,
   "metadata": {
    "colab": {},
    "colab_type": "code",
    "collapsed": true,
    "id": "BZF-q9eutTFs"
   },
   "outputs": [],
   "source": [
    "#using time series split method for cross-validation score\n",
    "from sklearn.model_selection import TimeSeriesSplit\n",
    "tscv = TimeSeriesSplit(n_splits=10) \n",
    "from sklearn.linear_model import LogisticRegression\n",
    "from scipy.stats import uniform\n",
    "data=[10**-4,10**-3,10**-2,10**-1,10**0,10**1,10**2,10**3,10**4]#range of hyperparameter"
   ]
  },
  {
   "cell_type": "code",
   "execution_count": 0,
   "metadata": {
    "colab": {},
    "colab_type": "code",
    "collapsed": true,
    "id": "4Q_AGHBgqkJA"
   },
   "outputs": [],
   "source": [
    "lr=LogisticRegression(penalty='l2',class_weight={1:.5,0:.5},n_jobs=-1)#building logistic regression model\n",
    "tuned_parameters=[{'C':data}]"
   ]
  },
  {
   "cell_type": "code",
   "execution_count": 0,
   "metadata": {
    "colab": {
     "base_uri": "https://localhost:8080/",
     "height": 183
    },
    "colab_type": "code",
    "executionInfo": {
     "elapsed": 58906,
     "status": "ok",
     "timestamp": 1546376327510,
     "user": {
      "displayName": "mayank aggarwal",
      "photoUrl": "",
      "userId": "04107947634097457088"
     },
     "user_tz": -330
    },
    "id": "_9W2TEOxquDR",
    "outputId": "d0484784-7c9e-4c9f-a6b8-8f394826a44c"
   },
   "outputs": [
    {
     "data": {
      "text/plain": [
       "GridSearchCV(cv=TimeSeriesSplit(max_train_size=None, n_splits=10),\n",
       "       error_score='raise-deprecating',\n",
       "       estimator=LogisticRegression(C=1.0, class_weight={1: 0.5, 0: 0.5}, dual=False,\n",
       "          fit_intercept=True, intercept_scaling=1, max_iter=100,\n",
       "          multi_class='warn', n_jobs=-1, penalty='l2', random_state=None,\n",
       "          solver='warn', tol=0.0001, verbose=0, warm_start=False),\n",
       "       fit_params=None, iid='warn', n_jobs=-1,\n",
       "       param_grid=[{'C': [0.0001, 0.001, 0.01, 0.1, 1, 10, 100, 1000, 10000]}],\n",
       "       pre_dispatch='2*n_jobs', refit=True, return_train_score='warn',\n",
       "       scoring='f1', verbose=0)"
      ]
     },
     "execution_count": 61,
     "metadata": {
      "tags": []
     },
     "output_type": "execute_result"
    }
   ],
   "source": [
    "#applying the model of logistic regression and using gridsearchcv to find the best hyper parameter\n",
    "from sklearn.model_selection import GridSearchCV\n",
    "model = GridSearchCV(lr, tuned_parameters, scoring = 'f1', cv=tscv,n_jobs=-1)#building the gridsearchcv model\n",
    "model.fit(x_train_data, y_train)#fiitting the training data"
   ]
  },
  {
   "cell_type": "code",
   "execution_count": 0,
   "metadata": {
    "colab": {
     "base_uri": "https://localhost:8080/",
     "height": 484
    },
    "colab_type": "code",
    "executionInfo": {
     "elapsed": 1131,
     "status": "ok",
     "timestamp": 1546376397593,
     "user": {
      "displayName": "mayank aggarwal",
      "photoUrl": "",
      "userId": "04107947634097457088"
     },
     "user_tz": -330
    },
    "id": "T7y5hJNi0B2C",
    "outputId": "ae31f7bd-859f-41a1-b134-4007a8e44105"
   },
   "outputs": [
    {
     "data": {
      "text/html": [
       "<div>\n",
       "<style scoped>\n",
       "    .dataframe tbody tr th:only-of-type {\n",
       "        vertical-align: middle;\n",
       "    }\n",
       "\n",
       "    .dataframe tbody tr th {\n",
       "        vertical-align: top;\n",
       "    }\n",
       "\n",
       "    .dataframe thead th {\n",
       "        text-align: right;\n",
       "    }\n",
       "</style>\n",
       "<table border=\"1\" class=\"dataframe\">\n",
       "  <thead>\n",
       "    <tr style=\"text-align: right;\">\n",
       "      <th></th>\n",
       "      <th>mean_fit_time</th>\n",
       "      <th>mean_score_time</th>\n",
       "      <th>mean_test_score</th>\n",
       "      <th>mean_train_score</th>\n",
       "      <th>param_C</th>\n",
       "      <th>params</th>\n",
       "      <th>rank_test_score</th>\n",
       "      <th>split0_test_score</th>\n",
       "      <th>split0_train_score</th>\n",
       "      <th>split1_test_score</th>\n",
       "      <th>...</th>\n",
       "      <th>split7_test_score</th>\n",
       "      <th>split7_train_score</th>\n",
       "      <th>split8_test_score</th>\n",
       "      <th>split8_train_score</th>\n",
       "      <th>split9_test_score</th>\n",
       "      <th>split9_train_score</th>\n",
       "      <th>std_fit_time</th>\n",
       "      <th>std_score_time</th>\n",
       "      <th>std_test_score</th>\n",
       "      <th>std_train_score</th>\n",
       "    </tr>\n",
       "  </thead>\n",
       "  <tbody>\n",
       "    <tr>\n",
       "      <th>0</th>\n",
       "      <td>0.452241</td>\n",
       "      <td>0.005229</td>\n",
       "      <td>0.941373</td>\n",
       "      <td>0.941422</td>\n",
       "      <td>0.0001</td>\n",
       "      <td>{'C': 0.0001}</td>\n",
       "      <td>9</td>\n",
       "      <td>0.942708</td>\n",
       "      <td>0.935352</td>\n",
       "      <td>0.950112</td>\n",
       "      <td>...</td>\n",
       "      <td>0.938346</td>\n",
       "      <td>0.942848</td>\n",
       "      <td>0.934770</td>\n",
       "      <td>0.942390</td>\n",
       "      <td>0.937409</td>\n",
       "      <td>0.941930</td>\n",
       "      <td>0.280603</td>\n",
       "      <td>0.002433</td>\n",
       "      <td>0.004386</td>\n",
       "      <td>0.002285</td>\n",
       "    </tr>\n",
       "    <tr>\n",
       "      <th>1</th>\n",
       "      <td>0.738270</td>\n",
       "      <td>0.007523</td>\n",
       "      <td>0.945196</td>\n",
       "      <td>0.946943</td>\n",
       "      <td>0.001</td>\n",
       "      <td>{'C': 0.001}</td>\n",
       "      <td>8</td>\n",
       "      <td>0.943275</td>\n",
       "      <td>0.939977</td>\n",
       "      <td>0.951753</td>\n",
       "      <td>...</td>\n",
       "      <td>0.945150</td>\n",
       "      <td>0.948718</td>\n",
       "      <td>0.940888</td>\n",
       "      <td>0.948665</td>\n",
       "      <td>0.939150</td>\n",
       "      <td>0.947784</td>\n",
       "      <td>0.420302</td>\n",
       "      <td>0.006525</td>\n",
       "      <td>0.003812</td>\n",
       "      <td>0.002830</td>\n",
       "    </tr>\n",
       "    <tr>\n",
       "      <th>2</th>\n",
       "      <td>1.096690</td>\n",
       "      <td>0.006123</td>\n",
       "      <td>0.948356</td>\n",
       "      <td>0.951048</td>\n",
       "      <td>0.01</td>\n",
       "      <td>{'C': 0.01}</td>\n",
       "      <td>7</td>\n",
       "      <td>0.951294</td>\n",
       "      <td>0.947753</td>\n",
       "      <td>0.956957</td>\n",
       "      <td>...</td>\n",
       "      <td>0.948018</td>\n",
       "      <td>0.951134</td>\n",
       "      <td>0.943629</td>\n",
       "      <td>0.951042</td>\n",
       "      <td>0.942117</td>\n",
       "      <td>0.950416</td>\n",
       "      <td>0.689678</td>\n",
       "      <td>0.002188</td>\n",
       "      <td>0.004947</td>\n",
       "      <td>0.001259</td>\n",
       "    </tr>\n",
       "    <tr>\n",
       "      <th>3</th>\n",
       "      <td>1.255957</td>\n",
       "      <td>0.004825</td>\n",
       "      <td>0.948864</td>\n",
       "      <td>0.951773</td>\n",
       "      <td>0.1</td>\n",
       "      <td>{'C': 0.1}</td>\n",
       "      <td>3</td>\n",
       "      <td>0.953825</td>\n",
       "      <td>0.948503</td>\n",
       "      <td>0.954073</td>\n",
       "      <td>...</td>\n",
       "      <td>0.947940</td>\n",
       "      <td>0.951760</td>\n",
       "      <td>0.943715</td>\n",
       "      <td>0.951484</td>\n",
       "      <td>0.942735</td>\n",
       "      <td>0.950604</td>\n",
       "      <td>0.669489</td>\n",
       "      <td>0.002097</td>\n",
       "      <td>0.004191</td>\n",
       "      <td>0.001518</td>\n",
       "    </tr>\n",
       "    <tr>\n",
       "      <th>4</th>\n",
       "      <td>1.298706</td>\n",
       "      <td>0.005174</td>\n",
       "      <td>0.948871</td>\n",
       "      <td>0.951781</td>\n",
       "      <td>1</td>\n",
       "      <td>{'C': 1}</td>\n",
       "      <td>2</td>\n",
       "      <td>0.953277</td>\n",
       "      <td>0.948419</td>\n",
       "      <td>0.953883</td>\n",
       "      <td>...</td>\n",
       "      <td>0.947925</td>\n",
       "      <td>0.951816</td>\n",
       "      <td>0.943476</td>\n",
       "      <td>0.951424</td>\n",
       "      <td>0.942735</td>\n",
       "      <td>0.950657</td>\n",
       "      <td>0.725444</td>\n",
       "      <td>0.002298</td>\n",
       "      <td>0.004237</td>\n",
       "      <td>0.001543</td>\n",
       "    </tr>\n",
       "    <tr>\n",
       "      <th>5</th>\n",
       "      <td>1.301231</td>\n",
       "      <td>0.005741</td>\n",
       "      <td>0.948892</td>\n",
       "      <td>0.951810</td>\n",
       "      <td>10</td>\n",
       "      <td>{'C': 10}</td>\n",
       "      <td>1</td>\n",
       "      <td>0.953098</td>\n",
       "      <td>0.948763</td>\n",
       "      <td>0.953649</td>\n",
       "      <td>...</td>\n",
       "      <td>0.947845</td>\n",
       "      <td>0.951821</td>\n",
       "      <td>0.943476</td>\n",
       "      <td>0.951432</td>\n",
       "      <td>0.942656</td>\n",
       "      <td>0.950671</td>\n",
       "      <td>0.694604</td>\n",
       "      <td>0.002441</td>\n",
       "      <td>0.004199</td>\n",
       "      <td>0.001460</td>\n",
       "    </tr>\n",
       "    <tr>\n",
       "      <th>6</th>\n",
       "      <td>1.298898</td>\n",
       "      <td>0.004721</td>\n",
       "      <td>0.948830</td>\n",
       "      <td>0.951865</td>\n",
       "      <td>100</td>\n",
       "      <td>{'C': 100}</td>\n",
       "      <td>4</td>\n",
       "      <td>0.952481</td>\n",
       "      <td>0.949312</td>\n",
       "      <td>0.953649</td>\n",
       "      <td>...</td>\n",
       "      <td>0.947845</td>\n",
       "      <td>0.951821</td>\n",
       "      <td>0.943476</td>\n",
       "      <td>0.951424</td>\n",
       "      <td>0.942656</td>\n",
       "      <td>0.950678</td>\n",
       "      <td>0.659819</td>\n",
       "      <td>0.002045</td>\n",
       "      <td>0.004141</td>\n",
       "      <td>0.001351</td>\n",
       "    </tr>\n",
       "    <tr>\n",
       "      <th>7</th>\n",
       "      <td>1.294912</td>\n",
       "      <td>0.006524</td>\n",
       "      <td>0.948830</td>\n",
       "      <td>0.951865</td>\n",
       "      <td>1000</td>\n",
       "      <td>{'C': 1000}</td>\n",
       "      <td>4</td>\n",
       "      <td>0.952481</td>\n",
       "      <td>0.949312</td>\n",
       "      <td>0.953649</td>\n",
       "      <td>...</td>\n",
       "      <td>0.947845</td>\n",
       "      <td>0.951821</td>\n",
       "      <td>0.943476</td>\n",
       "      <td>0.951424</td>\n",
       "      <td>0.942656</td>\n",
       "      <td>0.950678</td>\n",
       "      <td>0.656567</td>\n",
       "      <td>0.002060</td>\n",
       "      <td>0.004141</td>\n",
       "      <td>0.001351</td>\n",
       "    </tr>\n",
       "    <tr>\n",
       "      <th>8</th>\n",
       "      <td>1.275710</td>\n",
       "      <td>0.006042</td>\n",
       "      <td>0.948830</td>\n",
       "      <td>0.951865</td>\n",
       "      <td>10000</td>\n",
       "      <td>{'C': 10000}</td>\n",
       "      <td>4</td>\n",
       "      <td>0.952481</td>\n",
       "      <td>0.949312</td>\n",
       "      <td>0.953649</td>\n",
       "      <td>...</td>\n",
       "      <td>0.947845</td>\n",
       "      <td>0.951821</td>\n",
       "      <td>0.943476</td>\n",
       "      <td>0.951424</td>\n",
       "      <td>0.942656</td>\n",
       "      <td>0.950678</td>\n",
       "      <td>0.630452</td>\n",
       "      <td>0.002245</td>\n",
       "      <td>0.004141</td>\n",
       "      <td>0.001351</td>\n",
       "    </tr>\n",
       "  </tbody>\n",
       "</table>\n",
       "<p>9 rows × 31 columns</p>\n",
       "</div>"
      ],
      "text/plain": [
       "   mean_fit_time  mean_score_time  mean_test_score  mean_train_score param_C  \\\n",
       "0       0.452241         0.005229         0.941373          0.941422  0.0001   \n",
       "1       0.738270         0.007523         0.945196          0.946943   0.001   \n",
       "2       1.096690         0.006123         0.948356          0.951048    0.01   \n",
       "3       1.255957         0.004825         0.948864          0.951773     0.1   \n",
       "4       1.298706         0.005174         0.948871          0.951781       1   \n",
       "5       1.301231         0.005741         0.948892          0.951810      10   \n",
       "6       1.298898         0.004721         0.948830          0.951865     100   \n",
       "7       1.294912         0.006524         0.948830          0.951865    1000   \n",
       "8       1.275710         0.006042         0.948830          0.951865   10000   \n",
       "\n",
       "          params  rank_test_score  split0_test_score  split0_train_score  \\\n",
       "0  {'C': 0.0001}                9           0.942708            0.935352   \n",
       "1   {'C': 0.001}                8           0.943275            0.939977   \n",
       "2    {'C': 0.01}                7           0.951294            0.947753   \n",
       "3     {'C': 0.1}                3           0.953825            0.948503   \n",
       "4       {'C': 1}                2           0.953277            0.948419   \n",
       "5      {'C': 10}                1           0.953098            0.948763   \n",
       "6     {'C': 100}                4           0.952481            0.949312   \n",
       "7    {'C': 1000}                4           0.952481            0.949312   \n",
       "8   {'C': 10000}                4           0.952481            0.949312   \n",
       "\n",
       "   split1_test_score       ...         split7_test_score  split7_train_score  \\\n",
       "0           0.950112       ...                  0.938346            0.942848   \n",
       "1           0.951753       ...                  0.945150            0.948718   \n",
       "2           0.956957       ...                  0.948018            0.951134   \n",
       "3           0.954073       ...                  0.947940            0.951760   \n",
       "4           0.953883       ...                  0.947925            0.951816   \n",
       "5           0.953649       ...                  0.947845            0.951821   \n",
       "6           0.953649       ...                  0.947845            0.951821   \n",
       "7           0.953649       ...                  0.947845            0.951821   \n",
       "8           0.953649       ...                  0.947845            0.951821   \n",
       "\n",
       "   split8_test_score  split8_train_score  split9_test_score  \\\n",
       "0           0.934770            0.942390           0.937409   \n",
       "1           0.940888            0.948665           0.939150   \n",
       "2           0.943629            0.951042           0.942117   \n",
       "3           0.943715            0.951484           0.942735   \n",
       "4           0.943476            0.951424           0.942735   \n",
       "5           0.943476            0.951432           0.942656   \n",
       "6           0.943476            0.951424           0.942656   \n",
       "7           0.943476            0.951424           0.942656   \n",
       "8           0.943476            0.951424           0.942656   \n",
       "\n",
       "   split9_train_score  std_fit_time  std_score_time  std_test_score  \\\n",
       "0            0.941930      0.280603        0.002433        0.004386   \n",
       "1            0.947784      0.420302        0.006525        0.003812   \n",
       "2            0.950416      0.689678        0.002188        0.004947   \n",
       "3            0.950604      0.669489        0.002097        0.004191   \n",
       "4            0.950657      0.725444        0.002298        0.004237   \n",
       "5            0.950671      0.694604        0.002441        0.004199   \n",
       "6            0.950678      0.659819        0.002045        0.004141   \n",
       "7            0.950678      0.656567        0.002060        0.004141   \n",
       "8            0.950678      0.630452        0.002245        0.004141   \n",
       "\n",
       "   std_train_score  \n",
       "0         0.002285  \n",
       "1         0.002830  \n",
       "2         0.001259  \n",
       "3         0.001518  \n",
       "4         0.001543  \n",
       "5         0.001460  \n",
       "6         0.001351  \n",
       "7         0.001351  \n",
       "8         0.001351  \n",
       "\n",
       "[9 rows x 31 columns]"
      ]
     },
     "execution_count": 62,
     "metadata": {
      "tags": []
     },
     "output_type": "execute_result"
    }
   ],
   "source": [
    "results=pd.DataFrame(model.cv_results_)# getting varoius cv_scores and train_scores various values of alpha given as parameter and storing it in a dataframe\n",
    "results#printing the dataframe"
   ]
  },
  {
   "cell_type": "code",
   "execution_count": 0,
   "metadata": {
    "colab": {
     "base_uri": "https://localhost:8080/",
     "height": 312
    },
    "colab_type": "code",
    "executionInfo": {
     "elapsed": 1444,
     "status": "ok",
     "timestamp": 1546376403715,
     "user": {
      "displayName": "mayank aggarwal",
      "photoUrl": "",
      "userId": "04107947634097457088"
     },
     "user_tz": -330
    },
    "id": "19Sfrfuv0yKn",
    "outputId": "ec0e5aa7-d4d5-4aed-a159-65db07bd570e"
   },
   "outputs": [
    {
     "name": "stdout",
     "output_type": "stream",
     "text": [
      "[5.862680547266585, 5.48035653053115, 5.164413401457802, 5.113619361717725, 5.112941643298896, 5.110790608753691, 5.116956440684584, 5.116956440684584, 5.116956440684584]\n"
     ]
    },
    {
     "data": {
      "text/plain": [
       "<matplotlib.legend.Legend at 0x7ff532201898>"
      ]
     },
     "execution_count": 63,
     "metadata": {
      "tags": []
     },
     "output_type": "execute_result"
    },
    {
     "data": {
      "image/png": "[encoded data removed]",
      "text/plain": [
       "<matplotlib.figure.Figure at 0x7ff532ca5b70>"
      ]
     },
     "metadata": {
      "tags": []
     },
     "output_type": "display_data"
    }
   ],
   "source": [
    "%matplotlib inline\n",
    "import matplotlib.pyplot as plt\n",
    "\n",
    "\n",
    "mean_test_score=list(results['mean_test_score'])#taking mean_test_score values of various alpha into a list\n",
    "mean_train_score=list(results['mean_train_score'])#taking mean_train_score values of varoius alpha into a list\n",
    "cv_error_list=[]\n",
    "train_error_list=[]\n",
    "for i  in mean_test_score:\n",
    "   i=1-i\n",
    "   i=i*100\n",
    "   cv_error_list.append(i)#appending the list with cv_error \n",
    "for i  in mean_train_score:\n",
    "   i=1-i\n",
    "   i=i*100\n",
    "   train_error_list.append(i)#appending  the list with train_error     \n",
    "    \n",
    "print(cv_error_list)\n",
    "C_values_in_10_power=[-4,-3,-2,-1,0,1,2,3,4]#list of alpha values in power of 10\n",
    "plt.plot(C_values_in_10_power,cv_error_list,label='cv_error')#plotting alpha with cv_error\n",
    "plt.plot(C_values_in_10_power,train_error_list,label='train_error')#plotting aplhawith train_error\n",
    "plt.xlabel('C value in  power of 10 ')\n",
    "plt.ylabel('cv error and train error')\n",
    "plt.legend(loc='best')\n"
   ]
  },
  {
   "cell_type": "markdown",
   "metadata": {
    "colab_type": "text",
    "id": "7BOpkgvi7gmK"
   },
   "source": [
    "#  From here,the best hyperparameter value is c=10 or alpha=0.1 #"
   ]
  },
  {
   "cell_type": "markdown",
   "metadata": {
    "colab_type": "text",
    "id": "iIPcvIHIN3Qq"
   },
   "source": [
    "# USING BEST HYPERPARAMETER VALUE ON TEST DATA AND PLOTTING THE CONFUSION MATRIX WITH HEATMAP #"
   ]
  },
  {
   "cell_type": "code",
   "execution_count": 0,
   "metadata": {
    "colab": {
     "base_uri": "https://localhost:8080/",
     "height": 501
    },
    "colab_type": "code",
    "executionInfo": {
     "elapsed": 2094,
     "status": "ok",
     "timestamp": 1546376637474,
     "user": {
      "displayName": "mayank aggarwal",
      "photoUrl": "",
      "userId": "04107947634097457088"
     },
     "user_tz": -330
    },
    "id": "2DLMaFSbvWcP",
    "outputId": "5400ac7c-ea54-4d0c-e38b-037ba62bf099"
   },
   "outputs": [
    {
     "name": "stdout",
     "output_type": "stream",
     "text": [
      "Accuracy on test set: 89.485%\n",
      "Precision on test set: 0.912\n",
      "Recall on test set: 0.974\n",
      "F1-Score on test set: 0.942\n",
      "Confusion Matrix of test set:\n",
      " [ [TN  FP]\n",
      " [FN TP] ]\n",
      "\n"
     ]
    },
    {
     "data": {
      "text/plain": [
       "<matplotlib.axes._subplots.AxesSubplot at 0x7ff531c45e48>"
      ]
     },
     "execution_count": 68,
     "metadata": {
      "tags": []
     },
     "output_type": "execute_result"
    },
    {
     "data": {
      "image/png": "[encoded data removed]",
      "text/plain": [
       "<matplotlib.figure.Figure at 0x7ff531bd40b8>"
      ]
     },
     "metadata": {
      "tags": []
     },
     "output_type": "display_data"
    }
   ],
   "source": [
    "#Testing Accuracy on Test data  \n",
    "import seaborn as sns #importing seaborn as sns\n",
    "from sklearn.metrics import *#importing varoius metrics from sklearn\n",
    "lr=LogisticRegression(C=10,penalty='l2',class_weight={1:.5,0:.5},n_jobs=-1)#building logistic regression model#building the model\n",
    "lr.fit(x_test_data,y_test)\n",
    "y_pred = lr.predict(x_test_data) \n",
    "print(\"Accuracy on test set: %0.3f%%\"%(accuracy_score(y_test, y_pred)*100))#printing accuracy\n",
    "print(\"Precision on test set: %0.3f\"%(precision_score(y_test, y_pred)))#printing precision score\n",
    "print(\"Recall on test set: %0.3f\"%(recall_score(y_test, y_pred))) #printing recall\n",
    "print(\"F1-Score on test set: %0.3f\"%(f1_score(y_test, y_pred))) \n",
    "print(\"Confusion Matrix of test set:\\n [ [TN  FP]\\n [FN TP] ]\\n\") \n",
    "df_cm = pd.DataFrame(confusion_matrix(y_test, y_pred), range(2),range(2)) #generating the heatmap for confusion matrix\n",
    "sns.set(font_scale=1.4)#for label size\n",
    "sns.heatmap(df_cm, annot=True,annot_kws={\"size\": 16}, fmt='g')\n"
   ]
  },
  {
   "cell_type": "markdown",
   "metadata": {
    "colab_type": "text",
    "id": "yN8gMC0FQ0Wg"
   },
   "source": [
    "# FROM THE ABOVE OBSERVATIONS ,IT IS FOUND THAT THE BEST HYPERPARAMETER IS FOUND AS APLHA=0.1  AND IT IS ALSO HAVING HIGH PRECISION,RECALL VALUE ON TEST DATA<u><i> <font>"
   ]
  },
  {
   "cell_type": "code",
   "execution_count": 0,
   "metadata": {
    "colab": {},
    "colab_type": "code",
    "collapsed": true,
    "id": "HfmdUQ-UNrpN"
   },
   "outputs": [],
   "source": [
    "#AVERAGE WIEGHTED WORD2VEC VECTORIZATION IS COMPLETED FOR LOGISTIC REGRESSION"
   ]
  },
  {
   "cell_type": "code",
   "execution_count": 0,
   "metadata": {
    "colab": {},
    "colab_type": "code",
    "collapsed": true,
    "id": "VwaVpm9JR-mv"
   },
   "outputs": [],
   "source": []
  }
 ],
 "metadata": {
  "colab": {
   "collapsed_sections": [],
   "name": "avg word2vec vectorization for logistic regression.ipynb",
   "provenance": [
    {
     "file_id": "1KqX7mYeKZOOJ69A9fLXA9pZFCVKwrI0V",
     "timestamp": 1546348951768
    }
   ],
   "version": "0.3.2"
  },
  "kernelspec": {
   "display_name": "Python 3",
   "language": "python",
   "name": "python3"
  },
  "language_info": {
   "codemirror_mode": {
    "name": "ipython",
    "version": 3
   },
   "file_extension": ".py",
   "mimetype": "text/x-python",
   "name": "python",
   "nbconvert_exporter": "python",
   "pygments_lexer": "ipython3",
   "version": "3.6.3"
  }
 },
 "nbformat": 4,
 "nbformat_minor": 1
}
