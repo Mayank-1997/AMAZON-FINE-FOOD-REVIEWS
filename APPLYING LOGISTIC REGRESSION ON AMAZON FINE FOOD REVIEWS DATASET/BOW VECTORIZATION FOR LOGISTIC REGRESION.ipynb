{
 "cells": [
  {
   "cell_type": "markdown",
   "metadata": {
    "colab_type": "text",
    "id": "yE_CEe9g5GJ5"
   },
   "source": [
    "# OBJECTIVE :#\n",
    "\n",
    "1.   <b>APPLYING LOGISTIC REGRESSION WITH BOW VECTORIZATION\n",
    " * PERFORMING PERTUBATION TEST TO CHECK WHETHER OUR DATA  FEATURES ARE COLLINER OR NOT AND PLOTTING THE RESULT\n",
    " *   FINDING THE BEST HYPERPARAMETER USING GRIDSEARCHCV WITH TRAIN DATA AND CROSS-VALIDATION DATA BY PLOTTING THE RESLUTS OF VAROIUS TRAIN DATA AND CROSS VALIDATION DATA\n",
    " * USING THE APROPRIATE VALUE OF HYPERPARAMETER ,TESTING ACCURACY ON TEST DATA\n",
    "    USING F1-SCORE\n",
    " * PLOTTING THE CONFUSION MATRIX TO GET THE  PRECISOIN ,RECALL VALUE WITH HELP OF HEATMAP\n",
    "  * PRINTING THE TOP 20 FEATURES FOR BOTH POSITIVE AND NEGATIVE WORDS\n",
    "  #\n",
    "\n",
    "\n"
   ]
  },
  {
   "cell_type": "code",
   "execution_count": 2,
   "metadata": {
    "colab": {},
    "colab_type": "code",
    "collapsed": true,
    "id": "Fluc2eJIGzB1"
   },
   "outputs": [],
   "source": [
    "from sklearn.model_selection import train_test_split          #importing the necessary libraries\n",
    "from sklearn.model_selection import RandomizedSearchCV\n",
    "from sklearn.datasets import *\n",
    "from sklearn import naive_bayes\n",
    "from sklearn.feature_extraction.text import CountVectorizer\n",
    "from sklearn.feature_extraction.text import TfidfVectorizer\n",
    "import numpy as np\n",
    "import pandas as pd\n",
    "from sklearn import *\n",
    "import warnings\n",
    "warnings.filterwarnings(\"ignore\")\n"
   ]
  },
  {
   "cell_type": "code",
   "execution_count": null,
   "metadata": {
    "colab": {
     "base_uri": "https://localhost:8080/",
     "height": 34
    },
    "colab_type": "code",
    "collapsed": true,
    "id": "-De_uLuV5BIh",
    "outputId": "6a256117-34d3-4370-beb5-ad852ee24c25"
   },
   "outputs": [],
   "source": []
  },
  {
   "cell_type": "code",
   "execution_count": 3,
   "metadata": {
    "colab": {},
    "colab_type": "code",
    "collapsed": true,
    "id": "ECeKKDS0G4J_"
   },
   "outputs": [],
   "source": [
    "final_processed_data=pd.read_csv(\"C:/Users/Mayank/Desktop/machine learning/appliedaicourse data/lecture 18  knn/final_new_data.csv\")#loading the preprocessed data  with 100k points into dataframe "
   ]
  },
  {
   "cell_type": "code",
   "execution_count": 4,
   "metadata": {
    "colab": {
     "base_uri": "https://localhost:8080/",
     "height": 52
    },
    "colab_type": "code",
    "id": "lyVHaHeoG6lp",
    "outputId": "4ddf78ca-8792-4778-ab93-5309e6568358"
   },
   "outputs": [
    {
     "name": "stdout",
     "output_type": "stream",
     "text": [
      "88521\n",
      "11479\n"
     ]
    }
   ],
   "source": [
    "# getting the counts of 0 and 1 in \"SCORE\" column to know whether it is unbalanced data or not\n",
    "count_of_1=0\n",
    "count_of_0=0\n",
    "for i in final_processed_data['Score']:\n",
    "   if i==1:\n",
    "    count_of_1+=1\n",
    "   else:\n",
    "    count_of_0+=1\n",
    "print(count_of_1)\n",
    "print(count_of_0)\n",
    "#it is an imbalanced dataset"
   ]
  },
  {
   "cell_type": "code",
   "execution_count": 5,
   "metadata": {
    "colab": {},
    "colab_type": "code",
    "collapsed": true,
    "id": "zXC7JSnTG9eK"
   },
   "outputs": [],
   "source": [
    "#spliiting the data into train and test data\n",
    "x_train,x_test,y_train,y_test=model_selection.train_test_split(final_processed_data['CleanedText'].values,final_processed_data['Score'].values,test_size=0.2,shuffle=False)"
   ]
  },
  {
   "cell_type": "code",
   "execution_count": 6,
   "metadata": {
    "colab": {
     "base_uri": "https://localhost:8080/",
     "height": 34
    },
    "colab_type": "code",
    "id": "h4N1lWyIHJDa",
    "outputId": "71f0eed3-f948-4b69-8352-5ce6b5c440e1"
   },
   "outputs": [
    {
     "name": "stdout",
     "output_type": "stream",
     "text": [
      "(80000, 7677)\n"
     ]
    }
   ],
   "source": [
    "vectorizer=CountVectorizer(min_df=10)#building the vertorizer with word counts equal and more then 2\n",
    "train_bow=vectorizer.fit_transform(x_train)#fitting the model on training data\n",
    "print(train_bow.shape)"
   ]
  },
  {
   "cell_type": "code",
   "execution_count": 7,
   "metadata": {
    "colab": {
     "base_uri": "https://localhost:8080/",
     "height": 34
    },
    "colab_type": "code",
    "id": "euxhGXSARuT8",
    "outputId": "7bd7a619-e786-45d1-bd6a-ae384916d540"
   },
   "outputs": [
    {
     "name": "stdout",
     "output_type": "stream",
     "text": [
      "(80000, 7677)\n"
     ]
    }
   ],
   "source": [
    "from sklearn.preprocessing import StandardScaler #standarizing the training  data  \n",
    "x_train_data=StandardScaler( with_mean=False).fit_transform(train_bow)\n",
    "print(x_train_data.shape)"
   ]
  },
  {
   "cell_type": "code",
   "execution_count": 8,
   "metadata": {
    "colab": {
     "base_uri": "https://localhost:8080/",
     "height": 52
    },
    "colab_type": "code",
    "id": "n6iGM6o-HLgv",
    "outputId": "c9e17afd-3bee-4712-9bb6-888aa5bb37dc"
   },
   "outputs": [
    {
     "name": "stdout",
     "output_type": "stream",
     "text": [
      "shape of x_test after bow vectorization  (20000, 7677)\n",
      "shape of x_test after standardization  (20000, 7677)\n"
     ]
    }
   ],
   "source": [
    "test_bow=vectorizer.transform(x_test)#fitting the bow model on test data\n",
    "print(\"shape of x_test after bow vectorization \",test_bow.shape)\n",
    "x_test_data=StandardScaler( with_mean=False).fit_transform(test_bow)#standarizing the test data\n",
    "print(\"shape of x_test after standardization \",x_test_data.shape)"
   ]
  },
  {
   "cell_type": "code",
   "execution_count": null,
   "metadata": {
    "colab": {},
    "colab_type": "code",
    "collapsed": true,
    "id": "1t9cych-W6dK"
   },
   "outputs": [],
   "source": []
  },
  {
   "cell_type": "code",
   "execution_count": 9,
   "metadata": {
    "colab": {},
    "colab_type": "code",
    "collapsed": true,
    "id": "chWOpjaYHQJ9"
   },
   "outputs": [],
   "source": [
    "#using time series split method for cross-validation score\n",
    "from sklearn.model_selection import TimeSeriesSplit\n",
    "tscv = TimeSeriesSplit(n_splits=10) \n",
    "from sklearn.linear_model import LogisticRegression\n",
    "from scipy.stats import uniform\n",
    "data=[10**-4,10**-3,10**-2,10**-1,10**0,10**1,10**2,10**3,10**4]#range of hyperparameter\n",
    "\n",
    "\n"
   ]
  },
  {
   "cell_type": "code",
   "execution_count": 10,
   "metadata": {
    "colab": {},
    "colab_type": "code",
    "collapsed": true,
    "id": "rG88j1YPCZA2"
   },
   "outputs": [],
   "source": [
    "lr=LogisticRegression(penalty='l2',class_weight={1:.5,0:.5})#building logistic regression model\n",
    "tuned_parameters=[{'C':data}]"
   ]
  },
  {
   "cell_type": "code",
   "execution_count": 10,
   "metadata": {
    "colab": {
     "base_uri": "https://localhost:8080/",
     "height": 52
    },
    "colab_type": "code",
    "id": "TiPOTRBoVW27",
    "outputId": "9c55c6a7-4a13-4991-dd62-2601c778afde"
   },
   "outputs": [
    {
     "name": "stdout",
     "output_type": "stream",
     "text": [
      "Wall time: 0 ns\n",
      "LogisticRegression(C=0.001, class_weight={1: 0.5, 0: 0.5}, dual=False,\n",
      "          fit_intercept=True, intercept_scaling=1, max_iter=100,\n",
      "          multi_class='ovr', n_jobs=1, penalty='l2', random_state=None,\n",
      "          solver='liblinear', tol=0.0001, verbose=0, warm_start=False)\n",
      "0.952504987808\n"
     ]
    }
   ],
   "source": [
    "#applying the model of logistic regression and using gridsearchcv to find the best hyper parameter\n",
    "%time\n",
    "from sklearn.model_selection import GridSearchCV\n",
    "model = GridSearchCV(lr, tuned_parameters, scoring = 'f1', cv=tscv,n_jobs=-1)#building the gridsearchcv model\n",
    "model.fit(x_train_data, y_train)#fiitting the training data\n",
    "\n",
    "print(model.best_estimator_)#printing the best_estimator\n",
    "print(model.score(x_test_data, y_test))#predicting  f1 score on test data"
   ]
  },
  {
   "cell_type": "code",
   "execution_count": 11,
   "metadata": {
    "colab": {},
    "colab_type": "code",
    "id": "tfX1tl8tFY1t"
   },
   "outputs": [
    {
     "name": "stdout",
     "output_type": "stream",
     "text": [
      "[ 3.55845076  2.26483878  1.98815951 ...,  7.38021825 -2.68550859\n",
      "  4.84653495]\n"
     ]
    }
   ],
   "source": [
    "lr=LogisticRegression(C=0.001,penalty='l2',class_weight={1:.5,0:.5},n_jobs=-1)#again building the model to find best hyperparameter\n",
    "lr.fit(x_train_data,y_train)#fitting the training data\n",
    "z=lr.decision_function(x_train_data)#checking the signed distance of a point from hyperplane\n",
    "print(z)#printing the signed distance"
   ]
  },
  {
   "cell_type": "code",
   "execution_count": 12,
   "metadata": {
    "colab": {},
    "colab_type": "code",
    "id": "O9878ojqngnG"
   },
   "outputs": [
    {
     "name": "stdout",
     "output_type": "stream",
     "text": [
      "(1, 7677)\n",
      "[[-0.00404381 -0.0055471  -0.00635504 ...,  0.0277215  -0.00865251\n",
      "   0.00910158]]\n"
     ]
    }
   ],
   "source": [
    "wieght_vector=lr.coef_#getting the weight vector\n",
    "print(wieght_vector.shape)#wieght vector shape\n",
    "print(wieght_vector[:20])"
   ]
  },
  {
   "cell_type": "markdown",
   "metadata": {},
   "source": [
    "# PERFORMING SPARSITY CHECK WITH L1 REGULARIZATION"
   ]
  },
  {
   "cell_type": "code",
   "execution_count": 11,
   "metadata": {
    "collapsed": true
   },
   "outputs": [],
   "source": [
    "first_20k_points=x_train_data[:20000] #first 20k points"
   ]
  },
  {
   "cell_type": "code",
   "execution_count": 12,
   "metadata": {
    "collapsed": true
   },
   "outputs": [],
   "source": [
    "#using time series split method for cross-validation score\n",
    "from sklearn.model_selection import TimeSeriesSplit\n",
    "tscv = TimeSeriesSplit(n_splits=10) \n",
    "from sklearn.linear_model import LogisticRegression\n",
    "from scipy.stats import uniform\n",
    "data=[10**-4,10**-3,10**-2,10**-1,10**0,10**1,10**2,10**3,10**4]#range of hyperparameter\n"
   ]
  },
  {
   "cell_type": "code",
   "execution_count": 13,
   "metadata": {
    "collapsed": true
   },
   "outputs": [],
   "source": [
    "lr=LogisticRegression(penalty='l1',class_weight={1:.5,0:.5})#building logistic regression model\n",
    "tuned_parameters=[{'C':data}]"
   ]
  },
  {
   "cell_type": "code",
   "execution_count": 14,
   "metadata": {},
   "outputs": [
    {
     "name": "stdout",
     "output_type": "stream",
     "text": [
      "Wall time: 0 ns\n",
      "LogisticRegression(C=0.1, class_weight={1: 0.5, 0: 0.5}, dual=False,\n",
      "          fit_intercept=True, intercept_scaling=1, max_iter=100,\n",
      "          multi_class='ovr', n_jobs=1, penalty='l1', random_state=None,\n",
      "          solver='liblinear', tol=0.0001, verbose=0, warm_start=False)\n"
     ]
    }
   ],
   "source": [
    "#applying the model of logistic regression and using gridsearchcv to find the best hyper parameter\n",
    "%time\n",
    "from sklearn.model_selection import GridSearchCV\n",
    "model = GridSearchCV(lr, tuned_parameters, scoring = 'f1', cv=tscv,n_jobs=-1)#building the gridsearchcv model\n",
    "model.fit(first_20k_points, y_train[:20000])#fiitting the training data\n",
    "\n",
    "print(model.best_estimator_)#printing the best_estimator\n"
   ]
  },
  {
   "cell_type": "code",
   "execution_count": 15,
   "metadata": {},
   "outputs": [
    {
     "data": {
      "text/plain": [
       "LogisticRegression(C=0.1, class_weight={1: 0.5, 0: 0.5}, dual=False,\n",
       "          fit_intercept=True, intercept_scaling=1, max_iter=100,\n",
       "          multi_class='ovr', n_jobs=-1, penalty='l1', random_state=None,\n",
       "          solver='liblinear', tol=0.0001, verbose=0, warm_start=False)"
      ]
     },
     "execution_count": 15,
     "metadata": {},
     "output_type": "execute_result"
    }
   ],
   "source": [
    "lr=LogisticRegression(C=0.1,penalty='l1',class_weight={1:.5,0:.5},n_jobs=-1)#again building the model to find best hyperparameter\n",
    "lr.fit(first_20k_points,y_train[:20000])#fitting the training data\n",
    "\n"
   ]
  },
  {
   "cell_type": "code",
   "execution_count": 16,
   "metadata": {},
   "outputs": [
    {
     "name": "stdout",
     "output_type": "stream",
     "text": [
      "(1, 7677)\n",
      "[[ 0.          0.00692072  0.         ...,  0.          0.          0.        ]]\n"
     ]
    }
   ],
   "source": [
    "wieght_vector=lr.coef_#getting the weight vector\n",
    "print(wieght_vector.shape)#wieght vector shape\n",
    "print(wieght_vector[:20])"
   ]
  },
  {
   "cell_type": "code",
   "execution_count": 17,
   "metadata": {},
   "outputs": [
    {
     "data": {
      "text/plain": [
       "1625"
      ]
     },
     "execution_count": 17,
     "metadata": {},
     "output_type": "execute_result"
    }
   ],
   "source": [
    "np.count_nonzero(wieght_vector)"
   ]
  },
  {
   "cell_type": "markdown",
   "metadata": {},
   "source": [
    "# THUS HERE ONLY 1625 FEATURES ARE NON_ZERO AND REST OF FEATURES WIEGHTS HAVE BECOME ZERO..SPARSITY CHECK IS POSITIVE"
   ]
  },
  {
   "cell_type": "markdown",
   "metadata": {},
   "source": [
    " ***************************************************************************************************"
   ]
  },
  {
   "cell_type": "markdown",
   "metadata": {
    "colab_type": "text",
    "id": "eBxTRYWtRsb7"
   },
   "source": [
    "#  PERTUBATION TEST : #\n",
    "    AIM:    TO CHECK FOR MULTI COLLINEARITY  OF FEATURES\n",
    "    STEPS\n",
    "  1.   GETTING THE WIEGHT VECTOR FROM  MODEL AND SAVING IT\n",
    "  2.   ADDING  NOISE TO THE  TRAINING DATA TO GET NEW  TRAINING  DATA\n",
    "  3. FITTING THE MODEL AGAIN ON NEW DATA\n",
    "  4. GETTING THE WIEGHT VECTOR FROM THIS MODEL\n",
    "  5.ADDING SMALL VALUE TO WEIGHT VECTOR OF BOTH TRAINNG  DATA TO REMOVE ANY ERROR\n",
    "  6. FINDING THE PERCENTAGE CHANGE VECTOR \n",
    "  7. GEETING HOW MANY GEATURE HAS CHANGED USING SOME THRESHOLD VALUE( HERE TAKING IT AS  100)\n",
    "  8. PLOTTING THE  QUANTILES WITH THIER PERCENTAGE WIGHT  VALUE TO CHECK IF COLLINEARITY EXITS OR NOT\n",
    "  \n",
    "  #  RESULT : TO KNOW WHETHER FEATURES ARE MULTICOLLINEAR OR NOT  #\n",
    "#   AND TO KNOW WHETHER MODEL IS RELIABLE OR NOT #\n",
    "    \n",
    "  "
   ]
  },
  {
   "cell_type": "code",
   "execution_count": 19,
   "metadata": {
    "colab": {},
    "colab_type": "code",
    "collapsed": true,
    "id": "KjO5al3OpBHN"
   },
   "outputs": [],
   "source": [
    "#here,we are adding noise to the data \n",
    "from scipy.stats import norm\n",
    "noise=norm.rvs(size=1)#noise\n",
    "x_train_data.data+=noise#adding noise\n"
   ]
  },
  {
   "cell_type": "code",
   "execution_count": 20,
   "metadata": {
    "colab": {},
    "colab_type": "code",
    "id": "qv9Pk61dIYzP"
   },
   "outputs": [
    {
     "name": "stdout",
     "output_type": "stream",
     "text": [
      "shape of our new train data  after adding noise is :  (80000, 7677)\n"
     ]
    }
   ],
   "source": [
    "print('shape of our new train data  after adding noise is : ',x_train_data.shape)#printing shape of new training data\n"
   ]
  },
  {
   "cell_type": "code",
   "execution_count": 21,
   "metadata": {
    "colab": {},
    "colab_type": "code",
    "collapsed": true,
    "id": "Q0VNtjb8R-7F"
   },
   "outputs": [],
   "source": [
    "#uilding the model using timeSeriesSplit\n",
    "from sklearn.model_selection import TimeSeriesSplit\n",
    "tscv = TimeSeriesSplit(n_splits=10) # 10 spilts cross validation\n",
    "from sklearn.linear_model import LogisticRegression\n",
    "from scipy.stats import uniform\n",
    "data=[10**-4,10**-3,10**-2,10**-1,10**0,10**1,10**2,10**3,10**4]#value range of hyper parameter for grid searchcv\n",
    "lr=LogisticRegression(penalty='l2',class_weight={1:.5,0:.5},n_jobs=-1)#building the model\n",
    "tuned_parameters=[{'C':data}]\n"
   ]
  },
  {
   "cell_type": "code",
   "execution_count": 22,
   "metadata": {
    "colab": {},
    "colab_type": "code",
    "id": "TyMjKFZOSdnz"
   },
   "outputs": [
    {
     "name": "stdout",
     "output_type": "stream",
     "text": [
      "Wall time: 0 ns\n",
      "best estimator of our new data is:  LogisticRegression(C=0.001, class_weight={1: 0.5, 0: 0.5}, dual=False,\n",
      "          fit_intercept=True, intercept_scaling=1, max_iter=100,\n",
      "          multi_class='ovr', n_jobs=-1, penalty='l2', random_state=None,\n",
      "          solver='liblinear', tol=0.0001, verbose=0, warm_start=False)\n"
     ]
    }
   ],
   "source": [
    "%time\n",
    "from sklearn.model_selection import GridSearchCV\n",
    "model = GridSearchCV(lr, tuned_parameters, scoring = 'f1', cv=tscv,n_jobs=-1)#building the gridsearchcv model\n",
    "model.fit(x_train_data, y_train)#fiitting the training data\n",
    "\n",
    "print('best estimator of our new data is: ',model.best_estimator_)#printing the best_estimator"
   ]
  },
  {
   "cell_type": "code",
   "execution_count": 23,
   "metadata": {
    "colab": {},
    "colab_type": "code",
    "id": "p6CYIA4sUAbZ"
   },
   "outputs": [
    {
     "name": "stdout",
     "output_type": "stream",
     "text": [
      "(1, 7677)\n"
     ]
    }
   ],
   "source": [
    "# again building the model for finding the wieght vector of the words from model\n",
    "lr=LogisticRegression(C=0.001,penalty='l2',class_weight={1:.5,0:.5},n_jobs=-1)#building the logistic regression model\n",
    "lr.fit(x_train_data,y_train)#fiting the training model\n",
    "new_wieght_vector=lr.coef_\n",
    "print(new_wieght_vector.shape)#printing shape of wieght vector"
   ]
  },
  {
   "cell_type": "code",
   "execution_count": 24,
   "metadata": {
    "colab": {},
    "colab_type": "code",
    "collapsed": true,
    "id": "kvT7CUuIVEIp"
   },
   "outputs": [],
   "source": [
    "percent_change_vec=np.ones((1,17204))#generating the percent_change_vetor to store the percentage change  values for each word"
   ]
  },
  {
   "cell_type": "code",
   "execution_count": 25,
   "metadata": {
    "colab": {},
    "colab_type": "code",
    "collapsed": true,
    "id": "h2gPDOfsBGPZ"
   },
   "outputs": [],
   "source": [
    "wieght_vector=wieght_vector+10**-6 #adding some values to wieght vector to avoid error while division\n",
    "      \n",
    "new_wieght_vector=new_wieght_vector+10**-6 #adding some values to wieght vector to avoid error while division\n",
    "      \n",
    "percent_change_vec=abs((wieght_vector-new_wieght_vector)/wieght_vector)*100#calculating the percentage change in the vector\n"
   ]
  },
  {
   "cell_type": "code",
   "execution_count": 26,
   "metadata": {
    "colab": {},
    "colab_type": "code",
    "id": "XUi-owIl7_k-"
   },
   "outputs": [
    {
     "name": "stdout",
     "output_type": "stream",
     "text": [
      "6124.13518164\n"
     ]
    }
   ],
   "source": [
    "x=(wieght_vector[0][2]-new_wieght_vector[0][2])/wieght_vector[0][2]#just checking randomly that every value is positve in percent_change_vector \n",
    "print(x)"
   ]
  },
  {
   "cell_type": "code",
   "execution_count": 27,
   "metadata": {
    "colab": {},
    "colab_type": "code",
    "id": "P4k621dtBJGk"
   },
   "outputs": [
    {
     "name": "stdout",
     "output_type": "stream",
     "text": [
      "shape of percent change wieght vector is (1, 7677)\n"
     ]
    }
   ],
   "source": [
    "print('shape of percent change wieght vector is', percent_change_vec.shape)#printing shape of percent_change_vector"
   ]
  },
  {
   "cell_type": "code",
   "execution_count": 28,
   "metadata": {
    "colab": {},
    "colab_type": "code",
    "collapsed": true,
    "id": "hi1oC_R8BNSJ"
   },
   "outputs": [],
   "source": [
    "per_change_df=pd.DataFrame(percent_change_vec.T,columns=['CHANGE'])#building a dataframe from wight vector"
   ]
  },
  {
   "cell_type": "code",
   "execution_count": 29,
   "metadata": {
    "colab": {},
    "colab_type": "code",
    "id": "yJ0gARInBXwH"
   },
   "outputs": [
    {
     "data": {
      "text/html": [
       "<div>\n",
       "<style>\n",
       "    .dataframe thead tr:only-child th {\n",
       "        text-align: right;\n",
       "    }\n",
       "\n",
       "    .dataframe thead th {\n",
       "        text-align: left;\n",
       "    }\n",
       "\n",
       "    .dataframe tbody tr th {\n",
       "        vertical-align: top;\n",
       "    }\n",
       "</style>\n",
       "<table border=\"1\" class=\"dataframe\">\n",
       "  <thead>\n",
       "    <tr style=\"text-align: right;\">\n",
       "      <th></th>\n",
       "      <th>CHANGE</th>\n",
       "    </tr>\n",
       "  </thead>\n",
       "  <tbody>\n",
       "    <tr>\n",
       "      <th>0</th>\n",
       "      <td>4.114007e+05</td>\n",
       "    </tr>\n",
       "    <tr>\n",
       "      <th>1</th>\n",
       "      <td>1.793059e+02</td>\n",
       "    </tr>\n",
       "    <tr>\n",
       "      <th>2</th>\n",
       "      <td>6.124135e+05</td>\n",
       "    </tr>\n",
       "    <tr>\n",
       "      <th>3</th>\n",
       "      <td>6.546318e+05</td>\n",
       "    </tr>\n",
       "    <tr>\n",
       "      <th>4</th>\n",
       "      <td>1.072202e+06</td>\n",
       "    </tr>\n",
       "  </tbody>\n",
       "</table>\n",
       "</div>"
      ],
      "text/plain": [
       "         CHANGE\n",
       "0  4.114007e+05\n",
       "1  1.793059e+02\n",
       "2  6.124135e+05\n",
       "3  6.546318e+05\n",
       "4  1.072202e+06"
      ]
     },
     "execution_count": 29,
     "metadata": {},
     "output_type": "execute_result"
    }
   ],
   "source": [
    "per_change_df.head()#getting first 5 values "
   ]
  },
  {
   "cell_type": "code",
   "execution_count": 30,
   "metadata": {
    "colab": {},
    "colab_type": "code",
    "id": "JthxyW_W2XAh"
   },
   "outputs": [
    {
     "data": {
      "text/html": [
       "<div>\n",
       "<style>\n",
       "    .dataframe thead tr:only-child th {\n",
       "        text-align: right;\n",
       "    }\n",
       "\n",
       "    .dataframe thead th {\n",
       "        text-align: left;\n",
       "    }\n",
       "\n",
       "    .dataframe tbody tr th {\n",
       "        vertical-align: top;\n",
       "    }\n",
       "</style>\n",
       "<table border=\"1\" class=\"dataframe\">\n",
       "  <thead>\n",
       "    <tr style=\"text-align: right;\">\n",
       "      <th></th>\n",
       "      <th>CHANGE</th>\n",
       "    </tr>\n",
       "  </thead>\n",
       "  <tbody>\n",
       "    <tr>\n",
       "      <th>count</th>\n",
       "      <td>7.677000e+03</td>\n",
       "    </tr>\n",
       "    <tr>\n",
       "      <th>mean</th>\n",
       "      <td>8.163010e+05</td>\n",
       "    </tr>\n",
       "    <tr>\n",
       "      <th>std</th>\n",
       "      <td>8.943429e+05</td>\n",
       "    </tr>\n",
       "    <tr>\n",
       "      <th>min</th>\n",
       "      <td>3.020788e-01</td>\n",
       "    </tr>\n",
       "    <tr>\n",
       "      <th>25%</th>\n",
       "      <td>6.567501e+04</td>\n",
       "    </tr>\n",
       "    <tr>\n",
       "      <th>50%</th>\n",
       "      <td>5.955684e+05</td>\n",
       "    </tr>\n",
       "    <tr>\n",
       "      <th>75%</th>\n",
       "      <td>1.224095e+06</td>\n",
       "    </tr>\n",
       "    <tr>\n",
       "      <th>max</th>\n",
       "      <td>1.119868e+07</td>\n",
       "    </tr>\n",
       "  </tbody>\n",
       "</table>\n",
       "</div>"
      ],
      "text/plain": [
       "             CHANGE\n",
       "count  7.677000e+03\n",
       "mean   8.163010e+05\n",
       "std    8.943429e+05\n",
       "min    3.020788e-01\n",
       "25%    6.567501e+04\n",
       "50%    5.955684e+05\n",
       "75%    1.224095e+06\n",
       "max    1.119868e+07"
      ]
     },
     "execution_count": 30,
     "metadata": {},
     "output_type": "execute_result"
    }
   ],
   "source": [
    "sorted_Df=per_change_df.sort_values('CHANGE',ascending=True,axis=0)#sorting the dataframe to calculate the quantiles values\n",
    "sorted_Df.describe()#describe function"
   ]
  },
  {
   "cell_type": "code",
   "execution_count": 31,
   "metadata": {
    "colab": {},
    "colab_type": "code",
    "id": "irRAKZ7-KT9v"
   },
   "outputs": [
    {
     "name": "stdout",
     "output_type": "stream",
     "text": [
      "sorted_Data 0.00th quantiles is   0.302\n",
      "sorted_Data 0.05th quantiles is  36.889\n",
      "sorted_Data 0.10th quantiles is  62.904\n",
      "sorted_Data 0.15th quantiles is 102.959\n",
      "sorted_Data 0.20th quantiles is 528.746\n",
      "sorted_Data 0.25th quantiles is 65675.014\n",
      "sorted_Data 0.30th quantiles is 180460.231\n",
      "sorted_Data 0.35th quantiles is 279055.538\n",
      "sorted_Data 0.40th quantiles is 378386.003\n",
      "sorted_Data 0.45th quantiles is 482543.855\n",
      "sorted_Data 0.50th quantiles is 595568.425\n",
      "sorted_Data 0.55th quantiles is 703414.610\n",
      "sorted_Data 0.60th quantiles is 811447.629\n",
      "sorted_Data 0.65th quantiles is 937978.515\n",
      "sorted_Data 0.70th quantiles is 1076080.247\n",
      "sorted_Data 0.75th quantiles is 1224094.822\n",
      "sorted_Data 0.80th quantiles is 1410348.577\n",
      "sorted_Data 0.85th quantiles is 1629372.501\n",
      "sorted_Data 0.90th quantiles is 1950475.872\n",
      "sorted_Data 0.95th quantiles is 2545719.779\n",
      "sorted_Data 1.00th quantiles is 11198680.280\n"
     ]
    }
   ],
   "source": [
    "quantiles=list( i/100 for i in range(0,101,5))#building the list of quantiles value \n",
    "for i in quantiles:\n",
    "  print('sorted_Data {:.2f}th quantiles is {:7.3f}'.format(i,sorted_Df['CHANGE'].quantile(i)))#printing the quantiles and thier coreesponding values\n",
    "\n",
    "      \n",
    "      \n",
    "    \n",
    "    "
   ]
  },
  {
   "cell_type": "code",
   "execution_count": 32,
   "metadata": {
    "colab": {},
    "colab_type": "code",
    "id": "gVBhyVa7MhfT"
   },
   "outputs": [
    {
     "name": "stdout",
     "output_type": "stream",
     "text": [
      "sorted_Data 0.95th quantiles is 2545719.779\n",
      "sorted_Data 0.96th quantiles is 2740753.344\n",
      "sorted_Data 0.97th quantiles is 2907890.640\n",
      "sorted_Data 0.98th quantiles is 3243208.220\n",
      "sorted_Data 0.99th quantiles is 3921466.304\n",
      "sorted_Data 1.00th quantiles is 11198680.280\n"
     ]
    }
   ],
   "source": [
    "quantiles=list( i/100 for i in range(95,101,1))#printing the last percentiles values because this region is showing abrupt change\n",
    "percent_change_list=[]#empty percent_change\n",
    "for i in quantiles:\n",
    "  print('sorted_Data {:.2f}th quantiles is {:7.3f}'.format(i,sorted_Df['CHANGE'].quantile(i)))\n",
    "  percent_change_list.append(sorted_Df['CHANGE'].quantile(i))#building the list"
   ]
  },
  {
   "cell_type": "code",
   "execution_count": 33,
   "metadata": {
    "colab": {},
    "colab_type": "code",
    "id": "wkB8LGD3F2ro"
   },
   "outputs": [
    {
     "name": "stdout",
     "output_type": "stream",
     "text": [
      "[2545719.778685397, 2740753.3441018667, 2907890.6404516995, 3243208.219537627, 3921466.30395979, 11198680.279986566]\n",
      "[2545719.78, 2740753.34, 2907890.64, 3243208.22, 3921466.3, 11198680.28]\n",
      "[0.95, 0.96, 0.97, 0.98, 0.99, 1.0]\n"
     ]
    }
   ],
   "source": [
    "print(percent_change_list)\n",
    "my_formatted_list = [ '%.2f' % elem for elem in percent_change_list ]#formatted list with string values in it\n",
    "my_formatted_list=[float(i) for i in my_formatted_list]#formatted list with flaot values in it\n",
    "print(my_formatted_list)#printing formatted list\n",
    "print(quantiles)#printing quantiles\n"
   ]
  },
  {
   "cell_type": "code",
   "execution_count": 34,
   "metadata": {
    "colab": {},
    "colab_type": "code",
    "id": "_pHGWehRbLX7"
   },
   "outputs": [
    {
     "data": {
      "text/plain": [
       "<matplotlib.legend.Legend at 0x15e71d05358>"
      ]
     },
     "execution_count": 34,
     "metadata": {},
     "output_type": "execute_result"
    },
    {
     "data": {
      "image/png": "[encoded data removed]",
      "text/plain": [
       "<matplotlib.figure.Figure at 0x15e71d05390>"
      ]
     },
     "metadata": {},
     "output_type": "display_data"
    }
   ],
   "source": [
    "%matplotlib inline\n",
    "import matplotlib.pyplot as plt\n",
    "plt.show() \n",
    "plt.xlabel('QUANTILES VALUES')\n",
    "plt.ylabel('PERCENTAGE VALUES FOR QUANTILES')\n",
    "plt.plot(quantiles,my_formatted_list,'r--' ,label='PERCENTAGE VALUES FOR QUANTILES')\n",
    "plt.legend(loc='best')"
   ]
  },
  {
   "cell_type": "markdown",
   "metadata": {
    "colab_type": "text",
    "id": "hkT2E5g5S0Jy"
   },
   "source": [
    "### FROM THE ABOVE VISUALIZATION , MAIN POINTS ARE:.###\n",
    "\n",
    "1.   THAT ONLY 1% OF FEATURES GOT AFFECTED AFTER ADDING NOISE TO THE DATA. \n",
    "2.    VERY LESS COLLINEARITY OF DATA IS PRESENT  ,BECAUSE MOST OF THE WEIGHT VECTORS VALUES  REMAINS SAME \n",
    "3.THERFORE, OUR MODEL IS RELIABLE AND WE CAN PROCEED FURTHER TO CHECK ACCURACY ON TEST DATA \n",
    "\n"
   ]
  },
  {
   "cell_type": "markdown",
   "metadata": {
    "colab_type": "text",
    "id": "_7wUeBTCZk5X"
   },
   "source": [
    "## CALCULATING  THE BEST HYPERPARAMETER ON TRAIN  DATA AND CALCULATING THE ACCURACY USING F1-SCORE AND PLOTTING IT  #"
   ]
  },
  {
   "cell_type": "code",
   "execution_count": 35,
   "metadata": {
    "colab": {},
    "colab_type": "code",
    "collapsed": true,
    "id": "BZF-q9eutTFs"
   },
   "outputs": [],
   "source": [
    "#using time series split method for cross-validation score\n",
    "from sklearn.model_selection import TimeSeriesSplit\n",
    "tscv = TimeSeriesSplit(n_splits=10) \n",
    "from sklearn.linear_model import LogisticRegression\n",
    "from scipy.stats import uniform\n",
    "data=[10**-4,10**-3,10**-2,10**-1,10**0,10**1,10**2,10**3,10**4]#range of hyperparameter"
   ]
  },
  {
   "cell_type": "code",
   "execution_count": 36,
   "metadata": {
    "colab": {},
    "colab_type": "code",
    "collapsed": true,
    "id": "4Q_AGHBgqkJA"
   },
   "outputs": [],
   "source": [
    "lr=LogisticRegression(penalty='l2',class_weight={1:.5,0:.5},n_jobs=-1)#building logistic regression model\n",
    "tuned_parameters=[{'C':data}]"
   ]
  },
  {
   "cell_type": "code",
   "execution_count": 37,
   "metadata": {
    "colab": {},
    "colab_type": "code",
    "id": "_9W2TEOxquDR"
   },
   "outputs": [
    {
     "data": {
      "text/plain": [
       "GridSearchCV(cv=TimeSeriesSplit(max_train_size=None, n_splits=10),\n",
       "       error_score='raise',\n",
       "       estimator=LogisticRegression(C=1.0, class_weight={1: 0.5, 0: 0.5}, dual=False,\n",
       "          fit_intercept=True, intercept_scaling=1, max_iter=100,\n",
       "          multi_class='ovr', n_jobs=-1, penalty='l2', random_state=None,\n",
       "          solver='liblinear', tol=0.0001, verbose=0, warm_start=False),\n",
       "       fit_params=None, iid=True, n_jobs=-1,\n",
       "       param_grid=[{'C': [0.0001, 0.001, 0.01, 0.1, 1, 10, 100, 1000, 10000]}],\n",
       "       pre_dispatch='2*n_jobs', refit=True, return_train_score='warn',\n",
       "       scoring='f1', verbose=0)"
      ]
     },
     "execution_count": 37,
     "metadata": {},
     "output_type": "execute_result"
    }
   ],
   "source": [
    "#applying the model of logistic regression and using gridsearchcv to find the best hyper parameter\n",
    "from sklearn.model_selection import GridSearchCV\n",
    "model = GridSearchCV(lr, tuned_parameters, scoring = 'f1', cv=tscv,n_jobs=-1)#building the gridsearchcv model\n",
    "model.fit(x_train_data, y_train)#fiitting the training data"
   ]
  },
  {
   "cell_type": "code",
   "execution_count": 38,
   "metadata": {
    "colab": {},
    "colab_type": "code",
    "id": "T7y5hJNi0B2C"
   },
   "outputs": [
    {
     "data": {
      "text/html": [
       "<div>\n",
       "<style>\n",
       "    .dataframe thead tr:only-child th {\n",
       "        text-align: right;\n",
       "    }\n",
       "\n",
       "    .dataframe thead th {\n",
       "        text-align: left;\n",
       "    }\n",
       "\n",
       "    .dataframe tbody tr th {\n",
       "        vertical-align: top;\n",
       "    }\n",
       "</style>\n",
       "<table border=\"1\" class=\"dataframe\">\n",
       "  <thead>\n",
       "    <tr style=\"text-align: right;\">\n",
       "      <th></th>\n",
       "      <th>mean_fit_time</th>\n",
       "      <th>mean_score_time</th>\n",
       "      <th>mean_test_score</th>\n",
       "      <th>mean_train_score</th>\n",
       "      <th>param_C</th>\n",
       "      <th>params</th>\n",
       "      <th>rank_test_score</th>\n",
       "      <th>split0_test_score</th>\n",
       "      <th>split0_train_score</th>\n",
       "      <th>split1_test_score</th>\n",
       "      <th>...</th>\n",
       "      <th>split7_test_score</th>\n",
       "      <th>split7_train_score</th>\n",
       "      <th>split8_test_score</th>\n",
       "      <th>split8_train_score</th>\n",
       "      <th>split9_test_score</th>\n",
       "      <th>split9_train_score</th>\n",
       "      <th>std_fit_time</th>\n",
       "      <th>std_score_time</th>\n",
       "      <th>std_test_score</th>\n",
       "      <th>std_train_score</th>\n",
       "    </tr>\n",
       "  </thead>\n",
       "  <tbody>\n",
       "    <tr>\n",
       "      <th>0</th>\n",
       "      <td>1.371375</td>\n",
       "      <td>0.009375</td>\n",
       "      <td>0.947138</td>\n",
       "      <td>0.957927</td>\n",
       "      <td>0.0001</td>\n",
       "      <td>{'C': 0.0001}</td>\n",
       "      <td>3</td>\n",
       "      <td>0.943679</td>\n",
       "      <td>0.951138</td>\n",
       "      <td>0.951348</td>\n",
       "      <td>...</td>\n",
       "      <td>0.947087</td>\n",
       "      <td>0.960685</td>\n",
       "      <td>0.947204</td>\n",
       "      <td>0.961764</td>\n",
       "      <td>0.947306</td>\n",
       "      <td>0.962298</td>\n",
       "      <td>0.915326</td>\n",
       "      <td>0.007654</td>\n",
       "      <td>0.003052</td>\n",
       "      <td>0.003410</td>\n",
       "    </tr>\n",
       "    <tr>\n",
       "      <th>1</th>\n",
       "      <td>2.322609</td>\n",
       "      <td>0.007812</td>\n",
       "      <td>0.956032</td>\n",
       "      <td>0.979998</td>\n",
       "      <td>0.001</td>\n",
       "      <td>{'C': 0.001}</td>\n",
       "      <td>1</td>\n",
       "      <td>0.949230</td>\n",
       "      <td>0.982080</td>\n",
       "      <td>0.958458</td>\n",
       "      <td>...</td>\n",
       "      <td>0.956785</td>\n",
       "      <td>0.979595</td>\n",
       "      <td>0.953855</td>\n",
       "      <td>0.979777</td>\n",
       "      <td>0.958485</td>\n",
       "      <td>0.979060</td>\n",
       "      <td>1.347613</td>\n",
       "      <td>0.007812</td>\n",
       "      <td>0.003460</td>\n",
       "      <td>0.000774</td>\n",
       "    </tr>\n",
       "    <tr>\n",
       "      <th>2</th>\n",
       "      <td>4.062930</td>\n",
       "      <td>0.001562</td>\n",
       "      <td>0.954233</td>\n",
       "      <td>0.991260</td>\n",
       "      <td>0.01</td>\n",
       "      <td>{'C': 0.01}</td>\n",
       "      <td>2</td>\n",
       "      <td>0.954569</td>\n",
       "      <td>0.996582</td>\n",
       "      <td>0.957323</td>\n",
       "      <td>...</td>\n",
       "      <td>0.952264</td>\n",
       "      <td>0.988897</td>\n",
       "      <td>0.949273</td>\n",
       "      <td>0.988257</td>\n",
       "      <td>0.952498</td>\n",
       "      <td>0.987060</td>\n",
       "      <td>2.303116</td>\n",
       "      <td>0.004687</td>\n",
       "      <td>0.003186</td>\n",
       "      <td>0.002811</td>\n",
       "    </tr>\n",
       "    <tr>\n",
       "      <th>3</th>\n",
       "      <td>7.760476</td>\n",
       "      <td>0.007813</td>\n",
       "      <td>0.946258</td>\n",
       "      <td>0.995863</td>\n",
       "      <td>0.1</td>\n",
       "      <td>{'C': 0.1}</td>\n",
       "      <td>4</td>\n",
       "      <td>0.955969</td>\n",
       "      <td>0.999611</td>\n",
       "      <td>0.949000</td>\n",
       "      <td>...</td>\n",
       "      <td>0.942686</td>\n",
       "      <td>0.993463</td>\n",
       "      <td>0.942195</td>\n",
       "      <td>0.992322</td>\n",
       "      <td>0.943229</td>\n",
       "      <td>0.990765</td>\n",
       "      <td>5.338173</td>\n",
       "      <td>0.007813</td>\n",
       "      <td>0.004786</td>\n",
       "      <td>0.002862</td>\n",
       "    </tr>\n",
       "    <tr>\n",
       "      <th>4</th>\n",
       "      <td>14.133621</td>\n",
       "      <td>0.007087</td>\n",
       "      <td>0.937421</td>\n",
       "      <td>0.997608</td>\n",
       "      <td>1</td>\n",
       "      <td>{'C': 1}</td>\n",
       "      <td>5</td>\n",
       "      <td>0.951520</td>\n",
       "      <td>1.000000</td>\n",
       "      <td>0.941962</td>\n",
       "      <td>...</td>\n",
       "      <td>0.933176</td>\n",
       "      <td>0.995794</td>\n",
       "      <td>0.932231</td>\n",
       "      <td>0.994546</td>\n",
       "      <td>0.941011</td>\n",
       "      <td>0.991688</td>\n",
       "      <td>9.638477</td>\n",
       "      <td>0.006497</td>\n",
       "      <td>0.006530</td>\n",
       "      <td>0.002659</td>\n",
       "    </tr>\n",
       "    <tr>\n",
       "      <th>5</th>\n",
       "      <td>19.005972</td>\n",
       "      <td>0.009486</td>\n",
       "      <td>0.932540</td>\n",
       "      <td>0.997968</td>\n",
       "      <td>10</td>\n",
       "      <td>{'C': 10}</td>\n",
       "      <td>6</td>\n",
       "      <td>0.946958</td>\n",
       "      <td>1.000000</td>\n",
       "      <td>0.936861</td>\n",
       "      <td>...</td>\n",
       "      <td>0.929044</td>\n",
       "      <td>0.996475</td>\n",
       "      <td>0.925472</td>\n",
       "      <td>0.995262</td>\n",
       "      <td>0.940762</td>\n",
       "      <td>0.991773</td>\n",
       "      <td>14.429250</td>\n",
       "      <td>0.005588</td>\n",
       "      <td>0.007443</td>\n",
       "      <td>0.002636</td>\n",
       "    </tr>\n",
       "    <tr>\n",
       "      <th>6</th>\n",
       "      <td>19.856343</td>\n",
       "      <td>0.007924</td>\n",
       "      <td>0.927830</td>\n",
       "      <td>0.998044</td>\n",
       "      <td>100</td>\n",
       "      <td>{'C': 100}</td>\n",
       "      <td>7</td>\n",
       "      <td>0.936848</td>\n",
       "      <td>1.000000</td>\n",
       "      <td>0.922755</td>\n",
       "      <td>...</td>\n",
       "      <td>0.930328</td>\n",
       "      <td>0.996389</td>\n",
       "      <td>0.924585</td>\n",
       "      <td>0.995407</td>\n",
       "      <td>0.940679</td>\n",
       "      <td>0.991742</td>\n",
       "      <td>13.631132</td>\n",
       "      <td>0.004942</td>\n",
       "      <td>0.006365</td>\n",
       "      <td>0.002637</td>\n",
       "    </tr>\n",
       "    <tr>\n",
       "      <th>7</th>\n",
       "      <td>26.530732</td>\n",
       "      <td>0.009849</td>\n",
       "      <td>0.925073</td>\n",
       "      <td>0.998082</td>\n",
       "      <td>1000</td>\n",
       "      <td>{'C': 1000}</td>\n",
       "      <td>8</td>\n",
       "      <td>0.929874</td>\n",
       "      <td>1.000000</td>\n",
       "      <td>0.907760</td>\n",
       "      <td>...</td>\n",
       "      <td>0.930013</td>\n",
       "      <td>0.996389</td>\n",
       "      <td>0.922078</td>\n",
       "      <td>0.995680</td>\n",
       "      <td>0.940154</td>\n",
       "      <td>0.992032</td>\n",
       "      <td>29.809774</td>\n",
       "      <td>0.005851</td>\n",
       "      <td>0.008258</td>\n",
       "      <td>0.002551</td>\n",
       "    </tr>\n",
       "    <tr>\n",
       "      <th>8</th>\n",
       "      <td>30.367647</td>\n",
       "      <td>0.004799</td>\n",
       "      <td>0.923287</td>\n",
       "      <td>0.998256</td>\n",
       "      <td>10000</td>\n",
       "      <td>{'C': 10000}</td>\n",
       "      <td>9</td>\n",
       "      <td>0.927953</td>\n",
       "      <td>1.000000</td>\n",
       "      <td>0.903832</td>\n",
       "      <td>...</td>\n",
       "      <td>0.919329</td>\n",
       "      <td>0.997717</td>\n",
       "      <td>0.921226</td>\n",
       "      <td>0.995689</td>\n",
       "      <td>0.940679</td>\n",
       "      <td>0.991688</td>\n",
       "      <td>29.880901</td>\n",
       "      <td>0.004307</td>\n",
       "      <td>0.008920</td>\n",
       "      <td>0.002598</td>\n",
       "    </tr>\n",
       "  </tbody>\n",
       "</table>\n",
       "<p>9 rows × 31 columns</p>\n",
       "</div>"
      ],
      "text/plain": [
       "   mean_fit_time  mean_score_time  mean_test_score  mean_train_score param_C  \\\n",
       "0       1.371375         0.009375         0.947138          0.957927  0.0001   \n",
       "1       2.322609         0.007812         0.956032          0.979998   0.001   \n",
       "2       4.062930         0.001562         0.954233          0.991260    0.01   \n",
       "3       7.760476         0.007813         0.946258          0.995863     0.1   \n",
       "4      14.133621         0.007087         0.937421          0.997608       1   \n",
       "5      19.005972         0.009486         0.932540          0.997968      10   \n",
       "6      19.856343         0.007924         0.927830          0.998044     100   \n",
       "7      26.530732         0.009849         0.925073          0.998082    1000   \n",
       "8      30.367647         0.004799         0.923287          0.998256   10000   \n",
       "\n",
       "          params  rank_test_score  split0_test_score  split0_train_score  \\\n",
       "0  {'C': 0.0001}                3           0.943679            0.951138   \n",
       "1   {'C': 0.001}                1           0.949230            0.982080   \n",
       "2    {'C': 0.01}                2           0.954569            0.996582   \n",
       "3     {'C': 0.1}                4           0.955969            0.999611   \n",
       "4       {'C': 1}                5           0.951520            1.000000   \n",
       "5      {'C': 10}                6           0.946958            1.000000   \n",
       "6     {'C': 100}                7           0.936848            1.000000   \n",
       "7    {'C': 1000}                8           0.929874            1.000000   \n",
       "8   {'C': 10000}                9           0.927953            1.000000   \n",
       "\n",
       "   split1_test_score       ...         split7_test_score  split7_train_score  \\\n",
       "0           0.951348       ...                  0.947087            0.960685   \n",
       "1           0.958458       ...                  0.956785            0.979595   \n",
       "2           0.957323       ...                  0.952264            0.988897   \n",
       "3           0.949000       ...                  0.942686            0.993463   \n",
       "4           0.941962       ...                  0.933176            0.995794   \n",
       "5           0.936861       ...                  0.929044            0.996475   \n",
       "6           0.922755       ...                  0.930328            0.996389   \n",
       "7           0.907760       ...                  0.930013            0.996389   \n",
       "8           0.903832       ...                  0.919329            0.997717   \n",
       "\n",
       "   split8_test_score  split8_train_score  split9_test_score  \\\n",
       "0           0.947204            0.961764           0.947306   \n",
       "1           0.953855            0.979777           0.958485   \n",
       "2           0.949273            0.988257           0.952498   \n",
       "3           0.942195            0.992322           0.943229   \n",
       "4           0.932231            0.994546           0.941011   \n",
       "5           0.925472            0.995262           0.940762   \n",
       "6           0.924585            0.995407           0.940679   \n",
       "7           0.922078            0.995680           0.940154   \n",
       "8           0.921226            0.995689           0.940679   \n",
       "\n",
       "   split9_train_score  std_fit_time  std_score_time  std_test_score  \\\n",
       "0            0.962298      0.915326        0.007654        0.003052   \n",
       "1            0.979060      1.347613        0.007812        0.003460   \n",
       "2            0.987060      2.303116        0.004687        0.003186   \n",
       "3            0.990765      5.338173        0.007813        0.004786   \n",
       "4            0.991688      9.638477        0.006497        0.006530   \n",
       "5            0.991773     14.429250        0.005588        0.007443   \n",
       "6            0.991742     13.631132        0.004942        0.006365   \n",
       "7            0.992032     29.809774        0.005851        0.008258   \n",
       "8            0.991688     29.880901        0.004307        0.008920   \n",
       "\n",
       "   std_train_score  \n",
       "0         0.003410  \n",
       "1         0.000774  \n",
       "2         0.002811  \n",
       "3         0.002862  \n",
       "4         0.002659  \n",
       "5         0.002636  \n",
       "6         0.002637  \n",
       "7         0.002551  \n",
       "8         0.002598  \n",
       "\n",
       "[9 rows x 31 columns]"
      ]
     },
     "execution_count": 38,
     "metadata": {},
     "output_type": "execute_result"
    }
   ],
   "source": [
    "results=pd.DataFrame(model.cv_results_)# getting varoius cv_scores and train_scores various values of alpha given as parameter and storing it in a dataframe\n",
    "results#printing the dataframe"
   ]
  },
  {
   "cell_type": "code",
   "execution_count": 39,
   "metadata": {
    "colab": {},
    "colab_type": "code",
    "id": "19Sfrfuv0yKn"
   },
   "outputs": [
    {
     "name": "stdout",
     "output_type": "stream",
     "text": [
      "[5.2862463174302876, 4.3968129672200318, 4.5767022275204798, 5.3741652913736448, 6.2578765329667103, 6.7460040101474439, 7.2170415778466062, 7.4926855714309131, 7.6713443582323571]\n"
     ]
    },
    {
     "data": {
      "text/plain": [
       "<matplotlib.legend.Legend at 0x15e72866b70>"
      ]
     },
     "execution_count": 39,
     "metadata": {},
     "output_type": "execute_result"
    },
    {
     "data": {
      "image/png": "[encoded data removed]",
      "text/plain": [
       "<matplotlib.figure.Figure at 0x15e71fb5f60>"
      ]
     },
     "metadata": {},
     "output_type": "display_data"
    }
   ],
   "source": [
    "%matplotlib inline\n",
    "import matplotlib.pyplot as plt\n",
    "\n",
    "\n",
    "mean_test_score=list(results['mean_test_score'])#taking mean_test_score values of various alpha into a list\n",
    "mean_train_score=list(results['mean_train_score'])#taking mean_train_score values of varoius alpha into a list\n",
    "cv_error_list=[]\n",
    "train_error_list=[]\n",
    "for i  in mean_test_score:\n",
    "   i=1-i\n",
    "   i=i*100\n",
    "   cv_error_list.append(i)#appending the list with cv_error \n",
    "for i  in mean_train_score:\n",
    "   i=1-i\n",
    "   i=i*100\n",
    "   train_error_list.append(i)#appending  the list with train_error     \n",
    "    \n",
    "print(cv_error_list)\n",
    "C_values_in_10_power=[-4,-3,-2,-1,0,1,2,3,4]#list of alpha values in power of 10\n",
    "plt.plot(C_values_in_10_power,cv_error_list,label='cv_error')#plotting alpha with cv_error\n",
    "plt.plot(C_values_in_10_power,train_error_list,label='train_error')#plotting aplhawith train_error\n",
    "plt.xlabel('C value in  power of 10 ')\n",
    "plt.ylabel('cv error and train error')\n",
    "plt.legend(loc='best')\n"
   ]
  },
  {
   "cell_type": "markdown",
   "metadata": {
    "colab_type": "text",
    "id": "7BOpkgvi7gmK"
   },
   "source": [
    "# <font color=DarkSlateGray>From here,the best hyperparameter value is c=0.001 or alpha=1000 <font>#"
   ]
  },
  {
   "cell_type": "markdown",
   "metadata": {
    "colab_type": "text",
    "id": "rqlZDby4HdbA"
   },
   "source": [
    "# NOW GETTING THE TOP 30 FEATURES WORDS FOR POSITIVE AND NEGATIVE WORDS#"
   ]
  },
  {
   "cell_type": "code",
   "execution_count": 40,
   "metadata": {
    "colab": {},
    "colab_type": "code",
    "id": "kfDwrnnM13r_"
   },
   "outputs": [
    {
     "data": {
      "text/plain": [
       "LogisticRegression(C=0.001, class_weight={1: 0.5, 0: 0.5}, dual=False,\n",
       "          fit_intercept=True, intercept_scaling=1, max_iter=100,\n",
       "          multi_class='ovr', n_jobs=-1, penalty='l2', random_state=None,\n",
       "          solver='liblinear', tol=0.0001, verbose=0, warm_start=False)"
      ]
     },
     "execution_count": 40,
     "metadata": {},
     "output_type": "execute_result"
    }
   ],
   "source": [
    "#building the model using timeSeriesSplit\n",
    "from sklearn.model_selection import TimeSeriesSplit\n",
    "tscv = TimeSeriesSplit(n_splits=10) # 10 spilts cross validation\n",
    "from sklearn.linear_model import LogisticRegression\n",
    "lr=LogisticRegression(C=0.001,penalty='l2',class_weight={1:.5,0:.5},n_jobs=-1)#building logistic regression model\n",
    "lr.fit(x_train_data,y_train)"
   ]
  },
  {
   "cell_type": "code",
   "execution_count": 41,
   "metadata": {
    "colab": {},
    "colab_type": "code",
    "id": "zDmgDoyt5ccO"
   },
   "outputs": [
    {
     "name": "stdout",
     "output_type": "stream",
     "text": [
      "[-0.00411401 -0.00549033 -0.00612414 ...,  0.02776355 -0.00862934\n",
      "  0.00916463]\n"
     ]
    }
   ],
   "source": [
    "z=lr.coef_[0]#getting the wieght of the vector \n",
    "print(z)#printing the wieght of the vector"
   ]
  },
  {
   "cell_type": "code",
   "execution_count": 42,
   "metadata": {
    "colab": {},
    "colab_type": "code",
    "id": "Vr6abL8nuPSa"
   },
   "outputs": [
    {
     "name": "stdout",
     "output_type": "stream",
     "text": [
      "shape of wieght vector is: (7677,)\n"
     ]
    }
   ],
   "source": [
    "a=z.argsort()\n",
    "print('shape of wieght vector is:',a.shape)\n",
    "top_30_positive=np.take(vectorizer.get_feature_names(),a[17174:])\n",
    "top_30_negative=np.take(vectorizer.get_feature_names(),a[:30])"
   ]
  },
  {
   "cell_type": "code",
   "execution_count": 43,
   "metadata": {
    "colab": {},
    "colab_type": "code",
    "id": "qWtmad7zv7ah"
   },
   "outputs": [
    {
     "name": "stdout",
     "output_type": "stream",
     "text": [
      "POSITVE WORDS\t|\tNEGATIVE WORDS\n"
     ]
    }
   ],
   "source": [
    "print(\"POSITVE WORDS\\t|\\tNEGATIVE WORDS\")\n",
    "for i,j in zip(top_30_positive,top_30_negative):\n",
    "    print( '{}\\t\\t|\\t\\t{}'.format(i,j) )#printing the postive and negative words"
   ]
  },
  {
   "cell_type": "markdown",
   "metadata": {
    "colab_type": "text",
    "id": "iIPcvIHIN3Qq"
   },
   "source": [
    "# <font color=MidnightBlue><u><i>USING BEST HYPERPARAMETER VALUE ON TEST DATA AND PLOTTING THE CONFUSION MATRIX WITH HEATMAP <u><i><font>#"
   ]
  },
  {
   "cell_type": "code",
   "execution_count": 44,
   "metadata": {
    "colab": {},
    "colab_type": "code",
    "id": "2DLMaFSbvWcP"
   },
   "outputs": [
    {
     "name": "stdout",
     "output_type": "stream",
     "text": [
      "Accuracy on test set: 96.320%\n",
      "Precision on test set: 0.961\n",
      "Recall on test set: 0.998\n",
      "F1-Score on test set: 0.979\n",
      "Confusion Matrix of test set:\n",
      " [ [TN  FP]\n",
      " [FN TP] ]\n",
      "\n"
     ]
    },
    {
     "data": {
      "text/plain": [
       "<matplotlib.axes._subplots.AxesSubplot at 0x15e77d4bef0>"
      ]
     },
     "execution_count": 44,
     "metadata": {},
     "output_type": "execute_result"
    },
    {
     "data": {
      "image/png": "[encoded data removed]",
      "text/plain": [
       "<matplotlib.figure.Figure at 0x15e7ca10b70>"
      ]
     },
     "metadata": {},
     "output_type": "display_data"
    }
   ],
   "source": [
    "#Testing Accuracy on Test data  \n",
    "import seaborn as sns #importing seaborn as sns\n",
    "from sklearn.metrics import *#importing varoius metrics from sklearn\n",
    "#building the model\n",
    "lr.fit(x_test_data,y_test)\n",
    "y_pred = lr.predict(x_test_data) \n",
    "print(\"Accuracy on test set: %0.3f%%\"%(accuracy_score(y_test, y_pred)*100))#printing accuracy\n",
    "print(\"Precision on test set: %0.3f\"%(precision_score(y_test, y_pred)))#printing precision score\n",
    "print(\"Recall on test set: %0.3f\"%(recall_score(y_test, y_pred))) #printing recall\n",
    "print(\"F1-Score on test set: %0.3f\"%(f1_score(y_test, y_pred))) \n",
    "print(\"Confusion Matrix of test set:\\n [ [TN  FP]\\n [FN TP] ]\\n\") \n",
    "df_cm = pd.DataFrame(confusion_matrix(y_test, y_pred), range(2),range(2)) #generating the heatmap for confusion matrix\n",
    "sns.set(font_scale=1.4)#for label size\n",
    "sns.heatmap(df_cm, annot=True,annot_kws={\"size\": 16}, fmt='g')\n"
   ]
  },
  {
   "cell_type": "markdown",
   "metadata": {
    "colab_type": "text",
    "id": "yN8gMC0FQ0Wg"
   },
   "source": [
    "# <font color=MediumOrchid><u><i>FROM THE ABOVE OBSERVATIONS ,IT IS FOUND THAT THE BEST HYPERPARAMETER IS FOUND AS APLHA=1000  AND IT IS ALSO HAVING HIGH PRECISION,RECALL VALUE ON TEST DATA<u><i> <font>"
   ]
  },
  {
   "cell_type": "code",
   "execution_count": 45,
   "metadata": {
    "colab": {},
    "colab_type": "code",
    "collapsed": true,
    "id": "HfmdUQ-UNrpN"
   },
   "outputs": [],
   "source": [
    "#BOW VECTORIZATION IS COMPLETED FOR LOGISTIC REGRESSION"
   ]
  },
  {
   "cell_type": "code",
   "execution_count": null,
   "metadata": {
    "colab": {},
    "colab_type": "code",
    "collapsed": true,
    "id": "VwaVpm9JR-mv"
   },
   "outputs": [],
   "source": []
  }
 ],
 "metadata": {
  "colab": {
   "collapsed_sections": [],
   "name": "lr.ipynb",
   "provenance": [],
   "version": "0.3.2"
  },
  "kernelspec": {
   "display_name": "Python 3",
   "language": "python",
   "name": "python3"
  },
  "language_info": {
   "codemirror_mode": {
    "name": "ipython",
    "version": 3
   },
   "file_extension": ".py",
   "mimetype": "text/x-python",
   "name": "python",
   "nbconvert_exporter": "python",
   "pygments_lexer": "ipython3",
   "version": "3.6.3"
  }
 },
 "nbformat": 4,
 "nbformat_minor": 1
}
