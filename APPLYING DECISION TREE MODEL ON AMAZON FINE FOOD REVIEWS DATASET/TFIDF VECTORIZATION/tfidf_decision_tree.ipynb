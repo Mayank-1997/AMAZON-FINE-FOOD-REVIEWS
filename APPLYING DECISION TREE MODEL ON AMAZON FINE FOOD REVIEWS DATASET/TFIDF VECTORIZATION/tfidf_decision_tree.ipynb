{
 "cells": [
  {
   "cell_type": "markdown",
   "metadata": {
    "colab_type": "text",
    "id": "JY8IF99xnx6g"
   },
   "source": [
    "# OBJECTIVE #\n",
    "\n",
    "1.   <b>APPLYING DECISION TREE WITH TFIDF VECTORIZATION\n",
    "\n",
    " *   FINDING THE BEST HYPERPARAMETER USING GRIDSEARCHCV WITH TRAIN DATA AND CROSS-VALIDATION DATA BY PLOTTING THE RESLUTS OF VAROIUS TRAIN DATA AND CROSS VALIDATION DATA\n",
    " * USING THE APROPRIATE VALUE OF HYPERPARAMETER ,TESTING ACCURACY ON TEST DATA\n",
    "    USING F1-SCORE\n",
    " * PLOTTING THE CONFUSION MATRIX TO GET THE  PRECISOIN ,RECALL VALUE WITH HELP OF HEATMAP\n",
    "  * PRINTING THE TOP 30 MOST IMPORTANT  FEATURES \n",
    "  <font>#\n"
   ]
  },
  {
   "cell_type": "code",
   "execution_count": 0,
   "metadata": {
    "colab": {},
    "colab_type": "code",
    "collapsed": true,
    "id": "sqKe2mXbEWul"
   },
   "outputs": [],
   "source": [
    "from sklearn.model_selection import train_test_split          #importing the necessary libraries\n",
    "from sklearn.model_selection import RandomizedSearchCV\n",
    "from sklearn.datasets import *\n",
    "from sklearn import naive_bayes\n",
    "from sklearn.feature_extraction.text import CountVectorizer\n",
    "from sklearn.feature_extraction.text import TfidfVectorizer\n",
    "import numpy as np\n",
    "import pandas as pd\n",
    "from sklearn import *\n",
    "import warnings\n",
    "warnings.filterwarnings(\"ignore\")\n",
    "from sklearn.tree import DecisionTreeClassifier\n"
   ]
  },
  {
   "cell_type": "code",
   "execution_count": 2,
   "metadata": {
    "colab": {
     "base_uri": "https://localhost:8080/",
     "height": 34
    },
    "colab_type": "code",
    "id": "I9Yx8XnxTAXi",
    "outputId": "0dfe1c47-aee4-4a03-eaf4-6e10be68ea04"
   },
   "outputs": [
    {
     "name": "stdout",
     "output_type": "stream",
     "text": [
      "Drive already mounted at /content/gdrive; to attempt to forcibly remount, call drive.mount(\"/content/gdrive\", force_remount=True).\n"
     ]
    }
   ],
   "source": [
    "from google.colab import drive\n",
    "drive.mount('/content/gdrive')#geeting the content from the google drive"
   ]
  },
  {
   "cell_type": "code",
   "execution_count": 0,
   "metadata": {
    "colab": {},
    "colab_type": "code",
    "collapsed": true,
    "id": "UB3PtZmvTK7W"
   },
   "outputs": [],
   "source": [
    "final_processed_data=pd.read_csv(\"gdrive/My Drive/final_new_data.csv\")#loading the preprocessed data  with 100k points into dataframe "
   ]
  },
  {
   "cell_type": "code",
   "execution_count": 4,
   "metadata": {
    "colab": {
     "base_uri": "https://localhost:8080/",
     "height": 52
    },
    "colab_type": "code",
    "id": "RENTF3KZTWSM",
    "outputId": "bcbd4e55-c5ed-4638-872c-a4c59ae0700b"
   },
   "outputs": [
    {
     "name": "stdout",
     "output_type": "stream",
     "text": [
      "88521\n",
      "11479\n"
     ]
    }
   ],
   "source": [
    "# getting the counts of 0 and 1 in \"SCORE\" column to know whether it is unbalanced data or not\n",
    "count_of_1=0\n",
    "count_of_0=0\n",
    "for i in final_processed_data['Score']:\n",
    "   if i==1:\n",
    "    count_of_1+=1\n",
    "   else:\n",
    "    count_of_0+=1\n",
    "print(count_of_1)\n",
    "print(count_of_0)\n",
    "#it is an imbalanced dataset"
   ]
  },
  {
   "cell_type": "code",
   "execution_count": 0,
   "metadata": {
    "colab": {},
    "colab_type": "code",
    "collapsed": true,
    "id": "icFP4UVuTY78"
   },
   "outputs": [],
   "source": [
    "#spliiting the data into train and test data\n",
    "x_train,x_test,y_train,y_test=model_selection.train_test_split(final_processed_data['CleanedText'].values,final_processed_data['Score'].values,test_size=0.2,shuffle=False)"
   ]
  },
  {
   "cell_type": "code",
   "execution_count": 6,
   "metadata": {
    "colab": {
     "base_uri": "https://localhost:8080/",
     "height": 34
    },
    "colab_type": "code",
    "id": "5FGfuNoMTjjz",
    "outputId": "d24bbca9-3954-4af7-bda4-c133e8b7ee23"
   },
   "outputs": [
    {
     "name": "stdout",
     "output_type": "stream",
     "text": [
      "(80000, 17204)\n"
     ]
    }
   ],
   "source": [
    "vectorizer=TfidfVectorizer(min_df=2)#building the vertorizer with word counts equal and more then 2\n",
    "train_tfidf=vectorizer.fit_transform(x_train)#fitting the model on training data\n",
    "print(train_tfidf.shape)\n"
   ]
  },
  {
   "cell_type": "code",
   "execution_count": 7,
   "metadata": {
    "colab": {
     "base_uri": "https://localhost:8080/",
     "height": 34
    },
    "colab_type": "code",
    "id": "X2_VGcIzTtAI",
    "outputId": "4de52bf3-d354-4cde-89da-12d2eee3d1bf"
   },
   "outputs": [
    {
     "name": "stdout",
     "output_type": "stream",
     "text": [
      "shape of x_test after bow vectorization  (20000, 17204)\n"
     ]
    }
   ],
   "source": [
    "test_tfidf=vectorizer.transform(x_test)#fitting the bow model on test data\n",
    "print(\"shape of x_test after bow vectorization \",test_tfidf.shape)"
   ]
  },
  {
   "cell_type": "code",
   "execution_count": 0,
   "metadata": {
    "colab": {},
    "colab_type": "code",
    "collapsed": true,
    "id": "DmWEEG_cWtuz"
   },
   "outputs": [],
   "source": [
    "#using time series split method for cross-validation score\n",
    "from sklearn.model_selection import TimeSeriesSplit\n",
    "tscv = TimeSeriesSplit(n_splits=5) \n",
    "from sklearn.tree import DecisionTreeClassifier\n",
    "\n",
    "\n"
   ]
  },
  {
   "cell_type": "code",
   "execution_count": 9,
   "metadata": {
    "colab": {
     "base_uri": "https://localhost:8080/",
     "height": 52
    },
    "colab_type": "code",
    "id": "V8R4xpKXttGd",
    "outputId": "7ea119f6-65e1-4384-96f8-6d6d5d83a3d6"
   },
   "outputs": [
    {
     "name": "stdout",
     "output_type": "stream",
     "text": [
      "CPU times: user 3 µs, sys: 0 ns, total: 3 µs\n",
      "Wall time: 6.44 µs\n"
     ]
    }
   ],
   "source": [
    "#biudling the model\n",
    "\n",
    "dt=DecisionTreeClassifier(criterion='gini', splitter='best',class_weight={1:.5,0:.5})\n",
    "tuned_parameters=[{'max_depth':[5,7,10,15,50],'min_samples_split':[5,25,50,100,500]}]\n",
    "#applying the model of decision tree and using gridsearchcv to find the best hyper parameter\n",
    "%time\n",
    "from sklearn.model_selection import GridSearchCV\n",
    "model = GridSearchCV(dt, tuned_parameters, scoring = 'f1', cv=tscv,n_jobs=-1)#building the gridsearchcv model\n"
   ]
  },
  {
   "cell_type": "code",
   "execution_count": 10,
   "metadata": {
    "colab": {
     "base_uri": "https://localhost:8080/",
     "height": 265
    },
    "colab_type": "code",
    "id": "LQSkmNBhttBP",
    "outputId": "e9bbe407-1ab4-4430-8247-4a17342b24e0"
   },
   "outputs": [
    {
     "name": "stdout",
     "output_type": "stream",
     "text": [
      "CPU times: user 7.53 s, sys: 193 ms, total: 7.72 s\n",
      "Wall time: 11min 16s\n"
     ]
    },
    {
     "data": {
      "text/plain": [
       "GridSearchCV(cv=TimeSeriesSplit(max_train_size=None, n_splits=5),\n",
       "       error_score='raise-deprecating',\n",
       "       estimator=DecisionTreeClassifier(class_weight={1: 0.5, 0: 0.5}, criterion='gini',\n",
       "            max_depth=None, max_features=None, max_leaf_nodes=None,\n",
       "            min_impurity_decrease=0.0, min_impurity_split=None,\n",
       "            min_samples_leaf=1, min_samples_split=2,\n",
       "            min_weight_fraction_leaf=0.0, presort=False, random_state=None,\n",
       "            splitter='best'),\n",
       "       fit_params=None, iid='warn', n_jobs=-1,\n",
       "       param_grid=[{'max_depth': [5, 7, 10, 15, 50], 'min_samples_split': [5, 25, 50, 100, 500]}],\n",
       "       pre_dispatch='2*n_jobs', refit=True, return_train_score='warn',\n",
       "       scoring='f1', verbose=0)"
      ]
     },
     "execution_count": 10,
     "metadata": {
      "tags": []
     },
     "output_type": "execute_result"
    }
   ],
   "source": [
    "%%time\n",
    "model.fit(train_tfidf, y_train)#fiitting the training data\n"
   ]
  },
  {
   "cell_type": "code",
   "execution_count": 11,
   "metadata": {
    "colab": {
     "base_uri": "https://localhost:8080/",
     "height": 123
    },
    "colab_type": "code",
    "id": "ipG2NEBJts5u",
    "outputId": "dab0f128-8686-48d4-c759-961637984112"
   },
   "outputs": [
    {
     "name": "stdout",
     "output_type": "stream",
     "text": [
      "DecisionTreeClassifier(class_weight={1: 0.5, 0: 0.5}, criterion='gini',\n",
      "            max_depth=10, max_features=None, max_leaf_nodes=None,\n",
      "            min_impurity_decrease=0.0, min_impurity_split=None,\n",
      "            min_samples_leaf=1, min_samples_split=25,\n",
      "            min_weight_fraction_leaf=0.0, presort=False, random_state=None,\n",
      "            splitter='best')\n"
     ]
    }
   ],
   "source": [
    "print(model.best_estimator_)#printing the best_estimator"
   ]
  },
  {
   "cell_type": "code",
   "execution_count": 12,
   "metadata": {
    "colab": {
     "base_uri": "https://localhost:8080/",
     "height": 1680
    },
    "colab_type": "code",
    "id": "3GKk22mGtsvt",
    "outputId": "98b1c343-a741-4a8b-d989-045f3611ed24"
   },
   "outputs": [
    {
     "data": {
      "text/html": [
       "<div>\n",
       "<style scoped>\n",
       "    .dataframe tbody tr th:only-of-type {\n",
       "        vertical-align: middle;\n",
       "    }\n",
       "\n",
       "    .dataframe tbody tr th {\n",
       "        vertical-align: top;\n",
       "    }\n",
       "\n",
       "    .dataframe thead th {\n",
       "        text-align: right;\n",
       "    }\n",
       "</style>\n",
       "<table border=\"1\" class=\"dataframe\">\n",
       "  <thead>\n",
       "    <tr style=\"text-align: right;\">\n",
       "      <th></th>\n",
       "      <th>mean_fit_time</th>\n",
       "      <th>mean_score_time</th>\n",
       "      <th>mean_test_score</th>\n",
       "      <th>mean_train_score</th>\n",
       "      <th>param_max_depth</th>\n",
       "      <th>param_min_samples_split</th>\n",
       "      <th>params</th>\n",
       "      <th>rank_test_score</th>\n",
       "      <th>split0_test_score</th>\n",
       "      <th>split0_train_score</th>\n",
       "      <th>...</th>\n",
       "      <th>split2_test_score</th>\n",
       "      <th>split2_train_score</th>\n",
       "      <th>split3_test_score</th>\n",
       "      <th>split3_train_score</th>\n",
       "      <th>split4_test_score</th>\n",
       "      <th>split4_train_score</th>\n",
       "      <th>std_fit_time</th>\n",
       "      <th>std_score_time</th>\n",
       "      <th>std_test_score</th>\n",
       "      <th>std_train_score</th>\n",
       "    </tr>\n",
       "  </thead>\n",
       "  <tbody>\n",
       "    <tr>\n",
       "      <th>0</th>\n",
       "      <td>3.717103</td>\n",
       "      <td>0.049752</td>\n",
       "      <td>0.941827</td>\n",
       "      <td>0.946548</td>\n",
       "      <td>5</td>\n",
       "      <td>5</td>\n",
       "      <td>{'max_depth': 5, 'min_samples_split': 5}</td>\n",
       "      <td>11</td>\n",
       "      <td>0.944819</td>\n",
       "      <td>0.945960</td>\n",
       "      <td>...</td>\n",
       "      <td>0.944017</td>\n",
       "      <td>0.946057</td>\n",
       "      <td>0.940239</td>\n",
       "      <td>0.945748</td>\n",
       "      <td>0.939157</td>\n",
       "      <td>0.946072</td>\n",
       "      <td>1.981083</td>\n",
       "      <td>0.003220</td>\n",
       "      <td>0.002202</td>\n",
       "      <td>0.001182</td>\n",
       "    </tr>\n",
       "    <tr>\n",
       "      <th>1</th>\n",
       "      <td>3.880105</td>\n",
       "      <td>0.050026</td>\n",
       "      <td>0.941762</td>\n",
       "      <td>0.946510</td>\n",
       "      <td>5</td>\n",
       "      <td>25</td>\n",
       "      <td>{'max_depth': 5, 'min_samples_split': 25}</td>\n",
       "      <td>14</td>\n",
       "      <td>0.944658</td>\n",
       "      <td>0.945875</td>\n",
       "      <td>...</td>\n",
       "      <td>0.943860</td>\n",
       "      <td>0.946005</td>\n",
       "      <td>0.940201</td>\n",
       "      <td>0.945720</td>\n",
       "      <td>0.939033</td>\n",
       "      <td>0.946047</td>\n",
       "      <td>2.170351</td>\n",
       "      <td>0.003667</td>\n",
       "      <td>0.002153</td>\n",
       "      <td>0.001201</td>\n",
       "    </tr>\n",
       "    <tr>\n",
       "      <th>2</th>\n",
       "      <td>4.041946</td>\n",
       "      <td>0.045297</td>\n",
       "      <td>0.941781</td>\n",
       "      <td>0.946444</td>\n",
       "      <td>5</td>\n",
       "      <td>50</td>\n",
       "      <td>{'max_depth': 5, 'min_samples_split': 50}</td>\n",
       "      <td>13</td>\n",
       "      <td>0.944616</td>\n",
       "      <td>0.945713</td>\n",
       "      <td>...</td>\n",
       "      <td>0.943903</td>\n",
       "      <td>0.946005</td>\n",
       "      <td>0.940239</td>\n",
       "      <td>0.945672</td>\n",
       "      <td>0.939033</td>\n",
       "      <td>0.945932</td>\n",
       "      <td>2.218418</td>\n",
       "      <td>0.002028</td>\n",
       "      <td>0.002140</td>\n",
       "      <td>0.001234</td>\n",
       "    </tr>\n",
       "    <tr>\n",
       "      <th>3</th>\n",
       "      <td>3.664768</td>\n",
       "      <td>0.047388</td>\n",
       "      <td>0.941798</td>\n",
       "      <td>0.946302</td>\n",
       "      <td>5</td>\n",
       "      <td>100</td>\n",
       "      <td>{'max_depth': 5, 'min_samples_split': 100}</td>\n",
       "      <td>12</td>\n",
       "      <td>0.944750</td>\n",
       "      <td>0.945368</td>\n",
       "      <td>...</td>\n",
       "      <td>0.943979</td>\n",
       "      <td>0.945897</td>\n",
       "      <td>0.940158</td>\n",
       "      <td>0.945672</td>\n",
       "      <td>0.939033</td>\n",
       "      <td>0.945932</td>\n",
       "      <td>1.927706</td>\n",
       "      <td>0.004060</td>\n",
       "      <td>0.002206</td>\n",
       "      <td>0.001186</td>\n",
       "    </tr>\n",
       "    <tr>\n",
       "      <th>4</th>\n",
       "      <td>3.590582</td>\n",
       "      <td>0.047712</td>\n",
       "      <td>0.942471</td>\n",
       "      <td>0.945038</td>\n",
       "      <td>5</td>\n",
       "      <td>500</td>\n",
       "      <td>{'max_depth': 5, 'min_samples_split': 500}</td>\n",
       "      <td>7</td>\n",
       "      <td>0.947985</td>\n",
       "      <td>0.943392</td>\n",
       "      <td>...</td>\n",
       "      <td>0.943539</td>\n",
       "      <td>0.945058</td>\n",
       "      <td>0.940248</td>\n",
       "      <td>0.944535</td>\n",
       "      <td>0.939442</td>\n",
       "      <td>0.944947</td>\n",
       "      <td>1.972160</td>\n",
       "      <td>0.003066</td>\n",
       "      <td>0.003080</td>\n",
       "      <td>0.001257</td>\n",
       "    </tr>\n",
       "    <tr>\n",
       "      <th>5</th>\n",
       "      <td>5.138468</td>\n",
       "      <td>0.051349</td>\n",
       "      <td>0.941456</td>\n",
       "      <td>0.949036</td>\n",
       "      <td>7</td>\n",
       "      <td>5</td>\n",
       "      <td>{'max_depth': 7, 'min_samples_split': 5}</td>\n",
       "      <td>19</td>\n",
       "      <td>0.944598</td>\n",
       "      <td>0.949550</td>\n",
       "      <td>...</td>\n",
       "      <td>0.944303</td>\n",
       "      <td>0.948187</td>\n",
       "      <td>0.940442</td>\n",
       "      <td>0.948268</td>\n",
       "      <td>0.937267</td>\n",
       "      <td>0.948455</td>\n",
       "      <td>2.860290</td>\n",
       "      <td>0.005422</td>\n",
       "      <td>0.002727</td>\n",
       "      <td>0.000975</td>\n",
       "    </tr>\n",
       "    <tr>\n",
       "      <th>6</th>\n",
       "      <td>5.104313</td>\n",
       "      <td>0.048833</td>\n",
       "      <td>0.941458</td>\n",
       "      <td>0.948932</td>\n",
       "      <td>7</td>\n",
       "      <td>25</td>\n",
       "      <td>{'max_depth': 7, 'min_samples_split': 25}</td>\n",
       "      <td>18</td>\n",
       "      <td>0.944556</td>\n",
       "      <td>0.949465</td>\n",
       "      <td>...</td>\n",
       "      <td>0.944588</td>\n",
       "      <td>0.948040</td>\n",
       "      <td>0.940485</td>\n",
       "      <td>0.948174</td>\n",
       "      <td>0.936992</td>\n",
       "      <td>0.948381</td>\n",
       "      <td>2.808465</td>\n",
       "      <td>0.005541</td>\n",
       "      <td>0.002860</td>\n",
       "      <td>0.000975</td>\n",
       "    </tr>\n",
       "    <tr>\n",
       "      <th>7</th>\n",
       "      <td>4.974762</td>\n",
       "      <td>0.045080</td>\n",
       "      <td>0.941550</td>\n",
       "      <td>0.948790</td>\n",
       "      <td>7</td>\n",
       "      <td>50</td>\n",
       "      <td>{'max_depth': 7, 'min_samples_split': 50}</td>\n",
       "      <td>16</td>\n",
       "      <td>0.944708</td>\n",
       "      <td>0.949110</td>\n",
       "      <td>...</td>\n",
       "      <td>0.944716</td>\n",
       "      <td>0.948041</td>\n",
       "      <td>0.940528</td>\n",
       "      <td>0.948068</td>\n",
       "      <td>0.936997</td>\n",
       "      <td>0.948173</td>\n",
       "      <td>2.693570</td>\n",
       "      <td>0.003144</td>\n",
       "      <td>0.002909</td>\n",
       "      <td>0.000968</td>\n",
       "    </tr>\n",
       "    <tr>\n",
       "      <th>8</th>\n",
       "      <td>4.956825</td>\n",
       "      <td>0.046148</td>\n",
       "      <td>0.941510</td>\n",
       "      <td>0.948440</td>\n",
       "      <td>7</td>\n",
       "      <td>100</td>\n",
       "      <td>{'max_depth': 7, 'min_samples_split': 100}</td>\n",
       "      <td>17</td>\n",
       "      <td>0.944652</td>\n",
       "      <td>0.948684</td>\n",
       "      <td>...</td>\n",
       "      <td>0.944162</td>\n",
       "      <td>0.947760</td>\n",
       "      <td>0.940619</td>\n",
       "      <td>0.948030</td>\n",
       "      <td>0.937212</td>\n",
       "      <td>0.947771</td>\n",
       "      <td>2.732653</td>\n",
       "      <td>0.003896</td>\n",
       "      <td>0.002703</td>\n",
       "      <td>0.000829</td>\n",
       "    </tr>\n",
       "    <tr>\n",
       "      <th>9</th>\n",
       "      <td>5.319208</td>\n",
       "      <td>0.057799</td>\n",
       "      <td>0.941709</td>\n",
       "      <td>0.946268</td>\n",
       "      <td>7</td>\n",
       "      <td>500</td>\n",
       "      <td>{'max_depth': 7, 'min_samples_split': 500}</td>\n",
       "      <td>15</td>\n",
       "      <td>0.947143</td>\n",
       "      <td>0.945196</td>\n",
       "      <td>...</td>\n",
       "      <td>0.943066</td>\n",
       "      <td>0.946428</td>\n",
       "      <td>0.939632</td>\n",
       "      <td>0.945977</td>\n",
       "      <td>0.937700</td>\n",
       "      <td>0.946409</td>\n",
       "      <td>3.174555</td>\n",
       "      <td>0.018247</td>\n",
       "      <td>0.003233</td>\n",
       "      <td>0.000695</td>\n",
       "    </tr>\n",
       "    <tr>\n",
       "      <th>10</th>\n",
       "      <td>7.272699</td>\n",
       "      <td>0.045531</td>\n",
       "      <td>0.942963</td>\n",
       "      <td>0.953337</td>\n",
       "      <td>10</td>\n",
       "      <td>5</td>\n",
       "      <td>{'max_depth': 10, 'min_samples_split': 5}</td>\n",
       "      <td>2</td>\n",
       "      <td>0.947940</td>\n",
       "      <td>0.954743</td>\n",
       "      <td>...</td>\n",
       "      <td>0.944436</td>\n",
       "      <td>0.952445</td>\n",
       "      <td>0.941653</td>\n",
       "      <td>0.952584</td>\n",
       "      <td>0.940214</td>\n",
       "      <td>0.952071</td>\n",
       "      <td>3.819263</td>\n",
       "      <td>0.006207</td>\n",
       "      <td>0.002896</td>\n",
       "      <td>0.001200</td>\n",
       "    </tr>\n",
       "    <tr>\n",
       "      <th>11</th>\n",
       "      <td>7.451539</td>\n",
       "      <td>0.049989</td>\n",
       "      <td>0.943004</td>\n",
       "      <td>0.953036</td>\n",
       "      <td>10</td>\n",
       "      <td>25</td>\n",
       "      <td>{'max_depth': 10, 'min_samples_split': 25}</td>\n",
       "      <td>1</td>\n",
       "      <td>0.948108</td>\n",
       "      <td>0.954365</td>\n",
       "      <td>...</td>\n",
       "      <td>0.944186</td>\n",
       "      <td>0.952271</td>\n",
       "      <td>0.941662</td>\n",
       "      <td>0.952359</td>\n",
       "      <td>0.940434</td>\n",
       "      <td>0.951833</td>\n",
       "      <td>4.481861</td>\n",
       "      <td>0.008936</td>\n",
       "      <td>0.002881</td>\n",
       "      <td>0.001094</td>\n",
       "    </tr>\n",
       "    <tr>\n",
       "      <th>12</th>\n",
       "      <td>11.148507</td>\n",
       "      <td>0.066126</td>\n",
       "      <td>0.942957</td>\n",
       "      <td>0.952550</td>\n",
       "      <td>10</td>\n",
       "      <td>50</td>\n",
       "      <td>{'max_depth': 10, 'min_samples_split': 50}</td>\n",
       "      <td>3</td>\n",
       "      <td>0.947726</td>\n",
       "      <td>0.952822</td>\n",
       "      <td>...</td>\n",
       "      <td>0.944801</td>\n",
       "      <td>0.952175</td>\n",
       "      <td>0.941910</td>\n",
       "      <td>0.952173</td>\n",
       "      <td>0.939972</td>\n",
       "      <td>0.951543</td>\n",
       "      <td>7.112383</td>\n",
       "      <td>0.010557</td>\n",
       "      <td>0.002926</td>\n",
       "      <td>0.000847</td>\n",
       "    </tr>\n",
       "    <tr>\n",
       "      <th>13</th>\n",
       "      <td>11.771657</td>\n",
       "      <td>0.073249</td>\n",
       "      <td>0.942868</td>\n",
       "      <td>0.951835</td>\n",
       "      <td>10</td>\n",
       "      <td>100</td>\n",
       "      <td>{'max_depth': 10, 'min_samples_split': 100}</td>\n",
       "      <td>4</td>\n",
       "      <td>0.947200</td>\n",
       "      <td>0.951843</td>\n",
       "      <td>...</td>\n",
       "      <td>0.944634</td>\n",
       "      <td>0.951653</td>\n",
       "      <td>0.941848</td>\n",
       "      <td>0.951957</td>\n",
       "      <td>0.940081</td>\n",
       "      <td>0.950910</td>\n",
       "      <td>6.745348</td>\n",
       "      <td>0.004683</td>\n",
       "      <td>0.002681</td>\n",
       "      <td>0.000610</td>\n",
       "    </tr>\n",
       "    <tr>\n",
       "      <th>14</th>\n",
       "      <td>9.066739</td>\n",
       "      <td>0.064905</td>\n",
       "      <td>0.941934</td>\n",
       "      <td>0.947957</td>\n",
       "      <td>10</td>\n",
       "      <td>500</td>\n",
       "      <td>{'max_depth': 10, 'min_samples_split': 500}</td>\n",
       "      <td>10</td>\n",
       "      <td>0.947427</td>\n",
       "      <td>0.946812</td>\n",
       "      <td>...</td>\n",
       "      <td>0.943337</td>\n",
       "      <td>0.948535</td>\n",
       "      <td>0.938338</td>\n",
       "      <td>0.947600</td>\n",
       "      <td>0.939313</td>\n",
       "      <td>0.947674</td>\n",
       "      <td>4.299053</td>\n",
       "      <td>0.016950</td>\n",
       "      <td>0.003237</td>\n",
       "      <td>0.000814</td>\n",
       "    </tr>\n",
       "    <tr>\n",
       "      <th>15</th>\n",
       "      <td>14.256550</td>\n",
       "      <td>0.061187</td>\n",
       "      <td>0.942603</td>\n",
       "      <td>0.958822</td>\n",
       "      <td>15</td>\n",
       "      <td>5</td>\n",
       "      <td>{'max_depth': 15, 'min_samples_split': 5}</td>\n",
       "      <td>5</td>\n",
       "      <td>0.945512</td>\n",
       "      <td>0.960492</td>\n",
       "      <td>...</td>\n",
       "      <td>0.943535</td>\n",
       "      <td>0.958194</td>\n",
       "      <td>0.942379</td>\n",
       "      <td>0.958498</td>\n",
       "      <td>0.940760</td>\n",
       "      <td>0.957006</td>\n",
       "      <td>7.114063</td>\n",
       "      <td>0.013531</td>\n",
       "      <td>0.001784</td>\n",
       "      <td>0.001248</td>\n",
       "    </tr>\n",
       "    <tr>\n",
       "      <th>16</th>\n",
       "      <td>9.672854</td>\n",
       "      <td>0.045246</td>\n",
       "      <td>0.942587</td>\n",
       "      <td>0.958137</td>\n",
       "      <td>15</td>\n",
       "      <td>25</td>\n",
       "      <td>{'max_depth': 15, 'min_samples_split': 25}</td>\n",
       "      <td>6</td>\n",
       "      <td>0.946161</td>\n",
       "      <td>0.959671</td>\n",
       "      <td>...</td>\n",
       "      <td>0.943225</td>\n",
       "      <td>0.957583</td>\n",
       "      <td>0.941826</td>\n",
       "      <td>0.957924</td>\n",
       "      <td>0.940995</td>\n",
       "      <td>0.956401</td>\n",
       "      <td>4.744481</td>\n",
       "      <td>0.011363</td>\n",
       "      <td>0.001987</td>\n",
       "      <td>0.001155</td>\n",
       "    </tr>\n",
       "    <tr>\n",
       "      <th>17</th>\n",
       "      <td>7.362329</td>\n",
       "      <td>0.033603</td>\n",
       "      <td>0.942368</td>\n",
       "      <td>0.957160</td>\n",
       "      <td>15</td>\n",
       "      <td>50</td>\n",
       "      <td>{'max_depth': 15, 'min_samples_split': 50}</td>\n",
       "      <td>8</td>\n",
       "      <td>0.945667</td>\n",
       "      <td>0.956713</td>\n",
       "      <td>...</td>\n",
       "      <td>0.942727</td>\n",
       "      <td>0.957182</td>\n",
       "      <td>0.942278</td>\n",
       "      <td>0.957438</td>\n",
       "      <td>0.940679</td>\n",
       "      <td>0.955803</td>\n",
       "      <td>4.021377</td>\n",
       "      <td>0.011853</td>\n",
       "      <td>0.001865</td>\n",
       "      <td>0.000935</td>\n",
       "    </tr>\n",
       "    <tr>\n",
       "      <th>18</th>\n",
       "      <td>7.360886</td>\n",
       "      <td>0.042999</td>\n",
       "      <td>0.942360</td>\n",
       "      <td>0.955669</td>\n",
       "      <td>15</td>\n",
       "      <td>100</td>\n",
       "      <td>{'max_depth': 15, 'min_samples_split': 100}</td>\n",
       "      <td>9</td>\n",
       "      <td>0.945449</td>\n",
       "      <td>0.955313</td>\n",
       "      <td>...</td>\n",
       "      <td>0.942707</td>\n",
       "      <td>0.955389</td>\n",
       "      <td>0.942173</td>\n",
       "      <td>0.956350</td>\n",
       "      <td>0.940961</td>\n",
       "      <td>0.954924</td>\n",
       "      <td>3.970004</td>\n",
       "      <td>0.010154</td>\n",
       "      <td>0.001736</td>\n",
       "      <td>0.000585</td>\n",
       "    </tr>\n",
       "    <tr>\n",
       "      <th>19</th>\n",
       "      <td>6.901044</td>\n",
       "      <td>0.032926</td>\n",
       "      <td>0.941300</td>\n",
       "      <td>0.950367</td>\n",
       "      <td>15</td>\n",
       "      <td>500</td>\n",
       "      <td>{'max_depth': 15, 'min_samples_split': 500}</td>\n",
       "      <td>20</td>\n",
       "      <td>0.945916</td>\n",
       "      <td>0.948957</td>\n",
       "      <td>...</td>\n",
       "      <td>0.941181</td>\n",
       "      <td>0.951044</td>\n",
       "      <td>0.938960</td>\n",
       "      <td>0.950068</td>\n",
       "      <td>0.940033</td>\n",
       "      <td>0.950127</td>\n",
       "      <td>4.004912</td>\n",
       "      <td>0.008590</td>\n",
       "      <td>0.002416</td>\n",
       "      <td>0.000918</td>\n",
       "    </tr>\n",
       "    <tr>\n",
       "      <th>20</th>\n",
       "      <td>24.837026</td>\n",
       "      <td>0.044877</td>\n",
       "      <td>0.936484</td>\n",
       "      <td>0.979441</td>\n",
       "      <td>50</td>\n",
       "      <td>5</td>\n",
       "      <td>{'max_depth': 50, 'min_samples_split': 5}</td>\n",
       "      <td>21</td>\n",
       "      <td>0.934891</td>\n",
       "      <td>0.981077</td>\n",
       "      <td>...</td>\n",
       "      <td>0.937618</td>\n",
       "      <td>0.978751</td>\n",
       "      <td>0.937454</td>\n",
       "      <td>0.978997</td>\n",
       "      <td>0.934987</td>\n",
       "      <td>0.978361</td>\n",
       "      <td>14.902898</td>\n",
       "      <td>0.010075</td>\n",
       "      <td>0.001263</td>\n",
       "      <td>0.000985</td>\n",
       "    </tr>\n",
       "    <tr>\n",
       "      <th>21</th>\n",
       "      <td>25.553242</td>\n",
       "      <td>0.044001</td>\n",
       "      <td>0.935630</td>\n",
       "      <td>0.976085</td>\n",
       "      <td>50</td>\n",
       "      <td>25</td>\n",
       "      <td>{'max_depth': 50, 'min_samples_split': 25}</td>\n",
       "      <td>23</td>\n",
       "      <td>0.933591</td>\n",
       "      <td>0.976888</td>\n",
       "      <td>...</td>\n",
       "      <td>0.934324</td>\n",
       "      <td>0.975647</td>\n",
       "      <td>0.937510</td>\n",
       "      <td>0.975672</td>\n",
       "      <td>0.934168</td>\n",
       "      <td>0.975035</td>\n",
       "      <td>16.102219</td>\n",
       "      <td>0.011048</td>\n",
       "      <td>0.002005</td>\n",
       "      <td>0.000814</td>\n",
       "    </tr>\n",
       "    <tr>\n",
       "      <th>22</th>\n",
       "      <td>27.006873</td>\n",
       "      <td>0.042103</td>\n",
       "      <td>0.935194</td>\n",
       "      <td>0.973301</td>\n",
       "      <td>50</td>\n",
       "      <td>50</td>\n",
       "      <td>{'max_depth': 50, 'min_samples_split': 50}</td>\n",
       "      <td>24</td>\n",
       "      <td>0.934067</td>\n",
       "      <td>0.972907</td>\n",
       "      <td>...</td>\n",
       "      <td>0.932904</td>\n",
       "      <td>0.972926</td>\n",
       "      <td>0.936323</td>\n",
       "      <td>0.973463</td>\n",
       "      <td>0.933577</td>\n",
       "      <td>0.972503</td>\n",
       "      <td>15.213666</td>\n",
       "      <td>0.012387</td>\n",
       "      <td>0.002265</td>\n",
       "      <td>0.000766</td>\n",
       "    </tr>\n",
       "    <tr>\n",
       "      <th>23</th>\n",
       "      <td>24.532741</td>\n",
       "      <td>0.039900</td>\n",
       "      <td>0.935919</td>\n",
       "      <td>0.969236</td>\n",
       "      <td>50</td>\n",
       "      <td>100</td>\n",
       "      <td>{'max_depth': 50, 'min_samples_split': 100}</td>\n",
       "      <td>22</td>\n",
       "      <td>0.936613</td>\n",
       "      <td>0.968129</td>\n",
       "      <td>...</td>\n",
       "      <td>0.934501</td>\n",
       "      <td>0.968286</td>\n",
       "      <td>0.937783</td>\n",
       "      <td>0.970161</td>\n",
       "      <td>0.932995</td>\n",
       "      <td>0.969723</td>\n",
       "      <td>13.846057</td>\n",
       "      <td>0.016207</td>\n",
       "      <td>0.001882</td>\n",
       "      <td>0.000853</td>\n",
       "    </tr>\n",
       "    <tr>\n",
       "      <th>24</th>\n",
       "      <td>19.418280</td>\n",
       "      <td>0.039892</td>\n",
       "      <td>0.935051</td>\n",
       "      <td>0.959868</td>\n",
       "      <td>50</td>\n",
       "      <td>500</td>\n",
       "      <td>{'max_depth': 50, 'min_samples_split': 500}</td>\n",
       "      <td>25</td>\n",
       "      <td>0.936165</td>\n",
       "      <td>0.960865</td>\n",
       "      <td>...</td>\n",
       "      <td>0.932369</td>\n",
       "      <td>0.959598</td>\n",
       "      <td>0.936892</td>\n",
       "      <td>0.957471</td>\n",
       "      <td>0.934062</td>\n",
       "      <td>0.958764</td>\n",
       "      <td>7.973940</td>\n",
       "      <td>0.011763</td>\n",
       "      <td>0.001632</td>\n",
       "      <td>0.001773</td>\n",
       "    </tr>\n",
       "  </tbody>\n",
       "</table>\n",
       "<p>25 rows × 22 columns</p>\n",
       "</div>"
      ],
      "text/plain": [
       "    mean_fit_time  mean_score_time  mean_test_score  mean_train_score  \\\n",
       "0        3.717103         0.049752         0.941827          0.946548   \n",
       "1        3.880105         0.050026         0.941762          0.946510   \n",
       "2        4.041946         0.045297         0.941781          0.946444   \n",
       "3        3.664768         0.047388         0.941798          0.946302   \n",
       "4        3.590582         0.047712         0.942471          0.945038   \n",
       "5        5.138468         0.051349         0.941456          0.949036   \n",
       "6        5.104313         0.048833         0.941458          0.948932   \n",
       "7        4.974762         0.045080         0.941550          0.948790   \n",
       "8        4.956825         0.046148         0.941510          0.948440   \n",
       "9        5.319208         0.057799         0.941709          0.946268   \n",
       "10       7.272699         0.045531         0.942963          0.953337   \n",
       "11       7.451539         0.049989         0.943004          0.953036   \n",
       "12      11.148507         0.066126         0.942957          0.952550   \n",
       "13      11.771657         0.073249         0.942868          0.951835   \n",
       "14       9.066739         0.064905         0.941934          0.947957   \n",
       "15      14.256550         0.061187         0.942603          0.958822   \n",
       "16       9.672854         0.045246         0.942587          0.958137   \n",
       "17       7.362329         0.033603         0.942368          0.957160   \n",
       "18       7.360886         0.042999         0.942360          0.955669   \n",
       "19       6.901044         0.032926         0.941300          0.950367   \n",
       "20      24.837026         0.044877         0.936484          0.979441   \n",
       "21      25.553242         0.044001         0.935630          0.976085   \n",
       "22      27.006873         0.042103         0.935194          0.973301   \n",
       "23      24.532741         0.039900         0.935919          0.969236   \n",
       "24      19.418280         0.039892         0.935051          0.959868   \n",
       "\n",
       "   param_max_depth param_min_samples_split  \\\n",
       "0                5                       5   \n",
       "1                5                      25   \n",
       "2                5                      50   \n",
       "3                5                     100   \n",
       "4                5                     500   \n",
       "5                7                       5   \n",
       "6                7                      25   \n",
       "7                7                      50   \n",
       "8                7                     100   \n",
       "9                7                     500   \n",
       "10              10                       5   \n",
       "11              10                      25   \n",
       "12              10                      50   \n",
       "13              10                     100   \n",
       "14              10                     500   \n",
       "15              15                       5   \n",
       "16              15                      25   \n",
       "17              15                      50   \n",
       "18              15                     100   \n",
       "19              15                     500   \n",
       "20              50                       5   \n",
       "21              50                      25   \n",
       "22              50                      50   \n",
       "23              50                     100   \n",
       "24              50                     500   \n",
       "\n",
       "                                         params  rank_test_score  \\\n",
       "0      {'max_depth': 5, 'min_samples_split': 5}               11   \n",
       "1     {'max_depth': 5, 'min_samples_split': 25}               14   \n",
       "2     {'max_depth': 5, 'min_samples_split': 50}               13   \n",
       "3    {'max_depth': 5, 'min_samples_split': 100}               12   \n",
       "4    {'max_depth': 5, 'min_samples_split': 500}                7   \n",
       "5      {'max_depth': 7, 'min_samples_split': 5}               19   \n",
       "6     {'max_depth': 7, 'min_samples_split': 25}               18   \n",
       "7     {'max_depth': 7, 'min_samples_split': 50}               16   \n",
       "8    {'max_depth': 7, 'min_samples_split': 100}               17   \n",
       "9    {'max_depth': 7, 'min_samples_split': 500}               15   \n",
       "10    {'max_depth': 10, 'min_samples_split': 5}                2   \n",
       "11   {'max_depth': 10, 'min_samples_split': 25}                1   \n",
       "12   {'max_depth': 10, 'min_samples_split': 50}                3   \n",
       "13  {'max_depth': 10, 'min_samples_split': 100}                4   \n",
       "14  {'max_depth': 10, 'min_samples_split': 500}               10   \n",
       "15    {'max_depth': 15, 'min_samples_split': 5}                5   \n",
       "16   {'max_depth': 15, 'min_samples_split': 25}                6   \n",
       "17   {'max_depth': 15, 'min_samples_split': 50}                8   \n",
       "18  {'max_depth': 15, 'min_samples_split': 100}                9   \n",
       "19  {'max_depth': 15, 'min_samples_split': 500}               20   \n",
       "20    {'max_depth': 50, 'min_samples_split': 5}               21   \n",
       "21   {'max_depth': 50, 'min_samples_split': 25}               23   \n",
       "22   {'max_depth': 50, 'min_samples_split': 50}               24   \n",
       "23  {'max_depth': 50, 'min_samples_split': 100}               22   \n",
       "24  {'max_depth': 50, 'min_samples_split': 500}               25   \n",
       "\n",
       "    split0_test_score  split0_train_score       ...         split2_test_score  \\\n",
       "0            0.944819            0.945960       ...                  0.944017   \n",
       "1            0.944658            0.945875       ...                  0.943860   \n",
       "2            0.944616            0.945713       ...                  0.943903   \n",
       "3            0.944750            0.945368       ...                  0.943979   \n",
       "4            0.947985            0.943392       ...                  0.943539   \n",
       "5            0.944598            0.949550       ...                  0.944303   \n",
       "6            0.944556            0.949465       ...                  0.944588   \n",
       "7            0.944708            0.949110       ...                  0.944716   \n",
       "8            0.944652            0.948684       ...                  0.944162   \n",
       "9            0.947143            0.945196       ...                  0.943066   \n",
       "10           0.947940            0.954743       ...                  0.944436   \n",
       "11           0.948108            0.954365       ...                  0.944186   \n",
       "12           0.947726            0.952822       ...                  0.944801   \n",
       "13           0.947200            0.951843       ...                  0.944634   \n",
       "14           0.947427            0.946812       ...                  0.943337   \n",
       "15           0.945512            0.960492       ...                  0.943535   \n",
       "16           0.946161            0.959671       ...                  0.943225   \n",
       "17           0.945667            0.956713       ...                  0.942727   \n",
       "18           0.945449            0.955313       ...                  0.942707   \n",
       "19           0.945916            0.948957       ...                  0.941181   \n",
       "20           0.934891            0.981077       ...                  0.937618   \n",
       "21           0.933591            0.976888       ...                  0.934324   \n",
       "22           0.934067            0.972907       ...                  0.932904   \n",
       "23           0.936613            0.968129       ...                  0.934501   \n",
       "24           0.936165            0.960865       ...                  0.932369   \n",
       "\n",
       "    split2_train_score  split3_test_score  split3_train_score  \\\n",
       "0             0.946057           0.940239            0.945748   \n",
       "1             0.946005           0.940201            0.945720   \n",
       "2             0.946005           0.940239            0.945672   \n",
       "3             0.945897           0.940158            0.945672   \n",
       "4             0.945058           0.940248            0.944535   \n",
       "5             0.948187           0.940442            0.948268   \n",
       "6             0.948040           0.940485            0.948174   \n",
       "7             0.948041           0.940528            0.948068   \n",
       "8             0.947760           0.940619            0.948030   \n",
       "9             0.946428           0.939632            0.945977   \n",
       "10            0.952445           0.941653            0.952584   \n",
       "11            0.952271           0.941662            0.952359   \n",
       "12            0.952175           0.941910            0.952173   \n",
       "13            0.951653           0.941848            0.951957   \n",
       "14            0.948535           0.938338            0.947600   \n",
       "15            0.958194           0.942379            0.958498   \n",
       "16            0.957583           0.941826            0.957924   \n",
       "17            0.957182           0.942278            0.957438   \n",
       "18            0.955389           0.942173            0.956350   \n",
       "19            0.951044           0.938960            0.950068   \n",
       "20            0.978751           0.937454            0.978997   \n",
       "21            0.975647           0.937510            0.975672   \n",
       "22            0.972926           0.936323            0.973463   \n",
       "23            0.968286           0.937783            0.970161   \n",
       "24            0.959598           0.936892            0.957471   \n",
       "\n",
       "    split4_test_score  split4_train_score  std_fit_time  std_score_time  \\\n",
       "0            0.939157            0.946072      1.981083        0.003220   \n",
       "1            0.939033            0.946047      2.170351        0.003667   \n",
       "2            0.939033            0.945932      2.218418        0.002028   \n",
       "3            0.939033            0.945932      1.927706        0.004060   \n",
       "4            0.939442            0.944947      1.972160        0.003066   \n",
       "5            0.937267            0.948455      2.860290        0.005422   \n",
       "6            0.936992            0.948381      2.808465        0.005541   \n",
       "7            0.936997            0.948173      2.693570        0.003144   \n",
       "8            0.937212            0.947771      2.732653        0.003896   \n",
       "9            0.937700            0.946409      3.174555        0.018247   \n",
       "10           0.940214            0.952071      3.819263        0.006207   \n",
       "11           0.940434            0.951833      4.481861        0.008936   \n",
       "12           0.939972            0.951543      7.112383        0.010557   \n",
       "13           0.940081            0.950910      6.745348        0.004683   \n",
       "14           0.939313            0.947674      4.299053        0.016950   \n",
       "15           0.940760            0.957006      7.114063        0.013531   \n",
       "16           0.940995            0.956401      4.744481        0.011363   \n",
       "17           0.940679            0.955803      4.021377        0.011853   \n",
       "18           0.940961            0.954924      3.970004        0.010154   \n",
       "19           0.940033            0.950127      4.004912        0.008590   \n",
       "20           0.934987            0.978361     14.902898        0.010075   \n",
       "21           0.934168            0.975035     16.102219        0.011048   \n",
       "22           0.933577            0.972503     15.213666        0.012387   \n",
       "23           0.932995            0.969723     13.846057        0.016207   \n",
       "24           0.934062            0.958764      7.973940        0.011763   \n",
       "\n",
       "    std_test_score  std_train_score  \n",
       "0         0.002202         0.001182  \n",
       "1         0.002153         0.001201  \n",
       "2         0.002140         0.001234  \n",
       "3         0.002206         0.001186  \n",
       "4         0.003080         0.001257  \n",
       "5         0.002727         0.000975  \n",
       "6         0.002860         0.000975  \n",
       "7         0.002909         0.000968  \n",
       "8         0.002703         0.000829  \n",
       "9         0.003233         0.000695  \n",
       "10        0.002896         0.001200  \n",
       "11        0.002881         0.001094  \n",
       "12        0.002926         0.000847  \n",
       "13        0.002681         0.000610  \n",
       "14        0.003237         0.000814  \n",
       "15        0.001784         0.001248  \n",
       "16        0.001987         0.001155  \n",
       "17        0.001865         0.000935  \n",
       "18        0.001736         0.000585  \n",
       "19        0.002416         0.000918  \n",
       "20        0.001263         0.000985  \n",
       "21        0.002005         0.000814  \n",
       "22        0.002265         0.000766  \n",
       "23        0.001882         0.000853  \n",
       "24        0.001632         0.001773  \n",
       "\n",
       "[25 rows x 22 columns]"
      ]
     },
     "execution_count": 12,
     "metadata": {
      "tags": []
     },
     "output_type": "execute_result"
    }
   ],
   "source": [
    "results=pd.DataFrame(model.cv_results_)# getting varoius cv_scores and train_scores various values of hyperparameter given as parameter and storing it in a dataframe\n",
    "results#printing the dataframe"
   ]
  },
  {
   "cell_type": "code",
   "execution_count": 0,
   "metadata": {
    "colab": {},
    "colab_type": "code",
    "collapsed": true,
    "id": "edP2Bbl2tsni"
   },
   "outputs": [],
   "source": [
    "results['mean_train_score']=results['mean_train_score']*100\n",
    "results['mean_test_score']=results['mean_test_score']*100"
   ]
  },
  {
   "cell_type": "code",
   "execution_count": 0,
   "metadata": {
    "colab": {},
    "colab_type": "code",
    "collapsed": true,
    "id": "QP6RyOKTu_wL"
   },
   "outputs": [],
   "source": [
    "results=results.round(decimals=2)"
   ]
  },
  {
   "cell_type": "code",
   "execution_count": 0,
   "metadata": {
    "colab": {},
    "colab_type": "code",
    "collapsed": true,
    "id": "Za9cn6dVohID"
   },
   "outputs": [],
   "source": [
    "results['mean_test_score']=100-results['mean_test_score']"
   ]
  },
  {
   "cell_type": "markdown",
   "metadata": {
    "colab_type": "text",
    "id": "BU8q4-nZw3eR"
   },
   "source": [
    "# PLOTTING THE HEATMAP WITH  HYPERPARAMETERS FOR CV_ERROR SCORE "
   ]
  },
  {
   "cell_type": "code",
   "execution_count": 0,
   "metadata": {
    "colab": {},
    "colab_type": "code",
    "collapsed": true,
    "id": "jZPQAsP5ww0L"
   },
   "outputs": [],
   "source": [
    "test_score_heatmap=results.pivot(\t'param_max_depth'\t,'param_min_samples_split','mean_test_score'\t)"
   ]
  },
  {
   "cell_type": "code",
   "execution_count": 22,
   "metadata": {
    "colab": {
     "base_uri": "https://localhost:8080/",
     "height": 227
    },
    "colab_type": "code",
    "id": "9ceoRHpswwmR",
    "outputId": "c73bd143-0b01-4185-dcb6-aded441d6ff2"
   },
   "outputs": [
    {
     "data": {
      "text/html": [
       "<div>\n",
       "<style scoped>\n",
       "    .dataframe tbody tr th:only-of-type {\n",
       "        vertical-align: middle;\n",
       "    }\n",
       "\n",
       "    .dataframe tbody tr th {\n",
       "        vertical-align: top;\n",
       "    }\n",
       "\n",
       "    .dataframe thead th {\n",
       "        text-align: right;\n",
       "    }\n",
       "</style>\n",
       "<table border=\"1\" class=\"dataframe\">\n",
       "  <thead>\n",
       "    <tr style=\"text-align: right;\">\n",
       "      <th>param_min_samples_split</th>\n",
       "      <th>5</th>\n",
       "      <th>25</th>\n",
       "      <th>50</th>\n",
       "      <th>100</th>\n",
       "      <th>500</th>\n",
       "    </tr>\n",
       "    <tr>\n",
       "      <th>param_max_depth</th>\n",
       "      <th></th>\n",
       "      <th></th>\n",
       "      <th></th>\n",
       "      <th></th>\n",
       "      <th></th>\n",
       "    </tr>\n",
       "  </thead>\n",
       "  <tbody>\n",
       "    <tr>\n",
       "      <th>5</th>\n",
       "      <td>5.82</td>\n",
       "      <td>5.82</td>\n",
       "      <td>5.82</td>\n",
       "      <td>5.82</td>\n",
       "      <td>5.75</td>\n",
       "    </tr>\n",
       "    <tr>\n",
       "      <th>7</th>\n",
       "      <td>5.85</td>\n",
       "      <td>5.85</td>\n",
       "      <td>5.84</td>\n",
       "      <td>5.85</td>\n",
       "      <td>5.83</td>\n",
       "    </tr>\n",
       "    <tr>\n",
       "      <th>10</th>\n",
       "      <td>5.70</td>\n",
       "      <td>5.70</td>\n",
       "      <td>5.70</td>\n",
       "      <td>5.71</td>\n",
       "      <td>5.81</td>\n",
       "    </tr>\n",
       "    <tr>\n",
       "      <th>15</th>\n",
       "      <td>5.74</td>\n",
       "      <td>5.74</td>\n",
       "      <td>5.76</td>\n",
       "      <td>5.76</td>\n",
       "      <td>5.87</td>\n",
       "    </tr>\n",
       "    <tr>\n",
       "      <th>50</th>\n",
       "      <td>6.35</td>\n",
       "      <td>6.44</td>\n",
       "      <td>6.48</td>\n",
       "      <td>6.41</td>\n",
       "      <td>6.49</td>\n",
       "    </tr>\n",
       "  </tbody>\n",
       "</table>\n",
       "</div>"
      ],
      "text/plain": [
       "param_min_samples_split   5     25    50    100   500\n",
       "param_max_depth                                      \n",
       "5                        5.82  5.82  5.82  5.82  5.75\n",
       "7                        5.85  5.85  5.84  5.85  5.83\n",
       "10                       5.70  5.70  5.70  5.71  5.81\n",
       "15                       5.74  5.74  5.76  5.76  5.87\n",
       "50                       6.35  6.44  6.48  6.41  6.49"
      ]
     },
     "execution_count": 22,
     "metadata": {
      "tags": []
     },
     "output_type": "execute_result"
    }
   ],
   "source": [
    "test_score_heatmap"
   ]
  },
  {
   "cell_type": "code",
   "execution_count": 23,
   "metadata": {
    "colab": {
     "base_uri": "https://localhost:8080/",
     "height": 378
    },
    "colab_type": "code",
    "id": "e0t2JFE9wwby",
    "outputId": "08b09500-a14f-4bce-e5a7-c5b51e9d5881"
   },
   "outputs": [
    {
     "data": {
      "text/plain": [
       "<matplotlib.axes._subplots.AxesSubplot at 0x7f4ab99861d0>"
      ]
     },
     "execution_count": 23,
     "metadata": {
      "tags": []
     },
     "output_type": "execute_result"
    },
    {
     "data": {
      "image/png": "[encoded data removed]",
      "text/plain": [
       "<Figure size 576x396 with 2 Axes>"
      ]
     },
     "metadata": {
      "tags": []
     },
     "output_type": "display_data"
    }
   ],
   "source": [
    "import seaborn as sns\n",
    "sns.heatmap(test_score_heatmap,annot=True,annot_kws={\"size\": 15}, fmt='g',linewidths=.3)"
   ]
  },
  {
   "cell_type": "code",
   "execution_count": 19,
   "metadata": {
    "colab": {
     "base_uri": "https://localhost:8080/",
     "height": 123
    },
    "colab_type": "code",
    "id": "E2U5c_lavXAK",
    "outputId": "0795ba2b-c2c0-41a9-c043-59e26affe540"
   },
   "outputs": [
    {
     "name": "stdout",
     "output_type": "stream",
     "text": [
      "DecisionTreeClassifier(class_weight={1: 0.5, 0: 0.5}, criterion='gini',\n",
      "            max_depth=10, max_features=None, max_leaf_nodes=None,\n",
      "            min_impurity_decrease=0.0, min_impurity_split=None,\n",
      "            min_samples_leaf=1, min_samples_split=25,\n",
      "            min_weight_fraction_leaf=0.0, presort=False, random_state=None,\n",
      "            splitter='best')\n"
     ]
    }
   ],
   "source": [
    "print(model.best_estimator_)#printing the best_estimator"
   ]
  },
  {
   "cell_type": "markdown",
   "metadata": {
    "colab_type": "text",
    "id": "CPWBmx2kvaLR"
   },
   "source": [
    "# FROM THE ABOVE HEATMAPS RESULTS FOR  CV DATA,WE FOUND THAT BEST HYPERPARAMETERS AS MAX_DEPTH=10 AND MIN_SAMPLE_SPLIT=25"
   ]
  },
  {
   "cell_type": "markdown",
   "metadata": {
    "colab_type": "text",
    "id": "D8LU3KQNoys-"
   },
   "source": [
    "# PLOTTING THE ROC CURVE FOR GETTING AUC SCORE"
   ]
  },
  {
   "cell_type": "code",
   "execution_count": 24,
   "metadata": {
    "colab": {
     "base_uri": "https://localhost:8080/",
     "height": 375
    },
    "colab_type": "code",
    "id": "TV71RpsLlsUu",
    "outputId": "e94897ba-7e25-4b6d-d254-a026f80dc665"
   },
   "outputs": [
    {
     "data": {
      "image/png": "[encoded data removed]",
      "text/plain": [
       "<Figure size 576x396 with 1 Axes>"
      ]
     },
     "metadata": {
      "tags": []
     },
     "output_type": "display_data"
    }
   ],
   "source": [
    "probs = model.predict_proba(test_tfidf)\n",
    "preds = probs[:,1]\n",
    "fpr, tpr, threshold = metrics.roc_curve(y_test, preds)\n",
    "roc_auc = metrics.auc(fpr, tpr)\n",
    "\n",
    "# \n",
    "import matplotlib.pyplot as plt\n",
    "plt.title('Receiver Operating Characteristic')\n",
    "plt.plot(fpr, tpr, 'b', label = 'AUC = %0.2f' % roc_auc)\n",
    "plt.legend(loc = 'best')\n",
    "plt.plot([0, 1], [0, 1],'r--')\n",
    "plt.xlim([0, 1])\n",
    "plt.ylim([0, 1])\n",
    "plt.ylabel('True Positive Rate')\n",
    "plt.xlabel('False Positive Rate')\n",
    "plt.show()"
   ]
  },
  {
   "cell_type": "code",
   "execution_count": 25,
   "metadata": {
    "colab": {
     "base_uri": "https://localhost:8080/",
     "height": 34
    },
    "colab_type": "code",
    "id": "rsKbLEyqpFZ4",
    "outputId": "bdb83a6e-57b9-43e5-aeb8-daab511c0573"
   },
   "outputs": [
    {
     "name": "stdout",
     "output_type": "stream",
     "text": [
      "FROM THE ABOVE CURVE ,AUC SCORE IS FOUND AS 68.58426022265147\n"
     ]
    }
   ],
   "source": [
    "print('FROM THE ABOVE CURVE ,AUC SCORE IS FOUND AS',roc_auc*100)"
   ]
  },
  {
   "cell_type": "markdown",
   "metadata": {
    "colab_type": "text",
    "id": "_bU_jOXJxOpV"
   },
   "source": [
    "# VISUALIZING DECISION TREE WITH GRAPHVIZ,FOR PLOTTING PURPOSE TAKING MAX_DEPTH AS 3"
   ]
  },
  {
   "cell_type": "code",
   "execution_count": 38,
   "metadata": {
    "colab": {
     "base_uri": "https://localhost:8080/",
     "height": 123
    },
    "colab_type": "code",
    "id": "-E9OawfSsUUO",
    "outputId": "ba7ee842-57c1-4d20-99fd-32388fd98b95"
   },
   "outputs": [
    {
     "data": {
      "text/plain": [
       "DecisionTreeClassifier(class_weight={1: 0.5, 0: 0.5}, criterion='gini',\n",
       "            max_depth=3, max_features=None, max_leaf_nodes=None,\n",
       "            min_impurity_decrease=0.0, min_impurity_split=None,\n",
       "            min_samples_leaf=1, min_samples_split=10,\n",
       "            min_weight_fraction_leaf=0.0, presort=False, random_state=None,\n",
       "            splitter='best')"
      ]
     },
     "execution_count": 38,
     "metadata": {
      "tags": []
     },
     "output_type": "execute_result"
    }
   ],
   "source": [
    "dt=DecisionTreeClassifier(criterion='gini', splitter='best',class_weight={1:.5,0:.5},min_samples_split=10,max_depth=3)\n",
    "dt.fit(train_tfidf,y_train)#fitting the model "
   ]
  },
  {
   "cell_type": "code",
   "execution_count": 39,
   "metadata": {
    "colab": {
     "base_uri": "https://localhost:8080/",
     "height": 618
    },
    "colab_type": "code",
    "id": "QRm4nFzGF_s4",
    "outputId": "7ad80b10-cdd7-41a4-a847-3f821729165f"
   },
   "outputs": [
    {
     "data": {
      "image/svg+xml": [
       "<?xml version=\"1.0\" encoding=\"UTF-8\" standalone=\"no\"?>\n",
       "<!DOCTYPE svg PUBLIC \"-//W3C//DTD SVG 1.1//EN\"\n",
       " \"http://www.w3.org/Graphics/SVG/1.1/DTD/svg11.dtd\">\n",
       "<!-- Generated by graphviz version 2.40.1 (20161225.0304)\n",
       " -->\n",
       "<!-- Title: Tree Pages: 1 -->\n",
       "<svg width=\"1319pt\" height=\"433pt\"\n",
       " viewBox=\"0.00 0.00 1319.00 433.00\" xmlns=\"http://www.w3.org/2000/svg\" xmlns:xlink=\"http://www.w3.org/1999/xlink\">\n",
       "<g id=\"graph0\" class=\"graph\" transform=\"scale(1 1) rotate(0) translate(4 429)\">\n",
       "<title>Tree</title>\n",
       "<polygon fill=\"#ffffff\" stroke=\"transparent\" points=\"-4,4 -4,-429 1315,-429 1315,4 -4,4\"/>\n",
       "<!-- 0 -->\n",
       "<g id=\"node1\" class=\"node\">\n",
       "<title>0</title>\n",
       "<path fill=\"#399de5\" fill-opacity=\"0.874510\" stroke=\"#000000\" d=\"M750,-425C750,-425 593,-425 593,-425 587,-425 581,-419 581,-413 581,-413 581,-354 581,-354 581,-348 587,-342 593,-342 593,-342 750,-342 750,-342 756,-342 762,-348 762,-354 762,-354 762,-413 762,-413 762,-419 756,-425 750,-425\"/>\n",
       "<text text-anchor=\"start\" x=\"612\" y=\"-409.8\" font-family=\"Helvetica,sans-Serif\" font-size=\"14.00\" fill=\"#000000\">disappoint ≤ 0.042</text>\n",
       "<text text-anchor=\"start\" x=\"633.5\" y=\"-394.8\" font-family=\"Helvetica,sans-Serif\" font-size=\"14.00\" fill=\"#000000\">gini = 0.198</text>\n",
       "<text text-anchor=\"start\" x=\"615.5\" y=\"-379.8\" font-family=\"Helvetica,sans-Serif\" font-size=\"14.00\" fill=\"#000000\">samples = 80000</text>\n",
       "<text text-anchor=\"start\" x=\"589\" y=\"-364.8\" font-family=\"Helvetica,sans-Serif\" font-size=\"14.00\" fill=\"#000000\">value = [4466.5, 35533.5]</text>\n",
       "<text text-anchor=\"start\" x=\"642.5\" y=\"-349.8\" font-family=\"Helvetica,sans-Serif\" font-size=\"14.00\" fill=\"#000000\">class = 1</text>\n",
       "</g>\n",
       "<!-- 1 -->\n",
       "<g id=\"node2\" class=\"node\">\n",
       "<title>1</title>\n",
       "<path fill=\"#399de5\" fill-opacity=\"0.886275\" stroke=\"#000000\" d=\"M593,-306C593,-306 436,-306 436,-306 430,-306 424,-300 424,-294 424,-294 424,-235 424,-235 424,-229 430,-223 436,-223 436,-223 593,-223 593,-223 599,-223 605,-229 605,-235 605,-235 605,-294 605,-294 605,-300 599,-306 593,-306\"/>\n",
       "<text text-anchor=\"start\" x=\"475\" y=\"-290.8\" font-family=\"Helvetica,sans-Serif\" font-size=\"14.00\" fill=\"#000000\">worst ≤ 0.04</text>\n",
       "<text text-anchor=\"start\" x=\"476.5\" y=\"-275.8\" font-family=\"Helvetica,sans-Serif\" font-size=\"14.00\" fill=\"#000000\">gini = 0.184</text>\n",
       "<text text-anchor=\"start\" x=\"458.5\" y=\"-260.8\" font-family=\"Helvetica,sans-Serif\" font-size=\"14.00\" fill=\"#000000\">samples = 77754</text>\n",
       "<text text-anchor=\"start\" x=\"432\" y=\"-245.8\" font-family=\"Helvetica,sans-Serif\" font-size=\"14.00\" fill=\"#000000\">value = [3981.5, 34895.5]</text>\n",
       "<text text-anchor=\"start\" x=\"485.5\" y=\"-230.8\" font-family=\"Helvetica,sans-Serif\" font-size=\"14.00\" fill=\"#000000\">class = 1</text>\n",
       "</g>\n",
       "<!-- 0&#45;&gt;1 -->\n",
       "<g id=\"edge1\" class=\"edge\">\n",
       "<title>0&#45;&gt;1</title>\n",
       "<path fill=\"none\" stroke=\"#000000\" d=\"M616.589,-341.8796C603.9206,-332.2774 590.3485,-321.9903 577.3705,-312.1534\"/>\n",
       "<polygon fill=\"#000000\" stroke=\"#000000\" points=\"579.4636,-309.3482 569.38,-306.0969 575.2352,-314.9268 579.4636,-309.3482\"/>\n",
       "<text text-anchor=\"middle\" x=\"572.7898\" y=\"-327.1633\" font-family=\"Helvetica,sans-Serif\" font-size=\"14.00\" fill=\"#000000\">True</text>\n",
       "</g>\n",
       "<!-- 8 -->\n",
       "<g id=\"node9\" class=\"node\">\n",
       "<title>8</title>\n",
       "<path fill=\"#399de5\" fill-opacity=\"0.239216\" stroke=\"#000000\" d=\"M892.5,-306C892.5,-306 784.5,-306 784.5,-306 778.5,-306 772.5,-300 772.5,-294 772.5,-294 772.5,-235 772.5,-235 772.5,-229 778.5,-223 784.5,-223 784.5,-223 892.5,-223 892.5,-223 898.5,-223 904.5,-229 904.5,-235 904.5,-235 904.5,-294 904.5,-294 904.5,-300 898.5,-306 892.5,-306\"/>\n",
       "<text text-anchor=\"start\" x=\"796\" y=\"-290.8\" font-family=\"Helvetica,sans-Serif\" font-size=\"14.00\" fill=\"#000000\">great ≤ 0.027</text>\n",
       "<text text-anchor=\"start\" x=\"800.5\" y=\"-275.8\" font-family=\"Helvetica,sans-Serif\" font-size=\"14.00\" fill=\"#000000\">gini = 0.491</text>\n",
       "<text text-anchor=\"start\" x=\"786.5\" y=\"-260.8\" font-family=\"Helvetica,sans-Serif\" font-size=\"14.00\" fill=\"#000000\">samples = 2246</text>\n",
       "<text text-anchor=\"start\" x=\"780.5\" y=\"-245.8\" font-family=\"Helvetica,sans-Serif\" font-size=\"14.00\" fill=\"#000000\">value = [485, 638]</text>\n",
       "<text text-anchor=\"start\" x=\"809.5\" y=\"-230.8\" font-family=\"Helvetica,sans-Serif\" font-size=\"14.00\" fill=\"#000000\">class = 1</text>\n",
       "</g>\n",
       "<!-- 0&#45;&gt;8 -->\n",
       "<g id=\"edge8\" class=\"edge\">\n",
       "<title>0&#45;&gt;8</title>\n",
       "<path fill=\"none\" stroke=\"#000000\" d=\"M729.9085,-341.8796C743.3839,-332.2774 757.8203,-321.9903 771.625,-312.1534\"/>\n",
       "<polygon fill=\"#000000\" stroke=\"#000000\" points=\"774.0117,-314.7505 780.1245,-306.0969 769.9494,-309.0497 774.0117,-314.7505\"/>\n",
       "<text text-anchor=\"middle\" x=\"775.9866\" y=\"-327.0521\" font-family=\"Helvetica,sans-Serif\" font-size=\"14.00\" fill=\"#000000\">False</text>\n",
       "</g>\n",
       "<!-- 2 -->\n",
       "<g id=\"node3\" class=\"node\">\n",
       "<title>2</title>\n",
       "<path fill=\"#399de5\" fill-opacity=\"0.890196\" stroke=\"#000000\" d=\"M352,-187C352,-187 195,-187 195,-187 189,-187 183,-181 183,-175 183,-175 183,-116 183,-116 183,-110 189,-104 195,-104 195,-104 352,-104 352,-104 358,-104 364,-110 364,-116 364,-116 364,-175 364,-175 364,-181 358,-187 352,-187\"/>\n",
       "<text text-anchor=\"start\" x=\"229.5\" y=\"-171.8\" font-family=\"Helvetica,sans-Serif\" font-size=\"14.00\" fill=\"#000000\">terribl ≤ 0.116</text>\n",
       "<text text-anchor=\"start\" x=\"240\" y=\"-156.8\" font-family=\"Helvetica,sans-Serif\" font-size=\"14.00\" fill=\"#000000\">gini = 0.18</text>\n",
       "<text text-anchor=\"start\" x=\"217.5\" y=\"-141.8\" font-family=\"Helvetica,sans-Serif\" font-size=\"14.00\" fill=\"#000000\">samples = 77420</text>\n",
       "<text text-anchor=\"start\" x=\"191\" y=\"-126.8\" font-family=\"Helvetica,sans-Serif\" font-size=\"14.00\" fill=\"#000000\">value = [3859.5, 34850.5]</text>\n",
       "<text text-anchor=\"start\" x=\"244.5\" y=\"-111.8\" font-family=\"Helvetica,sans-Serif\" font-size=\"14.00\" fill=\"#000000\">class = 1</text>\n",
       "</g>\n",
       "<!-- 1&#45;&gt;2 -->\n",
       "<g id=\"edge2\" class=\"edge\">\n",
       "<title>1&#45;&gt;2</title>\n",
       "<path fill=\"none\" stroke=\"#000000\" d=\"M430.2099,-222.8796C409.7544,-212.7791 387.7642,-201.9209 366.9149,-191.626\"/>\n",
       "<polygon fill=\"#000000\" stroke=\"#000000\" points=\"368.2586,-188.3861 357.7425,-187.0969 365.1594,-194.6627 368.2586,-188.3861\"/>\n",
       "</g>\n",
       "<!-- 5 -->\n",
       "<g id=\"node6\" class=\"node\">\n",
       "<title>5</title>\n",
       "<path fill=\"#e58139\" fill-opacity=\"0.631373\" stroke=\"#000000\" d=\"M564.5,-187C564.5,-187 464.5,-187 464.5,-187 458.5,-187 452.5,-181 452.5,-175 452.5,-175 452.5,-116 452.5,-116 452.5,-110 458.5,-104 464.5,-104 464.5,-104 564.5,-104 564.5,-104 570.5,-104 576.5,-110 576.5,-116 576.5,-116 576.5,-175 576.5,-175 576.5,-181 570.5,-187 564.5,-187\"/>\n",
       "<text text-anchor=\"start\" x=\"474.5\" y=\"-171.8\" font-family=\"Helvetica,sans-Serif\" font-size=\"14.00\" fill=\"#000000\">best ≤ 0.021</text>\n",
       "<text text-anchor=\"start\" x=\"476.5\" y=\"-156.8\" font-family=\"Helvetica,sans-Serif\" font-size=\"14.00\" fill=\"#000000\">gini = 0.394</text>\n",
       "<text text-anchor=\"start\" x=\"466.5\" y=\"-141.8\" font-family=\"Helvetica,sans-Serif\" font-size=\"14.00\" fill=\"#000000\">samples = 334</text>\n",
       "<text text-anchor=\"start\" x=\"460.5\" y=\"-126.8\" font-family=\"Helvetica,sans-Serif\" font-size=\"14.00\" fill=\"#000000\">value = [122, 45]</text>\n",
       "<text text-anchor=\"start\" x=\"485.5\" y=\"-111.8\" font-family=\"Helvetica,sans-Serif\" font-size=\"14.00\" fill=\"#000000\">class = 0</text>\n",
       "</g>\n",
       "<!-- 1&#45;&gt;5 -->\n",
       "<g id=\"edge5\" class=\"edge\">\n",
       "<title>1&#45;&gt;5</title>\n",
       "<path fill=\"none\" stroke=\"#000000\" d=\"M514.5,-222.8796C514.5,-214.6838 514.5,-205.9891 514.5,-197.5013\"/>\n",
       "<polygon fill=\"#000000\" stroke=\"#000000\" points=\"518.0001,-197.298 514.5,-187.2981 511.0001,-197.2981 518.0001,-197.298\"/>\n",
       "</g>\n",
       "<!-- 3 -->\n",
       "<g id=\"node4\" class=\"node\">\n",
       "<title>3</title>\n",
       "<path fill=\"#399de5\" fill-opacity=\"0.894118\" stroke=\"#000000\" d=\"M169,-68C169,-68 12,-68 12,-68 6,-68 0,-62 0,-56 0,-56 0,-12 0,-12 0,-6 6,0 12,0 12,0 169,0 169,0 175,0 181,-6 181,-12 181,-12 181,-56 181,-56 181,-62 175,-68 169,-68\"/>\n",
       "<text text-anchor=\"start\" x=\"52.5\" y=\"-52.8\" font-family=\"Helvetica,sans-Serif\" font-size=\"14.00\" fill=\"#000000\">gini = 0.175</text>\n",
       "<text text-anchor=\"start\" x=\"34.5\" y=\"-37.8\" font-family=\"Helvetica,sans-Serif\" font-size=\"14.00\" fill=\"#000000\">samples = 77065</text>\n",
       "<text text-anchor=\"start\" x=\"8\" y=\"-22.8\" font-family=\"Helvetica,sans-Serif\" font-size=\"14.00\" fill=\"#000000\">value = [3740.0, 34792.5]</text>\n",
       "<text text-anchor=\"start\" x=\"61.5\" y=\"-7.8\" font-family=\"Helvetica,sans-Serif\" font-size=\"14.00\" fill=\"#000000\">class = 1</text>\n",
       "</g>\n",
       "<!-- 2&#45;&gt;3 -->\n",
       "<g id=\"edge3\" class=\"edge\">\n",
       "<title>2&#45;&gt;3</title>\n",
       "<path fill=\"none\" stroke=\"#000000\" d=\"M205.3576,-103.9815C188.9808,-94.0034 171.5343,-83.3733 155.3138,-73.4904\"/>\n",
       "<polygon fill=\"#000000\" stroke=\"#000000\" points=\"156.8041,-70.2999 146.4432,-68.0856 153.1618,-76.2778 156.8041,-70.2999\"/>\n",
       "</g>\n",
       "<!-- 4 -->\n",
       "<g id=\"node5\" class=\"node\">\n",
       "<title>4</title>\n",
       "<path fill=\"#e58139\" fill-opacity=\"0.513725\" stroke=\"#000000\" d=\"M335.5,-68C335.5,-68 211.5,-68 211.5,-68 205.5,-68 199.5,-62 199.5,-56 199.5,-56 199.5,-12 199.5,-12 199.5,-6 205.5,0 211.5,0 211.5,0 335.5,0 335.5,0 341.5,0 347.5,-6 347.5,-12 347.5,-12 347.5,-56 347.5,-56 347.5,-62 341.5,-68 335.5,-68\"/>\n",
       "<text text-anchor=\"start\" x=\"240\" y=\"-52.8\" font-family=\"Helvetica,sans-Serif\" font-size=\"14.00\" fill=\"#000000\">gini = 0.44</text>\n",
       "<text text-anchor=\"start\" x=\"225.5\" y=\"-37.8\" font-family=\"Helvetica,sans-Serif\" font-size=\"14.00\" fill=\"#000000\">samples = 355</text>\n",
       "<text text-anchor=\"start\" x=\"207.5\" y=\"-22.8\" font-family=\"Helvetica,sans-Serif\" font-size=\"14.00\" fill=\"#000000\">value = [119.5, 58.0]</text>\n",
       "<text text-anchor=\"start\" x=\"244.5\" y=\"-7.8\" font-family=\"Helvetica,sans-Serif\" font-size=\"14.00\" fill=\"#000000\">class = 0</text>\n",
       "</g>\n",
       "<!-- 2&#45;&gt;4 -->\n",
       "<g id=\"edge4\" class=\"edge\">\n",
       "<title>2&#45;&gt;4</title>\n",
       "<path fill=\"none\" stroke=\"#000000\" d=\"M273.5,-103.9815C273.5,-95.618 273.5,-86.7965 273.5,-78.3409\"/>\n",
       "<polygon fill=\"#000000\" stroke=\"#000000\" points=\"277.0001,-78.2636 273.5,-68.2637 270.0001,-78.2637 277.0001,-78.2636\"/>\n",
       "</g>\n",
       "<!-- 6 -->\n",
       "<g id=\"node7\" class=\"node\">\n",
       "<title>6</title>\n",
       "<path fill=\"#e58139\" fill-opacity=\"0.760784\" stroke=\"#000000\" d=\"M501.5,-68C501.5,-68 377.5,-68 377.5,-68 371.5,-68 365.5,-62 365.5,-56 365.5,-56 365.5,-12 365.5,-12 365.5,-6 371.5,0 377.5,0 377.5,0 501.5,0 501.5,0 507.5,0 513.5,-6 513.5,-12 513.5,-12 513.5,-56 513.5,-56 513.5,-62 507.5,-68 501.5,-68\"/>\n",
       "<text text-anchor=\"start\" x=\"401.5\" y=\"-52.8\" font-family=\"Helvetica,sans-Serif\" font-size=\"14.00\" fill=\"#000000\">gini = 0.311</text>\n",
       "<text text-anchor=\"start\" x=\"391.5\" y=\"-37.8\" font-family=\"Helvetica,sans-Serif\" font-size=\"14.00\" fill=\"#000000\">samples = 286</text>\n",
       "<text text-anchor=\"start\" x=\"373.5\" y=\"-22.8\" font-family=\"Helvetica,sans-Serif\" font-size=\"14.00\" fill=\"#000000\">value = [115.5, 27.5]</text>\n",
       "<text text-anchor=\"start\" x=\"410.5\" y=\"-7.8\" font-family=\"Helvetica,sans-Serif\" font-size=\"14.00\" fill=\"#000000\">class = 0</text>\n",
       "</g>\n",
       "<!-- 5&#45;&gt;6 -->\n",
       "<g id=\"edge6\" class=\"edge\">\n",
       "<title>5&#45;&gt;6</title>\n",
       "<path fill=\"none\" stroke=\"#000000\" d=\"M486.5728,-103.9815C480.5762,-95.0666 474.2296,-85.6313 468.2041,-76.6734\"/>\n",
       "<polygon fill=\"#000000\" stroke=\"#000000\" points=\"471.0328,-74.6078 462.5473,-68.2637 465.2245,-78.5147 471.0328,-74.6078\"/>\n",
       "</g>\n",
       "<!-- 7 -->\n",
       "<g id=\"node8\" class=\"node\">\n",
       "<title>7</title>\n",
       "<path fill=\"#399de5\" fill-opacity=\"0.627451\" stroke=\"#000000\" d=\"M651,-68C651,-68 544,-68 544,-68 538,-68 532,-62 532,-56 532,-56 532,-12 532,-12 532,-6 538,0 544,0 544,0 651,0 651,0 657,0 663,-6 663,-12 663,-12 663,-56 663,-56 663,-62 657,-68 651,-68\"/>\n",
       "<text text-anchor=\"start\" x=\"559.5\" y=\"-52.8\" font-family=\"Helvetica,sans-Serif\" font-size=\"14.00\" fill=\"#000000\">gini = 0.395</text>\n",
       "<text text-anchor=\"start\" x=\"553.5\" y=\"-37.8\" font-family=\"Helvetica,sans-Serif\" font-size=\"14.00\" fill=\"#000000\">samples = 48</text>\n",
       "<text text-anchor=\"start\" x=\"540\" y=\"-22.8\" font-family=\"Helvetica,sans-Serif\" font-size=\"14.00\" fill=\"#000000\">value = [6.5, 17.5]</text>\n",
       "<text text-anchor=\"start\" x=\"568.5\" y=\"-7.8\" font-family=\"Helvetica,sans-Serif\" font-size=\"14.00\" fill=\"#000000\">class = 1</text>\n",
       "</g>\n",
       "<!-- 5&#45;&gt;7 -->\n",
       "<g id=\"edge7\" class=\"edge\">\n",
       "<title>5&#45;&gt;7</title>\n",
       "<path fill=\"none\" stroke=\"#000000\" d=\"M545.4061,-103.9815C552.1108,-94.9747 559.2108,-85.4367 565.9403,-76.3965\"/>\n",
       "<polygon fill=\"#000000\" stroke=\"#000000\" points=\"568.8306,-78.3752 571.9943,-68.2637 563.2155,-74.1953 568.8306,-78.3752\"/>\n",
       "</g>\n",
       "<!-- 9 -->\n",
       "<g id=\"node10\" class=\"node\">\n",
       "<title>9</title>\n",
       "<path fill=\"#399de5\" fill-opacity=\"0.019608\" stroke=\"#000000\" d=\"M904.5,-187C904.5,-187 772.5,-187 772.5,-187 766.5,-187 760.5,-181 760.5,-175 760.5,-175 760.5,-116 760.5,-116 760.5,-110 766.5,-104 772.5,-104 772.5,-104 904.5,-104 904.5,-104 910.5,-104 916.5,-110 916.5,-116 916.5,-116 916.5,-175 916.5,-175 916.5,-181 910.5,-187 904.5,-187\"/>\n",
       "<text text-anchor=\"start\" x=\"798.5\" y=\"-171.8\" font-family=\"Helvetica,sans-Serif\" font-size=\"14.00\" fill=\"#000000\">best ≤ 0.032</text>\n",
       "<text text-anchor=\"start\" x=\"809\" y=\"-156.8\" font-family=\"Helvetica,sans-Serif\" font-size=\"14.00\" fill=\"#000000\">gini = 0.5</text>\n",
       "<text text-anchor=\"start\" x=\"786.5\" y=\"-141.8\" font-family=\"Helvetica,sans-Serif\" font-size=\"14.00\" fill=\"#000000\">samples = 1777</text>\n",
       "<text text-anchor=\"start\" x=\"768.5\" y=\"-126.8\" font-family=\"Helvetica,sans-Serif\" font-size=\"14.00\" fill=\"#000000\">value = [440.0, 448.5]</text>\n",
       "<text text-anchor=\"start\" x=\"809.5\" y=\"-111.8\" font-family=\"Helvetica,sans-Serif\" font-size=\"14.00\" fill=\"#000000\">class = 1</text>\n",
       "</g>\n",
       "<!-- 8&#45;&gt;9 -->\n",
       "<g id=\"edge9\" class=\"edge\">\n",
       "<title>8&#45;&gt;9</title>\n",
       "<path fill=\"none\" stroke=\"#000000\" d=\"M838.5,-222.8796C838.5,-214.6838 838.5,-205.9891 838.5,-197.5013\"/>\n",
       "<polygon fill=\"#000000\" stroke=\"#000000\" points=\"842.0001,-197.298 838.5,-187.2981 835.0001,-197.2981 842.0001,-197.298\"/>\n",
       "</g>\n",
       "<!-- 12 -->\n",
       "<g id=\"node13\" class=\"node\">\n",
       "<title>12</title>\n",
       "<path fill=\"#399de5\" fill-opacity=\"0.760784\" stroke=\"#000000\" d=\"M1149.5,-187C1149.5,-187 1025.5,-187 1025.5,-187 1019.5,-187 1013.5,-181 1013.5,-175 1013.5,-175 1013.5,-116 1013.5,-116 1013.5,-110 1019.5,-104 1025.5,-104 1025.5,-104 1149.5,-104 1149.5,-104 1155.5,-104 1161.5,-110 1161.5,-116 1161.5,-116 1161.5,-175 1161.5,-175 1161.5,-181 1155.5,-187 1149.5,-187\"/>\n",
       "<text text-anchor=\"start\" x=\"1041\" y=\"-171.8\" font-family=\"Helvetica,sans-Serif\" font-size=\"14.00\" fill=\"#000000\">chang ≤ 0.032</text>\n",
       "<text text-anchor=\"start\" x=\"1054\" y=\"-156.8\" font-family=\"Helvetica,sans-Serif\" font-size=\"14.00\" fill=\"#000000\">gini = 0.31</text>\n",
       "<text text-anchor=\"start\" x=\"1039.5\" y=\"-141.8\" font-family=\"Helvetica,sans-Serif\" font-size=\"14.00\" fill=\"#000000\">samples = 469</text>\n",
       "<text text-anchor=\"start\" x=\"1021.5\" y=\"-126.8\" font-family=\"Helvetica,sans-Serif\" font-size=\"14.00\" fill=\"#000000\">value = [45.0, 189.5]</text>\n",
       "<text text-anchor=\"start\" x=\"1058.5\" y=\"-111.8\" font-family=\"Helvetica,sans-Serif\" font-size=\"14.00\" fill=\"#000000\">class = 1</text>\n",
       "</g>\n",
       "<!-- 8&#45;&gt;12 -->\n",
       "<g id=\"edge12\" class=\"edge\">\n",
       "<title>8&#45;&gt;12</title>\n",
       "<path fill=\"none\" stroke=\"#000000\" d=\"M904.5737,-232.9226C935.1271,-218.3208 971.7517,-200.8174 1004.1771,-185.321\"/>\n",
       "<polygon fill=\"#000000\" stroke=\"#000000\" points=\"1005.6894,-188.4774 1013.2028,-181.0075 1002.671,-182.1616 1005.6894,-188.4774\"/>\n",
       "</g>\n",
       "<!-- 10 -->\n",
       "<g id=\"node11\" class=\"node\">\n",
       "<title>10</title>\n",
       "<path fill=\"#e58139\" fill-opacity=\"0.160784\" stroke=\"#000000\" d=\"M825.5,-68C825.5,-68 693.5,-68 693.5,-68 687.5,-68 681.5,-62 681.5,-56 681.5,-56 681.5,-12 681.5,-12 681.5,-6 687.5,0 693.5,0 693.5,0 825.5,0 825.5,0 831.5,0 837.5,-6 837.5,-12 837.5,-12 837.5,-56 837.5,-56 837.5,-62 831.5,-68 825.5,-68\"/>\n",
       "<text text-anchor=\"start\" x=\"721.5\" y=\"-52.8\" font-family=\"Helvetica,sans-Serif\" font-size=\"14.00\" fill=\"#000000\">gini = 0.496</text>\n",
       "<text text-anchor=\"start\" x=\"707.5\" y=\"-37.8\" font-family=\"Helvetica,sans-Serif\" font-size=\"14.00\" fill=\"#000000\">samples = 1568</text>\n",
       "<text text-anchor=\"start\" x=\"689.5\" y=\"-22.8\" font-family=\"Helvetica,sans-Serif\" font-size=\"14.00\" fill=\"#000000\">value = [426.5, 357.5]</text>\n",
       "<text text-anchor=\"start\" x=\"730.5\" y=\"-7.8\" font-family=\"Helvetica,sans-Serif\" font-size=\"14.00\" fill=\"#000000\">class = 0</text>\n",
       "</g>\n",
       "<!-- 9&#45;&gt;10 -->\n",
       "<g id=\"edge10\" class=\"edge\">\n",
       "<title>9&#45;&gt;10</title>\n",
       "<path fill=\"none\" stroke=\"#000000\" d=\"M809.0833,-103.9815C802.7669,-95.0666 796.0818,-85.6313 789.7349,-76.6734\"/>\n",
       "<polygon fill=\"#000000\" stroke=\"#000000\" points=\"792.4136,-74.3998 783.7765,-68.2637 786.7019,-78.4466 792.4136,-74.3998\"/>\n",
       "</g>\n",
       "<!-- 11 -->\n",
       "<g id=\"node12\" class=\"node\">\n",
       "<title>11</title>\n",
       "<path fill=\"#399de5\" fill-opacity=\"0.850980\" stroke=\"#000000\" d=\"M983.5,-68C983.5,-68 867.5,-68 867.5,-68 861.5,-68 855.5,-62 855.5,-56 855.5,-56 855.5,-12 855.5,-12 855.5,-6 861.5,0 867.5,0 867.5,0 983.5,0 983.5,0 989.5,0 995.5,-6 995.5,-12 995.5,-12 995.5,-56 995.5,-56 995.5,-62 989.5,-68 983.5,-68\"/>\n",
       "<text text-anchor=\"start\" x=\"887.5\" y=\"-52.8\" font-family=\"Helvetica,sans-Serif\" font-size=\"14.00\" fill=\"#000000\">gini = 0.225</text>\n",
       "<text text-anchor=\"start\" x=\"877.5\" y=\"-37.8\" font-family=\"Helvetica,sans-Serif\" font-size=\"14.00\" fill=\"#000000\">samples = 209</text>\n",
       "<text text-anchor=\"start\" x=\"863.5\" y=\"-22.8\" font-family=\"Helvetica,sans-Serif\" font-size=\"14.00\" fill=\"#000000\">value = [13.5, 91.0]</text>\n",
       "<text text-anchor=\"start\" x=\"896.5\" y=\"-7.8\" font-family=\"Helvetica,sans-Serif\" font-size=\"14.00\" fill=\"#000000\">class = 1</text>\n",
       "</g>\n",
       "<!-- 9&#45;&gt;11 -->\n",
       "<g id=\"edge11\" class=\"edge\">\n",
       "<title>9&#45;&gt;11</title>\n",
       "<path fill=\"none\" stroke=\"#000000\" d=\"M870.8956,-103.9815C877.9234,-94.9747 885.3655,-85.4367 892.4193,-76.3965\"/>\n",
       "<polygon fill=\"#000000\" stroke=\"#000000\" points=\"895.3728,-78.3008 898.7651,-68.2637 889.854,-73.9946 895.3728,-78.3008\"/>\n",
       "</g>\n",
       "<!-- 13 -->\n",
       "<g id=\"node14\" class=\"node\">\n",
       "<title>13</title>\n",
       "<path fill=\"#399de5\" fill-opacity=\"0.831373\" stroke=\"#000000\" d=\"M1149.5,-68C1149.5,-68 1025.5,-68 1025.5,-68 1019.5,-68 1013.5,-62 1013.5,-56 1013.5,-56 1013.5,-12 1013.5,-12 1013.5,-6 1019.5,0 1025.5,0 1025.5,0 1149.5,0 1149.5,0 1155.5,0 1161.5,-6 1161.5,-12 1161.5,-12 1161.5,-56 1161.5,-56 1161.5,-62 1155.5,-68 1149.5,-68\"/>\n",
       "<text text-anchor=\"start\" x=\"1049.5\" y=\"-52.8\" font-family=\"Helvetica,sans-Serif\" font-size=\"14.00\" fill=\"#000000\">gini = 0.245</text>\n",
       "<text text-anchor=\"start\" x=\"1039.5\" y=\"-37.8\" font-family=\"Helvetica,sans-Serif\" font-size=\"14.00\" fill=\"#000000\">samples = 441</text>\n",
       "<text text-anchor=\"start\" x=\"1021.5\" y=\"-22.8\" font-family=\"Helvetica,sans-Serif\" font-size=\"14.00\" fill=\"#000000\">value = [31.5, 189.0]</text>\n",
       "<text text-anchor=\"start\" x=\"1058.5\" y=\"-7.8\" font-family=\"Helvetica,sans-Serif\" font-size=\"14.00\" fill=\"#000000\">class = 1</text>\n",
       "</g>\n",
       "<!-- 12&#45;&gt;13 -->\n",
       "<g id=\"edge13\" class=\"edge\">\n",
       "<title>12&#45;&gt;13</title>\n",
       "<path fill=\"none\" stroke=\"#000000\" d=\"M1087.5,-103.9815C1087.5,-95.618 1087.5,-86.7965 1087.5,-78.3409\"/>\n",
       "<polygon fill=\"#000000\" stroke=\"#000000\" points=\"1091.0001,-78.2636 1087.5,-68.2637 1084.0001,-78.2637 1091.0001,-78.2636\"/>\n",
       "</g>\n",
       "<!-- 14 -->\n",
       "<g id=\"node15\" class=\"node\">\n",
       "<title>14</title>\n",
       "<path fill=\"#e58139\" fill-opacity=\"0.964706\" stroke=\"#000000\" d=\"M1299,-68C1299,-68 1192,-68 1192,-68 1186,-68 1180,-62 1180,-56 1180,-56 1180,-12 1180,-12 1180,-6 1186,0 1192,0 1192,0 1299,0 1299,0 1305,0 1311,-6 1311,-12 1311,-12 1311,-56 1311,-56 1311,-62 1305,-68 1299,-68\"/>\n",
       "<text text-anchor=\"start\" x=\"1207.5\" y=\"-52.8\" font-family=\"Helvetica,sans-Serif\" font-size=\"14.00\" fill=\"#000000\">gini = 0.069</text>\n",
       "<text text-anchor=\"start\" x=\"1201.5\" y=\"-37.8\" font-family=\"Helvetica,sans-Serif\" font-size=\"14.00\" fill=\"#000000\">samples = 28</text>\n",
       "<text text-anchor=\"start\" x=\"1188\" y=\"-22.8\" font-family=\"Helvetica,sans-Serif\" font-size=\"14.00\" fill=\"#000000\">value = [13.5, 0.5]</text>\n",
       "<text text-anchor=\"start\" x=\"1216.5\" y=\"-7.8\" font-family=\"Helvetica,sans-Serif\" font-size=\"14.00\" fill=\"#000000\">class = 0</text>\n",
       "</g>\n",
       "<!-- 12&#45;&gt;14 -->\n",
       "<g id=\"edge14\" class=\"edge\">\n",
       "<title>12&#45;&gt;14</title>\n",
       "<path fill=\"none\" stroke=\"#000000\" d=\"M1146.3334,-103.9815C1160.211,-94.1881 1174.9784,-83.7668 1188.7614,-74.0402\"/>\n",
       "<polygon fill=\"#000000\" stroke=\"#000000\" points=\"1191.0469,-76.7111 1197.1993,-68.0856 1187.0108,-70.9918 1191.0469,-76.7111\"/>\n",
       "</g>\n",
       "</g>\n",
       "</svg>\n"
      ],
      "text/plain": [
       "<graphviz.files.Source at 0x7f4ab4a82a58>"
      ]
     },
     "execution_count": 39,
     "metadata": {
      "tags": []
     },
     "output_type": "execute_result"
    }
   ],
   "source": [
    "import graphviz \n",
    "target=['0','1']\n",
    "dot_data = tree.export_graphviz(dt,out_file=None,feature_names=vectorizer.get_feature_names(),class_names=target,filled=True,rounded=True,special_characters=True) \n",
    "graph = graphviz.Source(dot_data)\n",
    "graph"
   ]
  },
  {
   "cell_type": "code",
   "execution_count": 28,
   "metadata": {
    "colab": {
     "base_uri": "https://localhost:8080/",
     "height": 34
    },
    "colab_type": "code",
    "id": "b7rPK54mwFlH",
    "outputId": "e26c12ef-0d76-4ce3-906e-f151b2e49814"
   },
   "outputs": [
    {
     "data": {
      "text/plain": [
       "'gdrive/My Drive/decision_tree_tfidf.pdf'"
      ]
     },
     "execution_count": 28,
     "metadata": {
      "tags": []
     },
     "output_type": "execute_result"
    }
   ],
   "source": [
    "graph.render(\"gdrive/My Drive/decision_tree_tfidf\") "
   ]
  },
  {
   "cell_type": "markdown",
   "metadata": {
    "colab_type": "text",
    "id": "UZhFl3kNxbs6"
   },
   "source": [
    "# REPRESENTING TOP IMPORTANT FEATURES USING WORDCLOUD LIBRARY"
   ]
  },
  {
   "cell_type": "code",
   "execution_count": 34,
   "metadata": {
    "colab": {
     "base_uri": "https://localhost:8080/",
     "height": 34
    },
    "colab_type": "code",
    "id": "kq9p4Dpj3Kt1",
    "outputId": "954abb54-59a8-4add-aa5d-23588a14762d"
   },
   "outputs": [
    {
     "name": "stdout",
     "output_type": "stream",
     "text": [
      "shape of wieght vector is: (17204,)\n"
     ]
    }
   ],
   "source": [
    "dt=DecisionTreeClassifier(criterion='gini', splitter='best',class_weight={1:.5,0:.5},min_samples_split=25,max_depth=10)\n",
    "dt.fit(train_tfidf,y_train)#fitting the model \n",
    "z=dt.feature_importances_\n",
    "a=z.argsort()\n",
    "print('shape of wieght vector is:',a.shape)\n",
    "top_features=np.take(vectorizer.get_feature_names(),a[17180:])#taking last features as they are of very high importance \n"
   ]
  },
  {
   "cell_type": "code",
   "execution_count": 35,
   "metadata": {
    "colab": {
     "base_uri": "https://localhost:8080/",
     "height": 415
    },
    "colab_type": "code",
    "id": "pSLIDa784zD3",
    "outputId": "9eb020c4-3752-45d9-9d9b-6cd69a70b283"
   },
   "outputs": [
    {
     "data": {
      "image/png": "[encoded data removed]",
      "text/plain": [
       "<Figure size 576x576 with 1 Axes>"
      ]
     },
     "metadata": {
      "tags": []
     },
     "output_type": "display_data"
    }
   ],
   "source": [
    "from wordcloud import WordCloud #here we are printing the top features using wordcloud library\n",
    "import matplotlib.pyplot as plt\n",
    "wordcloud = WordCloud(width = 1500, height = 1000, \n",
    "                background_color ='white', \n",
    "                 \n",
    "                min_font_size = 10).generate(str(top_features)) \n",
    "  \n",
    "# plot the WordCloud image                        \n",
    "plt.figure(figsize = (8, 8), facecolor = None) \n",
    "plt.imshow(wordcloud) \n",
    "plt.axis(\"off\") \n",
    "plt.tight_layout(pad = 0) \n",
    "  \n",
    "plt.show() "
   ]
  },
  {
   "cell_type": "markdown",
   "metadata": {
    "colab_type": "text",
    "id": "L02W9vmpqcjH"
   },
   "source": [
    "# TESTING OUR MODEL ON TEST DATA AND CHECKING ITS PRECISION ,RECALL ,F1_FCORE"
   ]
  },
  {
   "cell_type": "code",
   "execution_count": 36,
   "metadata": {
    "colab": {
     "base_uri": "https://localhost:8080/",
     "height": 511
    },
    "colab_type": "code",
    "id": "HIKew9mC4-Rx",
    "outputId": "c865ea25-aa71-450e-f105-3875c692d9b3"
   },
   "outputs": [
    {
     "name": "stdout",
     "output_type": "stream",
     "text": [
      "Accuracy on test set: 87.765%\n",
      "Precision on test set: 0.889\n",
      "Recall on test set: 0.982\n",
      "F1-Score on test set: 0.933\n",
      "Confusion Matrix of test set:\n",
      " [ [TN  FP]\n",
      " [FN TP] ]\n",
      "\n"
     ]
    },
    {
     "data": {
      "text/plain": [
       "<matplotlib.axes._subplots.AxesSubplot at 0x7f4ab4a89048>"
      ]
     },
     "execution_count": 36,
     "metadata": {
      "tags": []
     },
     "output_type": "execute_result"
    },
    {
     "data": {
      "image/png": "[encoded data removed]",
      "text/plain": [
       "<Figure size 576x396 with 2 Axes>"
      ]
     },
     "metadata": {
      "tags": []
     },
     "output_type": "display_data"
    }
   ],
   "source": [
    "#Testing Accuracy on Test data  \n",
    "import seaborn as sns #importing seaborn as sns\n",
    "from sklearn.metrics import *#importing varoius metrics from sklearn\n",
    "#building the model\n",
    "y_pred = dt.predict(test_tfidf) \n",
    "print(\"Accuracy on test set: %0.3f%%\"%(accuracy_score(y_test, y_pred)*100))#printing accuracy\n",
    "print(\"Precision on test set: %0.3f\"%(precision_score(y_test, y_pred)))#printing precision score\n",
    "print(\"Recall on test set: %0.3f\"%(recall_score(y_test, y_pred))) #printing recall\n",
    "print(\"F1-Score on test set: %0.3f\"%(f1_score(y_test, y_pred))) \n",
    "print(\"Confusion Matrix of test set:\\n [ [TN  FP]\\n [FN TP] ]\\n\") \n",
    "df_cm = pd.DataFrame(confusion_matrix(y_test, y_pred), range(2),range(2)) #generating the heatmap for confusion matrix\n",
    "sns.set(font_scale=1.4)#for label size\n",
    "sns.heatmap(df_cm, annot=True,annot_kws={\"size\": 16}, fmt='g')\n"
   ]
  },
  {
   "cell_type": "markdown",
   "metadata": {
    "colab_type": "text",
    "id": "KsvbjbW8qJ5r"
   },
   "source": [
    "# TFIDF VECTORIZATION FOR DECISION TREE IS COMPLETED "
   ]
  },
  {
   "cell_type": "code",
   "execution_count": 0,
   "metadata": {
    "colab": {},
    "colab_type": "code",
    "collapsed": true,
    "id": "kLE-j3As5vk9"
   },
   "outputs": [],
   "source": [
    "#TFIDF vertorization is completed for decision_trees"
   ]
  },
  {
   "cell_type": "code",
   "execution_count": 0,
   "metadata": {
    "colab": {},
    "colab_type": "code",
    "collapsed": true,
    "id": "A8IdBsvkrKiP"
   },
   "outputs": [],
   "source": []
  }
 ],
 "metadata": {
  "colab": {
   "collapsed_sections": [],
   "name": "tfidf_decision_tree.ipynb",
   "provenance": [],
   "version": "0.3.2"
  },
  "kernelspec": {
   "display_name": "Python 3",
   "language": "python",
   "name": "python3"
  },
  "language_info": {
   "codemirror_mode": {
    "name": "ipython",
    "version": 3
   },
   "file_extension": ".py",
   "mimetype": "text/x-python",
   "name": "python",
   "nbconvert_exporter": "python",
   "pygments_lexer": "ipython3",
   "version": "3.6.3"
  }
 },
 "nbformat": 4,
 "nbformat_minor": 1
}
