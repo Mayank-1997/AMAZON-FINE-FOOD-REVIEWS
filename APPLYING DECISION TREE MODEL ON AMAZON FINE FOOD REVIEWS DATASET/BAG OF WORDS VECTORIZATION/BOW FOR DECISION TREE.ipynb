{
 "cells": [
  {
   "cell_type": "markdown",
   "metadata": {
    "colab_type": "text",
    "id": "JY8IF99xnx6g"
   },
   "source": [
    "# OBJECTIVE #\n",
    "\n",
    "1.   <b>APPLYING DECISION TREE WITH BOW VECTORIZATION\n",
    "\n",
    " *   FINDING THE BEST HYPERPARAMETER USING GRIDSEARCHCV WITH TRAIN DATA AND CROSS-VALIDATION DATA BY PLOTTING THE RESLUTS OF VAROIUS TRAIN DATA AND CROSS VALIDATION DATA\n",
    " * USING THE APROPRIATE VALUE OF HYPERPARAMETER ,TESTING ACCURACY ON TEST DATA\n",
    "    USING F1-SCORE\n",
    " * PLOTTING THE CONFUSION MATRIX TO GET THE  PRECISOIN ,RECALL VALUE WITH HELP OF HEATMAP\n",
    "  * PRINTING THE TOP 30 MOST IMPORTANT  FEATURES </i></u>\n",
    "  \n"
   ]
  },
  {
   "cell_type": "code",
   "execution_count": 0,
   "metadata": {
    "colab": {},
    "colab_type": "code",
    "collapsed": true,
    "id": "sqKe2mXbEWul"
   },
   "outputs": [],
   "source": [
    "from sklearn.model_selection import train_test_split          #importing the necessary libraries\n",
    "from sklearn.model_selection import RandomizedSearchCV\n",
    "from sklearn.datasets import *\n",
    "from sklearn import naive_bayes\n",
    "from sklearn.feature_extraction.text import CountVectorizer\n",
    "from sklearn.feature_extraction.text import TfidfVectorizer\n",
    "import numpy as np\n",
    "import pandas as pd\n",
    "from sklearn import *\n",
    "import warnings\n",
    "warnings.filterwarnings(\"ignore\")\n",
    "from sklearn.tree import DecisionTreeClassifier\n"
   ]
  },
  {
   "cell_type": "code",
   "execution_count": 2,
   "metadata": {
    "colab": {
     "base_uri": "https://localhost:8080/",
     "height": 126
    },
    "colab_type": "code",
    "id": "I9Yx8XnxTAXi",
    "outputId": "b8d9b59b-f482-424b-8efe-308a82b1ab03"
   },
   "outputs": [
    {
     "name": "stdout",
     "output_type": "stream",
     "text": [
      "Go to this URL in a browser: https://accounts.google.com/o/oauth2/auth?client_id=947318989803-6bn6qk8qdgf4n4g3pfee6491hc0brc4i.apps.googleusercontent.com&redirect_uri=urn%3Aietf%3Awg%3Aoauth%3A2.0%3Aoob&scope=email%20https%3A%2F%2Fwww.googleapis.com%2Fauth%2Fdocs.test%20https%3A%2F%2Fwww.googleapis.com%2Fauth%2Fdrive%20https%3A%2F%2Fwww.googleapis.com%2Fauth%2Fdrive.photos.readonly%20https%3A%2F%2Fwww.googleapis.com%2Fauth%2Fpeopleapi.readonly&response_type=code\n",
      "\n",
      "Enter your authorization code:\n",
      "··········\n",
      "Mounted at /content/gdrive\n"
     ]
    }
   ],
   "source": [
    "from google.colab import drive\n",
    "drive.mount('/content/gdrive')#geeting the content from the google drive"
   ]
  },
  {
   "cell_type": "code",
   "execution_count": 0,
   "metadata": {
    "colab": {},
    "colab_type": "code",
    "collapsed": true,
    "id": "UB3PtZmvTK7W"
   },
   "outputs": [],
   "source": [
    "final_processed_data=pd.read_csv(\"gdrive/My Drive/final_new_data.csv\")#loading the preprocessed data  with 100k points into dataframe "
   ]
  },
  {
   "cell_type": "code",
   "execution_count": 4,
   "metadata": {
    "colab": {
     "base_uri": "https://localhost:8080/",
     "height": 52
    },
    "colab_type": "code",
    "id": "RENTF3KZTWSM",
    "outputId": "f167dc58-20e5-4eb1-f0c0-9381ad97996d"
   },
   "outputs": [
    {
     "name": "stdout",
     "output_type": "stream",
     "text": [
      "88521\n",
      "11479\n"
     ]
    }
   ],
   "source": [
    "# getting the counts of 0 and 1 in \"SCORE\" column to know whether it is unbalanced data or not\n",
    "count_of_1=0\n",
    "count_of_0=0\n",
    "for i in final_processed_data['Score']:\n",
    "   if i==1:\n",
    "    count_of_1+=1\n",
    "   else:\n",
    "    count_of_0+=1\n",
    "print(count_of_1)\n",
    "print(count_of_0)\n",
    "#it is an imbalanced dataset"
   ]
  },
  {
   "cell_type": "code",
   "execution_count": 0,
   "metadata": {
    "colab": {},
    "colab_type": "code",
    "collapsed": true,
    "id": "icFP4UVuTY78"
   },
   "outputs": [],
   "source": [
    "#spliiting the data into train and test data\n",
    "x_train,x_test,y_train,y_test=model_selection.train_test_split(final_processed_data['CleanedText'].values,final_processed_data['Score'].values,test_size=0.2,shuffle=False)"
   ]
  },
  {
   "cell_type": "code",
   "execution_count": 6,
   "metadata": {
    "colab": {
     "base_uri": "https://localhost:8080/",
     "height": 34
    },
    "colab_type": "code",
    "id": "5FGfuNoMTjjz",
    "outputId": "19653be6-feec-4df3-ed21-7801afc00e2c"
   },
   "outputs": [
    {
     "name": "stdout",
     "output_type": "stream",
     "text": [
      "(80000, 17204)\n"
     ]
    }
   ],
   "source": [
    "vectorizer=CountVectorizer(min_df=2)#building the vertorizer with word counts equal and more then 2\n",
    "train_bow=vectorizer.fit_transform(x_train)#fitting the model on training data\n",
    "print(train_bow.shape)\n"
   ]
  },
  {
   "cell_type": "code",
   "execution_count": 7,
   "metadata": {
    "colab": {
     "base_uri": "https://localhost:8080/",
     "height": 34
    },
    "colab_type": "code",
    "id": "X2_VGcIzTtAI",
    "outputId": "9845fabf-8d93-446b-e25c-d2094a63a665"
   },
   "outputs": [
    {
     "name": "stdout",
     "output_type": "stream",
     "text": [
      "shape of x_test after bow vectorization  (20000, 17204)\n"
     ]
    }
   ],
   "source": [
    "test_bow=vectorizer.transform(x_test)#fitting the bow model on test data\n",
    "print(\"shape of x_test after bow vectorization \",test_bow.shape)"
   ]
  },
  {
   "cell_type": "code",
   "execution_count": 0,
   "metadata": {
    "colab": {},
    "colab_type": "code",
    "collapsed": true,
    "id": "DmWEEG_cWtuz"
   },
   "outputs": [],
   "source": [
    "#using time series split method for cross-validation score\n",
    "from sklearn.model_selection import TimeSeriesSplit\n",
    "tscv = TimeSeriesSplit(n_splits=5) \n",
    "from sklearn.tree import DecisionTreeClassifier\n",
    "\n",
    "\n"
   ]
  },
  {
   "cell_type": "code",
   "execution_count": 10,
   "metadata": {
    "colab": {
     "base_uri": "https://localhost:8080/",
     "height": 52
    },
    "colab_type": "code",
    "id": "XDGtTsqllX5t",
    "outputId": "63c58200-05b0-40a4-d451-25ca3ca1d97e"
   },
   "outputs": [
    {
     "name": "stdout",
     "output_type": "stream",
     "text": [
      "CPU times: user 22 µs, sys: 3 µs, total: 25 µs\n",
      "Wall time: 1.47 ms\n"
     ]
    }
   ],
   "source": [
    "#biudling the model\n",
    "\n",
    "dt=DecisionTreeClassifier(criterion='gini', splitter='best',class_weight={1:.5,0:.5})\n",
    "tuned_parameters=[{'max_depth':[5,7,10,15,50],'min_samples_split':[5,25,50,100,500]}]\n",
    "#applying the model of decision tree and using gridsearchcv to find the best hyper parameter\n",
    "%time\n",
    "from sklearn.model_selection import GridSearchCV\n",
    "model = GridSearchCV(dt, tuned_parameters, scoring = 'f1', cv=tscv,n_jobs=-1)#building the gridsearchcv model\n"
   ]
  },
  {
   "cell_type": "code",
   "execution_count": 11,
   "metadata": {
    "colab": {
     "base_uri": "https://localhost:8080/",
     "height": 265
    },
    "colab_type": "code",
    "id": "LCZJCchRlZUT",
    "outputId": "d6ca48af-7454-4222-e449-3bf193b8e45f"
   },
   "outputs": [
    {
     "name": "stdout",
     "output_type": "stream",
     "text": [
      "CPU times: user 3.45 s, sys: 183 ms, total: 3.63 s\n",
      "Wall time: 3min 27s\n"
     ]
    },
    {
     "data": {
      "text/plain": [
       "GridSearchCV(cv=TimeSeriesSplit(max_train_size=None, n_splits=5),\n",
       "       error_score='raise-deprecating',\n",
       "       estimator=DecisionTreeClassifier(class_weight={1: 0.5, 0: 0.5}, criterion='gini',\n",
       "            max_depth=None, max_features=None, max_leaf_nodes=None,\n",
       "            min_impurity_decrease=0.0, min_impurity_split=None,\n",
       "            min_samples_leaf=1, min_samples_split=2,\n",
       "            min_weight_fraction_leaf=0.0, presort=False, random_state=None,\n",
       "            splitter='best'),\n",
       "       fit_params=None, iid='warn', n_jobs=-1,\n",
       "       param_grid=[{'max_depth': [5, 7, 10, 15, 50], 'min_samples_split': [5, 25, 50, 100, 500]}],\n",
       "       pre_dispatch='2*n_jobs', refit=True, return_train_score='warn',\n",
       "       scoring='f1', verbose=0)"
      ]
     },
     "execution_count": 11,
     "metadata": {
      "tags": []
     },
     "output_type": "execute_result"
    }
   ],
   "source": [
    "%%time\n",
    "model.fit(train_bow, y_train)#fiitting the training data\n"
   ]
  },
  {
   "cell_type": "code",
   "execution_count": 12,
   "metadata": {
    "colab": {
     "base_uri": "https://localhost:8080/",
     "height": 123
    },
    "colab_type": "code",
    "id": "PMKWg1allZQv",
    "outputId": "7374626a-73a6-449e-c80d-d958e041681a"
   },
   "outputs": [
    {
     "name": "stdout",
     "output_type": "stream",
     "text": [
      "DecisionTreeClassifier(class_weight={1: 0.5, 0: 0.5}, criterion='gini',\n",
      "            max_depth=10, max_features=None, max_leaf_nodes=None,\n",
      "            min_impurity_decrease=0.0, min_impurity_split=None,\n",
      "            min_samples_leaf=1, min_samples_split=50,\n",
      "            min_weight_fraction_leaf=0.0, presort=False, random_state=None,\n",
      "            splitter='best')\n"
     ]
    }
   ],
   "source": [
    "print(model.best_estimator_)#printing the best_estimator"
   ]
  },
  {
   "cell_type": "code",
   "execution_count": 13,
   "metadata": {
    "colab": {
     "base_uri": "https://localhost:8080/",
     "height": 34
    },
    "colab_type": "code",
    "id": "7lYgOfYPlZJ0",
    "outputId": "250d1f5f-6a77-46b5-c984-7fdaf251320e"
   },
   "outputs": [
    {
     "name": "stdout",
     "output_type": "stream",
     "text": [
      "0.9356330594700474\n"
     ]
    }
   ],
   "source": [
    "print(model.score(test_bow,y_test))#checking the score on test_Data "
   ]
  },
  {
   "cell_type": "code",
   "execution_count": 26,
   "metadata": {
    "colab": {
     "base_uri": "https://localhost:8080/",
     "height": 1680
    },
    "colab_type": "code",
    "id": "oHPSBPF0lZB_",
    "outputId": "a0c44291-24db-4b8b-dc69-aa2ffebf9e11"
   },
   "outputs": [
    {
     "data": {
      "text/html": [
       "<div>\n",
       "<style scoped>\n",
       "    .dataframe tbody tr th:only-of-type {\n",
       "        vertical-align: middle;\n",
       "    }\n",
       "\n",
       "    .dataframe tbody tr th {\n",
       "        vertical-align: top;\n",
       "    }\n",
       "\n",
       "    .dataframe thead th {\n",
       "        text-align: right;\n",
       "    }\n",
       "</style>\n",
       "<table border=\"1\" class=\"dataframe\">\n",
       "  <thead>\n",
       "    <tr style=\"text-align: right;\">\n",
       "      <th></th>\n",
       "      <th>mean_fit_time</th>\n",
       "      <th>mean_score_time</th>\n",
       "      <th>mean_test_score</th>\n",
       "      <th>mean_train_score</th>\n",
       "      <th>param_max_depth</th>\n",
       "      <th>param_min_samples_split</th>\n",
       "      <th>params</th>\n",
       "      <th>rank_test_score</th>\n",
       "      <th>split0_test_score</th>\n",
       "      <th>split0_train_score</th>\n",
       "      <th>...</th>\n",
       "      <th>split2_test_score</th>\n",
       "      <th>split2_train_score</th>\n",
       "      <th>split3_test_score</th>\n",
       "      <th>split3_train_score</th>\n",
       "      <th>split4_test_score</th>\n",
       "      <th>split4_train_score</th>\n",
       "      <th>std_fit_time</th>\n",
       "      <th>std_score_time</th>\n",
       "      <th>std_test_score</th>\n",
       "      <th>std_train_score</th>\n",
       "    </tr>\n",
       "  </thead>\n",
       "  <tbody>\n",
       "    <tr>\n",
       "      <th>0</th>\n",
       "      <td>0.827509</td>\n",
       "      <td>0.024285</td>\n",
       "      <td>0.942337</td>\n",
       "      <td>0.945712</td>\n",
       "      <td>5</td>\n",
       "      <td>5</td>\n",
       "      <td>{'max_depth': 5, 'min_samples_split': 5}</td>\n",
       "      <td>18</td>\n",
       "      <td>0.946241</td>\n",
       "      <td>0.944234</td>\n",
       "      <td>...</td>\n",
       "      <td>0.944196</td>\n",
       "      <td>0.945741</td>\n",
       "      <td>0.939547</td>\n",
       "      <td>0.945626</td>\n",
       "      <td>0.938655</td>\n",
       "      <td>0.945705</td>\n",
       "      <td>0.364669</td>\n",
       "      <td>0.001138</td>\n",
       "      <td>0.002848</td>\n",
       "      <td>0.000956</td>\n",
       "    </tr>\n",
       "    <tr>\n",
       "      <th>1</th>\n",
       "      <td>0.816876</td>\n",
       "      <td>0.023738</td>\n",
       "      <td>0.942328</td>\n",
       "      <td>0.945687</td>\n",
       "      <td>5</td>\n",
       "      <td>25</td>\n",
       "      <td>{'max_depth': 5, 'min_samples_split': 25}</td>\n",
       "      <td>19</td>\n",
       "      <td>0.945954</td>\n",
       "      <td>0.944196</td>\n",
       "      <td>...</td>\n",
       "      <td>0.944234</td>\n",
       "      <td>0.945715</td>\n",
       "      <td>0.939633</td>\n",
       "      <td>0.945605</td>\n",
       "      <td>0.938693</td>\n",
       "      <td>0.945680</td>\n",
       "      <td>0.354794</td>\n",
       "      <td>0.000926</td>\n",
       "      <td>0.002753</td>\n",
       "      <td>0.000963</td>\n",
       "    </tr>\n",
       "    <tr>\n",
       "      <th>2</th>\n",
       "      <td>0.808890</td>\n",
       "      <td>0.024651</td>\n",
       "      <td>0.942459</td>\n",
       "      <td>0.945584</td>\n",
       "      <td>5</td>\n",
       "      <td>50</td>\n",
       "      <td>{'max_depth': 5, 'min_samples_split': 50}</td>\n",
       "      <td>17</td>\n",
       "      <td>0.946452</td>\n",
       "      <td>0.944006</td>\n",
       "      <td>...</td>\n",
       "      <td>0.944238</td>\n",
       "      <td>0.945626</td>\n",
       "      <td>0.939633</td>\n",
       "      <td>0.945424</td>\n",
       "      <td>0.939095</td>\n",
       "      <td>0.945627</td>\n",
       "      <td>0.354702</td>\n",
       "      <td>0.002119</td>\n",
       "      <td>0.002778</td>\n",
       "      <td>0.001024</td>\n",
       "    </tr>\n",
       "    <tr>\n",
       "      <th>3</th>\n",
       "      <td>0.795021</td>\n",
       "      <td>0.023996</td>\n",
       "      <td>0.942528</td>\n",
       "      <td>0.945235</td>\n",
       "      <td>5</td>\n",
       "      <td>100</td>\n",
       "      <td>{'max_depth': 5, 'min_samples_split': 100}</td>\n",
       "      <td>16</td>\n",
       "      <td>0.946434</td>\n",
       "      <td>0.942481</td>\n",
       "      <td>...</td>\n",
       "      <td>0.944234</td>\n",
       "      <td>0.945572</td>\n",
       "      <td>0.939633</td>\n",
       "      <td>0.945424</td>\n",
       "      <td>0.939095</td>\n",
       "      <td>0.945627</td>\n",
       "      <td>0.358433</td>\n",
       "      <td>0.001055</td>\n",
       "      <td>0.002788</td>\n",
       "      <td>0.001501</td>\n",
       "    </tr>\n",
       "    <tr>\n",
       "      <th>4</th>\n",
       "      <td>0.740037</td>\n",
       "      <td>0.023346</td>\n",
       "      <td>0.942653</td>\n",
       "      <td>0.944246</td>\n",
       "      <td>5</td>\n",
       "      <td>500</td>\n",
       "      <td>{'max_depth': 5, 'min_samples_split': 500}</td>\n",
       "      <td>15</td>\n",
       "      <td>0.948238</td>\n",
       "      <td>0.941464</td>\n",
       "      <td>...</td>\n",
       "      <td>0.942812</td>\n",
       "      <td>0.944401</td>\n",
       "      <td>0.939717</td>\n",
       "      <td>0.944253</td>\n",
       "      <td>0.939432</td>\n",
       "      <td>0.944626</td>\n",
       "      <td>0.326160</td>\n",
       "      <td>0.001006</td>\n",
       "      <td>0.003174</td>\n",
       "      <td>0.001608</td>\n",
       "    </tr>\n",
       "    <tr>\n",
       "      <th>5</th>\n",
       "      <td>1.142660</td>\n",
       "      <td>0.024244</td>\n",
       "      <td>0.943008</td>\n",
       "      <td>0.948344</td>\n",
       "      <td>7</td>\n",
       "      <td>5</td>\n",
       "      <td>{'max_depth': 7, 'min_samples_split': 5}</td>\n",
       "      <td>7</td>\n",
       "      <td>0.946372</td>\n",
       "      <td>0.948853</td>\n",
       "      <td>...</td>\n",
       "      <td>0.944395</td>\n",
       "      <td>0.947863</td>\n",
       "      <td>0.940565</td>\n",
       "      <td>0.948171</td>\n",
       "      <td>0.940268</td>\n",
       "      <td>0.947550</td>\n",
       "      <td>0.538070</td>\n",
       "      <td>0.001451</td>\n",
       "      <td>0.002320</td>\n",
       "      <td>0.000637</td>\n",
       "    </tr>\n",
       "    <tr>\n",
       "      <th>6</th>\n",
       "      <td>1.125915</td>\n",
       "      <td>0.024061</td>\n",
       "      <td>0.942797</td>\n",
       "      <td>0.948183</td>\n",
       "      <td>7</td>\n",
       "      <td>25</td>\n",
       "      <td>{'max_depth': 7, 'min_samples_split': 25}</td>\n",
       "      <td>13</td>\n",
       "      <td>0.946283</td>\n",
       "      <td>0.948649</td>\n",
       "      <td>...</td>\n",
       "      <td>0.944172</td>\n",
       "      <td>0.947689</td>\n",
       "      <td>0.940318</td>\n",
       "      <td>0.948089</td>\n",
       "      <td>0.939639</td>\n",
       "      <td>0.947406</td>\n",
       "      <td>0.516512</td>\n",
       "      <td>0.001015</td>\n",
       "      <td>0.002481</td>\n",
       "      <td>0.000613</td>\n",
       "    </tr>\n",
       "    <tr>\n",
       "      <th>7</th>\n",
       "      <td>1.096828</td>\n",
       "      <td>0.023543</td>\n",
       "      <td>0.942704</td>\n",
       "      <td>0.947969</td>\n",
       "      <td>7</td>\n",
       "      <td>50</td>\n",
       "      <td>{'max_depth': 7, 'min_samples_split': 50}</td>\n",
       "      <td>14</td>\n",
       "      <td>0.946038</td>\n",
       "      <td>0.948265</td>\n",
       "      <td>...</td>\n",
       "      <td>0.944324</td>\n",
       "      <td>0.947568</td>\n",
       "      <td>0.940214</td>\n",
       "      <td>0.947683</td>\n",
       "      <td>0.939596</td>\n",
       "      <td>0.947247</td>\n",
       "      <td>0.492712</td>\n",
       "      <td>0.001106</td>\n",
       "      <td>0.002450</td>\n",
       "      <td>0.000646</td>\n",
       "    </tr>\n",
       "    <tr>\n",
       "      <th>8</th>\n",
       "      <td>1.074786</td>\n",
       "      <td>0.024038</td>\n",
       "      <td>0.942902</td>\n",
       "      <td>0.947405</td>\n",
       "      <td>7</td>\n",
       "      <td>100</td>\n",
       "      <td>{'max_depth': 7, 'min_samples_split': 100}</td>\n",
       "      <td>10</td>\n",
       "      <td>0.946379</td>\n",
       "      <td>0.946321</td>\n",
       "      <td>...</td>\n",
       "      <td>0.944442</td>\n",
       "      <td>0.947408</td>\n",
       "      <td>0.940413</td>\n",
       "      <td>0.947541</td>\n",
       "      <td>0.939768</td>\n",
       "      <td>0.947247</td>\n",
       "      <td>0.504892</td>\n",
       "      <td>0.000729</td>\n",
       "      <td>0.002484</td>\n",
       "      <td>0.000698</td>\n",
       "    </tr>\n",
       "    <tr>\n",
       "      <th>9</th>\n",
       "      <td>0.964208</td>\n",
       "      <td>0.023310</td>\n",
       "      <td>0.942856</td>\n",
       "      <td>0.945233</td>\n",
       "      <td>7</td>\n",
       "      <td>500</td>\n",
       "      <td>{'max_depth': 7, 'min_samples_split': 500}</td>\n",
       "      <td>12</td>\n",
       "      <td>0.947858</td>\n",
       "      <td>0.943013</td>\n",
       "      <td>...</td>\n",
       "      <td>0.942801</td>\n",
       "      <td>0.945525</td>\n",
       "      <td>0.940227</td>\n",
       "      <td>0.945380</td>\n",
       "      <td>0.940329</td>\n",
       "      <td>0.945510</td>\n",
       "      <td>0.431120</td>\n",
       "      <td>0.000905</td>\n",
       "      <td>0.002770</td>\n",
       "      <td>0.001214</td>\n",
       "    </tr>\n",
       "    <tr>\n",
       "      <th>10</th>\n",
       "      <td>1.737079</td>\n",
       "      <td>0.024309</td>\n",
       "      <td>0.943213</td>\n",
       "      <td>0.952274</td>\n",
       "      <td>10</td>\n",
       "      <td>5</td>\n",
       "      <td>{'max_depth': 10, 'min_samples_split': 5}</td>\n",
       "      <td>4</td>\n",
       "      <td>0.946212</td>\n",
       "      <td>0.953976</td>\n",
       "      <td>...</td>\n",
       "      <td>0.944203</td>\n",
       "      <td>0.951547</td>\n",
       "      <td>0.942712</td>\n",
       "      <td>0.952316</td>\n",
       "      <td>0.939718</td>\n",
       "      <td>0.951101</td>\n",
       "      <td>0.870837</td>\n",
       "      <td>0.001582</td>\n",
       "      <td>0.002119</td>\n",
       "      <td>0.000983</td>\n",
       "    </tr>\n",
       "    <tr>\n",
       "      <th>11</th>\n",
       "      <td>1.670127</td>\n",
       "      <td>0.024599</td>\n",
       "      <td>0.943263</td>\n",
       "      <td>0.951764</td>\n",
       "      <td>10</td>\n",
       "      <td>25</td>\n",
       "      <td>{'max_depth': 10, 'min_samples_split': 25}</td>\n",
       "      <td>3</td>\n",
       "      <td>0.946136</td>\n",
       "      <td>0.953368</td>\n",
       "      <td>...</td>\n",
       "      <td>0.943946</td>\n",
       "      <td>0.951062</td>\n",
       "      <td>0.942715</td>\n",
       "      <td>0.951915</td>\n",
       "      <td>0.939832</td>\n",
       "      <td>0.950747</td>\n",
       "      <td>0.790231</td>\n",
       "      <td>0.000944</td>\n",
       "      <td>0.002048</td>\n",
       "      <td>0.000908</td>\n",
       "    </tr>\n",
       "    <tr>\n",
       "      <th>12</th>\n",
       "      <td>1.627351</td>\n",
       "      <td>0.025765</td>\n",
       "      <td>0.943383</td>\n",
       "      <td>0.951342</td>\n",
       "      <td>10</td>\n",
       "      <td>50</td>\n",
       "      <td>{'max_depth': 10, 'min_samples_split': 50}</td>\n",
       "      <td>1</td>\n",
       "      <td>0.946725</td>\n",
       "      <td>0.952400</td>\n",
       "      <td>...</td>\n",
       "      <td>0.944096</td>\n",
       "      <td>0.950743</td>\n",
       "      <td>0.943134</td>\n",
       "      <td>0.951526</td>\n",
       "      <td>0.939981</td>\n",
       "      <td>0.950481</td>\n",
       "      <td>0.784056</td>\n",
       "      <td>0.002998</td>\n",
       "      <td>0.002167</td>\n",
       "      <td>0.000679</td>\n",
       "    </tr>\n",
       "    <tr>\n",
       "      <th>13</th>\n",
       "      <td>1.568927</td>\n",
       "      <td>0.024144</td>\n",
       "      <td>0.943094</td>\n",
       "      <td>0.950321</td>\n",
       "      <td>10</td>\n",
       "      <td>100</td>\n",
       "      <td>{'max_depth': 10, 'min_samples_split': 100}</td>\n",
       "      <td>6</td>\n",
       "      <td>0.945531</td>\n",
       "      <td>0.949446</td>\n",
       "      <td>...</td>\n",
       "      <td>0.944053</td>\n",
       "      <td>0.950333</td>\n",
       "      <td>0.943404</td>\n",
       "      <td>0.951019</td>\n",
       "      <td>0.939447</td>\n",
       "      <td>0.950192</td>\n",
       "      <td>0.767235</td>\n",
       "      <td>0.000709</td>\n",
       "      <td>0.002013</td>\n",
       "      <td>0.000521</td>\n",
       "    </tr>\n",
       "    <tr>\n",
       "      <th>14</th>\n",
       "      <td>1.392833</td>\n",
       "      <td>0.024260</td>\n",
       "      <td>0.942963</td>\n",
       "      <td>0.946775</td>\n",
       "      <td>10</td>\n",
       "      <td>500</td>\n",
       "      <td>{'max_depth': 10, 'min_samples_split': 500}</td>\n",
       "      <td>8</td>\n",
       "      <td>0.946961</td>\n",
       "      <td>0.945067</td>\n",
       "      <td>...</td>\n",
       "      <td>0.941843</td>\n",
       "      <td>0.946559</td>\n",
       "      <td>0.942374</td>\n",
       "      <td>0.947154</td>\n",
       "      <td>0.940848</td>\n",
       "      <td>0.947675</td>\n",
       "      <td>0.652107</td>\n",
       "      <td>0.000690</td>\n",
       "      <td>0.002102</td>\n",
       "      <td>0.000931</td>\n",
       "    </tr>\n",
       "    <tr>\n",
       "      <th>15</th>\n",
       "      <td>3.001987</td>\n",
       "      <td>0.026018</td>\n",
       "      <td>0.942917</td>\n",
       "      <td>0.959000</td>\n",
       "      <td>15</td>\n",
       "      <td>5</td>\n",
       "      <td>{'max_depth': 15, 'min_samples_split': 5}</td>\n",
       "      <td>9</td>\n",
       "      <td>0.943830</td>\n",
       "      <td>0.962225</td>\n",
       "      <td>...</td>\n",
       "      <td>0.942956</td>\n",
       "      <td>0.958394</td>\n",
       "      <td>0.941801</td>\n",
       "      <td>0.958295</td>\n",
       "      <td>0.941617</td>\n",
       "      <td>0.956470</td>\n",
       "      <td>1.563286</td>\n",
       "      <td>0.001820</td>\n",
       "      <td>0.001088</td>\n",
       "      <td>0.001900</td>\n",
       "    </tr>\n",
       "    <tr>\n",
       "      <th>16</th>\n",
       "      <td>2.834739</td>\n",
       "      <td>0.025004</td>\n",
       "      <td>0.942875</td>\n",
       "      <td>0.957716</td>\n",
       "      <td>15</td>\n",
       "      <td>25</td>\n",
       "      <td>{'max_depth': 15, 'min_samples_split': 25}</td>\n",
       "      <td>11</td>\n",
       "      <td>0.944830</td>\n",
       "      <td>0.960634</td>\n",
       "      <td>...</td>\n",
       "      <td>0.942436</td>\n",
       "      <td>0.956913</td>\n",
       "      <td>0.942486</td>\n",
       "      <td>0.957270</td>\n",
       "      <td>0.941052</td>\n",
       "      <td>0.955639</td>\n",
       "      <td>1.462283</td>\n",
       "      <td>0.001099</td>\n",
       "      <td>0.001263</td>\n",
       "      <td>0.001664</td>\n",
       "    </tr>\n",
       "    <tr>\n",
       "      <th>17</th>\n",
       "      <td>2.752413</td>\n",
       "      <td>0.025245</td>\n",
       "      <td>0.943206</td>\n",
       "      <td>0.956711</td>\n",
       "      <td>15</td>\n",
       "      <td>50</td>\n",
       "      <td>{'max_depth': 15, 'min_samples_split': 50}</td>\n",
       "      <td>5</td>\n",
       "      <td>0.946945</td>\n",
       "      <td>0.958869</td>\n",
       "      <td>...</td>\n",
       "      <td>0.943225</td>\n",
       "      <td>0.956219</td>\n",
       "      <td>0.941529</td>\n",
       "      <td>0.956347</td>\n",
       "      <td>0.940430</td>\n",
       "      <td>0.954656</td>\n",
       "      <td>1.402913</td>\n",
       "      <td>0.001058</td>\n",
       "      <td>0.002235</td>\n",
       "      <td>0.001402</td>\n",
       "    </tr>\n",
       "    <tr>\n",
       "      <th>18</th>\n",
       "      <td>2.509027</td>\n",
       "      <td>0.024961</td>\n",
       "      <td>0.943368</td>\n",
       "      <td>0.954518</td>\n",
       "      <td>15</td>\n",
       "      <td>100</td>\n",
       "      <td>{'max_depth': 15, 'min_samples_split': 100}</td>\n",
       "      <td>2</td>\n",
       "      <td>0.944790</td>\n",
       "      <td>0.953655</td>\n",
       "      <td>...</td>\n",
       "      <td>0.944139</td>\n",
       "      <td>0.954699</td>\n",
       "      <td>0.942998</td>\n",
       "      <td>0.955001</td>\n",
       "      <td>0.941334</td>\n",
       "      <td>0.954004</td>\n",
       "      <td>1.293422</td>\n",
       "      <td>0.000927</td>\n",
       "      <td>0.001178</td>\n",
       "      <td>0.000597</td>\n",
       "    </tr>\n",
       "    <tr>\n",
       "      <th>19</th>\n",
       "      <td>2.089885</td>\n",
       "      <td>0.024971</td>\n",
       "      <td>0.942079</td>\n",
       "      <td>0.948594</td>\n",
       "      <td>15</td>\n",
       "      <td>500</td>\n",
       "      <td>{'max_depth': 15, 'min_samples_split': 500}</td>\n",
       "      <td>20</td>\n",
       "      <td>0.946298</td>\n",
       "      <td>0.947926</td>\n",
       "      <td>...</td>\n",
       "      <td>0.940805</td>\n",
       "      <td>0.947981</td>\n",
       "      <td>0.941143</td>\n",
       "      <td>0.948509</td>\n",
       "      <td>0.941172</td>\n",
       "      <td>0.949196</td>\n",
       "      <td>1.012106</td>\n",
       "      <td>0.000861</td>\n",
       "      <td>0.002114</td>\n",
       "      <td>0.000596</td>\n",
       "    </tr>\n",
       "    <tr>\n",
       "      <th>20</th>\n",
       "      <td>10.996955</td>\n",
       "      <td>0.027560</td>\n",
       "      <td>0.936259</td>\n",
       "      <td>0.980332</td>\n",
       "      <td>50</td>\n",
       "      <td>5</td>\n",
       "      <td>{'max_depth': 50, 'min_samples_split': 5}</td>\n",
       "      <td>22</td>\n",
       "      <td>0.939777</td>\n",
       "      <td>0.982670</td>\n",
       "      <td>...</td>\n",
       "      <td>0.937010</td>\n",
       "      <td>0.979189</td>\n",
       "      <td>0.936424</td>\n",
       "      <td>0.979366</td>\n",
       "      <td>0.933819</td>\n",
       "      <td>0.979477</td>\n",
       "      <td>6.636282</td>\n",
       "      <td>0.001745</td>\n",
       "      <td>0.002140</td>\n",
       "      <td>0.001328</td>\n",
       "    </tr>\n",
       "    <tr>\n",
       "      <th>21</th>\n",
       "      <td>10.719241</td>\n",
       "      <td>0.028056</td>\n",
       "      <td>0.934786</td>\n",
       "      <td>0.975204</td>\n",
       "      <td>50</td>\n",
       "      <td>25</td>\n",
       "      <td>{'max_depth': 50, 'min_samples_split': 25}</td>\n",
       "      <td>25</td>\n",
       "      <td>0.939845</td>\n",
       "      <td>0.976546</td>\n",
       "      <td>...</td>\n",
       "      <td>0.937760</td>\n",
       "      <td>0.974016</td>\n",
       "      <td>0.933438</td>\n",
       "      <td>0.974589</td>\n",
       "      <td>0.931190</td>\n",
       "      <td>0.974581</td>\n",
       "      <td>6.448356</td>\n",
       "      <td>0.001317</td>\n",
       "      <td>0.003427</td>\n",
       "      <td>0.001016</td>\n",
       "    </tr>\n",
       "    <tr>\n",
       "      <th>22</th>\n",
       "      <td>9.852486</td>\n",
       "      <td>0.026932</td>\n",
       "      <td>0.935536</td>\n",
       "      <td>0.971445</td>\n",
       "      <td>50</td>\n",
       "      <td>50</td>\n",
       "      <td>{'max_depth': 50, 'min_samples_split': 50}</td>\n",
       "      <td>24</td>\n",
       "      <td>0.940151</td>\n",
       "      <td>0.972614</td>\n",
       "      <td>...</td>\n",
       "      <td>0.939530</td>\n",
       "      <td>0.969886</td>\n",
       "      <td>0.932676</td>\n",
       "      <td>0.971259</td>\n",
       "      <td>0.932550</td>\n",
       "      <td>0.970752</td>\n",
       "      <td>5.844938</td>\n",
       "      <td>0.001332</td>\n",
       "      <td>0.003521</td>\n",
       "      <td>0.001089</td>\n",
       "    </tr>\n",
       "    <tr>\n",
       "      <th>23</th>\n",
       "      <td>9.103579</td>\n",
       "      <td>0.027458</td>\n",
       "      <td>0.935694</td>\n",
       "      <td>0.966601</td>\n",
       "      <td>50</td>\n",
       "      <td>100</td>\n",
       "      <td>{'max_depth': 50, 'min_samples_split': 100}</td>\n",
       "      <td>23</td>\n",
       "      <td>0.937279</td>\n",
       "      <td>0.964979</td>\n",
       "      <td>...</td>\n",
       "      <td>0.940287</td>\n",
       "      <td>0.964991</td>\n",
       "      <td>0.934518</td>\n",
       "      <td>0.966933</td>\n",
       "      <td>0.931641</td>\n",
       "      <td>0.968088</td>\n",
       "      <td>5.592021</td>\n",
       "      <td>0.001023</td>\n",
       "      <td>0.002909</td>\n",
       "      <td>0.001381</td>\n",
       "    </tr>\n",
       "    <tr>\n",
       "      <th>24</th>\n",
       "      <td>6.842210</td>\n",
       "      <td>0.025296</td>\n",
       "      <td>0.936337</td>\n",
       "      <td>0.955774</td>\n",
       "      <td>50</td>\n",
       "      <td>500</td>\n",
       "      <td>{'max_depth': 50, 'min_samples_split': 500}</td>\n",
       "      <td>21</td>\n",
       "      <td>0.939807</td>\n",
       "      <td>0.956803</td>\n",
       "      <td>...</td>\n",
       "      <td>0.939194</td>\n",
       "      <td>0.953433</td>\n",
       "      <td>0.933093</td>\n",
       "      <td>0.955636</td>\n",
       "      <td>0.933916</td>\n",
       "      <td>0.956988</td>\n",
       "      <td>3.543403</td>\n",
       "      <td>0.003111</td>\n",
       "      <td>0.002721</td>\n",
       "      <td>0.001272</td>\n",
       "    </tr>\n",
       "  </tbody>\n",
       "</table>\n",
       "<p>25 rows × 22 columns</p>\n",
       "</div>"
      ],
      "text/plain": [
       "    mean_fit_time  mean_score_time  mean_test_score  mean_train_score  \\\n",
       "0        0.827509         0.024285         0.942337          0.945712   \n",
       "1        0.816876         0.023738         0.942328          0.945687   \n",
       "2        0.808890         0.024651         0.942459          0.945584   \n",
       "3        0.795021         0.023996         0.942528          0.945235   \n",
       "4        0.740037         0.023346         0.942653          0.944246   \n",
       "5        1.142660         0.024244         0.943008          0.948344   \n",
       "6        1.125915         0.024061         0.942797          0.948183   \n",
       "7        1.096828         0.023543         0.942704          0.947969   \n",
       "8        1.074786         0.024038         0.942902          0.947405   \n",
       "9        0.964208         0.023310         0.942856          0.945233   \n",
       "10       1.737079         0.024309         0.943213          0.952274   \n",
       "11       1.670127         0.024599         0.943263          0.951764   \n",
       "12       1.627351         0.025765         0.943383          0.951342   \n",
       "13       1.568927         0.024144         0.943094          0.950321   \n",
       "14       1.392833         0.024260         0.942963          0.946775   \n",
       "15       3.001987         0.026018         0.942917          0.959000   \n",
       "16       2.834739         0.025004         0.942875          0.957716   \n",
       "17       2.752413         0.025245         0.943206          0.956711   \n",
       "18       2.509027         0.024961         0.943368          0.954518   \n",
       "19       2.089885         0.024971         0.942079          0.948594   \n",
       "20      10.996955         0.027560         0.936259          0.980332   \n",
       "21      10.719241         0.028056         0.934786          0.975204   \n",
       "22       9.852486         0.026932         0.935536          0.971445   \n",
       "23       9.103579         0.027458         0.935694          0.966601   \n",
       "24       6.842210         0.025296         0.936337          0.955774   \n",
       "\n",
       "   param_max_depth param_min_samples_split  \\\n",
       "0                5                       5   \n",
       "1                5                      25   \n",
       "2                5                      50   \n",
       "3                5                     100   \n",
       "4                5                     500   \n",
       "5                7                       5   \n",
       "6                7                      25   \n",
       "7                7                      50   \n",
       "8                7                     100   \n",
       "9                7                     500   \n",
       "10              10                       5   \n",
       "11              10                      25   \n",
       "12              10                      50   \n",
       "13              10                     100   \n",
       "14              10                     500   \n",
       "15              15                       5   \n",
       "16              15                      25   \n",
       "17              15                      50   \n",
       "18              15                     100   \n",
       "19              15                     500   \n",
       "20              50                       5   \n",
       "21              50                      25   \n",
       "22              50                      50   \n",
       "23              50                     100   \n",
       "24              50                     500   \n",
       "\n",
       "                                         params  rank_test_score  \\\n",
       "0      {'max_depth': 5, 'min_samples_split': 5}               18   \n",
       "1     {'max_depth': 5, 'min_samples_split': 25}               19   \n",
       "2     {'max_depth': 5, 'min_samples_split': 50}               17   \n",
       "3    {'max_depth': 5, 'min_samples_split': 100}               16   \n",
       "4    {'max_depth': 5, 'min_samples_split': 500}               15   \n",
       "5      {'max_depth': 7, 'min_samples_split': 5}                7   \n",
       "6     {'max_depth': 7, 'min_samples_split': 25}               13   \n",
       "7     {'max_depth': 7, 'min_samples_split': 50}               14   \n",
       "8    {'max_depth': 7, 'min_samples_split': 100}               10   \n",
       "9    {'max_depth': 7, 'min_samples_split': 500}               12   \n",
       "10    {'max_depth': 10, 'min_samples_split': 5}                4   \n",
       "11   {'max_depth': 10, 'min_samples_split': 25}                3   \n",
       "12   {'max_depth': 10, 'min_samples_split': 50}                1   \n",
       "13  {'max_depth': 10, 'min_samples_split': 100}                6   \n",
       "14  {'max_depth': 10, 'min_samples_split': 500}                8   \n",
       "15    {'max_depth': 15, 'min_samples_split': 5}                9   \n",
       "16   {'max_depth': 15, 'min_samples_split': 25}               11   \n",
       "17   {'max_depth': 15, 'min_samples_split': 50}                5   \n",
       "18  {'max_depth': 15, 'min_samples_split': 100}                2   \n",
       "19  {'max_depth': 15, 'min_samples_split': 500}               20   \n",
       "20    {'max_depth': 50, 'min_samples_split': 5}               22   \n",
       "21   {'max_depth': 50, 'min_samples_split': 25}               25   \n",
       "22   {'max_depth': 50, 'min_samples_split': 50}               24   \n",
       "23  {'max_depth': 50, 'min_samples_split': 100}               23   \n",
       "24  {'max_depth': 50, 'min_samples_split': 500}               21   \n",
       "\n",
       "    split0_test_score  split0_train_score       ...         split2_test_score  \\\n",
       "0            0.946241            0.944234       ...                  0.944196   \n",
       "1            0.945954            0.944196       ...                  0.944234   \n",
       "2            0.946452            0.944006       ...                  0.944238   \n",
       "3            0.946434            0.942481       ...                  0.944234   \n",
       "4            0.948238            0.941464       ...                  0.942812   \n",
       "5            0.946372            0.948853       ...                  0.944395   \n",
       "6            0.946283            0.948649       ...                  0.944172   \n",
       "7            0.946038            0.948265       ...                  0.944324   \n",
       "8            0.946379            0.946321       ...                  0.944442   \n",
       "9            0.947858            0.943013       ...                  0.942801   \n",
       "10           0.946212            0.953976       ...                  0.944203   \n",
       "11           0.946136            0.953368       ...                  0.943946   \n",
       "12           0.946725            0.952400       ...                  0.944096   \n",
       "13           0.945531            0.949446       ...                  0.944053   \n",
       "14           0.946961            0.945067       ...                  0.941843   \n",
       "15           0.943830            0.962225       ...                  0.942956   \n",
       "16           0.944830            0.960634       ...                  0.942436   \n",
       "17           0.946945            0.958869       ...                  0.943225   \n",
       "18           0.944790            0.953655       ...                  0.944139   \n",
       "19           0.946298            0.947926       ...                  0.940805   \n",
       "20           0.939777            0.982670       ...                  0.937010   \n",
       "21           0.939845            0.976546       ...                  0.937760   \n",
       "22           0.940151            0.972614       ...                  0.939530   \n",
       "23           0.937279            0.964979       ...                  0.940287   \n",
       "24           0.939807            0.956803       ...                  0.939194   \n",
       "\n",
       "    split2_train_score  split3_test_score  split3_train_score  \\\n",
       "0             0.945741           0.939547            0.945626   \n",
       "1             0.945715           0.939633            0.945605   \n",
       "2             0.945626           0.939633            0.945424   \n",
       "3             0.945572           0.939633            0.945424   \n",
       "4             0.944401           0.939717            0.944253   \n",
       "5             0.947863           0.940565            0.948171   \n",
       "6             0.947689           0.940318            0.948089   \n",
       "7             0.947568           0.940214            0.947683   \n",
       "8             0.947408           0.940413            0.947541   \n",
       "9             0.945525           0.940227            0.945380   \n",
       "10            0.951547           0.942712            0.952316   \n",
       "11            0.951062           0.942715            0.951915   \n",
       "12            0.950743           0.943134            0.951526   \n",
       "13            0.950333           0.943404            0.951019   \n",
       "14            0.946559           0.942374            0.947154   \n",
       "15            0.958394           0.941801            0.958295   \n",
       "16            0.956913           0.942486            0.957270   \n",
       "17            0.956219           0.941529            0.956347   \n",
       "18            0.954699           0.942998            0.955001   \n",
       "19            0.947981           0.941143            0.948509   \n",
       "20            0.979189           0.936424            0.979366   \n",
       "21            0.974016           0.933438            0.974589   \n",
       "22            0.969886           0.932676            0.971259   \n",
       "23            0.964991           0.934518            0.966933   \n",
       "24            0.953433           0.933093            0.955636   \n",
       "\n",
       "    split4_test_score  split4_train_score  std_fit_time  std_score_time  \\\n",
       "0            0.938655            0.945705      0.364669        0.001138   \n",
       "1            0.938693            0.945680      0.354794        0.000926   \n",
       "2            0.939095            0.945627      0.354702        0.002119   \n",
       "3            0.939095            0.945627      0.358433        0.001055   \n",
       "4            0.939432            0.944626      0.326160        0.001006   \n",
       "5            0.940268            0.947550      0.538070        0.001451   \n",
       "6            0.939639            0.947406      0.516512        0.001015   \n",
       "7            0.939596            0.947247      0.492712        0.001106   \n",
       "8            0.939768            0.947247      0.504892        0.000729   \n",
       "9            0.940329            0.945510      0.431120        0.000905   \n",
       "10           0.939718            0.951101      0.870837        0.001582   \n",
       "11           0.939832            0.950747      0.790231        0.000944   \n",
       "12           0.939981            0.950481      0.784056        0.002998   \n",
       "13           0.939447            0.950192      0.767235        0.000709   \n",
       "14           0.940848            0.947675      0.652107        0.000690   \n",
       "15           0.941617            0.956470      1.563286        0.001820   \n",
       "16           0.941052            0.955639      1.462283        0.001099   \n",
       "17           0.940430            0.954656      1.402913        0.001058   \n",
       "18           0.941334            0.954004      1.293422        0.000927   \n",
       "19           0.941172            0.949196      1.012106        0.000861   \n",
       "20           0.933819            0.979477      6.636282        0.001745   \n",
       "21           0.931190            0.974581      6.448356        0.001317   \n",
       "22           0.932550            0.970752      5.844938        0.001332   \n",
       "23           0.931641            0.968088      5.592021        0.001023   \n",
       "24           0.933916            0.956988      3.543403        0.003111   \n",
       "\n",
       "    std_test_score  std_train_score  \n",
       "0         0.002848         0.000956  \n",
       "1         0.002753         0.000963  \n",
       "2         0.002778         0.001024  \n",
       "3         0.002788         0.001501  \n",
       "4         0.003174         0.001608  \n",
       "5         0.002320         0.000637  \n",
       "6         0.002481         0.000613  \n",
       "7         0.002450         0.000646  \n",
       "8         0.002484         0.000698  \n",
       "9         0.002770         0.001214  \n",
       "10        0.002119         0.000983  \n",
       "11        0.002048         0.000908  \n",
       "12        0.002167         0.000679  \n",
       "13        0.002013         0.000521  \n",
       "14        0.002102         0.000931  \n",
       "15        0.001088         0.001900  \n",
       "16        0.001263         0.001664  \n",
       "17        0.002235         0.001402  \n",
       "18        0.001178         0.000597  \n",
       "19        0.002114         0.000596  \n",
       "20        0.002140         0.001328  \n",
       "21        0.003427         0.001016  \n",
       "22        0.003521         0.001089  \n",
       "23        0.002909         0.001381  \n",
       "24        0.002721         0.001272  \n",
       "\n",
       "[25 rows x 22 columns]"
      ]
     },
     "execution_count": 26,
     "metadata": {
      "tags": []
     },
     "output_type": "execute_result"
    }
   ],
   "source": [
    "results=pd.DataFrame(model.cv_results_)# getting varoius cv_scores and train_scores various values of hyperparameter given as parameter and storing it in a dataframe\n",
    "results#printing the dataframe"
   ]
  },
  {
   "cell_type": "code",
   "execution_count": 0,
   "metadata": {
    "colab": {},
    "colab_type": "code",
    "collapsed": true,
    "id": "YlWq4WNxq72l"
   },
   "outputs": [],
   "source": [
    "results['mean_train_score']=results['mean_train_score']*100\n",
    "results['mean_test_score']=results['mean_test_score']*100"
   ]
  },
  {
   "cell_type": "code",
   "execution_count": 0,
   "metadata": {
    "colab": {},
    "colab_type": "code",
    "collapsed": true,
    "id": "RvHdFbfhq7gK"
   },
   "outputs": [],
   "source": [
    "results=results.round(decimals=2)"
   ]
  },
  {
   "cell_type": "code",
   "execution_count": 0,
   "metadata": {
    "colab": {},
    "colab_type": "code",
    "collapsed": true,
    "id": "y_2gWLXFHKO0"
   },
   "outputs": [],
   "source": [
    "results['mean_test_score']=100-results['mean_test_score']"
   ]
  },
  {
   "cell_type": "markdown",
   "metadata": {
    "colab_type": "text",
    "id": "_TI-EqwGlzWx"
   },
   "source": [
    "# PLOTTING THE HEATMAP WITH  HYPERPARAMETERS FOR CV_ERROR SCORE "
   ]
  },
  {
   "cell_type": "code",
   "execution_count": 0,
   "metadata": {
    "colab": {},
    "colab_type": "code",
    "collapsed": true,
    "id": "NzG-ZY6MlYtG"
   },
   "outputs": [],
   "source": [
    "test_score_heatmap=results.pivot(\t'param_max_depth'\t,'param_min_samples_split','mean_test_score'\t)"
   ]
  },
  {
   "cell_type": "code",
   "execution_count": 34,
   "metadata": {
    "colab": {
     "base_uri": "https://localhost:8080/",
     "height": 227
    },
    "colab_type": "code",
    "id": "h0HOdEmhlYap",
    "outputId": "5c60f3f8-ba61-43ff-941a-1748a86b62a7"
   },
   "outputs": [
    {
     "data": {
      "text/html": [
       "<div>\n",
       "<style scoped>\n",
       "    .dataframe tbody tr th:only-of-type {\n",
       "        vertical-align: middle;\n",
       "    }\n",
       "\n",
       "    .dataframe tbody tr th {\n",
       "        vertical-align: top;\n",
       "    }\n",
       "\n",
       "    .dataframe thead th {\n",
       "        text-align: right;\n",
       "    }\n",
       "</style>\n",
       "<table border=\"1\" class=\"dataframe\">\n",
       "  <thead>\n",
       "    <tr style=\"text-align: right;\">\n",
       "      <th>param_min_samples_split</th>\n",
       "      <th>5</th>\n",
       "      <th>25</th>\n",
       "      <th>50</th>\n",
       "      <th>100</th>\n",
       "      <th>500</th>\n",
       "    </tr>\n",
       "    <tr>\n",
       "      <th>param_max_depth</th>\n",
       "      <th></th>\n",
       "      <th></th>\n",
       "      <th></th>\n",
       "      <th></th>\n",
       "      <th></th>\n",
       "    </tr>\n",
       "  </thead>\n",
       "  <tbody>\n",
       "    <tr>\n",
       "      <th>5</th>\n",
       "      <td>5.77</td>\n",
       "      <td>5.77</td>\n",
       "      <td>5.75</td>\n",
       "      <td>5.75</td>\n",
       "      <td>5.73</td>\n",
       "    </tr>\n",
       "    <tr>\n",
       "      <th>7</th>\n",
       "      <td>5.70</td>\n",
       "      <td>5.72</td>\n",
       "      <td>5.73</td>\n",
       "      <td>5.71</td>\n",
       "      <td>5.71</td>\n",
       "    </tr>\n",
       "    <tr>\n",
       "      <th>10</th>\n",
       "      <td>5.68</td>\n",
       "      <td>5.67</td>\n",
       "      <td>5.66</td>\n",
       "      <td>5.69</td>\n",
       "      <td>5.70</td>\n",
       "    </tr>\n",
       "    <tr>\n",
       "      <th>15</th>\n",
       "      <td>5.71</td>\n",
       "      <td>5.71</td>\n",
       "      <td>5.68</td>\n",
       "      <td>5.66</td>\n",
       "      <td>5.79</td>\n",
       "    </tr>\n",
       "    <tr>\n",
       "      <th>50</th>\n",
       "      <td>6.37</td>\n",
       "      <td>6.52</td>\n",
       "      <td>6.45</td>\n",
       "      <td>6.43</td>\n",
       "      <td>6.37</td>\n",
       "    </tr>\n",
       "  </tbody>\n",
       "</table>\n",
       "</div>"
      ],
      "text/plain": [
       "param_min_samples_split   5     25    50    100   500\n",
       "param_max_depth                                      \n",
       "5                        5.77  5.77  5.75  5.75  5.73\n",
       "7                        5.70  5.72  5.73  5.71  5.71\n",
       "10                       5.68  5.67  5.66  5.69  5.70\n",
       "15                       5.71  5.71  5.68  5.66  5.79\n",
       "50                       6.37  6.52  6.45  6.43  6.37"
      ]
     },
     "execution_count": 34,
     "metadata": {
      "tags": []
     },
     "output_type": "execute_result"
    }
   ],
   "source": [
    "test_score_heatmap"
   ]
  },
  {
   "cell_type": "code",
   "execution_count": 35,
   "metadata": {
    "colab": {
     "base_uri": "https://localhost:8080/",
     "height": 378
    },
    "colab_type": "code",
    "id": "QcyVeIh7l8vv",
    "outputId": "9eb87c93-f9e4-4ebc-a6fb-969eceed41d1"
   },
   "outputs": [
    {
     "data": {
      "text/plain": [
       "<matplotlib.axes._subplots.AxesSubplot at 0x7fc72a8095c0>"
      ]
     },
     "execution_count": 35,
     "metadata": {
      "tags": []
     },
     "output_type": "execute_result"
    },
    {
     "data": {
      "image/png": "[encoded data removed]",
      "text/plain": [
       "<Figure size 576x396 with 2 Axes>"
      ]
     },
     "metadata": {
      "tags": []
     },
     "output_type": "display_data"
    }
   ],
   "source": [
    "import seaborn as sns\n",
    "sns.heatmap(test_score_heatmap,annot=True,annot_kws={\"size\": 15}, fmt='g',linewidths=.3)"
   ]
  },
  {
   "cell_type": "code",
   "execution_count": 36,
   "metadata": {
    "colab": {
     "base_uri": "https://localhost:8080/",
     "height": 123
    },
    "colab_type": "code",
    "id": "YXCoY4_QmANE",
    "outputId": "61c10e20-ffde-4b80-e84f-13b3073d74cc"
   },
   "outputs": [
    {
     "name": "stdout",
     "output_type": "stream",
     "text": [
      "DecisionTreeClassifier(class_weight={1: 0.5, 0: 0.5}, criterion='gini',\n",
      "            max_depth=10, max_features=None, max_leaf_nodes=None,\n",
      "            min_impurity_decrease=0.0, min_impurity_split=None,\n",
      "            min_samples_leaf=1, min_samples_split=50,\n",
      "            min_weight_fraction_leaf=0.0, presort=False, random_state=None,\n",
      "            splitter='best')\n"
     ]
    }
   ],
   "source": [
    "print(model.best_estimator_)#printing the best_estimator"
   ]
  },
  {
   "cell_type": "code",
   "execution_count": 0,
   "metadata": {
    "colab": {},
    "colab_type": "code",
    "collapsed": true,
    "id": "XhjaqHCiIWsz"
   },
   "outputs": [],
   "source": [
    "dt=DecisionTreeClassifier(criterion='gini', splitter='best',class_weight={1:.5,0:.5},min_samples_split=50,max_depth=10)\n",
    "dt.fit(train_bow,y_train)#fitting the model "
   ]
  },
  {
   "cell_type": "markdown",
   "metadata": {
    "colab_type": "text",
    "id": "CzPQCUJoO_jI"
   },
   "source": [
    "# FROM THE ABOVE HEATMAPS RESULTS FOR  CV DATA,WE FOUND THAT BEST HYPERPARAMETERS AS MAX_DEPTH=10 AND MIN_SAMPLE_SPLIT=50"
   ]
  },
  {
   "cell_type": "markdown",
   "metadata": {
    "colab_type": "text",
    "id": "BTrONZFPO1Et"
   },
   "source": [
    "# PLOTTING THE ROC CURVE FOR GETTING AUC SCORE"
   ]
  },
  {
   "cell_type": "code",
   "execution_count": 47,
   "metadata": {
    "colab": {
     "base_uri": "https://localhost:8080/",
     "height": 386
    },
    "colab_type": "code",
    "id": "4lsQvgDsH8bH",
    "outputId": "66db008a-debe-4cb6-9bb9-21de85cd0961"
   },
   "outputs": [
    {
     "data": {
      "image/png": "[encoded data removed]",
      "text/plain": [
       "<Figure size 576x396 with 1 Axes>"
      ]
     },
     "metadata": {
      "tags": []
     },
     "output_type": "display_data"
    }
   ],
   "source": [
    "probs = model.predict_proba(test_bow)\n",
    "preds = probs[:,1]\n",
    "fpr, tpr, threshold = metrics.roc_curve(y_test, preds)\n",
    "roc_auc = metrics.auc(fpr, tpr)\n",
    "\n",
    "# \n",
    "import matplotlib.pyplot as plt\n",
    "plt.title('Receiver Operating Characteristic')\n",
    "plt.plot(fpr, tpr, 'b', label = 'AUC = %0.2f' % roc_auc)\n",
    "plt.legend(loc = 'best')\n",
    "plt.plot([0, 1], [0, 1],'r--')\n",
    "plt.xlim([0, 1])\n",
    "plt.ylim([0, 1])\n",
    "plt.ylabel('True Positive Rate')\n",
    "plt.xlabel('False Positive Rate')\n",
    "plt.show()"
   ]
  },
  {
   "cell_type": "code",
   "execution_count": 49,
   "metadata": {
    "colab": {
     "base_uri": "https://localhost:8080/",
     "height": 34
    },
    "colab_type": "code",
    "id": "6M_K4t1bPEw9",
    "outputId": "f7f2b195-9541-4093-c728-aaa792a5b927"
   },
   "outputs": [
    {
     "name": "stdout",
     "output_type": "stream",
     "text": [
      "accuracy from the ROC curve is found as  71.88677795729427\n"
     ]
    }
   ],
   "source": [
    "print('accuracy from the ROC curve is found as ',roc_auc*100)"
   ]
  },
  {
   "cell_type": "markdown",
   "metadata": {
    "colab_type": "text",
    "id": "Hc-lnn42rnxO"
   },
   "source": [
    "# VISUALIZING DECISION TREE WITH GRAPHVIZ,FOR PLOTTING PURPOSE TAKING MAX_DEPTH AS 3"
   ]
  },
  {
   "cell_type": "code",
   "execution_count": 37,
   "metadata": {
    "colab": {
     "base_uri": "https://localhost:8080/",
     "height": 123
    },
    "colab_type": "code",
    "id": "ZBnVgzxKrnek",
    "outputId": "149c4e4b-2d2d-4e13-d56f-35e0b2bfb963"
   },
   "outputs": [
    {
     "data": {
      "text/plain": [
       "DecisionTreeClassifier(class_weight={1: 0.5, 0: 0.5}, criterion='gini',\n",
       "            max_depth=3, max_features=None, max_leaf_nodes=None,\n",
       "            min_impurity_decrease=0.0, min_impurity_split=None,\n",
       "            min_samples_leaf=1, min_samples_split=10,\n",
       "            min_weight_fraction_leaf=0.0, presort=False, random_state=None,\n",
       "            splitter='best')"
      ]
     },
     "execution_count": 37,
     "metadata": {
      "tags": []
     },
     "output_type": "execute_result"
    }
   ],
   "source": [
    "dt=DecisionTreeClassifier(criterion='gini', splitter='best',class_weight={1:.5,0:.5},min_samples_split=10,max_depth=3)\n",
    "dt.fit(train_bow,y_train)#fitting the model"
   ]
  },
  {
   "cell_type": "code",
   "execution_count": 38,
   "metadata": {
    "colab": {
     "base_uri": "https://localhost:8080/",
     "height": 618
    },
    "colab_type": "code",
    "id": "jiqRzXP7sd47",
    "outputId": "0c71a9f5-a52f-41cc-d6fb-66ebaa722ed5"
   },
   "outputs": [
    {
     "data": {
      "image/svg+xml": [
       "<?xml version=\"1.0\" encoding=\"UTF-8\" standalone=\"no\"?>\n",
       "<!DOCTYPE svg PUBLIC \"-//W3C//DTD SVG 1.1//EN\"\n",
       " \"http://www.w3.org/Graphics/SVG/1.1/DTD/svg11.dtd\">\n",
       "<!-- Generated by graphviz version 2.40.1 (20161225.0304)\n",
       " -->\n",
       "<!-- Title: Tree Pages: 1 -->\n",
       "<svg width=\"1220pt\" height=\"433pt\"\n",
       " viewBox=\"0.00 0.00 1219.50 433.00\" xmlns=\"http://www.w3.org/2000/svg\" xmlns:xlink=\"http://www.w3.org/1999/xlink\">\n",
       "<g id=\"graph0\" class=\"graph\" transform=\"scale(1 1) rotate(0) translate(4 429)\">\n",
       "<title>Tree</title>\n",
       "<polygon fill=\"#ffffff\" stroke=\"transparent\" points=\"-4,4 -4,-429 1215.5,-429 1215.5,4 -4,4\"/>\n",
       "<!-- 0 -->\n",
       "<g id=\"node1\" class=\"node\">\n",
       "<title>0</title>\n",
       "<path fill=\"#399de5\" fill-opacity=\"0.874510\" stroke=\"#000000\" d=\"M670,-425C670,-425 513,-425 513,-425 507,-425 501,-419 501,-413 501,-413 501,-354 501,-354 501,-348 507,-342 513,-342 513,-342 670,-342 670,-342 676,-342 682,-348 682,-354 682,-354 682,-413 682,-413 682,-419 676,-425 670,-425\"/>\n",
       "<text text-anchor=\"start\" x=\"540\" y=\"-409.8\" font-family=\"Helvetica,sans-Serif\" font-size=\"14.00\" fill=\"#000000\">disappoint ≤ 0.5</text>\n",
       "<text text-anchor=\"start\" x=\"553.5\" y=\"-394.8\" font-family=\"Helvetica,sans-Serif\" font-size=\"14.00\" fill=\"#000000\">gini = 0.198</text>\n",
       "<text text-anchor=\"start\" x=\"535.5\" y=\"-379.8\" font-family=\"Helvetica,sans-Serif\" font-size=\"14.00\" fill=\"#000000\">samples = 80000</text>\n",
       "<text text-anchor=\"start\" x=\"509\" y=\"-364.8\" font-family=\"Helvetica,sans-Serif\" font-size=\"14.00\" fill=\"#000000\">value = [4466.5, 35533.5]</text>\n",
       "<text text-anchor=\"start\" x=\"562.5\" y=\"-349.8\" font-family=\"Helvetica,sans-Serif\" font-size=\"14.00\" fill=\"#000000\">class = 1</text>\n",
       "</g>\n",
       "<!-- 1 -->\n",
       "<g id=\"node2\" class=\"node\">\n",
       "<title>1</title>\n",
       "<path fill=\"#399de5\" fill-opacity=\"0.886275\" stroke=\"#000000\" d=\"M521,-306C521,-306 388,-306 388,-306 382,-306 376,-300 376,-294 376,-294 376,-235 376,-235 376,-229 382,-223 388,-223 388,-223 521,-223 521,-223 527,-223 533,-229 533,-235 533,-235 533,-294 533,-294 533,-300 527,-306 521,-306\"/>\n",
       "<text text-anchor=\"start\" x=\"419.5\" y=\"-290.8\" font-family=\"Helvetica,sans-Serif\" font-size=\"14.00\" fill=\"#000000\">worst ≤ 0.5</text>\n",
       "<text text-anchor=\"start\" x=\"416.5\" y=\"-275.8\" font-family=\"Helvetica,sans-Serif\" font-size=\"14.00\" fill=\"#000000\">gini = 0.184</text>\n",
       "<text text-anchor=\"start\" x=\"398.5\" y=\"-260.8\" font-family=\"Helvetica,sans-Serif\" font-size=\"14.00\" fill=\"#000000\">samples = 77728</text>\n",
       "<text text-anchor=\"start\" x=\"384\" y=\"-245.8\" font-family=\"Helvetica,sans-Serif\" font-size=\"14.00\" fill=\"#000000\">value = [3980, 34884]</text>\n",
       "<text text-anchor=\"start\" x=\"425.5\" y=\"-230.8\" font-family=\"Helvetica,sans-Serif\" font-size=\"14.00\" fill=\"#000000\">class = 1</text>\n",
       "</g>\n",
       "<!-- 0&#45;&gt;1 -->\n",
       "<g id=\"edge1\" class=\"edge\">\n",
       "<title>0&#45;&gt;1</title>\n",
       "<path fill=\"none\" stroke=\"#000000\" d=\"M543.584,-341.8796C532.8007,-332.513 521.2671,-322.4948 510.1961,-312.8784\"/>\n",
       "<polygon fill=\"#000000\" stroke=\"#000000\" points=\"512.4653,-310.2134 502.6205,-306.2981 507.8749,-315.4982 512.4653,-310.2134\"/>\n",
       "<text text-anchor=\"middle\" x=\"504.374\" y=\"-327.5365\" font-family=\"Helvetica,sans-Serif\" font-size=\"14.00\" fill=\"#000000\">True</text>\n",
       "</g>\n",
       "<!-- 8 -->\n",
       "<g id=\"node9\" class=\"node\">\n",
       "<title>8</title>\n",
       "<path fill=\"#399de5\" fill-opacity=\"0.250980\" stroke=\"#000000\" d=\"M830.5,-306C830.5,-306 698.5,-306 698.5,-306 692.5,-306 686.5,-300 686.5,-294 686.5,-294 686.5,-235 686.5,-235 686.5,-229 692.5,-223 698.5,-223 698.5,-223 830.5,-223 830.5,-223 836.5,-223 842.5,-229 842.5,-235 842.5,-235 842.5,-294 842.5,-294 842.5,-300 836.5,-306 830.5,-306\"/>\n",
       "<text text-anchor=\"start\" x=\"732.5\" y=\"-290.8\" font-family=\"Helvetica,sans-Serif\" font-size=\"14.00\" fill=\"#000000\">best ≤ 0.5</text>\n",
       "<text text-anchor=\"start\" x=\"731\" y=\"-275.8\" font-family=\"Helvetica,sans-Serif\" font-size=\"14.00\" fill=\"#000000\">gini = 0.49</text>\n",
       "<text text-anchor=\"start\" x=\"712.5\" y=\"-260.8\" font-family=\"Helvetica,sans-Serif\" font-size=\"14.00\" fill=\"#000000\">samples = 2272</text>\n",
       "<text text-anchor=\"start\" x=\"694.5\" y=\"-245.8\" font-family=\"Helvetica,sans-Serif\" font-size=\"14.00\" fill=\"#000000\">value = [486.5, 649.5]</text>\n",
       "<text text-anchor=\"start\" x=\"735.5\" y=\"-230.8\" font-family=\"Helvetica,sans-Serif\" font-size=\"14.00\" fill=\"#000000\">class = 1</text>\n",
       "</g>\n",
       "<!-- 0&#45;&gt;8 -->\n",
       "<g id=\"edge8\" class=\"edge\">\n",
       "<title>0&#45;&gt;8</title>\n",
       "<path fill=\"none\" stroke=\"#000000\" d=\"M652.007,-341.8796C666.0982,-332.1868 681.2039,-321.7961 695.6269,-311.8752\"/>\n",
       "<polygon fill=\"#000000\" stroke=\"#000000\" points=\"697.7717,-314.6479 704.0272,-306.0969 693.8045,-308.8806 697.7717,-314.6479\"/>\n",
       "<text text-anchor=\"middle\" x=\"699.481\" y=\"-326.9801\" font-family=\"Helvetica,sans-Serif\" font-size=\"14.00\" fill=\"#000000\">False</text>\n",
       "</g>\n",
       "<!-- 2 -->\n",
       "<g id=\"node3\" class=\"node\">\n",
       "<title>2</title>\n",
       "<path fill=\"#399de5\" fill-opacity=\"0.890196\" stroke=\"#000000\" d=\"M312,-187C312,-187 179,-187 179,-187 173,-187 167,-181 167,-175 167,-175 167,-116 167,-116 167,-110 173,-104 179,-104 179,-104 312,-104 312,-104 318,-104 324,-110 324,-116 324,-116 324,-175 324,-175 324,-181 318,-187 312,-187\"/>\n",
       "<text text-anchor=\"start\" x=\"211\" y=\"-171.8\" font-family=\"Helvetica,sans-Serif\" font-size=\"14.00\" fill=\"#000000\">great ≤ 0.5</text>\n",
       "<text text-anchor=\"start\" x=\"212\" y=\"-156.8\" font-family=\"Helvetica,sans-Serif\" font-size=\"14.00\" fill=\"#000000\">gini = 0.18</text>\n",
       "<text text-anchor=\"start\" x=\"189.5\" y=\"-141.8\" font-family=\"Helvetica,sans-Serif\" font-size=\"14.00\" fill=\"#000000\">samples = 77388</text>\n",
       "<text text-anchor=\"start\" x=\"175\" y=\"-126.8\" font-family=\"Helvetica,sans-Serif\" font-size=\"14.00\" fill=\"#000000\">value = [3858, 34836]</text>\n",
       "<text text-anchor=\"start\" x=\"216.5\" y=\"-111.8\" font-family=\"Helvetica,sans-Serif\" font-size=\"14.00\" fill=\"#000000\">class = 1</text>\n",
       "</g>\n",
       "<!-- 1&#45;&gt;2 -->\n",
       "<g id=\"edge2\" class=\"edge\">\n",
       "<title>1&#45;&gt;2</title>\n",
       "<path fill=\"none\" stroke=\"#000000\" d=\"M381.4019,-222.8796C364.0603,-213.0056 345.4467,-202.4075 327.7289,-192.3193\"/>\n",
       "<polygon fill=\"#000000\" stroke=\"#000000\" points=\"328.9787,-189.0034 318.5568,-187.0969 325.5151,-195.0865 328.9787,-189.0034\"/>\n",
       "</g>\n",
       "<!-- 5 -->\n",
       "<g id=\"node6\" class=\"node\">\n",
       "<title>5</title>\n",
       "<path fill=\"#e58139\" fill-opacity=\"0.607843\" stroke=\"#000000\" d=\"M504.5,-187C504.5,-187 404.5,-187 404.5,-187 398.5,-187 392.5,-181 392.5,-175 392.5,-175 392.5,-116 392.5,-116 392.5,-110 398.5,-104 404.5,-104 404.5,-104 504.5,-104 504.5,-104 510.5,-104 516.5,-110 516.5,-116 516.5,-116 516.5,-175 516.5,-175 516.5,-181 510.5,-187 504.5,-187\"/>\n",
       "<text text-anchor=\"start\" x=\"420\" y=\"-171.8\" font-family=\"Helvetica,sans-Serif\" font-size=\"14.00\" fill=\"#000000\">great ≤ 0.5</text>\n",
       "<text text-anchor=\"start\" x=\"416.5\" y=\"-156.8\" font-family=\"Helvetica,sans-Serif\" font-size=\"14.00\" fill=\"#000000\">gini = 0.405</text>\n",
       "<text text-anchor=\"start\" x=\"406.5\" y=\"-141.8\" font-family=\"Helvetica,sans-Serif\" font-size=\"14.00\" fill=\"#000000\">samples = 340</text>\n",
       "<text text-anchor=\"start\" x=\"400.5\" y=\"-126.8\" font-family=\"Helvetica,sans-Serif\" font-size=\"14.00\" fill=\"#000000\">value = [122, 48]</text>\n",
       "<text text-anchor=\"start\" x=\"425.5\" y=\"-111.8\" font-family=\"Helvetica,sans-Serif\" font-size=\"14.00\" fill=\"#000000\">class = 0</text>\n",
       "</g>\n",
       "<!-- 1&#45;&gt;5 -->\n",
       "<g id=\"edge5\" class=\"edge\">\n",
       "<title>1&#45;&gt;5</title>\n",
       "<path fill=\"none\" stroke=\"#000000\" d=\"M454.5,-222.8796C454.5,-214.6838 454.5,-205.9891 454.5,-197.5013\"/>\n",
       "<polygon fill=\"#000000\" stroke=\"#000000\" points=\"458.0001,-197.298 454.5,-187.2981 451.0001,-197.2981 458.0001,-197.298\"/>\n",
       "</g>\n",
       "<!-- 3 -->\n",
       "<g id=\"node4\" class=\"node\">\n",
       "<title>3</title>\n",
       "<path fill=\"#399de5\" fill-opacity=\"0.862745\" stroke=\"#000000\" d=\"M145,-68C145,-68 12,-68 12,-68 6,-68 0,-62 0,-56 0,-56 0,-12 0,-12 0,-6 6,0 12,0 12,0 145,0 145,0 151,0 157,-6 157,-12 157,-12 157,-56 157,-56 157,-62 151,-68 145,-68\"/>\n",
       "<text text-anchor=\"start\" x=\"40.5\" y=\"-52.8\" font-family=\"Helvetica,sans-Serif\" font-size=\"14.00\" fill=\"#000000\">gini = 0.214</text>\n",
       "<text text-anchor=\"start\" x=\"22.5\" y=\"-37.8\" font-family=\"Helvetica,sans-Serif\" font-size=\"14.00\" fill=\"#000000\">samples = 57398</text>\n",
       "<text text-anchor=\"start\" x=\"8\" y=\"-22.8\" font-family=\"Helvetica,sans-Serif\" font-size=\"14.00\" fill=\"#000000\">value = [3490, 25209]</text>\n",
       "<text text-anchor=\"start\" x=\"49.5\" y=\"-7.8\" font-family=\"Helvetica,sans-Serif\" font-size=\"14.00\" fill=\"#000000\">class = 1</text>\n",
       "</g>\n",
       "<!-- 2&#45;&gt;3 -->\n",
       "<g id=\"edge3\" class=\"edge\">\n",
       "<title>2&#45;&gt;3</title>\n",
       "<path fill=\"none\" stroke=\"#000000\" d=\"M183.3154,-103.9815C168.5089,-94.0957 152.7441,-83.5701 138.0585,-73.7651\"/>\n",
       "<polygon fill=\"#000000\" stroke=\"#000000\" points=\"139.8122,-70.7276 129.552,-68.0856 135.9252,-76.5493 139.8122,-70.7276\"/>\n",
       "</g>\n",
       "<!-- 4 -->\n",
       "<g id=\"node5\" class=\"node\">\n",
       "<title>4</title>\n",
       "<path fill=\"#399de5\" fill-opacity=\"0.960784\" stroke=\"#000000\" d=\"M303.5,-68C303.5,-68 187.5,-68 187.5,-68 181.5,-68 175.5,-62 175.5,-56 175.5,-56 175.5,-12 175.5,-12 175.5,-6 181.5,0 187.5,0 187.5,0 303.5,0 303.5,0 309.5,0 315.5,-6 315.5,-12 315.5,-12 315.5,-56 315.5,-56 315.5,-62 309.5,-68 303.5,-68\"/>\n",
       "<text text-anchor=\"start\" x=\"207.5\" y=\"-52.8\" font-family=\"Helvetica,sans-Serif\" font-size=\"14.00\" fill=\"#000000\">gini = 0.071</text>\n",
       "<text text-anchor=\"start\" x=\"189.5\" y=\"-37.8\" font-family=\"Helvetica,sans-Serif\" font-size=\"14.00\" fill=\"#000000\">samples = 19990</text>\n",
       "<text text-anchor=\"start\" x=\"183.5\" y=\"-22.8\" font-family=\"Helvetica,sans-Serif\" font-size=\"14.00\" fill=\"#000000\">value = [368, 9627]</text>\n",
       "<text text-anchor=\"start\" x=\"216.5\" y=\"-7.8\" font-family=\"Helvetica,sans-Serif\" font-size=\"14.00\" fill=\"#000000\">class = 1</text>\n",
       "</g>\n",
       "<!-- 2&#45;&gt;4 -->\n",
       "<g id=\"edge4\" class=\"edge\">\n",
       "<title>2&#45;&gt;4</title>\n",
       "<path fill=\"none\" stroke=\"#000000\" d=\"M245.5,-103.9815C245.5,-95.618 245.5,-86.7965 245.5,-78.3409\"/>\n",
       "<polygon fill=\"#000000\" stroke=\"#000000\" points=\"249.0001,-78.2636 245.5,-68.2637 242.0001,-78.2637 249.0001,-78.2636\"/>\n",
       "</g>\n",
       "<!-- 6 -->\n",
       "<g id=\"node7\" class=\"node\">\n",
       "<title>6</title>\n",
       "<path fill=\"#e58139\" fill-opacity=\"0.752941\" stroke=\"#000000\" d=\"M445.5,-68C445.5,-68 345.5,-68 345.5,-68 339.5,-68 333.5,-62 333.5,-56 333.5,-56 333.5,-12 333.5,-12 333.5,-6 339.5,0 345.5,0 345.5,0 445.5,0 445.5,0 451.5,0 457.5,-6 457.5,-12 457.5,-12 457.5,-56 457.5,-56 457.5,-62 451.5,-68 445.5,-68\"/>\n",
       "<text text-anchor=\"start\" x=\"357.5\" y=\"-52.8\" font-family=\"Helvetica,sans-Serif\" font-size=\"14.00\" fill=\"#000000\">gini = 0.317</text>\n",
       "<text text-anchor=\"start\" x=\"347.5\" y=\"-37.8\" font-family=\"Helvetica,sans-Serif\" font-size=\"14.00\" fill=\"#000000\">samples = 284</text>\n",
       "<text text-anchor=\"start\" x=\"341.5\" y=\"-22.8\" font-family=\"Helvetica,sans-Serif\" font-size=\"14.00\" fill=\"#000000\">value = [114, 28]</text>\n",
       "<text text-anchor=\"start\" x=\"366.5\" y=\"-7.8\" font-family=\"Helvetica,sans-Serif\" font-size=\"14.00\" fill=\"#000000\">class = 0</text>\n",
       "</g>\n",
       "<!-- 5&#45;&gt;6 -->\n",
       "<g id=\"edge6\" class=\"edge\">\n",
       "<title>5&#45;&gt;6</title>\n",
       "<path fill=\"none\" stroke=\"#000000\" d=\"M432.5306,-103.9815C427.9105,-95.2504 423.0264,-86.0202 418.374,-77.2281\"/>\n",
       "<polygon fill=\"#000000\" stroke=\"#000000\" points=\"421.4013,-75.4655 413.6306,-68.2637 415.2141,-78.7395 421.4013,-75.4655\"/>\n",
       "</g>\n",
       "<!-- 7 -->\n",
       "<g id=\"node8\" class=\"node\">\n",
       "<title>7</title>\n",
       "<path fill=\"#399de5\" fill-opacity=\"0.600000\" stroke=\"#000000\" d=\"M571,-68C571,-68 488,-68 488,-68 482,-68 476,-62 476,-56 476,-56 476,-12 476,-12 476,-6 482,0 488,0 488,0 571,0 571,0 577,0 583,-6 583,-12 583,-12 583,-56 583,-56 583,-62 577,-68 571,-68\"/>\n",
       "<text text-anchor=\"start\" x=\"491.5\" y=\"-52.8\" font-family=\"Helvetica,sans-Serif\" font-size=\"14.00\" fill=\"#000000\">gini = 0.408</text>\n",
       "<text text-anchor=\"start\" x=\"485.5\" y=\"-37.8\" font-family=\"Helvetica,sans-Serif\" font-size=\"14.00\" fill=\"#000000\">samples = 56</text>\n",
       "<text text-anchor=\"start\" x=\"484\" y=\"-22.8\" font-family=\"Helvetica,sans-Serif\" font-size=\"14.00\" fill=\"#000000\">value = [8, 20]</text>\n",
       "<text text-anchor=\"start\" x=\"500.5\" y=\"-7.8\" font-family=\"Helvetica,sans-Serif\" font-size=\"14.00\" fill=\"#000000\">class = 1</text>\n",
       "</g>\n",
       "<!-- 5&#45;&gt;7 -->\n",
       "<g id=\"edge7\" class=\"edge\">\n",
       "<title>5&#45;&gt;7</title>\n",
       "<path fill=\"none\" stroke=\"#000000\" d=\"M482.4272,-103.9815C488.4238,-95.0666 494.7704,-85.6313 500.7959,-76.6734\"/>\n",
       "<polygon fill=\"#000000\" stroke=\"#000000\" points=\"503.7755,-78.5147 506.4527,-68.2637 497.9672,-74.6078 503.7755,-78.5147\"/>\n",
       "</g>\n",
       "<!-- 9 -->\n",
       "<g id=\"node10\" class=\"node\">\n",
       "<title>9</title>\n",
       "<path fill=\"#399de5\" fill-opacity=\"0.090196\" stroke=\"#000000\" d=\"M818.5,-187C818.5,-187 710.5,-187 710.5,-187 704.5,-187 698.5,-181 698.5,-175 698.5,-175 698.5,-116 698.5,-116 698.5,-110 704.5,-104 710.5,-104 710.5,-104 818.5,-104 818.5,-104 824.5,-104 830.5,-110 830.5,-116 830.5,-116 830.5,-175 830.5,-175 830.5,-181 824.5,-187 818.5,-187\"/>\n",
       "<text text-anchor=\"start\" x=\"730\" y=\"-171.8\" font-family=\"Helvetica,sans-Serif\" font-size=\"14.00\" fill=\"#000000\">great ≤ 0.5</text>\n",
       "<text text-anchor=\"start\" x=\"726.5\" y=\"-156.8\" font-family=\"Helvetica,sans-Serif\" font-size=\"14.00\" fill=\"#000000\">gini = 0.499</text>\n",
       "<text text-anchor=\"start\" x=\"712.5\" y=\"-141.8\" font-family=\"Helvetica,sans-Serif\" font-size=\"14.00\" fill=\"#000000\">samples = 1934</text>\n",
       "<text text-anchor=\"start\" x=\"706.5\" y=\"-126.8\" font-family=\"Helvetica,sans-Serif\" font-size=\"14.00\" fill=\"#000000\">value = [461, 506]</text>\n",
       "<text text-anchor=\"start\" x=\"735.5\" y=\"-111.8\" font-family=\"Helvetica,sans-Serif\" font-size=\"14.00\" fill=\"#000000\">class = 1</text>\n",
       "</g>\n",
       "<!-- 8&#45;&gt;9 -->\n",
       "<g id=\"edge9\" class=\"edge\">\n",
       "<title>8&#45;&gt;9</title>\n",
       "<path fill=\"none\" stroke=\"#000000\" d=\"M764.5,-222.8796C764.5,-214.6838 764.5,-205.9891 764.5,-197.5013\"/>\n",
       "<polygon fill=\"#000000\" stroke=\"#000000\" points=\"768.0001,-197.298 764.5,-187.2981 761.0001,-197.2981 768.0001,-197.298\"/>\n",
       "</g>\n",
       "<!-- 12 -->\n",
       "<g id=\"node13\" class=\"node\">\n",
       "<title>12</title>\n",
       "<path fill=\"#399de5\" fill-opacity=\"0.823529\" stroke=\"#000000\" d=\"M1077.5,-187C1077.5,-187 953.5,-187 953.5,-187 947.5,-187 941.5,-181 941.5,-175 941.5,-175 941.5,-116 941.5,-116 941.5,-110 947.5,-104 953.5,-104 953.5,-104 1077.5,-104 1077.5,-104 1083.5,-104 1089.5,-110 1089.5,-116 1089.5,-116 1089.5,-175 1089.5,-175 1089.5,-181 1083.5,-187 1077.5,-187\"/>\n",
       "<text text-anchor=\"start\" x=\"979\" y=\"-171.8\" font-family=\"Helvetica,sans-Serif\" font-size=\"14.00\" fill=\"#000000\">report ≤ 0.5</text>\n",
       "<text text-anchor=\"start\" x=\"977.5\" y=\"-156.8\" font-family=\"Helvetica,sans-Serif\" font-size=\"14.00\" fill=\"#000000\">gini = 0.256</text>\n",
       "<text text-anchor=\"start\" x=\"967.5\" y=\"-141.8\" font-family=\"Helvetica,sans-Serif\" font-size=\"14.00\" fill=\"#000000\">samples = 338</text>\n",
       "<text text-anchor=\"start\" x=\"949.5\" y=\"-126.8\" font-family=\"Helvetica,sans-Serif\" font-size=\"14.00\" fill=\"#000000\">value = [25.5, 143.5]</text>\n",
       "<text text-anchor=\"start\" x=\"986.5\" y=\"-111.8\" font-family=\"Helvetica,sans-Serif\" font-size=\"14.00\" fill=\"#000000\">class = 1</text>\n",
       "</g>\n",
       "<!-- 8&#45;&gt;12 -->\n",
       "<g id=\"edge12\" class=\"edge\">\n",
       "<title>8&#45;&gt;12</title>\n",
       "<path fill=\"none\" stroke=\"#000000\" d=\"M842.5421,-227.5C870.9805,-214.0172 903.2317,-198.7268 932.1161,-185.0326\"/>\n",
       "<polygon fill=\"#000000\" stroke=\"#000000\" points=\"933.8302,-188.0934 941.3667,-180.6469 930.8314,-181.7683 933.8302,-188.0934\"/>\n",
       "</g>\n",
       "<!-- 10 -->\n",
       "<g id=\"node11\" class=\"node\">\n",
       "<title>10</title>\n",
       "<path fill=\"#e58139\" fill-opacity=\"0.137255\" stroke=\"#000000\" d=\"M745.5,-68C745.5,-68 613.5,-68 613.5,-68 607.5,-68 601.5,-62 601.5,-56 601.5,-56 601.5,-12 601.5,-12 601.5,-6 607.5,0 613.5,0 613.5,0 745.5,0 745.5,0 751.5,0 757.5,-6 757.5,-12 757.5,-12 757.5,-56 757.5,-56 757.5,-62 751.5,-68 745.5,-68\"/>\n",
       "<text text-anchor=\"start\" x=\"641.5\" y=\"-52.8\" font-family=\"Helvetica,sans-Serif\" font-size=\"14.00\" fill=\"#000000\">gini = 0.497</text>\n",
       "<text text-anchor=\"start\" x=\"627.5\" y=\"-37.8\" font-family=\"Helvetica,sans-Serif\" font-size=\"14.00\" fill=\"#000000\">samples = 1560</text>\n",
       "<text text-anchor=\"start\" x=\"609.5\" y=\"-22.8\" font-family=\"Helvetica,sans-Serif\" font-size=\"14.00\" fill=\"#000000\">value = [418.5, 361.5]</text>\n",
       "<text text-anchor=\"start\" x=\"650.5\" y=\"-7.8\" font-family=\"Helvetica,sans-Serif\" font-size=\"14.00\" fill=\"#000000\">class = 0</text>\n",
       "</g>\n",
       "<!-- 9&#45;&gt;10 -->\n",
       "<g id=\"edge10\" class=\"edge\">\n",
       "<title>9&#45;&gt;10</title>\n",
       "<path fill=\"none\" stroke=\"#000000\" d=\"M732.8491,-103.9815C725.9829,-94.9747 718.7118,-85.4367 711.8202,-76.3965\"/>\n",
       "<polygon fill=\"#000000\" stroke=\"#000000\" points=\"714.4664,-74.0945 705.6203,-68.2637 708.8995,-78.3383 714.4664,-74.0945\"/>\n",
       "</g>\n",
       "<!-- 11 -->\n",
       "<g id=\"node12\" class=\"node\">\n",
       "<title>11</title>\n",
       "<path fill=\"#399de5\" fill-opacity=\"0.705882\" stroke=\"#000000\" d=\"M911.5,-68C911.5,-68 787.5,-68 787.5,-68 781.5,-68 775.5,-62 775.5,-56 775.5,-56 775.5,-12 775.5,-12 775.5,-6 781.5,0 787.5,0 787.5,0 911.5,0 911.5,0 917.5,0 923.5,-6 923.5,-12 923.5,-12 923.5,-56 923.5,-56 923.5,-62 917.5,-68 911.5,-68\"/>\n",
       "<text text-anchor=\"start\" x=\"811.5\" y=\"-52.8\" font-family=\"Helvetica,sans-Serif\" font-size=\"14.00\" fill=\"#000000\">gini = 0.351</text>\n",
       "<text text-anchor=\"start\" x=\"801.5\" y=\"-37.8\" font-family=\"Helvetica,sans-Serif\" font-size=\"14.00\" fill=\"#000000\">samples = 374</text>\n",
       "<text text-anchor=\"start\" x=\"783.5\" y=\"-22.8\" font-family=\"Helvetica,sans-Serif\" font-size=\"14.00\" fill=\"#000000\">value = [42.5, 144.5]</text>\n",
       "<text text-anchor=\"start\" x=\"820.5\" y=\"-7.8\" font-family=\"Helvetica,sans-Serif\" font-size=\"14.00\" fill=\"#000000\">class = 1</text>\n",
       "</g>\n",
       "<!-- 9&#45;&gt;11 -->\n",
       "<g id=\"edge11\" class=\"edge\">\n",
       "<title>9&#45;&gt;11</title>\n",
       "<path fill=\"none\" stroke=\"#000000\" d=\"M796.1509,-103.9815C803.0171,-94.9747 810.2882,-85.4367 817.1798,-76.3965\"/>\n",
       "<polygon fill=\"#000000\" stroke=\"#000000\" points=\"820.1005,-78.3383 823.3797,-68.2637 814.5336,-74.0945 820.1005,-78.3383\"/>\n",
       "</g>\n",
       "<!-- 13 -->\n",
       "<g id=\"node14\" class=\"node\">\n",
       "<title>13</title>\n",
       "<path fill=\"#399de5\" fill-opacity=\"0.870588\" stroke=\"#000000\" d=\"M1077.5,-68C1077.5,-68 953.5,-68 953.5,-68 947.5,-68 941.5,-62 941.5,-56 941.5,-56 941.5,-12 941.5,-12 941.5,-6 947.5,0 953.5,0 953.5,0 1077.5,0 1077.5,0 1083.5,0 1089.5,-6 1089.5,-12 1089.5,-12 1089.5,-56 1089.5,-56 1089.5,-62 1083.5,-68 1077.5,-68\"/>\n",
       "<text text-anchor=\"start\" x=\"977.5\" y=\"-52.8\" font-family=\"Helvetica,sans-Serif\" font-size=\"14.00\" fill=\"#000000\">gini = 0.202</text>\n",
       "<text text-anchor=\"start\" x=\"967.5\" y=\"-37.8\" font-family=\"Helvetica,sans-Serif\" font-size=\"14.00\" fill=\"#000000\">samples = 324</text>\n",
       "<text text-anchor=\"start\" x=\"949.5\" y=\"-22.8\" font-family=\"Helvetica,sans-Serif\" font-size=\"14.00\" fill=\"#000000\">value = [18.5, 143.5]</text>\n",
       "<text text-anchor=\"start\" x=\"986.5\" y=\"-7.8\" font-family=\"Helvetica,sans-Serif\" font-size=\"14.00\" fill=\"#000000\">class = 1</text>\n",
       "</g>\n",
       "<!-- 12&#45;&gt;13 -->\n",
       "<g id=\"edge13\" class=\"edge\">\n",
       "<title>12&#45;&gt;13</title>\n",
       "<path fill=\"none\" stroke=\"#000000\" d=\"M1015.5,-103.9815C1015.5,-95.618 1015.5,-86.7965 1015.5,-78.3409\"/>\n",
       "<polygon fill=\"#000000\" stroke=\"#000000\" points=\"1019.0001,-78.2636 1015.5,-68.2637 1012.0001,-78.2637 1019.0001,-78.2636\"/>\n",
       "</g>\n",
       "<!-- 14 -->\n",
       "<g id=\"node15\" class=\"node\">\n",
       "<title>14</title>\n",
       "<path fill=\"#e58139\" stroke=\"#000000\" d=\"M1199.5,-68C1199.5,-68 1119.5,-68 1119.5,-68 1113.5,-68 1107.5,-62 1107.5,-56 1107.5,-56 1107.5,-12 1107.5,-12 1107.5,-6 1113.5,0 1119.5,0 1119.5,0 1199.5,0 1199.5,0 1205.5,0 1211.5,-6 1211.5,-12 1211.5,-12 1211.5,-56 1211.5,-56 1211.5,-62 1205.5,-68 1199.5,-68\"/>\n",
       "<text text-anchor=\"start\" x=\"1130\" y=\"-52.8\" font-family=\"Helvetica,sans-Serif\" font-size=\"14.00\" fill=\"#000000\">gini = 0.0</text>\n",
       "<text text-anchor=\"start\" x=\"1115.5\" y=\"-37.8\" font-family=\"Helvetica,sans-Serif\" font-size=\"14.00\" fill=\"#000000\">samples = 14</text>\n",
       "<text text-anchor=\"start\" x=\"1118\" y=\"-22.8\" font-family=\"Helvetica,sans-Serif\" font-size=\"14.00\" fill=\"#000000\">value = [7, 0]</text>\n",
       "<text text-anchor=\"start\" x=\"1130.5\" y=\"-7.8\" font-family=\"Helvetica,sans-Serif\" font-size=\"14.00\" fill=\"#000000\">class = 0</text>\n",
       "</g>\n",
       "<!-- 12&#45;&gt;14 -->\n",
       "<g id=\"edge14\" class=\"edge\">\n",
       "<title>12&#45;&gt;14</title>\n",
       "<path fill=\"none\" stroke=\"#000000\" d=\"M1069.1203,-103.9815C1081.5833,-94.3313 1094.8338,-84.0714 1107.2373,-74.4673\"/>\n",
       "<polygon fill=\"#000000\" stroke=\"#000000\" points=\"1109.4851,-77.1534 1115.2492,-68.2637 1105.1995,-71.6186 1109.4851,-77.1534\"/>\n",
       "</g>\n",
       "</g>\n",
       "</svg>\n"
      ],
      "text/plain": [
       "<graphviz.files.Source at 0x7fc72a7db748>"
      ]
     },
     "execution_count": 38,
     "metadata": {
      "tags": []
     },
     "output_type": "execute_result"
    }
   ],
   "source": [
    "import graphviz \n",
    "target=['0','1']\n",
    "dot_data = tree.export_graphviz(dt,out_file=None,feature_names=vectorizer.get_feature_names(),class_names=target,filled=True,rounded=True,special_characters=True) \n",
    "graph = graphviz.Source(dot_data)\n",
    "graph"
   ]
  },
  {
   "cell_type": "code",
   "execution_count": 39,
   "metadata": {
    "colab": {
     "base_uri": "https://localhost:8080/",
     "height": 34
    },
    "colab_type": "code",
    "id": "LjNfrAAMsdjU",
    "outputId": "62c34024-0296-4a08-d56b-19145f1d293c"
   },
   "outputs": [
    {
     "data": {
      "text/plain": [
       "'gdrive/My Drive/decision_tree_bow.pdf'"
      ]
     },
     "execution_count": 39,
     "metadata": {
      "tags": []
     },
     "output_type": "execute_result"
    }
   ],
   "source": [
    "graph.render(\"gdrive/My Drive/decision_tree_bow\") "
   ]
  },
  {
   "cell_type": "code",
   "execution_count": 40,
   "metadata": {
    "colab": {
     "base_uri": "https://localhost:8080/",
     "height": 34
    },
    "colab_type": "code",
    "id": "ZpCg0rkasdOx",
    "outputId": "41cf3fae-4130-49ef-94a4-e420f8585655"
   },
   "outputs": [
    {
     "name": "stdout",
     "output_type": "stream",
     "text": [
      "[0. 0. 0. ... 0. 0. 0.]\n"
     ]
    }
   ],
   "source": [
    "print(dt.feature_importances_)#weight vector of features"
   ]
  },
  {
   "cell_type": "code",
   "execution_count": 41,
   "metadata": {
    "colab": {
     "base_uri": "https://localhost:8080/",
     "height": 34
    },
    "colab_type": "code",
    "id": "MF2xMZDMsmXH",
    "outputId": "5c08a0a5-aef9-4074-f76d-7306522e8472"
   },
   "outputs": [
    {
     "name": "stdout",
     "output_type": "stream",
     "text": [
      "shape of wieght vector is: (17204,)\n"
     ]
    }
   ],
   "source": [
    "dt=DecisionTreeClassifier(criterion='gini', splitter='best',class_weight={1:.5,0:.5},min_samples_split=50,max_depth=10)\n",
    "dt.fit(train_bow,y_train)#fitting the model \n",
    "z=dt.feature_importances_\n",
    "a=z.argsort()\n",
    "print('shape of wieght vector is:',a.shape)\n",
    "top_features=np.take(vectorizer.get_feature_names(),a[17180:])#taking last features as they are of very high importance "
   ]
  },
  {
   "cell_type": "code",
   "execution_count": 42,
   "metadata": {
    "colab": {
     "base_uri": "https://localhost:8080/",
     "height": 70
    },
    "colab_type": "code",
    "id": "XGJfVGt7spyw",
    "outputId": "82fd89fc-63f0-45e5-d2ac-93e5c905ef6e"
   },
   "outputs": [
    {
     "name": "stdout",
     "output_type": "stream",
     "text": [
      "['box' 'pinhead' 'horribl' 'back' 'notifi' 'stale' 'compani' 'tasti' 'aw'\n",
      " 'favorit' 'flatul' 'unfortun' 'safeti' 'wast' 'return' 'love' 'delici'\n",
      " 'money' 'threw' 'terribl' 'best' 'worst' 'great' 'disappoint']\n"
     ]
    }
   ],
   "source": [
    "print(top_features)#printing the top_features\n",
    "top=list(top_features)"
   ]
  },
  {
   "cell_type": "markdown",
   "metadata": {
    "colab_type": "text",
    "id": "jSRugdUFsw6c"
   },
   "source": [
    "# REPRESENTING TOP IMPORTANT FEATURES USING WORDCLOUD LIBRARY"
   ]
  },
  {
   "cell_type": "code",
   "execution_count": 43,
   "metadata": {
    "colab": {
     "base_uri": "https://localhost:8080/",
     "height": 415
    },
    "colab_type": "code",
    "id": "V-jArYvHsz6D",
    "outputId": "b2ffbafc-72b6-44e5-d2c1-d5fe89b6f065"
   },
   "outputs": [
    {
     "data": {
      "image/png": "[encoded data removed]",
      "text/plain": [
       "<Figure size 576x576 with 1 Axes>"
      ]
     },
     "metadata": {
      "tags": []
     },
     "output_type": "display_data"
    }
   ],
   "source": [
    "from wordcloud import WordCloud #here we are printing the top features using wordcloud library\n",
    "import matplotlib.pyplot as plt\n",
    "wordcloud = WordCloud(width = 1500, height = 1000, \n",
    "                background_color ='white', \n",
    "                 \n",
    "                min_font_size = 10).generate(str(top)) \n",
    "  \n",
    "# plot the WordCloud image                        \n",
    "plt.figure(figsize = (8, 8), facecolor = None) \n",
    "plt.imshow(wordcloud) \n",
    "plt.axis(\"off\") \n",
    "plt.tight_layout(pad = 0) \n",
    "  \n",
    "plt.show() "
   ]
  },
  {
   "cell_type": "code",
   "execution_count": 0,
   "metadata": {
    "colab": {},
    "colab_type": "code",
    "collapsed": true,
    "id": "lbO_cwKYszqN"
   },
   "outputs": [],
   "source": []
  },
  {
   "cell_type": "markdown",
   "metadata": {
    "colab_type": "text",
    "id": "L02W9vmpqcjH"
   },
   "source": [
    "# TESTING OUR MODEL ON TEST DATA AND CHECKING ITS PRECISION ,RECALL ,F1_FCORE"
   ]
  },
  {
   "cell_type": "code",
   "execution_count": 44,
   "metadata": {
    "colab": {
     "base_uri": "https://localhost:8080/",
     "height": 511
    },
    "colab_type": "code",
    "id": "HIKew9mC4-Rx",
    "outputId": "9987f919-eb8a-42fc-f2f7-8c1662ee27a1"
   },
   "outputs": [
    {
     "name": "stdout",
     "output_type": "stream",
     "text": [
      "Accuracy on test set: 88.120%\n",
      "Precision on test set: 0.890\n",
      "Recall on test set: 0.986\n",
      "F1-Score on test set: 0.935\n",
      "Confusion Matrix of test set:\n",
      " [ [TN  FP]\n",
      " [FN TP] ]\n",
      "\n"
     ]
    },
    {
     "data": {
      "text/plain": [
       "<matplotlib.axes._subplots.AxesSubplot at 0x7fc72598d898>"
      ]
     },
     "execution_count": 44,
     "metadata": {
      "tags": []
     },
     "output_type": "execute_result"
    },
    {
     "data": {
      "image/png": "[encoded data removed]",
      "text/plain": [
       "<Figure size 576x396 with 2 Axes>"
      ]
     },
     "metadata": {
      "tags": []
     },
     "output_type": "display_data"
    }
   ],
   "source": [
    "#Testing Accuracy on Test data  \n",
    "import seaborn as sns #importing seaborn as sns\n",
    "from sklearn.metrics import *#importing varoius metrics from sklearn\n",
    "#building the model\n",
    "dt=DecisionTreeClassifier(criterion='gini', splitter='best',class_weight={1:.5,0:.5},min_samples_split=50,max_depth=10)\n",
    "dt.fit(train_bow,y_train)#fitting the model\n",
    "y_pred = dt.predict(test_bow) \n",
    "print(\"Accuracy on test set: %0.3f%%\"%(accuracy_score(y_test, y_pred)*100))#printing accuracy\n",
    "print(\"Precision on test set: %0.3f\"%(precision_score(y_test, y_pred)))#printing precision score\n",
    "print(\"Recall on test set: %0.3f\"%(recall_score(y_test, y_pred))) #printing recall\n",
    "print(\"F1-Score on test set: %0.3f\"%(f1_score(y_test, y_pred))) \n",
    "print(\"Confusion Matrix of test set:\\n [ [TN  FP]\\n [FN TP] ]\\n\") \n",
    "df_cm = pd.DataFrame(confusion_matrix(y_test, y_pred), range(2),range(2)) #generating the heatmap for confusion matrix\n",
    "sns.set(font_scale=1.4)#for label size\n",
    "sns.heatmap(df_cm, annot=True,annot_kws={\"size\": 16}, fmt='g')\n"
   ]
  },
  {
   "cell_type": "markdown",
   "metadata": {
    "colab_type": "text",
    "id": "KsvbjbW8qJ5r"
   },
   "source": [
    "# BOW VECTORIZATION FOR DECISION TREE IS COMPLETED "
   ]
  },
  {
   "cell_type": "code",
   "execution_count": 0,
   "metadata": {
    "colab": {},
    "colab_type": "code",
    "collapsed": true,
    "id": "kLE-j3As5vk9"
   },
   "outputs": [],
   "source": [
    "#bow vertorization is completed for decision_trees"
   ]
  },
  {
   "cell_type": "code",
   "execution_count": 0,
   "metadata": {
    "colab": {},
    "colab_type": "code",
    "collapsed": true,
    "id": "A8IdBsvkrKiP"
   },
   "outputs": [],
   "source": []
  }
 ],
 "metadata": {
  "colab": {
   "collapsed_sections": [],
   "name": "dt_bow.ipynb",
   "provenance": [],
   "version": "0.3.2"
  },
  "kernelspec": {
   "display_name": "Python 3",
   "language": "python",
   "name": "python3"
  },
  "language_info": {
   "codemirror_mode": {
    "name": "ipython",
    "version": 3
   },
   "file_extension": ".py",
   "mimetype": "text/x-python",
   "name": "python",
   "nbconvert_exporter": "python",
   "pygments_lexer": "ipython3",
   "version": "3.6.3"
  }
 },
 "nbformat": 4,
 "nbformat_minor": 1
}
