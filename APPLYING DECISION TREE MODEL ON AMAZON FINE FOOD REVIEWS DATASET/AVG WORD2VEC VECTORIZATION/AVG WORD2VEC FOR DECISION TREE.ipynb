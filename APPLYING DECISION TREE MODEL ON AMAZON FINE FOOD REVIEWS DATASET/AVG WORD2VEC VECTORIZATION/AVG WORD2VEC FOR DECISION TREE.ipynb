{
 "cells": [
  {
   "cell_type": "markdown",
   "metadata": {
    "colab_type": "text",
    "id": "JY8IF99xnx6g"
   },
   "source": [
    "#  OBJECTIVE #\n",
    "\n",
    "1.   <b>APPLYING DECISION TREE WITH AVG_WORD_2_VEC VECTORIZATION<font color=RebeccaPurple>\n",
    "\n",
    " *   FINDING THE BEST HYPERPARAMETER USING GRIDSEARCHCV WITH TRAIN DATA AND CROSS-VALIDATION DATA BY PLOTTING THE RESLUTS OF VAROIUS TRAIN DATA AND CROSS VALIDATION DATA\n",
    " * USING THE APROPRIATE VALUE OF HYPERPARAMETER ,TESTING ACCURACY ON TEST DATA\n",
    "    USING F1-SCORE\n",
    " * PLOTTING THE CONFUSION MATRIX TO GET THE  PRECISOIN ,RECALL VALUE WITH HELP OF HEATMAP\n",
    "   <i><u>\n",
    "  <font> #\n"
   ]
  },
  {
   "cell_type": "code",
   "execution_count": 0,
   "metadata": {
    "colab": {},
    "colab_type": "code",
    "collapsed": true,
    "id": "sqKe2mXbEWul"
   },
   "outputs": [],
   "source": [
    "from sklearn.model_selection import train_test_split          #importing the necessary libraries\n",
    "from sklearn.model_selection import RandomizedSearchCV\n",
    "from sklearn.datasets import *\n",
    "from sklearn import naive_bayes\n",
    "from sklearn.feature_extraction.text import CountVectorizer\n",
    "from sklearn.feature_extraction.text import TfidfVectorizer\n",
    "import numpy as np\n",
    "import pandas as pd\n",
    "from sklearn import *\n",
    "import warnings\n",
    "warnings.filterwarnings(\"ignore\")\n",
    "from sklearn.tree import DecisionTreeClassifier\n",
    "from gensim.models import Word2Vec\n",
    "from tqdm import tqdm"
   ]
  },
  {
   "cell_type": "code",
   "execution_count": 4,
   "metadata": {
    "colab": {
     "base_uri": "https://localhost:8080/",
     "height": 34
    },
    "colab_type": "code",
    "id": "I9Yx8XnxTAXi",
    "outputId": "4c455911-4a8f-462d-f3b4-e4f2704d61e3"
   },
   "outputs": [
    {
     "name": "stdout",
     "output_type": "stream",
     "text": [
      "Drive already mounted at /content/gdrive; to attempt to forcibly remount, call drive.mount(\"/content/gdrive\", force_remount=True).\n"
     ]
    }
   ],
   "source": [
    "from google.colab import drive\n",
    "drive.mount('/content/gdrive')#geeting the content from the google drive"
   ]
  },
  {
   "cell_type": "code",
   "execution_count": 0,
   "metadata": {
    "colab": {},
    "colab_type": "code",
    "collapsed": true,
    "id": "UB3PtZmvTK7W"
   },
   "outputs": [],
   "source": [
    "final_processed_data=pd.read_csv(\"gdrive/My Drive/final_new_data.csv\")#loading the preprocessed data  with 100k points into dataframe "
   ]
  },
  {
   "cell_type": "code",
   "execution_count": 6,
   "metadata": {
    "colab": {
     "base_uri": "https://localhost:8080/",
     "height": 52
    },
    "colab_type": "code",
    "id": "RENTF3KZTWSM",
    "outputId": "2c0eb284-8558-49c0-a7cc-b0fa767e6202"
   },
   "outputs": [
    {
     "name": "stdout",
     "output_type": "stream",
     "text": [
      "88521\n",
      "11479\n"
     ]
    }
   ],
   "source": [
    "# getting the counts of 0 and 1 in \"SCORE\" column to know whether it is unbalanced data or not\n",
    "count_of_1=0\n",
    "count_of_0=0\n",
    "for i in final_processed_data['Score']:\n",
    "   if i==1:\n",
    "    count_of_1+=1\n",
    "   else:\n",
    "    count_of_0+=1\n",
    "print(count_of_1)\n",
    "print(count_of_0)\n",
    "#it is an imbalanced dataset"
   ]
  },
  {
   "cell_type": "code",
   "execution_count": 0,
   "metadata": {
    "colab": {},
    "colab_type": "code",
    "collapsed": true,
    "id": "icFP4UVuTY78"
   },
   "outputs": [],
   "source": [
    "#spliiting the data into train and test data\n",
    "x_train,x_test,y_train,y_test=model_selection.train_test_split(final_processed_data['CleanedText'].values,final_processed_data['Score'].values,test_size=0.2,shuffle=False)"
   ]
  },
  {
   "cell_type": "code",
   "execution_count": 8,
   "metadata": {
    "colab": {
     "base_uri": "https://localhost:8080/",
     "height": 125
    },
    "colab_type": "code",
    "id": "5FGfuNoMTjjz",
    "outputId": "892dd2b2-f905-4b96-c952-8b46a4faee96"
   },
   "outputs": [
    {
     "name": "stdout",
     "output_type": "stream",
     "text": [
      "witti littl book make son laugh loud recit car drive along alway sing refrain hes learn whale india droop love new word book introduc silli classic book will bet son still abl recit memori colleg\n",
      "*****************************************************************\n",
      "['witti', 'littl', 'book', 'make', 'son', 'laugh', 'loud', 'recit', 'car', 'drive', 'along', 'alway', 'sing', 'refrain', 'hes', 'learn', 'whale', 'india', 'droop', 'love', 'new', 'word', 'book', 'introduc', 'silli', 'classic', 'book', 'will', 'bet', 'son', 'still', 'abl', 'recit', 'memori', 'colleg']\n",
      "***********************************************************************\n",
      "sample words  ['witti', 'littl', 'book', 'make', 'son', 'laugh', 'loud', 'car', 'drive', 'along', 'alway', 'sing', 'refrain', 'hes', 'learn', 'india', 'droop', 'love', 'new', 'word', 'introduc', 'silli', 'classic', 'will', 'bet', 'still', 'abl', 'memori', 'colleg', 'rememb', 'see', 'show', 'air', 'televis', 'year', 'ago', 'child', 'sister', 'later', 'bought', 'day', 'thirti', 'someth', 'use', 'seri', 'song', 'student', 'teach', 'preschool', 'turn']\n"
     ]
    }
   ],
   "source": [
    "# Training my own Word2Vec model using your own text corpus\n",
    "list_of_sent=[]\n",
    "for sent in x_train:\n",
    " list_of_sent.append(sent.split())#splitting of sentences into words AND appending them to list\n",
    "print(x_train[0])\n",
    "print(\"*****************************************************************\")\n",
    "print(list_of_sent[0])\n",
    "word_to_vector=Word2Vec(list_of_sent,min_count=5,size=50,workers=2)#constructing my our word to vector\n",
    "w_t_c_words=list(word_to_vector.wv.vocab)\n",
    "print(\"***********************************************************************\")\n",
    "print(\"sample words \", w_t_c_words[0:50])"
   ]
  },
  {
   "cell_type": "code",
   "execution_count": 9,
   "metadata": {
    "colab": {
     "base_uri": "https://localhost:8080/",
     "height": 34
    },
    "colab_type": "code",
    "id": "M-R2ocpp0raI",
    "outputId": "f1fe4ca0-0b41-4062-d0c7-46bc57434e4a"
   },
   "outputs": [
    {
     "data": {
      "text/plain": [
       "11428"
      ]
     },
     "execution_count": 9,
     "metadata": {
      "tags": []
     },
     "output_type": "execute_result"
    }
   ],
   "source": [
    "len(w_t_c_words)"
   ]
  },
  {
   "cell_type": "code",
   "execution_count": 10,
   "metadata": {
    "colab": {
     "base_uri": "https://localhost:8080/",
     "height": 70
    },
    "colab_type": "code",
    "id": "X2_VGcIzTtAI",
    "outputId": "dd2b1677-5555-412e-e03d-d9f85ecb77bc"
   },
   "outputs": [
    {
     "name": "stderr",
     "output_type": "stream",
     "text": [
      "100%|██████████| 80000/80000 [01:37<00:00, 819.42it/s]"
     ]
    },
    {
     "name": "stdout",
     "output_type": "stream",
     "text": [
      "80000\n",
      "50\n"
     ]
    },
    {
     "name": "stderr",
     "output_type": "stream",
     "text": [
      "\n"
     ]
    }
   ],
   "source": [
    "###### NOW STARTING AVERAGE WORD TO VEC FOR TRAIN DATA#################################################################\n",
    "train_sent_vectors = []; # the avg-w2v for each sentence/review is stored in this list\n",
    "for sent in tqdm(list_of_sent): # for each review/sentence\n",
    " sent_vec = np.zeros(50) # as word vectors are of zero length\n",
    " cnt_words =0; # num of words with a valid vector in the sentence/review\n",
    " for word in sent: # for each word in a review/sentence\n",
    "   if word in w_t_c_words:\n",
    "     vec = word_to_vector.wv[word]\n",
    "     sent_vec += vec\n",
    "     cnt_words += 1\n",
    " if cnt_words != 0:\n",
    "  sent_vec /= cnt_words\n",
    " train_sent_vectors.append(sent_vec)\n",
    "print(len(train_sent_vectors))\n",
    "print(len(train_sent_vectors[0]))"
   ]
  },
  {
   "cell_type": "code",
   "execution_count": 11,
   "metadata": {
    "colab": {
     "base_uri": "https://localhost:8080/",
     "height": 34
    },
    "colab_type": "code",
    "id": "Q34AmudrxoOW",
    "outputId": "9c4e464d-7dde-4c35-f233-479fb8fefcb2"
   },
   "outputs": [
    {
     "name": "stdout",
     "output_type": "stream",
     "text": [
      "(80000, 50)\n"
     ]
    }
   ],
   "source": [
    "from sklearn.preprocessing import StandardScaler #standarizing the training  data  \n",
    "x_train_data=StandardScaler( with_mean=False).fit_transform(train_sent_vectors)\n",
    "print(x_train_data.shape)"
   ]
  },
  {
   "cell_type": "code",
   "execution_count": 12,
   "metadata": {
    "colab": {
     "base_uri": "https://localhost:8080/",
     "height": 87
    },
    "colab_type": "code",
    "id": "LTSw_W4KxrkG",
    "outputId": "a9ee004e-8c91-46b9-9ca8-87645fc0711d"
   },
   "outputs": [
    {
     "name": "stdout",
     "output_type": "stream",
     "text": [
      "hard find item dont buy mani either came stale got way quick classic nonetheless\n",
      "*****************************************************************\n",
      "['hard', 'find', 'item', 'dont', 'buy', 'mani', 'either', 'came', 'stale', 'got', 'way', 'quick', 'classic', 'nonetheless']\n",
      "*******************************************************************\n"
     ]
    }
   ],
   "source": [
    "list_of_sent=[]\n",
    "for sent in x_test:\n",
    " list_of_sent.append(sent.split())#splitting of sentences into words AND appending them to list\n",
    "print(x_test[0])\n",
    "print(\"*****************************************************************\")\n",
    "print(list_of_sent[0])\n",
    "print('*******************************************************************')\n"
   ]
  },
  {
   "cell_type": "code",
   "execution_count": 13,
   "metadata": {
    "colab": {
     "base_uri": "https://localhost:8080/",
     "height": 70
    },
    "colab_type": "code",
    "id": "BNAHHsKfxvtq",
    "outputId": "76b2c380-4cf0-431e-e469-10c2e06a1d9c"
   },
   "outputs": [
    {
     "name": "stderr",
     "output_type": "stream",
     "text": [
      "100%|██████████| 20000/20000 [00:26<00:00, 745.48it/s]"
     ]
    },
    {
     "name": "stdout",
     "output_type": "stream",
     "text": [
      "20000\n",
      "50\n"
     ]
    },
    {
     "name": "stderr",
     "output_type": "stream",
     "text": [
      "\n"
     ]
    }
   ],
   "source": [
    "###### NOW STARTING AVERAGE WORD TO VEC FOR TEST DATA#################################################################\n",
    "sent_vectors = []; # the avg-w2v for each sentence/review is stored in this list\n",
    "for sent in tqdm(list_of_sent): # for each review/sentence\n",
    " sent_vec = np.zeros(50) # as word vectors are of zero length\n",
    " cnt_words =0; # num of words with a valid vector in the sentence/review\n",
    " for word in sent: # for each word in a review/sentence\n",
    "   if word in w_t_c_words:\n",
    "     vec = word_to_vector.wv[word]\n",
    "     sent_vec += vec\n",
    "     cnt_words += 1\n",
    " if cnt_words != 0:\n",
    "  sent_vec /= cnt_words\n",
    " sent_vectors.append(sent_vec)\n",
    "print(len(sent_vectors))\n",
    "print(len(sent_vectors[0]))"
   ]
  },
  {
   "cell_type": "code",
   "execution_count": 14,
   "metadata": {
    "colab": {
     "base_uri": "https://localhost:8080/",
     "height": 34
    },
    "colab_type": "code",
    "id": "hsYyc-7Hx0OB",
    "outputId": "9f6cdb55-51c9-414e-9321-956e3eae4b0d"
   },
   "outputs": [
    {
     "name": "stdout",
     "output_type": "stream",
     "text": [
      "(20000, 50)\n"
     ]
    }
   ],
   "source": [
    "from sklearn.preprocessing import StandardScaler #standarizing the training  data  \n",
    "x_test_data=StandardScaler( with_mean=False).fit_transform(sent_vectors)\n",
    "print(x_test_data.shape)"
   ]
  },
  {
   "cell_type": "code",
   "execution_count": 0,
   "metadata": {
    "colab": {},
    "colab_type": "code",
    "collapsed": true,
    "id": "DmWEEG_cWtuz"
   },
   "outputs": [],
   "source": [
    "#using time series split method for cross-validation score\n",
    "from sklearn.model_selection import TimeSeriesSplit\n",
    "tscv = TimeSeriesSplit(n_splits=5) \n",
    "from sklearn.tree import DecisionTreeClassifier\n",
    "\n",
    "\n"
   ]
  },
  {
   "cell_type": "code",
   "execution_count": 16,
   "metadata": {
    "colab": {
     "base_uri": "https://localhost:8080/",
     "height": 52
    },
    "colab_type": "code",
    "id": "MNwZSa3RljOA",
    "outputId": "dada00c2-d703-4f6a-edc6-5f5557d3cea2"
   },
   "outputs": [
    {
     "name": "stdout",
     "output_type": "stream",
     "text": [
      "CPU times: user 4 µs, sys: 0 ns, total: 4 µs\n",
      "Wall time: 8.11 µs\n"
     ]
    }
   ],
   "source": [
    "#biudling the model\n",
    "\n",
    "dt=DecisionTreeClassifier(criterion='gini', splitter='best',class_weight={1:.5,0:.5})\n",
    "tuned_parameters=[{'max_depth':[5,7,10,15,50],'min_samples_split':[5,25,50,100,500]}]\n",
    "#applying the model of decision tree and using gridsearchcv to find the best hyper parameter\n",
    "%time\n",
    "from sklearn.model_selection import GridSearchCV\n",
    "model = GridSearchCV(dt, tuned_parameters, scoring = 'f1', cv=tscv,n_jobs=-1)#building the gridsearchcv model\n"
   ]
  },
  {
   "cell_type": "code",
   "execution_count": 17,
   "metadata": {
    "colab": {
     "base_uri": "https://localhost:8080/",
     "height": 265
    },
    "colab_type": "code",
    "id": "D6Yy0Lglljt6",
    "outputId": "81012783-1362-41a5-d1c6-10f77bb2f197"
   },
   "outputs": [
    {
     "name": "stdout",
     "output_type": "stream",
     "text": [
      "CPU times: user 5.3 s, sys: 178 ms, total: 5.48 s\n",
      "Wall time: 7min 7s\n"
     ]
    },
    {
     "data": {
      "text/plain": [
       "GridSearchCV(cv=TimeSeriesSplit(max_train_size=None, n_splits=5),\n",
       "       error_score='raise-deprecating',\n",
       "       estimator=DecisionTreeClassifier(class_weight={1: 0.5, 0: 0.5}, criterion='gini',\n",
       "            max_depth=None, max_features=None, max_leaf_nodes=None,\n",
       "            min_impurity_decrease=0.0, min_impurity_split=None,\n",
       "            min_samples_leaf=1, min_samples_split=2,\n",
       "            min_weight_fraction_leaf=0.0, presort=False, random_state=None,\n",
       "            splitter='best'),\n",
       "       fit_params=None, iid='warn', n_jobs=-1,\n",
       "       param_grid=[{'max_depth': [5, 7, 10, 15, 50], 'min_samples_split': [5, 25, 50, 100, 500]}],\n",
       "       pre_dispatch='2*n_jobs', refit=True, return_train_score='warn',\n",
       "       scoring='f1', verbose=0)"
      ]
     },
     "execution_count": 17,
     "metadata": {
      "tags": []
     },
     "output_type": "execute_result"
    }
   ],
   "source": [
    "%%time\n",
    "model.fit(x_train_data, y_train)#fiitting the training data\n"
   ]
  },
  {
   "cell_type": "code",
   "execution_count": 18,
   "metadata": {
    "colab": {
     "base_uri": "https://localhost:8080/",
     "height": 123
    },
    "colab_type": "code",
    "id": "pu3OwyMql4xn",
    "outputId": "2f82120a-fefe-4858-affd-72628e20af5e"
   },
   "outputs": [
    {
     "name": "stdout",
     "output_type": "stream",
     "text": [
      "DecisionTreeClassifier(class_weight={1: 0.5, 0: 0.5}, criterion='gini',\n",
      "            max_depth=5, max_features=None, max_leaf_nodes=None,\n",
      "            min_impurity_decrease=0.0, min_impurity_split=None,\n",
      "            min_samples_leaf=1, min_samples_split=500,\n",
      "            min_weight_fraction_leaf=0.0, presort=False, random_state=None,\n",
      "            splitter='best')\n"
     ]
    }
   ],
   "source": [
    "print(model.best_estimator_)#printing the best_estimator"
   ]
  },
  {
   "cell_type": "code",
   "execution_count": 19,
   "metadata": {
    "colab": {
     "base_uri": "https://localhost:8080/",
     "height": 34
    },
    "colab_type": "code",
    "id": "789bG8chl8nm",
    "outputId": "4704cd85-d3d2-40e6-c98b-d30e7d8af37b"
   },
   "outputs": [
    {
     "name": "stdout",
     "output_type": "stream",
     "text": [
      "0.9348750304638631\n"
     ]
    }
   ],
   "source": [
    "print(model.score(x_test_data,y_test))#checking the score on test_Data "
   ]
  },
  {
   "cell_type": "code",
   "execution_count": 20,
   "metadata": {
    "colab": {
     "base_uri": "https://localhost:8080/",
     "height": 1680
    },
    "colab_type": "code",
    "id": "u-gANkwpmJGc",
    "outputId": "75845798-8e05-4d73-ed3e-9ff3a2920c3c"
   },
   "outputs": [
    {
     "data": {
      "text/html": [
       "<div>\n",
       "<style scoped>\n",
       "    .dataframe tbody tr th:only-of-type {\n",
       "        vertical-align: middle;\n",
       "    }\n",
       "\n",
       "    .dataframe tbody tr th {\n",
       "        vertical-align: top;\n",
       "    }\n",
       "\n",
       "    .dataframe thead th {\n",
       "        text-align: right;\n",
       "    }\n",
       "</style>\n",
       "<table border=\"1\" class=\"dataframe\">\n",
       "  <thead>\n",
       "    <tr style=\"text-align: right;\">\n",
       "      <th></th>\n",
       "      <th>mean_fit_time</th>\n",
       "      <th>mean_score_time</th>\n",
       "      <th>mean_test_score</th>\n",
       "      <th>mean_train_score</th>\n",
       "      <th>param_max_depth</th>\n",
       "      <th>param_min_samples_split</th>\n",
       "      <th>params</th>\n",
       "      <th>rank_test_score</th>\n",
       "      <th>split0_test_score</th>\n",
       "      <th>split0_train_score</th>\n",
       "      <th>...</th>\n",
       "      <th>split2_test_score</th>\n",
       "      <th>split2_train_score</th>\n",
       "      <th>split3_test_score</th>\n",
       "      <th>split3_train_score</th>\n",
       "      <th>split4_test_score</th>\n",
       "      <th>split4_train_score</th>\n",
       "      <th>std_fit_time</th>\n",
       "      <th>std_score_time</th>\n",
       "      <th>std_test_score</th>\n",
       "      <th>std_train_score</th>\n",
       "    </tr>\n",
       "  </thead>\n",
       "  <tbody>\n",
       "    <tr>\n",
       "      <th>0</th>\n",
       "      <td>2.002659</td>\n",
       "      <td>0.007253</td>\n",
       "      <td>0.940868</td>\n",
       "      <td>0.948264</td>\n",
       "      <td>5</td>\n",
       "      <td>5</td>\n",
       "      <td>{'max_depth': 5, 'min_samples_split': 5}</td>\n",
       "      <td>4</td>\n",
       "      <td>0.945117</td>\n",
       "      <td>0.950201</td>\n",
       "      <td>...</td>\n",
       "      <td>0.939255</td>\n",
       "      <td>0.947501</td>\n",
       "      <td>0.940360</td>\n",
       "      <td>0.947511</td>\n",
       "      <td>0.939053</td>\n",
       "      <td>0.946232</td>\n",
       "      <td>0.991049</td>\n",
       "      <td>0.000568</td>\n",
       "      <td>0.002205</td>\n",
       "      <td>0.001525</td>\n",
       "    </tr>\n",
       "    <tr>\n",
       "      <th>1</th>\n",
       "      <td>1.976443</td>\n",
       "      <td>0.006667</td>\n",
       "      <td>0.940868</td>\n",
       "      <td>0.948244</td>\n",
       "      <td>5</td>\n",
       "      <td>25</td>\n",
       "      <td>{'max_depth': 5, 'min_samples_split': 25}</td>\n",
       "      <td>3</td>\n",
       "      <td>0.945033</td>\n",
       "      <td>0.950201</td>\n",
       "      <td>...</td>\n",
       "      <td>0.939255</td>\n",
       "      <td>0.947488</td>\n",
       "      <td>0.940445</td>\n",
       "      <td>0.947511</td>\n",
       "      <td>0.939053</td>\n",
       "      <td>0.946232</td>\n",
       "      <td>1.004463</td>\n",
       "      <td>0.000183</td>\n",
       "      <td>0.002169</td>\n",
       "      <td>0.001508</td>\n",
       "    </tr>\n",
       "    <tr>\n",
       "      <th>2</th>\n",
       "      <td>1.983162</td>\n",
       "      <td>0.006709</td>\n",
       "      <td>0.940883</td>\n",
       "      <td>0.948218</td>\n",
       "      <td>5</td>\n",
       "      <td>50</td>\n",
       "      <td>{'max_depth': 5, 'min_samples_split': 50}</td>\n",
       "      <td>2</td>\n",
       "      <td>0.945175</td>\n",
       "      <td>0.950069</td>\n",
       "      <td>...</td>\n",
       "      <td>0.939255</td>\n",
       "      <td>0.947488</td>\n",
       "      <td>0.940445</td>\n",
       "      <td>0.947511</td>\n",
       "      <td>0.938982</td>\n",
       "      <td>0.946232</td>\n",
       "      <td>0.999571</td>\n",
       "      <td>0.000093</td>\n",
       "      <td>0.002235</td>\n",
       "      <td>0.001475</td>\n",
       "    </tr>\n",
       "    <tr>\n",
       "      <th>3</th>\n",
       "      <td>1.977678</td>\n",
       "      <td>0.006696</td>\n",
       "      <td>0.940776</td>\n",
       "      <td>0.947942</td>\n",
       "      <td>5</td>\n",
       "      <td>100</td>\n",
       "      <td>{'max_depth': 5, 'min_samples_split': 100}</td>\n",
       "      <td>5</td>\n",
       "      <td>0.944807</td>\n",
       "      <td>0.949252</td>\n",
       "      <td>...</td>\n",
       "      <td>0.939255</td>\n",
       "      <td>0.947488</td>\n",
       "      <td>0.940274</td>\n",
       "      <td>0.947285</td>\n",
       "      <td>0.938982</td>\n",
       "      <td>0.946232</td>\n",
       "      <td>1.002806</td>\n",
       "      <td>0.000037</td>\n",
       "      <td>0.002101</td>\n",
       "      <td>0.001229</td>\n",
       "    </tr>\n",
       "    <tr>\n",
       "      <th>4</th>\n",
       "      <td>1.976446</td>\n",
       "      <td>0.006760</td>\n",
       "      <td>0.941019</td>\n",
       "      <td>0.946464</td>\n",
       "      <td>5</td>\n",
       "      <td>500</td>\n",
       "      <td>{'max_depth': 5, 'min_samples_split': 500}</td>\n",
       "      <td>1</td>\n",
       "      <td>0.945803</td>\n",
       "      <td>0.946229</td>\n",
       "      <td>...</td>\n",
       "      <td>0.939952</td>\n",
       "      <td>0.947068</td>\n",
       "      <td>0.939927</td>\n",
       "      <td>0.946487</td>\n",
       "      <td>0.938880</td>\n",
       "      <td>0.945696</td>\n",
       "      <td>1.010875</td>\n",
       "      <td>0.000165</td>\n",
       "      <td>0.002451</td>\n",
       "      <td>0.000480</td>\n",
       "    </tr>\n",
       "    <tr>\n",
       "      <th>5</th>\n",
       "      <td>2.653299</td>\n",
       "      <td>0.007029</td>\n",
       "      <td>0.936799</td>\n",
       "      <td>0.954525</td>\n",
       "      <td>7</td>\n",
       "      <td>5</td>\n",
       "      <td>{'max_depth': 7, 'min_samples_split': 5}</td>\n",
       "      <td>8</td>\n",
       "      <td>0.934812</td>\n",
       "      <td>0.958227</td>\n",
       "      <td>...</td>\n",
       "      <td>0.940162</td>\n",
       "      <td>0.953647</td>\n",
       "      <td>0.938298</td>\n",
       "      <td>0.953777</td>\n",
       "      <td>0.935917</td>\n",
       "      <td>0.951179</td>\n",
       "      <td>1.342417</td>\n",
       "      <td>0.000030</td>\n",
       "      <td>0.002110</td>\n",
       "      <td>0.002360</td>\n",
       "    </tr>\n",
       "    <tr>\n",
       "      <th>6</th>\n",
       "      <td>2.650946</td>\n",
       "      <td>0.007054</td>\n",
       "      <td>0.936483</td>\n",
       "      <td>0.954193</td>\n",
       "      <td>7</td>\n",
       "      <td>25</td>\n",
       "      <td>{'max_depth': 7, 'min_samples_split': 25}</td>\n",
       "      <td>9</td>\n",
       "      <td>0.934500</td>\n",
       "      <td>0.957729</td>\n",
       "      <td>...</td>\n",
       "      <td>0.940114</td>\n",
       "      <td>0.953476</td>\n",
       "      <td>0.938265</td>\n",
       "      <td>0.953595</td>\n",
       "      <td>0.935526</td>\n",
       "      <td>0.950992</td>\n",
       "      <td>1.356034</td>\n",
       "      <td>0.000155</td>\n",
       "      <td>0.002338</td>\n",
       "      <td>0.002217</td>\n",
       "    </tr>\n",
       "    <tr>\n",
       "      <th>7</th>\n",
       "      <td>2.643516</td>\n",
       "      <td>0.007065</td>\n",
       "      <td>0.937085</td>\n",
       "      <td>0.953450</td>\n",
       "      <td>7</td>\n",
       "      <td>50</td>\n",
       "      <td>{'max_depth': 7, 'min_samples_split': 50}</td>\n",
       "      <td>7</td>\n",
       "      <td>0.936839</td>\n",
       "      <td>0.955830</td>\n",
       "      <td>...</td>\n",
       "      <td>0.940182</td>\n",
       "      <td>0.952820</td>\n",
       "      <td>0.938387</td>\n",
       "      <td>0.953321</td>\n",
       "      <td>0.936769</td>\n",
       "      <td>0.950766</td>\n",
       "      <td>1.346490</td>\n",
       "      <td>0.000127</td>\n",
       "      <td>0.002289</td>\n",
       "      <td>0.001698</td>\n",
       "    </tr>\n",
       "    <tr>\n",
       "      <th>8</th>\n",
       "      <td>2.640853</td>\n",
       "      <td>0.007006</td>\n",
       "      <td>0.936414</td>\n",
       "      <td>0.952404</td>\n",
       "      <td>7</td>\n",
       "      <td>100</td>\n",
       "      <td>{'max_depth': 7, 'min_samples_split': 100}</td>\n",
       "      <td>10</td>\n",
       "      <td>0.935249</td>\n",
       "      <td>0.954358</td>\n",
       "      <td>...</td>\n",
       "      <td>0.938895</td>\n",
       "      <td>0.951909</td>\n",
       "      <td>0.937161</td>\n",
       "      <td>0.952229</td>\n",
       "      <td>0.936585</td>\n",
       "      <td>0.950264</td>\n",
       "      <td>1.348897</td>\n",
       "      <td>0.000123</td>\n",
       "      <td>0.001618</td>\n",
       "      <td>0.001372</td>\n",
       "    </tr>\n",
       "    <tr>\n",
       "      <th>9</th>\n",
       "      <td>2.597897</td>\n",
       "      <td>0.006915</td>\n",
       "      <td>0.937176</td>\n",
       "      <td>0.947477</td>\n",
       "      <td>7</td>\n",
       "      <td>500</td>\n",
       "      <td>{'max_depth': 7, 'min_samples_split': 500}</td>\n",
       "      <td>6</td>\n",
       "      <td>0.940271</td>\n",
       "      <td>0.947757</td>\n",
       "      <td>...</td>\n",
       "      <td>0.939841</td>\n",
       "      <td>0.947387</td>\n",
       "      <td>0.934645</td>\n",
       "      <td>0.948131</td>\n",
       "      <td>0.937068</td>\n",
       "      <td>0.946492</td>\n",
       "      <td>1.339024</td>\n",
       "      <td>0.000104</td>\n",
       "      <td>0.002563</td>\n",
       "      <td>0.000549</td>\n",
       "    </tr>\n",
       "    <tr>\n",
       "      <th>10</th>\n",
       "      <td>3.554496</td>\n",
       "      <td>0.007523</td>\n",
       "      <td>0.929992</td>\n",
       "      <td>0.967917</td>\n",
       "      <td>10</td>\n",
       "      <td>5</td>\n",
       "      <td>{'max_depth': 10, 'min_samples_split': 5}</td>\n",
       "      <td>15</td>\n",
       "      <td>0.928992</td>\n",
       "      <td>0.971381</td>\n",
       "      <td>...</td>\n",
       "      <td>0.929724</td>\n",
       "      <td>0.968632</td>\n",
       "      <td>0.924792</td>\n",
       "      <td>0.966735</td>\n",
       "      <td>0.932733</td>\n",
       "      <td>0.963667</td>\n",
       "      <td>1.821839</td>\n",
       "      <td>0.000407</td>\n",
       "      <td>0.003147</td>\n",
       "      <td>0.002590</td>\n",
       "    </tr>\n",
       "    <tr>\n",
       "      <th>11</th>\n",
       "      <td>3.566285</td>\n",
       "      <td>0.007451</td>\n",
       "      <td>0.928857</td>\n",
       "      <td>0.965112</td>\n",
       "      <td>10</td>\n",
       "      <td>25</td>\n",
       "      <td>{'max_depth': 10, 'min_samples_split': 25}</td>\n",
       "      <td>17</td>\n",
       "      <td>0.927546</td>\n",
       "      <td>0.967530</td>\n",
       "      <td>...</td>\n",
       "      <td>0.927863</td>\n",
       "      <td>0.965330</td>\n",
       "      <td>0.925091</td>\n",
       "      <td>0.964224</td>\n",
       "      <td>0.932570</td>\n",
       "      <td>0.961857</td>\n",
       "      <td>1.832064</td>\n",
       "      <td>0.000265</td>\n",
       "      <td>0.002692</td>\n",
       "      <td>0.001977</td>\n",
       "    </tr>\n",
       "    <tr>\n",
       "      <th>12</th>\n",
       "      <td>3.570510</td>\n",
       "      <td>0.007753</td>\n",
       "      <td>0.930568</td>\n",
       "      <td>0.962035</td>\n",
       "      <td>10</td>\n",
       "      <td>50</td>\n",
       "      <td>{'max_depth': 10, 'min_samples_split': 50}</td>\n",
       "      <td>14</td>\n",
       "      <td>0.928648</td>\n",
       "      <td>0.963392</td>\n",
       "      <td>...</td>\n",
       "      <td>0.930223</td>\n",
       "      <td>0.962506</td>\n",
       "      <td>0.926532</td>\n",
       "      <td>0.961466</td>\n",
       "      <td>0.935778</td>\n",
       "      <td>0.959659</td>\n",
       "      <td>1.862820</td>\n",
       "      <td>0.000595</td>\n",
       "      <td>0.003112</td>\n",
       "      <td>0.001363</td>\n",
       "    </tr>\n",
       "    <tr>\n",
       "      <th>13</th>\n",
       "      <td>3.537582</td>\n",
       "      <td>0.007217</td>\n",
       "      <td>0.929990</td>\n",
       "      <td>0.958256</td>\n",
       "      <td>10</td>\n",
       "      <td>100</td>\n",
       "      <td>{'max_depth': 10, 'min_samples_split': 100}</td>\n",
       "      <td>16</td>\n",
       "      <td>0.929257</td>\n",
       "      <td>0.960173</td>\n",
       "      <td>...</td>\n",
       "      <td>0.928787</td>\n",
       "      <td>0.959048</td>\n",
       "      <td>0.924246</td>\n",
       "      <td>0.957753</td>\n",
       "      <td>0.936459</td>\n",
       "      <td>0.956231</td>\n",
       "      <td>1.784743</td>\n",
       "      <td>0.000139</td>\n",
       "      <td>0.003957</td>\n",
       "      <td>0.001318</td>\n",
       "    </tr>\n",
       "    <tr>\n",
       "      <th>14</th>\n",
       "      <td>3.377554</td>\n",
       "      <td>0.007211</td>\n",
       "      <td>0.935202</td>\n",
       "      <td>0.948921</td>\n",
       "      <td>10</td>\n",
       "      <td>500</td>\n",
       "      <td>{'max_depth': 10, 'min_samples_split': 500}</td>\n",
       "      <td>11</td>\n",
       "      <td>0.939009</td>\n",
       "      <td>0.948216</td>\n",
       "      <td>...</td>\n",
       "      <td>0.937090</td>\n",
       "      <td>0.949047</td>\n",
       "      <td>0.932661</td>\n",
       "      <td>0.950034</td>\n",
       "      <td>0.935856</td>\n",
       "      <td>0.949006</td>\n",
       "      <td>1.776348</td>\n",
       "      <td>0.000132</td>\n",
       "      <td>0.002808</td>\n",
       "      <td>0.000654</td>\n",
       "    </tr>\n",
       "    <tr>\n",
       "      <th>15</th>\n",
       "      <td>5.068437</td>\n",
       "      <td>0.008073</td>\n",
       "      <td>0.919053</td>\n",
       "      <td>0.986317</td>\n",
       "      <td>15</td>\n",
       "      <td>5</td>\n",
       "      <td>{'max_depth': 15, 'min_samples_split': 5}</td>\n",
       "      <td>21</td>\n",
       "      <td>0.915458</td>\n",
       "      <td>0.988768</td>\n",
       "      <td>...</td>\n",
       "      <td>0.922225</td>\n",
       "      <td>0.987987</td>\n",
       "      <td>0.918806</td>\n",
       "      <td>0.984459</td>\n",
       "      <td>0.922378</td>\n",
       "      <td>0.982787</td>\n",
       "      <td>2.910665</td>\n",
       "      <td>0.000501</td>\n",
       "      <td>0.002868</td>\n",
       "      <td>0.002294</td>\n",
       "    </tr>\n",
       "    <tr>\n",
       "      <th>16</th>\n",
       "      <td>6.632008</td>\n",
       "      <td>0.012310</td>\n",
       "      <td>0.918959</td>\n",
       "      <td>0.975908</td>\n",
       "      <td>15</td>\n",
       "      <td>25</td>\n",
       "      <td>{'max_depth': 15, 'min_samples_split': 25}</td>\n",
       "      <td>22</td>\n",
       "      <td>0.914401</td>\n",
       "      <td>0.975682</td>\n",
       "      <td>...</td>\n",
       "      <td>0.923135</td>\n",
       "      <td>0.976908</td>\n",
       "      <td>0.917965</td>\n",
       "      <td>0.975020</td>\n",
       "      <td>0.922782</td>\n",
       "      <td>0.975514</td>\n",
       "      <td>4.603995</td>\n",
       "      <td>0.003757</td>\n",
       "      <td>0.003458</td>\n",
       "      <td>0.000671</td>\n",
       "    </tr>\n",
       "    <tr>\n",
       "      <th>17</th>\n",
       "      <td>10.286272</td>\n",
       "      <td>0.015601</td>\n",
       "      <td>0.922272</td>\n",
       "      <td>0.968651</td>\n",
       "      <td>15</td>\n",
       "      <td>50</td>\n",
       "      <td>{'max_depth': 15, 'min_samples_split': 50}</td>\n",
       "      <td>19</td>\n",
       "      <td>0.919360</td>\n",
       "      <td>0.967617</td>\n",
       "      <td>...</td>\n",
       "      <td>0.924531</td>\n",
       "      <td>0.969526</td>\n",
       "      <td>0.921068</td>\n",
       "      <td>0.968232</td>\n",
       "      <td>0.927171</td>\n",
       "      <td>0.969307</td>\n",
       "      <td>5.873102</td>\n",
       "      <td>0.004691</td>\n",
       "      <td>0.003108</td>\n",
       "      <td>0.000699</td>\n",
       "    </tr>\n",
       "    <tr>\n",
       "      <th>18</th>\n",
       "      <td>10.270528</td>\n",
       "      <td>0.016565</td>\n",
       "      <td>0.924815</td>\n",
       "      <td>0.961958</td>\n",
       "      <td>15</td>\n",
       "      <td>100</td>\n",
       "      <td>{'max_depth': 15, 'min_samples_split': 100}</td>\n",
       "      <td>18</td>\n",
       "      <td>0.923211</td>\n",
       "      <td>0.962329</td>\n",
       "      <td>...</td>\n",
       "      <td>0.925377</td>\n",
       "      <td>0.962798</td>\n",
       "      <td>0.922010</td>\n",
       "      <td>0.961906</td>\n",
       "      <td>0.928601</td>\n",
       "      <td>0.962387</td>\n",
       "      <td>5.418851</td>\n",
       "      <td>0.002653</td>\n",
       "      <td>0.002240</td>\n",
       "      <td>0.000843</td>\n",
       "    </tr>\n",
       "    <tr>\n",
       "      <th>19</th>\n",
       "      <td>9.488561</td>\n",
       "      <td>0.015178</td>\n",
       "      <td>0.933946</td>\n",
       "      <td>0.949421</td>\n",
       "      <td>15</td>\n",
       "      <td>500</td>\n",
       "      <td>{'max_depth': 15, 'min_samples_split': 500}</td>\n",
       "      <td>12</td>\n",
       "      <td>0.937955</td>\n",
       "      <td>0.948619</td>\n",
       "      <td>...</td>\n",
       "      <td>0.935386</td>\n",
       "      <td>0.949395</td>\n",
       "      <td>0.931182</td>\n",
       "      <td>0.950687</td>\n",
       "      <td>0.934777</td>\n",
       "      <td>0.949744</td>\n",
       "      <td>5.230253</td>\n",
       "      <td>0.001385</td>\n",
       "      <td>0.002787</td>\n",
       "      <td>0.000765</td>\n",
       "    </tr>\n",
       "    <tr>\n",
       "      <th>20</th>\n",
       "      <td>13.637567</td>\n",
       "      <td>0.016597</td>\n",
       "      <td>0.904959</td>\n",
       "      <td>0.996557</td>\n",
       "      <td>50</td>\n",
       "      <td>5</td>\n",
       "      <td>{'max_depth': 50, 'min_samples_split': 5}</td>\n",
       "      <td>25</td>\n",
       "      <td>0.904105</td>\n",
       "      <td>0.996397</td>\n",
       "      <td>...</td>\n",
       "      <td>0.911256</td>\n",
       "      <td>0.996388</td>\n",
       "      <td>0.902847</td>\n",
       "      <td>0.996628</td>\n",
       "      <td>0.904040</td>\n",
       "      <td>0.996736</td>\n",
       "      <td>7.911415</td>\n",
       "      <td>0.003389</td>\n",
       "      <td>0.003210</td>\n",
       "      <td>0.000139</td>\n",
       "    </tr>\n",
       "    <tr>\n",
       "      <th>21</th>\n",
       "      <td>13.563862</td>\n",
       "      <td>0.016665</td>\n",
       "      <td>0.909945</td>\n",
       "      <td>0.980089</td>\n",
       "      <td>50</td>\n",
       "      <td>25</td>\n",
       "      <td>{'max_depth': 50, 'min_samples_split': 25}</td>\n",
       "      <td>24</td>\n",
       "      <td>0.907761</td>\n",
       "      <td>0.978731</td>\n",
       "      <td>...</td>\n",
       "      <td>0.916114</td>\n",
       "      <td>0.979810</td>\n",
       "      <td>0.908001</td>\n",
       "      <td>0.980288</td>\n",
       "      <td>0.909284</td>\n",
       "      <td>0.981550</td>\n",
       "      <td>7.417984</td>\n",
       "      <td>0.003439</td>\n",
       "      <td>0.003129</td>\n",
       "      <td>0.000905</td>\n",
       "    </tr>\n",
       "    <tr>\n",
       "      <th>22</th>\n",
       "      <td>18.209814</td>\n",
       "      <td>0.023592</td>\n",
       "      <td>0.916139</td>\n",
       "      <td>0.970819</td>\n",
       "      <td>50</td>\n",
       "      <td>50</td>\n",
       "      <td>{'max_depth': 50, 'min_samples_split': 50}</td>\n",
       "      <td>23</td>\n",
       "      <td>0.913353</td>\n",
       "      <td>0.968728</td>\n",
       "      <td>...</td>\n",
       "      <td>0.919716</td>\n",
       "      <td>0.971237</td>\n",
       "      <td>0.914805</td>\n",
       "      <td>0.971131</td>\n",
       "      <td>0.918557</td>\n",
       "      <td>0.972583</td>\n",
       "      <td>12.922278</td>\n",
       "      <td>0.005162</td>\n",
       "      <td>0.002518</td>\n",
       "      <td>0.001259</td>\n",
       "    </tr>\n",
       "    <tr>\n",
       "      <th>23</th>\n",
       "      <td>19.613257</td>\n",
       "      <td>0.021649</td>\n",
       "      <td>0.920456</td>\n",
       "      <td>0.963261</td>\n",
       "      <td>50</td>\n",
       "      <td>100</td>\n",
       "      <td>{'max_depth': 50, 'min_samples_split': 100}</td>\n",
       "      <td>20</td>\n",
       "      <td>0.919151</td>\n",
       "      <td>0.963149</td>\n",
       "      <td>...</td>\n",
       "      <td>0.921941</td>\n",
       "      <td>0.963646</td>\n",
       "      <td>0.916691</td>\n",
       "      <td>0.963640</td>\n",
       "      <td>0.923115</td>\n",
       "      <td>0.964424</td>\n",
       "      <td>10.078948</td>\n",
       "      <td>0.004990</td>\n",
       "      <td>0.002281</td>\n",
       "      <td>0.000995</td>\n",
       "    </tr>\n",
       "    <tr>\n",
       "      <th>24</th>\n",
       "      <td>14.350410</td>\n",
       "      <td>0.016698</td>\n",
       "      <td>0.933064</td>\n",
       "      <td>0.949631</td>\n",
       "      <td>50</td>\n",
       "      <td>500</td>\n",
       "      <td>{'max_depth': 50, 'min_samples_split': 500}</td>\n",
       "      <td>13</td>\n",
       "      <td>0.935609</td>\n",
       "      <td>0.948828</td>\n",
       "      <td>...</td>\n",
       "      <td>0.935174</td>\n",
       "      <td>0.949493</td>\n",
       "      <td>0.930686</td>\n",
       "      <td>0.951027</td>\n",
       "      <td>0.934034</td>\n",
       "      <td>0.950040</td>\n",
       "      <td>7.813060</td>\n",
       "      <td>0.003304</td>\n",
       "      <td>0.002369</td>\n",
       "      <td>0.000840</td>\n",
       "    </tr>\n",
       "  </tbody>\n",
       "</table>\n",
       "<p>25 rows × 22 columns</p>\n",
       "</div>"
      ],
      "text/plain": [
       "    mean_fit_time  mean_score_time  mean_test_score  mean_train_score  \\\n",
       "0        2.002659         0.007253         0.940868          0.948264   \n",
       "1        1.976443         0.006667         0.940868          0.948244   \n",
       "2        1.983162         0.006709         0.940883          0.948218   \n",
       "3        1.977678         0.006696         0.940776          0.947942   \n",
       "4        1.976446         0.006760         0.941019          0.946464   \n",
       "5        2.653299         0.007029         0.936799          0.954525   \n",
       "6        2.650946         0.007054         0.936483          0.954193   \n",
       "7        2.643516         0.007065         0.937085          0.953450   \n",
       "8        2.640853         0.007006         0.936414          0.952404   \n",
       "9        2.597897         0.006915         0.937176          0.947477   \n",
       "10       3.554496         0.007523         0.929992          0.967917   \n",
       "11       3.566285         0.007451         0.928857          0.965112   \n",
       "12       3.570510         0.007753         0.930568          0.962035   \n",
       "13       3.537582         0.007217         0.929990          0.958256   \n",
       "14       3.377554         0.007211         0.935202          0.948921   \n",
       "15       5.068437         0.008073         0.919053          0.986317   \n",
       "16       6.632008         0.012310         0.918959          0.975908   \n",
       "17      10.286272         0.015601         0.922272          0.968651   \n",
       "18      10.270528         0.016565         0.924815          0.961958   \n",
       "19       9.488561         0.015178         0.933946          0.949421   \n",
       "20      13.637567         0.016597         0.904959          0.996557   \n",
       "21      13.563862         0.016665         0.909945          0.980089   \n",
       "22      18.209814         0.023592         0.916139          0.970819   \n",
       "23      19.613257         0.021649         0.920456          0.963261   \n",
       "24      14.350410         0.016698         0.933064          0.949631   \n",
       "\n",
       "   param_max_depth param_min_samples_split  \\\n",
       "0                5                       5   \n",
       "1                5                      25   \n",
       "2                5                      50   \n",
       "3                5                     100   \n",
       "4                5                     500   \n",
       "5                7                       5   \n",
       "6                7                      25   \n",
       "7                7                      50   \n",
       "8                7                     100   \n",
       "9                7                     500   \n",
       "10              10                       5   \n",
       "11              10                      25   \n",
       "12              10                      50   \n",
       "13              10                     100   \n",
       "14              10                     500   \n",
       "15              15                       5   \n",
       "16              15                      25   \n",
       "17              15                      50   \n",
       "18              15                     100   \n",
       "19              15                     500   \n",
       "20              50                       5   \n",
       "21              50                      25   \n",
       "22              50                      50   \n",
       "23              50                     100   \n",
       "24              50                     500   \n",
       "\n",
       "                                         params  rank_test_score  \\\n",
       "0      {'max_depth': 5, 'min_samples_split': 5}                4   \n",
       "1     {'max_depth': 5, 'min_samples_split': 25}                3   \n",
       "2     {'max_depth': 5, 'min_samples_split': 50}                2   \n",
       "3    {'max_depth': 5, 'min_samples_split': 100}                5   \n",
       "4    {'max_depth': 5, 'min_samples_split': 500}                1   \n",
       "5      {'max_depth': 7, 'min_samples_split': 5}                8   \n",
       "6     {'max_depth': 7, 'min_samples_split': 25}                9   \n",
       "7     {'max_depth': 7, 'min_samples_split': 50}                7   \n",
       "8    {'max_depth': 7, 'min_samples_split': 100}               10   \n",
       "9    {'max_depth': 7, 'min_samples_split': 500}                6   \n",
       "10    {'max_depth': 10, 'min_samples_split': 5}               15   \n",
       "11   {'max_depth': 10, 'min_samples_split': 25}               17   \n",
       "12   {'max_depth': 10, 'min_samples_split': 50}               14   \n",
       "13  {'max_depth': 10, 'min_samples_split': 100}               16   \n",
       "14  {'max_depth': 10, 'min_samples_split': 500}               11   \n",
       "15    {'max_depth': 15, 'min_samples_split': 5}               21   \n",
       "16   {'max_depth': 15, 'min_samples_split': 25}               22   \n",
       "17   {'max_depth': 15, 'min_samples_split': 50}               19   \n",
       "18  {'max_depth': 15, 'min_samples_split': 100}               18   \n",
       "19  {'max_depth': 15, 'min_samples_split': 500}               12   \n",
       "20    {'max_depth': 50, 'min_samples_split': 5}               25   \n",
       "21   {'max_depth': 50, 'min_samples_split': 25}               24   \n",
       "22   {'max_depth': 50, 'min_samples_split': 50}               23   \n",
       "23  {'max_depth': 50, 'min_samples_split': 100}               20   \n",
       "24  {'max_depth': 50, 'min_samples_split': 500}               13   \n",
       "\n",
       "    split0_test_score  split0_train_score       ...         split2_test_score  \\\n",
       "0            0.945117            0.950201       ...                  0.939255   \n",
       "1            0.945033            0.950201       ...                  0.939255   \n",
       "2            0.945175            0.950069       ...                  0.939255   \n",
       "3            0.944807            0.949252       ...                  0.939255   \n",
       "4            0.945803            0.946229       ...                  0.939952   \n",
       "5            0.934812            0.958227       ...                  0.940162   \n",
       "6            0.934500            0.957729       ...                  0.940114   \n",
       "7            0.936839            0.955830       ...                  0.940182   \n",
       "8            0.935249            0.954358       ...                  0.938895   \n",
       "9            0.940271            0.947757       ...                  0.939841   \n",
       "10           0.928992            0.971381       ...                  0.929724   \n",
       "11           0.927546            0.967530       ...                  0.927863   \n",
       "12           0.928648            0.963392       ...                  0.930223   \n",
       "13           0.929257            0.960173       ...                  0.928787   \n",
       "14           0.939009            0.948216       ...                  0.937090   \n",
       "15           0.915458            0.988768       ...                  0.922225   \n",
       "16           0.914401            0.975682       ...                  0.923135   \n",
       "17           0.919360            0.967617       ...                  0.924531   \n",
       "18           0.923211            0.962329       ...                  0.925377   \n",
       "19           0.937955            0.948619       ...                  0.935386   \n",
       "20           0.904105            0.996397       ...                  0.911256   \n",
       "21           0.907761            0.978731       ...                  0.916114   \n",
       "22           0.913353            0.968728       ...                  0.919716   \n",
       "23           0.919151            0.963149       ...                  0.921941   \n",
       "24           0.935609            0.948828       ...                  0.935174   \n",
       "\n",
       "    split2_train_score  split3_test_score  split3_train_score  \\\n",
       "0             0.947501           0.940360            0.947511   \n",
       "1             0.947488           0.940445            0.947511   \n",
       "2             0.947488           0.940445            0.947511   \n",
       "3             0.947488           0.940274            0.947285   \n",
       "4             0.947068           0.939927            0.946487   \n",
       "5             0.953647           0.938298            0.953777   \n",
       "6             0.953476           0.938265            0.953595   \n",
       "7             0.952820           0.938387            0.953321   \n",
       "8             0.951909           0.937161            0.952229   \n",
       "9             0.947387           0.934645            0.948131   \n",
       "10            0.968632           0.924792            0.966735   \n",
       "11            0.965330           0.925091            0.964224   \n",
       "12            0.962506           0.926532            0.961466   \n",
       "13            0.959048           0.924246            0.957753   \n",
       "14            0.949047           0.932661            0.950034   \n",
       "15            0.987987           0.918806            0.984459   \n",
       "16            0.976908           0.917965            0.975020   \n",
       "17            0.969526           0.921068            0.968232   \n",
       "18            0.962798           0.922010            0.961906   \n",
       "19            0.949395           0.931182            0.950687   \n",
       "20            0.996388           0.902847            0.996628   \n",
       "21            0.979810           0.908001            0.980288   \n",
       "22            0.971237           0.914805            0.971131   \n",
       "23            0.963646           0.916691            0.963640   \n",
       "24            0.949493           0.930686            0.951027   \n",
       "\n",
       "    split4_test_score  split4_train_score  std_fit_time  std_score_time  \\\n",
       "0            0.939053            0.946232      0.991049        0.000568   \n",
       "1            0.939053            0.946232      1.004463        0.000183   \n",
       "2            0.938982            0.946232      0.999571        0.000093   \n",
       "3            0.938982            0.946232      1.002806        0.000037   \n",
       "4            0.938880            0.945696      1.010875        0.000165   \n",
       "5            0.935917            0.951179      1.342417        0.000030   \n",
       "6            0.935526            0.950992      1.356034        0.000155   \n",
       "7            0.936769            0.950766      1.346490        0.000127   \n",
       "8            0.936585            0.950264      1.348897        0.000123   \n",
       "9            0.937068            0.946492      1.339024        0.000104   \n",
       "10           0.932733            0.963667      1.821839        0.000407   \n",
       "11           0.932570            0.961857      1.832064        0.000265   \n",
       "12           0.935778            0.959659      1.862820        0.000595   \n",
       "13           0.936459            0.956231      1.784743        0.000139   \n",
       "14           0.935856            0.949006      1.776348        0.000132   \n",
       "15           0.922378            0.982787      2.910665        0.000501   \n",
       "16           0.922782            0.975514      4.603995        0.003757   \n",
       "17           0.927171            0.969307      5.873102        0.004691   \n",
       "18           0.928601            0.962387      5.418851        0.002653   \n",
       "19           0.934777            0.949744      5.230253        0.001385   \n",
       "20           0.904040            0.996736      7.911415        0.003389   \n",
       "21           0.909284            0.981550      7.417984        0.003439   \n",
       "22           0.918557            0.972583     12.922278        0.005162   \n",
       "23           0.923115            0.964424     10.078948        0.004990   \n",
       "24           0.934034            0.950040      7.813060        0.003304   \n",
       "\n",
       "    std_test_score  std_train_score  \n",
       "0         0.002205         0.001525  \n",
       "1         0.002169         0.001508  \n",
       "2         0.002235         0.001475  \n",
       "3         0.002101         0.001229  \n",
       "4         0.002451         0.000480  \n",
       "5         0.002110         0.002360  \n",
       "6         0.002338         0.002217  \n",
       "7         0.002289         0.001698  \n",
       "8         0.001618         0.001372  \n",
       "9         0.002563         0.000549  \n",
       "10        0.003147         0.002590  \n",
       "11        0.002692         0.001977  \n",
       "12        0.003112         0.001363  \n",
       "13        0.003957         0.001318  \n",
       "14        0.002808         0.000654  \n",
       "15        0.002868         0.002294  \n",
       "16        0.003458         0.000671  \n",
       "17        0.003108         0.000699  \n",
       "18        0.002240         0.000843  \n",
       "19        0.002787         0.000765  \n",
       "20        0.003210         0.000139  \n",
       "21        0.003129         0.000905  \n",
       "22        0.002518         0.001259  \n",
       "23        0.002281         0.000995  \n",
       "24        0.002369         0.000840  \n",
       "\n",
       "[25 rows x 22 columns]"
      ]
     },
     "execution_count": 20,
     "metadata": {
      "tags": []
     },
     "output_type": "execute_result"
    }
   ],
   "source": [
    "results=pd.DataFrame(model.cv_results_)# getting varoius cv_scores and train_scores various values of hyperparameter given as parameter and storing it in a dataframe\n",
    "results#printing the dataframe"
   ]
  },
  {
   "cell_type": "code",
   "execution_count": 0,
   "metadata": {
    "colab": {},
    "colab_type": "code",
    "collapsed": true,
    "id": "1auyp-mCqCxJ"
   },
   "outputs": [],
   "source": [
    "results['mean_train_score']=results['mean_train_score']*100\n",
    "results['mean_test_score']=results['mean_test_score']*100"
   ]
  },
  {
   "cell_type": "code",
   "execution_count": 0,
   "metadata": {
    "colab": {},
    "colab_type": "code",
    "collapsed": true,
    "id": "VwewaWtPqCeb"
   },
   "outputs": [],
   "source": [
    "results=results.round(decimals=2)"
   ]
  },
  {
   "cell_type": "code",
   "execution_count": 0,
   "metadata": {
    "colab": {},
    "colab_type": "code",
    "collapsed": true,
    "id": "zcahuGaGnDVz"
   },
   "outputs": [],
   "source": [
    "results['mean_test_score']=100-results['mean_test_score']"
   ]
  },
  {
   "cell_type": "markdown",
   "metadata": {
    "colab_type": "text",
    "id": "Q9fohIcGBkk4"
   },
   "source": [
    "# PLOTTING THE HEATMAP WITH  HYPERPARAMETERS FOR CV_ERROR SCORE "
   ]
  },
  {
   "cell_type": "code",
   "execution_count": 0,
   "metadata": {
    "colab": {},
    "colab_type": "code",
    "collapsed": true,
    "id": "MnEoQh8n5Zk0"
   },
   "outputs": [],
   "source": [
    "test_score_heatmap=results.pivot(\t'param_max_depth'\t,'param_min_samples_split','mean_test_score'\t)"
   ]
  },
  {
   "cell_type": "code",
   "execution_count": 29,
   "metadata": {
    "colab": {
     "base_uri": "https://localhost:8080/",
     "height": 227
    },
    "colab_type": "code",
    "id": "CoNOFUZf5aIG",
    "outputId": "22345cf1-7d5d-4323-a4b0-d6ae51420a81"
   },
   "outputs": [
    {
     "data": {
      "text/html": [
       "<div>\n",
       "<style scoped>\n",
       "    .dataframe tbody tr th:only-of-type {\n",
       "        vertical-align: middle;\n",
       "    }\n",
       "\n",
       "    .dataframe tbody tr th {\n",
       "        vertical-align: top;\n",
       "    }\n",
       "\n",
       "    .dataframe thead th {\n",
       "        text-align: right;\n",
       "    }\n",
       "</style>\n",
       "<table border=\"1\" class=\"dataframe\">\n",
       "  <thead>\n",
       "    <tr style=\"text-align: right;\">\n",
       "      <th>param_min_samples_split</th>\n",
       "      <th>5</th>\n",
       "      <th>25</th>\n",
       "      <th>50</th>\n",
       "      <th>100</th>\n",
       "      <th>500</th>\n",
       "    </tr>\n",
       "    <tr>\n",
       "      <th>param_max_depth</th>\n",
       "      <th></th>\n",
       "      <th></th>\n",
       "      <th></th>\n",
       "      <th></th>\n",
       "      <th></th>\n",
       "    </tr>\n",
       "  </thead>\n",
       "  <tbody>\n",
       "    <tr>\n",
       "      <th>5</th>\n",
       "      <td>5.91</td>\n",
       "      <td>5.91</td>\n",
       "      <td>5.91</td>\n",
       "      <td>5.92</td>\n",
       "      <td>5.90</td>\n",
       "    </tr>\n",
       "    <tr>\n",
       "      <th>7</th>\n",
       "      <td>6.32</td>\n",
       "      <td>6.35</td>\n",
       "      <td>6.29</td>\n",
       "      <td>6.36</td>\n",
       "      <td>6.28</td>\n",
       "    </tr>\n",
       "    <tr>\n",
       "      <th>10</th>\n",
       "      <td>7.00</td>\n",
       "      <td>7.11</td>\n",
       "      <td>6.94</td>\n",
       "      <td>7.00</td>\n",
       "      <td>6.48</td>\n",
       "    </tr>\n",
       "    <tr>\n",
       "      <th>15</th>\n",
       "      <td>8.09</td>\n",
       "      <td>8.10</td>\n",
       "      <td>7.77</td>\n",
       "      <td>7.52</td>\n",
       "      <td>6.61</td>\n",
       "    </tr>\n",
       "    <tr>\n",
       "      <th>50</th>\n",
       "      <td>9.50</td>\n",
       "      <td>9.01</td>\n",
       "      <td>8.39</td>\n",
       "      <td>7.95</td>\n",
       "      <td>6.69</td>\n",
       "    </tr>\n",
       "  </tbody>\n",
       "</table>\n",
       "</div>"
      ],
      "text/plain": [
       "param_min_samples_split   5     25    50    100   500\n",
       "param_max_depth                                      \n",
       "5                        5.91  5.91  5.91  5.92  5.90\n",
       "7                        6.32  6.35  6.29  6.36  6.28\n",
       "10                       7.00  7.11  6.94  7.00  6.48\n",
       "15                       8.09  8.10  7.77  7.52  6.61\n",
       "50                       9.50  9.01  8.39  7.95  6.69"
      ]
     },
     "execution_count": 29,
     "metadata": {
      "tags": []
     },
     "output_type": "execute_result"
    }
   ],
   "source": [
    "test_score_heatmap"
   ]
  },
  {
   "cell_type": "code",
   "execution_count": 30,
   "metadata": {
    "colab": {
     "base_uri": "https://localhost:8080/",
     "height": 378
    },
    "colab_type": "code",
    "id": "AUkHnS8U5oYt",
    "outputId": "92a1dad5-68da-475a-d482-cf67aa76c134"
   },
   "outputs": [
    {
     "data": {
      "text/plain": [
       "<matplotlib.axes._subplots.AxesSubplot at 0x7ff36562f860>"
      ]
     },
     "execution_count": 30,
     "metadata": {
      "tags": []
     },
     "output_type": "execute_result"
    },
    {
     "data": {
      "image/png": "[encoded data removed]",
      "text/plain": [
       "<Figure size 576x396 with 2 Axes>"
      ]
     },
     "metadata": {
      "tags": []
     },
     "output_type": "display_data"
    }
   ],
   "source": [
    "import seaborn as sns\n",
    "sns.heatmap(test_score_heatmap,annot=True,annot_kws={\"size\": 15}, fmt='g',linewidths=.3)"
   ]
  },
  {
   "cell_type": "code",
   "execution_count": 31,
   "metadata": {
    "colab": {
     "base_uri": "https://localhost:8080/",
     "height": 123
    },
    "colab_type": "code",
    "id": "7l0_mtGJAPk4",
    "outputId": "3673de73-fcd7-456f-e35b-df554e07c498"
   },
   "outputs": [
    {
     "name": "stdout",
     "output_type": "stream",
     "text": [
      "DecisionTreeClassifier(class_weight={1: 0.5, 0: 0.5}, criterion='gini',\n",
      "            max_depth=5, max_features=None, max_leaf_nodes=None,\n",
      "            min_impurity_decrease=0.0, min_impurity_split=None,\n",
      "            min_samples_leaf=1, min_samples_split=500,\n",
      "            min_weight_fraction_leaf=0.0, presort=False, random_state=None,\n",
      "            splitter='best')\n"
     ]
    }
   ],
   "source": [
    "print(model.best_estimator_)#printing the best_estimator"
   ]
  },
  {
   "cell_type": "markdown",
   "metadata": {
    "colab_type": "text",
    "id": "k2scOIdrASUj"
   },
   "source": [
    "# FROM THE ABOVE HEATMAPS RESULTS FOR  CV DATA,WE FOUND THAT BEST HYPERPARAMETERS AS MAX_DEPTH=5 AND MIN_SAMPLE_SPLIT=500"
   ]
  },
  {
   "cell_type": "markdown",
   "metadata": {
    "colab_type": "text",
    "id": "Yy-xI8yKms7Z"
   },
   "source": [
    "# PLOTTING THE ROC CURVE FOR GETTING AUC SCORE"
   ]
  },
  {
   "cell_type": "code",
   "execution_count": 32,
   "metadata": {
    "colab": {
     "base_uri": "https://localhost:8080/",
     "height": 375
    },
    "colab_type": "code",
    "id": "jlPwrJgTkhYs",
    "outputId": "88c0953b-99a7-47c8-cb9b-9a522e52c2ad"
   },
   "outputs": [
    {
     "data": {
      "image/png": "[encoded data removed]",
      "text/plain": [
       "<Figure size 576x396 with 1 Axes>"
      ]
     },
     "metadata": {
      "tags": []
     },
     "output_type": "display_data"
    }
   ],
   "source": [
    "probs = model.predict_proba(x_test_data)\n",
    "preds = probs[:,1]\n",
    "fpr, tpr, threshold = metrics.roc_curve(y_test, preds)\n",
    "roc_auc = metrics.auc(fpr, tpr)\n",
    "\n",
    "# \n",
    "import matplotlib.pyplot as plt\n",
    "plt.title('Receiver Operating Characteristic')\n",
    "plt.plot(fpr, tpr, 'b', label = 'AUC = %0.2f' % roc_auc)\n",
    "plt.legend(loc = 'best')\n",
    "plt.plot([0, 1], [0, 1],'r--')\n",
    "plt.xlim([0, 1])\n",
    "plt.ylim([0, 1])\n",
    "plt.ylabel('True Positive Rate')\n",
    "plt.xlabel('False Positive Rate')\n",
    "plt.show()"
   ]
  },
  {
   "cell_type": "code",
   "execution_count": 34,
   "metadata": {
    "colab": {
     "base_uri": "https://localhost:8080/",
     "height": 34
    },
    "colab_type": "code",
    "id": "GRl8KFcTnXwH",
    "outputId": "ff9db310-b566-4e6f-cf9c-28e73ff3de0e"
   },
   "outputs": [
    {
     "name": "stdout",
     "output_type": "stream",
     "text": [
      "AUC SCORE FROM THE PLOT IS FOUND AS  76.0695896321256\n"
     ]
    }
   ],
   "source": [
    "print(\"AUC SCORE FROM THE PLOT IS FOUND AS \",roc_auc*100)"
   ]
  },
  {
   "cell_type": "markdown",
   "metadata": {
    "colab_type": "text",
    "id": "L02W9vmpqcjH"
   },
   "source": [
    "# TESTING OUR MODEL ON TEST DATA AND CHECKING ITS PRECISION ,RECALL ,F1_FCORE"
   ]
  },
  {
   "cell_type": "code",
   "execution_count": 38,
   "metadata": {
    "colab": {
     "base_uri": "https://localhost:8080/",
     "height": 511
    },
    "colab_type": "code",
    "id": "HIKew9mC4-Rx",
    "outputId": "2379d807-b56d-46d1-8e3a-bea5eb9f5e20"
   },
   "outputs": [
    {
     "name": "stdout",
     "output_type": "stream",
     "text": [
      "Accuracy on test set: 87.975%\n",
      "Precision on test set: 0.886\n",
      "Recall on test set: 0.989\n",
      "F1-Score on test set: 0.935\n",
      "Confusion Matrix of test set:\n",
      " [ [TN  FP]\n",
      " [FN TP] ]\n",
      "\n"
     ]
    },
    {
     "data": {
      "text/plain": [
       "<matplotlib.axes._subplots.AxesSubplot at 0x7ff365404940>"
      ]
     },
     "execution_count": 38,
     "metadata": {
      "tags": []
     },
     "output_type": "execute_result"
    },
    {
     "data": {
      "image/png": "[encoded data removed]",
      "text/plain": [
       "<Figure size 576x396 with 2 Axes>"
      ]
     },
     "metadata": {
      "tags": []
     },
     "output_type": "display_data"
    }
   ],
   "source": [
    "#Testing Accuracy on Test data  \n",
    "dt=DecisionTreeClassifier(criterion='gini', splitter='best',class_weight={1:.5,0:.5},min_samples_split=500,max_depth=5)\n",
    "dt.fit(x_train_data,y_train)#fitting the model\n",
    "import seaborn as sns #importing seaborn as sns\n",
    "from sklearn.metrics import *#importing varoius metrics from sklearn\n",
    "#building the model\n",
    "y_pred = dt.predict(x_test_data) \n",
    "print(\"Accuracy on test set: %0.3f%%\"%(accuracy_score(y_test, y_pred)*100))#printing accuracy\n",
    "print(\"Precision on test set: %0.3f\"%(precision_score(y_test, y_pred)))#printing precision score\n",
    "print(\"Recall on test set: %0.3f\"%(recall_score(y_test, y_pred))) #printing recall\n",
    "print(\"F1-Score on test set: %0.3f\"%(f1_score(y_test, y_pred))) \n",
    "print(\"Confusion Matrix of test set:\\n [ [TN  FP]\\n [FN TP] ]\\n\") \n",
    "df_cm = pd.DataFrame(confusion_matrix(y_test, y_pred), range(2),range(2)) #generating the heatmap for confusion matrix\n",
    "sns.set(font_scale=1.4)#for label size\n",
    "sns.heatmap(df_cm, annot=True,annot_kws={\"size\": 16}, fmt='g')\n"
   ]
  },
  {
   "cell_type": "markdown",
   "metadata": {
    "colab_type": "text",
    "id": "KsvbjbW8qJ5r"
   },
   "source": [
    "# AVG WORD_2_ VECTORIZATION FOR DECISION TREE IS COMPLETED "
   ]
  },
  {
   "cell_type": "code",
   "execution_count": 0,
   "metadata": {
    "colab": {},
    "colab_type": "code",
    "collapsed": true,
    "id": "kLE-j3As5vk9"
   },
   "outputs": [],
   "source": [
    "#avg word_2_vertorization is completed for decision_trees"
   ]
  },
  {
   "cell_type": "code",
   "execution_count": 0,
   "metadata": {
    "colab": {},
    "colab_type": "code",
    "collapsed": true,
    "id": "A8IdBsvkrKiP"
   },
   "outputs": [],
   "source": []
  }
 ],
 "metadata": {
  "colab": {
   "collapsed_sections": [],
   "name": "avg_word_2_vec_DT.ipynb",
   "provenance": [],
   "version": "0.3.2"
  },
  "kernelspec": {
   "display_name": "Python 3",
   "language": "python",
   "name": "python3"
  },
  "language_info": {
   "codemirror_mode": {
    "name": "ipython",
    "version": 3
   },
   "file_extension": ".py",
   "mimetype": "text/x-python",
   "name": "python",
   "nbconvert_exporter": "python",
   "pygments_lexer": "ipython3",
   "version": "3.6.3"
  }
 },
 "nbformat": 4,
 "nbformat_minor": 1
}
