{
 "cells": [
  {
   "cell_type": "markdown",
   "metadata": {
    "colab_type": "text",
    "id": "JY8IF99xnx6g"
   },
   "source": [
    "# OBJECTIVE : \n",
    "\n",
    "1.   APPLYING DECISION TREE WITH TFIDF_AVG_WORD_2_VEC VECTORIZATION<font color=RebeccaPurple>\n",
    "\n",
    " *   FINDING THE BEST HYPERPARAMETER USING GRIDSEARCHCV WITH TRAIN DATA AND CROSS-VALIDATION DATA BY PLOTTING THE RESLUTS OF VAROIUS TRAIN DATA AND CROSS VALIDATION DATA\n",
    " * USING THE APROPRIATE VALUE OF HYPERPARAMETER ,TESTING ACCURACY ON TEST DATA\n",
    "    USING F1-SCORE\n",
    " * PLOTTING THE CONFUSION MATRIX TO GET THE  PRECISOIN ,RECALL VALUE WITH HELP OF HEATMAP #\n"
   ]
  },
  {
   "cell_type": "code",
   "execution_count": 0,
   "metadata": {
    "colab": {},
    "colab_type": "code",
    "collapsed": true,
    "id": "sqKe2mXbEWul"
   },
   "outputs": [],
   "source": [
    "from sklearn.model_selection import train_test_split          #importing the necessary libraries\n",
    "from sklearn.model_selection import RandomizedSearchCV\n",
    "from sklearn.datasets import *\n",
    "from sklearn import naive_bayes\n",
    "from sklearn.feature_extraction.text import CountVectorizer\n",
    "from sklearn.feature_extraction.text import TfidfVectorizer\n",
    "import numpy as np\n",
    "import pandas as pd\n",
    "from sklearn import *\n",
    "import warnings\n",
    "warnings.filterwarnings(\"ignore\")\n",
    "from sklearn.tree import DecisionTreeClassifier\n",
    "from gensim.models import Word2Vec\n",
    "from tqdm import tqdm"
   ]
  },
  {
   "cell_type": "code",
   "execution_count": 2,
   "metadata": {
    "colab": {
     "base_uri": "https://localhost:8080/",
     "height": 34
    },
    "colab_type": "code",
    "id": "I9Yx8XnxTAXi",
    "outputId": "6af52e0b-a96e-42ad-d29d-234367dd3ba4"
   },
   "outputs": [
    {
     "name": "stdout",
     "output_type": "stream",
     "text": [
      "Drive already mounted at /content/gdrive; to attempt to forcibly remount, call drive.mount(\"/content/gdrive\", force_remount=True).\n"
     ]
    }
   ],
   "source": [
    "from google.colab import drive\n",
    "drive.mount('/content/gdrive')#geeting the content from the google drive"
   ]
  },
  {
   "cell_type": "code",
   "execution_count": 0,
   "metadata": {
    "colab": {},
    "colab_type": "code",
    "collapsed": true,
    "id": "UB3PtZmvTK7W"
   },
   "outputs": [],
   "source": [
    "final_processed_data=pd.read_csv(\"gdrive/My Drive/final_new_data.csv\")#loading the preprocessed data  with 100k points into dataframe "
   ]
  },
  {
   "cell_type": "code",
   "execution_count": 4,
   "metadata": {
    "colab": {
     "base_uri": "https://localhost:8080/",
     "height": 52
    },
    "colab_type": "code",
    "id": "RENTF3KZTWSM",
    "outputId": "dd5278a0-624e-4e49-a394-f07fd82d02d6"
   },
   "outputs": [
    {
     "name": "stdout",
     "output_type": "stream",
     "text": [
      "88521\n",
      "11479\n"
     ]
    }
   ],
   "source": [
    "# getting the counts of 0 and 1 in \"SCORE\" column to know whether it is unbalanced data or not\n",
    "count_of_1=0\n",
    "count_of_0=0\n",
    "for i in final_processed_data['Score']:\n",
    "   if i==1:\n",
    "    count_of_1+=1\n",
    "   else:\n",
    "    count_of_0+=1\n",
    "print(count_of_1)\n",
    "print(count_of_0)\n",
    "#it is an imbalanced dataset"
   ]
  },
  {
   "cell_type": "code",
   "execution_count": 0,
   "metadata": {
    "colab": {},
    "colab_type": "code",
    "collapsed": true,
    "id": "icFP4UVuTY78"
   },
   "outputs": [],
   "source": [
    "#spliiting the data into train and test data\n",
    "x_train,x_test,y_train,y_test=model_selection.train_test_split(final_processed_data['CleanedText'].values,final_processed_data['Score'].values,test_size=0.2,shuffle=False)"
   ]
  },
  {
   "cell_type": "code",
   "execution_count": 6,
   "metadata": {
    "colab": {
     "base_uri": "https://localhost:8080/",
     "height": 125
    },
    "colab_type": "code",
    "id": "5FGfuNoMTjjz",
    "outputId": "c7198d66-7324-4a8a-cc7f-05965137716c"
   },
   "outputs": [
    {
     "name": "stdout",
     "output_type": "stream",
     "text": [
      "witti littl book make son laugh loud recit car drive along alway sing refrain hes learn whale india droop love new word book introduc silli classic book will bet son still abl recit memori colleg\n",
      "*****************************************************************\n",
      "['witti', 'littl', 'book', 'make', 'son', 'laugh', 'loud', 'recit', 'car', 'drive', 'along', 'alway', 'sing', 'refrain', 'hes', 'learn', 'whale', 'india', 'droop', 'love', 'new', 'word', 'book', 'introduc', 'silli', 'classic', 'book', 'will', 'bet', 'son', 'still', 'abl', 'recit', 'memori', 'colleg']\n",
      "***********************************************************************\n",
      "sample words  ['witti', 'littl', 'book', 'make', 'son', 'laugh', 'loud', 'car', 'drive', 'along', 'alway', 'sing', 'refrain', 'hes', 'learn', 'india', 'droop', 'love', 'new', 'word', 'introduc', 'silli', 'classic', 'will', 'bet', 'still', 'abl', 'memori', 'colleg', 'rememb', 'see', 'show', 'air', 'televis', 'year', 'ago', 'child', 'sister', 'later', 'bought', 'day', 'thirti', 'someth', 'use', 'seri', 'song', 'student', 'teach', 'preschool', 'turn']\n"
     ]
    }
   ],
   "source": [
    "# Training my own Word2Vec model using your own text corpus\n",
    "list_of_sent=[]\n",
    "for sent in x_train:\n",
    " list_of_sent.append(sent.split())#splitting of sentences into words AND appending them to list\n",
    "print(x_train[0])\n",
    "print(\"*****************************************************************\")\n",
    "print(list_of_sent[0])\n",
    "word_to_vector=Word2Vec(list_of_sent,min_count=5,size=100,workers=2)#constructing my our word to vector\n",
    "w_t_c_words=list(word_to_vector.wv.vocab)\n",
    "print(\"***********************************************************************\")\n",
    "print(\"sample words \", w_t_c_words[0:50])"
   ]
  },
  {
   "cell_type": "code",
   "execution_count": 7,
   "metadata": {
    "colab": {
     "base_uri": "https://localhost:8080/",
     "height": 34
    },
    "colab_type": "code",
    "id": "X2_VGcIzTtAI",
    "outputId": "1b48e6a4-67b6-4111-82ee-3cd1d4d2d4c1"
   },
   "outputs": [
    {
     "name": "stderr",
     "output_type": "stream",
     "text": [
      "100%|██████████| 80000/80000 [06:01<00:00, 221.25it/s]\n"
     ]
    }
   ],
   "source": [
    "###### NOW STARTING TFIDF WORD TO VEC FOR TRAIN DATA#################################################################\n",
    "#NOW STARTING TF-IDF WEIGHTED WORD-TO-VEC\n",
    "model = TfidfVectorizer()\n",
    "tf_idf_matrix = model.fit_transform(x_train)\n",
    "# we are converting a dictionary with word as a key, and the idf as a value\n",
    "dictionary = dict(zip(model.get_feature_names(), list(model.idf_)))\n",
    "train_tfidf_sent_vectors =[]# the tfidf-w2v for each sentence/review is stored in this list\n",
    "\n",
    "for sent in tqdm(list_of_sent): # for each review/sentence\n",
    "  sent_vec = np.zeros(100) # as word vectors are of zero length\n",
    "  weight_sum =0; # num of words with a valid vector in the sentence/review\n",
    "  for word in sent: # for each word in a review/sentence\n",
    "   if word in w_t_c_words:\n",
    "     vec = word_to_vector.wv[word]\n",
    "     tf_idf = dictionary[word]*(sent.count(word)/len(sent))# dictionary[word] = idf value of word in whole courpus\n",
    "     sent_vec += (vec * tf_idf)# sent.count(word) = tf valeus of word in this review\n",
    "     weight_sum += tf_idf \n",
    "  if weight_sum != 0:\n",
    "   sent_vec /= weight_sum\n",
    "   train_tfidf_sent_vectors.append(sent_vec)"
   ]
  },
  {
   "cell_type": "code",
   "execution_count": 8,
   "metadata": {
    "colab": {
     "base_uri": "https://localhost:8080/",
     "height": 34
    },
    "colab_type": "code",
    "id": "Q34AmudrxoOW",
    "outputId": "4df6bdca-f464-41db-d0dd-189a2e607963"
   },
   "outputs": [
    {
     "name": "stdout",
     "output_type": "stream",
     "text": [
      "(80000, 100)\n"
     ]
    }
   ],
   "source": [
    "from sklearn.preprocessing import StandardScaler #standarizing the training  data  \n",
    "x_train_data=StandardScaler( with_mean=False).fit_transform(train_tfidf_sent_vectors)\n",
    "print(x_train_data.shape)"
   ]
  },
  {
   "cell_type": "code",
   "execution_count": 9,
   "metadata": {
    "colab": {
     "base_uri": "https://localhost:8080/",
     "height": 87
    },
    "colab_type": "code",
    "id": "LTSw_W4KxrkG",
    "outputId": "bb3901b8-f696-4efa-b3ec-e8d815e3cb83"
   },
   "outputs": [
    {
     "name": "stdout",
     "output_type": "stream",
     "text": [
      "hard find item dont buy mani either came stale got way quick classic nonetheless\n",
      "*****************************************************************\n",
      "['hard', 'find', 'item', 'dont', 'buy', 'mani', 'either', 'came', 'stale', 'got', 'way', 'quick', 'classic', 'nonetheless']\n",
      "*******************************************************************\n"
     ]
    }
   ],
   "source": [
    "list_of_sent=[]\n",
    "for sent in x_test:\n",
    " list_of_sent.append(sent.split())#splitting of sentences into words AND appending them to list\n",
    "print(x_test[0])\n",
    "print(\"*****************************************************************\")\n",
    "print(list_of_sent[0])\n",
    "print('*******************************************************************')\n"
   ]
  },
  {
   "cell_type": "code",
   "execution_count": 10,
   "metadata": {
    "colab": {
     "base_uri": "https://localhost:8080/",
     "height": 34
    },
    "colab_type": "code",
    "id": "BNAHHsKfxvtq",
    "outputId": "15c2476e-1fe5-40b9-fa7b-60d73c899e3d"
   },
   "outputs": [
    {
     "name": "stderr",
     "output_type": "stream",
     "text": [
      "100%|██████████| 20000/20000 [01:11<00:00, 278.93it/s]\n"
     ]
    }
   ],
   "source": [
    "###### NOW STARTING TFIDF WORD TO VEC FOR TEST DATA#################################################################\n",
    "#NOW STARTING TF-IDF WEIGHTED WORD-TO-VEC\n",
    "model = TfidfVectorizer()\n",
    "model.fit_transform(x_train)\n",
    "model.transform(x_test)\n",
    "# we are converting a dictionary with word as a key, and the idf as a value\n",
    "dictionary = dict(zip(model.get_feature_names(), list(model.idf_)))\n",
    "test_tfidf_sent_vectors =[]# the tfidf-w2v for each sentence/review is stored in this list\n",
    "\n",
    "for sent in tqdm(list_of_sent): # for each review/sentence\n",
    "  sent_vec = np.zeros(100) # as word vectors are of zero length\n",
    "  weight_sum =0; # num of words with a valid vector in the sentence/review\n",
    "  for word in sent: # for each word in a review/sentence\n",
    "   if word in w_t_c_words:\n",
    "     vec = word_to_vector.wv[word]\n",
    "     tf_idf = dictionary[word]*(sent.count(word)/len(sent))# dictionary[word] = idf value of word in whole courpus\n",
    "     sent_vec += (vec * tf_idf)# sent.count(word) = tf valeus of word in this review\n",
    "     weight_sum += tf_idf\n",
    "  if weight_sum != 0:\n",
    "   sent_vec /= weight_sum\n",
    "   test_tfidf_sent_vectors.append(sent_vec)"
   ]
  },
  {
   "cell_type": "code",
   "execution_count": 11,
   "metadata": {
    "colab": {
     "base_uri": "https://localhost:8080/",
     "height": 34
    },
    "colab_type": "code",
    "id": "hsYyc-7Hx0OB",
    "outputId": "0ac7f01a-4d62-404f-e416-7daba9c70092"
   },
   "outputs": [
    {
     "name": "stdout",
     "output_type": "stream",
     "text": [
      "(20000, 100)\n"
     ]
    }
   ],
   "source": [
    "from sklearn.preprocessing import StandardScaler #standarizing the training  data  \n",
    "x_test_data=StandardScaler( with_mean=False).fit_transform(test_tfidf_sent_vectors)\n",
    "print(x_test_data.shape)"
   ]
  },
  {
   "cell_type": "code",
   "execution_count": 0,
   "metadata": {
    "colab": {},
    "colab_type": "code",
    "collapsed": true,
    "id": "DmWEEG_cWtuz"
   },
   "outputs": [],
   "source": [
    "#using time series split method for cross-validation score\n",
    "from sklearn.model_selection import TimeSeriesSplit\n",
    "tscv = TimeSeriesSplit(n_splits=5) \n",
    "from sklearn.tree import DecisionTreeClassifier\n",
    "\n",
    "\n"
   ]
  },
  {
   "cell_type": "code",
   "execution_count": 13,
   "metadata": {
    "colab": {
     "base_uri": "https://localhost:8080/",
     "height": 52
    },
    "colab_type": "code",
    "id": "jAsbpONfj2HB",
    "outputId": "e67d06a3-1d73-460e-984d-938268eb4ef5"
   },
   "outputs": [
    {
     "name": "stdout",
     "output_type": "stream",
     "text": [
      "CPU times: user 4 µs, sys: 0 ns, total: 4 µs\n",
      "Wall time: 7.63 µs\n"
     ]
    }
   ],
   "source": [
    "#biudling the model\n",
    "dt=DecisionTreeClassifier(criterion='gini', splitter='best',class_weight={1:.5,0:.5})\n",
    "tuned_parameters=[{'max_depth':[5,7,10,15,50],'min_samples_split':[5,25,50,100,500]}]\n",
    "#applying the model of decision tree and using gridsearchcv to find the best hyper parameter\n",
    "%time\n",
    "from sklearn.model_selection import GridSearchCV\n",
    "model = GridSearchCV(dt, tuned_parameters, scoring = 'f1', cv=tscv,n_jobs=-1)#building the gridsearchcv model\n"
   ]
  },
  {
   "cell_type": "code",
   "execution_count": 14,
   "metadata": {
    "colab": {
     "base_uri": "https://localhost:8080/",
     "height": 265
    },
    "colab_type": "code",
    "id": "voTQgi3cj2fE",
    "outputId": "82e28dc2-6444-4b85-b0fd-c73d1c9c6542"
   },
   "outputs": [
    {
     "name": "stdout",
     "output_type": "stream",
     "text": [
      "CPU times: user 6.86 s, sys: 192 ms, total: 7.05 s\n",
      "Wall time: 8min 57s\n"
     ]
    },
    {
     "data": {
      "text/plain": [
       "GridSearchCV(cv=TimeSeriesSplit(max_train_size=None, n_splits=5),\n",
       "       error_score='raise-deprecating',\n",
       "       estimator=DecisionTreeClassifier(class_weight={1: 0.5, 0: 0.5}, criterion='gini',\n",
       "            max_depth=None, max_features=None, max_leaf_nodes=None,\n",
       "            min_impurity_decrease=0.0, min_impurity_split=None,\n",
       "            min_samples_leaf=1, min_samples_split=2,\n",
       "            min_weight_fraction_leaf=0.0, presort=False, random_state=None,\n",
       "            splitter='best'),\n",
       "       fit_params=None, iid='warn', n_jobs=-1,\n",
       "       param_grid=[{'max_depth': [5, 7, 10, 15, 50], 'min_samples_split': [5, 25, 50, 100, 500]}],\n",
       "       pre_dispatch='2*n_jobs', refit=True, return_train_score='warn',\n",
       "       scoring='f1', verbose=0)"
      ]
     },
     "execution_count": 14,
     "metadata": {
      "tags": []
     },
     "output_type": "execute_result"
    }
   ],
   "source": [
    "%%time\n",
    "model.fit(x_train_data, y_train)#fiitting the training data"
   ]
  },
  {
   "cell_type": "code",
   "execution_count": 15,
   "metadata": {
    "colab": {
     "base_uri": "https://localhost:8080/",
     "height": 123
    },
    "colab_type": "code",
    "id": "2Tx-uUp1j2-c",
    "outputId": "a89fb3fe-3d65-4a88-9b5d-35f289b8d97d"
   },
   "outputs": [
    {
     "name": "stdout",
     "output_type": "stream",
     "text": [
      "DecisionTreeClassifier(class_weight={1: 0.5, 0: 0.5}, criterion='gini',\n",
      "            max_depth=5, max_features=None, max_leaf_nodes=None,\n",
      "            min_impurity_decrease=0.0, min_impurity_split=None,\n",
      "            min_samples_leaf=1, min_samples_split=5,\n",
      "            min_weight_fraction_leaf=0.0, presort=False, random_state=None,\n",
      "            splitter='best')\n"
     ]
    }
   ],
   "source": [
    "print(model.best_estimator_)#printing the best_estimato"
   ]
  },
  {
   "cell_type": "code",
   "execution_count": 16,
   "metadata": {
    "colab": {
     "base_uri": "https://localhost:8080/",
     "height": 34
    },
    "colab_type": "code",
    "id": "5cRlq-27j3o8",
    "outputId": "ca29031a-8445-4092-92c6-512587b32c28"
   },
   "outputs": [
    {
     "name": "stdout",
     "output_type": "stream",
     "text": [
      "0.9329527677909817\n"
     ]
    }
   ],
   "source": [
    "print(model.score(x_test_data,y_test))#checking the score on test_Data "
   ]
  },
  {
   "cell_type": "code",
   "execution_count": 17,
   "metadata": {
    "colab": {
     "base_uri": "https://localhost:8080/",
     "height": 1680
    },
    "colab_type": "code",
    "id": "Q9NT6WYOj4K7",
    "outputId": "0f484348-1c58-4f98-c18f-18f791c9995a"
   },
   "outputs": [
    {
     "data": {
      "text/html": [
       "<div>\n",
       "<style scoped>\n",
       "    .dataframe tbody tr th:only-of-type {\n",
       "        vertical-align: middle;\n",
       "    }\n",
       "\n",
       "    .dataframe tbody tr th {\n",
       "        vertical-align: top;\n",
       "    }\n",
       "\n",
       "    .dataframe thead th {\n",
       "        text-align: right;\n",
       "    }\n",
       "</style>\n",
       "<table border=\"1\" class=\"dataframe\">\n",
       "  <thead>\n",
       "    <tr style=\"text-align: right;\">\n",
       "      <th></th>\n",
       "      <th>mean_fit_time</th>\n",
       "      <th>mean_score_time</th>\n",
       "      <th>mean_test_score</th>\n",
       "      <th>mean_train_score</th>\n",
       "      <th>param_max_depth</th>\n",
       "      <th>param_min_samples_split</th>\n",
       "      <th>params</th>\n",
       "      <th>rank_test_score</th>\n",
       "      <th>split0_test_score</th>\n",
       "      <th>split0_train_score</th>\n",
       "      <th>...</th>\n",
       "      <th>split2_test_score</th>\n",
       "      <th>split2_train_score</th>\n",
       "      <th>split3_test_score</th>\n",
       "      <th>split3_train_score</th>\n",
       "      <th>split4_test_score</th>\n",
       "      <th>split4_train_score</th>\n",
       "      <th>std_fit_time</th>\n",
       "      <th>std_score_time</th>\n",
       "      <th>std_test_score</th>\n",
       "      <th>std_train_score</th>\n",
       "    </tr>\n",
       "  </thead>\n",
       "  <tbody>\n",
       "    <tr>\n",
       "      <th>0</th>\n",
       "      <td>4.132478</td>\n",
       "      <td>0.009768</td>\n",
       "      <td>0.937585</td>\n",
       "      <td>0.946900</td>\n",
       "      <td>5</td>\n",
       "      <td>5</td>\n",
       "      <td>{'max_depth': 5, 'min_samples_split': 5}</td>\n",
       "      <td>1</td>\n",
       "      <td>0.938813</td>\n",
       "      <td>0.949922</td>\n",
       "      <td>...</td>\n",
       "      <td>0.938619</td>\n",
       "      <td>0.946983</td>\n",
       "      <td>0.935597</td>\n",
       "      <td>0.945610</td>\n",
       "      <td>0.935727</td>\n",
       "      <td>0.944261</td>\n",
       "      <td>2.000911</td>\n",
       "      <td>0.001355</td>\n",
       "      <td>0.001580</td>\n",
       "      <td>0.001921</td>\n",
       "    </tr>\n",
       "    <tr>\n",
       "      <th>1</th>\n",
       "      <td>4.105889</td>\n",
       "      <td>0.009138</td>\n",
       "      <td>0.937430</td>\n",
       "      <td>0.946765</td>\n",
       "      <td>5</td>\n",
       "      <td>25</td>\n",
       "      <td>{'max_depth': 5, 'min_samples_split': 25}</td>\n",
       "      <td>2</td>\n",
       "      <td>0.938209</td>\n",
       "      <td>0.949365</td>\n",
       "      <td>...</td>\n",
       "      <td>0.938619</td>\n",
       "      <td>0.946983</td>\n",
       "      <td>0.935554</td>\n",
       "      <td>0.945525</td>\n",
       "      <td>0.935727</td>\n",
       "      <td>0.944253</td>\n",
       "      <td>2.198297</td>\n",
       "      <td>0.000826</td>\n",
       "      <td>0.001485</td>\n",
       "      <td>0.001762</td>\n",
       "    </tr>\n",
       "    <tr>\n",
       "      <th>2</th>\n",
       "      <td>4.139786</td>\n",
       "      <td>0.008752</td>\n",
       "      <td>0.937362</td>\n",
       "      <td>0.946650</td>\n",
       "      <td>5</td>\n",
       "      <td>50</td>\n",
       "      <td>{'max_depth': 5, 'min_samples_split': 50}</td>\n",
       "      <td>3</td>\n",
       "      <td>0.938171</td>\n",
       "      <td>0.949209</td>\n",
       "      <td>...</td>\n",
       "      <td>0.938404</td>\n",
       "      <td>0.946671</td>\n",
       "      <td>0.935339</td>\n",
       "      <td>0.945417</td>\n",
       "      <td>0.935727</td>\n",
       "      <td>0.944253</td>\n",
       "      <td>2.112944</td>\n",
       "      <td>0.000133</td>\n",
       "      <td>0.001534</td>\n",
       "      <td>0.001728</td>\n",
       "    </tr>\n",
       "    <tr>\n",
       "      <th>3</th>\n",
       "      <td>4.058551</td>\n",
       "      <td>0.008469</td>\n",
       "      <td>0.937240</td>\n",
       "      <td>0.946428</td>\n",
       "      <td>5</td>\n",
       "      <td>100</td>\n",
       "      <td>{'max_depth': 5, 'min_samples_split': 100}</td>\n",
       "      <td>4</td>\n",
       "      <td>0.937689</td>\n",
       "      <td>0.948100</td>\n",
       "      <td>...</td>\n",
       "      <td>0.938404</td>\n",
       "      <td>0.946671</td>\n",
       "      <td>0.935339</td>\n",
       "      <td>0.945417</td>\n",
       "      <td>0.935727</td>\n",
       "      <td>0.944253</td>\n",
       "      <td>2.097936</td>\n",
       "      <td>0.000227</td>\n",
       "      <td>0.001463</td>\n",
       "      <td>0.001430</td>\n",
       "    </tr>\n",
       "    <tr>\n",
       "      <th>4</th>\n",
       "      <td>4.117635</td>\n",
       "      <td>0.008721</td>\n",
       "      <td>0.936690</td>\n",
       "      <td>0.945307</td>\n",
       "      <td>5</td>\n",
       "      <td>500</td>\n",
       "      <td>{'max_depth': 5, 'min_samples_split': 500}</td>\n",
       "      <td>5</td>\n",
       "      <td>0.935861</td>\n",
       "      <td>0.944408</td>\n",
       "      <td>...</td>\n",
       "      <td>0.939609</td>\n",
       "      <td>0.945956</td>\n",
       "      <td>0.935150</td>\n",
       "      <td>0.945115</td>\n",
       "      <td>0.935727</td>\n",
       "      <td>0.944253</td>\n",
       "      <td>2.212190</td>\n",
       "      <td>0.000128</td>\n",
       "      <td>0.001592</td>\n",
       "      <td>0.000960</td>\n",
       "    </tr>\n",
       "    <tr>\n",
       "      <th>5</th>\n",
       "      <td>5.432013</td>\n",
       "      <td>0.008839</td>\n",
       "      <td>0.936172</td>\n",
       "      <td>0.953498</td>\n",
       "      <td>7</td>\n",
       "      <td>5</td>\n",
       "      <td>{'max_depth': 7, 'min_samples_split': 5}</td>\n",
       "      <td>6</td>\n",
       "      <td>0.936673</td>\n",
       "      <td>0.959060</td>\n",
       "      <td>...</td>\n",
       "      <td>0.937687</td>\n",
       "      <td>0.952193</td>\n",
       "      <td>0.937295</td>\n",
       "      <td>0.951612</td>\n",
       "      <td>0.934441</td>\n",
       "      <td>0.950978</td>\n",
       "      <td>2.660051</td>\n",
       "      <td>0.000263</td>\n",
       "      <td>0.001325</td>\n",
       "      <td>0.002918</td>\n",
       "    </tr>\n",
       "    <tr>\n",
       "      <th>6</th>\n",
       "      <td>5.316305</td>\n",
       "      <td>0.008714</td>\n",
       "      <td>0.935673</td>\n",
       "      <td>0.952984</td>\n",
       "      <td>7</td>\n",
       "      <td>25</td>\n",
       "      <td>{'max_depth': 7, 'min_samples_split': 25}</td>\n",
       "      <td>7</td>\n",
       "      <td>0.934791</td>\n",
       "      <td>0.957399</td>\n",
       "      <td>...</td>\n",
       "      <td>0.937462</td>\n",
       "      <td>0.951860</td>\n",
       "      <td>0.937213</td>\n",
       "      <td>0.951455</td>\n",
       "      <td>0.934441</td>\n",
       "      <td>0.950869</td>\n",
       "      <td>2.694427</td>\n",
       "      <td>0.000113</td>\n",
       "      <td>0.001367</td>\n",
       "      <td>0.002353</td>\n",
       "    </tr>\n",
       "    <tr>\n",
       "      <th>7</th>\n",
       "      <td>5.264760</td>\n",
       "      <td>0.008701</td>\n",
       "      <td>0.934885</td>\n",
       "      <td>0.952249</td>\n",
       "      <td>7</td>\n",
       "      <td>50</td>\n",
       "      <td>{'max_depth': 7, 'min_samples_split': 50}</td>\n",
       "      <td>9</td>\n",
       "      <td>0.935562</td>\n",
       "      <td>0.956039</td>\n",
       "      <td>...</td>\n",
       "      <td>0.936592</td>\n",
       "      <td>0.950479</td>\n",
       "      <td>0.933714</td>\n",
       "      <td>0.950846</td>\n",
       "      <td>0.934056</td>\n",
       "      <td>0.950541</td>\n",
       "      <td>2.667376</td>\n",
       "      <td>0.000180</td>\n",
       "      <td>0.001056</td>\n",
       "      <td>0.002171</td>\n",
       "    </tr>\n",
       "    <tr>\n",
       "      <th>8</th>\n",
       "      <td>5.237713</td>\n",
       "      <td>0.008728</td>\n",
       "      <td>0.934422</td>\n",
       "      <td>0.950722</td>\n",
       "      <td>7</td>\n",
       "      <td>100</td>\n",
       "      <td>{'max_depth': 7, 'min_samples_split': 100}</td>\n",
       "      <td>10</td>\n",
       "      <td>0.934929</td>\n",
       "      <td>0.952369</td>\n",
       "      <td>...</td>\n",
       "      <td>0.935777</td>\n",
       "      <td>0.949677</td>\n",
       "      <td>0.933274</td>\n",
       "      <td>0.950316</td>\n",
       "      <td>0.934441</td>\n",
       "      <td>0.949924</td>\n",
       "      <td>2.642979</td>\n",
       "      <td>0.000158</td>\n",
       "      <td>0.000889</td>\n",
       "      <td>0.000997</td>\n",
       "    </tr>\n",
       "    <tr>\n",
       "      <th>9</th>\n",
       "      <td>5.165511</td>\n",
       "      <td>0.008650</td>\n",
       "      <td>0.934917</td>\n",
       "      <td>0.947014</td>\n",
       "      <td>7</td>\n",
       "      <td>500</td>\n",
       "      <td>{'max_depth': 7, 'min_samples_split': 500}</td>\n",
       "      <td>8</td>\n",
       "      <td>0.934477</td>\n",
       "      <td>0.944963</td>\n",
       "      <td>...</td>\n",
       "      <td>0.937553</td>\n",
       "      <td>0.946906</td>\n",
       "      <td>0.932730</td>\n",
       "      <td>0.947661</td>\n",
       "      <td>0.935261</td>\n",
       "      <td>0.947922</td>\n",
       "      <td>2.647411</td>\n",
       "      <td>0.000110</td>\n",
       "      <td>0.001560</td>\n",
       "      <td>0.001079</td>\n",
       "    </tr>\n",
       "    <tr>\n",
       "      <th>10</th>\n",
       "      <td>7.174040</td>\n",
       "      <td>0.009269</td>\n",
       "      <td>0.930876</td>\n",
       "      <td>0.967702</td>\n",
       "      <td>10</td>\n",
       "      <td>5</td>\n",
       "      <td>{'max_depth': 10, 'min_samples_split': 5}</td>\n",
       "      <td>12</td>\n",
       "      <td>0.931573</td>\n",
       "      <td>0.974615</td>\n",
       "      <td>...</td>\n",
       "      <td>0.931673</td>\n",
       "      <td>0.965496</td>\n",
       "      <td>0.928083</td>\n",
       "      <td>0.965212</td>\n",
       "      <td>0.932152</td>\n",
       "      <td>0.964390</td>\n",
       "      <td>3.696441</td>\n",
       "      <td>0.000373</td>\n",
       "      <td>0.001453</td>\n",
       "      <td>0.003769</td>\n",
       "    </tr>\n",
       "    <tr>\n",
       "      <th>11</th>\n",
       "      <td>7.218214</td>\n",
       "      <td>0.009001</td>\n",
       "      <td>0.928509</td>\n",
       "      <td>0.964584</td>\n",
       "      <td>10</td>\n",
       "      <td>25</td>\n",
       "      <td>{'max_depth': 10, 'min_samples_split': 25}</td>\n",
       "      <td>16</td>\n",
       "      <td>0.929019</td>\n",
       "      <td>0.968465</td>\n",
       "      <td>...</td>\n",
       "      <td>0.929722</td>\n",
       "      <td>0.962966</td>\n",
       "      <td>0.925155</td>\n",
       "      <td>0.963370</td>\n",
       "      <td>0.930565</td>\n",
       "      <td>0.962429</td>\n",
       "      <td>3.703640</td>\n",
       "      <td>0.000149</td>\n",
       "      <td>0.001865</td>\n",
       "      <td>0.002237</td>\n",
       "    </tr>\n",
       "    <tr>\n",
       "      <th>12</th>\n",
       "      <td>7.207848</td>\n",
       "      <td>0.009181</td>\n",
       "      <td>0.927792</td>\n",
       "      <td>0.961782</td>\n",
       "      <td>10</td>\n",
       "      <td>50</td>\n",
       "      <td>{'max_depth': 10, 'min_samples_split': 50}</td>\n",
       "      <td>17</td>\n",
       "      <td>0.929606</td>\n",
       "      <td>0.963619</td>\n",
       "      <td>...</td>\n",
       "      <td>0.927736</td>\n",
       "      <td>0.959481</td>\n",
       "      <td>0.921874</td>\n",
       "      <td>0.961201</td>\n",
       "      <td>0.931300</td>\n",
       "      <td>0.960590</td>\n",
       "      <td>3.703844</td>\n",
       "      <td>0.000165</td>\n",
       "      <td>0.003195</td>\n",
       "      <td>0.001756</td>\n",
       "    </tr>\n",
       "    <tr>\n",
       "      <th>13</th>\n",
       "      <td>7.180884</td>\n",
       "      <td>0.009166</td>\n",
       "      <td>0.929242</td>\n",
       "      <td>0.957397</td>\n",
       "      <td>10</td>\n",
       "      <td>100</td>\n",
       "      <td>{'max_depth': 10, 'min_samples_split': 100}</td>\n",
       "      <td>14</td>\n",
       "      <td>0.930838</td>\n",
       "      <td>0.956677</td>\n",
       "      <td>...</td>\n",
       "      <td>0.927900</td>\n",
       "      <td>0.956597</td>\n",
       "      <td>0.925576</td>\n",
       "      <td>0.958000</td>\n",
       "      <td>0.932267</td>\n",
       "      <td>0.957240</td>\n",
       "      <td>3.656240</td>\n",
       "      <td>0.000317</td>\n",
       "      <td>0.002327</td>\n",
       "      <td>0.000735</td>\n",
       "    </tr>\n",
       "    <tr>\n",
       "      <th>14</th>\n",
       "      <td>6.808598</td>\n",
       "      <td>0.009503</td>\n",
       "      <td>0.933250</td>\n",
       "      <td>0.948300</td>\n",
       "      <td>10</td>\n",
       "      <td>500</td>\n",
       "      <td>{'max_depth': 10, 'min_samples_split': 500}</td>\n",
       "      <td>11</td>\n",
       "      <td>0.933224</td>\n",
       "      <td>0.945465</td>\n",
       "      <td>...</td>\n",
       "      <td>0.935273</td>\n",
       "      <td>0.948082</td>\n",
       "      <td>0.929736</td>\n",
       "      <td>0.948761</td>\n",
       "      <td>0.934395</td>\n",
       "      <td>0.949284</td>\n",
       "      <td>3.518794</td>\n",
       "      <td>0.000962</td>\n",
       "      <td>0.001891</td>\n",
       "      <td>0.001539</td>\n",
       "    </tr>\n",
       "    <tr>\n",
       "      <th>15</th>\n",
       "      <td>10.085406</td>\n",
       "      <td>0.010208</td>\n",
       "      <td>0.920337</td>\n",
       "      <td>0.985736</td>\n",
       "      <td>15</td>\n",
       "      <td>5</td>\n",
       "      <td>{'max_depth': 15, 'min_samples_split': 5}</td>\n",
       "      <td>19</td>\n",
       "      <td>0.920563</td>\n",
       "      <td>0.989827</td>\n",
       "      <td>...</td>\n",
       "      <td>0.921378</td>\n",
       "      <td>0.984509</td>\n",
       "      <td>0.916649</td>\n",
       "      <td>0.985239</td>\n",
       "      <td>0.923257</td>\n",
       "      <td>0.983168</td>\n",
       "      <td>5.426147</td>\n",
       "      <td>0.000809</td>\n",
       "      <td>0.002168</td>\n",
       "      <td>0.002242</td>\n",
       "    </tr>\n",
       "    <tr>\n",
       "      <th>16</th>\n",
       "      <td>11.559952</td>\n",
       "      <td>0.009817</td>\n",
       "      <td>0.916575</td>\n",
       "      <td>0.976040</td>\n",
       "      <td>15</td>\n",
       "      <td>25</td>\n",
       "      <td>{'max_depth': 15, 'min_samples_split': 25}</td>\n",
       "      <td>21</td>\n",
       "      <td>0.918776</td>\n",
       "      <td>0.976646</td>\n",
       "      <td>...</td>\n",
       "      <td>0.916709</td>\n",
       "      <td>0.975688</td>\n",
       "      <td>0.914954</td>\n",
       "      <td>0.976512</td>\n",
       "      <td>0.919241</td>\n",
       "      <td>0.974689</td>\n",
       "      <td>6.171115</td>\n",
       "      <td>0.000224</td>\n",
       "      <td>0.002281</td>\n",
       "      <td>0.000765</td>\n",
       "    </tr>\n",
       "    <tr>\n",
       "      <th>17</th>\n",
       "      <td>9.972876</td>\n",
       "      <td>0.009822</td>\n",
       "      <td>0.917373</td>\n",
       "      <td>0.968841</td>\n",
       "      <td>15</td>\n",
       "      <td>50</td>\n",
       "      <td>{'max_depth': 15, 'min_samples_split': 50}</td>\n",
       "      <td>20</td>\n",
       "      <td>0.918561</td>\n",
       "      <td>0.967446</td>\n",
       "      <td>...</td>\n",
       "      <td>0.916427</td>\n",
       "      <td>0.968225</td>\n",
       "      <td>0.911351</td>\n",
       "      <td>0.969632</td>\n",
       "      <td>0.923860</td>\n",
       "      <td>0.968476</td>\n",
       "      <td>5.167467</td>\n",
       "      <td>0.000283</td>\n",
       "      <td>0.004029</td>\n",
       "      <td>0.001059</td>\n",
       "    </tr>\n",
       "    <tr>\n",
       "      <th>18</th>\n",
       "      <td>9.681669</td>\n",
       "      <td>0.009514</td>\n",
       "      <td>0.921086</td>\n",
       "      <td>0.961204</td>\n",
       "      <td>15</td>\n",
       "      <td>100</td>\n",
       "      <td>{'max_depth': 15, 'min_samples_split': 100}</td>\n",
       "      <td>18</td>\n",
       "      <td>0.925819</td>\n",
       "      <td>0.958505</td>\n",
       "      <td>...</td>\n",
       "      <td>0.917478</td>\n",
       "      <td>0.961538</td>\n",
       "      <td>0.917290</td>\n",
       "      <td>0.962237</td>\n",
       "      <td>0.925320</td>\n",
       "      <td>0.961442</td>\n",
       "      <td>4.936454</td>\n",
       "      <td>0.000214</td>\n",
       "      <td>0.003747</td>\n",
       "      <td>0.001394</td>\n",
       "    </tr>\n",
       "    <tr>\n",
       "      <th>19</th>\n",
       "      <td>10.510169</td>\n",
       "      <td>0.010767</td>\n",
       "      <td>0.930837</td>\n",
       "      <td>0.948867</td>\n",
       "      <td>15</td>\n",
       "      <td>500</td>\n",
       "      <td>{'max_depth': 15, 'min_samples_split': 500}</td>\n",
       "      <td>13</td>\n",
       "      <td>0.931435</td>\n",
       "      <td>0.946023</td>\n",
       "      <td>...</td>\n",
       "      <td>0.931533</td>\n",
       "      <td>0.948596</td>\n",
       "      <td>0.928016</td>\n",
       "      <td>0.949345</td>\n",
       "      <td>0.932241</td>\n",
       "      <td>0.950133</td>\n",
       "      <td>5.892986</td>\n",
       "      <td>0.002797</td>\n",
       "      <td>0.001469</td>\n",
       "      <td>0.001541</td>\n",
       "    </tr>\n",
       "    <tr>\n",
       "      <th>20</th>\n",
       "      <td>15.320404</td>\n",
       "      <td>0.010648</td>\n",
       "      <td>0.902348</td>\n",
       "      <td>0.996597</td>\n",
       "      <td>50</td>\n",
       "      <td>5</td>\n",
       "      <td>{'max_depth': 50, 'min_samples_split': 5}</td>\n",
       "      <td>25</td>\n",
       "      <td>0.908193</td>\n",
       "      <td>0.996779</td>\n",
       "      <td>...</td>\n",
       "      <td>0.901124</td>\n",
       "      <td>0.996317</td>\n",
       "      <td>0.897576</td>\n",
       "      <td>0.996658</td>\n",
       "      <td>0.902737</td>\n",
       "      <td>0.996575</td>\n",
       "      <td>8.765666</td>\n",
       "      <td>0.000662</td>\n",
       "      <td>0.003424</td>\n",
       "      <td>0.000154</td>\n",
       "    </tr>\n",
       "    <tr>\n",
       "      <th>21</th>\n",
       "      <td>14.876030</td>\n",
       "      <td>0.010496</td>\n",
       "      <td>0.904071</td>\n",
       "      <td>0.980798</td>\n",
       "      <td>50</td>\n",
       "      <td>25</td>\n",
       "      <td>{'max_depth': 50, 'min_samples_split': 25}</td>\n",
       "      <td>24</td>\n",
       "      <td>0.908906</td>\n",
       "      <td>0.979483</td>\n",
       "      <td>...</td>\n",
       "      <td>0.902156</td>\n",
       "      <td>0.980456</td>\n",
       "      <td>0.901070</td>\n",
       "      <td>0.981298</td>\n",
       "      <td>0.906171</td>\n",
       "      <td>0.981511</td>\n",
       "      <td>8.285464</td>\n",
       "      <td>0.000421</td>\n",
       "      <td>0.002985</td>\n",
       "      <td>0.000748</td>\n",
       "    </tr>\n",
       "    <tr>\n",
       "      <th>22</th>\n",
       "      <td>16.624399</td>\n",
       "      <td>0.010361</td>\n",
       "      <td>0.909053</td>\n",
       "      <td>0.971764</td>\n",
       "      <td>50</td>\n",
       "      <td>50</td>\n",
       "      <td>{'max_depth': 50, 'min_samples_split': 50}</td>\n",
       "      <td>23</td>\n",
       "      <td>0.915907</td>\n",
       "      <td>0.968750</td>\n",
       "      <td>...</td>\n",
       "      <td>0.906213</td>\n",
       "      <td>0.971353</td>\n",
       "      <td>0.900659</td>\n",
       "      <td>0.972532</td>\n",
       "      <td>0.914206</td>\n",
       "      <td>0.972612</td>\n",
       "      <td>9.114702</td>\n",
       "      <td>0.000268</td>\n",
       "      <td>0.005526</td>\n",
       "      <td>0.001663</td>\n",
       "    </tr>\n",
       "    <tr>\n",
       "      <th>23</th>\n",
       "      <td>14.655922</td>\n",
       "      <td>0.010256</td>\n",
       "      <td>0.915798</td>\n",
       "      <td>0.962880</td>\n",
       "      <td>50</td>\n",
       "      <td>100</td>\n",
       "      <td>{'max_depth': 50, 'min_samples_split': 100}</td>\n",
       "      <td>22</td>\n",
       "      <td>0.923853</td>\n",
       "      <td>0.959075</td>\n",
       "      <td>...</td>\n",
       "      <td>0.911006</td>\n",
       "      <td>0.963715</td>\n",
       "      <td>0.911585</td>\n",
       "      <td>0.964131</td>\n",
       "      <td>0.917902</td>\n",
       "      <td>0.963928</td>\n",
       "      <td>8.251315</td>\n",
       "      <td>0.000412</td>\n",
       "      <td>0.004719</td>\n",
       "      <td>0.001913</td>\n",
       "    </tr>\n",
       "    <tr>\n",
       "      <th>24</th>\n",
       "      <td>12.567062</td>\n",
       "      <td>0.009214</td>\n",
       "      <td>0.929149</td>\n",
       "      <td>0.949205</td>\n",
       "      <td>50</td>\n",
       "      <td>500</td>\n",
       "      <td>{'max_depth': 50, 'min_samples_split': 500}</td>\n",
       "      <td>15</td>\n",
       "      <td>0.930730</td>\n",
       "      <td>0.946044</td>\n",
       "      <td>...</td>\n",
       "      <td>0.928998</td>\n",
       "      <td>0.949043</td>\n",
       "      <td>0.926643</td>\n",
       "      <td>0.949710</td>\n",
       "      <td>0.929705</td>\n",
       "      <td>0.950624</td>\n",
       "      <td>6.543870</td>\n",
       "      <td>0.001021</td>\n",
       "      <td>0.001370</td>\n",
       "      <td>0.001688</td>\n",
       "    </tr>\n",
       "  </tbody>\n",
       "</table>\n",
       "<p>25 rows × 22 columns</p>\n",
       "</div>"
      ],
      "text/plain": [
       "    mean_fit_time  mean_score_time  mean_test_score  mean_train_score  \\\n",
       "0        4.132478         0.009768         0.937585          0.946900   \n",
       "1        4.105889         0.009138         0.937430          0.946765   \n",
       "2        4.139786         0.008752         0.937362          0.946650   \n",
       "3        4.058551         0.008469         0.937240          0.946428   \n",
       "4        4.117635         0.008721         0.936690          0.945307   \n",
       "5        5.432013         0.008839         0.936172          0.953498   \n",
       "6        5.316305         0.008714         0.935673          0.952984   \n",
       "7        5.264760         0.008701         0.934885          0.952249   \n",
       "8        5.237713         0.008728         0.934422          0.950722   \n",
       "9        5.165511         0.008650         0.934917          0.947014   \n",
       "10       7.174040         0.009269         0.930876          0.967702   \n",
       "11       7.218214         0.009001         0.928509          0.964584   \n",
       "12       7.207848         0.009181         0.927792          0.961782   \n",
       "13       7.180884         0.009166         0.929242          0.957397   \n",
       "14       6.808598         0.009503         0.933250          0.948300   \n",
       "15      10.085406         0.010208         0.920337          0.985736   \n",
       "16      11.559952         0.009817         0.916575          0.976040   \n",
       "17       9.972876         0.009822         0.917373          0.968841   \n",
       "18       9.681669         0.009514         0.921086          0.961204   \n",
       "19      10.510169         0.010767         0.930837          0.948867   \n",
       "20      15.320404         0.010648         0.902348          0.996597   \n",
       "21      14.876030         0.010496         0.904071          0.980798   \n",
       "22      16.624399         0.010361         0.909053          0.971764   \n",
       "23      14.655922         0.010256         0.915798          0.962880   \n",
       "24      12.567062         0.009214         0.929149          0.949205   \n",
       "\n",
       "   param_max_depth param_min_samples_split  \\\n",
       "0                5                       5   \n",
       "1                5                      25   \n",
       "2                5                      50   \n",
       "3                5                     100   \n",
       "4                5                     500   \n",
       "5                7                       5   \n",
       "6                7                      25   \n",
       "7                7                      50   \n",
       "8                7                     100   \n",
       "9                7                     500   \n",
       "10              10                       5   \n",
       "11              10                      25   \n",
       "12              10                      50   \n",
       "13              10                     100   \n",
       "14              10                     500   \n",
       "15              15                       5   \n",
       "16              15                      25   \n",
       "17              15                      50   \n",
       "18              15                     100   \n",
       "19              15                     500   \n",
       "20              50                       5   \n",
       "21              50                      25   \n",
       "22              50                      50   \n",
       "23              50                     100   \n",
       "24              50                     500   \n",
       "\n",
       "                                         params  rank_test_score  \\\n",
       "0      {'max_depth': 5, 'min_samples_split': 5}                1   \n",
       "1     {'max_depth': 5, 'min_samples_split': 25}                2   \n",
       "2     {'max_depth': 5, 'min_samples_split': 50}                3   \n",
       "3    {'max_depth': 5, 'min_samples_split': 100}                4   \n",
       "4    {'max_depth': 5, 'min_samples_split': 500}                5   \n",
       "5      {'max_depth': 7, 'min_samples_split': 5}                6   \n",
       "6     {'max_depth': 7, 'min_samples_split': 25}                7   \n",
       "7     {'max_depth': 7, 'min_samples_split': 50}                9   \n",
       "8    {'max_depth': 7, 'min_samples_split': 100}               10   \n",
       "9    {'max_depth': 7, 'min_samples_split': 500}                8   \n",
       "10    {'max_depth': 10, 'min_samples_split': 5}               12   \n",
       "11   {'max_depth': 10, 'min_samples_split': 25}               16   \n",
       "12   {'max_depth': 10, 'min_samples_split': 50}               17   \n",
       "13  {'max_depth': 10, 'min_samples_split': 100}               14   \n",
       "14  {'max_depth': 10, 'min_samples_split': 500}               11   \n",
       "15    {'max_depth': 15, 'min_samples_split': 5}               19   \n",
       "16   {'max_depth': 15, 'min_samples_split': 25}               21   \n",
       "17   {'max_depth': 15, 'min_samples_split': 50}               20   \n",
       "18  {'max_depth': 15, 'min_samples_split': 100}               18   \n",
       "19  {'max_depth': 15, 'min_samples_split': 500}               13   \n",
       "20    {'max_depth': 50, 'min_samples_split': 5}               25   \n",
       "21   {'max_depth': 50, 'min_samples_split': 25}               24   \n",
       "22   {'max_depth': 50, 'min_samples_split': 50}               23   \n",
       "23  {'max_depth': 50, 'min_samples_split': 100}               22   \n",
       "24  {'max_depth': 50, 'min_samples_split': 500}               15   \n",
       "\n",
       "    split0_test_score  split0_train_score       ...         split2_test_score  \\\n",
       "0            0.938813            0.949922       ...                  0.938619   \n",
       "1            0.938209            0.949365       ...                  0.938619   \n",
       "2            0.938171            0.949209       ...                  0.938404   \n",
       "3            0.937689            0.948100       ...                  0.938404   \n",
       "4            0.935861            0.944408       ...                  0.939609   \n",
       "5            0.936673            0.959060       ...                  0.937687   \n",
       "6            0.934791            0.957399       ...                  0.937462   \n",
       "7            0.935562            0.956039       ...                  0.936592   \n",
       "8            0.934929            0.952369       ...                  0.935777   \n",
       "9            0.934477            0.944963       ...                  0.937553   \n",
       "10           0.931573            0.974615       ...                  0.931673   \n",
       "11           0.929019            0.968465       ...                  0.929722   \n",
       "12           0.929606            0.963619       ...                  0.927736   \n",
       "13           0.930838            0.956677       ...                  0.927900   \n",
       "14           0.933224            0.945465       ...                  0.935273   \n",
       "15           0.920563            0.989827       ...                  0.921378   \n",
       "16           0.918776            0.976646       ...                  0.916709   \n",
       "17           0.918561            0.967446       ...                  0.916427   \n",
       "18           0.925819            0.958505       ...                  0.917478   \n",
       "19           0.931435            0.946023       ...                  0.931533   \n",
       "20           0.908193            0.996779       ...                  0.901124   \n",
       "21           0.908906            0.979483       ...                  0.902156   \n",
       "22           0.915907            0.968750       ...                  0.906213   \n",
       "23           0.923853            0.959075       ...                  0.911006   \n",
       "24           0.930730            0.946044       ...                  0.928998   \n",
       "\n",
       "    split2_train_score  split3_test_score  split3_train_score  \\\n",
       "0             0.946983           0.935597            0.945610   \n",
       "1             0.946983           0.935554            0.945525   \n",
       "2             0.946671           0.935339            0.945417   \n",
       "3             0.946671           0.935339            0.945417   \n",
       "4             0.945956           0.935150            0.945115   \n",
       "5             0.952193           0.937295            0.951612   \n",
       "6             0.951860           0.937213            0.951455   \n",
       "7             0.950479           0.933714            0.950846   \n",
       "8             0.949677           0.933274            0.950316   \n",
       "9             0.946906           0.932730            0.947661   \n",
       "10            0.965496           0.928083            0.965212   \n",
       "11            0.962966           0.925155            0.963370   \n",
       "12            0.959481           0.921874            0.961201   \n",
       "13            0.956597           0.925576            0.958000   \n",
       "14            0.948082           0.929736            0.948761   \n",
       "15            0.984509           0.916649            0.985239   \n",
       "16            0.975688           0.914954            0.976512   \n",
       "17            0.968225           0.911351            0.969632   \n",
       "18            0.961538           0.917290            0.962237   \n",
       "19            0.948596           0.928016            0.949345   \n",
       "20            0.996317           0.897576            0.996658   \n",
       "21            0.980456           0.901070            0.981298   \n",
       "22            0.971353           0.900659            0.972532   \n",
       "23            0.963715           0.911585            0.964131   \n",
       "24            0.949043           0.926643            0.949710   \n",
       "\n",
       "    split4_test_score  split4_train_score  std_fit_time  std_score_time  \\\n",
       "0            0.935727            0.944261      2.000911        0.001355   \n",
       "1            0.935727            0.944253      2.198297        0.000826   \n",
       "2            0.935727            0.944253      2.112944        0.000133   \n",
       "3            0.935727            0.944253      2.097936        0.000227   \n",
       "4            0.935727            0.944253      2.212190        0.000128   \n",
       "5            0.934441            0.950978      2.660051        0.000263   \n",
       "6            0.934441            0.950869      2.694427        0.000113   \n",
       "7            0.934056            0.950541      2.667376        0.000180   \n",
       "8            0.934441            0.949924      2.642979        0.000158   \n",
       "9            0.935261            0.947922      2.647411        0.000110   \n",
       "10           0.932152            0.964390      3.696441        0.000373   \n",
       "11           0.930565            0.962429      3.703640        0.000149   \n",
       "12           0.931300            0.960590      3.703844        0.000165   \n",
       "13           0.932267            0.957240      3.656240        0.000317   \n",
       "14           0.934395            0.949284      3.518794        0.000962   \n",
       "15           0.923257            0.983168      5.426147        0.000809   \n",
       "16           0.919241            0.974689      6.171115        0.000224   \n",
       "17           0.923860            0.968476      5.167467        0.000283   \n",
       "18           0.925320            0.961442      4.936454        0.000214   \n",
       "19           0.932241            0.950133      5.892986        0.002797   \n",
       "20           0.902737            0.996575      8.765666        0.000662   \n",
       "21           0.906171            0.981511      8.285464        0.000421   \n",
       "22           0.914206            0.972612      9.114702        0.000268   \n",
       "23           0.917902            0.963928      8.251315        0.000412   \n",
       "24           0.929705            0.950624      6.543870        0.001021   \n",
       "\n",
       "    std_test_score  std_train_score  \n",
       "0         0.001580         0.001921  \n",
       "1         0.001485         0.001762  \n",
       "2         0.001534         0.001728  \n",
       "3         0.001463         0.001430  \n",
       "4         0.001592         0.000960  \n",
       "5         0.001325         0.002918  \n",
       "6         0.001367         0.002353  \n",
       "7         0.001056         0.002171  \n",
       "8         0.000889         0.000997  \n",
       "9         0.001560         0.001079  \n",
       "10        0.001453         0.003769  \n",
       "11        0.001865         0.002237  \n",
       "12        0.003195         0.001756  \n",
       "13        0.002327         0.000735  \n",
       "14        0.001891         0.001539  \n",
       "15        0.002168         0.002242  \n",
       "16        0.002281         0.000765  \n",
       "17        0.004029         0.001059  \n",
       "18        0.003747         0.001394  \n",
       "19        0.001469         0.001541  \n",
       "20        0.003424         0.000154  \n",
       "21        0.002985         0.000748  \n",
       "22        0.005526         0.001663  \n",
       "23        0.004719         0.001913  \n",
       "24        0.001370         0.001688  \n",
       "\n",
       "[25 rows x 22 columns]"
      ]
     },
     "execution_count": 17,
     "metadata": {
      "tags": []
     },
     "output_type": "execute_result"
    }
   ],
   "source": [
    "results=pd.DataFrame(model.cv_results_)# getting varoius cv_scores and train_scores various values of hyperparameter given as parameter and storing it in a dataframe\n",
    "results#printing the dataframe"
   ]
  },
  {
   "cell_type": "code",
   "execution_count": 0,
   "metadata": {
    "colab": {},
    "colab_type": "code",
    "collapsed": true,
    "id": "mDtER1u5nbSe"
   },
   "outputs": [],
   "source": [
    "results['mean_train_score']=results['mean_train_score']*100\n",
    "results['mean_test_score']=results['mean_test_score']*100"
   ]
  },
  {
   "cell_type": "code",
   "execution_count": 0,
   "metadata": {
    "colab": {},
    "colab_type": "code",
    "collapsed": true,
    "id": "oWVotjzQokuC"
   },
   "outputs": [],
   "source": [
    "results=results.round(decimals=2)"
   ]
  },
  {
   "cell_type": "markdown",
   "metadata": {
    "colab_type": "text",
    "id": "2qFdEwvlkQ1b"
   },
   "source": [
    "# PLOTTING THE HEATMAP WITH HYPERPARAMETERS FOR CV_DATA SCORE"
   ]
  },
  {
   "cell_type": "code",
   "execution_count": 0,
   "metadata": {
    "colab": {},
    "colab_type": "code",
    "collapsed": true,
    "id": "piOMhJvzkTAC"
   },
   "outputs": [],
   "source": [
    "test_score_heatmap=results.pivot(\t'param_max_depth'\t,'param_min_samples_split','mean_test_score'\t)"
   ]
  },
  {
   "cell_type": "code",
   "execution_count": 21,
   "metadata": {
    "colab": {
     "base_uri": "https://localhost:8080/",
     "height": 227
    },
    "colab_type": "code",
    "id": "c8ZaJ6GfkTgL",
    "outputId": "06c066c7-2a10-4b55-ba14-b74955230eb2"
   },
   "outputs": [
    {
     "data": {
      "text/html": [
       "<div>\n",
       "<style scoped>\n",
       "    .dataframe tbody tr th:only-of-type {\n",
       "        vertical-align: middle;\n",
       "    }\n",
       "\n",
       "    .dataframe tbody tr th {\n",
       "        vertical-align: top;\n",
       "    }\n",
       "\n",
       "    .dataframe thead th {\n",
       "        text-align: right;\n",
       "    }\n",
       "</style>\n",
       "<table border=\"1\" class=\"dataframe\">\n",
       "  <thead>\n",
       "    <tr style=\"text-align: right;\">\n",
       "      <th>param_min_samples_split</th>\n",
       "      <th>5</th>\n",
       "      <th>25</th>\n",
       "      <th>50</th>\n",
       "      <th>100</th>\n",
       "      <th>500</th>\n",
       "    </tr>\n",
       "    <tr>\n",
       "      <th>param_max_depth</th>\n",
       "      <th></th>\n",
       "      <th></th>\n",
       "      <th></th>\n",
       "      <th></th>\n",
       "      <th></th>\n",
       "    </tr>\n",
       "  </thead>\n",
       "  <tbody>\n",
       "    <tr>\n",
       "      <th>5</th>\n",
       "      <td>93.76</td>\n",
       "      <td>93.74</td>\n",
       "      <td>93.74</td>\n",
       "      <td>93.72</td>\n",
       "      <td>93.67</td>\n",
       "    </tr>\n",
       "    <tr>\n",
       "      <th>7</th>\n",
       "      <td>93.62</td>\n",
       "      <td>93.57</td>\n",
       "      <td>93.49</td>\n",
       "      <td>93.44</td>\n",
       "      <td>93.49</td>\n",
       "    </tr>\n",
       "    <tr>\n",
       "      <th>10</th>\n",
       "      <td>93.09</td>\n",
       "      <td>92.85</td>\n",
       "      <td>92.78</td>\n",
       "      <td>92.92</td>\n",
       "      <td>93.32</td>\n",
       "    </tr>\n",
       "    <tr>\n",
       "      <th>15</th>\n",
       "      <td>92.03</td>\n",
       "      <td>91.66</td>\n",
       "      <td>91.74</td>\n",
       "      <td>92.11</td>\n",
       "      <td>93.08</td>\n",
       "    </tr>\n",
       "    <tr>\n",
       "      <th>50</th>\n",
       "      <td>90.23</td>\n",
       "      <td>90.41</td>\n",
       "      <td>90.91</td>\n",
       "      <td>91.58</td>\n",
       "      <td>92.91</td>\n",
       "    </tr>\n",
       "  </tbody>\n",
       "</table>\n",
       "</div>"
      ],
      "text/plain": [
       "param_min_samples_split    5      25     50     100    500\n",
       "param_max_depth                                           \n",
       "5                        93.76  93.74  93.74  93.72  93.67\n",
       "7                        93.62  93.57  93.49  93.44  93.49\n",
       "10                       93.09  92.85  92.78  92.92  93.32\n",
       "15                       92.03  91.66  91.74  92.11  93.08\n",
       "50                       90.23  90.41  90.91  91.58  92.91"
      ]
     },
     "execution_count": 21,
     "metadata": {
      "tags": []
     },
     "output_type": "execute_result"
    }
   ],
   "source": [
    "test_score_heatmap"
   ]
  },
  {
   "cell_type": "code",
   "execution_count": 22,
   "metadata": {
    "colab": {
     "base_uri": "https://localhost:8080/",
     "height": 378
    },
    "colab_type": "code",
    "id": "DVsgT1rEkbSs",
    "outputId": "870a4af2-1f8e-4293-b2df-074f633ed4b2"
   },
   "outputs": [
    {
     "data": {
      "text/plain": [
       "<matplotlib.axes._subplots.AxesSubplot at 0x7fe1316227b8>"
      ]
     },
     "execution_count": 22,
     "metadata": {
      "tags": []
     },
     "output_type": "execute_result"
    },
    {
     "data": {
      "image/png": "[encoded data removed]",
      "text/plain": [
       "<Figure size 576x396 with 2 Axes>"
      ]
     },
     "metadata": {
      "tags": []
     },
     "output_type": "display_data"
    }
   ],
   "source": [
    "import seaborn as sns\n",
    "sns.heatmap(test_score_heatmap,annot=True,annot_kws={\"size\": 15}, fmt='g',linewidths=.3)"
   ]
  },
  {
   "cell_type": "code",
   "execution_count": 23,
   "metadata": {
    "colab": {
     "base_uri": "https://localhost:8080/",
     "height": 123
    },
    "colab_type": "code",
    "id": "rBUqK7qbkglZ",
    "outputId": "69d85915-cd32-4262-ce9d-edb72b3c431f"
   },
   "outputs": [
    {
     "name": "stdout",
     "output_type": "stream",
     "text": [
      "DecisionTreeClassifier(class_weight={1: 0.5, 0: 0.5}, criterion='gini',\n",
      "            max_depth=5, max_features=None, max_leaf_nodes=None,\n",
      "            min_impurity_decrease=0.0, min_impurity_split=None,\n",
      "            min_samples_leaf=1, min_samples_split=5,\n",
      "            min_weight_fraction_leaf=0.0, presort=False, random_state=None,\n",
      "            splitter='best')\n"
     ]
    }
   ],
   "source": [
    "print(model.best_estimator_)#printing the best_estimator"
   ]
  },
  {
   "cell_type": "markdown",
   "metadata": {
    "colab_type": "text",
    "id": "TUeh5h4FpMik"
   },
   "source": [
    "# <font color=DarkSlateGray>From here,the best hyperparameter value is max_depth=5<font>#"
   ]
  },
  {
   "cell_type": "code",
   "execution_count": 24,
   "metadata": {
    "colab": {
     "base_uri": "https://localhost:8080/",
     "height": 123
    },
    "colab_type": "code",
    "id": "SBG1Z7t-rt5z",
    "outputId": "cdde240c-a815-488b-eb1b-b1c4d4319579"
   },
   "outputs": [
    {
     "data": {
      "text/plain": [
       "DecisionTreeClassifier(class_weight={1: 0.5, 0: 0.5}, criterion='gini',\n",
       "            max_depth=5, max_features=None, max_leaf_nodes=None,\n",
       "            min_impurity_decrease=0.0, min_impurity_split=None,\n",
       "            min_samples_leaf=1, min_samples_split=5,\n",
       "            min_weight_fraction_leaf=0.0, presort=False, random_state=None,\n",
       "            splitter='best')"
      ]
     },
     "execution_count": 24,
     "metadata": {
      "tags": []
     },
     "output_type": "execute_result"
    }
   ],
   "source": [
    "dt=DecisionTreeClassifier(criterion='gini', splitter='best',class_weight={1:.5,0:.5},min_samples_split=5,max_depth=5)\n",
    "dt.fit(x_train_data,y_train)#fitting the model "
   ]
  },
  {
   "cell_type": "markdown",
   "metadata": {
    "colab_type": "text",
    "id": "RxxEduQfqobn"
   },
   "source": [
    "# PLOTTING THE ROC CURVE FOR GETTING AUC SCORE"
   ]
  },
  {
   "cell_type": "code",
   "execution_count": 25,
   "metadata": {
    "colab": {
     "base_uri": "https://localhost:8080/",
     "height": 375
    },
    "colab_type": "code",
    "id": "NGRH7DKPmVGy",
    "outputId": "bbc97fe0-af37-41ad-f726-dea537941bf8"
   },
   "outputs": [
    {
     "data": {
      "image/png": "[encoded data removed]",
      "text/plain": [
       "<Figure size 576x396 with 1 Axes>"
      ]
     },
     "metadata": {
      "tags": []
     },
     "output_type": "display_data"
    }
   ],
   "source": [
    "probs = model.predict_proba(x_test_data)\n",
    "preds = probs[:,1]\n",
    "fpr, tpr, threshold = metrics.roc_curve(y_test, preds)\n",
    "roc_auc = metrics.auc(fpr, tpr)\n",
    "\n",
    "# \n",
    "import matplotlib.pyplot as plt\n",
    "plt.title('Receiver Operating Characteristic')\n",
    "plt.plot(fpr, tpr, 'b', label = 'AUC = %0.2f' % roc_auc)\n",
    "plt.legend(loc = 'best')\n",
    "plt.plot([0, 1], [0, 1],'r--')\n",
    "plt.xlim([0, 1])\n",
    "plt.ylim([0, 1])\n",
    "plt.ylabel('True Positive Rate')\n",
    "plt.xlabel('False Positive Rate')\n",
    "plt.show()"
   ]
  },
  {
   "cell_type": "code",
   "execution_count": 26,
   "metadata": {
    "colab": {
     "base_uri": "https://localhost:8080/",
     "height": 34
    },
    "colab_type": "code",
    "id": "VtdWrz_0qxWn",
    "outputId": "4529d4b9-4865-4b71-d69a-5de532ea0b35"
   },
   "outputs": [
    {
     "name": "stdout",
     "output_type": "stream",
     "text": [
      "FROM THE ABOVE PLOT,AUC_SCORE IS FOUND AS  77.36347212211996\n"
     ]
    }
   ],
   "source": [
    "print('FROM THE ABOVE PLOT,AUC_SCORE IS FOUND AS ',roc_auc*100)"
   ]
  },
  {
   "cell_type": "markdown",
   "metadata": {
    "colab_type": "text",
    "id": "L02W9vmpqcjH"
   },
   "source": [
    "# TESTING OUR MODEL ON TEST DATA AND CHECKING ITS PRECISION ,RECALL ,F1_FCORE"
   ]
  },
  {
   "cell_type": "code",
   "execution_count": 27,
   "metadata": {
    "colab": {
     "base_uri": "https://localhost:8080/",
     "height": 511
    },
    "colab_type": "code",
    "id": "HIKew9mC4-Rx",
    "outputId": "c545c9fa-6235-48d5-bd00-51212df99a94"
   },
   "outputs": [
    {
     "name": "stdout",
     "output_type": "stream",
     "text": [
      "Accuracy on test set: 87.785%\n",
      "Precision on test set: 0.895\n",
      "Recall on test set: 0.974\n",
      "F1-Score on test set: 0.933\n",
      "Confusion Matrix of test set:\n",
      " [ [TN  FP]\n",
      " [FN TP] ]\n",
      "\n"
     ]
    },
    {
     "data": {
      "text/plain": [
       "<matplotlib.axes._subplots.AxesSubplot at 0x7fe13056d978>"
      ]
     },
     "execution_count": 27,
     "metadata": {
      "tags": []
     },
     "output_type": "execute_result"
    },
    {
     "data": {
      "image/png": "[encoded data removed]",
      "text/plain": [
       "<Figure size 576x396 with 2 Axes>"
      ]
     },
     "metadata": {
      "tags": []
     },
     "output_type": "display_data"
    }
   ],
   "source": [
    "#Testing Accuracy on Test data  \n",
    "import seaborn as sns #importing seaborn as sns\n",
    "from sklearn.metrics import *#importing varoius metrics from sklearn\n",
    "y_pred = dt.predict(x_test_data) \n",
    "print(\"Accuracy on test set: %0.3f%%\"%(accuracy_score(y_test, y_pred)*100))#printing accuracy\n",
    "print(\"Precision on test set: %0.3f\"%(precision_score(y_test, y_pred)))#printing precision score\n",
    "print(\"Recall on test set: %0.3f\"%(recall_score(y_test, y_pred))) #printing recall\n",
    "print(\"F1-Score on test set: %0.3f\"%(f1_score(y_test, y_pred))) \n",
    "print(\"Confusion Matrix of test set:\\n [ [TN  FP]\\n [FN TP] ]\\n\") \n",
    "df_cm = pd.DataFrame(confusion_matrix(y_test, y_pred), range(2),range(2)) #generating the heatmap for confusion matrix\n",
    "sns.set(font_scale=1.4)#for label size\n",
    "sns.heatmap(df_cm, annot=True,annot_kws={\"size\": 16}, fmt='g')\n"
   ]
  },
  {
   "cell_type": "markdown",
   "metadata": {
    "colab_type": "text",
    "id": "KsvbjbW8qJ5r"
   },
   "source": [
    "# TFIDF_AVG WORD_2_ VECTORIZATION FOR DECISION TREE IS COMPLETED "
   ]
  },
  {
   "cell_type": "code",
   "execution_count": 0,
   "metadata": {
    "colab": {},
    "colab_type": "code",
    "collapsed": true,
    "id": "kLE-j3As5vk9"
   },
   "outputs": [],
   "source": [
    "# tfidf_avg word_2_vertorization is completed for decision_trees"
   ]
  },
  {
   "cell_type": "markdown",
   "metadata": {
    "colab_type": "text",
    "id": "2R6gIaY_ZywK"
   },
   "source": [
    "# TABULATING VAROIUS VECTORIZATION RESULTS WITH DIFFERENT ACCURACY SCORES"
   ]
  },
  {
   "cell_type": "code",
   "execution_count": 0,
   "metadata": {
    "colab": {},
    "colab_type": "code",
    "collapsed": true,
    "id": "A8IdBsvkrKiP"
   },
   "outputs": [],
   "source": [
    "from tabulate import tabulate"
   ]
  },
  {
   "cell_type": "code",
   "execution_count": 29,
   "metadata": {
    "colab": {
     "base_uri": "https://localhost:8080/",
     "height": 123
    },
    "colab_type": "code",
    "id": "NVM7URegOLcA",
    "outputId": "8c5cf8ac-8baf-4bb2-c47d-4a6c1092ce15"
   },
   "outputs": [
    {
     "name": "stdout",
     "output_type": "stream",
     "text": [
      "--------------------  --  --  --  --\n",
      "BOW                   10  89  98  93\n",
      "TF-IDF                10  89  98  93\n",
      "AVG_WORD_2_VEC         5  90  98  94\n",
      "TFIDF_AVG_WORD_2_VEC   5  88  98  93\n",
      "--------------------  --  --  --  --\n"
     ]
    }
   ],
   "source": [
    "table = [[\"BOW\",10,89,98,93],[\"TF-IDF\",10,89,98,93], [\"AVG_WORD_2_VEC\",5,90,98,94],[\"TFIDF_AVG_WORD_2_VEC\",5,88,98,93]]\n",
    "print (tabulate(table))"
   ]
  },
  {
   "cell_type": "code",
   "execution_count": 30,
   "metadata": {
    "colab": {
     "base_uri": "https://localhost:8080/",
     "height": 212
    },
    "colab_type": "code",
    "id": "VLKEzWhCOQTU",
    "outputId": "2d500aee-b192-4167-eda0-7fa240a32052"
   },
   "outputs": [
    {
     "name": "stdout",
     "output_type": "stream",
     "text": [
      "╒══════════════════════╤═════════════╤═════════════╤══════════╤════════════╕\n",
      "│ VECTORIZATION        │   MAX_DEPTH │   PRECISION │   RECALL │   F1_SCORE │\n",
      "╞══════════════════════╪═════════════╪═════════════╪══════════╪════════════╡\n",
      "│ BOW                  │          10 │          89 │       98 │         93 │\n",
      "├──────────────────────┼─────────────┼─────────────┼──────────┼────────────┤\n",
      "│ TF-IDF               │          10 │          89 │       98 │         93 │\n",
      "├──────────────────────┼─────────────┼─────────────┼──────────┼────────────┤\n",
      "│ AVG_WORD_2_VEC       │           5 │          90 │       98 │         94 │\n",
      "├──────────────────────┼─────────────┼─────────────┼──────────┼────────────┤\n",
      "│ TFIDF_AVG_WORD_2_VEC │           5 │          88 │       98 │         93 │\n",
      "╘══════════════════════╧═════════════╧═════════════╧══════════╧════════════╛\n"
     ]
    }
   ],
   "source": [
    "headers=['VECTORIZATION','MAX_DEPTH','PRECISION','RECALL','F1_SCORE']\n",
    "print (tabulate(table, headers, tablefmt=\"fancy_grid\"))"
   ]
  },
  {
   "cell_type": "markdown",
   "metadata": {
    "colab_type": "text",
    "id": "r6mzynSnVW7L"
   },
   "source": [
    "############DECISION TREE WITH ALL FOUR VECTORIZATION   COMPLETED#################"
   ]
  },
  {
   "cell_type": "code",
   "execution_count": 0,
   "metadata": {
    "colab": {},
    "colab_type": "code",
    "collapsed": true,
    "id": "ABtXEIVWOz4K"
   },
   "outputs": [],
   "source": []
  }
 ],
 "metadata": {
  "colab": {
   "collapsed_sections": [],
   "name": "tfidf_avg_word_2_vec_DT.ipynb",
   "provenance": [],
   "version": "0.3.2"
  },
  "kernelspec": {
   "display_name": "Python 3",
   "language": "python",
   "name": "python3"
  },
  "language_info": {
   "codemirror_mode": {
    "name": "ipython",
    "version": 3
   },
   "file_extension": ".py",
   "mimetype": "text/x-python",
   "name": "python",
   "nbconvert_exporter": "python",
   "pygments_lexer": "ipython3",
   "version": "3.6.3"
  }
 },
 "nbformat": 4,
 "nbformat_minor": 1
}
