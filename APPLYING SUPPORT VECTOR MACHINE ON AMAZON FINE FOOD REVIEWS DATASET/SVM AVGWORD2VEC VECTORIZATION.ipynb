{
 "cells": [
  {
   "cell_type": "markdown",
   "metadata": {
    "colab_type": "text",
    "id": "_21b5wFMIGES"
   },
   "source": [
    "# OBJECTIVE \n",
    " 1. <b> APPLYING SVM  WITH AVG WORD2VEC VECTORIZATION\n",
    "\n",
    "2. FINDING THE BEST HYPERPARAMETER USING GRIDSEARCHCV WITH TRAIN DATA AND CROSS-VALIDATION       DATA BY PLOTTING THE RESLUTS OF CROSS VALIDATION DATA UISNG HEATMAP\n",
    "  \n",
    "3. PLOTTING OF ROC CURVE TO CHECK FOR THE AUC_SCORE \n",
    "  \n",
    "4. USING THE APROPRIATE VALUE OF HYPERPARAMETER ,TESTING \n",
    "    ACCURACY ON TEST DATA USING AUC_SCORE\n",
    "  \n",
    "5. PLOTTING THE CONFUSION MATRIX TO GET THE PRECISOIN ,RECALL\n",
    "    VALUE WITH HELP OF HEATMAP\n",
    "  \n",
    "6. PRINTING THE TOP 30 MOST IMPORTANT FEATURES #"
   ]
  },
  {
   "cell_type": "code",
   "execution_count": 3,
   "metadata": {
    "colab": {},
    "colab_type": "code",
    "id": "5mY65CSoHLvF"
   },
   "outputs": [],
   "source": [
    "from sklearn.model_selection import train_test_split          #importing the necessary libraries\n",
    "from sklearn.model_selection import RandomizedSearchCV\n",
    "from sklearn.datasets import *\n",
    "from sklearn import naive_bayes\n",
    "from sklearn.feature_extraction.text import CountVectorizer\n",
    "from sklearn.feature_extraction.text import TfidfVectorizer\n",
    "import numpy as np\n",
    "import pandas as pd\n",
    "from sklearn import *\n",
    "import warnings\n",
    "warnings.filterwarnings(\"ignore\")\n",
    "from gensim.models import Word2Vec\n",
    "from tqdm import tqdm"
   ]
  },
  {
   "cell_type": "code",
   "execution_count": 4,
   "metadata": {
    "colab": {},
    "colab_type": "code",
    "collapsed": true,
    "id": "th4CA4XRHRpQ"
   },
   "outputs": [],
   "source": [
    "final_processed_data=pd.read_csv(\"C:/Users/Mayank/Desktop/final_new_data.csv\")#loading the preprocessed data  with 100k points into dataframe "
   ]
  },
  {
   "cell_type": "code",
   "execution_count": 5,
   "metadata": {
    "colab": {
     "base_uri": "https://localhost:8080/",
     "height": 52
    },
    "colab_type": "code",
    "executionInfo": {
     "elapsed": 32641,
     "status": "ok",
     "timestamp": 1548879985273,
     "user": {
      "displayName": "mayank aggarwal",
      "photoUrl": "",
      "userId": "04107947634097457088"
     },
     "user_tz": -330
    },
    "id": "S0i-MyocHc5X",
    "outputId": "a890d4d5-b83a-493d-dc71-4723f9208930"
   },
   "outputs": [
    {
     "name": "stdout",
     "output_type": "stream",
     "text": [
      "88521\n",
      "11479\n"
     ]
    }
   ],
   "source": [
    "# getting the counts of 0 and 1 in \"SCORE\" column to know whether it is unbalanced data or not\n",
    "count_of_1=0\n",
    "count_of_0=0\n",
    "for i in final_processed_data['Score']:\n",
    "   if i==1:\n",
    "    count_of_1+=1\n",
    "   else:\n",
    "    count_of_0+=1\n",
    "print(count_of_1)\n",
    "print(count_of_0)\n",
    "#it is an imbalanced dataset"
   ]
  },
  {
   "cell_type": "code",
   "execution_count": 6,
   "metadata": {
    "colab": {},
    "colab_type": "code",
    "collapsed": true,
    "id": "xylyFfmfHgqM"
   },
   "outputs": [],
   "source": [
    "#spliiting the data into train and test data\n",
    "x_train,x_test,y_train,y_test=model_selection.train_test_split(final_processed_data['CleanedText'].values,final_processed_data['Score'].values,test_size=0.2,shuffle=False)"
   ]
  },
  {
   "cell_type": "code",
   "execution_count": 7,
   "metadata": {
    "colab": {
     "base_uri": "https://localhost:8080/",
     "height": 126
    },
    "colab_type": "code",
    "executionInfo": {
     "elapsed": 24029,
     "status": "ok",
     "timestamp": 1548880185894,
     "user": {
      "displayName": "mayank aggarwal",
      "photoUrl": "",
      "userId": "04107947634097457088"
     },
     "user_tz": -330
    },
    "id": "I_Im9S3wcU8T",
    "outputId": "3181e481-a2e7-4e6a-dda0-682f35b58b3c"
   },
   "outputs": [
    {
     "name": "stdout",
     "output_type": "stream",
     "text": [
      "witti littl book make son laugh loud recit car drive along alway sing refrain hes learn whale india droop love new word book introduc silli classic book will bet son still abl recit memori colleg\n",
      "*****************************************************************\n",
      "['witti', 'littl', 'book', 'make', 'son', 'laugh', 'loud', 'recit', 'car', 'drive', 'along', 'alway', 'sing', 'refrain', 'hes', 'learn', 'whale', 'india', 'droop', 'love', 'new', 'word', 'book', 'introduc', 'silli', 'classic', 'book', 'will', 'bet', 'son', 'still', 'abl', 'recit', 'memori', 'colleg']\n",
      "***********************************************************************\n",
      "sample words  ['witti', 'littl', 'book', 'make', 'son', 'laugh', 'loud', 'car', 'drive', 'along', 'alway', 'sing', 'refrain', 'hes', 'learn', 'india', 'droop', 'love', 'new', 'word', 'introduc', 'silli', 'classic', 'will', 'bet', 'still', 'abl', 'memori', 'colleg', 'rememb', 'see', 'show', 'air', 'televis', 'year', 'ago', 'child', 'sister', 'later', 'bought', 'day', 'thirti', 'someth', 'use', 'seri', 'song', 'student', 'teach', 'preschool', 'turn']\n"
     ]
    }
   ],
   "source": [
    "# Training my own Word2Vec model using your own text corpus\n",
    "list_of_sent=[]\n",
    "for sent in x_train:\n",
    " list_of_sent.append(sent.split())#splitting of sentences into words AND appending them to list\n",
    "print(x_train[0])\n",
    "print(\"*****************************************************************\")\n",
    "print(list_of_sent[0])\n",
    "word_to_vector=Word2Vec(list_of_sent,min_count=5,size=50,workers=2)#constructing my our word to vector\n",
    "w_t_c_words=list(word_to_vector.wv.vocab)\n",
    "print(\"***********************************************************************\")\n",
    "print(\"sample words \", w_t_c_words[0:50])"
   ]
  },
  {
   "cell_type": "code",
   "execution_count": 8,
   "metadata": {
    "colab": {
     "base_uri": "https://localhost:8080/",
     "height": 70
    },
    "colab_type": "code",
    "executionInfo": {
     "elapsed": 125558,
     "status": "ok",
     "timestamp": 1548880295647,
     "user": {
      "displayName": "mayank aggarwal",
      "photoUrl": "",
      "userId": "04107947634097457088"
     },
     "user_tz": -330
    },
    "id": "dWR2nL9ecVQo",
    "outputId": "1b59da1b-78e7-427e-d103-81c7fcc5ce21"
   },
   "outputs": [
    {
     "name": "stderr",
     "output_type": "stream",
     "text": [
      "100%|███████████████████████████████████████████████████████████████████████████| 80000/80000 [05:05<00:00, 261.94it/s]\n"
     ]
    },
    {
     "name": "stdout",
     "output_type": "stream",
     "text": [
      "80000\n",
      "50\n"
     ]
    }
   ],
   "source": [
    "###### NOW STARTING AVERAGE WORD TO VEC FOR TRAIN DATA#################################################################\n",
    "train_sent_vectors = []; # the avg-w2v for each sentence/review is stored in this list\n",
    "for sent in tqdm(list_of_sent): # for each review/sentence\n",
    " sent_vec = np.zeros(50) # as word vectors are of zero length\n",
    " cnt_words =0; # num of words with a valid vector in the sentence/review\n",
    " for word in sent: # for each word in a review/sentence\n",
    "   if word in w_t_c_words:\n",
    "     vec = word_to_vector.wv[word]\n",
    "     sent_vec += vec\n",
    "     cnt_words += 1\n",
    " if cnt_words != 0:\n",
    "  sent_vec /= cnt_words\n",
    " train_sent_vectors.append(sent_vec)\n",
    "print(len(train_sent_vectors))\n",
    "print(len(train_sent_vectors[0]))"
   ]
  },
  {
   "cell_type": "code",
   "execution_count": 9,
   "metadata": {
    "colab": {
     "base_uri": "https://localhost:8080/",
     "height": 34
    },
    "colab_type": "code",
    "executionInfo": {
     "elapsed": 124665,
     "status": "ok",
     "timestamp": 1548880296123,
     "user": {
      "displayName": "mayank aggarwal",
      "photoUrl": "",
      "userId": "04107947634097457088"
     },
     "user_tz": -330
    },
    "id": "_GYxPgz9cVaV",
    "outputId": "e6575b07-049d-496f-8e9a-20e74b17dc54"
   },
   "outputs": [
    {
     "name": "stdout",
     "output_type": "stream",
     "text": [
      "(80000, 50)\n"
     ]
    }
   ],
   "source": [
    "from sklearn.preprocessing import StandardScaler #standarizing the training  data  \n",
    "x_train_data=StandardScaler( with_mean=False).fit_transform(train_sent_vectors)\n",
    "print(x_train_data.shape)"
   ]
  },
  {
   "cell_type": "code",
   "execution_count": 10,
   "metadata": {
    "colab": {
     "base_uri": "https://localhost:8080/",
     "height": 87
    },
    "colab_type": "code",
    "executionInfo": {
     "elapsed": 123066,
     "status": "ok",
     "timestamp": 1548880296125,
     "user": {
      "displayName": "mayank aggarwal",
      "photoUrl": "",
      "userId": "04107947634097457088"
     },
     "user_tz": -330
    },
    "id": "QTMsAkurchH1",
    "outputId": "439fc39c-06a1-4a6b-ff05-2f369c9c204c"
   },
   "outputs": [
    {
     "name": "stdout",
     "output_type": "stream",
     "text": [
      "hard find item dont buy mani either came stale got way quick classic nonetheless\n",
      "*****************************************************************\n",
      "['hard', 'find', 'item', 'dont', 'buy', 'mani', 'either', 'came', 'stale', 'got', 'way', 'quick', 'classic', 'nonetheless']\n",
      "*******************************************************************\n"
     ]
    }
   ],
   "source": [
    "list_of_sent=[]\n",
    "for sent in x_test:\n",
    " list_of_sent.append(sent.split())#splitting of sentences into words AND appending them to list\n",
    "print(x_test[0])\n",
    "print(\"*****************************************************************\")\n",
    "print(list_of_sent[0])\n",
    "print('*******************************************************************')\n"
   ]
  },
  {
   "cell_type": "code",
   "execution_count": 11,
   "metadata": {
    "colab": {
     "base_uri": "https://localhost:8080/",
     "height": 70
    },
    "colab_type": "code",
    "executionInfo": {
     "elapsed": 153264,
     "status": "ok",
     "timestamp": 1548880327050,
     "user": {
      "displayName": "mayank aggarwal",
      "photoUrl": "",
      "userId": "04107947634097457088"
     },
     "user_tz": -330
    },
    "id": "dpawOVfEchBY",
    "outputId": "80eb57ce-a5b7-406b-a65c-7500381b240e"
   },
   "outputs": [
    {
     "name": "stderr",
     "output_type": "stream",
     "text": [
      "100%|███████████████████████████████████████████████████████████████████████████| 20000/20000 [01:07<00:00, 297.36it/s]\n"
     ]
    },
    {
     "name": "stdout",
     "output_type": "stream",
     "text": [
      "20000\n",
      "50\n"
     ]
    }
   ],
   "source": [
    "###### NOW STARTING AVERAGE WORD TO VEC FOR TEST DATA#################################################################\n",
    "sent_vectors = []; # the avg-w2v for each sentence/review is stored in this list\n",
    "for sent in tqdm(list_of_sent): # for each review/sentence\n",
    " sent_vec = np.zeros(50) # as word vectors are of zero length\n",
    " cnt_words =0; # num of words with a valid vector in the sentence/review\n",
    " for word in sent: # for each word in a review/sentence\n",
    "   if word in w_t_c_words:\n",
    "     vec = word_to_vector.wv[word]\n",
    "     sent_vec += vec\n",
    "     cnt_words += 1\n",
    " if cnt_words != 0:\n",
    "  sent_vec /= cnt_words\n",
    " sent_vectors.append(sent_vec)\n",
    "print(len(sent_vectors))\n",
    "print(len(sent_vectors[0]))"
   ]
  },
  {
   "cell_type": "code",
   "execution_count": 12,
   "metadata": {
    "colab": {
     "base_uri": "https://localhost:8080/",
     "height": 34
    },
    "colab_type": "code",
    "executionInfo": {
     "elapsed": 1039,
     "status": "ok",
     "timestamp": 1548880848213,
     "user": {
      "displayName": "mayank aggarwal",
      "photoUrl": "",
      "userId": "04107947634097457088"
     },
     "user_tz": -330
    },
    "id": "Sj1Eb9m4cg6_",
    "outputId": "5054c8ac-9d2b-4d7c-a6c7-7296a7938327"
   },
   "outputs": [
    {
     "name": "stdout",
     "output_type": "stream",
     "text": [
      "(20000, 50)\n"
     ]
    }
   ],
   "source": [
    "from sklearn.preprocessing import StandardScaler #standarizing the training  data  \n",
    "x_test_data=StandardScaler( with_mean=False).fit_transform(sent_vectors)\n",
    "print(x_test_data.shape)"
   ]
  },
  {
   "cell_type": "code",
   "execution_count": 14,
   "metadata": {
    "colab": {},
    "colab_type": "code",
    "collapsed": true,
    "id": "QweFhr0LHyZi"
   },
   "outputs": [],
   "source": [
    "#using time series split method for cross-validation score\n",
    "from sklearn.model_selection import TimeSeriesSplit\n",
    "tscv = TimeSeriesSplit(n_splits=10) \n",
    "from sklearn.linear_model import SGDClassifier\n",
    "from sklearn.calibration import CalibratedClassifierCV\n",
    "data=[10**-4,10**-3,10**-2,10**-1,10**0,10**1,10**2,10**3,10**4]#range of hyperparameter\n",
    "\n",
    "\n",
    "sgd=SGDClassifier(loss='log',class_weight={1:0.5,0:0.5},n_jobs=-1)\n",
    "tuned_para=[{'alpha':data,'penalty':['l1','l2']}] \n"
   ]
  },
  {
   "cell_type": "code",
   "execution_count": 14,
   "metadata": {
    "colab": {
     "base_uri": "https://localhost:8080/",
     "height": 176
    },
    "colab_type": "code",
    "executionInfo": {
     "elapsed": 15379,
     "status": "ok",
     "timestamp": 1548880865975,
     "user": {
      "displayName": "mayank aggarwal",
      "photoUrl": "",
      "userId": "04107947634097457088"
     },
     "user_tz": -330
    },
    "id": "Ym2cHVNEPAbJ",
    "outputId": "fc278545-9eac-40fe-8905-589509c4a86c"
   },
   "outputs": [
    {
     "name": "stdout",
     "output_type": "stream",
     "text": [
      "Wall time: 0 ns\n",
      "BEST ESTIMATORS FOR MODEL ARE  SGDClassifier(alpha=0.01, average=False, class_weight={1: 0.5, 0: 0.5},\n",
      "       epsilon=0.1, eta0=0.0, fit_intercept=True, l1_ratio=0.15,\n",
      "       learning_rate='optimal', loss='hinge', max_iter=None, n_iter=None,\n",
      "       n_jobs=-1, penalty='l2', power_t=0.5, random_state=None,\n",
      "       shuffle=True, tol=None, verbose=0, warm_start=False)\n",
      "AUC_SCORE OF TEST DATA IS 0.883125713187\n"
     ]
    }
   ],
   "source": [
    "#applying the model of support vector machine and using gridsearchcv to find the best hyper parameter\n",
    "%time\n",
    "from sklearn.model_selection import GridSearchCV\n",
    "model = GridSearchCV(sgd, tuned_para, scoring = 'roc_auc', cv=tscv,n_jobs=-1)#building the gridsearchcv model\n",
    "model.fit(x_train_data, y_train)#fiitting the training data\n",
    "\n",
    "print('BEST ESTIMATORS FOR MODEL ARE ',model.best_estimator_)#printing the best_estimator\n",
    "print('AUC_SCORE OF TEST DATA IS',model.score(x_test_data, y_test))\n"
   ]
  },
  {
   "cell_type": "code",
   "execution_count": 20,
   "metadata": {
    "colab": {
     "base_uri": "https://localhost:8080/",
     "height": 1536
    },
    "colab_type": "code",
    "executionInfo": {
     "elapsed": 14278,
     "status": "ok",
     "timestamp": 1548880865978,
     "user": {
      "displayName": "mayank aggarwal",
      "photoUrl": "",
      "userId": "04107947634097457088"
     },
     "user_tz": -330
    },
    "id": "l-Xqmdy02trE",
    "outputId": "2dd8a836-fc13-4379-ed0e-cef159f9c463"
   },
   "outputs": [
    {
     "data": {
      "text/html": [
       "<div>\n",
       "<table border=\"1\" class=\"dataframe\">\n",
       "  <thead>\n",
       "    <tr style=\"text-align: right;\">\n",
       "      <th></th>\n",
       "      <th>mean_fit_time</th>\n",
       "      <th>mean_score_time</th>\n",
       "      <th>mean_test_score</th>\n",
       "      <th>mean_train_score</th>\n",
       "      <th>param_alpha</th>\n",
       "      <th>param_penalty</th>\n",
       "      <th>params</th>\n",
       "      <th>rank_test_score</th>\n",
       "      <th>split0_test_score</th>\n",
       "      <th>split0_train_score</th>\n",
       "      <th>...</th>\n",
       "      <th>split7_test_score</th>\n",
       "      <th>split7_train_score</th>\n",
       "      <th>split8_test_score</th>\n",
       "      <th>split8_train_score</th>\n",
       "      <th>split9_test_score</th>\n",
       "      <th>split9_train_score</th>\n",
       "      <th>std_fit_time</th>\n",
       "      <th>std_score_time</th>\n",
       "      <th>std_test_score</th>\n",
       "      <th>std_train_score</th>\n",
       "    </tr>\n",
       "  </thead>\n",
       "  <tbody>\n",
       "    <tr>\n",
       "      <th>0</th>\n",
       "      <td>0.484598</td>\n",
       "      <td>0.020583</td>\n",
       "      <td>0.935504</td>\n",
       "      <td>0.940772</td>\n",
       "      <td>0.0001</td>\n",
       "      <td>l1</td>\n",
       "      <td>{'alpha': 0.0001, 'penalty': 'l1'}</td>\n",
       "      <td>15</td>\n",
       "      <td>0.918272</td>\n",
       "      <td>0.919599</td>\n",
       "      <td>...</td>\n",
       "      <td>0.938173</td>\n",
       "      <td>0.948600</td>\n",
       "      <td>0.943045</td>\n",
       "      <td>0.947942</td>\n",
       "      <td>0.934180</td>\n",
       "      <td>0.940852</td>\n",
       "      <td>0.241396</td>\n",
       "      <td>0.007381</td>\n",
       "      <td>0.010482</td>\n",
       "      <td>0.008387</td>\n",
       "    </tr>\n",
       "    <tr>\n",
       "      <th>1</th>\n",
       "      <td>0.317703</td>\n",
       "      <td>0.043863</td>\n",
       "      <td>0.941739</td>\n",
       "      <td>0.944645</td>\n",
       "      <td>0.0001</td>\n",
       "      <td>l2</td>\n",
       "      <td>{'alpha': 0.0001, 'penalty': 'l2'}</td>\n",
       "      <td>4</td>\n",
       "      <td>0.945841</td>\n",
       "      <td>0.943348</td>\n",
       "      <td>...</td>\n",
       "      <td>0.936114</td>\n",
       "      <td>0.944116</td>\n",
       "      <td>0.938180</td>\n",
       "      <td>0.946375</td>\n",
       "      <td>0.939033</td>\n",
       "      <td>0.947469</td>\n",
       "      <td>0.135422</td>\n",
       "      <td>0.013372</td>\n",
       "      <td>0.007863</td>\n",
       "      <td>0.005078</td>\n",
       "    </tr>\n",
       "    <tr>\n",
       "      <th>2</th>\n",
       "      <td>0.539336</td>\n",
       "      <td>0.042289</td>\n",
       "      <td>0.945506</td>\n",
       "      <td>0.947192</td>\n",
       "      <td>0.001</td>\n",
       "      <td>l1</td>\n",
       "      <td>{'alpha': 0.001, 'penalty': 'l1'}</td>\n",
       "      <td>2</td>\n",
       "      <td>0.954624</td>\n",
       "      <td>0.947488</td>\n",
       "      <td>...</td>\n",
       "      <td>0.940521</td>\n",
       "      <td>0.945865</td>\n",
       "      <td>0.936364</td>\n",
       "      <td>0.943840</td>\n",
       "      <td>0.938022</td>\n",
       "      <td>0.943759</td>\n",
       "      <td>0.264162</td>\n",
       "      <td>0.016647</td>\n",
       "      <td>0.006158</td>\n",
       "      <td>0.002371</td>\n",
       "    </tr>\n",
       "    <tr>\n",
       "      <th>3</th>\n",
       "      <td>0.331282</td>\n",
       "      <td>0.021286</td>\n",
       "      <td>0.945987</td>\n",
       "      <td>0.949872</td>\n",
       "      <td>0.001</td>\n",
       "      <td>l2</td>\n",
       "      <td>{'alpha': 0.001, 'penalty': 'l2'}</td>\n",
       "      <td>1</td>\n",
       "      <td>0.940098</td>\n",
       "      <td>0.944202</td>\n",
       "      <td>...</td>\n",
       "      <td>0.946895</td>\n",
       "      <td>0.951059</td>\n",
       "      <td>0.939938</td>\n",
       "      <td>0.948362</td>\n",
       "      <td>0.941203</td>\n",
       "      <td>0.948103</td>\n",
       "      <td>0.174670</td>\n",
       "      <td>0.007703</td>\n",
       "      <td>0.005028</td>\n",
       "      <td>0.002474</td>\n",
       "    </tr>\n",
       "    <tr>\n",
       "      <th>4</th>\n",
       "      <td>0.468636</td>\n",
       "      <td>0.036624</td>\n",
       "      <td>0.941242</td>\n",
       "      <td>0.941594</td>\n",
       "      <td>0.01</td>\n",
       "      <td>l1</td>\n",
       "      <td>{'alpha': 0.01, 'penalty': 'l1'}</td>\n",
       "      <td>5</td>\n",
       "      <td>0.942793</td>\n",
       "      <td>0.936916</td>\n",
       "      <td>...</td>\n",
       "      <td>0.937696</td>\n",
       "      <td>0.942494</td>\n",
       "      <td>0.934584</td>\n",
       "      <td>0.941963</td>\n",
       "      <td>0.937231</td>\n",
       "      <td>0.941230</td>\n",
       "      <td>0.225318</td>\n",
       "      <td>0.016711</td>\n",
       "      <td>0.004465</td>\n",
       "      <td>0.001813</td>\n",
       "    </tr>\n",
       "    <tr>\n",
       "      <th>5</th>\n",
       "      <td>0.364310</td>\n",
       "      <td>0.030142</td>\n",
       "      <td>0.943711</td>\n",
       "      <td>0.945327</td>\n",
       "      <td>0.01</td>\n",
       "      <td>l2</td>\n",
       "      <td>{'alpha': 0.01, 'penalty': 'l2'}</td>\n",
       "      <td>3</td>\n",
       "      <td>0.950499</td>\n",
       "      <td>0.949554</td>\n",
       "      <td>...</td>\n",
       "      <td>0.938441</td>\n",
       "      <td>0.943372</td>\n",
       "      <td>0.934791</td>\n",
       "      <td>0.942456</td>\n",
       "      <td>0.937048</td>\n",
       "      <td>0.942076</td>\n",
       "      <td>0.182155</td>\n",
       "      <td>0.013966</td>\n",
       "      <td>0.006123</td>\n",
       "      <td>0.002462</td>\n",
       "    </tr>\n",
       "    <tr>\n",
       "      <th>6</th>\n",
       "      <td>0.481707</td>\n",
       "      <td>0.032230</td>\n",
       "      <td>0.941242</td>\n",
       "      <td>0.941594</td>\n",
       "      <td>0.1</td>\n",
       "      <td>l1</td>\n",
       "      <td>{'alpha': 0.1, 'penalty': 'l1'}</td>\n",
       "      <td>5</td>\n",
       "      <td>0.942793</td>\n",
       "      <td>0.936916</td>\n",
       "      <td>...</td>\n",
       "      <td>0.937696</td>\n",
       "      <td>0.942494</td>\n",
       "      <td>0.934584</td>\n",
       "      <td>0.941963</td>\n",
       "      <td>0.937231</td>\n",
       "      <td>0.941230</td>\n",
       "      <td>0.247690</td>\n",
       "      <td>0.015855</td>\n",
       "      <td>0.004465</td>\n",
       "      <td>0.001813</td>\n",
       "    </tr>\n",
       "    <tr>\n",
       "      <th>7</th>\n",
       "      <td>0.392222</td>\n",
       "      <td>0.036737</td>\n",
       "      <td>0.941242</td>\n",
       "      <td>0.941594</td>\n",
       "      <td>0.1</td>\n",
       "      <td>l2</td>\n",
       "      <td>{'alpha': 0.1, 'penalty': 'l2'}</td>\n",
       "      <td>5</td>\n",
       "      <td>0.942793</td>\n",
       "      <td>0.936916</td>\n",
       "      <td>...</td>\n",
       "      <td>0.937696</td>\n",
       "      <td>0.942494</td>\n",
       "      <td>0.934584</td>\n",
       "      <td>0.941963</td>\n",
       "      <td>0.937231</td>\n",
       "      <td>0.941230</td>\n",
       "      <td>0.144095</td>\n",
       "      <td>0.019946</td>\n",
       "      <td>0.004465</td>\n",
       "      <td>0.001813</td>\n",
       "    </tr>\n",
       "    <tr>\n",
       "      <th>8</th>\n",
       "      <td>0.455280</td>\n",
       "      <td>0.032383</td>\n",
       "      <td>0.941242</td>\n",
       "      <td>0.941594</td>\n",
       "      <td>1</td>\n",
       "      <td>l1</td>\n",
       "      <td>{'alpha': 1, 'penalty': 'l1'}</td>\n",
       "      <td>5</td>\n",
       "      <td>0.942793</td>\n",
       "      <td>0.936916</td>\n",
       "      <td>...</td>\n",
       "      <td>0.937696</td>\n",
       "      <td>0.942494</td>\n",
       "      <td>0.934584</td>\n",
       "      <td>0.941963</td>\n",
       "      <td>0.937231</td>\n",
       "      <td>0.941230</td>\n",
       "      <td>0.191078</td>\n",
       "      <td>0.027001</td>\n",
       "      <td>0.004465</td>\n",
       "      <td>0.001813</td>\n",
       "    </tr>\n",
       "    <tr>\n",
       "      <th>9</th>\n",
       "      <td>0.360499</td>\n",
       "      <td>0.028852</td>\n",
       "      <td>0.941242</td>\n",
       "      <td>0.941594</td>\n",
       "      <td>1</td>\n",
       "      <td>l2</td>\n",
       "      <td>{'alpha': 1, 'penalty': 'l2'}</td>\n",
       "      <td>5</td>\n",
       "      <td>0.942793</td>\n",
       "      <td>0.936916</td>\n",
       "      <td>...</td>\n",
       "      <td>0.937696</td>\n",
       "      <td>0.942494</td>\n",
       "      <td>0.934584</td>\n",
       "      <td>0.941963</td>\n",
       "      <td>0.937231</td>\n",
       "      <td>0.941230</td>\n",
       "      <td>0.170778</td>\n",
       "      <td>0.014367</td>\n",
       "      <td>0.004465</td>\n",
       "      <td>0.001813</td>\n",
       "    </tr>\n",
       "    <tr>\n",
       "      <th>10</th>\n",
       "      <td>0.633698</td>\n",
       "      <td>0.031558</td>\n",
       "      <td>0.941242</td>\n",
       "      <td>0.941594</td>\n",
       "      <td>10</td>\n",
       "      <td>l1</td>\n",
       "      <td>{'alpha': 10, 'penalty': 'l1'}</td>\n",
       "      <td>5</td>\n",
       "      <td>0.942793</td>\n",
       "      <td>0.936916</td>\n",
       "      <td>...</td>\n",
       "      <td>0.937696</td>\n",
       "      <td>0.942494</td>\n",
       "      <td>0.934584</td>\n",
       "      <td>0.941963</td>\n",
       "      <td>0.937231</td>\n",
       "      <td>0.941230</td>\n",
       "      <td>0.269773</td>\n",
       "      <td>0.017376</td>\n",
       "      <td>0.004465</td>\n",
       "      <td>0.001813</td>\n",
       "    </tr>\n",
       "    <tr>\n",
       "      <th>11</th>\n",
       "      <td>0.389046</td>\n",
       "      <td>0.032003</td>\n",
       "      <td>0.941242</td>\n",
       "      <td>0.941594</td>\n",
       "      <td>10</td>\n",
       "      <td>l2</td>\n",
       "      <td>{'alpha': 10, 'penalty': 'l2'}</td>\n",
       "      <td>5</td>\n",
       "      <td>0.942793</td>\n",
       "      <td>0.936916</td>\n",
       "      <td>...</td>\n",
       "      <td>0.937696</td>\n",
       "      <td>0.942494</td>\n",
       "      <td>0.934584</td>\n",
       "      <td>0.941963</td>\n",
       "      <td>0.937231</td>\n",
       "      <td>0.941230</td>\n",
       "      <td>0.177834</td>\n",
       "      <td>0.012117</td>\n",
       "      <td>0.004465</td>\n",
       "      <td>0.001813</td>\n",
       "    </tr>\n",
       "    <tr>\n",
       "      <th>12</th>\n",
       "      <td>0.594911</td>\n",
       "      <td>0.026392</td>\n",
       "      <td>0.847434</td>\n",
       "      <td>0.847301</td>\n",
       "      <td>100</td>\n",
       "      <td>l1</td>\n",
       "      <td>{'alpha': 100, 'penalty': 'l1'}</td>\n",
       "      <td>17</td>\n",
       "      <td>0.942793</td>\n",
       "      <td>0.936916</td>\n",
       "      <td>...</td>\n",
       "      <td>0.937696</td>\n",
       "      <td>0.942494</td>\n",
       "      <td>0.934584</td>\n",
       "      <td>0.941963</td>\n",
       "      <td>0.937231</td>\n",
       "      <td>0.941230</td>\n",
       "      <td>0.314442</td>\n",
       "      <td>0.011942</td>\n",
       "      <td>0.282511</td>\n",
       "      <td>0.282439</td>\n",
       "    </tr>\n",
       "    <tr>\n",
       "      <th>13</th>\n",
       "      <td>0.298296</td>\n",
       "      <td>0.036590</td>\n",
       "      <td>0.868463</td>\n",
       "      <td>0.862732</td>\n",
       "      <td>100</td>\n",
       "      <td>l2</td>\n",
       "      <td>{'alpha': 100, 'penalty': 'l2'}</td>\n",
       "      <td>16</td>\n",
       "      <td>0.942793</td>\n",
       "      <td>0.936916</td>\n",
       "      <td>...</td>\n",
       "      <td>0.937696</td>\n",
       "      <td>0.942494</td>\n",
       "      <td>0.515090</td>\n",
       "      <td>0.494675</td>\n",
       "      <td>0.628930</td>\n",
       "      <td>0.599898</td>\n",
       "      <td>0.118878</td>\n",
       "      <td>0.018347</td>\n",
       "      <td>0.150438</td>\n",
       "      <td>0.159478</td>\n",
       "    </tr>\n",
       "    <tr>\n",
       "      <th>14</th>\n",
       "      <td>0.570670</td>\n",
       "      <td>0.038366</td>\n",
       "      <td>0.941242</td>\n",
       "      <td>0.941594</td>\n",
       "      <td>1000</td>\n",
       "      <td>l1</td>\n",
       "      <td>{'alpha': 1000, 'penalty': 'l1'}</td>\n",
       "      <td>5</td>\n",
       "      <td>0.942793</td>\n",
       "      <td>0.936916</td>\n",
       "      <td>...</td>\n",
       "      <td>0.937696</td>\n",
       "      <td>0.942494</td>\n",
       "      <td>0.934584</td>\n",
       "      <td>0.941963</td>\n",
       "      <td>0.937231</td>\n",
       "      <td>0.941230</td>\n",
       "      <td>0.266681</td>\n",
       "      <td>0.023339</td>\n",
       "      <td>0.004465</td>\n",
       "      <td>0.001813</td>\n",
       "    </tr>\n",
       "    <tr>\n",
       "      <th>15</th>\n",
       "      <td>0.315481</td>\n",
       "      <td>0.030964</td>\n",
       "      <td>0.941242</td>\n",
       "      <td>0.941594</td>\n",
       "      <td>1000</td>\n",
       "      <td>l2</td>\n",
       "      <td>{'alpha': 1000, 'penalty': 'l2'}</td>\n",
       "      <td>5</td>\n",
       "      <td>0.942793</td>\n",
       "      <td>0.936916</td>\n",
       "      <td>...</td>\n",
       "      <td>0.937696</td>\n",
       "      <td>0.942494</td>\n",
       "      <td>0.934584</td>\n",
       "      <td>0.941963</td>\n",
       "      <td>0.937231</td>\n",
       "      <td>0.941230</td>\n",
       "      <td>0.119060</td>\n",
       "      <td>0.010457</td>\n",
       "      <td>0.004465</td>\n",
       "      <td>0.001813</td>\n",
       "    </tr>\n",
       "    <tr>\n",
       "      <th>16</th>\n",
       "      <td>0.639877</td>\n",
       "      <td>0.020887</td>\n",
       "      <td>0.752562</td>\n",
       "      <td>0.753096</td>\n",
       "      <td>10000</td>\n",
       "      <td>l1</td>\n",
       "      <td>{'alpha': 10000, 'penalty': 'l1'}</td>\n",
       "      <td>18</td>\n",
       "      <td>0.942793</td>\n",
       "      <td>0.936916</td>\n",
       "      <td>...</td>\n",
       "      <td>0.937696</td>\n",
       "      <td>0.942494</td>\n",
       "      <td>0.934584</td>\n",
       "      <td>0.941963</td>\n",
       "      <td>0.937231</td>\n",
       "      <td>0.941230</td>\n",
       "      <td>0.276038</td>\n",
       "      <td>0.010386</td>\n",
       "      <td>0.376304</td>\n",
       "      <td>0.376552</td>\n",
       "    </tr>\n",
       "    <tr>\n",
       "      <th>17</th>\n",
       "      <td>0.340530</td>\n",
       "      <td>0.027133</td>\n",
       "      <td>0.941242</td>\n",
       "      <td>0.941594</td>\n",
       "      <td>10000</td>\n",
       "      <td>l2</td>\n",
       "      <td>{'alpha': 10000, 'penalty': 'l2'}</td>\n",
       "      <td>5</td>\n",
       "      <td>0.942793</td>\n",
       "      <td>0.936916</td>\n",
       "      <td>...</td>\n",
       "      <td>0.937696</td>\n",
       "      <td>0.942494</td>\n",
       "      <td>0.934584</td>\n",
       "      <td>0.941963</td>\n",
       "      <td>0.937231</td>\n",
       "      <td>0.941230</td>\n",
       "      <td>0.126229</td>\n",
       "      <td>0.010741</td>\n",
       "      <td>0.004465</td>\n",
       "      <td>0.001813</td>\n",
       "    </tr>\n",
       "  </tbody>\n",
       "</table>\n",
       "<p>18 rows × 32 columns</p>\n",
       "</div>"
      ],
      "text/plain": [
       "    mean_fit_time  mean_score_time  mean_test_score  mean_train_score  \\\n",
       "0        0.484598         0.020583         0.935504          0.940772   \n",
       "1        0.317703         0.043863         0.941739          0.944645   \n",
       "2        0.539336         0.042289         0.945506          0.947192   \n",
       "3        0.331282         0.021286         0.945987          0.949872   \n",
       "4        0.468636         0.036624         0.941242          0.941594   \n",
       "5        0.364310         0.030142         0.943711          0.945327   \n",
       "6        0.481707         0.032230         0.941242          0.941594   \n",
       "7        0.392222         0.036737         0.941242          0.941594   \n",
       "8        0.455280         0.032383         0.941242          0.941594   \n",
       "9        0.360499         0.028852         0.941242          0.941594   \n",
       "10       0.633698         0.031558         0.941242          0.941594   \n",
       "11       0.389046         0.032003         0.941242          0.941594   \n",
       "12       0.594911         0.026392         0.847434          0.847301   \n",
       "13       0.298296         0.036590         0.868463          0.862732   \n",
       "14       0.570670         0.038366         0.941242          0.941594   \n",
       "15       0.315481         0.030964         0.941242          0.941594   \n",
       "16       0.639877         0.020887         0.752562          0.753096   \n",
       "17       0.340530         0.027133         0.941242          0.941594   \n",
       "\n",
       "   param_alpha param_penalty                              params  \\\n",
       "0       0.0001            l1  {'alpha': 0.0001, 'penalty': 'l1'}   \n",
       "1       0.0001            l2  {'alpha': 0.0001, 'penalty': 'l2'}   \n",
       "2        0.001            l1   {'alpha': 0.001, 'penalty': 'l1'}   \n",
       "3        0.001            l2   {'alpha': 0.001, 'penalty': 'l2'}   \n",
       "4         0.01            l1    {'alpha': 0.01, 'penalty': 'l1'}   \n",
       "5         0.01            l2    {'alpha': 0.01, 'penalty': 'l2'}   \n",
       "6          0.1            l1     {'alpha': 0.1, 'penalty': 'l1'}   \n",
       "7          0.1            l2     {'alpha': 0.1, 'penalty': 'l2'}   \n",
       "8            1            l1       {'alpha': 1, 'penalty': 'l1'}   \n",
       "9            1            l2       {'alpha': 1, 'penalty': 'l2'}   \n",
       "10          10            l1      {'alpha': 10, 'penalty': 'l1'}   \n",
       "11          10            l2      {'alpha': 10, 'penalty': 'l2'}   \n",
       "12         100            l1     {'alpha': 100, 'penalty': 'l1'}   \n",
       "13         100            l2     {'alpha': 100, 'penalty': 'l2'}   \n",
       "14        1000            l1    {'alpha': 1000, 'penalty': 'l1'}   \n",
       "15        1000            l2    {'alpha': 1000, 'penalty': 'l2'}   \n",
       "16       10000            l1   {'alpha': 10000, 'penalty': 'l1'}   \n",
       "17       10000            l2   {'alpha': 10000, 'penalty': 'l2'}   \n",
       "\n",
       "    rank_test_score  split0_test_score  split0_train_score       ...         \\\n",
       "0                15           0.918272            0.919599       ...          \n",
       "1                 4           0.945841            0.943348       ...          \n",
       "2                 2           0.954624            0.947488       ...          \n",
       "3                 1           0.940098            0.944202       ...          \n",
       "4                 5           0.942793            0.936916       ...          \n",
       "5                 3           0.950499            0.949554       ...          \n",
       "6                 5           0.942793            0.936916       ...          \n",
       "7                 5           0.942793            0.936916       ...          \n",
       "8                 5           0.942793            0.936916       ...          \n",
       "9                 5           0.942793            0.936916       ...          \n",
       "10                5           0.942793            0.936916       ...          \n",
       "11                5           0.942793            0.936916       ...          \n",
       "12               17           0.942793            0.936916       ...          \n",
       "13               16           0.942793            0.936916       ...          \n",
       "14                5           0.942793            0.936916       ...          \n",
       "15                5           0.942793            0.936916       ...          \n",
       "16               18           0.942793            0.936916       ...          \n",
       "17                5           0.942793            0.936916       ...          \n",
       "\n",
       "    split7_test_score  split7_train_score  split8_test_score  \\\n",
       "0            0.938173            0.948600           0.943045   \n",
       "1            0.936114            0.944116           0.938180   \n",
       "2            0.940521            0.945865           0.936364   \n",
       "3            0.946895            0.951059           0.939938   \n",
       "4            0.937696            0.942494           0.934584   \n",
       "5            0.938441            0.943372           0.934791   \n",
       "6            0.937696            0.942494           0.934584   \n",
       "7            0.937696            0.942494           0.934584   \n",
       "8            0.937696            0.942494           0.934584   \n",
       "9            0.937696            0.942494           0.934584   \n",
       "10           0.937696            0.942494           0.934584   \n",
       "11           0.937696            0.942494           0.934584   \n",
       "12           0.937696            0.942494           0.934584   \n",
       "13           0.937696            0.942494           0.515090   \n",
       "14           0.937696            0.942494           0.934584   \n",
       "15           0.937696            0.942494           0.934584   \n",
       "16           0.937696            0.942494           0.934584   \n",
       "17           0.937696            0.942494           0.934584   \n",
       "\n",
       "    split8_train_score  split9_test_score  split9_train_score  std_fit_time  \\\n",
       "0             0.947942           0.934180            0.940852      0.241396   \n",
       "1             0.946375           0.939033            0.947469      0.135422   \n",
       "2             0.943840           0.938022            0.943759      0.264162   \n",
       "3             0.948362           0.941203            0.948103      0.174670   \n",
       "4             0.941963           0.937231            0.941230      0.225318   \n",
       "5             0.942456           0.937048            0.942076      0.182155   \n",
       "6             0.941963           0.937231            0.941230      0.247690   \n",
       "7             0.941963           0.937231            0.941230      0.144095   \n",
       "8             0.941963           0.937231            0.941230      0.191078   \n",
       "9             0.941963           0.937231            0.941230      0.170778   \n",
       "10            0.941963           0.937231            0.941230      0.269773   \n",
       "11            0.941963           0.937231            0.941230      0.177834   \n",
       "12            0.941963           0.937231            0.941230      0.314442   \n",
       "13            0.494675           0.628930            0.599898      0.118878   \n",
       "14            0.941963           0.937231            0.941230      0.266681   \n",
       "15            0.941963           0.937231            0.941230      0.119060   \n",
       "16            0.941963           0.937231            0.941230      0.276038   \n",
       "17            0.941963           0.937231            0.941230      0.126229   \n",
       "\n",
       "    std_score_time  std_test_score  std_train_score  \n",
       "0         0.007381        0.010482         0.008387  \n",
       "1         0.013372        0.007863         0.005078  \n",
       "2         0.016647        0.006158         0.002371  \n",
       "3         0.007703        0.005028         0.002474  \n",
       "4         0.016711        0.004465         0.001813  \n",
       "5         0.013966        0.006123         0.002462  \n",
       "6         0.015855        0.004465         0.001813  \n",
       "7         0.019946        0.004465         0.001813  \n",
       "8         0.027001        0.004465         0.001813  \n",
       "9         0.014367        0.004465         0.001813  \n",
       "10        0.017376        0.004465         0.001813  \n",
       "11        0.012117        0.004465         0.001813  \n",
       "12        0.011942        0.282511         0.282439  \n",
       "13        0.018347        0.150438         0.159478  \n",
       "14        0.023339        0.004465         0.001813  \n",
       "15        0.010457        0.004465         0.001813  \n",
       "16        0.010386        0.376304         0.376552  \n",
       "17        0.010741        0.004465         0.001813  \n",
       "\n",
       "[18 rows x 32 columns]"
      ]
     },
     "execution_count": 20,
     "metadata": {},
     "output_type": "execute_result"
    }
   ],
   "source": [
    "results=pd.DataFrame(model.cv_results_)# getting varoius cv_scores and train_scores various values of alpha given as parameter and storing it in a dataframe\n",
    "results#printing the dataframe"
   ]
  },
  {
   "cell_type": "code",
   "execution_count": 21,
   "metadata": {
    "colab": {
     "base_uri": "https://localhost:8080/",
     "height": 354
    },
    "colab_type": "code",
    "executionInfo": {
     "elapsed": 10611,
     "status": "ok",
     "timestamp": 1548880865981,
     "user": {
      "displayName": "mayank aggarwal",
      "photoUrl": "",
      "userId": "04107947634097457088"
     },
     "user_tz": -330
    },
    "id": "5gL7QRbrEn3F",
    "outputId": "af054295-d949-44cd-bc8b-8bf1eec523df"
   },
   "outputs": [
    {
     "data": {
      "text/plain": [
       "0     93.550441\n",
       "1     94.173856\n",
       "2     94.550553\n",
       "3     94.598665\n",
       "4     94.124239\n",
       "5     94.371058\n",
       "6     94.124239\n",
       "7     94.124239\n",
       "8     94.124239\n",
       "9     94.124239\n",
       "10    94.124239\n",
       "11    94.124239\n",
       "12    84.743398\n",
       "13    86.846289\n",
       "14    94.124239\n",
       "15    94.124239\n",
       "16    75.256239\n",
       "17    94.124239\n",
       "Name: mean_test_score, dtype: float64"
      ]
     },
     "execution_count": 21,
     "metadata": {},
     "output_type": "execute_result"
    }
   ],
   "source": [
    "results['mean_test_score']=results['mean_test_score']*100\n",
    "results['mean_test_score']"
   ]
  },
  {
   "cell_type": "code",
   "execution_count": 22,
   "metadata": {
    "colab": {
     "base_uri": "https://localhost:8080/",
     "height": 496
    },
    "colab_type": "code",
    "executionInfo": {
     "elapsed": 10003,
     "status": "ok",
     "timestamp": 1548880865987,
     "user": {
      "displayName": "mayank aggarwal",
      "photoUrl": "",
      "userId": "04107947634097457088"
     },
     "user_tz": -330
    },
    "id": "93qdwt2zEnw1",
    "outputId": "484bb9b6-7315-4453-c3a9-80eea85e621c"
   },
   "outputs": [
    {
     "data": {
      "text/html": [
       "<div>\n",
       "<table border=\"1\" class=\"dataframe\">\n",
       "  <thead>\n",
       "    <tr style=\"text-align: right;\">\n",
       "      <th></th>\n",
       "      <th>mean_fit_time</th>\n",
       "      <th>mean_score_time</th>\n",
       "      <th>mean_test_score</th>\n",
       "      <th>mean_train_score</th>\n",
       "      <th>param_alpha</th>\n",
       "      <th>param_penalty</th>\n",
       "      <th>params</th>\n",
       "      <th>rank_test_score</th>\n",
       "      <th>split0_test_score</th>\n",
       "      <th>split0_train_score</th>\n",
       "      <th>...</th>\n",
       "      <th>split7_train_score</th>\n",
       "      <th>split8_test_score</th>\n",
       "      <th>split8_train_score</th>\n",
       "      <th>split9_test_score</th>\n",
       "      <th>split9_train_score</th>\n",
       "      <th>std_fit_time</th>\n",
       "      <th>std_score_time</th>\n",
       "      <th>std_test_score</th>\n",
       "      <th>std_train_score</th>\n",
       "      <th>mean_cv_error</th>\n",
       "    </tr>\n",
       "  </thead>\n",
       "  <tbody>\n",
       "    <tr>\n",
       "      <th>0</th>\n",
       "      <td>0.484598</td>\n",
       "      <td>0.020583</td>\n",
       "      <td>6.449559</td>\n",
       "      <td>0.940772</td>\n",
       "      <td>0.0001</td>\n",
       "      <td>l1</td>\n",
       "      <td>{'alpha': 0.0001, 'penalty': 'l1'}</td>\n",
       "      <td>15</td>\n",
       "      <td>0.918272</td>\n",
       "      <td>0.919599</td>\n",
       "      <td>...</td>\n",
       "      <td>0.948600</td>\n",
       "      <td>0.943045</td>\n",
       "      <td>0.947942</td>\n",
       "      <td>0.934180</td>\n",
       "      <td>0.940852</td>\n",
       "      <td>0.241396</td>\n",
       "      <td>0.007381</td>\n",
       "      <td>0.010482</td>\n",
       "      <td>0.008387</td>\n",
       "      <td>6.45</td>\n",
       "    </tr>\n",
       "    <tr>\n",
       "      <th>1</th>\n",
       "      <td>0.317703</td>\n",
       "      <td>0.043863</td>\n",
       "      <td>5.826144</td>\n",
       "      <td>0.944645</td>\n",
       "      <td>0.0001</td>\n",
       "      <td>l2</td>\n",
       "      <td>{'alpha': 0.0001, 'penalty': 'l2'}</td>\n",
       "      <td>4</td>\n",
       "      <td>0.945841</td>\n",
       "      <td>0.943348</td>\n",
       "      <td>...</td>\n",
       "      <td>0.944116</td>\n",
       "      <td>0.938180</td>\n",
       "      <td>0.946375</td>\n",
       "      <td>0.939033</td>\n",
       "      <td>0.947469</td>\n",
       "      <td>0.135422</td>\n",
       "      <td>0.013372</td>\n",
       "      <td>0.007863</td>\n",
       "      <td>0.005078</td>\n",
       "      <td>5.83</td>\n",
       "    </tr>\n",
       "    <tr>\n",
       "      <th>2</th>\n",
       "      <td>0.539336</td>\n",
       "      <td>0.042289</td>\n",
       "      <td>5.449447</td>\n",
       "      <td>0.947192</td>\n",
       "      <td>0.001</td>\n",
       "      <td>l1</td>\n",
       "      <td>{'alpha': 0.001, 'penalty': 'l1'}</td>\n",
       "      <td>2</td>\n",
       "      <td>0.954624</td>\n",
       "      <td>0.947488</td>\n",
       "      <td>...</td>\n",
       "      <td>0.945865</td>\n",
       "      <td>0.936364</td>\n",
       "      <td>0.943840</td>\n",
       "      <td>0.938022</td>\n",
       "      <td>0.943759</td>\n",
       "      <td>0.264162</td>\n",
       "      <td>0.016647</td>\n",
       "      <td>0.006158</td>\n",
       "      <td>0.002371</td>\n",
       "      <td>5.45</td>\n",
       "    </tr>\n",
       "    <tr>\n",
       "      <th>3</th>\n",
       "      <td>0.331282</td>\n",
       "      <td>0.021286</td>\n",
       "      <td>5.401335</td>\n",
       "      <td>0.949872</td>\n",
       "      <td>0.001</td>\n",
       "      <td>l2</td>\n",
       "      <td>{'alpha': 0.001, 'penalty': 'l2'}</td>\n",
       "      <td>1</td>\n",
       "      <td>0.940098</td>\n",
       "      <td>0.944202</td>\n",
       "      <td>...</td>\n",
       "      <td>0.951059</td>\n",
       "      <td>0.939938</td>\n",
       "      <td>0.948362</td>\n",
       "      <td>0.941203</td>\n",
       "      <td>0.948103</td>\n",
       "      <td>0.174670</td>\n",
       "      <td>0.007703</td>\n",
       "      <td>0.005028</td>\n",
       "      <td>0.002474</td>\n",
       "      <td>5.40</td>\n",
       "    </tr>\n",
       "    <tr>\n",
       "      <th>4</th>\n",
       "      <td>0.468636</td>\n",
       "      <td>0.036624</td>\n",
       "      <td>5.875761</td>\n",
       "      <td>0.941594</td>\n",
       "      <td>0.01</td>\n",
       "      <td>l1</td>\n",
       "      <td>{'alpha': 0.01, 'penalty': 'l1'}</td>\n",
       "      <td>5</td>\n",
       "      <td>0.942793</td>\n",
       "      <td>0.936916</td>\n",
       "      <td>...</td>\n",
       "      <td>0.942494</td>\n",
       "      <td>0.934584</td>\n",
       "      <td>0.941963</td>\n",
       "      <td>0.937231</td>\n",
       "      <td>0.941230</td>\n",
       "      <td>0.225318</td>\n",
       "      <td>0.016711</td>\n",
       "      <td>0.004465</td>\n",
       "      <td>0.001813</td>\n",
       "      <td>5.88</td>\n",
       "    </tr>\n",
       "  </tbody>\n",
       "</table>\n",
       "<p>5 rows × 33 columns</p>\n",
       "</div>"
      ],
      "text/plain": [
       "   mean_fit_time  mean_score_time  mean_test_score  mean_train_score  \\\n",
       "0       0.484598         0.020583         6.449559          0.940772   \n",
       "1       0.317703         0.043863         5.826144          0.944645   \n",
       "2       0.539336         0.042289         5.449447          0.947192   \n",
       "3       0.331282         0.021286         5.401335          0.949872   \n",
       "4       0.468636         0.036624         5.875761          0.941594   \n",
       "\n",
       "  param_alpha param_penalty                              params  \\\n",
       "0      0.0001            l1  {'alpha': 0.0001, 'penalty': 'l1'}   \n",
       "1      0.0001            l2  {'alpha': 0.0001, 'penalty': 'l2'}   \n",
       "2       0.001            l1   {'alpha': 0.001, 'penalty': 'l1'}   \n",
       "3       0.001            l2   {'alpha': 0.001, 'penalty': 'l2'}   \n",
       "4        0.01            l1    {'alpha': 0.01, 'penalty': 'l1'}   \n",
       "\n",
       "   rank_test_score  split0_test_score  split0_train_score      ...        \\\n",
       "0               15           0.918272            0.919599      ...         \n",
       "1                4           0.945841            0.943348      ...         \n",
       "2                2           0.954624            0.947488      ...         \n",
       "3                1           0.940098            0.944202      ...         \n",
       "4                5           0.942793            0.936916      ...         \n",
       "\n",
       "   split7_train_score  split8_test_score  split8_train_score  \\\n",
       "0            0.948600           0.943045            0.947942   \n",
       "1            0.944116           0.938180            0.946375   \n",
       "2            0.945865           0.936364            0.943840   \n",
       "3            0.951059           0.939938            0.948362   \n",
       "4            0.942494           0.934584            0.941963   \n",
       "\n",
       "   split9_test_score  split9_train_score  std_fit_time  std_score_time  \\\n",
       "0           0.934180            0.940852      0.241396        0.007381   \n",
       "1           0.939033            0.947469      0.135422        0.013372   \n",
       "2           0.938022            0.943759      0.264162        0.016647   \n",
       "3           0.941203            0.948103      0.174670        0.007703   \n",
       "4           0.937231            0.941230      0.225318        0.016711   \n",
       "\n",
       "   std_test_score  std_train_score  mean_cv_error  \n",
       "0        0.010482         0.008387           6.45  \n",
       "1        0.007863         0.005078           5.83  \n",
       "2        0.006158         0.002371           5.45  \n",
       "3        0.005028         0.002474           5.40  \n",
       "4        0.004465         0.001813           5.88  \n",
       "\n",
       "[5 rows x 33 columns]"
      ]
     },
     "execution_count": 22,
     "metadata": {},
     "output_type": "execute_result"
    }
   ],
   "source": [
    "results['mean_test_score']=100-results['mean_test_score']\n",
    "results['mean_cv_error']=results['mean_test_score'].round(decimals=2)\n",
    "results.head()"
   ]
  },
  {
   "cell_type": "markdown",
   "metadata": {
    "colab_type": "text",
    "id": "hNm70O1gFB3z"
   },
   "source": [
    "# PLOTTING THE HEATMAP WITH  HYPERPARAMETERS FOR CV_ERROR SCORE "
   ]
  },
  {
   "cell_type": "code",
   "execution_count": 23,
   "metadata": {
    "colab": {},
    "colab_type": "code",
    "collapsed": true,
    "id": "ilib5vfwEntX"
   },
   "outputs": [],
   "source": [
    "test_score_heatmap=results.pivot(\t'param_alpha'\t,'param_penalty','mean_cv_error'\t)"
   ]
  },
  {
   "cell_type": "code",
   "execution_count": 24,
   "metadata": {
    "colab": {
     "base_uri": "https://localhost:8080/",
     "height": 347
    },
    "colab_type": "code",
    "executionInfo": {
     "elapsed": 8027,
     "status": "ok",
     "timestamp": 1548880865994,
     "user": {
      "displayName": "mayank aggarwal",
      "photoUrl": "",
      "userId": "04107947634097457088"
     },
     "user_tz": -330
    },
    "id": "N75mhM21Enk8",
    "outputId": "85b1200e-ef1e-48fa-bf51-7f05af0e6662"
   },
   "outputs": [
    {
     "data": {
      "text/html": [
       "<div>\n",
       "<table border=\"1\" class=\"dataframe\">\n",
       "  <thead>\n",
       "    <tr style=\"text-align: right;\">\n",
       "      <th>param_penalty</th>\n",
       "      <th>l1</th>\n",
       "      <th>l2</th>\n",
       "    </tr>\n",
       "    <tr>\n",
       "      <th>param_alpha</th>\n",
       "      <th></th>\n",
       "      <th></th>\n",
       "    </tr>\n",
       "  </thead>\n",
       "  <tbody>\n",
       "    <tr>\n",
       "      <th>0.0001</th>\n",
       "      <td>6.45</td>\n",
       "      <td>5.83</td>\n",
       "    </tr>\n",
       "    <tr>\n",
       "      <th>0.0010</th>\n",
       "      <td>5.45</td>\n",
       "      <td>5.40</td>\n",
       "    </tr>\n",
       "    <tr>\n",
       "      <th>0.0100</th>\n",
       "      <td>5.88</td>\n",
       "      <td>5.63</td>\n",
       "    </tr>\n",
       "    <tr>\n",
       "      <th>0.1000</th>\n",
       "      <td>5.88</td>\n",
       "      <td>5.88</td>\n",
       "    </tr>\n",
       "    <tr>\n",
       "      <th>1.0000</th>\n",
       "      <td>5.88</td>\n",
       "      <td>5.88</td>\n",
       "    </tr>\n",
       "    <tr>\n",
       "      <th>10.0000</th>\n",
       "      <td>5.88</td>\n",
       "      <td>5.88</td>\n",
       "    </tr>\n",
       "    <tr>\n",
       "      <th>100.0000</th>\n",
       "      <td>15.26</td>\n",
       "      <td>13.15</td>\n",
       "    </tr>\n",
       "    <tr>\n",
       "      <th>1000.0000</th>\n",
       "      <td>5.88</td>\n",
       "      <td>5.88</td>\n",
       "    </tr>\n",
       "    <tr>\n",
       "      <th>10000.0000</th>\n",
       "      <td>24.74</td>\n",
       "      <td>5.88</td>\n",
       "    </tr>\n",
       "  </tbody>\n",
       "</table>\n",
       "</div>"
      ],
      "text/plain": [
       "param_penalty     l1     l2\n",
       "param_alpha                \n",
       "0.0001          6.45   5.83\n",
       "0.0010          5.45   5.40\n",
       "0.0100          5.88   5.63\n",
       "0.1000          5.88   5.88\n",
       "1.0000          5.88   5.88\n",
       "10.0000         5.88   5.88\n",
       "100.0000       15.26  13.15\n",
       "1000.0000       5.88   5.88\n",
       "10000.0000     24.74   5.88"
      ]
     },
     "execution_count": 24,
     "metadata": {},
     "output_type": "execute_result"
    }
   ],
   "source": [
    "test_score_heatmap"
   ]
  },
  {
   "cell_type": "code",
   "execution_count": 26,
   "metadata": {
    "colab": {
     "base_uri": "https://localhost:8080/",
     "height": 386
    },
    "colab_type": "code",
    "executionInfo": {
     "elapsed": 7851,
     "status": "ok",
     "timestamp": 1548880866789,
     "user": {
      "displayName": "mayank aggarwal",
      "photoUrl": "",
      "userId": "04107947634097457088"
     },
     "user_tz": -330
    },
    "id": "y1grLiohEnfM",
    "outputId": "789df0fe-8ead-471e-e937-f2a7ba2f34c6"
   },
   "outputs": [
    {
     "data": {
      "image/png": "[encoded data removed]",
      "text/plain": [
       "<matplotlib.figure.Figure at 0x7fcf09eb8128>"
      ]
     },
     "metadata": {},
     "output_type": "display_data"
    }
   ],
   "source": [
    "import seaborn as sns\n",
    "sns.heatmap(test_score_heatmap,annot=True,annot_kws={\"size\": 18}, fmt='g',linewidths=.5)\n",
    "import matplotlib.pylab as plt\n",
    "plt.show()"
   ]
  },
  {
   "cell_type": "markdown",
   "metadata": {
    "colab_type": "text",
    "id": "jebJMIMJFNXj"
   },
   "source": [
    "# FROM HEATMAP THE BEST HYPERPARAMETER VALUES ARE FOUND TO BE PENALTY='L2' AND 'PARAM_ALPHA'=0.001"
   ]
  },
  {
   "cell_type": "markdown",
   "metadata": {
    "colab_type": "text",
    "id": "64zFfeD2FVN8"
   },
   "source": [
    "# BUILDING MODEL FOR SGD WITH CALIBRATED CLASSIFIER CV"
   ]
  },
  {
   "cell_type": "code",
   "execution_count": 16,
   "metadata": {
    "colab": {
     "base_uri": "https://localhost:8080/",
     "height": 123
    },
    "colab_type": "code",
    "executionInfo": {
     "elapsed": 5705,
     "status": "ok",
     "timestamp": 1548880866792,
     "user": {
      "displayName": "mayank aggarwal",
      "photoUrl": "",
      "userId": "04107947634097457088"
     },
     "user_tz": -330
    },
    "id": "O7gQsTruEnZK",
    "outputId": "3bb0b3eb-9adb-4cb9-d5d5-893d50517063"
   },
   "outputs": [
    {
     "data": {
      "text/plain": [
       "SGDClassifier(alpha=0.001, average=False, class_weight={1: 0.5, 0: 0.5},\n",
       "       epsilon=0.1, eta0=0.0, fit_intercept=True, l1_ratio=0.15,\n",
       "       learning_rate='optimal', loss='log', max_iter=None, n_iter=None,\n",
       "       n_jobs=-1, penalty='l2', power_t=0.5, random_state=None,\n",
       "       shuffle=True, tol=None, verbose=0, warm_start=False)"
      ]
     },
     "execution_count": 16,
     "metadata": {},
     "output_type": "execute_result"
    }
   ],
   "source": [
    "sgd=SGDClassifier(loss='log',class_weight={1:0.5,0:0.5},n_jobs=-1,alpha=0.001,penalty='l2')\n",
    "sgd.fit(x_train_data,y_train)"
   ]
  },
  {
   "cell_type": "code",
   "execution_count": 17,
   "metadata": {
    "colab": {
     "base_uri": "https://localhost:8080/",
     "height": 87
    },
    "colab_type": "code",
    "executionInfo": {
     "elapsed": 6014,
     "status": "ok",
     "timestamp": 1548880867899,
     "user": {
      "displayName": "mayank aggarwal",
      "photoUrl": "",
      "userId": "04107947634097457088"
     },
     "user_tz": -330
    },
    "id": "ogv0UKRIEnRU",
    "outputId": "41a7b69a-b31a-4f18-a1a4-bf599405ed5a"
   },
   "outputs": [
    {
     "name": "stdout",
     "output_type": "stream",
     "text": [
      "Brier scores: (the smaller the better)\n",
      "No calibration: 0.077\n",
      "With isotonic calibration: 0.077\n",
      "With sigmoid calibration: 0.077\n"
     ]
    }
   ],
   "source": [
    "from sklearn.metrics import brier_score_loss\n",
    "prob_pos_clf = sgd.predict_proba(x_test_data)[:, 1]\n",
    "\n",
    "# Gaussian Naive-Bayes with isotonic calibration\n",
    "from sklearn.calibration import   CalibratedClassifierCV\n",
    "clf_isotonic = CalibratedClassifierCV(sgd, cv=5, method='isotonic')\n",
    "clf_isotonic.fit(x_train_data, y_train)\n",
    "prob_pos_isotonic = clf_isotonic.predict_proba(x_test_data)[:, 1]\n",
    "\n",
    "# Gaussian Naive-Bayes with sigmoid calibration\n",
    "clf_sigmoid = CalibratedClassifierCV(sgd, cv=5, method='sigmoid')\n",
    "clf_sigmoid.fit(x_train_data, y_train)\n",
    "prob_pos_sigmoid = clf_sigmoid.predict_proba(x_test_data)[:, 1]\n",
    "\n",
    "print(\"Brier scores: (the smaller the better)\")\n",
    "\n",
    "clf_score = brier_score_loss(y_test, prob_pos_clf)\n",
    "print(\"No calibration: %1.3f\" % clf_score)\n",
    "\n",
    "\n",
    "clf_isotonic_score = brier_score_loss(y_test, prob_pos_isotonic)\n",
    "print(\"With isotonic calibration: %1.3f\" % clf_isotonic_score)\n",
    "\n",
    "clf_sigmoid_score = brier_score_loss(y_test, prob_pos_sigmoid)\n",
    "print(\"With sigmoid calibration: %1.3f\" % clf_sigmoid_score)"
   ]
  },
  {
   "cell_type": "markdown",
   "metadata": {
    "colab_type": "text",
    "id": "dMuuRBqKFjD1"
   },
   "source": [
    "# ISOTONIC CALIBRATION IS HAVING BEST VALUE  FOR CALIBRATED CLASSIFIER CV"
   ]
  },
  {
   "cell_type": "markdown",
   "metadata": {},
   "source": [
    " # PLOTTING THE ROC CURVE FOR TRAIN_DATA"
   ]
  },
  {
   "cell_type": "code",
   "execution_count": 18,
   "metadata": {
    "collapsed": true
   },
   "outputs": [],
   "source": [
    "clf_isotonic = CalibratedClassifierCV(sgd, cv=5, method='isotonic')\n",
    "clf_isotonic.fit(x_train_data, y_train)\n",
    "train_prob_pos_isotonic = clf_isotonic.predict_proba(x_train_data)[:, 1]"
   ]
  },
  {
   "cell_type": "code",
   "execution_count": 19,
   "metadata": {},
   "outputs": [
    {
     "data": {
      "image/png": "[encoded data removed]",
      "text/plain": [
       "<matplotlib.figure.Figure at 0x2485bb8e9b0>"
      ]
     },
     "metadata": {},
     "output_type": "display_data"
    }
   ],
   "source": [
    "fpr, tpr, threshold = metrics.roc_curve(y_train, train_prob_pos_isotonic)\n",
    "roc_auc = metrics.auc(fpr, tpr)\n",
    "\n",
    "\n",
    "import matplotlib.pyplot as plt\n",
    "plt.title('Receiver Operating Characteristic')\n",
    "plt.plot(fpr, tpr, 'b', label = 'AUC = %0.2f' % roc_auc)\n",
    "plt.legend(loc = 'best')\n",
    "plt.plot([0, 1], [0, 1],'r--')\n",
    "plt.xlim([0, 1])\n",
    "plt.ylim([0, 1])\n",
    "plt.ylabel('True Positive Rate')\n",
    "plt.xlabel('False Positive Rate')\n",
    "plt.show()"
   ]
  },
  {
   "cell_type": "markdown",
   "metadata": {
    "colab_type": "text",
    "id": "jzsYaF1OBjVh"
   },
   "source": [
    " # PLOTTING THE ROC CURVE FOR TEST_DATA"
   ]
  },
  {
   "cell_type": "code",
   "execution_count": 20,
   "metadata": {
    "colab": {
     "base_uri": "https://localhost:8080/",
     "height": 386
    },
    "colab_type": "code",
    "executionInfo": {
     "elapsed": 1383,
     "status": "ok",
     "timestamp": 1548880909986,
     "user": {
      "displayName": "mayank aggarwal",
      "photoUrl": "",
      "userId": "04107947634097457088"
     },
     "user_tz": -330
    },
    "id": "XClJpQT2Caf3",
    "outputId": "29ef46c1-35e6-4b20-ba79-7cc776869cf6"
   },
   "outputs": [
    {
     "data": {
      "image/png": "[encoded data removed]",
      "text/plain": [
       "<matplotlib.figure.Figure at 0x2485bb83438>"
      ]
     },
     "metadata": {},
     "output_type": "display_data"
    }
   ],
   "source": [
    "test_prob_pos_isotonic = clf_isotonic.predict_proba(x_test_data)[:, 1]\n",
    "fpr, tpr, threshold = metrics.roc_curve(y_test, test_prob_pos_isotonic)\n",
    "roc_auc = metrics.auc(fpr, tpr)\n",
    "\n",
    "# \n",
    "import matplotlib.pyplot as plt\n",
    "plt.title('Receiver Operating Characteristic')\n",
    "plt.plot(fpr, tpr, 'b', label = 'AUC = %0.2f' % roc_auc)\n",
    "plt.legend(loc = 'best')\n",
    "plt.plot([0, 1], [0, 1],'r--')\n",
    "plt.xlim([0, 1])\n",
    "plt.ylim([0, 1])\n",
    "plt.ylabel('True Positive Rate')\n",
    "plt.xlabel('False Positive Rate')\n",
    "plt.show()"
   ]
  },
  {
   "cell_type": "code",
   "execution_count": 21,
   "metadata": {
    "colab": {
     "base_uri": "https://localhost:8080/",
     "height": 34
    },
    "colab_type": "code",
    "executionInfo": {
     "elapsed": 1352,
     "status": "ok",
     "timestamp": 1548880913992,
     "user": {
      "displayName": "mayank aggarwal",
      "photoUrl": "",
      "userId": "04107947634097457088"
     },
     "user_tz": -330
    },
    "id": "LKVCQxCFChgm",
    "outputId": "32326406-537f-4040-fbb2-50180108361b"
   },
   "outputs": [
    {
     "name": "stdout",
     "output_type": "stream",
     "text": [
      "FROM ABOVE PLOT,AUC_SCORE IS FOUND AS  88.9106477257\n"
     ]
    }
   ],
   "source": [
    "print(\"FROM ABOVE PLOT,AUC_SCORE IS FOUND AS \",roc_auc*100)"
   ]
  },
  {
   "cell_type": "markdown",
   "metadata": {
    "colab_type": "text",
    "id": "dvwK3vfmQWjs"
   },
   "source": [
    " # USING BEST HYPERPARAMETER VALUE ON TEST DATA AND PLOTTING THE CONFUSION MATRIX WITH HEATMAP"
   ]
  },
  {
   "cell_type": "code",
   "execution_count": 34,
   "metadata": {
    "colab": {
     "base_uri": "https://localhost:8080/",
     "height": 511
    },
    "colab_type": "code",
    "executionInfo": {
     "elapsed": 1095,
     "status": "ok",
     "timestamp": 1548880924571,
     "user": {
      "displayName": "mayank aggarwal",
      "photoUrl": "",
      "userId": "04107947634097457088"
     },
     "user_tz": -330
    },
    "id": "Ge4vBZmdQUR9",
    "outputId": "87a3a0d2-c56d-43bd-ecaf-95be8e644e5d"
   },
   "outputs": [
    {
     "name": "stdout",
     "output_type": "stream",
     "text": [
      "Accuracy on test set: 89.405%\n",
      "Precision on test set: 0.909\n",
      "Recall on test set: 0.976\n",
      "F1-Score on test set: 0.941\n",
      "Confusion Matrix of test set:\n",
      " [ [TN  FP]\n",
      " [FN TP] ]\n",
      "\n"
     ]
    },
    {
     "data": {
      "image/png": "[encoded data removed]",
      "text/plain": [
       "<matplotlib.figure.Figure at 0x7fcf08bbe358>"
      ]
     },
     "metadata": {},
     "output_type": "display_data"
    }
   ],
   "source": [
    "#Testing Accuracy on Test data  \n",
    "import seaborn as sns #importing seaborn as sns\n",
    "from sklearn.metrics import *#importing varoius metrics from sklearn\n",
    "y_pred=clf_isotonic.predict(x_test_data)\n",
    "print(\"Accuracy on test set: %0.3f%%\"%(accuracy_score(y_test, y_pred)*100))#printing accuracy\n",
    "print(\"Precision on test set: %0.3f\"%(precision_score(y_test, y_pred)))#printing precision score\n",
    "print(\"Recall on test set: %0.3f\"%(recall_score(y_test, y_pred))) #printing recall\n",
    "print(\"F1-Score on test set: %0.3f\"%(f1_score(y_test, y_pred))) \n",
    "print(\"Confusion Matrix of test set:\\n [ [TN  FP]\\n [FN TP] ]\\n\") \n",
    "df_cm = pd.DataFrame(confusion_matrix(y_test, y_pred), range(2),range(2)) #generating the heatmap for confusion matrix\n",
    "sns.set(font_scale=1.4)#for label size\n",
    "sns.heatmap(df_cm, annot=True,annot_kws={\"size\": 16}, fmt='g')\n",
    "import matplotlib.pylab as plt\n",
    "plt.show()"
   ]
  },
  {
   "cell_type": "markdown",
   "metadata": {
    "colab_type": "text",
    "id": "25nIzRzqlPJS"
   },
   "source": [
    "# RBF KERNEL WITH AVG WORD2VEC VECTORIZATION"
   ]
  },
  {
   "cell_type": "markdown",
   "metadata": {
    "colab_type": "text",
    "id": "LiSQg5z-IwJh"
   },
   "source": [
    "# OBJECTIVE \n",
    " 1. <b> APPLYING SVM WITH RBF KERNEL   WITH AVG WORD2VEC VECTORIZATION\n",
    "\n",
    "2. FINDING THE BEST HYPERPARAMETER USING GRIDSEARCHCV WITH TRAIN DATA AND CROSS-VALIDATION       DATA BY PLOTTING THE RESLUTS OF CROSS VALIDATION DATA UISNG HEATMAP\n",
    "  \n",
    "3. PLOTTING OF ROC CURVE TO CHECK FOR THE AUC_SCORE \n",
    "  \n",
    "4. USING THE APROPRIATE VALUE OF HYPERPARAMETER ,TESTING \n",
    "    ACCURACY ON TEST DATA USING F1-SCORE\n",
    "  \n",
    "5. PLOTTING THE CONFUSION MATRIX TO GET THE PRECISOIN ,RECALL\n",
    "    VALUE WITH HELP OF HEATMAP\n",
    "  "
   ]
  },
  {
   "cell_type": "markdown",
   "metadata": {
    "colab_type": "text",
    "id": "KaQJD-IQDVJ2"
   },
   "source": [
    "##  RBF KERNEL IS COMPUTATIONALLY EXPENSIVE SO USING FIRST 30K POINTS ONLY"
   ]
  },
  {
   "cell_type": "code",
   "execution_count": 3,
   "metadata": {},
   "outputs": [
    {
     "data": {
      "text/html": [
       "<div>\n",
       "<table border=\"1\" class=\"dataframe\">\n",
       "  <thead>\n",
       "    <tr style=\"text-align: right;\">\n",
       "      <th></th>\n",
       "      <th>Unnamed: 0</th>\n",
       "      <th>Score</th>\n",
       "      <th>CleanedText</th>\n",
       "    </tr>\n",
       "  </thead>\n",
       "  <tbody>\n",
       "    <tr>\n",
       "      <th>0</th>\n",
       "      <td>0</td>\n",
       "      <td>1</td>\n",
       "      <td>realli like emerald nut buy smoke almond cashe...</td>\n",
       "    </tr>\n",
       "    <tr>\n",
       "      <th>1</th>\n",
       "      <td>1</td>\n",
       "      <td>1</td>\n",
       "      <td>crispi chewi intens flavor wow great ive love ...</td>\n",
       "    </tr>\n",
       "    <tr>\n",
       "      <th>2</th>\n",
       "      <td>2</td>\n",
       "      <td>1</td>\n",
       "      <td>great product fresh tast school teacher use po...</td>\n",
       "    </tr>\n",
       "    <tr>\n",
       "      <th>3</th>\n",
       "      <td>3</td>\n",
       "      <td>1</td>\n",
       "      <td>purchas along espresso ive mix two equal amoun...</td>\n",
       "    </tr>\n",
       "    <tr>\n",
       "      <th>4</th>\n",
       "      <td>4</td>\n",
       "      <td>1</td>\n",
       "      <td>yummi stuff surpris quick cook like mccann buy...</td>\n",
       "    </tr>\n",
       "  </tbody>\n",
       "</table>\n",
       "</div>"
      ],
      "text/plain": [
       "   Unnamed: 0  Score                                        CleanedText\n",
       "0           0      1  realli like emerald nut buy smoke almond cashe...\n",
       "1           1      1  crispi chewi intens flavor wow great ive love ...\n",
       "2           2      1  great product fresh tast school teacher use po...\n",
       "3           3      1  purchas along espresso ive mix two equal amoun...\n",
       "4           4      1  yummi stuff surpris quick cook like mccann buy..."
      ]
     },
     "execution_count": 3,
     "metadata": {},
     "output_type": "execute_result"
    }
   ],
   "source": [
    "\n",
    "final_data=pd.read_csv('final_data.csv',encoding='latin-1')# IMPORT THE DATA FILE\n",
    "final_data.head()\n"
   ]
  },
  {
   "cell_type": "code",
   "execution_count": 4,
   "metadata": {
    "colab": {
     "base_uri": "https://localhost:8080/",
     "height": 34
    },
    "colab_type": "code",
    "executionInfo": {
     "elapsed": 780,
     "status": "ok",
     "timestamp": 1548880454300,
     "user": {
      "displayName": "mayank aggarwal",
      "photoUrl": "",
      "userId": "04107947634097457088"
     },
     "user_tz": -330
    },
    "id": "iPujrxVTmNWv",
    "outputId": "42754de4-0b37-4f4a-a8d3-99c2fcb77a6b"
   },
   "outputs": [
    {
     "data": {
      "text/plain": [
       "(30000, 3)"
      ]
     },
     "execution_count": 4,
     "metadata": {},
     "output_type": "execute_result"
    }
   ],
   "source": [
    "final_data.shape#PRINTING THE SHAPE OF FILE"
   ]
  },
  {
   "cell_type": "code",
   "execution_count": 5,
   "metadata": {
    "colab": {},
    "colab_type": "code",
    "collapsed": true,
    "id": "sTw62Tcomceg"
   },
   "outputs": [],
   "source": [
    "#spliiting the data into train and test data\n",
    "x_train,x_test,y_train,y_test=model_selection.train_test_split(final_data['CleanedText'].values,final_data['Score'].values,test_size=0.30,shuffle=False)"
   ]
  },
  {
   "cell_type": "code",
   "execution_count": 6,
   "metadata": {
    "colab": {
     "base_uri": "https://localhost:8080/",
     "height": 107
    },
    "colab_type": "code",
    "executionInfo": {
     "elapsed": 9210,
     "status": "ok",
     "timestamp": 1548880566292,
     "user": {
      "displayName": "mayank aggarwal",
      "photoUrl": "",
      "userId": "04107947634097457088"
     },
     "user_tz": -330
    },
    "id": "Iy-qhux9eJWx",
    "outputId": "dead647c-3271-4afc-9015-28830b908cf5"
   },
   "outputs": [
    {
     "name": "stdout",
     "output_type": "stream",
     "text": [
      "realli like emerald nut buy smoke almond cashew cocoa roast almond preserv much like emerald nut fresh much oil high qualiti snack instead salti one sweet doesnt come sugar though sweeten light sucralos sweeten sold brand name splenda note product doesnt contain chocol though describ dark chocol flavor cocoa roast surfac nut almond coat chocol good part dont make mess theyr better choic someon tri avoid sweet sure bought expect get chocol disappoint like enough ill get especi need someth cut crave chocol candi enough chocol flavor one gram sugar per serv\n",
      "*****************************************************************\n",
      "['realli', 'like', 'emerald', 'nut', 'buy', 'smoke', 'almond', 'cashew', 'cocoa', 'roast', 'almond', 'preserv', 'much', 'like', 'emerald', 'nut', 'fresh', 'much', 'oil', 'high', 'qualiti', 'snack', 'instead', 'salti', 'one', 'sweet', 'doesnt', 'come', 'sugar', 'though', 'sweeten', 'light', 'sucralos', 'sweeten', 'sold', 'brand', 'name', 'splenda', 'note', 'product', 'doesnt', 'contain', 'chocol', 'though', 'describ', 'dark', 'chocol', 'flavor', 'cocoa', 'roast', 'surfac', 'nut', 'almond', 'coat', 'chocol', 'good', 'part', 'dont', 'make', 'mess', 'theyr', 'better', 'choic', 'someon', 'tri', 'avoid', 'sweet', 'sure', 'bought', 'expect', 'get', 'chocol', 'disappoint', 'like', 'enough', 'ill', 'get', 'especi', 'need', 'someth', 'cut', 'crave', 'chocol', 'candi', 'enough', 'chocol', 'flavor', 'one', 'gram', 'sugar', 'per', 'serv']\n",
      "***********************************************************************\n"
     ]
    }
   ],
   "source": [
    "# Training my own Word2Vec model using your own text corpus\n",
    "list_of_sent=[]\n",
    "for sent in x_train:\n",
    " list_of_sent.append(sent.split())#splitting of sentences into words AND appending them to list\n",
    "print(x_train[0])\n",
    "print(\"*****************************************************************\")\n",
    "print(list_of_sent[0])\n",
    "word_to_vector=Word2Vec(list_of_sent,min_count=5,size=50,workers=2)#constructing my our word to vector\n",
    "w_t_c_words=list(word_to_vector.wv.vocab)\n",
    "print(\"***********************************************************************\")"
   ]
  },
  {
   "cell_type": "code",
   "execution_count": 7,
   "metadata": {
    "colab": {
     "base_uri": "https://localhost:8080/",
     "height": 70
    },
    "colab_type": "code",
    "executionInfo": {
     "elapsed": 30541,
     "status": "ok",
     "timestamp": 1548880596616,
     "user": {
      "displayName": "mayank aggarwal",
      "photoUrl": "",
      "userId": "04107947634097457088"
     },
     "user_tz": -330
    },
    "id": "_JBTKABseJhO",
    "outputId": "8971a400-de83-4e13-a334-beee0090d325"
   },
   "outputs": [
    {
     "name": "stderr",
     "output_type": "stream",
     "text": [
      "100%|██████████| 21000/21000 [01:14<00:00, 283.00it/s]"
     ]
    },
    {
     "name": "stdout",
     "output_type": "stream",
     "text": [
      "21000\n",
      "50\n"
     ]
    },
    {
     "name": "stderr",
     "output_type": "stream",
     "text": [
      "\n"
     ]
    }
   ],
   "source": [
    "###### NOW STARTING AVERAGE WORD TO VEC FOR TRAIN DATA#################################################################\n",
    "train_sent_vectors = []; # the avg-w2v for each sentence/review is stored in this list\n",
    "for sent in tqdm(list_of_sent): # for each review/sentence\n",
    " sent_vec = np.zeros(50) # as word vectors are of zero length\n",
    " cnt_words =0; # num of words with a valid vector in the sentence/review\n",
    " for word in sent: # for each word in a review/sentence\n",
    "   if word in w_t_c_words:\n",
    "     vec = word_to_vector.wv[word]\n",
    "     sent_vec += vec\n",
    "     cnt_words += 1\n",
    " if cnt_words != 0:\n",
    "  sent_vec /= cnt_words\n",
    " train_sent_vectors.append(sent_vec)\n",
    "print(len(train_sent_vectors))\n",
    "print(len(train_sent_vectors[0]))"
   ]
  },
  {
   "cell_type": "code",
   "execution_count": 9,
   "metadata": {
    "colab": {
     "base_uri": "https://localhost:8080/",
     "height": 34
    },
    "colab_type": "code",
    "executionInfo": {
     "elapsed": 8102,
     "status": "ok",
     "timestamp": 1548880596630,
     "user": {
      "displayName": "mayank aggarwal",
      "photoUrl": "",
      "userId": "04107947634097457088"
     },
     "user_tz": -330
    },
    "id": "kIGZGA-OeJqK",
    "outputId": "fd220d9e-5463-4325-80ca-7c138f194767"
   },
   "outputs": [
    {
     "name": "stdout",
     "output_type": "stream",
     "text": [
      "(21000, 50)\n"
     ]
    }
   ],
   "source": [
    "from sklearn.preprocessing import StandardScaler #standarizing the training  data  \n",
    "x_train_data=StandardScaler( with_mean=False).fit_transform(train_sent_vectors)\n",
    "print(x_train_data.shape)"
   ]
  },
  {
   "cell_type": "code",
   "execution_count": 10,
   "metadata": {
    "colab": {
     "base_uri": "https://localhost:8080/",
     "height": 107
    },
    "colab_type": "code",
    "executionInfo": {
     "elapsed": 1153,
     "status": "ok",
     "timestamp": 1548880618330,
     "user": {
      "displayName": "mayank aggarwal",
      "photoUrl": "",
      "userId": "04107947634097457088"
     },
     "user_tz": -330
    },
    "id": "mMzUCXODej9U",
    "outputId": "eca767c6-26ac-4c23-e86c-8897b1b883dd"
   },
   "outputs": [
    {
     "name": "stdout",
     "output_type": "stream",
     "text": [
      "big famili hit bigger fruit tast found sweet make great snack even dessert\n",
      "*****************************************************************\n",
      "['big', 'famili', 'hit', 'bigger', 'fruit', 'tast', 'found', 'sweet', 'make', 'great', 'snack', 'even', 'dessert']\n",
      "*******************************************************************\n"
     ]
    }
   ],
   "source": [
    "list_of_sent=[]\n",
    "for sent in x_test:\n",
    " list_of_sent.append(sent.split())#splitting of sentences into words AND appending them to list\n",
    "print(x_test[0])\n",
    "print(\"*****************************************************************\")\n",
    "print(list_of_sent[0])\n",
    "print('*******************************************************************')\n"
   ]
  },
  {
   "cell_type": "code",
   "execution_count": 11,
   "metadata": {
    "colab": {
     "base_uri": "https://localhost:8080/",
     "height": 70
    },
    "colab_type": "code",
    "executionInfo": {
     "elapsed": 14002,
     "status": "ok",
     "timestamp": 1548880658691,
     "user": {
      "displayName": "mayank aggarwal",
      "photoUrl": "",
      "userId": "04107947634097457088"
     },
     "user_tz": -330
    },
    "id": "fYaI1p60ej5s",
    "outputId": "1ae94a30-f9b3-4760-90d3-4fce7a46897a"
   },
   "outputs": [
    {
     "name": "stderr",
     "output_type": "stream",
     "text": [
      "100%|██████████| 9000/9000 [00:31<00:00, 282.94it/s]"
     ]
    },
    {
     "name": "stdout",
     "output_type": "stream",
     "text": [
      "9000\n",
      "50\n"
     ]
    },
    {
     "name": "stderr",
     "output_type": "stream",
     "text": [
      "\n"
     ]
    }
   ],
   "source": [
    "###### NOW STARTING AVERAGE WORD TO VEC FOR TEST DATA#################################################################\n",
    "sent_vectors = []; # the avg-w2v for each sentence/review is stored in this list\n",
    "for sent in tqdm(list_of_sent): # for each review/sentence\n",
    " sent_vec = np.zeros(50) # as word vectors are of zero length\n",
    " cnt_words =0; # num of words with a valid vector in the sentence/review\n",
    " for word in sent: # for each word in a review/sentence\n",
    "   if word in w_t_c_words:\n",
    "     vec = word_to_vector.wv[word]\n",
    "     sent_vec += vec\n",
    "     cnt_words += 1\n",
    " if cnt_words != 0:\n",
    "  sent_vec /= cnt_words\n",
    " sent_vectors.append(sent_vec)\n",
    "print(len(sent_vectors))\n",
    "print(len(sent_vectors[0]))"
   ]
  },
  {
   "cell_type": "code",
   "execution_count": 12,
   "metadata": {
    "colab": {
     "base_uri": "https://localhost:8080/",
     "height": 34
    },
    "colab_type": "code",
    "executionInfo": {
     "elapsed": 1306,
     "status": "ok",
     "timestamp": 1548880673766,
     "user": {
      "displayName": "mayank aggarwal",
      "photoUrl": "",
      "userId": "04107947634097457088"
     },
     "user_tz": -330
    },
    "id": "aDvccRnjej01",
    "outputId": "40469515-ca41-4e52-aec3-e23e38206b98"
   },
   "outputs": [
    {
     "name": "stdout",
     "output_type": "stream",
     "text": [
      "(9000, 50)\n"
     ]
    }
   ],
   "source": [
    "from sklearn.preprocessing import StandardScaler #standarizing the training  data  \n",
    "x_test_data=StandardScaler( with_mean=False).fit_transform(sent_vectors)\n",
    "print(x_test_data.shape)"
   ]
  },
  {
   "cell_type": "code",
   "execution_count": 22,
   "metadata": {
    "colab": {},
    "colab_type": "code",
    "collapsed": true,
    "id": "lA40fAhIn0gR"
   },
   "outputs": [],
   "source": [
    "#using time series split method for cross-validation score\n",
    "from sklearn.model_selection import TimeSeriesSplit\n",
    "tscv = TimeSeriesSplit(n_splits=2) \n",
    "from sklearn.svm import SVC\n",
    "from sklearn.calibration import CalibratedClassifierCV\n",
    "c_values=[0.001,0.01,0.1,1,5,10,100]#range of hyperparameter\n",
    "gamma_values=[0.001,0.01,0.1,1,5,10,100]#range of hyperparameter\n",
    "\n",
    "svc=SVC(class_weight='balanced',probability=True)\n",
    "tuned_para=[{'C':c_values,'gamma':gamma_values}] "
   ]
  },
  {
   "cell_type": "code",
   "execution_count": 14,
   "metadata": {
    "colab": {
     "base_uri": "https://localhost:8080/",
     "height": 52
    },
    "colab_type": "code",
    "executionInfo": {
     "elapsed": 1037,
     "status": "ok",
     "timestamp": 1548880710957,
     "user": {
      "displayName": "mayank aggarwal",
      "photoUrl": "",
      "userId": "04107947634097457088"
     },
     "user_tz": -330
    },
    "id": "1lzPkBBToFgq",
    "outputId": "a759fed0-5cc6-4b90-c502-29140c6b2886"
   },
   "outputs": [
    {
     "name": "stdout",
     "output_type": "stream",
     "text": [
      "CPU times: user 3 µs, sys: 0 ns, total: 3 µs\n",
      "Wall time: 6.2 µs\n"
     ]
    }
   ],
   "source": [
    "#applying the model of support vector machine and using gridsearchcv to find the best hyper parameter\n",
    "%time\n",
    "from sklearn.model_selection import GridSearchCV\n",
    "model = GridSearchCV(svc, tuned_para, scoring = 'f1', cv=tscv,n_jobs=-1)#building the gridsearchcv model\n",
    "\n",
    "\n"
   ]
  },
  {
   "cell_type": "code",
   "execution_count": 15,
   "metadata": {
    "colab": {},
    "colab_type": "code",
    "id": "Z-As083ZpvVO"
   },
   "outputs": [
    {
     "name": "stdout",
     "output_type": "stream",
     "text": [
      "CPU times: user 13min 13s, sys: 918 ms, total: 13min 14s\n",
      "Wall time: 1h 11min 49s\n"
     ]
    },
    {
     "data": {
      "text/plain": [
       "GridSearchCV(cv=TimeSeriesSplit(max_train_size=None, n_splits=2),\n",
       "       error_score='raise-deprecating',\n",
       "       estimator=SVC(C=1.0, cache_size=200, class_weight='balanced', coef0=0.0,\n",
       "  decision_function_shape='ovr', degree=3, gamma='auto_deprecated',\n",
       "  kernel='rbf', max_iter=-1, probability=True, random_state=None,\n",
       "  shrinking=True, tol=0.001, verbose=False),\n",
       "       fit_params=None, iid='warn', n_jobs=-1,\n",
       "       param_grid=[{'C': [0.001, 0.01, 0.1, 1, 5, 10, 100], 'gamma': [0.001, 0.01, 0.1, 1, 5, 10, 100]}],\n",
       "       pre_dispatch='2*n_jobs', refit=True, return_train_score='warn',\n",
       "       scoring='f1', verbose=0)"
      ]
     },
     "execution_count": 15,
     "metadata": {},
     "output_type": "execute_result"
    }
   ],
   "source": [
    "%%time\n",
    "model.fit(x_train_data, y_train)#fiitting the training data"
   ]
  },
  {
   "cell_type": "code",
   "execution_count": 16,
   "metadata": {
    "colab": {
     "base_uri": "https://localhost:8080/",
     "height": 87
    },
    "colab_type": "code",
    "executionInfo": {
     "elapsed": 1299,
     "status": "ok",
     "timestamp": 1547925023447,
     "user": {
      "displayName": "mayank aggarwal",
      "photoUrl": "",
      "userId": "04107947634097457088"
     },
     "user_tz": -330
    },
    "id": "rsXj8EZZB6op",
    "outputId": "47e30a41-3397-4d2a-cfa4-c78035d8568d"
   },
   "outputs": [
    {
     "data": {
      "text/plain": [
       "SVC(C=10, cache_size=200, class_weight='balanced', coef0=0.0,\n",
       "  decision_function_shape='ovr', degree=3, gamma=0.1, kernel='rbf',\n",
       "  max_iter=-1, probability=True, random_state=None, shrinking=True,\n",
       "  tol=0.001, verbose=False)"
      ]
     },
     "execution_count": 16,
     "metadata": {},
     "output_type": "execute_result"
    }
   ],
   "source": [
    "model.best_estimator_#checking the best estimator"
   ]
  },
  {
   "cell_type": "markdown",
   "metadata": {
    "colab_type": "text",
    "id": "IjQAep1j-B_0"
   },
   "source": [
    "# BUILDING THE HEATMAP FOR CV_ERROR SCORE FOR HYPERPARAMETERS"
   ]
  },
  {
   "cell_type": "code",
   "execution_count": 17,
   "metadata": {
    "colab": {},
    "colab_type": "code",
    "id": "ajOV0oxn-BJN"
   },
   "outputs": [
    {
     "data": {
      "text/html": [
       "<div>\n",
       "<table border=\"1\" class=\"dataframe\">\n",
       "  <thead>\n",
       "    <tr style=\"text-align: right;\">\n",
       "      <th></th>\n",
       "      <th>mean_fit_time</th>\n",
       "      <th>mean_score_time</th>\n",
       "      <th>mean_test_score</th>\n",
       "      <th>mean_train_score</th>\n",
       "      <th>param_C</th>\n",
       "      <th>param_gamma</th>\n",
       "      <th>params</th>\n",
       "      <th>rank_test_score</th>\n",
       "      <th>split0_test_score</th>\n",
       "      <th>split0_train_score</th>\n",
       "      <th>split1_test_score</th>\n",
       "      <th>split1_train_score</th>\n",
       "      <th>std_fit_time</th>\n",
       "      <th>std_score_time</th>\n",
       "      <th>std_test_score</th>\n",
       "      <th>std_train_score</th>\n",
       "    </tr>\n",
       "  </thead>\n",
       "  <tbody>\n",
       "    <tr>\n",
       "      <th>0</th>\n",
       "      <td>197.648184</td>\n",
       "      <td>10.131180</td>\n",
       "      <td>0.802086</td>\n",
       "      <td>0.798360</td>\n",
       "      <td>0.001</td>\n",
       "      <td>0.001</td>\n",
       "      <td>{'C': 0.001, 'gamma': 0.001}</td>\n",
       "      <td>39</td>\n",
       "      <td>0.800754</td>\n",
       "      <td>0.797561</td>\n",
       "      <td>0.803419</td>\n",
       "      <td>0.799159</td>\n",
       "      <td>146.399794</td>\n",
       "      <td>2.577399</td>\n",
       "      <td>0.001332</td>\n",
       "      <td>0.000799</td>\n",
       "    </tr>\n",
       "    <tr>\n",
       "      <th>1</th>\n",
       "      <td>165.438953</td>\n",
       "      <td>9.544565</td>\n",
       "      <td>0.811272</td>\n",
       "      <td>0.807801</td>\n",
       "      <td>0.001</td>\n",
       "      <td>0.01</td>\n",
       "      <td>{'C': 0.001, 'gamma': 0.01}</td>\n",
       "      <td>38</td>\n",
       "      <td>0.800754</td>\n",
       "      <td>0.797561</td>\n",
       "      <td>0.821790</td>\n",
       "      <td>0.818041</td>\n",
       "      <td>119.256087</td>\n",
       "      <td>3.478942</td>\n",
       "      <td>0.010518</td>\n",
       "      <td>0.010240</td>\n",
       "    </tr>\n",
       "    <tr>\n",
       "      <th>2</th>\n",
       "      <td>237.728254</td>\n",
       "      <td>10.377414</td>\n",
       "      <td>0.802086</td>\n",
       "      <td>0.798360</td>\n",
       "      <td>0.001</td>\n",
       "      <td>0.1</td>\n",
       "      <td>{'C': 0.001, 'gamma': 0.1}</td>\n",
       "      <td>39</td>\n",
       "      <td>0.800754</td>\n",
       "      <td>0.797561</td>\n",
       "      <td>0.803419</td>\n",
       "      <td>0.799159</td>\n",
       "      <td>184.253983</td>\n",
       "      <td>2.728685</td>\n",
       "      <td>0.001332</td>\n",
       "      <td>0.000799</td>\n",
       "    </tr>\n",
       "    <tr>\n",
       "      <th>3</th>\n",
       "      <td>243.532411</td>\n",
       "      <td>9.945897</td>\n",
       "      <td>0.802086</td>\n",
       "      <td>0.798360</td>\n",
       "      <td>0.001</td>\n",
       "      <td>1</td>\n",
       "      <td>{'C': 0.001, 'gamma': 1}</td>\n",
       "      <td>39</td>\n",
       "      <td>0.800754</td>\n",
       "      <td>0.797561</td>\n",
       "      <td>0.803419</td>\n",
       "      <td>0.799159</td>\n",
       "      <td>198.729659</td>\n",
       "      <td>3.892157</td>\n",
       "      <td>0.001332</td>\n",
       "      <td>0.000799</td>\n",
       "    </tr>\n",
       "    <tr>\n",
       "      <th>4</th>\n",
       "      <td>193.668029</td>\n",
       "      <td>9.947155</td>\n",
       "      <td>0.802086</td>\n",
       "      <td>0.798360</td>\n",
       "      <td>0.001</td>\n",
       "      <td>5</td>\n",
       "      <td>{'C': 0.001, 'gamma': 5}</td>\n",
       "      <td>39</td>\n",
       "      <td>0.800754</td>\n",
       "      <td>0.797561</td>\n",
       "      <td>0.803419</td>\n",
       "      <td>0.799159</td>\n",
       "      <td>150.168631</td>\n",
       "      <td>3.546133</td>\n",
       "      <td>0.001332</td>\n",
       "      <td>0.000799</td>\n",
       "    </tr>\n",
       "    <tr>\n",
       "      <th>5</th>\n",
       "      <td>175.502086</td>\n",
       "      <td>9.581793</td>\n",
       "      <td>0.802086</td>\n",
       "      <td>0.798360</td>\n",
       "      <td>0.001</td>\n",
       "      <td>10</td>\n",
       "      <td>{'C': 0.001, 'gamma': 10}</td>\n",
       "      <td>39</td>\n",
       "      <td>0.800754</td>\n",
       "      <td>0.797561</td>\n",
       "      <td>0.803419</td>\n",
       "      <td>0.799159</td>\n",
       "      <td>133.931696</td>\n",
       "      <td>3.417346</td>\n",
       "      <td>0.001332</td>\n",
       "      <td>0.000799</td>\n",
       "    </tr>\n",
       "    <tr>\n",
       "      <th>6</th>\n",
       "      <td>148.011728</td>\n",
       "      <td>7.960449</td>\n",
       "      <td>0.802086</td>\n",
       "      <td>0.798360</td>\n",
       "      <td>0.001</td>\n",
       "      <td>100</td>\n",
       "      <td>{'C': 0.001, 'gamma': 100}</td>\n",
       "      <td>39</td>\n",
       "      <td>0.800754</td>\n",
       "      <td>0.797561</td>\n",
       "      <td>0.803419</td>\n",
       "      <td>0.799159</td>\n",
       "      <td>110.813864</td>\n",
       "      <td>2.866023</td>\n",
       "      <td>0.001332</td>\n",
       "      <td>0.000799</td>\n",
       "    </tr>\n",
       "    <tr>\n",
       "      <th>7</th>\n",
       "      <td>157.158270</td>\n",
       "      <td>8.891936</td>\n",
       "      <td>0.772807</td>\n",
       "      <td>0.768199</td>\n",
       "      <td>0.01</td>\n",
       "      <td>0.001</td>\n",
       "      <td>{'C': 0.01, 'gamma': 0.001}</td>\n",
       "      <td>49</td>\n",
       "      <td>0.751002</td>\n",
       "      <td>0.750158</td>\n",
       "      <td>0.794611</td>\n",
       "      <td>0.786241</td>\n",
       "      <td>115.377498</td>\n",
       "      <td>2.853592</td>\n",
       "      <td>0.021805</td>\n",
       "      <td>0.018041</td>\n",
       "    </tr>\n",
       "    <tr>\n",
       "      <th>8</th>\n",
       "      <td>130.200086</td>\n",
       "      <td>7.456697</td>\n",
       "      <td>0.829821</td>\n",
       "      <td>0.824365</td>\n",
       "      <td>0.01</td>\n",
       "      <td>0.01</td>\n",
       "      <td>{'C': 0.01, 'gamma': 0.01}</td>\n",
       "      <td>31</td>\n",
       "      <td>0.822664</td>\n",
       "      <td>0.821648</td>\n",
       "      <td>0.836977</td>\n",
       "      <td>0.827082</td>\n",
       "      <td>91.395528</td>\n",
       "      <td>2.131856</td>\n",
       "      <td>0.007157</td>\n",
       "      <td>0.002717</td>\n",
       "    </tr>\n",
       "    <tr>\n",
       "      <th>9</th>\n",
       "      <td>154.453660</td>\n",
       "      <td>9.169340</td>\n",
       "      <td>0.813678</td>\n",
       "      <td>0.808912</td>\n",
       "      <td>0.01</td>\n",
       "      <td>0.1</td>\n",
       "      <td>{'C': 0.01, 'gamma': 0.1}</td>\n",
       "      <td>37</td>\n",
       "      <td>0.801578</td>\n",
       "      <td>0.798864</td>\n",
       "      <td>0.825777</td>\n",
       "      <td>0.818961</td>\n",
       "      <td>107.429629</td>\n",
       "      <td>3.050945</td>\n",
       "      <td>0.012099</td>\n",
       "      <td>0.010048</td>\n",
       "    </tr>\n",
       "    <tr>\n",
       "      <th>10</th>\n",
       "      <td>225.879915</td>\n",
       "      <td>9.360167</td>\n",
       "      <td>0.802086</td>\n",
       "      <td>0.798360</td>\n",
       "      <td>0.01</td>\n",
       "      <td>1</td>\n",
       "      <td>{'C': 0.01, 'gamma': 1}</td>\n",
       "      <td>39</td>\n",
       "      <td>0.800754</td>\n",
       "      <td>0.797561</td>\n",
       "      <td>0.803419</td>\n",
       "      <td>0.799159</td>\n",
       "      <td>182.353005</td>\n",
       "      <td>3.261801</td>\n",
       "      <td>0.001332</td>\n",
       "      <td>0.000799</td>\n",
       "    </tr>\n",
       "    <tr>\n",
       "      <th>11</th>\n",
       "      <td>222.594407</td>\n",
       "      <td>9.790440</td>\n",
       "      <td>0.802086</td>\n",
       "      <td>0.798360</td>\n",
       "      <td>0.01</td>\n",
       "      <td>5</td>\n",
       "      <td>{'C': 0.01, 'gamma': 5}</td>\n",
       "      <td>39</td>\n",
       "      <td>0.800754</td>\n",
       "      <td>0.797561</td>\n",
       "      <td>0.803419</td>\n",
       "      <td>0.799159</td>\n",
       "      <td>178.623075</td>\n",
       "      <td>3.404433</td>\n",
       "      <td>0.001332</td>\n",
       "      <td>0.000799</td>\n",
       "    </tr>\n",
       "    <tr>\n",
       "      <th>12</th>\n",
       "      <td>245.046898</td>\n",
       "      <td>9.481926</td>\n",
       "      <td>0.802086</td>\n",
       "      <td>0.798360</td>\n",
       "      <td>0.01</td>\n",
       "      <td>10</td>\n",
       "      <td>{'C': 0.01, 'gamma': 10}</td>\n",
       "      <td>39</td>\n",
       "      <td>0.800754</td>\n",
       "      <td>0.797561</td>\n",
       "      <td>0.803419</td>\n",
       "      <td>0.799159</td>\n",
       "      <td>204.230914</td>\n",
       "      <td>3.388725</td>\n",
       "      <td>0.001332</td>\n",
       "      <td>0.000799</td>\n",
       "    </tr>\n",
       "    <tr>\n",
       "      <th>13</th>\n",
       "      <td>169.181980</td>\n",
       "      <td>7.755779</td>\n",
       "      <td>0.802086</td>\n",
       "      <td>0.798360</td>\n",
       "      <td>0.01</td>\n",
       "      <td>100</td>\n",
       "      <td>{'C': 0.01, 'gamma': 100}</td>\n",
       "      <td>39</td>\n",
       "      <td>0.800754</td>\n",
       "      <td>0.797561</td>\n",
       "      <td>0.803419</td>\n",
       "      <td>0.799159</td>\n",
       "      <td>133.528320</td>\n",
       "      <td>2.687077</td>\n",
       "      <td>0.001332</td>\n",
       "      <td>0.000799</td>\n",
       "    </tr>\n",
       "    <tr>\n",
       "      <th>14</th>\n",
       "      <td>108.204936</td>\n",
       "      <td>6.550000</td>\n",
       "      <td>0.828290</td>\n",
       "      <td>0.823173</td>\n",
       "      <td>0.1</td>\n",
       "      <td>0.001</td>\n",
       "      <td>{'C': 0.1, 'gamma': 0.001}</td>\n",
       "      <td>32</td>\n",
       "      <td>0.821420</td>\n",
       "      <td>0.820749</td>\n",
       "      <td>0.835160</td>\n",
       "      <td>0.825598</td>\n",
       "      <td>73.710468</td>\n",
       "      <td>1.915036</td>\n",
       "      <td>0.006870</td>\n",
       "      <td>0.002424</td>\n",
       "    </tr>\n",
       "    <tr>\n",
       "      <th>15</th>\n",
       "      <td>87.981490</td>\n",
       "      <td>5.343685</td>\n",
       "      <td>0.850993</td>\n",
       "      <td>0.850838</td>\n",
       "      <td>0.1</td>\n",
       "      <td>0.01</td>\n",
       "      <td>{'C': 0.1, 'gamma': 0.01}</td>\n",
       "      <td>12</td>\n",
       "      <td>0.842744</td>\n",
       "      <td>0.849492</td>\n",
       "      <td>0.859243</td>\n",
       "      <td>0.852184</td>\n",
       "      <td>60.172401</td>\n",
       "      <td>1.614049</td>\n",
       "      <td>0.008249</td>\n",
       "      <td>0.001346</td>\n",
       "    </tr>\n",
       "    <tr>\n",
       "      <th>16</th>\n",
       "      <td>148.364382</td>\n",
       "      <td>7.732078</td>\n",
       "      <td>0.861503</td>\n",
       "      <td>0.877600</td>\n",
       "      <td>0.1</td>\n",
       "      <td>0.1</td>\n",
       "      <td>{'C': 0.1, 'gamma': 0.1}</td>\n",
       "      <td>10</td>\n",
       "      <td>0.851389</td>\n",
       "      <td>0.869900</td>\n",
       "      <td>0.871617</td>\n",
       "      <td>0.885301</td>\n",
       "      <td>107.475411</td>\n",
       "      <td>2.266229</td>\n",
       "      <td>0.010114</td>\n",
       "      <td>0.007700</td>\n",
       "    </tr>\n",
       "    <tr>\n",
       "      <th>17</th>\n",
       "      <td>188.745009</td>\n",
       "      <td>9.518725</td>\n",
       "      <td>0.821671</td>\n",
       "      <td>0.834432</td>\n",
       "      <td>0.1</td>\n",
       "      <td>1</td>\n",
       "      <td>{'C': 0.1, 'gamma': 1}</td>\n",
       "      <td>33</td>\n",
       "      <td>0.818707</td>\n",
       "      <td>0.836803</td>\n",
       "      <td>0.824634</td>\n",
       "      <td>0.832061</td>\n",
       "      <td>146.206984</td>\n",
       "      <td>3.206990</td>\n",
       "      <td>0.002963</td>\n",
       "      <td>0.002371</td>\n",
       "    </tr>\n",
       "    <tr>\n",
       "      <th>18</th>\n",
       "      <td>194.440600</td>\n",
       "      <td>9.624862</td>\n",
       "      <td>0.821635</td>\n",
       "      <td>0.834395</td>\n",
       "      <td>0.1</td>\n",
       "      <td>5</td>\n",
       "      <td>{'C': 0.1, 'gamma': 5}</td>\n",
       "      <td>34</td>\n",
       "      <td>0.818636</td>\n",
       "      <td>0.836803</td>\n",
       "      <td>0.824634</td>\n",
       "      <td>0.831986</td>\n",
       "      <td>152.168694</td>\n",
       "      <td>3.232411</td>\n",
       "      <td>0.002999</td>\n",
       "      <td>0.002408</td>\n",
       "    </tr>\n",
       "    <tr>\n",
       "      <th>19</th>\n",
       "      <td>193.634870</td>\n",
       "      <td>9.317103</td>\n",
       "      <td>0.821635</td>\n",
       "      <td>0.834357</td>\n",
       "      <td>0.1</td>\n",
       "      <td>10</td>\n",
       "      <td>{'C': 0.1, 'gamma': 10}</td>\n",
       "      <td>34</td>\n",
       "      <td>0.818636</td>\n",
       "      <td>0.836803</td>\n",
       "      <td>0.824634</td>\n",
       "      <td>0.831912</td>\n",
       "      <td>151.861081</td>\n",
       "      <td>3.202044</td>\n",
       "      <td>0.002999</td>\n",
       "      <td>0.002445</td>\n",
       "    </tr>\n",
       "    <tr>\n",
       "      <th>20</th>\n",
       "      <td>164.106144</td>\n",
       "      <td>7.779089</td>\n",
       "      <td>0.821563</td>\n",
       "      <td>0.834320</td>\n",
       "      <td>0.1</td>\n",
       "      <td>100</td>\n",
       "      <td>{'C': 0.1, 'gamma': 100}</td>\n",
       "      <td>36</td>\n",
       "      <td>0.818492</td>\n",
       "      <td>0.836727</td>\n",
       "      <td>0.824634</td>\n",
       "      <td>0.831912</td>\n",
       "      <td>128.164020</td>\n",
       "      <td>2.522131</td>\n",
       "      <td>0.003071</td>\n",
       "      <td>0.002408</td>\n",
       "    </tr>\n",
       "    <tr>\n",
       "      <th>21</th>\n",
       "      <td>82.629875</td>\n",
       "      <td>4.809428</td>\n",
       "      <td>0.844002</td>\n",
       "      <td>0.843793</td>\n",
       "      <td>1</td>\n",
       "      <td>0.001</td>\n",
       "      <td>{'C': 1, 'gamma': 0.001}</td>\n",
       "      <td>30</td>\n",
       "      <td>0.835437</td>\n",
       "      <td>0.844511</td>\n",
       "      <td>0.852567</td>\n",
       "      <td>0.843075</td>\n",
       "      <td>56.882422</td>\n",
       "      <td>1.511738</td>\n",
       "      <td>0.008565</td>\n",
       "      <td>0.000718</td>\n",
       "    </tr>\n",
       "    <tr>\n",
       "      <th>22</th>\n",
       "      <td>75.335731</td>\n",
       "      <td>4.206840</td>\n",
       "      <td>0.867249</td>\n",
       "      <td>0.876953</td>\n",
       "      <td>1</td>\n",
       "      <td>0.01</td>\n",
       "      <td>{'C': 1, 'gamma': 0.01}</td>\n",
       "      <td>8</td>\n",
       "      <td>0.860699</td>\n",
       "      <td>0.876977</td>\n",
       "      <td>0.873799</td>\n",
       "      <td>0.876928</td>\n",
       "      <td>52.755393</td>\n",
       "      <td>1.308137</td>\n",
       "      <td>0.006550</td>\n",
       "      <td>0.000025</td>\n",
       "    </tr>\n",
       "    <tr>\n",
       "      <th>23</th>\n",
       "      <td>167.699641</td>\n",
       "      <td>6.168305</td>\n",
       "      <td>0.897020</td>\n",
       "      <td>0.978558</td>\n",
       "      <td>1</td>\n",
       "      <td>0.1</td>\n",
       "      <td>{'C': 1, 'gamma': 0.1}</td>\n",
       "      <td>4</td>\n",
       "      <td>0.885064</td>\n",
       "      <td>0.979565</td>\n",
       "      <td>0.908977</td>\n",
       "      <td>0.977550</td>\n",
       "      <td>131.337741</td>\n",
       "      <td>1.672749</td>\n",
       "      <td>0.011957</td>\n",
       "      <td>0.001007</td>\n",
       "    </tr>\n",
       "    <tr>\n",
       "      <th>24</th>\n",
       "      <td>390.728909</td>\n",
       "      <td>7.365018</td>\n",
       "      <td>0.849731</td>\n",
       "      <td>1.000000</td>\n",
       "      <td>1</td>\n",
       "      <td>1</td>\n",
       "      <td>{'C': 1, 'gamma': 1}</td>\n",
       "      <td>14</td>\n",
       "      <td>0.841328</td>\n",
       "      <td>1.000000</td>\n",
       "      <td>0.858134</td>\n",
       "      <td>1.000000</td>\n",
       "      <td>350.927088</td>\n",
       "      <td>2.166065</td>\n",
       "      <td>0.008403</td>\n",
       "      <td>0.000000</td>\n",
       "    </tr>\n",
       "    <tr>\n",
       "      <th>25</th>\n",
       "      <td>375.612578</td>\n",
       "      <td>7.681297</td>\n",
       "      <td>0.849155</td>\n",
       "      <td>1.000000</td>\n",
       "      <td>1</td>\n",
       "      <td>5</td>\n",
       "      <td>{'C': 1, 'gamma': 5}</td>\n",
       "      <td>18</td>\n",
       "      <td>0.840723</td>\n",
       "      <td>1.000000</td>\n",
       "      <td>0.857586</td>\n",
       "      <td>1.000000</td>\n",
       "      <td>334.305305</td>\n",
       "      <td>2.265250</td>\n",
       "      <td>0.008431</td>\n",
       "      <td>0.000000</td>\n",
       "    </tr>\n",
       "    <tr>\n",
       "      <th>26</th>\n",
       "      <td>411.215178</td>\n",
       "      <td>7.429545</td>\n",
       "      <td>0.849076</td>\n",
       "      <td>1.000000</td>\n",
       "      <td>1</td>\n",
       "      <td>10</td>\n",
       "      <td>{'C': 1, 'gamma': 10}</td>\n",
       "      <td>22</td>\n",
       "      <td>0.840723</td>\n",
       "      <td>1.000000</td>\n",
       "      <td>0.857430</td>\n",
       "      <td>1.000000</td>\n",
       "      <td>371.165307</td>\n",
       "      <td>2.163001</td>\n",
       "      <td>0.008353</td>\n",
       "      <td>0.000000</td>\n",
       "    </tr>\n",
       "    <tr>\n",
       "      <th>27</th>\n",
       "      <td>326.965480</td>\n",
       "      <td>6.117492</td>\n",
       "      <td>0.848999</td>\n",
       "      <td>1.000000</td>\n",
       "      <td>1</td>\n",
       "      <td>100</td>\n",
       "      <td>{'C': 1, 'gamma': 100}</td>\n",
       "      <td>26</td>\n",
       "      <td>0.840647</td>\n",
       "      <td>1.000000</td>\n",
       "      <td>0.857351</td>\n",
       "      <td>1.000000</td>\n",
       "      <td>291.119921</td>\n",
       "      <td>1.783351</td>\n",
       "      <td>0.008352</td>\n",
       "      <td>0.000000</td>\n",
       "    </tr>\n",
       "    <tr>\n",
       "      <th>28</th>\n",
       "      <td>76.941535</td>\n",
       "      <td>4.325538</td>\n",
       "      <td>0.850732</td>\n",
       "      <td>0.853180</td>\n",
       "      <td>5</td>\n",
       "      <td>0.001</td>\n",
       "      <td>{'C': 5, 'gamma': 0.001}</td>\n",
       "      <td>13</td>\n",
       "      <td>0.843642</td>\n",
       "      <td>0.851860</td>\n",
       "      <td>0.857822</td>\n",
       "      <td>0.854501</td>\n",
       "      <td>53.591599</td>\n",
       "      <td>1.419774</td>\n",
       "      <td>0.007090</td>\n",
       "      <td>0.001320</td>\n",
       "    </tr>\n",
       "    <tr>\n",
       "      <th>29</th>\n",
       "      <td>72.609496</td>\n",
       "      <td>3.858884</td>\n",
       "      <td>0.879103</td>\n",
       "      <td>0.905571</td>\n",
       "      <td>5</td>\n",
       "      <td>0.01</td>\n",
       "      <td>{'C': 5, 'gamma': 0.01}</td>\n",
       "      <td>7</td>\n",
       "      <td>0.870549</td>\n",
       "      <td>0.906867</td>\n",
       "      <td>0.887657</td>\n",
       "      <td>0.904276</td>\n",
       "      <td>50.618780</td>\n",
       "      <td>1.189183</td>\n",
       "      <td>0.008554</td>\n",
       "      <td>0.001296</td>\n",
       "    </tr>\n",
       "    <tr>\n",
       "      <th>30</th>\n",
       "      <td>207.011395</td>\n",
       "      <td>6.001206</td>\n",
       "      <td>0.898804</td>\n",
       "      <td>0.998951</td>\n",
       "      <td>5</td>\n",
       "      <td>0.1</td>\n",
       "      <td>{'C': 5, 'gamma': 0.1}</td>\n",
       "      <td>3</td>\n",
       "      <td>0.887136</td>\n",
       "      <td>0.999138</td>\n",
       "      <td>0.910471</td>\n",
       "      <td>0.998764</td>\n",
       "      <td>168.899014</td>\n",
       "      <td>1.587546</td>\n",
       "      <td>0.011667</td>\n",
       "      <td>0.000187</td>\n",
       "    </tr>\n",
       "    <tr>\n",
       "      <th>31</th>\n",
       "      <td>481.868241</td>\n",
       "      <td>7.357225</td>\n",
       "      <td>0.849731</td>\n",
       "      <td>1.000000</td>\n",
       "      <td>5</td>\n",
       "      <td>1</td>\n",
       "      <td>{'C': 5, 'gamma': 1}</td>\n",
       "      <td>14</td>\n",
       "      <td>0.841328</td>\n",
       "      <td>1.000000</td>\n",
       "      <td>0.858134</td>\n",
       "      <td>1.000000</td>\n",
       "      <td>441.497350</td>\n",
       "      <td>2.174949</td>\n",
       "      <td>0.008403</td>\n",
       "      <td>0.000000</td>\n",
       "    </tr>\n",
       "    <tr>\n",
       "      <th>32</th>\n",
       "      <td>537.670162</td>\n",
       "      <td>7.629465</td>\n",
       "      <td>0.849155</td>\n",
       "      <td>1.000000</td>\n",
       "      <td>5</td>\n",
       "      <td>5</td>\n",
       "      <td>{'C': 5, 'gamma': 5}</td>\n",
       "      <td>18</td>\n",
       "      <td>0.840723</td>\n",
       "      <td>1.000000</td>\n",
       "      <td>0.857586</td>\n",
       "      <td>1.000000</td>\n",
       "      <td>495.295623</td>\n",
       "      <td>2.228609</td>\n",
       "      <td>0.008431</td>\n",
       "      <td>0.000000</td>\n",
       "    </tr>\n",
       "    <tr>\n",
       "      <th>33</th>\n",
       "      <td>464.285086</td>\n",
       "      <td>7.340664</td>\n",
       "      <td>0.849076</td>\n",
       "      <td>1.000000</td>\n",
       "      <td>5</td>\n",
       "      <td>10</td>\n",
       "      <td>{'C': 5, 'gamma': 10}</td>\n",
       "      <td>22</td>\n",
       "      <td>0.840723</td>\n",
       "      <td>1.000000</td>\n",
       "      <td>0.857430</td>\n",
       "      <td>1.000000</td>\n",
       "      <td>424.300327</td>\n",
       "      <td>2.145874</td>\n",
       "      <td>0.008353</td>\n",
       "      <td>0.000000</td>\n",
       "    </tr>\n",
       "    <tr>\n",
       "      <th>34</th>\n",
       "      <td>445.449799</td>\n",
       "      <td>6.167587</td>\n",
       "      <td>0.848999</td>\n",
       "      <td>1.000000</td>\n",
       "      <td>5</td>\n",
       "      <td>100</td>\n",
       "      <td>{'C': 5, 'gamma': 100}</td>\n",
       "      <td>26</td>\n",
       "      <td>0.840647</td>\n",
       "      <td>1.000000</td>\n",
       "      <td>0.857351</td>\n",
       "      <td>1.000000</td>\n",
       "      <td>408.269094</td>\n",
       "      <td>1.735020</td>\n",
       "      <td>0.008352</td>\n",
       "      <td>0.000000</td>\n",
       "    </tr>\n",
       "    <tr>\n",
       "      <th>35</th>\n",
       "      <td>76.290897</td>\n",
       "      <td>4.166864</td>\n",
       "      <td>0.855737</td>\n",
       "      <td>0.859382</td>\n",
       "      <td>10</td>\n",
       "      <td>0.001</td>\n",
       "      <td>{'C': 10, 'gamma': 0.001}</td>\n",
       "      <td>11</td>\n",
       "      <td>0.850201</td>\n",
       "      <td>0.859933</td>\n",
       "      <td>0.861274</td>\n",
       "      <td>0.858831</td>\n",
       "      <td>53.565814</td>\n",
       "      <td>1.350188</td>\n",
       "      <td>0.005537</td>\n",
       "      <td>0.000551</td>\n",
       "    </tr>\n",
       "    <tr>\n",
       "      <th>36</th>\n",
       "      <td>74.306315</td>\n",
       "      <td>3.776842</td>\n",
       "      <td>0.883809</td>\n",
       "      <td>0.919265</td>\n",
       "      <td>10</td>\n",
       "      <td>0.01</td>\n",
       "      <td>{'C': 10, 'gamma': 0.01}</td>\n",
       "      <td>6</td>\n",
       "      <td>0.874568</td>\n",
       "      <td>0.921663</td>\n",
       "      <td>0.893050</td>\n",
       "      <td>0.916867</td>\n",
       "      <td>51.780340</td>\n",
       "      <td>1.188210</td>\n",
       "      <td>0.009241</td>\n",
       "      <td>0.002398</td>\n",
       "    </tr>\n",
       "    <tr>\n",
       "      <th>37</th>\n",
       "      <td>216.059892</td>\n",
       "      <td>6.037575</td>\n",
       "      <td>0.899499</td>\n",
       "      <td>1.000000</td>\n",
       "      <td>10</td>\n",
       "      <td>0.1</td>\n",
       "      <td>{'C': 10, 'gamma': 0.1}</td>\n",
       "      <td>1</td>\n",
       "      <td>0.888435</td>\n",
       "      <td>1.000000</td>\n",
       "      <td>0.910562</td>\n",
       "      <td>1.000000</td>\n",
       "      <td>178.330055</td>\n",
       "      <td>1.638561</td>\n",
       "      <td>0.011064</td>\n",
       "      <td>0.000000</td>\n",
       "    </tr>\n",
       "    <tr>\n",
       "      <th>38</th>\n",
       "      <td>507.007309</td>\n",
       "      <td>7.403592</td>\n",
       "      <td>0.849731</td>\n",
       "      <td>1.000000</td>\n",
       "      <td>10</td>\n",
       "      <td>1</td>\n",
       "      <td>{'C': 10, 'gamma': 1}</td>\n",
       "      <td>14</td>\n",
       "      <td>0.841328</td>\n",
       "      <td>1.000000</td>\n",
       "      <td>0.858134</td>\n",
       "      <td>1.000000</td>\n",
       "      <td>466.996353</td>\n",
       "      <td>2.199203</td>\n",
       "      <td>0.008403</td>\n",
       "      <td>0.000000</td>\n",
       "    </tr>\n",
       "    <tr>\n",
       "      <th>39</th>\n",
       "      <td>513.312575</td>\n",
       "      <td>7.663222</td>\n",
       "      <td>0.849155</td>\n",
       "      <td>1.000000</td>\n",
       "      <td>10</td>\n",
       "      <td>5</td>\n",
       "      <td>{'C': 10, 'gamma': 5}</td>\n",
       "      <td>18</td>\n",
       "      <td>0.840723</td>\n",
       "      <td>1.000000</td>\n",
       "      <td>0.857586</td>\n",
       "      <td>1.000000</td>\n",
       "      <td>471.145383</td>\n",
       "      <td>2.262425</td>\n",
       "      <td>0.008431</td>\n",
       "      <td>0.000000</td>\n",
       "    </tr>\n",
       "    <tr>\n",
       "      <th>40</th>\n",
       "      <td>497.708723</td>\n",
       "      <td>6.724783</td>\n",
       "      <td>0.849076</td>\n",
       "      <td>1.000000</td>\n",
       "      <td>10</td>\n",
       "      <td>10</td>\n",
       "      <td>{'C': 10, 'gamma': 10}</td>\n",
       "      <td>22</td>\n",
       "      <td>0.840723</td>\n",
       "      <td>1.000000</td>\n",
       "      <td>0.857430</td>\n",
       "      <td>1.000000</td>\n",
       "      <td>457.751785</td>\n",
       "      <td>1.522405</td>\n",
       "      <td>0.008353</td>\n",
       "      <td>0.000000</td>\n",
       "    </tr>\n",
       "    <tr>\n",
       "      <th>41</th>\n",
       "      <td>428.170595</td>\n",
       "      <td>5.045459</td>\n",
       "      <td>0.848999</td>\n",
       "      <td>1.000000</td>\n",
       "      <td>10</td>\n",
       "      <td>100</td>\n",
       "      <td>{'C': 10, 'gamma': 100}</td>\n",
       "      <td>26</td>\n",
       "      <td>0.840647</td>\n",
       "      <td>1.000000</td>\n",
       "      <td>0.857351</td>\n",
       "      <td>1.000000</td>\n",
       "      <td>391.688081</td>\n",
       "      <td>0.726799</td>\n",
       "      <td>0.008352</td>\n",
       "      <td>0.000000</td>\n",
       "    </tr>\n",
       "    <tr>\n",
       "      <th>42</th>\n",
       "      <td>83.167659</td>\n",
       "      <td>3.902312</td>\n",
       "      <td>0.864380</td>\n",
       "      <td>0.877149</td>\n",
       "      <td>100</td>\n",
       "      <td>0.001</td>\n",
       "      <td>{'C': 100, 'gamma': 0.001}</td>\n",
       "      <td>9</td>\n",
       "      <td>0.857337</td>\n",
       "      <td>0.879873</td>\n",
       "      <td>0.871422</td>\n",
       "      <td>0.874425</td>\n",
       "      <td>57.995919</td>\n",
       "      <td>1.294125</td>\n",
       "      <td>0.007043</td>\n",
       "      <td>0.002724</td>\n",
       "    </tr>\n",
       "    <tr>\n",
       "      <th>43</th>\n",
       "      <td>125.538173</td>\n",
       "      <td>3.485628</td>\n",
       "      <td>0.886143</td>\n",
       "      <td>0.965904</td>\n",
       "      <td>100</td>\n",
       "      <td>0.01</td>\n",
       "      <td>{'C': 100, 'gamma': 0.01}</td>\n",
       "      <td>5</td>\n",
       "      <td>0.872611</td>\n",
       "      <td>0.970801</td>\n",
       "      <td>0.899674</td>\n",
       "      <td>0.961006</td>\n",
       "      <td>88.589118</td>\n",
       "      <td>1.080003</td>\n",
       "      <td>0.013531</td>\n",
       "      <td>0.004898</td>\n",
       "    </tr>\n",
       "    <tr>\n",
       "      <th>44</th>\n",
       "      <td>218.786061</td>\n",
       "      <td>5.972927</td>\n",
       "      <td>0.898917</td>\n",
       "      <td>1.000000</td>\n",
       "      <td>100</td>\n",
       "      <td>0.1</td>\n",
       "      <td>{'C': 100, 'gamma': 0.1}</td>\n",
       "      <td>2</td>\n",
       "      <td>0.887662</td>\n",
       "      <td>1.000000</td>\n",
       "      <td>0.910171</td>\n",
       "      <td>1.000000</td>\n",
       "      <td>181.385051</td>\n",
       "      <td>1.569205</td>\n",
       "      <td>0.011254</td>\n",
       "      <td>0.000000</td>\n",
       "    </tr>\n",
       "    <tr>\n",
       "      <th>45</th>\n",
       "      <td>410.852446</td>\n",
       "      <td>6.484249</td>\n",
       "      <td>0.849731</td>\n",
       "      <td>1.000000</td>\n",
       "      <td>100</td>\n",
       "      <td>1</td>\n",
       "      <td>{'C': 100, 'gamma': 1}</td>\n",
       "      <td>14</td>\n",
       "      <td>0.841328</td>\n",
       "      <td>1.000000</td>\n",
       "      <td>0.858134</td>\n",
       "      <td>1.000000</td>\n",
       "      <td>370.875799</td>\n",
       "      <td>1.299420</td>\n",
       "      <td>0.008403</td>\n",
       "      <td>0.000000</td>\n",
       "    </tr>\n",
       "    <tr>\n",
       "      <th>46</th>\n",
       "      <td>421.140705</td>\n",
       "      <td>6.802036</td>\n",
       "      <td>0.849155</td>\n",
       "      <td>1.000000</td>\n",
       "      <td>100</td>\n",
       "      <td>5</td>\n",
       "      <td>{'C': 100, 'gamma': 5}</td>\n",
       "      <td>18</td>\n",
       "      <td>0.840723</td>\n",
       "      <td>1.000000</td>\n",
       "      <td>0.857586</td>\n",
       "      <td>1.000000</td>\n",
       "      <td>379.122076</td>\n",
       "      <td>1.398098</td>\n",
       "      <td>0.008431</td>\n",
       "      <td>0.000000</td>\n",
       "    </tr>\n",
       "    <tr>\n",
       "      <th>47</th>\n",
       "      <td>406.586368</td>\n",
       "      <td>6.433972</td>\n",
       "      <td>0.849076</td>\n",
       "      <td>1.000000</td>\n",
       "      <td>100</td>\n",
       "      <td>10</td>\n",
       "      <td>{'C': 100, 'gamma': 10}</td>\n",
       "      <td>22</td>\n",
       "      <td>0.840723</td>\n",
       "      <td>1.000000</td>\n",
       "      <td>0.857430</td>\n",
       "      <td>1.000000</td>\n",
       "      <td>366.290772</td>\n",
       "      <td>1.203317</td>\n",
       "      <td>0.008353</td>\n",
       "      <td>0.000000</td>\n",
       "    </tr>\n",
       "    <tr>\n",
       "      <th>48</th>\n",
       "      <td>287.551197</td>\n",
       "      <td>5.040411</td>\n",
       "      <td>0.848999</td>\n",
       "      <td>1.000000</td>\n",
       "      <td>100</td>\n",
       "      <td>100</td>\n",
       "      <td>{'C': 100, 'gamma': 100}</td>\n",
       "      <td>26</td>\n",
       "      <td>0.840647</td>\n",
       "      <td>1.000000</td>\n",
       "      <td>0.857351</td>\n",
       "      <td>1.000000</td>\n",
       "      <td>251.196808</td>\n",
       "      <td>0.732564</td>\n",
       "      <td>0.008352</td>\n",
       "      <td>0.000000</td>\n",
       "    </tr>\n",
       "  </tbody>\n",
       "</table>\n",
       "</div>"
      ],
      "text/plain": [
       "    mean_fit_time  mean_score_time  mean_test_score  mean_train_score param_C  \\\n",
       "0      197.648184        10.131180         0.802086          0.798360   0.001   \n",
       "1      165.438953         9.544565         0.811272          0.807801   0.001   \n",
       "2      237.728254        10.377414         0.802086          0.798360   0.001   \n",
       "3      243.532411         9.945897         0.802086          0.798360   0.001   \n",
       "4      193.668029         9.947155         0.802086          0.798360   0.001   \n",
       "5      175.502086         9.581793         0.802086          0.798360   0.001   \n",
       "6      148.011728         7.960449         0.802086          0.798360   0.001   \n",
       "7      157.158270         8.891936         0.772807          0.768199    0.01   \n",
       "8      130.200086         7.456697         0.829821          0.824365    0.01   \n",
       "9      154.453660         9.169340         0.813678          0.808912    0.01   \n",
       "10     225.879915         9.360167         0.802086          0.798360    0.01   \n",
       "11     222.594407         9.790440         0.802086          0.798360    0.01   \n",
       "12     245.046898         9.481926         0.802086          0.798360    0.01   \n",
       "13     169.181980         7.755779         0.802086          0.798360    0.01   \n",
       "14     108.204936         6.550000         0.828290          0.823173     0.1   \n",
       "15      87.981490         5.343685         0.850993          0.850838     0.1   \n",
       "16     148.364382         7.732078         0.861503          0.877600     0.1   \n",
       "17     188.745009         9.518725         0.821671          0.834432     0.1   \n",
       "18     194.440600         9.624862         0.821635          0.834395     0.1   \n",
       "19     193.634870         9.317103         0.821635          0.834357     0.1   \n",
       "20     164.106144         7.779089         0.821563          0.834320     0.1   \n",
       "21      82.629875         4.809428         0.844002          0.843793       1   \n",
       "22      75.335731         4.206840         0.867249          0.876953       1   \n",
       "23     167.699641         6.168305         0.897020          0.978558       1   \n",
       "24     390.728909         7.365018         0.849731          1.000000       1   \n",
       "25     375.612578         7.681297         0.849155          1.000000       1   \n",
       "26     411.215178         7.429545         0.849076          1.000000       1   \n",
       "27     326.965480         6.117492         0.848999          1.000000       1   \n",
       "28      76.941535         4.325538         0.850732          0.853180       5   \n",
       "29      72.609496         3.858884         0.879103          0.905571       5   \n",
       "30     207.011395         6.001206         0.898804          0.998951       5   \n",
       "31     481.868241         7.357225         0.849731          1.000000       5   \n",
       "32     537.670162         7.629465         0.849155          1.000000       5   \n",
       "33     464.285086         7.340664         0.849076          1.000000       5   \n",
       "34     445.449799         6.167587         0.848999          1.000000       5   \n",
       "35      76.290897         4.166864         0.855737          0.859382      10   \n",
       "36      74.306315         3.776842         0.883809          0.919265      10   \n",
       "37     216.059892         6.037575         0.899499          1.000000      10   \n",
       "38     507.007309         7.403592         0.849731          1.000000      10   \n",
       "39     513.312575         7.663222         0.849155          1.000000      10   \n",
       "40     497.708723         6.724783         0.849076          1.000000      10   \n",
       "41     428.170595         5.045459         0.848999          1.000000      10   \n",
       "42      83.167659         3.902312         0.864380          0.877149     100   \n",
       "43     125.538173         3.485628         0.886143          0.965904     100   \n",
       "44     218.786061         5.972927         0.898917          1.000000     100   \n",
       "45     410.852446         6.484249         0.849731          1.000000     100   \n",
       "46     421.140705         6.802036         0.849155          1.000000     100   \n",
       "47     406.586368         6.433972         0.849076          1.000000     100   \n",
       "48     287.551197         5.040411         0.848999          1.000000     100   \n",
       "\n",
       "   param_gamma                        params  rank_test_score  \\\n",
       "0        0.001  {'C': 0.001, 'gamma': 0.001}               39   \n",
       "1         0.01   {'C': 0.001, 'gamma': 0.01}               38   \n",
       "2          0.1    {'C': 0.001, 'gamma': 0.1}               39   \n",
       "3            1      {'C': 0.001, 'gamma': 1}               39   \n",
       "4            5      {'C': 0.001, 'gamma': 5}               39   \n",
       "5           10     {'C': 0.001, 'gamma': 10}               39   \n",
       "6          100    {'C': 0.001, 'gamma': 100}               39   \n",
       "7        0.001   {'C': 0.01, 'gamma': 0.001}               49   \n",
       "8         0.01    {'C': 0.01, 'gamma': 0.01}               31   \n",
       "9          0.1     {'C': 0.01, 'gamma': 0.1}               37   \n",
       "10           1       {'C': 0.01, 'gamma': 1}               39   \n",
       "11           5       {'C': 0.01, 'gamma': 5}               39   \n",
       "12          10      {'C': 0.01, 'gamma': 10}               39   \n",
       "13         100     {'C': 0.01, 'gamma': 100}               39   \n",
       "14       0.001    {'C': 0.1, 'gamma': 0.001}               32   \n",
       "15        0.01     {'C': 0.1, 'gamma': 0.01}               12   \n",
       "16         0.1      {'C': 0.1, 'gamma': 0.1}               10   \n",
       "17           1        {'C': 0.1, 'gamma': 1}               33   \n",
       "18           5        {'C': 0.1, 'gamma': 5}               34   \n",
       "19          10       {'C': 0.1, 'gamma': 10}               34   \n",
       "20         100      {'C': 0.1, 'gamma': 100}               36   \n",
       "21       0.001      {'C': 1, 'gamma': 0.001}               30   \n",
       "22        0.01       {'C': 1, 'gamma': 0.01}                8   \n",
       "23         0.1        {'C': 1, 'gamma': 0.1}                4   \n",
       "24           1          {'C': 1, 'gamma': 1}               14   \n",
       "25           5          {'C': 1, 'gamma': 5}               18   \n",
       "26          10         {'C': 1, 'gamma': 10}               22   \n",
       "27         100        {'C': 1, 'gamma': 100}               26   \n",
       "28       0.001      {'C': 5, 'gamma': 0.001}               13   \n",
       "29        0.01       {'C': 5, 'gamma': 0.01}                7   \n",
       "30         0.1        {'C': 5, 'gamma': 0.1}                3   \n",
       "31           1          {'C': 5, 'gamma': 1}               14   \n",
       "32           5          {'C': 5, 'gamma': 5}               18   \n",
       "33          10         {'C': 5, 'gamma': 10}               22   \n",
       "34         100        {'C': 5, 'gamma': 100}               26   \n",
       "35       0.001     {'C': 10, 'gamma': 0.001}               11   \n",
       "36        0.01      {'C': 10, 'gamma': 0.01}                6   \n",
       "37         0.1       {'C': 10, 'gamma': 0.1}                1   \n",
       "38           1         {'C': 10, 'gamma': 1}               14   \n",
       "39           5         {'C': 10, 'gamma': 5}               18   \n",
       "40          10        {'C': 10, 'gamma': 10}               22   \n",
       "41         100       {'C': 10, 'gamma': 100}               26   \n",
       "42       0.001    {'C': 100, 'gamma': 0.001}                9   \n",
       "43        0.01     {'C': 100, 'gamma': 0.01}                5   \n",
       "44         0.1      {'C': 100, 'gamma': 0.1}                2   \n",
       "45           1        {'C': 100, 'gamma': 1}               14   \n",
       "46           5        {'C': 100, 'gamma': 5}               18   \n",
       "47          10       {'C': 100, 'gamma': 10}               22   \n",
       "48         100      {'C': 100, 'gamma': 100}               26   \n",
       "\n",
       "    split0_test_score  split0_train_score  split1_test_score  \\\n",
       "0            0.800754            0.797561           0.803419   \n",
       "1            0.800754            0.797561           0.821790   \n",
       "2            0.800754            0.797561           0.803419   \n",
       "3            0.800754            0.797561           0.803419   \n",
       "4            0.800754            0.797561           0.803419   \n",
       "5            0.800754            0.797561           0.803419   \n",
       "6            0.800754            0.797561           0.803419   \n",
       "7            0.751002            0.750158           0.794611   \n",
       "8            0.822664            0.821648           0.836977   \n",
       "9            0.801578            0.798864           0.825777   \n",
       "10           0.800754            0.797561           0.803419   \n",
       "11           0.800754            0.797561           0.803419   \n",
       "12           0.800754            0.797561           0.803419   \n",
       "13           0.800754            0.797561           0.803419   \n",
       "14           0.821420            0.820749           0.835160   \n",
       "15           0.842744            0.849492           0.859243   \n",
       "16           0.851389            0.869900           0.871617   \n",
       "17           0.818707            0.836803           0.824634   \n",
       "18           0.818636            0.836803           0.824634   \n",
       "19           0.818636            0.836803           0.824634   \n",
       "20           0.818492            0.836727           0.824634   \n",
       "21           0.835437            0.844511           0.852567   \n",
       "22           0.860699            0.876977           0.873799   \n",
       "23           0.885064            0.979565           0.908977   \n",
       "24           0.841328            1.000000           0.858134   \n",
       "25           0.840723            1.000000           0.857586   \n",
       "26           0.840723            1.000000           0.857430   \n",
       "27           0.840647            1.000000           0.857351   \n",
       "28           0.843642            0.851860           0.857822   \n",
       "29           0.870549            0.906867           0.887657   \n",
       "30           0.887136            0.999138           0.910471   \n",
       "31           0.841328            1.000000           0.858134   \n",
       "32           0.840723            1.000000           0.857586   \n",
       "33           0.840723            1.000000           0.857430   \n",
       "34           0.840647            1.000000           0.857351   \n",
       "35           0.850201            0.859933           0.861274   \n",
       "36           0.874568            0.921663           0.893050   \n",
       "37           0.888435            1.000000           0.910562   \n",
       "38           0.841328            1.000000           0.858134   \n",
       "39           0.840723            1.000000           0.857586   \n",
       "40           0.840723            1.000000           0.857430   \n",
       "41           0.840647            1.000000           0.857351   \n",
       "42           0.857337            0.879873           0.871422   \n",
       "43           0.872611            0.970801           0.899674   \n",
       "44           0.887662            1.000000           0.910171   \n",
       "45           0.841328            1.000000           0.858134   \n",
       "46           0.840723            1.000000           0.857586   \n",
       "47           0.840723            1.000000           0.857430   \n",
       "48           0.840647            1.000000           0.857351   \n",
       "\n",
       "    split1_train_score  std_fit_time  std_score_time  std_test_score  \\\n",
       "0             0.799159    146.399794        2.577399        0.001332   \n",
       "1             0.818041    119.256087        3.478942        0.010518   \n",
       "2             0.799159    184.253983        2.728685        0.001332   \n",
       "3             0.799159    198.729659        3.892157        0.001332   \n",
       "4             0.799159    150.168631        3.546133        0.001332   \n",
       "5             0.799159    133.931696        3.417346        0.001332   \n",
       "6             0.799159    110.813864        2.866023        0.001332   \n",
       "7             0.786241    115.377498        2.853592        0.021805   \n",
       "8             0.827082     91.395528        2.131856        0.007157   \n",
       "9             0.818961    107.429629        3.050945        0.012099   \n",
       "10            0.799159    182.353005        3.261801        0.001332   \n",
       "11            0.799159    178.623075        3.404433        0.001332   \n",
       "12            0.799159    204.230914        3.388725        0.001332   \n",
       "13            0.799159    133.528320        2.687077        0.001332   \n",
       "14            0.825598     73.710468        1.915036        0.006870   \n",
       "15            0.852184     60.172401        1.614049        0.008249   \n",
       "16            0.885301    107.475411        2.266229        0.010114   \n",
       "17            0.832061    146.206984        3.206990        0.002963   \n",
       "18            0.831986    152.168694        3.232411        0.002999   \n",
       "19            0.831912    151.861081        3.202044        0.002999   \n",
       "20            0.831912    128.164020        2.522131        0.003071   \n",
       "21            0.843075     56.882422        1.511738        0.008565   \n",
       "22            0.876928     52.755393        1.308137        0.006550   \n",
       "23            0.977550    131.337741        1.672749        0.011957   \n",
       "24            1.000000    350.927088        2.166065        0.008403   \n",
       "25            1.000000    334.305305        2.265250        0.008431   \n",
       "26            1.000000    371.165307        2.163001        0.008353   \n",
       "27            1.000000    291.119921        1.783351        0.008352   \n",
       "28            0.854501     53.591599        1.419774        0.007090   \n",
       "29            0.904276     50.618780        1.189183        0.008554   \n",
       "30            0.998764    168.899014        1.587546        0.011667   \n",
       "31            1.000000    441.497350        2.174949        0.008403   \n",
       "32            1.000000    495.295623        2.228609        0.008431   \n",
       "33            1.000000    424.300327        2.145874        0.008353   \n",
       "34            1.000000    408.269094        1.735020        0.008352   \n",
       "35            0.858831     53.565814        1.350188        0.005537   \n",
       "36            0.916867     51.780340        1.188210        0.009241   \n",
       "37            1.000000    178.330055        1.638561        0.011064   \n",
       "38            1.000000    466.996353        2.199203        0.008403   \n",
       "39            1.000000    471.145383        2.262425        0.008431   \n",
       "40            1.000000    457.751785        1.522405        0.008353   \n",
       "41            1.000000    391.688081        0.726799        0.008352   \n",
       "42            0.874425     57.995919        1.294125        0.007043   \n",
       "43            0.961006     88.589118        1.080003        0.013531   \n",
       "44            1.000000    181.385051        1.569205        0.011254   \n",
       "45            1.000000    370.875799        1.299420        0.008403   \n",
       "46            1.000000    379.122076        1.398098        0.008431   \n",
       "47            1.000000    366.290772        1.203317        0.008353   \n",
       "48            1.000000    251.196808        0.732564        0.008352   \n",
       "\n",
       "    std_train_score  \n",
       "0          0.000799  \n",
       "1          0.010240  \n",
       "2          0.000799  \n",
       "3          0.000799  \n",
       "4          0.000799  \n",
       "5          0.000799  \n",
       "6          0.000799  \n",
       "7          0.018041  \n",
       "8          0.002717  \n",
       "9          0.010048  \n",
       "10         0.000799  \n",
       "11         0.000799  \n",
       "12         0.000799  \n",
       "13         0.000799  \n",
       "14         0.002424  \n",
       "15         0.001346  \n",
       "16         0.007700  \n",
       "17         0.002371  \n",
       "18         0.002408  \n",
       "19         0.002445  \n",
       "20         0.002408  \n",
       "21         0.000718  \n",
       "22         0.000025  \n",
       "23         0.001007  \n",
       "24         0.000000  \n",
       "25         0.000000  \n",
       "26         0.000000  \n",
       "27         0.000000  \n",
       "28         0.001320  \n",
       "29         0.001296  \n",
       "30         0.000187  \n",
       "31         0.000000  \n",
       "32         0.000000  \n",
       "33         0.000000  \n",
       "34         0.000000  \n",
       "35         0.000551  \n",
       "36         0.002398  \n",
       "37         0.000000  \n",
       "38         0.000000  \n",
       "39         0.000000  \n",
       "40         0.000000  \n",
       "41         0.000000  \n",
       "42         0.002724  \n",
       "43         0.004898  \n",
       "44         0.000000  \n",
       "45         0.000000  \n",
       "46         0.000000  \n",
       "47         0.000000  \n",
       "48         0.000000  "
      ]
     },
     "execution_count": 17,
     "metadata": {},
     "output_type": "execute_result"
    }
   ],
   "source": [
    "results=pd.DataFrame(model.cv_results_)# getting varoius cv_scores and train_scores various values of alpha given as parameter and storing it in a dataframe\n",
    "results#printing the dataframe"
   ]
  },
  {
   "cell_type": "code",
   "execution_count": 19,
   "metadata": {
    "colab": {},
    "colab_type": "code",
    "id": "-x7ExOhG-Iw7"
   },
   "outputs": [
    {
     "data": {
      "text/html": [
       "<div>\n",
       "<table border=\"1\" class=\"dataframe\">\n",
       "  <thead>\n",
       "    <tr style=\"text-align: right;\">\n",
       "      <th></th>\n",
       "      <th>mean_fit_time</th>\n",
       "      <th>mean_score_time</th>\n",
       "      <th>mean_test_score</th>\n",
       "      <th>mean_train_score</th>\n",
       "      <th>param_C</th>\n",
       "      <th>param_gamma</th>\n",
       "      <th>params</th>\n",
       "      <th>rank_test_score</th>\n",
       "      <th>split0_test_score</th>\n",
       "      <th>split0_train_score</th>\n",
       "      <th>split1_test_score</th>\n",
       "      <th>split1_train_score</th>\n",
       "      <th>std_fit_time</th>\n",
       "      <th>std_score_time</th>\n",
       "      <th>std_test_score</th>\n",
       "      <th>std_train_score</th>\n",
       "      <th>mean_cv_error</th>\n",
       "    </tr>\n",
       "  </thead>\n",
       "  <tbody>\n",
       "    <tr>\n",
       "      <th>0</th>\n",
       "      <td>197.648184</td>\n",
       "      <td>10.131180</td>\n",
       "      <td>19.791369</td>\n",
       "      <td>0.798360</td>\n",
       "      <td>0.001</td>\n",
       "      <td>0.001</td>\n",
       "      <td>{'C': 0.001, 'gamma': 0.001}</td>\n",
       "      <td>39</td>\n",
       "      <td>0.800754</td>\n",
       "      <td>0.797561</td>\n",
       "      <td>0.803419</td>\n",
       "      <td>0.799159</td>\n",
       "      <td>146.399794</td>\n",
       "      <td>2.577399</td>\n",
       "      <td>0.001332</td>\n",
       "      <td>0.000799</td>\n",
       "      <td>19.79</td>\n",
       "    </tr>\n",
       "    <tr>\n",
       "      <th>1</th>\n",
       "      <td>165.438953</td>\n",
       "      <td>9.544565</td>\n",
       "      <td>18.872808</td>\n",
       "      <td>0.807801</td>\n",
       "      <td>0.001</td>\n",
       "      <td>0.01</td>\n",
       "      <td>{'C': 0.001, 'gamma': 0.01}</td>\n",
       "      <td>38</td>\n",
       "      <td>0.800754</td>\n",
       "      <td>0.797561</td>\n",
       "      <td>0.821790</td>\n",
       "      <td>0.818041</td>\n",
       "      <td>119.256087</td>\n",
       "      <td>3.478942</td>\n",
       "      <td>0.010518</td>\n",
       "      <td>0.010240</td>\n",
       "      <td>18.87</td>\n",
       "    </tr>\n",
       "    <tr>\n",
       "      <th>2</th>\n",
       "      <td>237.728254</td>\n",
       "      <td>10.377414</td>\n",
       "      <td>19.791369</td>\n",
       "      <td>0.798360</td>\n",
       "      <td>0.001</td>\n",
       "      <td>0.1</td>\n",
       "      <td>{'C': 0.001, 'gamma': 0.1}</td>\n",
       "      <td>39</td>\n",
       "      <td>0.800754</td>\n",
       "      <td>0.797561</td>\n",
       "      <td>0.803419</td>\n",
       "      <td>0.799159</td>\n",
       "      <td>184.253983</td>\n",
       "      <td>2.728685</td>\n",
       "      <td>0.001332</td>\n",
       "      <td>0.000799</td>\n",
       "      <td>19.79</td>\n",
       "    </tr>\n",
       "    <tr>\n",
       "      <th>3</th>\n",
       "      <td>243.532411</td>\n",
       "      <td>9.945897</td>\n",
       "      <td>19.791369</td>\n",
       "      <td>0.798360</td>\n",
       "      <td>0.001</td>\n",
       "      <td>1</td>\n",
       "      <td>{'C': 0.001, 'gamma': 1}</td>\n",
       "      <td>39</td>\n",
       "      <td>0.800754</td>\n",
       "      <td>0.797561</td>\n",
       "      <td>0.803419</td>\n",
       "      <td>0.799159</td>\n",
       "      <td>198.729659</td>\n",
       "      <td>3.892157</td>\n",
       "      <td>0.001332</td>\n",
       "      <td>0.000799</td>\n",
       "      <td>19.79</td>\n",
       "    </tr>\n",
       "    <tr>\n",
       "      <th>4</th>\n",
       "      <td>193.668029</td>\n",
       "      <td>9.947155</td>\n",
       "      <td>19.791369</td>\n",
       "      <td>0.798360</td>\n",
       "      <td>0.001</td>\n",
       "      <td>5</td>\n",
       "      <td>{'C': 0.001, 'gamma': 5}</td>\n",
       "      <td>39</td>\n",
       "      <td>0.800754</td>\n",
       "      <td>0.797561</td>\n",
       "      <td>0.803419</td>\n",
       "      <td>0.799159</td>\n",
       "      <td>150.168631</td>\n",
       "      <td>3.546133</td>\n",
       "      <td>0.001332</td>\n",
       "      <td>0.000799</td>\n",
       "      <td>19.79</td>\n",
       "    </tr>\n",
       "  </tbody>\n",
       "</table>\n",
       "</div>"
      ],
      "text/plain": [
       "   mean_fit_time  mean_score_time  mean_test_score  mean_train_score param_C  \\\n",
       "0     197.648184        10.131180        19.791369          0.798360   0.001   \n",
       "1     165.438953         9.544565        18.872808          0.807801   0.001   \n",
       "2     237.728254        10.377414        19.791369          0.798360   0.001   \n",
       "3     243.532411         9.945897        19.791369          0.798360   0.001   \n",
       "4     193.668029         9.947155        19.791369          0.798360   0.001   \n",
       "\n",
       "  param_gamma                        params  rank_test_score  \\\n",
       "0       0.001  {'C': 0.001, 'gamma': 0.001}               39   \n",
       "1        0.01   {'C': 0.001, 'gamma': 0.01}               38   \n",
       "2         0.1    {'C': 0.001, 'gamma': 0.1}               39   \n",
       "3           1      {'C': 0.001, 'gamma': 1}               39   \n",
       "4           5      {'C': 0.001, 'gamma': 5}               39   \n",
       "\n",
       "   split0_test_score  split0_train_score  split1_test_score  \\\n",
       "0           0.800754            0.797561           0.803419   \n",
       "1           0.800754            0.797561           0.821790   \n",
       "2           0.800754            0.797561           0.803419   \n",
       "3           0.800754            0.797561           0.803419   \n",
       "4           0.800754            0.797561           0.803419   \n",
       "\n",
       "   split1_train_score  std_fit_time  std_score_time  std_test_score  \\\n",
       "0            0.799159    146.399794        2.577399        0.001332   \n",
       "1            0.818041    119.256087        3.478942        0.010518   \n",
       "2            0.799159    184.253983        2.728685        0.001332   \n",
       "3            0.799159    198.729659        3.892157        0.001332   \n",
       "4            0.799159    150.168631        3.546133        0.001332   \n",
       "\n",
       "   std_train_score  mean_cv_error  \n",
       "0         0.000799          19.79  \n",
       "1         0.010240          18.87  \n",
       "2         0.000799          19.79  \n",
       "3         0.000799          19.79  \n",
       "4         0.000799          19.79  "
      ]
     },
     "execution_count": 19,
     "metadata": {},
     "output_type": "execute_result"
    }
   ],
   "source": [
    " \n",
    "results['mean_test_score']=results['mean_test_score']*100#multiplying mean_test_score by 100\n",
    "results['mean_test_score']\n",
    "results['mean_test_score']=100-results['mean_test_score']#substracting from 100 to get a cv_error score\n",
    "results['mean_cv_error']=results['mean_test_score'].round(decimals=2)# rounding cv_error score upto 2 decimal points\n",
    "results.head()"
   ]
  },
  {
   "cell_type": "code",
   "execution_count": 20,
   "metadata": {
    "colab": {},
    "colab_type": "code",
    "collapsed": true,
    "id": "P1i8d5XF-IrP"
   },
   "outputs": [],
   "source": [
    "test_score_heatmap=results.pivot(\t'param_C'\t,'param_gamma','mean_cv_error'\t)#converting  into pivot table"
   ]
  },
  {
   "cell_type": "code",
   "execution_count": 21,
   "metadata": {
    "colab": {},
    "colab_type": "code",
    "id": "tXDf19R9-lb3"
   },
   "outputs": [
    {
     "data": {
      "text/html": [
       "<div>\n",
       "<table border=\"1\" class=\"dataframe\">\n",
       "  <thead>\n",
       "    <tr style=\"text-align: right;\">\n",
       "      <th>param_gamma</th>\n",
       "      <th>0.001</th>\n",
       "      <th>0.01</th>\n",
       "      <th>0.1</th>\n",
       "      <th>1.0</th>\n",
       "      <th>5.0</th>\n",
       "      <th>10.0</th>\n",
       "      <th>100.0</th>\n",
       "    </tr>\n",
       "    <tr>\n",
       "      <th>param_C</th>\n",
       "      <th></th>\n",
       "      <th></th>\n",
       "      <th></th>\n",
       "      <th></th>\n",
       "      <th></th>\n",
       "      <th></th>\n",
       "      <th></th>\n",
       "    </tr>\n",
       "  </thead>\n",
       "  <tbody>\n",
       "    <tr>\n",
       "      <th>0.001</th>\n",
       "      <td>19.79</td>\n",
       "      <td>18.87</td>\n",
       "      <td>19.79</td>\n",
       "      <td>19.79</td>\n",
       "      <td>19.79</td>\n",
       "      <td>19.79</td>\n",
       "      <td>19.79</td>\n",
       "    </tr>\n",
       "    <tr>\n",
       "      <th>0.010</th>\n",
       "      <td>22.72</td>\n",
       "      <td>17.02</td>\n",
       "      <td>18.63</td>\n",
       "      <td>19.79</td>\n",
       "      <td>19.79</td>\n",
       "      <td>19.79</td>\n",
       "      <td>19.79</td>\n",
       "    </tr>\n",
       "    <tr>\n",
       "      <th>0.100</th>\n",
       "      <td>17.17</td>\n",
       "      <td>14.90</td>\n",
       "      <td>13.85</td>\n",
       "      <td>17.83</td>\n",
       "      <td>17.84</td>\n",
       "      <td>17.84</td>\n",
       "      <td>17.84</td>\n",
       "    </tr>\n",
       "    <tr>\n",
       "      <th>1.000</th>\n",
       "      <td>15.60</td>\n",
       "      <td>13.28</td>\n",
       "      <td>10.30</td>\n",
       "      <td>15.03</td>\n",
       "      <td>15.08</td>\n",
       "      <td>15.09</td>\n",
       "      <td>15.10</td>\n",
       "    </tr>\n",
       "    <tr>\n",
       "      <th>5.000</th>\n",
       "      <td>14.93</td>\n",
       "      <td>12.09</td>\n",
       "      <td>10.12</td>\n",
       "      <td>15.03</td>\n",
       "      <td>15.08</td>\n",
       "      <td>15.09</td>\n",
       "      <td>15.10</td>\n",
       "    </tr>\n",
       "    <tr>\n",
       "      <th>10.000</th>\n",
       "      <td>14.43</td>\n",
       "      <td>11.62</td>\n",
       "      <td>10.05</td>\n",
       "      <td>15.03</td>\n",
       "      <td>15.08</td>\n",
       "      <td>15.09</td>\n",
       "      <td>15.10</td>\n",
       "    </tr>\n",
       "    <tr>\n",
       "      <th>100.000</th>\n",
       "      <td>13.56</td>\n",
       "      <td>11.39</td>\n",
       "      <td>10.11</td>\n",
       "      <td>15.03</td>\n",
       "      <td>15.08</td>\n",
       "      <td>15.09</td>\n",
       "      <td>15.10</td>\n",
       "    </tr>\n",
       "  </tbody>\n",
       "</table>\n",
       "</div>"
      ],
      "text/plain": [
       "param_gamma  0.001    0.010    0.100    1.000    5.000    10.000   100.000\n",
       "param_C                                                                   \n",
       "0.001          19.79    18.87    19.79    19.79    19.79    19.79    19.79\n",
       "0.010          22.72    17.02    18.63    19.79    19.79    19.79    19.79\n",
       "0.100          17.17    14.90    13.85    17.83    17.84    17.84    17.84\n",
       "1.000          15.60    13.28    10.30    15.03    15.08    15.09    15.10\n",
       "5.000          14.93    12.09    10.12    15.03    15.08    15.09    15.10\n",
       "10.000         14.43    11.62    10.05    15.03    15.08    15.09    15.10\n",
       "100.000        13.56    11.39    10.11    15.03    15.08    15.09    15.10"
      ]
     },
     "execution_count": 21,
     "metadata": {},
     "output_type": "execute_result"
    }
   ],
   "source": [
    "test_score_heatmap#printing the pivot table"
   ]
  },
  {
   "cell_type": "code",
   "execution_count": 27,
   "metadata": {
    "colab": {},
    "colab_type": "code",
    "id": "UyNgSoiV-mHb"
   },
   "outputs": [
    {
     "data": {
      "image/png": "[encoded data removed]",
      "text/plain": [
       "<matplotlib.figure.Figure at 0x7fdd3ad02e48>"
      ]
     },
     "metadata": {},
     "output_type": "display_data"
    }
   ],
   "source": [
    "import seaborn as sns\n",
    "sns.heatmap(test_score_heatmap,annot=True,annot_kws={\"size\": 10}, fmt='g',linewidths=.5)\n",
    "import matplotlib.pylab as plt\n",
    "plt.show()#printing the heatmap with cv_error "
   ]
  },
  {
   "cell_type": "markdown",
   "metadata": {
    "colab_type": "text",
    "id": "6a_rCv04-4fb"
   },
   "source": [
    "# FROM HERE BEST HPYERPARAMETERS ARE GAMMA =0.1   AND  C=10"
   ]
  },
  {
   "cell_type": "code",
   "execution_count": 23,
   "metadata": {
    "colab": {},
    "colab_type": "code",
    "collapsed": true,
    "id": "S0wi404oGdVK"
   },
   "outputs": [],
   "source": [
    "# building the model with value of hyperparameters values\n",
    "svc=SVC(class_weight='balanced',probability=True,C=10,gamma=0.1)"
   ]
  },
  {
   "cell_type": "markdown",
   "metadata": {},
   "source": [
    "# PLOTTING THE ROC CURVE FOR TRAIN_DATA"
   ]
  },
  {
   "cell_type": "code",
   "execution_count": null,
   "metadata": {
    "colab": {},
    "colab_type": "code",
    "collapsed": true,
    "id": "nikYs4BzEE70"
   },
   "outputs": [],
   "source": [
    "#fitting the model \n",
    "svc.fit(x_train_data,y_train)\n",
    "probs = svc.predict_proba(x_train_data)#predicting the model \n",
    "y_pred_train = probs[:,1]\n"
   ]
  },
  {
   "cell_type": "code",
   "execution_count": 22,
   "metadata": {},
   "outputs": [
    {
     "data": {
      "image/png": "[encoded data removed]",
      "text/plain": [
       "<matplotlib.figure.Figure at 0x2485b5f5860>"
      ]
     },
     "metadata": {},
     "output_type": "display_data"
    }
   ],
   "source": [
    "fpr, tpr, threshold = metrics.roc_curve(y_train, y_pred_train)\n",
    "roc_auc = metrics.auc(fpr, tpr)\n",
    "\n",
    "\n",
    "import matplotlib.pyplot as plt\n",
    "plt.title('Receiver Operating Characteristic')\n",
    "plt.plot(fpr, tpr, 'b', label = 'AUC = %0.2f' % roc_auc)\n",
    "plt.legend(loc = 'best')\n",
    "plt.plot([0, 1], [0, 1],'r--')\n",
    "plt.xlim([0, 1])\n",
    "plt.ylim([0, 1])\n",
    "plt.ylabel('True Positive Rate')\n",
    "plt.xlabel('False Positive Rate')\n",
    "plt.show()"
   ]
  },
  {
   "cell_type": "markdown",
   "metadata": {
    "colab_type": "text",
    "id": "kFhxFv7dFNzE"
   },
   "source": [
    "# PLOTTING THE ROC CURVE FOR TEST_DATA"
   ]
  },
  {
   "cell_type": "code",
   "execution_count": null,
   "metadata": {
    "collapsed": true
   },
   "outputs": [],
   "source": [
    "#fitting the model \n",
    "svc.fit(x_train_data,y_train)\n",
    "probs = svc.predict_proba(x_test_data)#predicting the model \n",
    "y_pred = probs[:,1]\n"
   ]
  },
  {
   "cell_type": "code",
   "execution_count": 37,
   "metadata": {
    "colab": {},
    "colab_type": "code",
    "id": "JCObAUhGFNUs"
   },
   "outputs": [
    {
     "data": {
      "image/png": "[encoded data removed]",
      "text/plain": [
       "<matplotlib.figure.Figure at 0x7fdd3a0e4390>"
      ]
     },
     "metadata": {},
     "output_type": "display_data"
    }
   ],
   "source": [
    "#plotting the curve for finding the auc_score \n",
    "fpr, tpr, threshold = metrics.roc_curve(y_test,y_pred)\n",
    "roc_auc = metrics.auc(fpr, tpr)\n",
    " \n",
    "import matplotlib.pyplot as plt\n",
    "plt.title('Receiver Operating Characteristic')\n",
    "plt.plot(fpr, tpr, 'b', label = 'AUC = %0.2f' % roc_auc)\n",
    "plt.legend(loc = 'best')\n",
    "plt.plot([0, 1], [0, 1],'r--')\n",
    "plt.xlim([0, 1])\n",
    "plt.ylim([0, 1])\n",
    "plt.ylabel('True Positive Rate')\n",
    "plt.xlabel('False Positive Rate')\n",
    "plt.show()"
   ]
  },
  {
   "cell_type": "code",
   "execution_count": 44,
   "metadata": {
    "colab": {},
    "colab_type": "code",
    "id": "6MAIfAfQEE1y"
   },
   "outputs": [
    {
     "name": "stdout",
     "output_type": "stream",
     "text": [
      "Best auc_score  from above curve is founs to be  94.13072703895155\n"
     ]
    }
   ],
   "source": [
    "print(\"Best auc_score  from above curve is founs to be \",roc_auc*100)"
   ]
  },
  {
   "cell_type": "markdown",
   "metadata": {
    "colab_type": "text",
    "id": "4drQtE5fcsM8"
   },
   "source": [
    "# USING BEST HYPERPARAMETER VALUE ON TEST DATA AND PLOTTING THE CONFUSION MATRIX WITH HEATMAP"
   ]
  },
  {
   "cell_type": "code",
   "execution_count": 42,
   "metadata": {
    "colab": {
     "base_uri": "https://localhost:8080/",
     "height": 511
    },
    "colab_type": "code",
    "executionInfo": {
     "elapsed": 16180,
     "status": "ok",
     "timestamp": 1547925038396,
     "user": {
      "displayName": "mayank aggarwal",
      "photoUrl": "",
      "userId": "04107947634097457088"
     },
     "user_tz": -330
    },
    "id": "Ox3k0a43cXmo",
    "outputId": "35cc20d6-c0dc-4a90-ce1e-772dfe292b3b"
   },
   "outputs": [
    {
     "name": "stdout",
     "output_type": "stream",
     "text": [
      "Accuracy on test set: 88.000%\n",
      "Precision on test set: 0.886\n",
      "Recall on test set: 0.940\n",
      "F1-Score on test set: 0.912\n",
      "Confusion Matrix of test set:\n",
      " [ [TN  FP]\n",
      " [FN TP] ]\n",
      "\n"
     ]
    },
    {
     "data": {
      "image/png": "[encoded data removed]",
      "text/plain": [
       "<matplotlib.figure.Figure at 0x7fdd3a436be0>"
      ]
     },
     "metadata": {},
     "output_type": "display_data"
    }
   ],
   "source": [
    "#Testing Accuracy on Test data  \n",
    "import seaborn as sns #importing seaborn as sns\n",
    "from sklearn.metrics import *#importing varoius metrics from sklearn\n",
    "y_pred=svc.predict(x_test_data)\n",
    "print(\"Accuracy on test set: %0.3f%%\"%(accuracy_score(y_test, y_pred)*100))#printing accuracy\n",
    "print(\"Precision on test set: %0.3f\"%(precision_score(y_test, y_pred)))#printing precision score\n",
    "print(\"Recall on test set: %0.3f\"%(recall_score(y_test, y_pred))) #printing recall\n",
    "print(\"F1-Score on test set: %0.3f\"%(f1_score(y_test, y_pred))) \n",
    "print(\"Confusion Matrix of test set:\\n [ [TN  FP]\\n [FN TP] ]\\n\") \n",
    "df_cm = pd.DataFrame(confusion_matrix(y_test, y_pred), range(2),range(2)) #generating the heatmap for confusion matrix\n",
    "sns.set(font_scale=1.4)#for label size\n",
    "sns.heatmap(df_cm, annot=True,annot_kws={\"size\": 16}, fmt='g')\n",
    "import matplotlib.pylab as plt\n",
    "plt.show()"
   ]
  },
  {
   "cell_type": "markdown",
   "metadata": {
    "colab_type": "text",
    "id": "7hfQFKwKuQMi"
   },
   "source": [
    "# <i>AVG WORD2VEC VECTORIZATION WITH SUPPORT VECTOR MACHINE  WITH LINEAR KERNEL AND RBF KERNEL IS DONE<b>\n",
    " ********************************************************************************************************"
   ]
  },
  {
   "cell_type": "code",
   "execution_count": 0,
   "metadata": {
    "colab": {},
    "colab_type": "code",
    "collapsed": true,
    "id": "CyZdrheWdKSJ"
   },
   "outputs": [],
   "source": []
  }
 ],
 "metadata": {
  "colab": {
   "collapsed_sections": [],
   "name": " svm_avg_word_2_vec.ipynb",
   "provenance": [
    {
     "file_id": "1OOWnvezB8fG4Dvu_Q0XuoP9E1Fv0iM9k",
     "timestamp": 1548879884056
    },
    {
     "file_id": "17Y959qZCaAjCSG15IRcyT8fjHIm1SO7A",
     "timestamp": 1547912102331
    }
   ],
   "version": "0.3.2"
  },
  "kernelspec": {
   "display_name": "Python 3",
   "language": "python",
   "name": "python3"
  },
  "language_info": {
   "codemirror_mode": {
    "name": "ipython",
    "version": 3
   },
   "file_extension": ".py",
   "mimetype": "text/x-python",
   "name": "python",
   "nbconvert_exporter": "python",
   "pygments_lexer": "ipython3",
   "version": "3.6.3"
  }
 },
 "nbformat": 4,
 "nbformat_minor": 1
}
