{
 "cells": [
  {
   "cell_type": "markdown",
   "metadata": {
    "colab_type": "text",
    "id": "954YIcTvFjkl"
   },
   "source": [
    "# OBJECTIVE #\n",
    "1.<b> APPLYING SVM  WITH BOW VECTORIZATION\n",
    "\n",
    "2. FINDING THE BEST HYPERPARAMETER USING GRIDSEARCHCV WITH TRAIN DATA AND CROSS-VALIDATION       DATA BY PLOTTING THE RESLUTS OF CROSS VALIDATION DATA UISNG HEATMAP\n",
    "  \n",
    "3. PLOTTING OF ROC CURVE TO CHECK FOR THE AUC_SCORE \n",
    "  \n",
    "4. USING THE APROPRIATE VALUE OF HYPERPARAMETER ,TESTING \n",
    "    ACCURACY ON TEST DATA USING AUC_SCORE\n",
    "  \n",
    "5. PLOTTING THE CONFUSION MATRIX TO GET THE PRECISOIN ,RECALL\n",
    "    VALUE WITH HELP OF HEATMAP\n",
    "  \n",
    "6. PRINTING THE TOP 30 MOST IMPORTANT FEATURES"
   ]
  },
  {
   "cell_type": "code",
   "execution_count": 2,
   "metadata": {
    "colab": {},
    "colab_type": "code",
    "id": "5mY65CSoHLvF"
   },
   "outputs": [],
   "source": [
    "from sklearn.model_selection import train_test_split          #importing the necessary libraries\n",
    "from sklearn.model_selection import RandomizedSearchCV\n",
    "from sklearn.datasets import *\n",
    "from sklearn import naive_bayes\n",
    "from sklearn.feature_extraction.text import CountVectorizer\n",
    "from sklearn.feature_extraction.text import TfidfVectorizer\n",
    "import numpy as np\n",
    "import pandas as pd\n",
    "from sklearn import *\n",
    "import warnings\n",
    "warnings.filterwarnings(\"ignore\")"
   ]
  },
  {
   "cell_type": "code",
   "execution_count": 3,
   "metadata": {
    "colab": {},
    "colab_type": "code",
    "collapsed": true,
    "id": "th4CA4XRHRpQ"
   },
   "outputs": [],
   "source": [
    "final_processed_data=pd.read_csv(\"C:/Users/Mayank/Desktop/final_new_data.csv\")#loading the preprocessed data  with 100k points into dataframe "
   ]
  },
  {
   "cell_type": "code",
   "execution_count": 4,
   "metadata": {
    "colab": {
     "base_uri": "https://localhost:8080/",
     "height": 52
    },
    "colab_type": "code",
    "executionInfo": {
     "elapsed": 1145,
     "status": "ok",
     "timestamp": 1548789736777,
     "user": {
      "displayName": "mayank aggarwal",
      "photoUrl": "",
      "userId": "04107947634097457088"
     },
     "user_tz": -330
    },
    "id": "S0i-MyocHc5X",
    "outputId": "a5ed9322-ea52-4a2c-9046-82ee9060a0e0"
   },
   "outputs": [
    {
     "name": "stdout",
     "output_type": "stream",
     "text": [
      "88521\n",
      "11479\n"
     ]
    }
   ],
   "source": [
    "# getting the counts of 0 and 1 in \"SCORE\" column to know whether it is unbalanced data or not\n",
    "count_of_1=0\n",
    "count_of_0=0\n",
    "for i in final_processed_data['Score']:\n",
    "   if i==1:\n",
    "    count_of_1+=1\n",
    "   else:\n",
    "    count_of_0+=1\n",
    "print(count_of_1)\n",
    "print(count_of_0)\n",
    "#it is an imbalanced dataset"
   ]
  },
  {
   "cell_type": "code",
   "execution_count": 5,
   "metadata": {
    "colab": {},
    "colab_type": "code",
    "collapsed": true,
    "id": "xylyFfmfHgqM"
   },
   "outputs": [],
   "source": [
    "#spliiting the data into train and test data\n",
    "x_train,x_test,y_train,y_test=model_selection.train_test_split(final_processed_data['CleanedText'].values,final_processed_data['Score'].values,test_size=0.2,shuffle=False)"
   ]
  },
  {
   "cell_type": "code",
   "execution_count": 6,
   "metadata": {
    "colab": {
     "base_uri": "https://localhost:8080/",
     "height": 34
    },
    "colab_type": "code",
    "executionInfo": {
     "elapsed": 1567,
     "status": "ok",
     "timestamp": 1548789846489,
     "user": {
      "displayName": "mayank aggarwal",
      "photoUrl": "",
      "userId": "04107947634097457088"
     },
     "user_tz": -330
    },
    "id": "G_Z21t5oHlhD",
    "outputId": "32638309-7263-41d9-b88e-6051ee3a0694"
   },
   "outputs": [
    {
     "name": "stdout",
     "output_type": "stream",
     "text": [
      "(80000, 10917)\n"
     ]
    }
   ],
   "source": [
    "vectorizer=CountVectorizer(min_df=5)#building the vertorizer with word counts equal and more then 2\n",
    "train_bow=vectorizer.fit_transform(x_train)#fitting the model on training data\n",
    "print(train_bow.shape)"
   ]
  },
  {
   "cell_type": "code",
   "execution_count": 7,
   "metadata": {
    "colab": {
     "base_uri": "https://localhost:8080/",
     "height": 34
    },
    "colab_type": "code",
    "executionInfo": {
     "elapsed": 890,
     "status": "ok",
     "timestamp": 1548790012529,
     "user": {
      "displayName": "mayank aggarwal",
      "photoUrl": "",
      "userId": "04107947634097457088"
     },
     "user_tz": -330
    },
    "id": "PXbTU4DqHq4a",
    "outputId": "a70f02d4-d247-43d2-8a28-069daf2b716d"
   },
   "outputs": [
    {
     "name": "stdout",
     "output_type": "stream",
     "text": [
      "(80000, 10917)\n"
     ]
    }
   ],
   "source": [
    "from sklearn.preprocessing import StandardScaler #standarizing the training  data  \n",
    "x_train_data=StandardScaler( with_mean=False).fit_transform(train_bow)\n",
    "print(x_train_data.shape)"
   ]
  },
  {
   "cell_type": "code",
   "execution_count": 8,
   "metadata": {
    "colab": {
     "base_uri": "https://localhost:8080/",
     "height": 52
    },
    "colab_type": "code",
    "executionInfo": {
     "elapsed": 1323,
     "status": "ok",
     "timestamp": 1548790021381,
     "user": {
      "displayName": "mayank aggarwal",
      "photoUrl": "",
      "userId": "04107947634097457088"
     },
     "user_tz": -330
    },
    "id": "Qy9RLhwlHuBG",
    "outputId": "1bf437f5-0982-4a53-c523-1f6fa25a417c"
   },
   "outputs": [
    {
     "name": "stdout",
     "output_type": "stream",
     "text": [
      "shape of x_test after tfidf vectorization  (20000, 10917)\n",
      "shape of x_test after standardization  (20000, 10917)\n"
     ]
    }
   ],
   "source": [
    "test_bow=vectorizer.transform(x_test)#fitting the bow model on test data\n",
    "print(\"shape of x_test after tfidf vectorization \",test_bow.shape)\n",
    "x_test_data=StandardScaler( with_mean=False).fit_transform(test_bow)#standarizing the test data\n",
    "print(\"shape of x_test after standardization \",x_test_data.shape)"
   ]
  },
  {
   "cell_type": "code",
   "execution_count": 9,
   "metadata": {
    "colab": {},
    "colab_type": "code",
    "collapsed": true,
    "id": "QweFhr0LHyZi"
   },
   "outputs": [],
   "source": [
    "#using time series split method for cross-validation score\n",
    "from sklearn.model_selection import TimeSeriesSplit\n",
    "tscv = TimeSeriesSplit(n_splits=10) \n",
    "from sklearn.linear_model import SGDClassifier\n",
    "from sklearn.calibration import CalibratedClassifierCV\n",
    "data=[10**-4,10**-3,10**-2,10**-1,10**0,10**1,10**2,10**3,10**4]#range of hyperparameter\n",
    "\n",
    "\n",
    "sgd=SGDClassifier(loss='log',class_weight={1:0.5,0:0.5},n_jobs=-1)\n",
    "tuned_para=[{'alpha':data,'penalty':['l1','l2']}] \n"
   ]
  },
  {
   "cell_type": "code",
   "execution_count": 10,
   "metadata": {
    "colab": {
     "base_uri": "https://localhost:8080/",
     "height": 176
    },
    "colab_type": "code",
    "executionInfo": {
     "elapsed": 7320,
     "status": "ok",
     "timestamp": 1548790030546,
     "user": {
      "displayName": "mayank aggarwal",
      "photoUrl": "",
      "userId": "04107947634097457088"
     },
     "user_tz": -330
    },
    "id": "Ym2cHVNEPAbJ",
    "outputId": "10d61abb-7489-47ce-b095-27ee14cbe10d"
   },
   "outputs": [
    {
     "name": "stdout",
     "output_type": "stream",
     "text": [
      "Wall time: 0 ns\n",
      "best estimators for the model is SGDClassifier(alpha=0.01, average=False, class_weight={1: 0.5, 0: 0.5},\n",
      "       epsilon=0.1, eta0=0.0, fit_intercept=True, l1_ratio=0.15,\n",
      "       learning_rate='optimal', loss='log', max_iter=None, n_iter=None,\n",
      "       n_jobs=-1, penalty='l2', power_t=0.5, random_state=None,\n",
      "       shuffle=True, tol=None, verbose=0, warm_start=False)\n",
      "Auc_score for test data is 0.869072793835\n"
     ]
    }
   ],
   "source": [
    "#applying the model of support vector machine and using gridsearchcv to find the best hyper parameter\n",
    "%time\n",
    "from sklearn.model_selection import GridSearchCV\n",
    "model = GridSearchCV(sgd, tuned_para, scoring = 'roc_auc', cv=tscv,n_jobs=-1)#building the gridsearchcv model\n",
    "model.fit(x_train_data, y_train)#fiitting the training data\n",
    "\n",
    "print('best estimators for the model is',model.best_estimator_)#printing the best_estimator\n",
    "print('Auc_score for test data is',model.score(x_test_data, y_test))\n"
   ]
  },
  {
   "cell_type": "code",
   "execution_count": 16,
   "metadata": {
    "colab": {
     "base_uri": "https://localhost:8080/",
     "height": 1536
    },
    "colab_type": "code",
    "executionInfo": {
     "elapsed": 3004,
     "status": "ok",
     "timestamp": 1548790030549,
     "user": {
      "displayName": "mayank aggarwal",
      "photoUrl": "",
      "userId": "04107947634097457088"
     },
     "user_tz": -330
    },
    "id": "l-Xqmdy02trE",
    "outputId": "d87b15cd-03a0-492d-a4b8-37c01c529240"
   },
   "outputs": [],
   "source": [
    "results=pd.DataFrame(model.cv_results_)# getting varoius cv_scores and train_scores various values of alpha given as parameter and storing it in a dataframe\n",
    "results.head()#printing the dataframe\n",
    "results['mean_train_score']=results['mean_train_score'].round(2)"
   ]
  },
  {
   "cell_type": "markdown",
   "metadata": {
    "colab_type": "text",
    "id": "hNm70O1gFB3z"
   },
   "source": [
    "# PLOTTING THE HEATMAP WITH  HYPERPARAMETERS FOR AUC_SCORE "
   ]
  },
  {
   "cell_type": "code",
   "execution_count": 20,
   "metadata": {
    "colab": {},
    "colab_type": "code",
    "collapsed": true,
    "id": "ilib5vfwEntX"
   },
   "outputs": [],
   "source": [
    "train_score_heatmap=results.pivot(\t'param_alpha'\t,'param_penalty','mean_train_score'\t)"
   ]
  },
  {
   "cell_type": "code",
   "execution_count": 21,
   "metadata": {
    "colab": {
     "base_uri": "https://localhost:8080/",
     "height": 347
    },
    "colab_type": "code",
    "executionInfo": {
     "elapsed": 2754,
     "status": "ok",
     "timestamp": 1548790034095,
     "user": {
      "displayName": "mayank aggarwal",
      "photoUrl": "",
      "userId": "04107947634097457088"
     },
     "user_tz": -330
    },
    "id": "N75mhM21Enk8",
    "outputId": "33721fe6-9f14-4925-8a44-3044d5c3cadf"
   },
   "outputs": [
    {
     "data": {
      "text/html": [
       "<div>\n",
       "<style>\n",
       "    .dataframe thead tr:only-child th {\n",
       "        text-align: right;\n",
       "    }\n",
       "\n",
       "    .dataframe thead th {\n",
       "        text-align: left;\n",
       "    }\n",
       "\n",
       "    .dataframe tbody tr th {\n",
       "        vertical-align: top;\n",
       "    }\n",
       "</style>\n",
       "<table border=\"1\" class=\"dataframe\">\n",
       "  <thead>\n",
       "    <tr style=\"text-align: right;\">\n",
       "      <th>param_penalty</th>\n",
       "      <th>l1</th>\n",
       "      <th>l2</th>\n",
       "    </tr>\n",
       "    <tr>\n",
       "      <th>param_alpha</th>\n",
       "      <th></th>\n",
       "      <th></th>\n",
       "    </tr>\n",
       "  </thead>\n",
       "  <tbody>\n",
       "    <tr>\n",
       "      <th>0.0001</th>\n",
       "      <td>0.96</td>\n",
       "      <td>0.99</td>\n",
       "    </tr>\n",
       "    <tr>\n",
       "      <th>0.0010</th>\n",
       "      <td>0.89</td>\n",
       "      <td>0.99</td>\n",
       "    </tr>\n",
       "    <tr>\n",
       "      <th>0.0100</th>\n",
       "      <td>0.71</td>\n",
       "      <td>0.99</td>\n",
       "    </tr>\n",
       "    <tr>\n",
       "      <th>0.1000</th>\n",
       "      <td>0.51</td>\n",
       "      <td>0.96</td>\n",
       "    </tr>\n",
       "    <tr>\n",
       "      <th>1.0000</th>\n",
       "      <td>0.50</td>\n",
       "      <td>0.81</td>\n",
       "    </tr>\n",
       "    <tr>\n",
       "      <th>10.0000</th>\n",
       "      <td>0.50</td>\n",
       "      <td>0.63</td>\n",
       "    </tr>\n",
       "    <tr>\n",
       "      <th>100.0000</th>\n",
       "      <td>0.50</td>\n",
       "      <td>0.58</td>\n",
       "    </tr>\n",
       "    <tr>\n",
       "      <th>1000.0000</th>\n",
       "      <td>0.50</td>\n",
       "      <td>0.58</td>\n",
       "    </tr>\n",
       "    <tr>\n",
       "      <th>10000.0000</th>\n",
       "      <td>0.50</td>\n",
       "      <td>0.58</td>\n",
       "    </tr>\n",
       "  </tbody>\n",
       "</table>\n",
       "</div>"
      ],
      "text/plain": [
       "param_penalty    l1    l2\n",
       "param_alpha              \n",
       "0.0001         0.96  0.99\n",
       "0.0010         0.89  0.99\n",
       "0.0100         0.71  0.99\n",
       "0.1000         0.51  0.96\n",
       "1.0000         0.50  0.81\n",
       "10.0000        0.50  0.63\n",
       "100.0000       0.50  0.58\n",
       "1000.0000      0.50  0.58\n",
       "10000.0000     0.50  0.58"
      ]
     },
     "execution_count": 21,
     "metadata": {},
     "output_type": "execute_result"
    }
   ],
   "source": [
    "train_score_heatmap"
   ]
  },
  {
   "cell_type": "code",
   "execution_count": 22,
   "metadata": {
    "colab": {
     "base_uri": "https://localhost:8080/",
     "height": 386
    },
    "colab_type": "code",
    "executionInfo": {
     "elapsed": 2531,
     "status": "ok",
     "timestamp": 1548790034101,
     "user": {
      "displayName": "mayank aggarwal",
      "photoUrl": "",
      "userId": "04107947634097457088"
     },
     "user_tz": -330
    },
    "id": "y1grLiohEnfM",
    "outputId": "163561fc-ed31-44f0-ed99-830f1b8cd8d3"
   },
   "outputs": [
    {
     "data": {
      "image/png": "[encoded data removed]",
      "text/plain": [
       "<matplotlib.figure.Figure at 0x1d84bd17e10>"
      ]
     },
     "metadata": {},
     "output_type": "display_data"
    }
   ],
   "source": [
    "import seaborn as sns\n",
    "sns.heatmap(train_score_heatmap,annot=True,annot_kws={\"size\": 18}, fmt='g',linewidths=.5)\n",
    "import matplotlib.pyplot as plt\n",
    "plt.show()"
   ]
  },
  {
   "cell_type": "markdown",
   "metadata": {
    "colab_type": "text",
    "id": "jebJMIMJFNXj"
   },
   "source": [
    "# FROM HEATMAP THE BEST HYPERPARAMETER VALUES ARE FOUND TO BE PENALTY='L2' AND 'PARAM_ALPHA'=0.01"
   ]
  },
  {
   "cell_type": "markdown",
   "metadata": {
    "colab_type": "text",
    "id": "64zFfeD2FVN8"
   },
   "source": [
    "# BUILDING MODEL FOR SGD WITH CALIBRATED CLASSIFIER CV WITH DIFFERENT VARIATIONS"
   ]
  },
  {
   "cell_type": "code",
   "execution_count": 23,
   "metadata": {
    "colab": {
     "base_uri": "https://localhost:8080/",
     "height": 123
    },
    "colab_type": "code",
    "executionInfo": {
     "elapsed": 15110,
     "status": "ok",
     "timestamp": 1548789777003,
     "user": {
      "displayName": "mayank aggarwal",
      "photoUrl": "",
      "userId": "04107947634097457088"
     },
     "user_tz": -330
    },
    "id": "O7gQsTruEnZK",
    "outputId": "ee37b6d2-778d-430a-b509-cef12435a78a"
   },
   "outputs": [
    {
     "data": {
      "text/plain": [
       "SGDClassifier(alpha=0.01, average=False, class_weight={1: 0.5, 0: 0.5},\n",
       "       epsilon=0.1, eta0=0.0, fit_intercept=True, l1_ratio=0.15,\n",
       "       learning_rate='optimal', loss='log', max_iter=None, n_iter=None,\n",
       "       n_jobs=-1, penalty='l2', power_t=0.5, random_state=None,\n",
       "       shuffle=True, tol=None, verbose=0, warm_start=False)"
      ]
     },
     "execution_count": 23,
     "metadata": {},
     "output_type": "execute_result"
    }
   ],
   "source": [
    "sgd=SGDClassifier(loss='log',class_weight={1:0.5,0:0.5},n_jobs=-1,alpha=0.01,penalty='l2')\n",
    "sgd.fit(x_train_data,y_train)"
   ]
  },
  {
   "cell_type": "code",
   "execution_count": 24,
   "metadata": {
    "colab": {
     "base_uri": "https://localhost:8080/",
     "height": 87
    },
    "colab_type": "code",
    "executionInfo": {
     "elapsed": 15362,
     "status": "ok",
     "timestamp": 1548789777718,
     "user": {
      "displayName": "mayank aggarwal",
      "photoUrl": "",
      "userId": "04107947634097457088"
     },
     "user_tz": -330
    },
    "id": "ogv0UKRIEnRU",
    "outputId": "436ca843-def5-45e1-faf1-23edb6df7695"
   },
   "outputs": [
    {
     "name": "stdout",
     "output_type": "stream",
     "text": [
      "Brier scores: (the smaller the better)\n",
      "No calibration: 0.069\n",
      "With isotonic calibration: 0.069\n",
      "With sigmoid calibration: 0.071\n"
     ]
    }
   ],
   "source": [
    "from sklearn.metrics import brier_score_loss\n",
    "prob_pos_clf = sgd.predict_proba(x_test_data)[:, 1]\n",
    "\n",
    "# Gaussian Naive-Bayes with isotonic calibration\n",
    "from sklearn.calibration import   CalibratedClassifierCV\n",
    "clf_isotonic = CalibratedClassifierCV(sgd, cv=5, method='isotonic')\n",
    "clf_isotonic.fit(x_train_data, y_train)\n",
    "prob_pos_isotonic = clf_isotonic.predict_proba(x_test_data)[:, 1]\n",
    "\n",
    "# Gaussian Naive-Bayes with sigmoid calibration\n",
    "clf_sigmoid = CalibratedClassifierCV(sgd, cv=5, method='sigmoid')\n",
    "clf_sigmoid.fit(x_train_data, y_train)\n",
    "prob_pos_sigmoid = clf_sigmoid.predict_proba(x_test_data)[:, 1]\n",
    "\n",
    "print(\"Brier scores: (the smaller the better)\")\n",
    "\n",
    "clf_score = brier_score_loss(y_test, prob_pos_clf)\n",
    "print(\"No calibration: %1.3f\" % clf_score)\n",
    "\n",
    "\n",
    "clf_isotonic_score = brier_score_loss(y_test, prob_pos_isotonic)\n",
    "print(\"With isotonic calibration: %1.3f\" % clf_isotonic_score)\n",
    "\n",
    "clf_sigmoid_score = brier_score_loss(y_test, prob_pos_sigmoid)\n",
    "print(\"With sigmoid calibration: %1.3f\" % clf_sigmoid_score)"
   ]
  },
  {
   "cell_type": "markdown",
   "metadata": {
    "colab_type": "text",
    "id": "dMuuRBqKFjD1"
   },
   "source": [
    "# ISOTONIC CALIBRATION IS HAVING BEST VALUE  FOR CALIBRATED CLASSIFIER CV"
   ]
  },
  {
   "cell_type": "markdown",
   "metadata": {},
   "source": [
    " # PLOTTING THE ROC CURVE FOR  TRAIN_DATA"
   ]
  },
  {
   "cell_type": "code",
   "execution_count": 25,
   "metadata": {
    "collapsed": true
   },
   "outputs": [],
   "source": [
    "sgd=SGDClassifier(loss='log',class_weight={1:0.5,0:0.5},n_jobs=-1,alpha=0.01,penalty='l2')\n",
    "from sklearn.calibration import   CalibratedClassifierCV\n",
    "clf_isotonic = CalibratedClassifierCV(sgd, cv=5, method='isotonic')\n",
    "clf_isotonic.fit(x_train_data, y_train)\n",
    "prob_pos_isotonic = clf_isotonic.predict_proba(x_train_data)[:, 1]"
   ]
  },
  {
   "cell_type": "code",
   "execution_count": 26,
   "metadata": {},
   "outputs": [
    {
     "data": {
      "image/png": "[encoded data removed]",
      "text/plain": [
       "<matplotlib.figure.Figure at 0x1d84bf0d668>"
      ]
     },
     "metadata": {},
     "output_type": "display_data"
    }
   ],
   "source": [
    "y_pred_train=model.predict_proba(x_train_data)\n",
    "fpr, tpr, threshold = metrics.roc_curve(y_train, prob_pos_isotonic)\n",
    "roc_auc = metrics.auc(fpr, tpr)\n",
    "\n",
    "# \n",
    "import matplotlib.pyplot as plt\n",
    "plt.title('Receiver Operating Characteristic')\n",
    "plt.plot(fpr, tpr, 'b', label = 'AUC = %0.2f' % roc_auc)\n",
    "plt.legend(loc = 'best')\n",
    "plt.plot([0, 1], [0, 1],'r--')\n",
    "plt.xlim([0, 1])\n",
    "plt.ylim([0, 1])\n",
    "plt.ylabel('True Positive Rate')\n",
    "plt.xlabel('False Positive Rate')\n",
    "plt.show()"
   ]
  },
  {
   "cell_type": "markdown",
   "metadata": {
    "colab_type": "text",
    "id": "jzsYaF1OBjVh"
   },
   "source": [
    " # PLOTTING THE ROC CURVE FOR  TEST DATA"
   ]
  },
  {
   "cell_type": "code",
   "execution_count": 28,
   "metadata": {
    "colab": {
     "base_uri": "https://localhost:8080/",
     "height": 375
    },
    "colab_type": "code",
    "executionInfo": {
     "elapsed": 12113,
     "status": "ok",
     "timestamp": 1548789777722,
     "user": {
      "displayName": "mayank aggarwal",
      "photoUrl": "",
      "userId": "04107947634097457088"
     },
     "user_tz": -330
    },
    "id": "XClJpQT2Caf3",
    "outputId": "98f26de1-8ef8-4684-f931-cf10f9a64637"
   },
   "outputs": [
    {
     "data": {
      "image/png": "[encoded data removed]",
      "text/plain": [
       "<matplotlib.figure.Figure at 0x1d84c048710>"
      ]
     },
     "metadata": {},
     "output_type": "display_data"
    }
   ],
   "source": [
    "prob_pos_isotonic = clf_isotonic.predict_proba(x_test_data)[:, 1]\n",
    "fpr, tpr, threshold = metrics.roc_curve(y_test, prob_pos_isotonic)\n",
    "roc_auc = metrics.auc(fpr, tpr)\n",
    "\n",
    "# \n",
    "import matplotlib.pyplot as plt\n",
    "plt.title('Receiver Operating Characteristic')\n",
    "plt.plot(fpr, tpr, 'b', label = 'AUC = %0.2f' % roc_auc)\n",
    "plt.legend(loc = 'best')\n",
    "plt.plot([0, 1], [0, 1],'r--')\n",
    "plt.xlim([0, 1])\n",
    "plt.ylim([0, 1])\n",
    "plt.ylabel('True Positive Rate')\n",
    "plt.xlabel('False Positive Rate')\n",
    "plt.show()"
   ]
  },
  {
   "cell_type": "code",
   "execution_count": 29,
   "metadata": {
    "colab": {
     "base_uri": "https://localhost:8080/",
     "height": 34
    },
    "colab_type": "code",
    "executionInfo": {
     "elapsed": 11769,
     "status": "ok",
     "timestamp": 1548789777735,
     "user": {
      "displayName": "mayank aggarwal",
      "photoUrl": "",
      "userId": "04107947634097457088"
     },
     "user_tz": -330
    },
    "id": "LKVCQxCFChgm",
    "outputId": "7b1c4bef-406b-4456-a5bc-4212ce86947e"
   },
   "outputs": [
    {
     "name": "stdout",
     "output_type": "stream",
     "text": [
      "FROM ABOVE PLOT,AUC_SCORE IS FOUND AS  0.875555404483\n"
     ]
    }
   ],
   "source": [
    "print(\"FROM ABOVE PLOT,AUC_SCORE IS FOUND AS \",roc_auc)"
   ]
  },
  {
   "cell_type": "markdown",
   "metadata": {
    "colab_type": "text",
    "id": "x-PApaqWjPoZ"
   },
   "source": [
    " # REPRESENTING TOP IMPORTANT FEATURES USING WORDCLOUD LIBRARY"
   ]
  },
  {
   "cell_type": "code",
   "execution_count": 28,
   "metadata": {
    "colab": {
     "base_uri": "https://localhost:8080/",
     "height": 52
    },
    "colab_type": "code",
    "executionInfo": {
     "elapsed": 10628,
     "status": "ok",
     "timestamp": 1548789777739,
     "user": {
      "displayName": "mayank aggarwal",
      "photoUrl": "",
      "userId": "04107947634097457088"
     },
     "user_tz": -330
    },
    "id": "ozGbeexSFgiK",
    "outputId": "09649214-a477-448e-99a9-f73c531fb2f9"
   },
   "outputs": [
    {
     "name": "stdout",
     "output_type": "stream",
     "text": [
      "[ 0.00154205  0.00072253 -0.00089986 ... -0.00020845  0.00526312\n",
      "  0.00421044]\n"
     ]
    }
   ],
   "source": [
    "z=sgd.coef_[0]#getting the wieght of the vector \n",
    "print(z)#printing the wieght of the vector"
   ]
  },
  {
   "cell_type": "code",
   "execution_count": 29,
   "metadata": {
    "colab": {
     "base_uri": "https://localhost:8080/",
     "height": 34
    },
    "colab_type": "code",
    "executionInfo": {
     "elapsed": 10039,
     "status": "ok",
     "timestamp": 1548789777747,
     "user": {
      "displayName": "mayank aggarwal",
      "photoUrl": "",
      "userId": "04107947634097457088"
     },
     "user_tz": -330
    },
    "id": "9YBByKtsFgb2",
    "outputId": "834017d9-9a91-4b37-8717-076a0f0fec22"
   },
   "outputs": [
    {
     "name": "stdout",
     "output_type": "stream",
     "text": [
      "shape of wieght vector is: (10917,)\n"
     ]
    }
   ],
   "source": [
    "a=z.argsort()\n",
    "print('shape of wieght vector is:',a.shape)\n",
    "top_30_positive=np.take(vectorizer.get_feature_names(),a[10887:])\n",
    "top_30_negative=np.take(vectorizer.get_feature_names(),a[:30])"
   ]
  },
  {
   "cell_type": "code",
   "execution_count": 30,
   "metadata": {
    "colab": {
     "base_uri": "https://localhost:8080/",
     "height": 158
    },
    "colab_type": "code",
    "executionInfo": {
     "elapsed": 9623,
     "status": "ok",
     "timestamp": 1548789777749,
     "user": {
      "displayName": "mayank aggarwal",
      "photoUrl": "",
      "userId": "04107947634097457088"
     },
     "user_tz": -330
    },
    "id": "TIAteFvhFgV3",
    "outputId": "25714106-b1ed-4a85-eaa9-5867a5def637"
   },
   "outputs": [
    {
     "name": "stdout",
     "output_type": "stream",
     "text": [
      "['flavor' 'addict' 'store' 'happi' 'ever' 'yummi' 'right' 'keep' 'make'\n",
      " 'fast' 'enjoy' 'price' 'quick' 'high' 'use' 'thank' 'snack' 'tasti'\n",
      " 'easi' 'find' 'wonder' 'nice' 'perfect' 'excel' 'favorit' 'delici' 'best'\n",
      " 'good' 'love' 'great']\n",
      "['disappoint' 'worst' 'terribl' 'aw' 'unfortun' 'threw' 'mayb' 'horribl'\n",
      " 'bad' 'return' 'money' 'wors' 'thought' 'wast' 'bland' 'stale' 'refund'\n",
      " 'hope' 'sorri' 'vomit' 'unpleas' 'tasteless' 'suppos' 'poor' 'didnt'\n",
      " 'lack' 'disgust' 'gross' 'guess' 'descript']\n"
     ]
    }
   ],
   "source": [
    "print(top_30_positive)#TOP 30 POSITIVE WORDS\n",
    "print(top_30_negative)#TOP 30 NEGATIVE WORDS"
   ]
  },
  {
   "cell_type": "code",
   "execution_count": 34,
   "metadata": {
    "colab": {
     "base_uri": "https://localhost:8080/",
     "height": 415
    },
    "colab_type": "code",
    "executionInfo": {
     "elapsed": 12226,
     "status": "ok",
     "timestamp": 1548789780803,
     "user": {
      "displayName": "mayank aggarwal",
      "photoUrl": "",
      "userId": "04107947634097457088"
     },
     "user_tz": -330
    },
    "id": "cQCVeuhVQFtC",
    "outputId": "6fda6eb4-420f-482c-cff2-69d150ab2116"
   },
   "outputs": [
    {
     "data": {
      "image/png": "[encoded data removed]",
      "text/plain": [
       "<matplotlib.figure.Figure at 0x7fada9131fd0>"
      ]
     },
     "metadata": {},
     "output_type": "display_data"
    }
   ],
   "source": [
    "from wordcloud import WordCloud #here we are printing the top features using wordcloud library\n",
    "import matplotlib.pyplot as plt\n",
    "wordcloud = WordCloud(width = 1500, height = 1000, \n",
    "                background_color ='white', \n",
    "                 \n",
    "                min_font_size = 10).generate(str(top_30_positive)) \n",
    "  \n",
    "# plot the WordCloud image                        \n",
    "plt.figure(figsize = (8, 8), facecolor = None) \n",
    "plt.imshow(wordcloud) \n",
    "plt.axis(\"off\") \n",
    "plt.tight_layout(pad = 0) \n",
    "  \n",
    "plt.show() "
   ]
  },
  {
   "cell_type": "code",
   "execution_count": 35,
   "metadata": {
    "colab": {
     "base_uri": "https://localhost:8080/",
     "height": 415
    },
    "colab_type": "code",
    "executionInfo": {
     "elapsed": 11577,
     "status": "ok",
     "timestamp": 1548789780812,
     "user": {
      "displayName": "mayank aggarwal",
      "photoUrl": "",
      "userId": "04107947634097457088"
     },
     "user_tz": -330
    },
    "id": "Mpf026cvQTN5",
    "outputId": "716260fb-90e7-4f9e-8a9e-5a375272a34f"
   },
   "outputs": [
    {
     "data": {
      "image/png": "[encoded data removed]",
      "text/plain": [
       "<matplotlib.figure.Figure at 0x7fada4c3f278>"
      ]
     },
     "metadata": {},
     "output_type": "display_data"
    }
   ],
   "source": [
    "from wordcloud import WordCloud #here we are printing the top features using wordcloud library\n",
    "import matplotlib.pyplot as plt\n",
    "wordcloud = WordCloud(width = 1500, height = 1000, \n",
    "                background_color ='white',\n",
    "                min_font_size = 10).generate(str(top_30_negative)) \n",
    "  \n",
    "# plot the WordCloud image                        \n",
    "plt.figure(figsize = (8, 8), facecolor = None) \n",
    "plt.imshow(wordcloud) \n",
    "plt.axis(\"off\") \n",
    "plt.tight_layout(pad = 0) \n",
    "  \n",
    "plt.show() "
   ]
  },
  {
   "cell_type": "markdown",
   "metadata": {
    "colab_type": "text",
    "id": "dvwK3vfmQWjs"
   },
   "source": [
    " # USING BEST HYPERPARAMETER VALUE ON TEST DATA AND PLOTTING THE CONFUSION MATRIX WITH HEATMAP"
   ]
  },
  {
   "cell_type": "code",
   "execution_count": 30,
   "metadata": {
    "colab": {
     "base_uri": "https://localhost:8080/",
     "height": 511
    },
    "colab_type": "code",
    "executionInfo": {
     "elapsed": 11894,
     "status": "ok",
     "timestamp": 1548789782272,
     "user": {
      "displayName": "mayank aggarwal",
      "photoUrl": "",
      "userId": "04107947634097457088"
     },
     "user_tz": -330
    },
    "id": "Ge4vBZmdQUR9",
    "outputId": "e3a2f320-3aa6-445e-f30c-49b0a0a79d4c"
   },
   "outputs": [
    {
     "name": "stdout",
     "output_type": "stream",
     "text": [
      "Accuracy on test set: 91.315%\n",
      "Precision on test set: 0.923\n",
      "Recall on test set: 0.983\n",
      "F1-Score on test set: 0.952\n",
      "Confusion Matrix of test set:\n",
      " [ [TN  FP]\n",
      " [FN TP] ]\n",
      "\n"
     ]
    },
    {
     "data": {
      "image/png": "[encoded data removed]",
      "text/plain": [
       "<matplotlib.figure.Figure at 0x1d84c398128>"
      ]
     },
     "metadata": {},
     "output_type": "display_data"
    }
   ],
   "source": [
    "#Testing Accuracy on Test data  \n",
    "import seaborn as sns #importing seaborn as sns\n",
    "from sklearn.metrics import *#importing varoius metrics from sklearn\n",
    "y_pred=clf_isotonic.predict(x_test_data)\n",
    "print(\"Accuracy on test set: %0.3f%%\"%(accuracy_score(y_test, y_pred)*100))#printing accuracy\n",
    "print(\"Precision on test set: %0.3f\"%(precision_score(y_test, y_pred)))#printing precision score\n",
    "print(\"Recall on test set: %0.3f\"%(recall_score(y_test, y_pred))) #printing recall\n",
    "print(\"F1-Score on test set: %0.3f\"%(f1_score(y_test, y_pred))) \n",
    "print(\"Confusion Matrix of test set:\\n [ [TN  FP]\\n [FN TP] ]\\n\") \n",
    "df_cm = pd.DataFrame(confusion_matrix(y_test, y_pred), range(2),range(2)) #generating the heatmap for confusion matrix\n",
    "sns.set(font_scale=1.4)#for label size\n",
    "sns.heatmap(df_cm, annot=True,annot_kws={\"size\": 16}, fmt='g')\n",
    "import matplotlib.pyplot as plt\n",
    "plt.show()"
   ]
  },
  {
   "cell_type": "markdown",
   "metadata": {
    "colab_type": "text",
    "id": "25nIzRzqlPJS"
   },
   "source": [
    "# RBF KERNEL WITH BOW VECTORIZATION"
   ]
  },
  {
   "cell_type": "markdown",
   "metadata": {
    "colab_type": "text",
    "id": "vo5ZkLU8HLmu"
   },
   "source": [
    "# OBJECTIVE #\n",
    "1.<b> APPLYING SVM WITH RBF KERNEL  WITH BOW VECTORIZATION\n",
    "\n",
    "2.FINDING THE BEST HYPERPARAMETER USING GRIDSEARCHCV WITH\n",
    " TRAIN DATA AND CROSS-VALIDATION DATA BY PLOTTING THE\n",
    "RESLUTS OF  CROSS VALIDATION DATA UISNG HEATMAP\n",
    "  \n",
    " 3.PLOTTING OF ROC CURVE TO CHECK FOR THE AUC_SCORE \n",
    "  \n",
    "4.USING THE APROPRIATE VALUE OF HYPERPARAMETER ,TESTING\n",
    "ACCURACY ON TEST DATA USING F1-SCORE\n",
    "  \n",
    "5.PLOTTING THE CONFUSION MATRIX TO GET THE PRECISOIN ,RECALL\n",
    "VALUE WITH HELP OF HEATMAP\n",
    "  "
   ]
  },
  {
   "cell_type": "markdown",
   "metadata": {
    "colab_type": "text",
    "id": "KaQJD-IQDVJ2"
   },
   "source": [
    "##  RBF KERNEL IS COMPUTATIONALLY EXPENSIVE SO USING FIRST 30K POINTS ONLY"
   ]
  },
  {
   "cell_type": "code",
   "execution_count": 32,
   "metadata": {
    "colab": {
     "base_uri": "https://localhost:8080/",
     "height": 34
    },
    "colab_type": "code",
    "executionInfo": {
     "elapsed": 706,
     "status": "ok",
     "timestamp": 1548789801200,
     "user": {
      "displayName": "mayank aggarwal",
      "photoUrl": "",
      "userId": "04107947634097457088"
     },
     "user_tz": -330
    },
    "id": "iPujrxVTmNWv",
    "outputId": "a8d754cd-90f2-4e1d-cf9f-8da42a81d2c8"
   },
   "outputs": [
    {
     "data": {
      "text/html": [
       "<div>\n",
       "<style>\n",
       "    .dataframe thead tr:only-child th {\n",
       "        text-align: right;\n",
       "    }\n",
       "\n",
       "    .dataframe thead th {\n",
       "        text-align: left;\n",
       "    }\n",
       "\n",
       "    .dataframe tbody tr th {\n",
       "        vertical-align: top;\n",
       "    }\n",
       "</style>\n",
       "<table border=\"1\" class=\"dataframe\">\n",
       "  <thead>\n",
       "    <tr style=\"text-align: right;\">\n",
       "      <th></th>\n",
       "      <th>Score</th>\n",
       "      <th>CleanedText</th>\n",
       "    </tr>\n",
       "  </thead>\n",
       "  <tbody>\n",
       "    <tr>\n",
       "      <th>0</th>\n",
       "      <td>1</td>\n",
       "      <td>witti littl book make son laugh loud recit car...</td>\n",
       "    </tr>\n",
       "    <tr>\n",
       "      <th>1</th>\n",
       "      <td>1</td>\n",
       "      <td>rememb see show air televis year ago child sis...</td>\n",
       "    </tr>\n",
       "    <tr>\n",
       "      <th>2</th>\n",
       "      <td>1</td>\n",
       "      <td>beetlejuic well written movi everyth excel act...</td>\n",
       "    </tr>\n",
       "    <tr>\n",
       "      <th>3</th>\n",
       "      <td>1</td>\n",
       "      <td>twist rumplestiskin captur film star michael k...</td>\n",
       "    </tr>\n",
       "    <tr>\n",
       "      <th>4</th>\n",
       "      <td>1</td>\n",
       "      <td>twist rumplestiskin captur film star michael k...</td>\n",
       "    </tr>\n",
       "  </tbody>\n",
       "</table>\n",
       "</div>"
      ],
      "text/plain": [
       "   Score                                        CleanedText\n",
       "0      1  witti littl book make son laugh loud recit car...\n",
       "1      1  rememb see show air televis year ago child sis...\n",
       "2      1  beetlejuic well written movi everyth excel act...\n",
       "3      1  twist rumplestiskin captur film star michael k...\n",
       "4      1  twist rumplestiskin captur film star michael k..."
      ]
     },
     "execution_count": 32,
     "metadata": {},
     "output_type": "execute_result"
    }
   ],
   "source": [
    "final_data=pd.read_csv(\"C:/Users/Mayank/Desktop/final_new_data.csv\")\n",
    "#loading the preprocessed data  with 100k points into dataframe \n",
    "final_data.head()\n"
   ]
  },
  {
   "cell_type": "code",
   "execution_count": 33,
   "metadata": {
    "colab": {},
    "colab_type": "code",
    "collapsed": true,
    "id": "sTw62Tcomceg"
   },
   "outputs": [],
   "source": [
    "#spliiting the data into train and test data\n",
    "x_train,x_test,y_train,y_test=model_selection.train_test_split(final_data['CleanedText'].values,final_data['Score'].values,test_size=0.30,shuffle=False)"
   ]
  },
  {
   "cell_type": "code",
   "execution_count": 34,
   "metadata": {
    "colab": {
     "base_uri": "https://localhost:8080/",
     "height": 34
    },
    "colab_type": "code",
    "executionInfo": {
     "elapsed": 1707,
     "status": "ok",
     "timestamp": 1548790066754,
     "user": {
      "displayName": "mayank aggarwal",
      "photoUrl": "",
      "userId": "04107947634097457088"
     },
     "user_tz": -330
    },
    "id": "2EJBHzuTm5bk",
    "outputId": "b85db80e-5326-428f-95b5-9a4c811f13e8"
   },
   "outputs": [
    {
     "name": "stdout",
     "output_type": "stream",
     "text": [
      "(70000, 1000)\n"
     ]
    }
   ],
   "source": [
    "vectorizer=CountVectorizer(min_df=10,max_features=1000)#building the vertorizer with word counts equal and more then 2\n",
    "train_bow=vectorizer.fit_transform(x_train)#fitting the model on training data\n",
    "print(train_bow.shape)"
   ]
  },
  {
   "cell_type": "code",
   "execution_count": 35,
   "metadata": {
    "colab": {
     "base_uri": "https://localhost:8080/",
     "height": 34
    },
    "colab_type": "code",
    "executionInfo": {
     "elapsed": 930,
     "status": "ok",
     "timestamp": 1548790080336,
     "user": {
      "displayName": "mayank aggarwal",
      "photoUrl": "",
      "userId": "04107947634097457088"
     },
     "user_tz": -330
    },
    "id": "HeSp6hbAnKR5",
    "outputId": "d40417c0-0a7c-4c00-9e4c-4fbd856d5b83"
   },
   "outputs": [
    {
     "name": "stdout",
     "output_type": "stream",
     "text": [
      "(70000, 1000)\n"
     ]
    }
   ],
   "source": [
    "from sklearn.preprocessing import StandardScaler #standarizing the training  data  \n",
    "x_train_data=StandardScaler( with_mean=False).fit_transform(train_bow)\n",
    "print(x_train_data.shape)"
   ]
  },
  {
   "cell_type": "code",
   "execution_count": 36,
   "metadata": {
    "colab": {
     "base_uri": "https://localhost:8080/",
     "height": 52
    },
    "colab_type": "code",
    "executionInfo": {
     "elapsed": 962,
     "status": "ok",
     "timestamp": 1548790105195,
     "user": {
      "displayName": "mayank aggarwal",
      "photoUrl": "",
      "userId": "04107947634097457088"
     },
     "user_tz": -330
    },
    "id": "XgNhDYZsnv5E",
    "outputId": "c1efe561-9d43-468e-f90f-82310246c435"
   },
   "outputs": [
    {
     "name": "stdout",
     "output_type": "stream",
     "text": [
      "shape of x_test after tfidf vectorization  (30000, 1000)\n",
      "shape of x_test after standardization  (30000, 1000)\n"
     ]
    }
   ],
   "source": [
    "test_bow=vectorizer.transform(x_test)#fitting the bow model on test data\n",
    "print(\"shape of x_test after tfidf vectorization \",test_bow.shape)\n",
    "x_test_data=StandardScaler( with_mean=False).fit_transform(test_bow)#standarizing the test data\n",
    "print(\"shape of x_test after standardization \",x_test_data.shape)"
   ]
  },
  {
   "cell_type": "code",
   "execution_count": 38,
   "metadata": {
    "colab": {},
    "colab_type": "code",
    "collapsed": true,
    "id": "lA40fAhIn0gR"
   },
   "outputs": [],
   "source": [
    "#using time series split method for cross-validation score\n",
    "from sklearn.model_selection import TimeSeriesSplit\n",
    "tscv = TimeSeriesSplit(n_splits=2) \n",
    "from sklearn.svm import SVC\n",
    "from sklearn.calibration import CalibratedClassifierCV\n",
    "c_values=[10**-2,10**-1,1,10**1,10**2]#range of hyperparameter\n",
    "gamma_values=[10**-2,10**-1,1,10**1,10**2]#range of hyperparameter\n",
    "svc=SVC(class_weight='balanced',probability=True)\n",
    "tuned_para=[{'C':c_values,'gamma':gamma_values}] "
   ]
  },
  {
   "cell_type": "code",
   "execution_count": 8,
   "metadata": {
    "colab": {
     "base_uri": "https://localhost:8080/",
     "height": 52
    },
    "colab_type": "code",
    "executionInfo": {
     "elapsed": 732,
     "status": "ok",
     "timestamp": 1548790111706,
     "user": {
      "displayName": "mayank aggarwal",
      "photoUrl": "",
      "userId": "04107947634097457088"
     },
     "user_tz": -330
    },
    "id": "1lzPkBBToFgq",
    "outputId": "80804ce1-fb12-4836-f5d9-e349c2cedd17"
   },
   "outputs": [
    {
     "name": "stdout",
     "output_type": "stream",
     "text": [
      "CPU times: user 3 µs, sys: 1 µs, total: 4 µs\n",
      "Wall time: 7.63 µs\n"
     ]
    }
   ],
   "source": [
    "#applying the model of support vector machine and using gridsearchcv to find the best hyper parameter\n",
    "%time\n",
    "from sklearn.model_selection import GridSearchCV\n",
    "model = GridSearchCV(svc, tuned_para, scoring = 'f1', cv=tscv,n_jobs=-1)#building the gridsearchcv model\n",
    "\n",
    "\n"
   ]
  },
  {
   "cell_type": "code",
   "execution_count": 9,
   "metadata": {
    "colab": {},
    "colab_type": "code",
    "id": "Z-As083ZpvVO"
   },
   "outputs": [
    {
     "name": "stdout",
     "output_type": "stream",
     "text": [
      "CPU times: user 32min 10s, sys: 1.34 s, total: 32min 12s\n",
      "Wall time: 2h 4min 26s\n"
     ]
    },
    {
     "data": {
      "text/plain": [
       "GridSearchCV(cv=TimeSeriesSplit(max_train_size=None, n_splits=2),\n",
       "       error_score='raise-deprecating',\n",
       "       estimator=SVC(C=1.0, cache_size=200, class_weight='balanced', coef0=0.0,\n",
       "  decision_function_shape='ovr', degree=3, gamma='auto_deprecated',\n",
       "  kernel='rbf', max_iter=-1, probability=True, random_state=None,\n",
       "  shrinking=True, tol=0.001, verbose=False),\n",
       "       fit_params=None, iid='warn', n_jobs=-1,\n",
       "       param_grid=[{'gamma': [0.01, 0.1, 1, 10, 100], 'C': [0.01, 0.1, 1, 10, 100]}],\n",
       "       pre_dispatch='2*n_jobs', refit=True, return_train_score='warn',\n",
       "       scoring='f1', verbose=0)"
      ]
     },
     "execution_count": 9,
     "metadata": {},
     "output_type": "execute_result"
    }
   ],
   "source": [
    "%%time\n",
    "model.fit(x_train_data, y_train)#fiitting the training data"
   ]
  },
  {
   "cell_type": "code",
   "execution_count": 10,
   "metadata": {
    "colab": {
     "base_uri": "https://localhost:8080/",
     "height": 87
    },
    "colab_type": "code",
    "executionInfo": {
     "elapsed": 1299,
     "status": "ok",
     "timestamp": 1547925023447,
     "user": {
      "displayName": "mayank aggarwal",
      "photoUrl": "",
      "userId": "04107947634097457088"
     },
     "user_tz": -330
    },
    "id": "rsXj8EZZB6op",
    "outputId": "47e30a41-3397-4d2a-cfa4-c78035d8568d"
   },
   "outputs": [
    {
     "data": {
      "text/plain": [
       "SVC(C=1, cache_size=200, class_weight='balanced', coef0=0.0,\n",
       "  decision_function_shape='ovr', degree=3, gamma=0.01, kernel='rbf',\n",
       "  max_iter=-1, probability=True, random_state=None, shrinking=True,\n",
       "  tol=0.001, verbose=False)"
      ]
     },
     "execution_count": 10,
     "metadata": {},
     "output_type": "execute_result"
    }
   ],
   "source": [
    "model.best_estimator_"
   ]
  },
  {
   "cell_type": "markdown",
   "metadata": {
    "colab_type": "text",
    "id": "IjQAep1j-B_0"
   },
   "source": [
    "# BUILDING THE HEATMAP FOR CV_ERROR SCORE FOR HYPERPARAMETERS"
   ]
  },
  {
   "cell_type": "code",
   "execution_count": 11,
   "metadata": {
    "colab": {},
    "colab_type": "code",
    "collapsed": true,
    "id": "ajOV0oxn-BJN"
   },
   "outputs": [],
   "source": [
    "results=pd.DataFrame(model.cv_results_)# getting varoius cv_scores and train_scores various values of alpha given as parameter and storing it in a dataframe\n",
    "#printing the dataframe"
   ]
  },
  {
   "cell_type": "code",
   "execution_count": 12,
   "metadata": {
    "colab": {},
    "colab_type": "code",
    "id": "tudhyTXX-I3_"
   },
   "outputs": [
    {
     "data": {
      "text/html": [
       "<div>\n",
       "<table border=\"1\" class=\"dataframe\">\n",
       "  <thead>\n",
       "    <tr style=\"text-align: right;\">\n",
       "      <th></th>\n",
       "      <th>mean_fit_time</th>\n",
       "      <th>mean_score_time</th>\n",
       "      <th>mean_test_score</th>\n",
       "      <th>mean_train_score</th>\n",
       "      <th>param_C</th>\n",
       "      <th>param_gamma</th>\n",
       "      <th>params</th>\n",
       "      <th>rank_test_score</th>\n",
       "      <th>split0_test_score</th>\n",
       "      <th>split0_train_score</th>\n",
       "      <th>split1_test_score</th>\n",
       "      <th>split1_train_score</th>\n",
       "      <th>std_fit_time</th>\n",
       "      <th>std_score_time</th>\n",
       "      <th>std_test_score</th>\n",
       "      <th>std_train_score</th>\n",
       "      <th>mean_cv_error</th>\n",
       "    </tr>\n",
       "  </thead>\n",
       "  <tbody>\n",
       "    <tr>\n",
       "      <th>0</th>\n",
       "      <td>547.670137</td>\n",
       "      <td>39.501630</td>\n",
       "      <td>19.791369</td>\n",
       "      <td>0.79836</td>\n",
       "      <td>0.01</td>\n",
       "      <td>0.01</td>\n",
       "      <td>{'gamma': 0.01, 'C': 0.01}</td>\n",
       "      <td>20</td>\n",
       "      <td>0.800754</td>\n",
       "      <td>0.797561</td>\n",
       "      <td>0.803419</td>\n",
       "      <td>0.799159</td>\n",
       "      <td>381.176123</td>\n",
       "      <td>11.734715</td>\n",
       "      <td>0.001332</td>\n",
       "      <td>0.000799</td>\n",
       "      <td>19.79</td>\n",
       "    </tr>\n",
       "    <tr>\n",
       "      <th>1</th>\n",
       "      <td>605.559178</td>\n",
       "      <td>39.958722</td>\n",
       "      <td>19.791369</td>\n",
       "      <td>0.79836</td>\n",
       "      <td>0.01</td>\n",
       "      <td>0.1</td>\n",
       "      <td>{'gamma': 0.1, 'C': 0.01}</td>\n",
       "      <td>20</td>\n",
       "      <td>0.800754</td>\n",
       "      <td>0.797561</td>\n",
       "      <td>0.803419</td>\n",
       "      <td>0.799159</td>\n",
       "      <td>438.713114</td>\n",
       "      <td>14.598317</td>\n",
       "      <td>0.001332</td>\n",
       "      <td>0.000799</td>\n",
       "      <td>19.79</td>\n",
       "    </tr>\n",
       "    <tr>\n",
       "      <th>2</th>\n",
       "      <td>611.808663</td>\n",
       "      <td>40.843229</td>\n",
       "      <td>19.791369</td>\n",
       "      <td>0.79836</td>\n",
       "      <td>0.01</td>\n",
       "      <td>1</td>\n",
       "      <td>{'gamma': 1, 'C': 0.01}</td>\n",
       "      <td>20</td>\n",
       "      <td>0.800754</td>\n",
       "      <td>0.797561</td>\n",
       "      <td>0.803419</td>\n",
       "      <td>0.799159</td>\n",
       "      <td>429.069206</td>\n",
       "      <td>9.907730</td>\n",
       "      <td>0.001332</td>\n",
       "      <td>0.000799</td>\n",
       "      <td>19.79</td>\n",
       "    </tr>\n",
       "    <tr>\n",
       "      <th>3</th>\n",
       "      <td>610.442541</td>\n",
       "      <td>39.849270</td>\n",
       "      <td>19.791369</td>\n",
       "      <td>0.79836</td>\n",
       "      <td>0.01</td>\n",
       "      <td>10</td>\n",
       "      <td>{'gamma': 10, 'C': 0.01}</td>\n",
       "      <td>20</td>\n",
       "      <td>0.800754</td>\n",
       "      <td>0.797561</td>\n",
       "      <td>0.803419</td>\n",
       "      <td>0.799159</td>\n",
       "      <td>432.851733</td>\n",
       "      <td>9.413997</td>\n",
       "      <td>0.001332</td>\n",
       "      <td>0.000799</td>\n",
       "      <td>19.79</td>\n",
       "    </tr>\n",
       "    <tr>\n",
       "      <th>4</th>\n",
       "      <td>560.933864</td>\n",
       "      <td>37.374223</td>\n",
       "      <td>19.791369</td>\n",
       "      <td>0.79836</td>\n",
       "      <td>0.01</td>\n",
       "      <td>100</td>\n",
       "      <td>{'gamma': 100, 'C': 0.01}</td>\n",
       "      <td>20</td>\n",
       "      <td>0.800754</td>\n",
       "      <td>0.797561</td>\n",
       "      <td>0.803419</td>\n",
       "      <td>0.799159</td>\n",
       "      <td>407.759922</td>\n",
       "      <td>10.712822</td>\n",
       "      <td>0.001332</td>\n",
       "      <td>0.000799</td>\n",
       "      <td>19.79</td>\n",
       "    </tr>\n",
       "  </tbody>\n",
       "</table>\n",
       "</div>"
      ],
      "text/plain": [
       "   mean_fit_time  mean_score_time  mean_test_score  mean_train_score param_C  \\\n",
       "0     547.670137        39.501630        19.791369           0.79836    0.01   \n",
       "1     605.559178        39.958722        19.791369           0.79836    0.01   \n",
       "2     611.808663        40.843229        19.791369           0.79836    0.01   \n",
       "3     610.442541        39.849270        19.791369           0.79836    0.01   \n",
       "4     560.933864        37.374223        19.791369           0.79836    0.01   \n",
       "\n",
       "  param_gamma                      params  rank_test_score  split0_test_score  \\\n",
       "0        0.01  {'gamma': 0.01, 'C': 0.01}               20           0.800754   \n",
       "1         0.1   {'gamma': 0.1, 'C': 0.01}               20           0.800754   \n",
       "2           1     {'gamma': 1, 'C': 0.01}               20           0.800754   \n",
       "3          10    {'gamma': 10, 'C': 0.01}               20           0.800754   \n",
       "4         100   {'gamma': 100, 'C': 0.01}               20           0.800754   \n",
       "\n",
       "   split0_train_score  split1_test_score  split1_train_score  std_fit_time  \\\n",
       "0            0.797561           0.803419            0.799159    381.176123   \n",
       "1            0.797561           0.803419            0.799159    438.713114   \n",
       "2            0.797561           0.803419            0.799159    429.069206   \n",
       "3            0.797561           0.803419            0.799159    432.851733   \n",
       "4            0.797561           0.803419            0.799159    407.759922   \n",
       "\n",
       "   std_score_time  std_test_score  std_train_score  mean_cv_error  \n",
       "0       11.734715        0.001332         0.000799          19.79  \n",
       "1       14.598317        0.001332         0.000799          19.79  \n",
       "2        9.907730        0.001332         0.000799          19.79  \n",
       "3        9.413997        0.001332         0.000799          19.79  \n",
       "4       10.712822        0.001332         0.000799          19.79  "
      ]
     },
     "execution_count": 12,
     "metadata": {},
     "output_type": "execute_result"
    }
   ],
   "source": [
    "results['mean_test_score']=results['mean_test_score']*100 #MULTIPLYING TEST_SCORE BY 100\n",
    "results['mean_test_score']=100-results['mean_test_score']# SUBSTRACTING FROM 100\n",
    "results['mean_cv_error']=results['mean_test_score'].round(decimals=2)# ROUNDING OFF TO 2 DECIMAL PLACES \n",
    "results.head()"
   ]
  },
  {
   "cell_type": "code",
   "execution_count": 13,
   "metadata": {
    "colab": {},
    "colab_type": "code",
    "collapsed": true,
    "id": "P1i8d5XF-IrP"
   },
   "outputs": [],
   "source": [
    "test_score_heatmap=results.pivot(\t'param_C'\t,'param_gamma','mean_cv_error'\t)"
   ]
  },
  {
   "cell_type": "code",
   "execution_count": 14,
   "metadata": {
    "colab": {},
    "colab_type": "code",
    "id": "tXDf19R9-lb3"
   },
   "outputs": [
    {
     "data": {
      "text/html": [
       "<div>\n",
       "<table border=\"1\" class=\"dataframe\">\n",
       "  <thead>\n",
       "    <tr style=\"text-align: right;\">\n",
       "      <th>param_gamma</th>\n",
       "      <th>0.01</th>\n",
       "      <th>0.1</th>\n",
       "      <th>1.0</th>\n",
       "      <th>10.0</th>\n",
       "      <th>100.0</th>\n",
       "    </tr>\n",
       "    <tr>\n",
       "      <th>param_C</th>\n",
       "      <th></th>\n",
       "      <th></th>\n",
       "      <th></th>\n",
       "      <th></th>\n",
       "      <th></th>\n",
       "    </tr>\n",
       "  </thead>\n",
       "  <tbody>\n",
       "    <tr>\n",
       "      <th>0.01</th>\n",
       "      <td>19.79</td>\n",
       "      <td>19.79</td>\n",
       "      <td>19.79</td>\n",
       "      <td>19.79</td>\n",
       "      <td>19.79</td>\n",
       "    </tr>\n",
       "    <tr>\n",
       "      <th>0.10</th>\n",
       "      <td>57.86</td>\n",
       "      <td>17.84</td>\n",
       "      <td>17.84</td>\n",
       "      <td>17.84</td>\n",
       "      <td>17.84</td>\n",
       "    </tr>\n",
       "    <tr>\n",
       "      <th>1.00</th>\n",
       "      <td>14.37</td>\n",
       "      <td>15.09</td>\n",
       "      <td>15.10</td>\n",
       "      <td>15.10</td>\n",
       "      <td>15.10</td>\n",
       "    </tr>\n",
       "    <tr>\n",
       "      <th>10.00</th>\n",
       "      <td>14.41</td>\n",
       "      <td>15.09</td>\n",
       "      <td>15.10</td>\n",
       "      <td>15.10</td>\n",
       "      <td>15.10</td>\n",
       "    </tr>\n",
       "    <tr>\n",
       "      <th>100.00</th>\n",
       "      <td>14.41</td>\n",
       "      <td>15.09</td>\n",
       "      <td>15.10</td>\n",
       "      <td>15.10</td>\n",
       "      <td>15.10</td>\n",
       "    </tr>\n",
       "  </tbody>\n",
       "</table>\n",
       "</div>"
      ],
      "text/plain": [
       "param_gamma  0.01    0.10    1.00    10.00   100.00\n",
       "param_C                                            \n",
       "0.01          19.79   19.79   19.79   19.79   19.79\n",
       "0.10          57.86   17.84   17.84   17.84   17.84\n",
       "1.00          14.37   15.09   15.10   15.10   15.10\n",
       "10.00         14.41   15.09   15.10   15.10   15.10\n",
       "100.00        14.41   15.09   15.10   15.10   15.10"
      ]
     },
     "execution_count": 14,
     "metadata": {},
     "output_type": "execute_result"
    }
   ],
   "source": [
    "test_score_heatmap"
   ]
  },
  {
   "cell_type": "code",
   "execution_count": 16,
   "metadata": {
    "colab": {},
    "colab_type": "code",
    "id": "UyNgSoiV-mHb"
   },
   "outputs": [
    {
     "data": {
      "image/png": "[encoded data removed]",
      "text/plain": [
       "<matplotlib.figure.Figure at 0x7f1120528160>"
      ]
     },
     "metadata": {},
     "output_type": "display_data"
    }
   ],
   "source": [
    "import seaborn as sns\n",
    "sns.heatmap(test_score_heatmap,annot=True,annot_kws={\"size\": 10}, fmt='g',linewidths=.5)\n",
    "import matplotlib.pyplot as plt\n",
    "plt.show()"
   ]
  },
  {
   "cell_type": "markdown",
   "metadata": {
    "colab_type": "text",
    "id": "6a_rCv04-4fb"
   },
   "source": [
    "# FROM HERE BEST HPYERPARAMETERS ARE GAMMA =.01   AND  C=1"
   ]
  },
  {
   "cell_type": "code",
   "execution_count": 39,
   "metadata": {
    "colab": {},
    "colab_type": "code",
    "collapsed": true,
    "id": "S0wi404oGdVK"
   },
   "outputs": [],
   "source": [
    "svc=SVC(class_weight='balanced',probability=True,C=1,gamma=.01)"
   ]
  },
  {
   "cell_type": "markdown",
   "metadata": {},
   "source": [
    "# PLOTTING THE ROC CURVE FOR TRAIN DATA GETTING THE AUC_SCORE"
   ]
  },
  {
   "cell_type": "code",
   "execution_count": null,
   "metadata": {
    "collapsed": true
   },
   "outputs": [],
   "source": [
    "svc.fit(x_train_data,y_train)\n",
    "probs = svc.predict_proba(x_train_data)#predicting the model \n",
    "y_pred= probs[:,1]\n"
   ]
  },
  {
   "cell_type": "code",
   "execution_count": 16,
   "metadata": {},
   "outputs": [
    {
     "data": {
      "image/png": "[encoded data removed]",
      "text/plain": [
       "<matplotlib.figure.Figure at 0x1fbd8632198>"
      ]
     },
     "metadata": {},
     "output_type": "display_data"
    }
   ],
   "source": [
    "fpr, tpr, threshold = metrics.roc_curve(y_train, y_pred)\n",
    "roc_auc = metrics.auc(fpr, tpr)\n",
    "\n",
    "import matplotlib.pyplot as plt\n",
    "plt.title('Receiver Operating Characteristic')\n",
    "plt.plot(fpr, tpr, 'b', label = 'AUC = %0.2f' % roc_auc)\n",
    "plt.legend(loc = 'best')\n",
    "plt.plot([0, 1], [0, 1],'r--')\n",
    "plt.xlim([0, 1])\n",
    "plt.ylim([0, 1])\n",
    "plt.ylabel('True Positive Rate')\n",
    "plt.xlabel('False Positive Rate')\n",
    "plt.show()"
   ]
  },
  {
   "cell_type": "markdown",
   "metadata": {
    "colab_type": "text",
    "id": "kFhxFv7dFNzE"
   },
   "source": [
    "# PLOTTING THE ROC CURVE FOR TEST DATA GETTING THE AUC_SCORE"
   ]
  },
  {
   "cell_type": "code",
   "execution_count": 19,
   "metadata": {
    "colab": {},
    "colab_type": "code",
    "collapsed": true,
    "id": "nikYs4BzEE70"
   },
   "outputs": [],
   "source": [
    "svc.fit(x_train_data,y_train)\n",
    "probs = svc.predict_proba(x_test_data)#predicting the model \n",
    "y_pred=y_pred = probs[:,1]"
   ]
  },
  {
   "cell_type": "code",
   "execution_count": 20,
   "metadata": {
    "colab": {},
    "colab_type": "code",
    "id": "JCObAUhGFNUs"
   },
   "outputs": [
    {
     "data": {
      "image/png": "[encoded data removed]",
      "text/plain": [
       "<matplotlib.figure.Figure at 0x7f11204199b0>"
      ]
     },
     "metadata": {},
     "output_type": "display_data"
    }
   ],
   "source": [
    "\n",
    "fpr, tpr, threshold = metrics.roc_curve(y_test,y_pred)\n",
    "roc_auc = metrics.auc(fpr, tpr)\n",
    " \n",
    "import matplotlib.pyplot as plt\n",
    "plt.title('Receiver Operating Characteristic')\n",
    "plt.plot(fpr, tpr, 'b', label = 'AUC = %0.2f' % roc_auc)\n",
    "plt.legend(loc = 'best')\n",
    "plt.plot([0, 1], [0, 1],'r--')\n",
    "plt.xlim([0, 1])\n",
    "plt.ylim([0, 1])\n",
    "plt.ylabel('True Positive Rate')\n",
    "plt.xlabel('False Positive Rate')\n",
    "plt.show()"
   ]
  },
  {
   "cell_type": "markdown",
   "metadata": {
    "colab_type": "text",
    "id": "4drQtE5fcsM8"
   },
   "source": [
    "# USING BEST HYPERPARAMETER VALUE ON TEST DATA AND PLOTTING THE CONFUSION MATRIX WITH HEATMAP"
   ]
  },
  {
   "cell_type": "code",
   "execution_count": 21,
   "metadata": {
    "colab": {
     "base_uri": "https://localhost:8080/",
     "height": 511
    },
    "colab_type": "code",
    "executionInfo": {
     "elapsed": 16180,
     "status": "ok",
     "timestamp": 1547925038396,
     "user": {
      "displayName": "mayank aggarwal",
      "photoUrl": "",
      "userId": "04107947634097457088"
     },
     "user_tz": -330
    },
    "id": "Ox3k0a43cXmo",
    "outputId": "35cc20d6-c0dc-4a90-ce1e-772dfe292b3b"
   },
   "outputs": [
    {
     "name": "stdout",
     "output_type": "stream",
     "text": [
      "Accuracy on test set: 80.378%\n",
      "Precision on test set: 0.775\n",
      "Recall on test set: 0.992\n",
      "F1-Score on test set: 0.871\n",
      "Confusion Matrix of test set:\n",
      " [ [TN  FP]\n",
      " [FN TP] ]\n",
      "\n"
     ]
    },
    {
     "data": {
      "text/plain": [
       "<matplotlib.axes._subplots.AxesSubplot at 0x7f11203c3828>"
      ]
     },
     "execution_count": 21,
     "metadata": {},
     "output_type": "execute_result"
    }
   ],
   "source": [
    "#Testing Accuracy on Test data  \n",
    "import seaborn as sns #importing seaborn as sns\n",
    "from sklearn.metrics import *#importing varoius metrics from sklearn\n",
    "y_pred=svc.predict(x_test_data)\n",
    "print(\"Accuracy on test set: %0.3f%%\"%(accuracy_score(y_test, y_pred)*100))#printing accuracy\n",
    "print(\"Precision on test set: %0.3f\"%(precision_score(y_test, y_pred)))#printing precision score\n",
    "print(\"Recall on test set: %0.3f\"%(recall_score(y_test, y_pred))) #printing recall\n",
    "print(\"F1-Score on test set: %0.3f\"%(f1_score(y_test, y_pred))) \n",
    "print(\"Confusion Matrix of test set:\\n [ [TN  FP]\\n [FN TP] ]\\n\") \n",
    "df_cm = pd.DataFrame(confusion_matrix(y_test, y_pred), range(2),range(2)) #generating the heatmap for confusion matrix\n",
    "sns.set(font_scale=1.4)#for label size\n",
    "sns.heatmap(df_cm, annot=True,annot_kws={\"size\": 16}, fmt='g')"
   ]
  },
  {
   "cell_type": "code",
   "execution_count": 22,
   "metadata": {},
   "outputs": [
    {
     "data": {
      "image/png": "[encoded data removed]",
      "text/plain": [
       "<matplotlib.figure.Figure at 0x7f1120397278>"
      ]
     },
     "metadata": {},
     "output_type": "display_data"
    }
   ],
   "source": [
    "import matplotlib.pylab as plt\n",
    "plt.show()"
   ]
  },
  {
   "cell_type": "markdown",
   "metadata": {
    "colab_type": "text",
    "id": "7hfQFKwKuQMi"
   },
   "source": [
    "# <i>BOW VECTORIZATION WITH SUPPORT VECTOR MACHINE  WITH LINEAR KERNEL AND RBF KERNEL IS DONE<b>\n",
    " ********************************************************************************************************"
   ]
  },
  {
   "cell_type": "code",
   "execution_count": 0,
   "metadata": {
    "colab": {},
    "colab_type": "code",
    "collapsed": true,
    "id": "CyZdrheWdKSJ"
   },
   "outputs": [],
   "source": []
  }
 ],
 "metadata": {
  "colab": {
   "collapsed_sections": [],
   "name": " svm_bow.ipynb",
   "provenance": [
    {
     "file_id": "1OOWnvezB8fG4Dvu_Q0XuoP9E1Fv0iM9k",
     "timestamp": 1548789064820
    },
    {
     "file_id": "17Y959qZCaAjCSG15IRcyT8fjHIm1SO7A",
     "timestamp": 1547912102331
    }
   ],
   "version": "0.3.2"
  },
  "kernelspec": {
   "display_name": "Python 3",
   "language": "python",
   "name": "python3"
  },
  "language_info": {
   "codemirror_mode": {
    "name": "ipython",
    "version": 3
   },
   "file_extension": ".py",
   "mimetype": "text/x-python",
   "name": "python",
   "nbconvert_exporter": "python",
   "pygments_lexer": "ipython3",
   "version": "3.6.3"
  }
 },
 "nbformat": 4,
 "nbformat_minor": 1
}
