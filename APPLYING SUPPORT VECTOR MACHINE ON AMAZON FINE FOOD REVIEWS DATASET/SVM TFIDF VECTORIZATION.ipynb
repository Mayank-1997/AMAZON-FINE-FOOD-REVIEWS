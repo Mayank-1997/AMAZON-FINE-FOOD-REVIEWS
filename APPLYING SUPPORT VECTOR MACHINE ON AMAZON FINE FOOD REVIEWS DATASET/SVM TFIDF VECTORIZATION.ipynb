{
 "cells": [
  {
   "cell_type": "markdown",
   "metadata": {
    "colab_type": "text",
    "id": "_21b5wFMIGES"
   },
   "source": [
    "# OBJECTIVE \n",
    " 1. <b> APPLYING SVM  WITH TFIDF VECTORIZATION\n",
    "\n",
    "2. FINDING THE BEST HYPERPARAMETER USING GRIDSEARCHCV WITH TRAIN DATA AND CROSS-VALIDATION       DATA BY PLOTTING THE RESLUTS OF CROSS VALIDATION DATA UISNG HEATMAP\n",
    "  \n",
    "3. PLOTTING OF ROC CURVE TO CHECK FOR THE AUC_SCORE \n",
    "  \n",
    "4. USING THE APROPRIATE VALUE OF HYPERPARAMETER ,TESTING \n",
    "    ACCURACY ON TEST DATA USING AUC-SCORE\n",
    "  \n",
    "5. PLOTTING THE CONFUSION MATRIX TO GET THE PRECISOIN ,RECALL\n",
    "    VALUE WITH HELP OF HEATMAP\n",
    "  \n",
    "6. PRINTING THE TOP 30 MOST IMPORTANT FEATURES #"
   ]
  },
  {
   "cell_type": "code",
   "execution_count": 22,
   "metadata": {
    "colab": {},
    "colab_type": "code",
    "id": "5mY65CSoHLvF"
   },
   "outputs": [],
   "source": [
    "from sklearn.model_selection import train_test_split          #importing the necessary libraries\n",
    "from sklearn.model_selection import RandomizedSearchCV\n",
    "from sklearn.datasets import *\n",
    "from sklearn import naive_bayes\n",
    "from sklearn.feature_extraction.text import CountVectorizer\n",
    "from sklearn.feature_extraction.text import TfidfVectorizer\n",
    "import numpy as np\n",
    "import pandas as pd\n",
    "from sklearn import *\n",
    "import warnings\n",
    "warnings.filterwarnings(\"ignore\")"
   ]
  },
  {
   "cell_type": "code",
   "execution_count": 23,
   "metadata": {
    "colab": {},
    "colab_type": "code",
    "collapsed": true,
    "id": "th4CA4XRHRpQ"
   },
   "outputs": [],
   "source": [
    "final_processed_data=pd.read_csv(\"C:/Users/Mayank/Desktop/final_new_data.csv\")#loading the preprocessed data  with 100k points into dataframe "
   ]
  },
  {
   "cell_type": "code",
   "execution_count": 24,
   "metadata": {
    "colab": {
     "base_uri": "https://localhost:8080/",
     "height": 52
    },
    "colab_type": "code",
    "executionInfo": {
     "elapsed": 634,
     "status": "ok",
     "timestamp": 1548787497831,
     "user": {
      "displayName": "mayank aggarwal",
      "photoUrl": "",
      "userId": "04107947634097457088"
     },
     "user_tz": -330
    },
    "id": "S0i-MyocHc5X",
    "outputId": "6f9b9155-bebc-4323-f012-11a558e1202d"
   },
   "outputs": [
    {
     "name": "stdout",
     "output_type": "stream",
     "text": [
      "88521\n",
      "11479\n"
     ]
    }
   ],
   "source": [
    "# getting the counts of 0 and 1 in \"SCORE\" column to know whether it is unbalanced data or not\n",
    "count_of_1=0\n",
    "count_of_0=0\n",
    "for i in final_processed_data['Score']:\n",
    "   if i==1:\n",
    "    count_of_1+=1\n",
    "   else:\n",
    "    count_of_0+=1\n",
    "print(count_of_1)\n",
    "print(count_of_0)\n",
    "#it is an imbalanced dataset"
   ]
  },
  {
   "cell_type": "code",
   "execution_count": 25,
   "metadata": {
    "colab": {},
    "colab_type": "code",
    "collapsed": true,
    "id": "xylyFfmfHgqM"
   },
   "outputs": [],
   "source": [
    "#spliiting the data into train and test data\n",
    "x_train,x_test,y_train,y_test=model_selection.train_test_split(final_processed_data['CleanedText'].values,final_processed_data['Score'].values,test_size=0.2,shuffle=False)"
   ]
  },
  {
   "cell_type": "code",
   "execution_count": 26,
   "metadata": {
    "colab": {
     "base_uri": "https://localhost:8080/",
     "height": 34
    },
    "colab_type": "code",
    "executionInfo": {
     "elapsed": 4411,
     "status": "ok",
     "timestamp": 1548788817502,
     "user": {
      "displayName": "mayank aggarwal",
      "photoUrl": "",
      "userId": "04107947634097457088"
     },
     "user_tz": -330
    },
    "id": "G_Z21t5oHlhD",
    "outputId": "52cca153-6a8a-4dc5-f1b4-da43e0b1f4bd"
   },
   "outputs": [
    {
     "name": "stdout",
     "output_type": "stream",
     "text": [
      "(80000, 10917)\n"
     ]
    }
   ],
   "source": [
    "vectorizer=TfidfVectorizer(min_df=5)#building the vertorizer with word counts equal and more then 5\n",
    "train_tfidf=vectorizer.fit_transform(x_train)#fitting the model on training data\n",
    "print(train_tfidf.shape)"
   ]
  },
  {
   "cell_type": "code",
   "execution_count": 27,
   "metadata": {
    "colab": {
     "base_uri": "https://localhost:8080/",
     "height": 34
    },
    "colab_type": "code",
    "executionInfo": {
     "elapsed": 3135,
     "status": "ok",
     "timestamp": 1548788817508,
     "user": {
      "displayName": "mayank aggarwal",
      "photoUrl": "",
      "userId": "04107947634097457088"
     },
     "user_tz": -330
    },
    "id": "PXbTU4DqHq4a",
    "outputId": "f6fb5857-009f-4849-cf7d-c8c027f72c5e"
   },
   "outputs": [
    {
     "name": "stdout",
     "output_type": "stream",
     "text": [
      "(80000, 10917)\n"
     ]
    }
   ],
   "source": [
    "from sklearn.preprocessing import StandardScaler #standarizing the training  data  \n",
    "x_train_data=StandardScaler( with_mean=False).fit_transform(train_tfidf)\n",
    "print(x_train_data.shape)"
   ]
  },
  {
   "cell_type": "code",
   "execution_count": 28,
   "metadata": {
    "colab": {
     "base_uri": "https://localhost:8080/",
     "height": 52
    },
    "colab_type": "code",
    "executionInfo": {
     "elapsed": 2571,
     "status": "ok",
     "timestamp": 1548788817509,
     "user": {
      "displayName": "mayank aggarwal",
      "photoUrl": "",
      "userId": "04107947634097457088"
     },
     "user_tz": -330
    },
    "id": "Qy9RLhwlHuBG",
    "outputId": "de10697d-1fc5-46fe-ec6c-386f12051168"
   },
   "outputs": [
    {
     "name": "stdout",
     "output_type": "stream",
     "text": [
      "shape of x_test after tfidf vectorization  (20000, 10917)\n",
      "shape of x_test after standardization  (20000, 10917)\n"
     ]
    }
   ],
   "source": [
    "test_tfidf=vectorizer.transform(x_test)#fitting the bow model on test data\n",
    "print(\"shape of x_test after tfidf vectorization \",test_tfidf.shape)\n",
    "x_test_data=StandardScaler( with_mean=False).fit_transform(test_tfidf)#standarizing the test data\n",
    "print(\"shape of x_test after standardization \",x_test_data.shape)"
   ]
  },
  {
   "cell_type": "code",
   "execution_count": 29,
   "metadata": {
    "colab": {},
    "colab_type": "code",
    "collapsed": true,
    "id": "QweFhr0LHyZi"
   },
   "outputs": [],
   "source": [
    "#using time series split method for cross-validation score\n",
    "from sklearn.model_selection import TimeSeriesSplit\n",
    "tscv = TimeSeriesSplit(n_splits=10) \n",
    "from sklearn.linear_model import SGDClassifier\n",
    "from sklearn.calibration import CalibratedClassifierCV\n",
    "data=[10**-4,10**-3,10**-2,10**-1,10**0,10**1,10**2,10**3,10**4]#range of hyperparameter\n",
    "\n",
    "\n",
    "sgd=SGDClassifier(loss='log',class_weight={1:0.5,0:0.5},n_jobs=-1)\n",
    "tuned_para=[{'alpha':data,'penalty':['l1','l2']}] \n"
   ]
  },
  {
   "cell_type": "code",
   "execution_count": 30,
   "metadata": {
    "colab": {
     "base_uri": "https://localhost:8080/",
     "height": 176
    },
    "colab_type": "code",
    "executionInfo": {
     "elapsed": 21949,
     "status": "ok",
     "timestamp": 1548788837884,
     "user": {
      "displayName": "mayank aggarwal",
      "photoUrl": "",
      "userId": "04107947634097457088"
     },
     "user_tz": -330
    },
    "id": "Ym2cHVNEPAbJ",
    "outputId": "a163850f-3bcf-4777-d51e-63d896c12f2c"
   },
   "outputs": [
    {
     "name": "stdout",
     "output_type": "stream",
     "text": [
      "Wall time: 0 ns\n",
      "BEST ESTIMATOR ARE SGDClassifier(alpha=0.1, average=False, class_weight={1: 0.5, 0: 0.5},\n",
      "       epsilon=0.1, eta0=0.0, fit_intercept=True, l1_ratio=0.15,\n",
      "       learning_rate='optimal', loss='log', max_iter=None, n_iter=None,\n",
      "       n_jobs=-1, penalty='l2', power_t=0.5, random_state=None,\n",
      "       shuffle=True, tol=None, verbose=0, warm_start=False)\n",
      "AUC_SCORE FOR TEST DATA IS   0.895712721155\n"
     ]
    }
   ],
   "source": [
    "#applying the model of support vector machine and using gridsearchcv to find the best hyper parameter\n",
    "%time\n",
    "from sklearn.model_selection import GridSearchCV\n",
    "model = GridSearchCV(sgd, tuned_para, scoring = 'roc_auc', cv=tscv,n_jobs=-1)#building the gridsearchcv model\n",
    "model.fit(x_train_data, y_train)#fiitting the training data\n",
    "\n",
    "print('BEST ESTIMATOR ARE',model.best_estimator_)#printing the best_estimator\n",
    "print('AUC_SCORE FOR TEST DATA IS  ',model.score(x_test_data, y_test))\n"
   ]
  },
  {
   "cell_type": "markdown",
   "metadata": {},
   "source": [
    "# PLOTTING AUC_SCORE FOR TRAIN DATA"
   ]
  },
  {
   "cell_type": "code",
   "execution_count": 31,
   "metadata": {
    "collapsed": true
   },
   "outputs": [],
   "source": [
    "sgd=SGDClassifier(loss='log',class_weight={1:0.5,0:0.5},n_jobs=-1,alpha=0.1,penalty='l2')\n",
    "from sklearn.calibration import   CalibratedClassifierCV\n",
    "clf_isotonic = CalibratedClassifierCV(sgd, cv=5, method='isotonic')\n",
    "clf_isotonic.fit(x_train_data, y_train)\n",
    "prob_pos_isotonic = clf_isotonic.predict_proba(x_train_data)[:, 1]"
   ]
  },
  {
   "cell_type": "code",
   "execution_count": 32,
   "metadata": {},
   "outputs": [
    {
     "data": {
      "image/png": "[encoded data removed]",
      "text/plain": [
       "<matplotlib.figure.Figure at 0x1efaac957f0>"
      ]
     },
     "metadata": {},
     "output_type": "display_data"
    }
   ],
   "source": [
    "y_pred_train=model.predict_proba(x_train_data)\n",
    "fpr, tpr, threshold = metrics.roc_curve(y_train, prob_pos_isotonic)\n",
    "roc_auc = metrics.auc(fpr, tpr)\n",
    "\n",
    "# \n",
    "import matplotlib.pyplot as plt\n",
    "plt.title('Receiver Operating Characteristic')\n",
    "plt.plot(fpr, tpr, 'b', label = 'AUC = %0.2f' % roc_auc)\n",
    "plt.legend(loc = 'best')\n",
    "plt.plot([0, 1], [0, 1],'r--')\n",
    "plt.xlim([0, 1])\n",
    "plt.ylim([0, 1])\n",
    "plt.ylabel('True Positive Rate')\n",
    "plt.xlabel('False Positive Rate')\n",
    "plt.show()"
   ]
  },
  {
   "cell_type": "code",
   "execution_count": 18,
   "metadata": {},
   "outputs": [
    {
     "name": "stdout",
     "output_type": "stream",
     "text": [
      "AUC_SCORE FOR TRAIN DATA IS 96.8082395135\n"
     ]
    }
   ],
   "source": [
    "print(\"AUC_SCORE FOR TRAIN DATA IS\",roc_auc*100)"
   ]
  },
  {
   "cell_type": "code",
   "execution_count": 17,
   "metadata": {
    "colab": {
     "base_uri": "https://localhost:8080/",
     "height": 1536
    },
    "colab_type": "code",
    "executionInfo": {
     "elapsed": 21467,
     "status": "ok",
     "timestamp": 1548788837886,
     "user": {
      "displayName": "mayank aggarwal",
      "photoUrl": "",
      "userId": "04107947634097457088"
     },
     "user_tz": -330
    },
    "id": "l-Xqmdy02trE",
    "outputId": "6f4d796c-631d-4c39-a552-2bc6d8b0fa3a"
   },
   "outputs": [
    {
     "data": {
      "text/html": [
       "<div>\n",
       "<style scoped>\n",
       "    .dataframe tbody tr th:only-of-type {\n",
       "        vertical-align: middle;\n",
       "    }\n",
       "\n",
       "    .dataframe tbody tr th {\n",
       "        vertical-align: top;\n",
       "    }\n",
       "\n",
       "    .dataframe thead th {\n",
       "        text-align: right;\n",
       "    }\n",
       "</style>\n",
       "<table border=\"1\" class=\"dataframe\">\n",
       "  <thead>\n",
       "    <tr style=\"text-align: right;\">\n",
       "      <th></th>\n",
       "      <th>mean_fit_time</th>\n",
       "      <th>mean_score_time</th>\n",
       "      <th>mean_test_score</th>\n",
       "      <th>mean_train_score</th>\n",
       "      <th>param_alpha</th>\n",
       "      <th>param_penalty</th>\n",
       "      <th>params</th>\n",
       "      <th>rank_test_score</th>\n",
       "      <th>split0_test_score</th>\n",
       "      <th>split0_train_score</th>\n",
       "      <th>...</th>\n",
       "      <th>split7_test_score</th>\n",
       "      <th>split7_train_score</th>\n",
       "      <th>split8_test_score</th>\n",
       "      <th>split8_train_score</th>\n",
       "      <th>split9_test_score</th>\n",
       "      <th>split9_train_score</th>\n",
       "      <th>std_fit_time</th>\n",
       "      <th>std_score_time</th>\n",
       "      <th>std_test_score</th>\n",
       "      <th>std_train_score</th>\n",
       "    </tr>\n",
       "  </thead>\n",
       "  <tbody>\n",
       "    <tr>\n",
       "      <th>0</th>\n",
       "      <td>0.217220</td>\n",
       "      <td>0.003818</td>\n",
       "      <td>0.934271</td>\n",
       "      <td>0.983597</td>\n",
       "      <td>0.0001</td>\n",
       "      <td>l1</td>\n",
       "      <td>{'alpha': 0.0001, 'penalty': 'l1'}</td>\n",
       "      <td>12</td>\n",
       "      <td>0.927624</td>\n",
       "      <td>0.998209</td>\n",
       "      <td>...</td>\n",
       "      <td>0.935089</td>\n",
       "      <td>0.977151</td>\n",
       "      <td>0.943887</td>\n",
       "      <td>0.975645</td>\n",
       "      <td>0.936486</td>\n",
       "      <td>0.975463</td>\n",
       "      <td>0.113989</td>\n",
       "      <td>0.000391</td>\n",
       "      <td>0.005491</td>\n",
       "      <td>0.007338</td>\n",
       "    </tr>\n",
       "    <tr>\n",
       "      <th>1</th>\n",
       "      <td>0.128190</td>\n",
       "      <td>0.003553</td>\n",
       "      <td>0.934151</td>\n",
       "      <td>0.988675</td>\n",
       "      <td>0.0001</td>\n",
       "      <td>l2</td>\n",
       "      <td>{'alpha': 0.0001, 'penalty': 'l2'}</td>\n",
       "      <td>13</td>\n",
       "      <td>0.933528</td>\n",
       "      <td>0.998909</td>\n",
       "      <td>...</td>\n",
       "      <td>0.936992</td>\n",
       "      <td>0.983252</td>\n",
       "      <td>0.935620</td>\n",
       "      <td>0.982797</td>\n",
       "      <td>0.936366</td>\n",
       "      <td>0.980277</td>\n",
       "      <td>0.075794</td>\n",
       "      <td>0.000135</td>\n",
       "      <td>0.004236</td>\n",
       "      <td>0.005916</td>\n",
       "    </tr>\n",
       "    <tr>\n",
       "      <th>2</th>\n",
       "      <td>0.224778</td>\n",
       "      <td>0.003738</td>\n",
       "      <td>0.933115</td>\n",
       "      <td>0.966405</td>\n",
       "      <td>0.001</td>\n",
       "      <td>l1</td>\n",
       "      <td>{'alpha': 0.001, 'penalty': 'l1'}</td>\n",
       "      <td>15</td>\n",
       "      <td>0.924175</td>\n",
       "      <td>0.986530</td>\n",
       "      <td>...</td>\n",
       "      <td>0.939354</td>\n",
       "      <td>0.959979</td>\n",
       "      <td>0.933975</td>\n",
       "      <td>0.959706</td>\n",
       "      <td>0.932638</td>\n",
       "      <td>0.956742</td>\n",
       "      <td>0.124332</td>\n",
       "      <td>0.000231</td>\n",
       "      <td>0.005105</td>\n",
       "      <td>0.008662</td>\n",
       "    </tr>\n",
       "    <tr>\n",
       "      <th>3</th>\n",
       "      <td>0.129829</td>\n",
       "      <td>0.003741</td>\n",
       "      <td>0.935490</td>\n",
       "      <td>0.989279</td>\n",
       "      <td>0.001</td>\n",
       "      <td>l2</td>\n",
       "      <td>{'alpha': 0.001, 'penalty': 'l2'}</td>\n",
       "      <td>11</td>\n",
       "      <td>0.936368</td>\n",
       "      <td>0.998987</td>\n",
       "      <td>...</td>\n",
       "      <td>0.936493</td>\n",
       "      <td>0.984408</td>\n",
       "      <td>0.932706</td>\n",
       "      <td>0.982831</td>\n",
       "      <td>0.936655</td>\n",
       "      <td>0.981861</td>\n",
       "      <td>0.076215</td>\n",
       "      <td>0.000301</td>\n",
       "      <td>0.005048</td>\n",
       "      <td>0.005626</td>\n",
       "    </tr>\n",
       "    <tr>\n",
       "      <th>4</th>\n",
       "      <td>0.187672</td>\n",
       "      <td>0.003636</td>\n",
       "      <td>0.934111</td>\n",
       "      <td>0.940754</td>\n",
       "      <td>0.01</td>\n",
       "      <td>l1</td>\n",
       "      <td>{'alpha': 0.01, 'penalty': 'l1'}</td>\n",
       "      <td>14</td>\n",
       "      <td>0.926142</td>\n",
       "      <td>0.942268</td>\n",
       "      <td>...</td>\n",
       "      <td>0.928314</td>\n",
       "      <td>0.937878</td>\n",
       "      <td>0.935542</td>\n",
       "      <td>0.941338</td>\n",
       "      <td>0.933611</td>\n",
       "      <td>0.939876</td>\n",
       "      <td>0.098650</td>\n",
       "      <td>0.000338</td>\n",
       "      <td>0.004147</td>\n",
       "      <td>0.003097</td>\n",
       "    </tr>\n",
       "    <tr>\n",
       "      <th>5</th>\n",
       "      <td>0.129374</td>\n",
       "      <td>0.003852</td>\n",
       "      <td>0.940891</td>\n",
       "      <td>0.990868</td>\n",
       "      <td>0.01</td>\n",
       "      <td>l2</td>\n",
       "      <td>{'alpha': 0.01, 'penalty': 'l2'}</td>\n",
       "      <td>8</td>\n",
       "      <td>0.937567</td>\n",
       "      <td>0.999143</td>\n",
       "      <td>...</td>\n",
       "      <td>0.945927</td>\n",
       "      <td>0.986149</td>\n",
       "      <td>0.942108</td>\n",
       "      <td>0.985626</td>\n",
       "      <td>0.943297</td>\n",
       "      <td>0.984306</td>\n",
       "      <td>0.079109</td>\n",
       "      <td>0.000440</td>\n",
       "      <td>0.005370</td>\n",
       "      <td>0.004805</td>\n",
       "    </tr>\n",
       "    <tr>\n",
       "      <th>6</th>\n",
       "      <td>0.204964</td>\n",
       "      <td>0.003587</td>\n",
       "      <td>0.939195</td>\n",
       "      <td>0.938931</td>\n",
       "      <td>0.1</td>\n",
       "      <td>l1</td>\n",
       "      <td>{'alpha': 0.1, 'penalty': 'l1'}</td>\n",
       "      <td>9</td>\n",
       "      <td>0.939657</td>\n",
       "      <td>0.934097</td>\n",
       "      <td>...</td>\n",
       "      <td>0.937459</td>\n",
       "      <td>0.942161</td>\n",
       "      <td>0.928906</td>\n",
       "      <td>0.930896</td>\n",
       "      <td>0.934320</td>\n",
       "      <td>0.938812</td>\n",
       "      <td>0.107682</td>\n",
       "      <td>0.000291</td>\n",
       "      <td>0.004977</td>\n",
       "      <td>0.003889</td>\n",
       "    </tr>\n",
       "    <tr>\n",
       "      <th>7</th>\n",
       "      <td>0.128476</td>\n",
       "      <td>0.003690</td>\n",
       "      <td>0.950613</td>\n",
       "      <td>0.984166</td>\n",
       "      <td>0.1</td>\n",
       "      <td>l2</td>\n",
       "      <td>{'alpha': 0.1, 'penalty': 'l2'}</td>\n",
       "      <td>1</td>\n",
       "      <td>0.946120</td>\n",
       "      <td>0.997667</td>\n",
       "      <td>...</td>\n",
       "      <td>0.952078</td>\n",
       "      <td>0.978571</td>\n",
       "      <td>0.949738</td>\n",
       "      <td>0.977920</td>\n",
       "      <td>0.952553</td>\n",
       "      <td>0.976018</td>\n",
       "      <td>0.076885</td>\n",
       "      <td>0.000232</td>\n",
       "      <td>0.003698</td>\n",
       "      <td>0.006510</td>\n",
       "    </tr>\n",
       "    <tr>\n",
       "      <th>8</th>\n",
       "      <td>0.204750</td>\n",
       "      <td>0.003510</td>\n",
       "      <td>0.941227</td>\n",
       "      <td>0.941558</td>\n",
       "      <td>1</td>\n",
       "      <td>l1</td>\n",
       "      <td>{'alpha': 1, 'penalty': 'l1'}</td>\n",
       "      <td>4</td>\n",
       "      <td>0.942793</td>\n",
       "      <td>0.936811</td>\n",
       "      <td>...</td>\n",
       "      <td>0.937696</td>\n",
       "      <td>0.942489</td>\n",
       "      <td>0.934584</td>\n",
       "      <td>0.941963</td>\n",
       "      <td>0.937231</td>\n",
       "      <td>0.941230</td>\n",
       "      <td>0.111051</td>\n",
       "      <td>0.000154</td>\n",
       "      <td>0.004467</td>\n",
       "      <td>0.001826</td>\n",
       "    </tr>\n",
       "    <tr>\n",
       "      <th>9</th>\n",
       "      <td>0.132657</td>\n",
       "      <td>0.003898</td>\n",
       "      <td>0.943775</td>\n",
       "      <td>0.958495</td>\n",
       "      <td>1</td>\n",
       "      <td>l2</td>\n",
       "      <td>{'alpha': 1, 'penalty': 'l2'}</td>\n",
       "      <td>2</td>\n",
       "      <td>0.947067</td>\n",
       "      <td>0.976773</td>\n",
       "      <td>...</td>\n",
       "      <td>0.939960</td>\n",
       "      <td>0.952482</td>\n",
       "      <td>0.938070</td>\n",
       "      <td>0.951644</td>\n",
       "      <td>0.939194</td>\n",
       "      <td>0.950152</td>\n",
       "      <td>0.075781</td>\n",
       "      <td>0.000453</td>\n",
       "      <td>0.004556</td>\n",
       "      <td>0.007839</td>\n",
       "    </tr>\n",
       "    <tr>\n",
       "      <th>10</th>\n",
       "      <td>0.211364</td>\n",
       "      <td>0.003663</td>\n",
       "      <td>0.941242</td>\n",
       "      <td>0.941578</td>\n",
       "      <td>10</td>\n",
       "      <td>l1</td>\n",
       "      <td>{'alpha': 10, 'penalty': 'l1'}</td>\n",
       "      <td>3</td>\n",
       "      <td>0.942793</td>\n",
       "      <td>0.936916</td>\n",
       "      <td>...</td>\n",
       "      <td>0.937696</td>\n",
       "      <td>0.942337</td>\n",
       "      <td>0.934584</td>\n",
       "      <td>0.941963</td>\n",
       "      <td>0.937231</td>\n",
       "      <td>0.941230</td>\n",
       "      <td>0.113720</td>\n",
       "      <td>0.000195</td>\n",
       "      <td>0.004465</td>\n",
       "      <td>0.001806</td>\n",
       "    </tr>\n",
       "    <tr>\n",
       "      <th>11</th>\n",
       "      <td>0.148843</td>\n",
       "      <td>0.003535</td>\n",
       "      <td>0.941195</td>\n",
       "      <td>0.943069</td>\n",
       "      <td>10</td>\n",
       "      <td>l2</td>\n",
       "      <td>{'alpha': 10, 'penalty': 'l2'}</td>\n",
       "      <td>6</td>\n",
       "      <td>0.942315</td>\n",
       "      <td>0.945058</td>\n",
       "      <td>...</td>\n",
       "      <td>0.937696</td>\n",
       "      <td>0.942708</td>\n",
       "      <td>0.934584</td>\n",
       "      <td>0.942153</td>\n",
       "      <td>0.937231</td>\n",
       "      <td>0.941401</td>\n",
       "      <td>0.085338</td>\n",
       "      <td>0.000197</td>\n",
       "      <td>0.004451</td>\n",
       "      <td>0.001023</td>\n",
       "    </tr>\n",
       "    <tr>\n",
       "      <th>12</th>\n",
       "      <td>0.203402</td>\n",
       "      <td>0.003696</td>\n",
       "      <td>0.753750</td>\n",
       "      <td>0.753222</td>\n",
       "      <td>100</td>\n",
       "      <td>l1</td>\n",
       "      <td>{'alpha': 100, 'penalty': 'l1'}</td>\n",
       "      <td>17</td>\n",
       "      <td>0.942793</td>\n",
       "      <td>0.936916</td>\n",
       "      <td>...</td>\n",
       "      <td>0.000000</td>\n",
       "      <td>0.000000</td>\n",
       "      <td>0.934584</td>\n",
       "      <td>0.941963</td>\n",
       "      <td>0.000000</td>\n",
       "      <td>0.000000</td>\n",
       "      <td>0.109219</td>\n",
       "      <td>0.000264</td>\n",
       "      <td>0.376897</td>\n",
       "      <td>0.376615</td>\n",
       "    </tr>\n",
       "    <tr>\n",
       "      <th>13</th>\n",
       "      <td>0.157282</td>\n",
       "      <td>0.003559</td>\n",
       "      <td>0.941189</td>\n",
       "      <td>0.942489</td>\n",
       "      <td>100</td>\n",
       "      <td>l2</td>\n",
       "      <td>{'alpha': 100, 'penalty': 'l2'}</td>\n",
       "      <td>7</td>\n",
       "      <td>0.942255</td>\n",
       "      <td>0.942351</td>\n",
       "      <td>...</td>\n",
       "      <td>0.937696</td>\n",
       "      <td>0.942494</td>\n",
       "      <td>0.934584</td>\n",
       "      <td>0.941963</td>\n",
       "      <td>0.937231</td>\n",
       "      <td>0.941230</td>\n",
       "      <td>0.086431</td>\n",
       "      <td>0.000195</td>\n",
       "      <td>0.004449</td>\n",
       "      <td>0.000833</td>\n",
       "    </tr>\n",
       "    <tr>\n",
       "      <th>14</th>\n",
       "      <td>0.201995</td>\n",
       "      <td>0.003641</td>\n",
       "      <td>0.846817</td>\n",
       "      <td>0.847370</td>\n",
       "      <td>1000</td>\n",
       "      <td>l1</td>\n",
       "      <td>{'alpha': 1000, 'penalty': 'l1'}</td>\n",
       "      <td>16</td>\n",
       "      <td>0.942793</td>\n",
       "      <td>0.936916</td>\n",
       "      <td>...</td>\n",
       "      <td>0.937696</td>\n",
       "      <td>0.942494</td>\n",
       "      <td>0.934584</td>\n",
       "      <td>0.941963</td>\n",
       "      <td>0.937231</td>\n",
       "      <td>0.941230</td>\n",
       "      <td>0.108285</td>\n",
       "      <td>0.000268</td>\n",
       "      <td>0.282306</td>\n",
       "      <td>0.282462</td>\n",
       "    </tr>\n",
       "    <tr>\n",
       "      <th>15</th>\n",
       "      <td>0.152189</td>\n",
       "      <td>0.003675</td>\n",
       "      <td>0.941196</td>\n",
       "      <td>0.942387</td>\n",
       "      <td>1000</td>\n",
       "      <td>l2</td>\n",
       "      <td>{'alpha': 1000, 'penalty': 'l2'}</td>\n",
       "      <td>5</td>\n",
       "      <td>0.942793</td>\n",
       "      <td>0.942213</td>\n",
       "      <td>...</td>\n",
       "      <td>0.937696</td>\n",
       "      <td>0.942494</td>\n",
       "      <td>0.934584</td>\n",
       "      <td>0.941963</td>\n",
       "      <td>0.937231</td>\n",
       "      <td>0.941230</td>\n",
       "      <td>0.086021</td>\n",
       "      <td>0.000336</td>\n",
       "      <td>0.004436</td>\n",
       "      <td>0.000806</td>\n",
       "    </tr>\n",
       "    <tr>\n",
       "      <th>16</th>\n",
       "      <td>0.204081</td>\n",
       "      <td>0.003541</td>\n",
       "      <td>0.658483</td>\n",
       "      <td>0.658764</td>\n",
       "      <td>10000</td>\n",
       "      <td>l1</td>\n",
       "      <td>{'alpha': 10000, 'penalty': 'l1'}</td>\n",
       "      <td>18</td>\n",
       "      <td>0.942793</td>\n",
       "      <td>0.936916</td>\n",
       "      <td>...</td>\n",
       "      <td>0.937696</td>\n",
       "      <td>0.942494</td>\n",
       "      <td>0.934584</td>\n",
       "      <td>0.941963</td>\n",
       "      <td>0.937231</td>\n",
       "      <td>0.941230</td>\n",
       "      <td>0.108821</td>\n",
       "      <td>0.000098</td>\n",
       "      <td>0.431099</td>\n",
       "      <td>0.431265</td>\n",
       "    </tr>\n",
       "    <tr>\n",
       "      <th>17</th>\n",
       "      <td>0.147448</td>\n",
       "      <td>0.003502</td>\n",
       "      <td>0.935909</td>\n",
       "      <td>0.941572</td>\n",
       "      <td>10000</td>\n",
       "      <td>l2</td>\n",
       "      <td>{'alpha': 10000, 'penalty': 'l2'}</td>\n",
       "      <td>10</td>\n",
       "      <td>0.942793</td>\n",
       "      <td>0.939248</td>\n",
       "      <td>...</td>\n",
       "      <td>0.937696</td>\n",
       "      <td>0.942494</td>\n",
       "      <td>0.934584</td>\n",
       "      <td>0.941963</td>\n",
       "      <td>0.937231</td>\n",
       "      <td>0.941230</td>\n",
       "      <td>0.078036</td>\n",
       "      <td>0.000359</td>\n",
       "      <td>0.006484</td>\n",
       "      <td>0.001648</td>\n",
       "    </tr>\n",
       "  </tbody>\n",
       "</table>\n",
       "<p>18 rows × 32 columns</p>\n",
       "</div>"
      ],
      "text/plain": [
       "    mean_fit_time  mean_score_time  mean_test_score  mean_train_score  \\\n",
       "0        0.217220         0.003818         0.934271          0.983597   \n",
       "1        0.128190         0.003553         0.934151          0.988675   \n",
       "2        0.224778         0.003738         0.933115          0.966405   \n",
       "3        0.129829         0.003741         0.935490          0.989279   \n",
       "4        0.187672         0.003636         0.934111          0.940754   \n",
       "5        0.129374         0.003852         0.940891          0.990868   \n",
       "6        0.204964         0.003587         0.939195          0.938931   \n",
       "7        0.128476         0.003690         0.950613          0.984166   \n",
       "8        0.204750         0.003510         0.941227          0.941558   \n",
       "9        0.132657         0.003898         0.943775          0.958495   \n",
       "10       0.211364         0.003663         0.941242          0.941578   \n",
       "11       0.148843         0.003535         0.941195          0.943069   \n",
       "12       0.203402         0.003696         0.753750          0.753222   \n",
       "13       0.157282         0.003559         0.941189          0.942489   \n",
       "14       0.201995         0.003641         0.846817          0.847370   \n",
       "15       0.152189         0.003675         0.941196          0.942387   \n",
       "16       0.204081         0.003541         0.658483          0.658764   \n",
       "17       0.147448         0.003502         0.935909          0.941572   \n",
       "\n",
       "   param_alpha param_penalty                              params  \\\n",
       "0       0.0001            l1  {'alpha': 0.0001, 'penalty': 'l1'}   \n",
       "1       0.0001            l2  {'alpha': 0.0001, 'penalty': 'l2'}   \n",
       "2        0.001            l1   {'alpha': 0.001, 'penalty': 'l1'}   \n",
       "3        0.001            l2   {'alpha': 0.001, 'penalty': 'l2'}   \n",
       "4         0.01            l1    {'alpha': 0.01, 'penalty': 'l1'}   \n",
       "5         0.01            l2    {'alpha': 0.01, 'penalty': 'l2'}   \n",
       "6          0.1            l1     {'alpha': 0.1, 'penalty': 'l1'}   \n",
       "7          0.1            l2     {'alpha': 0.1, 'penalty': 'l2'}   \n",
       "8            1            l1       {'alpha': 1, 'penalty': 'l1'}   \n",
       "9            1            l2       {'alpha': 1, 'penalty': 'l2'}   \n",
       "10          10            l1      {'alpha': 10, 'penalty': 'l1'}   \n",
       "11          10            l2      {'alpha': 10, 'penalty': 'l2'}   \n",
       "12         100            l1     {'alpha': 100, 'penalty': 'l1'}   \n",
       "13         100            l2     {'alpha': 100, 'penalty': 'l2'}   \n",
       "14        1000            l1    {'alpha': 1000, 'penalty': 'l1'}   \n",
       "15        1000            l2    {'alpha': 1000, 'penalty': 'l2'}   \n",
       "16       10000            l1   {'alpha': 10000, 'penalty': 'l1'}   \n",
       "17       10000            l2   {'alpha': 10000, 'penalty': 'l2'}   \n",
       "\n",
       "    rank_test_score  split0_test_score  split0_train_score       ...         \\\n",
       "0                12           0.927624            0.998209       ...          \n",
       "1                13           0.933528            0.998909       ...          \n",
       "2                15           0.924175            0.986530       ...          \n",
       "3                11           0.936368            0.998987       ...          \n",
       "4                14           0.926142            0.942268       ...          \n",
       "5                 8           0.937567            0.999143       ...          \n",
       "6                 9           0.939657            0.934097       ...          \n",
       "7                 1           0.946120            0.997667       ...          \n",
       "8                 4           0.942793            0.936811       ...          \n",
       "9                 2           0.947067            0.976773       ...          \n",
       "10                3           0.942793            0.936916       ...          \n",
       "11                6           0.942315            0.945058       ...          \n",
       "12               17           0.942793            0.936916       ...          \n",
       "13                7           0.942255            0.942351       ...          \n",
       "14               16           0.942793            0.936916       ...          \n",
       "15                5           0.942793            0.942213       ...          \n",
       "16               18           0.942793            0.936916       ...          \n",
       "17               10           0.942793            0.939248       ...          \n",
       "\n",
       "    split7_test_score  split7_train_score  split8_test_score  \\\n",
       "0            0.935089            0.977151           0.943887   \n",
       "1            0.936992            0.983252           0.935620   \n",
       "2            0.939354            0.959979           0.933975   \n",
       "3            0.936493            0.984408           0.932706   \n",
       "4            0.928314            0.937878           0.935542   \n",
       "5            0.945927            0.986149           0.942108   \n",
       "6            0.937459            0.942161           0.928906   \n",
       "7            0.952078            0.978571           0.949738   \n",
       "8            0.937696            0.942489           0.934584   \n",
       "9            0.939960            0.952482           0.938070   \n",
       "10           0.937696            0.942337           0.934584   \n",
       "11           0.937696            0.942708           0.934584   \n",
       "12           0.000000            0.000000           0.934584   \n",
       "13           0.937696            0.942494           0.934584   \n",
       "14           0.937696            0.942494           0.934584   \n",
       "15           0.937696            0.942494           0.934584   \n",
       "16           0.937696            0.942494           0.934584   \n",
       "17           0.937696            0.942494           0.934584   \n",
       "\n",
       "    split8_train_score  split9_test_score  split9_train_score  std_fit_time  \\\n",
       "0             0.975645           0.936486            0.975463      0.113989   \n",
       "1             0.982797           0.936366            0.980277      0.075794   \n",
       "2             0.959706           0.932638            0.956742      0.124332   \n",
       "3             0.982831           0.936655            0.981861      0.076215   \n",
       "4             0.941338           0.933611            0.939876      0.098650   \n",
       "5             0.985626           0.943297            0.984306      0.079109   \n",
       "6             0.930896           0.934320            0.938812      0.107682   \n",
       "7             0.977920           0.952553            0.976018      0.076885   \n",
       "8             0.941963           0.937231            0.941230      0.111051   \n",
       "9             0.951644           0.939194            0.950152      0.075781   \n",
       "10            0.941963           0.937231            0.941230      0.113720   \n",
       "11            0.942153           0.937231            0.941401      0.085338   \n",
       "12            0.941963           0.000000            0.000000      0.109219   \n",
       "13            0.941963           0.937231            0.941230      0.086431   \n",
       "14            0.941963           0.937231            0.941230      0.108285   \n",
       "15            0.941963           0.937231            0.941230      0.086021   \n",
       "16            0.941963           0.937231            0.941230      0.108821   \n",
       "17            0.941963           0.937231            0.941230      0.078036   \n",
       "\n",
       "    std_score_time  std_test_score  std_train_score  \n",
       "0         0.000391        0.005491         0.007338  \n",
       "1         0.000135        0.004236         0.005916  \n",
       "2         0.000231        0.005105         0.008662  \n",
       "3         0.000301        0.005048         0.005626  \n",
       "4         0.000338        0.004147         0.003097  \n",
       "5         0.000440        0.005370         0.004805  \n",
       "6         0.000291        0.004977         0.003889  \n",
       "7         0.000232        0.003698         0.006510  \n",
       "8         0.000154        0.004467         0.001826  \n",
       "9         0.000453        0.004556         0.007839  \n",
       "10        0.000195        0.004465         0.001806  \n",
       "11        0.000197        0.004451         0.001023  \n",
       "12        0.000264        0.376897         0.376615  \n",
       "13        0.000195        0.004449         0.000833  \n",
       "14        0.000268        0.282306         0.282462  \n",
       "15        0.000336        0.004436         0.000806  \n",
       "16        0.000098        0.431099         0.431265  \n",
       "17        0.000359        0.006484         0.001648  \n",
       "\n",
       "[18 rows x 32 columns]"
      ]
     },
     "execution_count": 17,
     "metadata": {
      "tags": []
     },
     "output_type": "execute_result"
    }
   ],
   "source": [
    "results=pd.DataFrame(model.cv_results_)# getting varoius cv_scores and train_scores various values of alpha given as parameter and storing it in a dataframe\n",
    "results#printing the dataframe"
   ]
  },
  {
   "cell_type": "code",
   "execution_count": 18,
   "metadata": {
    "colab": {
     "base_uri": "https://localhost:8080/",
     "height": 354
    },
    "colab_type": "code",
    "executionInfo": {
     "elapsed": 21008,
     "status": "ok",
     "timestamp": 1548788837887,
     "user": {
      "displayName": "mayank aggarwal",
      "photoUrl": "",
      "userId": "04107947634097457088"
     },
     "user_tz": -330
    },
    "id": "5gL7QRbrEn3F",
    "outputId": "e0d36358-91bd-478f-e6fc-a8fff367872f"
   },
   "outputs": [
    {
     "data": {
      "text/plain": [
       "0     93.427100\n",
       "1     93.415144\n",
       "2     93.311543\n",
       "3     93.549007\n",
       "4     93.411092\n",
       "5     94.089095\n",
       "6     93.919495\n",
       "7     95.061258\n",
       "8     94.122695\n",
       "9     94.377517\n",
       "10    94.124239\n",
       "11    94.119458\n",
       "12    75.374970\n",
       "13    94.118856\n",
       "14    84.681730\n",
       "15    94.119638\n",
       "16    65.848330\n",
       "17    93.590946\n",
       "Name: mean_test_score, dtype: float64"
      ]
     },
     "execution_count": 18,
     "metadata": {
      "tags": []
     },
     "output_type": "execute_result"
    }
   ],
   "source": [
    "results['mean_test_score']=results['mean_test_score']*100\n",
    "results['mean_test_score']"
   ]
  },
  {
   "cell_type": "code",
   "execution_count": 19,
   "metadata": {
    "colab": {
     "base_uri": "https://localhost:8080/",
     "height": 496
    },
    "colab_type": "code",
    "executionInfo": {
     "elapsed": 20491,
     "status": "ok",
     "timestamp": 1548788837888,
     "user": {
      "displayName": "mayank aggarwal",
      "photoUrl": "",
      "userId": "04107947634097457088"
     },
     "user_tz": -330
    },
    "id": "93qdwt2zEnw1",
    "outputId": "96835470-e346-4da7-c4d4-7a33db50a2f1"
   },
   "outputs": [
    {
     "data": {
      "text/html": [
       "<div>\n",
       "<style scoped>\n",
       "    .dataframe tbody tr th:only-of-type {\n",
       "        vertical-align: middle;\n",
       "    }\n",
       "\n",
       "    .dataframe tbody tr th {\n",
       "        vertical-align: top;\n",
       "    }\n",
       "\n",
       "    .dataframe thead th {\n",
       "        text-align: right;\n",
       "    }\n",
       "</style>\n",
       "<table border=\"1\" class=\"dataframe\">\n",
       "  <thead>\n",
       "    <tr style=\"text-align: right;\">\n",
       "      <th></th>\n",
       "      <th>mean_fit_time</th>\n",
       "      <th>mean_score_time</th>\n",
       "      <th>mean_test_score</th>\n",
       "      <th>mean_train_score</th>\n",
       "      <th>param_alpha</th>\n",
       "      <th>param_penalty</th>\n",
       "      <th>params</th>\n",
       "      <th>rank_test_score</th>\n",
       "      <th>split0_test_score</th>\n",
       "      <th>split0_train_score</th>\n",
       "      <th>...</th>\n",
       "      <th>split7_train_score</th>\n",
       "      <th>split8_test_score</th>\n",
       "      <th>split8_train_score</th>\n",
       "      <th>split9_test_score</th>\n",
       "      <th>split9_train_score</th>\n",
       "      <th>std_fit_time</th>\n",
       "      <th>std_score_time</th>\n",
       "      <th>std_test_score</th>\n",
       "      <th>std_train_score</th>\n",
       "      <th>mean_cv_error</th>\n",
       "    </tr>\n",
       "  </thead>\n",
       "  <tbody>\n",
       "    <tr>\n",
       "      <th>0</th>\n",
       "      <td>0.217220</td>\n",
       "      <td>0.003818</td>\n",
       "      <td>6.572900</td>\n",
       "      <td>0.983597</td>\n",
       "      <td>0.0001</td>\n",
       "      <td>l1</td>\n",
       "      <td>{'alpha': 0.0001, 'penalty': 'l1'}</td>\n",
       "      <td>12</td>\n",
       "      <td>0.927624</td>\n",
       "      <td>0.998209</td>\n",
       "      <td>...</td>\n",
       "      <td>0.977151</td>\n",
       "      <td>0.943887</td>\n",
       "      <td>0.975645</td>\n",
       "      <td>0.936486</td>\n",
       "      <td>0.975463</td>\n",
       "      <td>0.113989</td>\n",
       "      <td>0.000391</td>\n",
       "      <td>0.005491</td>\n",
       "      <td>0.007338</td>\n",
       "      <td>6.57</td>\n",
       "    </tr>\n",
       "    <tr>\n",
       "      <th>1</th>\n",
       "      <td>0.128190</td>\n",
       "      <td>0.003553</td>\n",
       "      <td>6.584856</td>\n",
       "      <td>0.988675</td>\n",
       "      <td>0.0001</td>\n",
       "      <td>l2</td>\n",
       "      <td>{'alpha': 0.0001, 'penalty': 'l2'}</td>\n",
       "      <td>13</td>\n",
       "      <td>0.933528</td>\n",
       "      <td>0.998909</td>\n",
       "      <td>...</td>\n",
       "      <td>0.983252</td>\n",
       "      <td>0.935620</td>\n",
       "      <td>0.982797</td>\n",
       "      <td>0.936366</td>\n",
       "      <td>0.980277</td>\n",
       "      <td>0.075794</td>\n",
       "      <td>0.000135</td>\n",
       "      <td>0.004236</td>\n",
       "      <td>0.005916</td>\n",
       "      <td>6.58</td>\n",
       "    </tr>\n",
       "    <tr>\n",
       "      <th>2</th>\n",
       "      <td>0.224778</td>\n",
       "      <td>0.003738</td>\n",
       "      <td>6.688457</td>\n",
       "      <td>0.966405</td>\n",
       "      <td>0.001</td>\n",
       "      <td>l1</td>\n",
       "      <td>{'alpha': 0.001, 'penalty': 'l1'}</td>\n",
       "      <td>15</td>\n",
       "      <td>0.924175</td>\n",
       "      <td>0.986530</td>\n",
       "      <td>...</td>\n",
       "      <td>0.959979</td>\n",
       "      <td>0.933975</td>\n",
       "      <td>0.959706</td>\n",
       "      <td>0.932638</td>\n",
       "      <td>0.956742</td>\n",
       "      <td>0.124332</td>\n",
       "      <td>0.000231</td>\n",
       "      <td>0.005105</td>\n",
       "      <td>0.008662</td>\n",
       "      <td>6.69</td>\n",
       "    </tr>\n",
       "    <tr>\n",
       "      <th>3</th>\n",
       "      <td>0.129829</td>\n",
       "      <td>0.003741</td>\n",
       "      <td>6.450993</td>\n",
       "      <td>0.989279</td>\n",
       "      <td>0.001</td>\n",
       "      <td>l2</td>\n",
       "      <td>{'alpha': 0.001, 'penalty': 'l2'}</td>\n",
       "      <td>11</td>\n",
       "      <td>0.936368</td>\n",
       "      <td>0.998987</td>\n",
       "      <td>...</td>\n",
       "      <td>0.984408</td>\n",
       "      <td>0.932706</td>\n",
       "      <td>0.982831</td>\n",
       "      <td>0.936655</td>\n",
       "      <td>0.981861</td>\n",
       "      <td>0.076215</td>\n",
       "      <td>0.000301</td>\n",
       "      <td>0.005048</td>\n",
       "      <td>0.005626</td>\n",
       "      <td>6.45</td>\n",
       "    </tr>\n",
       "    <tr>\n",
       "      <th>4</th>\n",
       "      <td>0.187672</td>\n",
       "      <td>0.003636</td>\n",
       "      <td>6.588908</td>\n",
       "      <td>0.940754</td>\n",
       "      <td>0.01</td>\n",
       "      <td>l1</td>\n",
       "      <td>{'alpha': 0.01, 'penalty': 'l1'}</td>\n",
       "      <td>14</td>\n",
       "      <td>0.926142</td>\n",
       "      <td>0.942268</td>\n",
       "      <td>...</td>\n",
       "      <td>0.937878</td>\n",
       "      <td>0.935542</td>\n",
       "      <td>0.941338</td>\n",
       "      <td>0.933611</td>\n",
       "      <td>0.939876</td>\n",
       "      <td>0.098650</td>\n",
       "      <td>0.000338</td>\n",
       "      <td>0.004147</td>\n",
       "      <td>0.003097</td>\n",
       "      <td>6.59</td>\n",
       "    </tr>\n",
       "  </tbody>\n",
       "</table>\n",
       "<p>5 rows × 33 columns</p>\n",
       "</div>"
      ],
      "text/plain": [
       "   mean_fit_time  mean_score_time  mean_test_score  mean_train_score  \\\n",
       "0       0.217220         0.003818         6.572900          0.983597   \n",
       "1       0.128190         0.003553         6.584856          0.988675   \n",
       "2       0.224778         0.003738         6.688457          0.966405   \n",
       "3       0.129829         0.003741         6.450993          0.989279   \n",
       "4       0.187672         0.003636         6.588908          0.940754   \n",
       "\n",
       "  param_alpha param_penalty                              params  \\\n",
       "0      0.0001            l1  {'alpha': 0.0001, 'penalty': 'l1'}   \n",
       "1      0.0001            l2  {'alpha': 0.0001, 'penalty': 'l2'}   \n",
       "2       0.001            l1   {'alpha': 0.001, 'penalty': 'l1'}   \n",
       "3       0.001            l2   {'alpha': 0.001, 'penalty': 'l2'}   \n",
       "4        0.01            l1    {'alpha': 0.01, 'penalty': 'l1'}   \n",
       "\n",
       "   rank_test_score  split0_test_score  split0_train_score      ...        \\\n",
       "0               12           0.927624            0.998209      ...         \n",
       "1               13           0.933528            0.998909      ...         \n",
       "2               15           0.924175            0.986530      ...         \n",
       "3               11           0.936368            0.998987      ...         \n",
       "4               14           0.926142            0.942268      ...         \n",
       "\n",
       "   split7_train_score  split8_test_score  split8_train_score  \\\n",
       "0            0.977151           0.943887            0.975645   \n",
       "1            0.983252           0.935620            0.982797   \n",
       "2            0.959979           0.933975            0.959706   \n",
       "3            0.984408           0.932706            0.982831   \n",
       "4            0.937878           0.935542            0.941338   \n",
       "\n",
       "   split9_test_score  split9_train_score  std_fit_time  std_score_time  \\\n",
       "0           0.936486            0.975463      0.113989        0.000391   \n",
       "1           0.936366            0.980277      0.075794        0.000135   \n",
       "2           0.932638            0.956742      0.124332        0.000231   \n",
       "3           0.936655            0.981861      0.076215        0.000301   \n",
       "4           0.933611            0.939876      0.098650        0.000338   \n",
       "\n",
       "   std_test_score  std_train_score  mean_cv_error  \n",
       "0        0.005491         0.007338           6.57  \n",
       "1        0.004236         0.005916           6.58  \n",
       "2        0.005105         0.008662           6.69  \n",
       "3        0.005048         0.005626           6.45  \n",
       "4        0.004147         0.003097           6.59  \n",
       "\n",
       "[5 rows x 33 columns]"
      ]
     },
     "execution_count": 19,
     "metadata": {
      "tags": []
     },
     "output_type": "execute_result"
    }
   ],
   "source": [
    "results['mean_test_score']=100-results['mean_test_score']\n",
    "results['mean_cv_error']=results['mean_test_score'].round(decimals=2)\n",
    "results.head()"
   ]
  },
  {
   "cell_type": "markdown",
   "metadata": {
    "colab_type": "text",
    "id": "hNm70O1gFB3z"
   },
   "source": [
    "# PLOTTING THE HEATMAP WITH  HYPERPARAMETERS FOR CV_ERROR SCORE "
   ]
  },
  {
   "cell_type": "code",
   "execution_count": 0,
   "metadata": {
    "colab": {},
    "colab_type": "code",
    "collapsed": true,
    "id": "ilib5vfwEntX"
   },
   "outputs": [],
   "source": [
    "test_score_heatmap=results.pivot(\t'param_alpha'\t,'param_penalty','mean_cv_error'\t)"
   ]
  },
  {
   "cell_type": "code",
   "execution_count": 21,
   "metadata": {
    "colab": {
     "base_uri": "https://localhost:8080/",
     "height": 347
    },
    "colab_type": "code",
    "executionInfo": {
     "elapsed": 18568,
     "status": "ok",
     "timestamp": 1548788837892,
     "user": {
      "displayName": "mayank aggarwal",
      "photoUrl": "",
      "userId": "04107947634097457088"
     },
     "user_tz": -330
    },
    "id": "N75mhM21Enk8",
    "outputId": "50b3be95-717d-42eb-aa81-4da00265c460"
   },
   "outputs": [
    {
     "data": {
      "text/html": [
       "<div>\n",
       "<style scoped>\n",
       "    .dataframe tbody tr th:only-of-type {\n",
       "        vertical-align: middle;\n",
       "    }\n",
       "\n",
       "    .dataframe tbody tr th {\n",
       "        vertical-align: top;\n",
       "    }\n",
       "\n",
       "    .dataframe thead th {\n",
       "        text-align: right;\n",
       "    }\n",
       "</style>\n",
       "<table border=\"1\" class=\"dataframe\">\n",
       "  <thead>\n",
       "    <tr style=\"text-align: right;\">\n",
       "      <th>param_penalty</th>\n",
       "      <th>l1</th>\n",
       "      <th>l2</th>\n",
       "    </tr>\n",
       "    <tr>\n",
       "      <th>param_alpha</th>\n",
       "      <th></th>\n",
       "      <th></th>\n",
       "    </tr>\n",
       "  </thead>\n",
       "  <tbody>\n",
       "    <tr>\n",
       "      <th>0.0001</th>\n",
       "      <td>6.57</td>\n",
       "      <td>6.58</td>\n",
       "    </tr>\n",
       "    <tr>\n",
       "      <th>0.0010</th>\n",
       "      <td>6.69</td>\n",
       "      <td>6.45</td>\n",
       "    </tr>\n",
       "    <tr>\n",
       "      <th>0.0100</th>\n",
       "      <td>6.59</td>\n",
       "      <td>5.91</td>\n",
       "    </tr>\n",
       "    <tr>\n",
       "      <th>0.1000</th>\n",
       "      <td>6.08</td>\n",
       "      <td>4.94</td>\n",
       "    </tr>\n",
       "    <tr>\n",
       "      <th>1.0000</th>\n",
       "      <td>5.88</td>\n",
       "      <td>5.62</td>\n",
       "    </tr>\n",
       "    <tr>\n",
       "      <th>10.0000</th>\n",
       "      <td>5.88</td>\n",
       "      <td>5.88</td>\n",
       "    </tr>\n",
       "    <tr>\n",
       "      <th>100.0000</th>\n",
       "      <td>24.63</td>\n",
       "      <td>5.88</td>\n",
       "    </tr>\n",
       "    <tr>\n",
       "      <th>1000.0000</th>\n",
       "      <td>15.32</td>\n",
       "      <td>5.88</td>\n",
       "    </tr>\n",
       "    <tr>\n",
       "      <th>10000.0000</th>\n",
       "      <td>34.15</td>\n",
       "      <td>6.41</td>\n",
       "    </tr>\n",
       "  </tbody>\n",
       "</table>\n",
       "</div>"
      ],
      "text/plain": [
       "param_penalty     l1    l2\n",
       "param_alpha               \n",
       "0.0001          6.57  6.58\n",
       "0.0010          6.69  6.45\n",
       "0.0100          6.59  5.91\n",
       "0.1000          6.08  4.94\n",
       "1.0000          5.88  5.62\n",
       "10.0000         5.88  5.88\n",
       "100.0000       24.63  5.88\n",
       "1000.0000      15.32  5.88\n",
       "10000.0000     34.15  6.41"
      ]
     },
     "execution_count": 21,
     "metadata": {
      "tags": []
     },
     "output_type": "execute_result"
    }
   ],
   "source": [
    "test_score_heatmap"
   ]
  },
  {
   "cell_type": "code",
   "execution_count": 22,
   "metadata": {
    "colab": {
     "base_uri": "https://localhost:8080/",
     "height": 378
    },
    "colab_type": "code",
    "executionInfo": {
     "elapsed": 19228,
     "status": "ok",
     "timestamp": 1548788838879,
     "user": {
      "displayName": "mayank aggarwal",
      "photoUrl": "",
      "userId": "04107947634097457088"
     },
     "user_tz": -330
    },
    "id": "y1grLiohEnfM",
    "outputId": "41f94b67-17fb-4fbb-cfbc-795f0941616d"
   },
   "outputs": [
    {
     "data": {
      "text/plain": [
       "<matplotlib.axes._subplots.AxesSubplot at 0x7f8d6ff33550>"
      ]
     },
     "execution_count": 22,
     "metadata": {
      "tags": []
     },
     "output_type": "execute_result"
    },
    {
     "data": {
      "image/png": "[encoded data removed]",
      "text/plain": [
       "<Figure size 576x396 with 2 Axes>"
      ]
     },
     "metadata": {
      "tags": []
     },
     "output_type": "display_data"
    }
   ],
   "source": [
    "import seaborn as sns\n",
    "sns.heatmap(test_score_heatmap,annot=True,annot_kws={\"size\": 18}, fmt='g',linewidths=.5)"
   ]
  },
  {
   "cell_type": "markdown",
   "metadata": {
    "colab_type": "text",
    "id": "jebJMIMJFNXj"
   },
   "source": [
    "# FROM HEATMAP THE BEST HYPERPARAMETER VALUES ARE FOUND TO BE PENALTY='L2' AND 'PARAM_ALPHA'=0.1"
   ]
  },
  {
   "cell_type": "markdown",
   "metadata": {
    "colab_type": "text",
    "id": "64zFfeD2FVN8"
   },
   "source": [
    "# BUILDING MODEL FOR SGD WITH CALIBRATED CLASSIFIER CV"
   ]
  },
  {
   "cell_type": "code",
   "execution_count": 19,
   "metadata": {
    "colab": {
     "base_uri": "https://localhost:8080/",
     "height": 123
    },
    "colab_type": "code",
    "executionInfo": {
     "elapsed": 17891,
     "status": "ok",
     "timestamp": 1548788839324,
     "user": {
      "displayName": "mayank aggarwal",
      "photoUrl": "",
      "userId": "04107947634097457088"
     },
     "user_tz": -330
    },
    "id": "O7gQsTruEnZK",
    "outputId": "98fd5aba-4eec-46f9-ad7d-4d6f7292b4c9"
   },
   "outputs": [
    {
     "data": {
      "text/plain": [
       "SGDClassifier(alpha=0.1, average=False, class_weight={1: 0.5, 0: 0.5},\n",
       "       epsilon=0.1, eta0=0.0, fit_intercept=True, l1_ratio=0.15,\n",
       "       learning_rate='optimal', loss='log', max_iter=None, n_iter=None,\n",
       "       n_jobs=-1, penalty='l2', power_t=0.5, random_state=None,\n",
       "       shuffle=True, tol=None, verbose=0, warm_start=False)"
      ]
     },
     "execution_count": 19,
     "metadata": {},
     "output_type": "execute_result"
    }
   ],
   "source": [
    "sgd=SGDClassifier(loss='log',class_weight={1:0.5,0:0.5},n_jobs=-1,alpha=0.1,penalty='l2')\n",
    "sgd.fit(x_train_data,y_train)"
   ]
  },
  {
   "cell_type": "code",
   "execution_count": 20,
   "metadata": {
    "colab": {
     "base_uri": "https://localhost:8080/",
     "height": 87
    },
    "colab_type": "code",
    "executionInfo": {
     "elapsed": 19659,
     "status": "ok",
     "timestamp": 1548788841822,
     "user": {
      "displayName": "mayank aggarwal",
      "photoUrl": "",
      "userId": "04107947634097457088"
     },
     "user_tz": -330
    },
    "id": "ogv0UKRIEnRU",
    "outputId": "6eaf78c2-904d-4ec7-9abc-e66955cf43ee"
   },
   "outputs": [
    {
     "name": "stdout",
     "output_type": "stream",
     "text": [
      "Brier scores: (the smaller the better)\n",
      "No calibration: 0.074\n",
      "With isotonic calibration: 0.070\n",
      "With sigmoid calibration: 0.070\n"
     ]
    }
   ],
   "source": [
    "from sklearn.metrics import brier_score_loss\n",
    "prob_pos_clf = sgd.predict_proba(x_test_data)[:, 1]\n",
    "\n",
    "# Gaussian Naive-Bayes with isotonic calibration\n",
    "from sklearn.calibration import   CalibratedClassifierCV\n",
    "clf_isotonic = CalibratedClassifierCV(sgd, cv=5, method='isotonic')\n",
    "clf_isotonic.fit(x_train_data, y_train)\n",
    "prob_pos_isotonic = clf_isotonic.predict_proba(x_test_data)[:, 1]\n",
    "\n",
    "# Gaussian Naive-Bayes with sigmoid calibration\n",
    "clf_sigmoid = CalibratedClassifierCV(sgd, cv=5, method='sigmoid')\n",
    "clf_sigmoid.fit(x_train_data, y_train)\n",
    "prob_pos_sigmoid = clf_sigmoid.predict_proba(x_test_data)[:, 1]\n",
    "\n",
    "print(\"Brier scores: (the smaller the better)\")\n",
    "\n",
    "clf_score = brier_score_loss(y_test, prob_pos_clf)\n",
    "print(\"No calibration: %1.3f\" % clf_score)\n",
    "\n",
    "\n",
    "clf_isotonic_score = brier_score_loss(y_test, prob_pos_isotonic)\n",
    "print(\"With isotonic calibration: %1.3f\" % clf_isotonic_score)\n",
    "\n",
    "clf_sigmoid_score = brier_score_loss(y_test, prob_pos_sigmoid)\n",
    "print(\"With sigmoid calibration: %1.3f\" % clf_sigmoid_score)"
   ]
  },
  {
   "cell_type": "markdown",
   "metadata": {
    "colab_type": "text",
    "id": "dMuuRBqKFjD1"
   },
   "source": [
    "# ISOTONIC CALIBRATION IS HAVING BEST VALUE  FOR CALIBRATED CLASSIFIER CV"
   ]
  },
  {
   "cell_type": "markdown",
   "metadata": {
    "colab_type": "text",
    "id": "jzsYaF1OBjVh"
   },
   "source": [
    " # PLOTTING THE ROC CURVE FOR TEST_dATA"
   ]
  },
  {
   "cell_type": "code",
   "execution_count": 25,
   "metadata": {
    "colab": {
     "base_uri": "https://localhost:8080/",
     "height": 375
    },
    "colab_type": "code",
    "executionInfo": {
     "elapsed": 17801,
     "status": "ok",
     "timestamp": 1548788841824,
     "user": {
      "displayName": "mayank aggarwal",
      "photoUrl": "",
      "userId": "04107947634097457088"
     },
     "user_tz": -330
    },
    "id": "XClJpQT2Caf3",
    "outputId": "6028ee1f-214d-4e3b-eaec-9d630c947596"
   },
   "outputs": [
    {
     "data": {
      "image/png": "[encoded data removed]",
      "text/plain": [
       "<Figure size 576x396 with 1 Axes>"
      ]
     },
     "metadata": {
      "tags": []
     },
     "output_type": "display_data"
    }
   ],
   "source": [
    "fpr, tpr, threshold = metrics.roc_curve(y_test, prob_pos_isotonic)\n",
    "roc_auc = metrics.auc(fpr, tpr)\n",
    "\n",
    "# \n",
    "import matplotlib.pyplot as plt\n",
    "plt.title('Receiver Operating Characteristic')\n",
    "plt.plot(fpr, tpr, 'b', label = 'AUC = %0.2f' % roc_auc)\n",
    "plt.legend(loc = 'best')\n",
    "plt.plot([0, 1], [0, 1],'r--')\n",
    "plt.xlim([0, 1])\n",
    "plt.ylim([0, 1])\n",
    "plt.ylabel('True Positive Rate')\n",
    "plt.xlabel('False Positive Rate')\n",
    "plt.show()"
   ]
  },
  {
   "cell_type": "code",
   "execution_count": 26,
   "metadata": {
    "colab": {
     "base_uri": "https://localhost:8080/",
     "height": 34
    },
    "colab_type": "code",
    "executionInfo": {
     "elapsed": 17102,
     "status": "ok",
     "timestamp": 1548788841825,
     "user": {
      "displayName": "mayank aggarwal",
      "photoUrl": "",
      "userId": "04107947634097457088"
     },
     "user_tz": -330
    },
    "id": "LKVCQxCFChgm",
    "outputId": "9482e3d1-a3e9-4d15-c4e0-c83ecbdd56b1"
   },
   "outputs": [
    {
     "name": "stdout",
     "output_type": "stream",
     "text": [
      "FROM ABOVE PLOT,AUC_SCORE IS FOUND AS  89.5685503387155\n"
     ]
    }
   ],
   "source": [
    "print(\"FROM ABOVE PLOT,AUC_SCORE IS FOUND AS \",roc_auc*100)"
   ]
  },
  {
   "cell_type": "markdown",
   "metadata": {
    "colab_type": "text",
    "id": "x-PApaqWjPoZ"
   },
   "source": [
    " # REPRESENTING TOP IMPORTANT FEATURES USING WORDCLOUD LIBRARY"
   ]
  },
  {
   "cell_type": "code",
   "execution_count": 27,
   "metadata": {
    "colab": {
     "base_uri": "https://localhost:8080/",
     "height": 52
    },
    "colab_type": "code",
    "executionInfo": {
     "elapsed": 15952,
     "status": "ok",
     "timestamp": 1548788841828,
     "user": {
      "displayName": "mayank aggarwal",
      "photoUrl": "",
      "userId": "04107947634097457088"
     },
     "user_tz": -330
    },
    "id": "ozGbeexSFgiK",
    "outputId": "738c553f-f5c7-4711-fa34-a27d3b742b70"
   },
   "outputs": [
    {
     "name": "stdout",
     "output_type": "stream",
     "text": [
      "[ 0.00168642  0.00163335 -0.00478886 ...  0.00215207  0.00811962\n",
      "  0.00373967]\n"
     ]
    }
   ],
   "source": [
    "z=sgd.coef_[0]#getting the wieght of the vector \n",
    "print(z)#printing the wieght of the vector"
   ]
  },
  {
   "cell_type": "code",
   "execution_count": 28,
   "metadata": {
    "colab": {
     "base_uri": "https://localhost:8080/",
     "height": 34
    },
    "colab_type": "code",
    "executionInfo": {
     "elapsed": 15431,
     "status": "ok",
     "timestamp": 1548788841829,
     "user": {
      "displayName": "mayank aggarwal",
      "photoUrl": "",
      "userId": "04107947634097457088"
     },
     "user_tz": -330
    },
    "id": "9YBByKtsFgb2",
    "outputId": "03254687-9560-4dc8-f9ad-758b1c48fc36"
   },
   "outputs": [
    {
     "name": "stdout",
     "output_type": "stream",
     "text": [
      "shape of wieght vector is: (10917,)\n"
     ]
    }
   ],
   "source": [
    "a=z.argsort()\n",
    "print('shape of wieght vector is:',a.shape)\n",
    "top_30_positive=np.take(vectorizer.get_feature_names(),a[10887:])\n",
    "top_30_negative=np.take(vectorizer.get_feature_names(),a[:30])"
   ]
  },
  {
   "cell_type": "code",
   "execution_count": 29,
   "metadata": {
    "colab": {
     "base_uri": "https://localhost:8080/",
     "height": 158
    },
    "colab_type": "code",
    "executionInfo": {
     "elapsed": 14290,
     "status": "ok",
     "timestamp": 1548788841830,
     "user": {
      "displayName": "mayank aggarwal",
      "photoUrl": "",
      "userId": "04107947634097457088"
     },
     "user_tz": -330
    },
    "id": "TIAteFvhFgV3",
    "outputId": "7fa70b6a-4a63-4bd2-ea6e-b5b70dc9ba84"
   },
   "outputs": [
    {
     "name": "stdout",
     "output_type": "stream",
     "text": [
      "['price' 'ive' 'alway' 'flavor' 'treat' 'time' 'enjoy' 'year' 'right'\n",
      " 'keep' 'quick' 'tasti' 'easi' 'thank' 'high' 'tea' 'snack' 'make'\n",
      " 'wonder' 'use' 'find' 'nice' 'perfect' 'excel' 'favorit' 'delici' 'best'\n",
      " 'good' 'love' 'great']\n",
      "['disappoint' 'worst' 'terribl' 'aw' 'threw' 'return' 'unfortun' 'horribl'\n",
      " 'mayb' 'stale' 'bad' 'wors' 'wast' 'money' 'refund' 'thought' 'bland'\n",
      " 'gross' 'vomit' 'weak' 'disgust' 'tasteless' 'didnt' 'unpleas' 'lack'\n",
      " 'sorri' 'hope' 'away' 'decept' 'suppos']\n"
     ]
    }
   ],
   "source": [
    "print(top_30_positive)#TOP 30 POSITIVE WORDS\n",
    "print(top_30_negative)#TOP 30 NEGATIVE WORDS"
   ]
  },
  {
   "cell_type": "code",
   "execution_count": 30,
   "metadata": {
    "colab": {
     "base_uri": "https://localhost:8080/",
     "height": 415
    },
    "colab_type": "code",
    "executionInfo": {
     "elapsed": 15890,
     "status": "ok",
     "timestamp": 1548788843936,
     "user": {
      "displayName": "mayank aggarwal",
      "photoUrl": "",
      "userId": "04107947634097457088"
     },
     "user_tz": -330
    },
    "id": "cQCVeuhVQFtC",
    "outputId": "87425104-0875-4ff1-899a-d71af24fab4c"
   },
   "outputs": [
    {
     "data": {
      "image/png": "[encoded data removed]",
      "text/plain": [
       "<Figure size 576x576 with 1 Axes>"
      ]
     },
     "metadata": {
      "tags": []
     },
     "output_type": "display_data"
    }
   ],
   "source": [
    "from wordcloud import WordCloud #here we are printing the top features using wordcloud library\n",
    "import matplotlib.pyplot as plt\n",
    "wordcloud = WordCloud(width = 1500, height = 1000, \n",
    "                background_color ='white', \n",
    "                 \n",
    "                min_font_size = 10).generate(str(top_30_positive)) \n",
    "  \n",
    "# plot the WordCloud image                        \n",
    "plt.figure(figsize = (8, 8), facecolor = None) \n",
    "plt.imshow(wordcloud) \n",
    "plt.axis(\"off\") \n",
    "plt.tight_layout(pad = 0) \n",
    "  \n",
    "plt.show() "
   ]
  },
  {
   "cell_type": "code",
   "execution_count": 31,
   "metadata": {
    "colab": {
     "base_uri": "https://localhost:8080/",
     "height": 415
    },
    "colab_type": "code",
    "executionInfo": {
     "elapsed": 16740,
     "status": "ok",
     "timestamp": 1548788845288,
     "user": {
      "displayName": "mayank aggarwal",
      "photoUrl": "",
      "userId": "04107947634097457088"
     },
     "user_tz": -330
    },
    "id": "Mpf026cvQTN5",
    "outputId": "bde1dab4-d6b7-4091-e430-a0dac3a17230"
   },
   "outputs": [
    {
     "data": {
      "image/png": "[encoded data removed]",
      "text/plain": [
       "<Figure size 576x576 with 1 Axes>"
      ]
     },
     "metadata": {
      "tags": []
     },
     "output_type": "display_data"
    }
   ],
   "source": [
    "from wordcloud import WordCloud #here we are printing the top features using wordcloud library\n",
    "import matplotlib.pyplot as plt\n",
    "wordcloud = WordCloud(width = 1500, height = 1000, \n",
    "                background_color ='white',\n",
    "                min_font_size = 10).generate(str(top_30_negative)) \n",
    "  \n",
    "# plot the WordCloud image                        \n",
    "plt.figure(figsize = (8, 8), facecolor = None) \n",
    "plt.imshow(wordcloud) \n",
    "plt.axis(\"off\") \n",
    "plt.tight_layout(pad = 0) \n",
    "  \n",
    "plt.show() "
   ]
  },
  {
   "cell_type": "markdown",
   "metadata": {
    "colab_type": "text",
    "id": "dvwK3vfmQWjs"
   },
   "source": [
    " # USING BEST HYPERPARAMETER VALUE ON TEST DATA AND PLOTTING THE CONFUSION MATRIX WITH HEATMAP"
   ]
  },
  {
   "cell_type": "code",
   "execution_count": 32,
   "metadata": {
    "colab": {
     "base_uri": "https://localhost:8080/",
     "height": 511
    },
    "colab_type": "code",
    "executionInfo": {
     "elapsed": 15584,
     "status": "ok",
     "timestamp": 1548788845290,
     "user": {
      "displayName": "mayank aggarwal",
      "photoUrl": "",
      "userId": "04107947634097457088"
     },
     "user_tz": -330
    },
    "id": "Ge4vBZmdQUR9",
    "outputId": "450ab236-8ddc-4668-841d-02ea334f48a3"
   },
   "outputs": [
    {
     "name": "stdout",
     "output_type": "stream",
     "text": [
      "Accuracy on test set: 90.830%\n",
      "Precision on test set: 0.919\n",
      "Recall on test set: 0.982\n",
      "F1-Score on test set: 0.949\n",
      "Confusion Matrix of test set:\n",
      " [ [TN  FP]\n",
      " [FN TP] ]\n",
      "\n"
     ]
    },
    {
     "data": {
      "text/plain": [
       "<matplotlib.axes._subplots.AxesSubplot at 0x7f8d6fcb1b38>"
      ]
     },
     "execution_count": 32,
     "metadata": {
      "tags": []
     },
     "output_type": "execute_result"
    },
    {
     "data": {
      "image/png": "[encoded data removed]",
      "text/plain": [
       "<Figure size 576x396 with 2 Axes>"
      ]
     },
     "metadata": {
      "tags": []
     },
     "output_type": "display_data"
    }
   ],
   "source": [
    "#Testing Accuracy on Test data  \n",
    "import seaborn as sns #importing seaborn as sns\n",
    "from sklearn.metrics import *#importing varoius metrics from sklearn\n",
    "y_pred=clf_isotonic.predict(x_test_data)\n",
    "print(\"Accuracy on test set: %0.3f%%\"%(accuracy_score(y_test, y_pred)*100))#printing accuracy\n",
    "print(\"Precision on test set: %0.3f\"%(precision_score(y_test, y_pred)))#printing precision score\n",
    "print(\"Recall on test set: %0.3f\"%(recall_score(y_test, y_pred))) #printing recall\n",
    "print(\"F1-Score on test set: %0.3f\"%(f1_score(y_test, y_pred))) \n",
    "print(\"Confusion Matrix of test set:\\n [ [TN  FP]\\n [FN TP] ]\\n\") \n",
    "df_cm = pd.DataFrame(confusion_matrix(y_test, y_pred), range(2),range(2)) #generating the heatmap for confusion matrix\n",
    "sns.set(font_scale=1.4)#for label size\n",
    "sns.heatmap(df_cm, annot=True,annot_kws={\"size\": 16}, fmt='g')"
   ]
  },
  {
   "cell_type": "markdown",
   "metadata": {
    "colab_type": "text",
    "id": "25nIzRzqlPJS"
   },
   "source": [
    "# RBF KERNEL WITH TFIDF VECTORIZATION"
   ]
  },
  {
   "cell_type": "markdown",
   "metadata": {
    "colab_type": "text",
    "id": "LiSQg5z-IwJh"
   },
   "source": [
    "# OBJECTIVE \n",
    " 1. <b> APPLYING SVM WITH RBF KERNEL   WITH TFIDF VECTORIZATION\n",
    "\n",
    "2. FINDING THE BEST HYPERPARAMETER USING GRIDSEARCHCV WITH TRAIN DATA AND CROSS-VALIDATION       DATA BY PLOTTING THE RESLUTS OF CROSS VALIDATION DATA UISNG HEATMAP\n",
    "  \n",
    "3. PLOTTING OF ROC CURVE TO CHECK FOR THE AUC_SCORE \n",
    "  \n",
    "4. USING THE APROPRIATE VALUE OF HYPERPARAMETER ,TESTING \n",
    "    ACCURACY ON TEST DATA USING F1-SCORE\n",
    "  \n",
    "5. PLOTTING THE CONFUSION MATRIX TO GET THE PRECISOIN ,RECALL\n",
    "    VALUE WITH HELP OF HEATMAP\n",
    "  "
   ]
  },
  {
   "cell_type": "markdown",
   "metadata": {
    "colab_type": "text",
    "id": "KaQJD-IQDVJ2"
   },
   "source": [
    "##  RBF KERNEL IS COMPUTATIONALLY EXPENSIVE SO USING FIRST 40K POINTS ONLY"
   ]
  },
  {
   "cell_type": "code",
   "execution_count": 2,
   "metadata": {
    "colab": {
     "base_uri": "https://localhost:8080/",
     "height": 34
    },
    "colab_type": "code",
    "executionInfo": {
     "elapsed": 1005,
     "status": "ok",
     "timestamp": 1548787544644,
     "user": {
      "displayName": "mayank aggarwal",
      "photoUrl": "",
      "userId": "04107947634097457088"
     },
     "user_tz": -330
    },
    "id": "iPujrxVTmNWv",
    "outputId": "63fffa32-9361-4e92-bf82-2e8e7ced572d"
   },
   "outputs": [
    {
     "data": {
      "text/html": [
       "<div>\n",
       "<table border=\"1\" class=\"dataframe\">\n",
       "  <thead>\n",
       "    <tr style=\"text-align: right;\">\n",
       "      <th></th>\n",
       "      <th>Unnamed: 0</th>\n",
       "      <th>Score</th>\n",
       "      <th>CleanedText</th>\n",
       "    </tr>\n",
       "  </thead>\n",
       "  <tbody>\n",
       "    <tr>\n",
       "      <th>0</th>\n",
       "      <td>0</td>\n",
       "      <td>1</td>\n",
       "      <td>realli like emerald nut buy smoke almond cashe...</td>\n",
       "    </tr>\n",
       "    <tr>\n",
       "      <th>1</th>\n",
       "      <td>1</td>\n",
       "      <td>1</td>\n",
       "      <td>crispi chewi intens flavor wow great ive love ...</td>\n",
       "    </tr>\n",
       "    <tr>\n",
       "      <th>2</th>\n",
       "      <td>2</td>\n",
       "      <td>1</td>\n",
       "      <td>great product fresh tast school teacher use po...</td>\n",
       "    </tr>\n",
       "    <tr>\n",
       "      <th>3</th>\n",
       "      <td>3</td>\n",
       "      <td>1</td>\n",
       "      <td>purchas along espresso ive mix two equal amoun...</td>\n",
       "    </tr>\n",
       "    <tr>\n",
       "      <th>4</th>\n",
       "      <td>4</td>\n",
       "      <td>1</td>\n",
       "      <td>yummi stuff surpris quick cook like mccann buy...</td>\n",
       "    </tr>\n",
       "  </tbody>\n",
       "</table>\n",
       "</div>"
      ],
      "text/plain": [
       "   Unnamed: 0  Score                                        CleanedText\n",
       "0           0      1  realli like emerald nut buy smoke almond cashe...\n",
       "1           1      1  crispi chewi intens flavor wow great ive love ...\n",
       "2           2      1  great product fresh tast school teacher use po...\n",
       "3           3      1  purchas along espresso ive mix two equal amoun...\n",
       "4           4      1  yummi stuff surpris quick cook like mccann buy..."
      ]
     },
     "execution_count": 2,
     "metadata": {},
     "output_type": "execute_result"
    }
   ],
   "source": [
    "final_data=pd.read_csv('final_data.csv',encoding='latin-1')# IMPORT THE DATA FILE\n",
    "final_data.head()\n"
   ]
  },
  {
   "cell_type": "code",
   "execution_count": 3,
   "metadata": {
    "colab": {},
    "colab_type": "code",
    "collapsed": true,
    "id": "sTw62Tcomceg"
   },
   "outputs": [],
   "source": [
    "#spliiting the data into train and test data\n",
    "x_train,x_test,y_train,y_test=model_selection.train_test_split(final_data['CleanedText'].values,final_data['Score'].values,test_size=0.30,shuffle=False)"
   ]
  },
  {
   "cell_type": "code",
   "execution_count": 4,
   "metadata": {
    "colab": {
     "base_uri": "https://localhost:8080/",
     "height": 34
    },
    "colab_type": "code",
    "executionInfo": {
     "elapsed": 1811,
     "status": "ok",
     "timestamp": 1548787632252,
     "user": {
      "displayName": "mayank aggarwal",
      "photoUrl": "",
      "userId": "04107947634097457088"
     },
     "user_tz": -330
    },
    "id": "2EJBHzuTm5bk",
    "outputId": "3866e8c0-4aee-4bb7-d83f-0889215495c1"
   },
   "outputs": [
    {
     "name": "stdout",
     "output_type": "stream",
     "text": [
      "(21000, 1000)\n"
     ]
    }
   ],
   "source": [
    "vectorizer=TfidfVectorizer(min_df=10,max_features=1000)#building the vertorizer with word counts equal and more then 2\n",
    "train_tfidf=vectorizer.fit_transform(x_train)#fitting the model on training data\n",
    "print(train_tfidf.shape)"
   ]
  },
  {
   "cell_type": "code",
   "execution_count": 5,
   "metadata": {
    "colab": {
     "base_uri": "https://localhost:8080/",
     "height": 34
    },
    "colab_type": "code",
    "executionInfo": {
     "elapsed": 1001,
     "status": "ok",
     "timestamp": 1548788924840,
     "user": {
      "displayName": "mayank aggarwal",
      "photoUrl": "",
      "userId": "04107947634097457088"
     },
     "user_tz": -330
    },
    "id": "HeSp6hbAnKR5",
    "outputId": "e50a9256-d778-443a-ea32-35c38dc67c2f"
   },
   "outputs": [
    {
     "name": "stdout",
     "output_type": "stream",
     "text": [
      "(21000, 1000)\n"
     ]
    }
   ],
   "source": [
    "from sklearn.preprocessing import StandardScaler #standarizing the training  data  \n",
    "x_train_data=StandardScaler( with_mean=False).fit_transform(train_tfidf)\n",
    "print(x_train_data.shape)"
   ]
  },
  {
   "cell_type": "code",
   "execution_count": 6,
   "metadata": {
    "colab": {
     "base_uri": "https://localhost:8080/",
     "height": 52
    },
    "colab_type": "code",
    "executionInfo": {
     "elapsed": 1327,
     "status": "ok",
     "timestamp": 1548788927918,
     "user": {
      "displayName": "mayank aggarwal",
      "photoUrl": "",
      "userId": "04107947634097457088"
     },
     "user_tz": -330
    },
    "id": "XgNhDYZsnv5E",
    "outputId": "4bbcc156-8263-4d2a-92e2-bc071c5fd265"
   },
   "outputs": [
    {
     "name": "stdout",
     "output_type": "stream",
     "text": [
      "shape of x_test after tfidf vectorization  (9000, 1000)\n",
      "shape of x_test after standardization  (9000, 1000)\n"
     ]
    }
   ],
   "source": [
    "test_tfidf=vectorizer.transform(x_test)#fitting the bow model on test data\n",
    "print(\"shape of x_test after tfidf vectorization \",test_tfidf.shape)\n",
    "x_test_data=StandardScaler( with_mean=False).fit_transform(test_tfidf)#standarizing the test data\n",
    "print(\"shape of x_test after standardization \",x_test_data.shape)"
   ]
  },
  {
   "cell_type": "code",
   "execution_count": 7,
   "metadata": {
    "colab": {},
    "colab_type": "code",
    "collapsed": true,
    "id": "lA40fAhIn0gR"
   },
   "outputs": [],
   "source": [
    "#using time series split method for cross-validation score\n",
    "from sklearn.model_selection import TimeSeriesSplit\n",
    "tscv = TimeSeriesSplit(n_splits=2) \n",
    "from sklearn.svm import SVC\n",
    "from sklearn.calibration import CalibratedClassifierCV\n",
    "c_values=[10**-2,10**-1,1,10**1,10**2]#range of hyperparameter\n",
    "gamma_values=[10**-2,10**-1,1,10**1,10**2]#range of hyperparameter\n",
    "svc=SVC(class_weight='balanced',probability=True)\n",
    "tuned_para=[{'C':c_values,'gamma':gamma_values}] "
   ]
  },
  {
   "cell_type": "code",
   "execution_count": 8,
   "metadata": {
    "colab": {
     "base_uri": "https://localhost:8080/",
     "height": 52
    },
    "colab_type": "code",
    "executionInfo": {
     "elapsed": 923,
     "status": "ok",
     "timestamp": 1548788963682,
     "user": {
      "displayName": "mayank aggarwal",
      "photoUrl": "",
      "userId": "04107947634097457088"
     },
     "user_tz": -330
    },
    "id": "1lzPkBBToFgq",
    "outputId": "1474e673-c06c-48e2-fc3f-dbc490d2725f"
   },
   "outputs": [
    {
     "name": "stdout",
     "output_type": "stream",
     "text": [
      "CPU times: user 4 µs, sys: 1 µs, total: 5 µs\n",
      "Wall time: 8.11 µs\n"
     ]
    }
   ],
   "source": [
    "#applying the model of support vector machine and using gridsearchcv to find the best hyper parameter\n",
    "%time\n",
    "from sklearn.model_selection import GridSearchCV\n",
    "model = GridSearchCV(svc, tuned_para, scoring = 'f1', cv=tscv,n_jobs=-1)#building the gridsearchcv model\n",
    "\n",
    "\n"
   ]
  },
  {
   "cell_type": "code",
   "execution_count": 9,
   "metadata": {
    "colab": {},
    "colab_type": "code",
    "id": "Z-As083ZpvVO"
   },
   "outputs": [
    {
     "name": "stdout",
     "output_type": "stream",
     "text": [
      "CPU times: user 33min 20s, sys: 1.16 s, total: 33min 21s\n",
      "Wall time: 2h 5min 54s\n"
     ]
    },
    {
     "data": {
      "text/plain": [
       "GridSearchCV(cv=TimeSeriesSplit(max_train_size=None, n_splits=2),\n",
       "       error_score='raise-deprecating',\n",
       "       estimator=SVC(C=1.0, cache_size=200, class_weight='balanced', coef0=0.0,\n",
       "  decision_function_shape='ovr', degree=3, gamma='auto_deprecated',\n",
       "  kernel='rbf', max_iter=-1, probability=True, random_state=None,\n",
       "  shrinking=True, tol=0.001, verbose=False),\n",
       "       fit_params=None, iid='warn', n_jobs=-1,\n",
       "       param_grid=[{'gamma': [0.01, 0.1, 1, 10, 100], 'C': [0.01, 0.1, 1, 10, 100]}],\n",
       "       pre_dispatch='2*n_jobs', refit=True, return_train_score='warn',\n",
       "       scoring='f1', verbose=0)"
      ]
     },
     "execution_count": 9,
     "metadata": {},
     "output_type": "execute_result"
    }
   ],
   "source": [
    "%%time\n",
    "model.fit(x_train_data, y_train)#fiitting the training data"
   ]
  },
  {
   "cell_type": "code",
   "execution_count": 10,
   "metadata": {
    "colab": {
     "base_uri": "https://localhost:8080/",
     "height": 87
    },
    "colab_type": "code",
    "executionInfo": {
     "elapsed": 1299,
     "status": "ok",
     "timestamp": 1547925023447,
     "user": {
      "displayName": "mayank aggarwal",
      "photoUrl": "",
      "userId": "04107947634097457088"
     },
     "user_tz": -330
    },
    "id": "rsXj8EZZB6op",
    "outputId": "47e30a41-3397-4d2a-cfa4-c78035d8568d"
   },
   "outputs": [
    {
     "data": {
      "text/plain": [
       "SVC(C=1, cache_size=200, class_weight='balanced', coef0=0.0,\n",
       "  decision_function_shape='ovr', degree=3, gamma=0.01, kernel='rbf',\n",
       "  max_iter=-1, probability=True, random_state=None, shrinking=True,\n",
       "  tol=0.001, verbose=False)"
      ]
     },
     "execution_count": 10,
     "metadata": {},
     "output_type": "execute_result"
    }
   ],
   "source": [
    "model.best_estimator_"
   ]
  },
  {
   "cell_type": "markdown",
   "metadata": {
    "colab_type": "text",
    "id": "IjQAep1j-B_0"
   },
   "source": [
    "# BUILDING THE HEATMAP FOR CV_ERROR SCORE FOR HYPERPARAMETERS"
   ]
  },
  {
   "cell_type": "code",
   "execution_count": 11,
   "metadata": {
    "colab": {},
    "colab_type": "code",
    "id": "ajOV0oxn-BJN"
   },
   "outputs": [
    {
     "data": {
      "text/html": [
       "<div>\n",
       "<table border=\"1\" class=\"dataframe\">\n",
       "  <thead>\n",
       "    <tr style=\"text-align: right;\">\n",
       "      <th></th>\n",
       "      <th>mean_fit_time</th>\n",
       "      <th>mean_score_time</th>\n",
       "      <th>mean_test_score</th>\n",
       "      <th>mean_train_score</th>\n",
       "      <th>param_C</th>\n",
       "      <th>param_gamma</th>\n",
       "      <th>params</th>\n",
       "      <th>rank_test_score</th>\n",
       "      <th>split0_test_score</th>\n",
       "      <th>split0_train_score</th>\n",
       "      <th>split1_test_score</th>\n",
       "      <th>split1_train_score</th>\n",
       "      <th>std_fit_time</th>\n",
       "      <th>std_score_time</th>\n",
       "      <th>std_test_score</th>\n",
       "      <th>std_train_score</th>\n",
       "    </tr>\n",
       "  </thead>\n",
       "  <tbody>\n",
       "    <tr>\n",
       "      <th>0</th>\n",
       "      <td>726.061317</td>\n",
       "      <td>46.209252</td>\n",
       "      <td>0.802086</td>\n",
       "      <td>0.798360</td>\n",
       "      <td>0.01</td>\n",
       "      <td>0.01</td>\n",
       "      <td>{'gamma': 0.01, 'C': 0.01}</td>\n",
       "      <td>21</td>\n",
       "      <td>0.800754</td>\n",
       "      <td>0.797561</td>\n",
       "      <td>0.803419</td>\n",
       "      <td>0.799159</td>\n",
       "      <td>477.938180</td>\n",
       "      <td>7.128690</td>\n",
       "      <td>0.001332</td>\n",
       "      <td>0.000799</td>\n",
       "    </tr>\n",
       "    <tr>\n",
       "      <th>1</th>\n",
       "      <td>760.969195</td>\n",
       "      <td>46.820340</td>\n",
       "      <td>0.802086</td>\n",
       "      <td>0.798360</td>\n",
       "      <td>0.01</td>\n",
       "      <td>0.1</td>\n",
       "      <td>{'gamma': 0.1, 'C': 0.01}</td>\n",
       "      <td>21</td>\n",
       "      <td>0.800754</td>\n",
       "      <td>0.797561</td>\n",
       "      <td>0.803419</td>\n",
       "      <td>0.799159</td>\n",
       "      <td>515.918432</td>\n",
       "      <td>6.783356</td>\n",
       "      <td>0.001332</td>\n",
       "      <td>0.000799</td>\n",
       "    </tr>\n",
       "    <tr>\n",
       "      <th>2</th>\n",
       "      <td>714.459650</td>\n",
       "      <td>44.630063</td>\n",
       "      <td>0.802086</td>\n",
       "      <td>0.798360</td>\n",
       "      <td>0.01</td>\n",
       "      <td>1</td>\n",
       "      <td>{'gamma': 1, 'C': 0.01}</td>\n",
       "      <td>21</td>\n",
       "      <td>0.800754</td>\n",
       "      <td>0.797561</td>\n",
       "      <td>0.803419</td>\n",
       "      <td>0.799159</td>\n",
       "      <td>486.181477</td>\n",
       "      <td>6.463920</td>\n",
       "      <td>0.001332</td>\n",
       "      <td>0.000799</td>\n",
       "    </tr>\n",
       "    <tr>\n",
       "      <th>3</th>\n",
       "      <td>718.333226</td>\n",
       "      <td>44.904255</td>\n",
       "      <td>0.802086</td>\n",
       "      <td>0.798360</td>\n",
       "      <td>0.01</td>\n",
       "      <td>10</td>\n",
       "      <td>{'gamma': 10, 'C': 0.01}</td>\n",
       "      <td>21</td>\n",
       "      <td>0.800754</td>\n",
       "      <td>0.797561</td>\n",
       "      <td>0.803419</td>\n",
       "      <td>0.799159</td>\n",
       "      <td>485.180811</td>\n",
       "      <td>5.204470</td>\n",
       "      <td>0.001332</td>\n",
       "      <td>0.000799</td>\n",
       "    </tr>\n",
       "    <tr>\n",
       "      <th>4</th>\n",
       "      <td>678.264367</td>\n",
       "      <td>42.247382</td>\n",
       "      <td>0.802086</td>\n",
       "      <td>0.798360</td>\n",
       "      <td>0.01</td>\n",
       "      <td>100</td>\n",
       "      <td>{'gamma': 100, 'C': 0.01}</td>\n",
       "      <td>21</td>\n",
       "      <td>0.800754</td>\n",
       "      <td>0.797561</td>\n",
       "      <td>0.803419</td>\n",
       "      <td>0.799159</td>\n",
       "      <td>455.902137</td>\n",
       "      <td>7.908636</td>\n",
       "      <td>0.001332</td>\n",
       "      <td>0.000799</td>\n",
       "    </tr>\n",
       "    <tr>\n",
       "      <th>5</th>\n",
       "      <td>675.817528</td>\n",
       "      <td>43.863024</td>\n",
       "      <td>0.821742</td>\n",
       "      <td>0.834432</td>\n",
       "      <td>0.1</td>\n",
       "      <td>0.01</td>\n",
       "      <td>{'gamma': 0.01, 'C': 0.1}</td>\n",
       "      <td>16</td>\n",
       "      <td>0.818851</td>\n",
       "      <td>0.836803</td>\n",
       "      <td>0.824634</td>\n",
       "      <td>0.832061</td>\n",
       "      <td>445.560794</td>\n",
       "      <td>9.663910</td>\n",
       "      <td>0.002892</td>\n",
       "      <td>0.002371</td>\n",
       "    </tr>\n",
       "    <tr>\n",
       "      <th>6</th>\n",
       "      <td>630.776486</td>\n",
       "      <td>33.962349</td>\n",
       "      <td>0.821635</td>\n",
       "      <td>0.834395</td>\n",
       "      <td>0.1</td>\n",
       "      <td>0.1</td>\n",
       "      <td>{'gamma': 0.1, 'C': 0.1}</td>\n",
       "      <td>17</td>\n",
       "      <td>0.818636</td>\n",
       "      <td>0.836803</td>\n",
       "      <td>0.824634</td>\n",
       "      <td>0.831986</td>\n",
       "      <td>423.993544</td>\n",
       "      <td>6.351296</td>\n",
       "      <td>0.002999</td>\n",
       "      <td>0.002408</td>\n",
       "    </tr>\n",
       "    <tr>\n",
       "      <th>7</th>\n",
       "      <td>507.994252</td>\n",
       "      <td>34.274826</td>\n",
       "      <td>0.821563</td>\n",
       "      <td>0.834320</td>\n",
       "      <td>0.1</td>\n",
       "      <td>1</td>\n",
       "      <td>{'gamma': 1, 'C': 0.1}</td>\n",
       "      <td>18</td>\n",
       "      <td>0.818492</td>\n",
       "      <td>0.836727</td>\n",
       "      <td>0.824634</td>\n",
       "      <td>0.831912</td>\n",
       "      <td>356.776095</td>\n",
       "      <td>7.240282</td>\n",
       "      <td>0.003071</td>\n",
       "      <td>0.002408</td>\n",
       "    </tr>\n",
       "    <tr>\n",
       "      <th>8</th>\n",
       "      <td>454.288352</td>\n",
       "      <td>28.604413</td>\n",
       "      <td>0.821563</td>\n",
       "      <td>0.834320</td>\n",
       "      <td>0.1</td>\n",
       "      <td>10</td>\n",
       "      <td>{'gamma': 10, 'C': 0.1}</td>\n",
       "      <td>18</td>\n",
       "      <td>0.818492</td>\n",
       "      <td>0.836727</td>\n",
       "      <td>0.824634</td>\n",
       "      <td>0.831912</td>\n",
       "      <td>308.590614</td>\n",
       "      <td>5.076446</td>\n",
       "      <td>0.003071</td>\n",
       "      <td>0.002408</td>\n",
       "    </tr>\n",
       "    <tr>\n",
       "      <th>9</th>\n",
       "      <td>433.648696</td>\n",
       "      <td>29.951571</td>\n",
       "      <td>0.821563</td>\n",
       "      <td>0.834320</td>\n",
       "      <td>0.1</td>\n",
       "      <td>100</td>\n",
       "      <td>{'gamma': 100, 'C': 0.1}</td>\n",
       "      <td>18</td>\n",
       "      <td>0.818492</td>\n",
       "      <td>0.836727</td>\n",
       "      <td>0.824634</td>\n",
       "      <td>0.831912</td>\n",
       "      <td>293.541627</td>\n",
       "      <td>5.919559</td>\n",
       "      <td>0.003071</td>\n",
       "      <td>0.002408</td>\n",
       "    </tr>\n",
       "    <tr>\n",
       "      <th>10</th>\n",
       "      <td>801.141237</td>\n",
       "      <td>22.675756</td>\n",
       "      <td>0.849541</td>\n",
       "      <td>1.000000</td>\n",
       "      <td>1</td>\n",
       "      <td>0.01</td>\n",
       "      <td>{'gamma': 0.01, 'C': 1}</td>\n",
       "      <td>1</td>\n",
       "      <td>0.841026</td>\n",
       "      <td>1.000000</td>\n",
       "      <td>0.858056</td>\n",
       "      <td>1.000000</td>\n",
       "      <td>687.549900</td>\n",
       "      <td>4.171408</td>\n",
       "      <td>0.008515</td>\n",
       "      <td>0.000000</td>\n",
       "    </tr>\n",
       "    <tr>\n",
       "      <th>11</th>\n",
       "      <td>761.008114</td>\n",
       "      <td>22.951434</td>\n",
       "      <td>0.849115</td>\n",
       "      <td>1.000000</td>\n",
       "      <td>1</td>\n",
       "      <td>0.1</td>\n",
       "      <td>{'gamma': 0.1, 'C': 1}</td>\n",
       "      <td>4</td>\n",
       "      <td>0.840723</td>\n",
       "      <td>1.000000</td>\n",
       "      <td>0.857508</td>\n",
       "      <td>1.000000</td>\n",
       "      <td>647.884865</td>\n",
       "      <td>4.069180</td>\n",
       "      <td>0.008392</td>\n",
       "      <td>0.000000</td>\n",
       "    </tr>\n",
       "    <tr>\n",
       "      <th>12</th>\n",
       "      <td>764.523544</td>\n",
       "      <td>22.107811</td>\n",
       "      <td>0.848999</td>\n",
       "      <td>1.000000</td>\n",
       "      <td>1</td>\n",
       "      <td>1</td>\n",
       "      <td>{'gamma': 1, 'C': 1}</td>\n",
       "      <td>7</td>\n",
       "      <td>0.840647</td>\n",
       "      <td>1.000000</td>\n",
       "      <td>0.857351</td>\n",
       "      <td>1.000000</td>\n",
       "      <td>657.707667</td>\n",
       "      <td>4.354694</td>\n",
       "      <td>0.008352</td>\n",
       "      <td>0.000000</td>\n",
       "    </tr>\n",
       "    <tr>\n",
       "      <th>13</th>\n",
       "      <td>744.609939</td>\n",
       "      <td>21.263023</td>\n",
       "      <td>0.848999</td>\n",
       "      <td>1.000000</td>\n",
       "      <td>1</td>\n",
       "      <td>10</td>\n",
       "      <td>{'gamma': 10, 'C': 1}</td>\n",
       "      <td>7</td>\n",
       "      <td>0.840647</td>\n",
       "      <td>1.000000</td>\n",
       "      <td>0.857351</td>\n",
       "      <td>1.000000</td>\n",
       "      <td>641.590105</td>\n",
       "      <td>4.672754</td>\n",
       "      <td>0.008352</td>\n",
       "      <td>0.000000</td>\n",
       "    </tr>\n",
       "    <tr>\n",
       "      <th>14</th>\n",
       "      <td>678.193262</td>\n",
       "      <td>20.364434</td>\n",
       "      <td>0.848999</td>\n",
       "      <td>1.000000</td>\n",
       "      <td>1</td>\n",
       "      <td>100</td>\n",
       "      <td>{'gamma': 100, 'C': 1}</td>\n",
       "      <td>7</td>\n",
       "      <td>0.840647</td>\n",
       "      <td>1.000000</td>\n",
       "      <td>0.857351</td>\n",
       "      <td>1.000000</td>\n",
       "      <td>583.757591</td>\n",
       "      <td>4.306625</td>\n",
       "      <td>0.008352</td>\n",
       "      <td>0.000000</td>\n",
       "    </tr>\n",
       "    <tr>\n",
       "      <th>15</th>\n",
       "      <td>880.993728</td>\n",
       "      <td>21.503904</td>\n",
       "      <td>0.849541</td>\n",
       "      <td>1.000000</td>\n",
       "      <td>10</td>\n",
       "      <td>0.01</td>\n",
       "      <td>{'gamma': 0.01, 'C': 10}</td>\n",
       "      <td>1</td>\n",
       "      <td>0.841026</td>\n",
       "      <td>1.000000</td>\n",
       "      <td>0.858056</td>\n",
       "      <td>1.000000</td>\n",
       "      <td>787.517060</td>\n",
       "      <td>4.670185</td>\n",
       "      <td>0.008515</td>\n",
       "      <td>0.000000</td>\n",
       "    </tr>\n",
       "    <tr>\n",
       "      <th>16</th>\n",
       "      <td>964.960491</td>\n",
       "      <td>21.441882</td>\n",
       "      <td>0.849115</td>\n",
       "      <td>1.000000</td>\n",
       "      <td>10</td>\n",
       "      <td>0.1</td>\n",
       "      <td>{'gamma': 0.1, 'C': 10}</td>\n",
       "      <td>4</td>\n",
       "      <td>0.840723</td>\n",
       "      <td>1.000000</td>\n",
       "      <td>0.857508</td>\n",
       "      <td>1.000000</td>\n",
       "      <td>864.784656</td>\n",
       "      <td>5.713825</td>\n",
       "      <td>0.008392</td>\n",
       "      <td>0.000000</td>\n",
       "    </tr>\n",
       "    <tr>\n",
       "      <th>17</th>\n",
       "      <td>885.318333</td>\n",
       "      <td>19.688480</td>\n",
       "      <td>0.848999</td>\n",
       "      <td>1.000000</td>\n",
       "      <td>10</td>\n",
       "      <td>1</td>\n",
       "      <td>{'gamma': 1, 'C': 10}</td>\n",
       "      <td>7</td>\n",
       "      <td>0.840647</td>\n",
       "      <td>1.000000</td>\n",
       "      <td>0.857351</td>\n",
       "      <td>1.000000</td>\n",
       "      <td>795.336632</td>\n",
       "      <td>6.552509</td>\n",
       "      <td>0.008352</td>\n",
       "      <td>0.000000</td>\n",
       "    </tr>\n",
       "    <tr>\n",
       "      <th>18</th>\n",
       "      <td>872.843041</td>\n",
       "      <td>19.029072</td>\n",
       "      <td>0.848999</td>\n",
       "      <td>1.000000</td>\n",
       "      <td>10</td>\n",
       "      <td>10</td>\n",
       "      <td>{'gamma': 10, 'C': 10}</td>\n",
       "      <td>7</td>\n",
       "      <td>0.840647</td>\n",
       "      <td>1.000000</td>\n",
       "      <td>0.857351</td>\n",
       "      <td>1.000000</td>\n",
       "      <td>790.755398</td>\n",
       "      <td>5.663817</td>\n",
       "      <td>0.008352</td>\n",
       "      <td>0.000000</td>\n",
       "    </tr>\n",
       "    <tr>\n",
       "      <th>19</th>\n",
       "      <td>867.598465</td>\n",
       "      <td>19.356147</td>\n",
       "      <td>0.848999</td>\n",
       "      <td>1.000000</td>\n",
       "      <td>10</td>\n",
       "      <td>100</td>\n",
       "      <td>{'gamma': 100, 'C': 10}</td>\n",
       "      <td>7</td>\n",
       "      <td>0.840647</td>\n",
       "      <td>1.000000</td>\n",
       "      <td>0.857351</td>\n",
       "      <td>1.000000</td>\n",
       "      <td>787.109141</td>\n",
       "      <td>5.812546</td>\n",
       "      <td>0.008352</td>\n",
       "      <td>0.000000</td>\n",
       "    </tr>\n",
       "    <tr>\n",
       "      <th>20</th>\n",
       "      <td>764.865655</td>\n",
       "      <td>20.518105</td>\n",
       "      <td>0.849541</td>\n",
       "      <td>1.000000</td>\n",
       "      <td>100</td>\n",
       "      <td>0.01</td>\n",
       "      <td>{'gamma': 0.01, 'C': 100}</td>\n",
       "      <td>1</td>\n",
       "      <td>0.841026</td>\n",
       "      <td>1.000000</td>\n",
       "      <td>0.858056</td>\n",
       "      <td>1.000000</td>\n",
       "      <td>679.610838</td>\n",
       "      <td>6.713496</td>\n",
       "      <td>0.008515</td>\n",
       "      <td>0.000000</td>\n",
       "    </tr>\n",
       "    <tr>\n",
       "      <th>21</th>\n",
       "      <td>875.215546</td>\n",
       "      <td>15.824762</td>\n",
       "      <td>0.849115</td>\n",
       "      <td>1.000000</td>\n",
       "      <td>100</td>\n",
       "      <td>0.1</td>\n",
       "      <td>{'gamma': 0.1, 'C': 100}</td>\n",
       "      <td>4</td>\n",
       "      <td>0.840723</td>\n",
       "      <td>1.000000</td>\n",
       "      <td>0.857508</td>\n",
       "      <td>1.000000</td>\n",
       "      <td>791.220788</td>\n",
       "      <td>2.184004</td>\n",
       "      <td>0.008392</td>\n",
       "      <td>0.000000</td>\n",
       "    </tr>\n",
       "    <tr>\n",
       "      <th>22</th>\n",
       "      <td>825.066551</td>\n",
       "      <td>15.685777</td>\n",
       "      <td>0.848999</td>\n",
       "      <td>1.000000</td>\n",
       "      <td>100</td>\n",
       "      <td>1</td>\n",
       "      <td>{'gamma': 1, 'C': 100}</td>\n",
       "      <td>7</td>\n",
       "      <td>0.840647</td>\n",
       "      <td>1.000000</td>\n",
       "      <td>0.857351</td>\n",
       "      <td>1.000000</td>\n",
       "      <td>745.172069</td>\n",
       "      <td>2.113700</td>\n",
       "      <td>0.008352</td>\n",
       "      <td>0.000000</td>\n",
       "    </tr>\n",
       "    <tr>\n",
       "      <th>23</th>\n",
       "      <td>737.179261</td>\n",
       "      <td>15.661377</td>\n",
       "      <td>0.848999</td>\n",
       "      <td>1.000000</td>\n",
       "      <td>100</td>\n",
       "      <td>10</td>\n",
       "      <td>{'gamma': 10, 'C': 100}</td>\n",
       "      <td>7</td>\n",
       "      <td>0.840647</td>\n",
       "      <td>1.000000</td>\n",
       "      <td>0.857351</td>\n",
       "      <td>1.000000</td>\n",
       "      <td>656.247664</td>\n",
       "      <td>2.240292</td>\n",
       "      <td>0.008352</td>\n",
       "      <td>0.000000</td>\n",
       "    </tr>\n",
       "    <tr>\n",
       "      <th>24</th>\n",
       "      <td>668.455223</td>\n",
       "      <td>15.519956</td>\n",
       "      <td>0.848999</td>\n",
       "      <td>1.000000</td>\n",
       "      <td>100</td>\n",
       "      <td>100</td>\n",
       "      <td>{'gamma': 100, 'C': 100}</td>\n",
       "      <td>7</td>\n",
       "      <td>0.840647</td>\n",
       "      <td>1.000000</td>\n",
       "      <td>0.857351</td>\n",
       "      <td>1.000000</td>\n",
       "      <td>584.533191</td>\n",
       "      <td>2.148564</td>\n",
       "      <td>0.008352</td>\n",
       "      <td>0.000000</td>\n",
       "    </tr>\n",
       "  </tbody>\n",
       "</table>\n",
       "</div>"
      ],
      "text/plain": [
       "    mean_fit_time  mean_score_time  mean_test_score  mean_train_score param_C  \\\n",
       "0      726.061317        46.209252         0.802086          0.798360    0.01   \n",
       "1      760.969195        46.820340         0.802086          0.798360    0.01   \n",
       "2      714.459650        44.630063         0.802086          0.798360    0.01   \n",
       "3      718.333226        44.904255         0.802086          0.798360    0.01   \n",
       "4      678.264367        42.247382         0.802086          0.798360    0.01   \n",
       "5      675.817528        43.863024         0.821742          0.834432     0.1   \n",
       "6      630.776486        33.962349         0.821635          0.834395     0.1   \n",
       "7      507.994252        34.274826         0.821563          0.834320     0.1   \n",
       "8      454.288352        28.604413         0.821563          0.834320     0.1   \n",
       "9      433.648696        29.951571         0.821563          0.834320     0.1   \n",
       "10     801.141237        22.675756         0.849541          1.000000       1   \n",
       "11     761.008114        22.951434         0.849115          1.000000       1   \n",
       "12     764.523544        22.107811         0.848999          1.000000       1   \n",
       "13     744.609939        21.263023         0.848999          1.000000       1   \n",
       "14     678.193262        20.364434         0.848999          1.000000       1   \n",
       "15     880.993728        21.503904         0.849541          1.000000      10   \n",
       "16     964.960491        21.441882         0.849115          1.000000      10   \n",
       "17     885.318333        19.688480         0.848999          1.000000      10   \n",
       "18     872.843041        19.029072         0.848999          1.000000      10   \n",
       "19     867.598465        19.356147         0.848999          1.000000      10   \n",
       "20     764.865655        20.518105         0.849541          1.000000     100   \n",
       "21     875.215546        15.824762         0.849115          1.000000     100   \n",
       "22     825.066551        15.685777         0.848999          1.000000     100   \n",
       "23     737.179261        15.661377         0.848999          1.000000     100   \n",
       "24     668.455223        15.519956         0.848999          1.000000     100   \n",
       "\n",
       "   param_gamma                      params  rank_test_score  \\\n",
       "0         0.01  {'gamma': 0.01, 'C': 0.01}               21   \n",
       "1          0.1   {'gamma': 0.1, 'C': 0.01}               21   \n",
       "2            1     {'gamma': 1, 'C': 0.01}               21   \n",
       "3           10    {'gamma': 10, 'C': 0.01}               21   \n",
       "4          100   {'gamma': 100, 'C': 0.01}               21   \n",
       "5         0.01   {'gamma': 0.01, 'C': 0.1}               16   \n",
       "6          0.1    {'gamma': 0.1, 'C': 0.1}               17   \n",
       "7            1      {'gamma': 1, 'C': 0.1}               18   \n",
       "8           10     {'gamma': 10, 'C': 0.1}               18   \n",
       "9          100    {'gamma': 100, 'C': 0.1}               18   \n",
       "10        0.01     {'gamma': 0.01, 'C': 1}                1   \n",
       "11         0.1      {'gamma': 0.1, 'C': 1}                4   \n",
       "12           1        {'gamma': 1, 'C': 1}                7   \n",
       "13          10       {'gamma': 10, 'C': 1}                7   \n",
       "14         100      {'gamma': 100, 'C': 1}                7   \n",
       "15        0.01    {'gamma': 0.01, 'C': 10}                1   \n",
       "16         0.1     {'gamma': 0.1, 'C': 10}                4   \n",
       "17           1       {'gamma': 1, 'C': 10}                7   \n",
       "18          10      {'gamma': 10, 'C': 10}                7   \n",
       "19         100     {'gamma': 100, 'C': 10}                7   \n",
       "20        0.01   {'gamma': 0.01, 'C': 100}                1   \n",
       "21         0.1    {'gamma': 0.1, 'C': 100}                4   \n",
       "22           1      {'gamma': 1, 'C': 100}                7   \n",
       "23          10     {'gamma': 10, 'C': 100}                7   \n",
       "24         100    {'gamma': 100, 'C': 100}                7   \n",
       "\n",
       "    split0_test_score  split0_train_score  split1_test_score  \\\n",
       "0            0.800754            0.797561           0.803419   \n",
       "1            0.800754            0.797561           0.803419   \n",
       "2            0.800754            0.797561           0.803419   \n",
       "3            0.800754            0.797561           0.803419   \n",
       "4            0.800754            0.797561           0.803419   \n",
       "5            0.818851            0.836803           0.824634   \n",
       "6            0.818636            0.836803           0.824634   \n",
       "7            0.818492            0.836727           0.824634   \n",
       "8            0.818492            0.836727           0.824634   \n",
       "9            0.818492            0.836727           0.824634   \n",
       "10           0.841026            1.000000           0.858056   \n",
       "11           0.840723            1.000000           0.857508   \n",
       "12           0.840647            1.000000           0.857351   \n",
       "13           0.840647            1.000000           0.857351   \n",
       "14           0.840647            1.000000           0.857351   \n",
       "15           0.841026            1.000000           0.858056   \n",
       "16           0.840723            1.000000           0.857508   \n",
       "17           0.840647            1.000000           0.857351   \n",
       "18           0.840647            1.000000           0.857351   \n",
       "19           0.840647            1.000000           0.857351   \n",
       "20           0.841026            1.000000           0.858056   \n",
       "21           0.840723            1.000000           0.857508   \n",
       "22           0.840647            1.000000           0.857351   \n",
       "23           0.840647            1.000000           0.857351   \n",
       "24           0.840647            1.000000           0.857351   \n",
       "\n",
       "    split1_train_score  std_fit_time  std_score_time  std_test_score  \\\n",
       "0             0.799159    477.938180        7.128690        0.001332   \n",
       "1             0.799159    515.918432        6.783356        0.001332   \n",
       "2             0.799159    486.181477        6.463920        0.001332   \n",
       "3             0.799159    485.180811        5.204470        0.001332   \n",
       "4             0.799159    455.902137        7.908636        0.001332   \n",
       "5             0.832061    445.560794        9.663910        0.002892   \n",
       "6             0.831986    423.993544        6.351296        0.002999   \n",
       "7             0.831912    356.776095        7.240282        0.003071   \n",
       "8             0.831912    308.590614        5.076446        0.003071   \n",
       "9             0.831912    293.541627        5.919559        0.003071   \n",
       "10            1.000000    687.549900        4.171408        0.008515   \n",
       "11            1.000000    647.884865        4.069180        0.008392   \n",
       "12            1.000000    657.707667        4.354694        0.008352   \n",
       "13            1.000000    641.590105        4.672754        0.008352   \n",
       "14            1.000000    583.757591        4.306625        0.008352   \n",
       "15            1.000000    787.517060        4.670185        0.008515   \n",
       "16            1.000000    864.784656        5.713825        0.008392   \n",
       "17            1.000000    795.336632        6.552509        0.008352   \n",
       "18            1.000000    790.755398        5.663817        0.008352   \n",
       "19            1.000000    787.109141        5.812546        0.008352   \n",
       "20            1.000000    679.610838        6.713496        0.008515   \n",
       "21            1.000000    791.220788        2.184004        0.008392   \n",
       "22            1.000000    745.172069        2.113700        0.008352   \n",
       "23            1.000000    656.247664        2.240292        0.008352   \n",
       "24            1.000000    584.533191        2.148564        0.008352   \n",
       "\n",
       "    std_train_score  \n",
       "0          0.000799  \n",
       "1          0.000799  \n",
       "2          0.000799  \n",
       "3          0.000799  \n",
       "4          0.000799  \n",
       "5          0.002371  \n",
       "6          0.002408  \n",
       "7          0.002408  \n",
       "8          0.002408  \n",
       "9          0.002408  \n",
       "10         0.000000  \n",
       "11         0.000000  \n",
       "12         0.000000  \n",
       "13         0.000000  \n",
       "14         0.000000  \n",
       "15         0.000000  \n",
       "16         0.000000  \n",
       "17         0.000000  \n",
       "18         0.000000  \n",
       "19         0.000000  \n",
       "20         0.000000  \n",
       "21         0.000000  \n",
       "22         0.000000  \n",
       "23         0.000000  \n",
       "24         0.000000  "
      ]
     },
     "execution_count": 11,
     "metadata": {},
     "output_type": "execute_result"
    }
   ],
   "source": [
    "results=pd.DataFrame(model.cv_results_)# getting varoius cv_scores and train_scores various values of alpha given as parameter and storing it in a dataframe\n",
    "results#printing the dataframe"
   ]
  },
  {
   "cell_type": "code",
   "execution_count": 12,
   "metadata": {
    "colab": {},
    "colab_type": "code",
    "id": "tudhyTXX-I3_"
   },
   "outputs": [
    {
     "data": {
      "text/plain": [
       "0     80.208631\n",
       "1     80.208631\n",
       "2     80.208631\n",
       "3     80.208631\n",
       "4     80.208631\n",
       "5     82.174224\n",
       "6     82.163467\n",
       "7     82.156300\n",
       "8     82.156300\n",
       "9     82.156300\n",
       "10    84.954066\n",
       "11    84.911542\n",
       "12    84.899941\n",
       "13    84.899941\n",
       "14    84.899941\n",
       "15    84.954066\n",
       "16    84.911542\n",
       "17    84.899941\n",
       "18    84.899941\n",
       "19    84.899941\n",
       "20    84.954066\n",
       "21    84.911542\n",
       "22    84.899941\n",
       "23    84.899941\n",
       "24    84.899941\n",
       "Name: mean_test_score, dtype: float64"
      ]
     },
     "execution_count": 12,
     "metadata": {},
     "output_type": "execute_result"
    }
   ],
   "source": [
    "results['mean_test_score']=results['mean_test_score']*100\n",
    "results['mean_test_score']"
   ]
  },
  {
   "cell_type": "code",
   "execution_count": 13,
   "metadata": {
    "colab": {},
    "colab_type": "code",
    "id": "-x7ExOhG-Iw7"
   },
   "outputs": [
    {
     "data": {
      "text/html": [
       "<div>\n",
       "<table border=\"1\" class=\"dataframe\">\n",
       "  <thead>\n",
       "    <tr style=\"text-align: right;\">\n",
       "      <th></th>\n",
       "      <th>mean_fit_time</th>\n",
       "      <th>mean_score_time</th>\n",
       "      <th>mean_test_score</th>\n",
       "      <th>mean_train_score</th>\n",
       "      <th>param_C</th>\n",
       "      <th>param_gamma</th>\n",
       "      <th>params</th>\n",
       "      <th>rank_test_score</th>\n",
       "      <th>split0_test_score</th>\n",
       "      <th>split0_train_score</th>\n",
       "      <th>split1_test_score</th>\n",
       "      <th>split1_train_score</th>\n",
       "      <th>std_fit_time</th>\n",
       "      <th>std_score_time</th>\n",
       "      <th>std_test_score</th>\n",
       "      <th>std_train_score</th>\n",
       "      <th>mean_cv_error</th>\n",
       "    </tr>\n",
       "  </thead>\n",
       "  <tbody>\n",
       "    <tr>\n",
       "      <th>0</th>\n",
       "      <td>726.061317</td>\n",
       "      <td>46.209252</td>\n",
       "      <td>19.791369</td>\n",
       "      <td>0.79836</td>\n",
       "      <td>0.01</td>\n",
       "      <td>0.01</td>\n",
       "      <td>{'gamma': 0.01, 'C': 0.01}</td>\n",
       "      <td>21</td>\n",
       "      <td>0.800754</td>\n",
       "      <td>0.797561</td>\n",
       "      <td>0.803419</td>\n",
       "      <td>0.799159</td>\n",
       "      <td>477.938180</td>\n",
       "      <td>7.128690</td>\n",
       "      <td>0.001332</td>\n",
       "      <td>0.000799</td>\n",
       "      <td>19.79</td>\n",
       "    </tr>\n",
       "    <tr>\n",
       "      <th>1</th>\n",
       "      <td>760.969195</td>\n",
       "      <td>46.820340</td>\n",
       "      <td>19.791369</td>\n",
       "      <td>0.79836</td>\n",
       "      <td>0.01</td>\n",
       "      <td>0.1</td>\n",
       "      <td>{'gamma': 0.1, 'C': 0.01}</td>\n",
       "      <td>21</td>\n",
       "      <td>0.800754</td>\n",
       "      <td>0.797561</td>\n",
       "      <td>0.803419</td>\n",
       "      <td>0.799159</td>\n",
       "      <td>515.918432</td>\n",
       "      <td>6.783356</td>\n",
       "      <td>0.001332</td>\n",
       "      <td>0.000799</td>\n",
       "      <td>19.79</td>\n",
       "    </tr>\n",
       "    <tr>\n",
       "      <th>2</th>\n",
       "      <td>714.459650</td>\n",
       "      <td>44.630063</td>\n",
       "      <td>19.791369</td>\n",
       "      <td>0.79836</td>\n",
       "      <td>0.01</td>\n",
       "      <td>1</td>\n",
       "      <td>{'gamma': 1, 'C': 0.01}</td>\n",
       "      <td>21</td>\n",
       "      <td>0.800754</td>\n",
       "      <td>0.797561</td>\n",
       "      <td>0.803419</td>\n",
       "      <td>0.799159</td>\n",
       "      <td>486.181477</td>\n",
       "      <td>6.463920</td>\n",
       "      <td>0.001332</td>\n",
       "      <td>0.000799</td>\n",
       "      <td>19.79</td>\n",
       "    </tr>\n",
       "    <tr>\n",
       "      <th>3</th>\n",
       "      <td>718.333226</td>\n",
       "      <td>44.904255</td>\n",
       "      <td>19.791369</td>\n",
       "      <td>0.79836</td>\n",
       "      <td>0.01</td>\n",
       "      <td>10</td>\n",
       "      <td>{'gamma': 10, 'C': 0.01}</td>\n",
       "      <td>21</td>\n",
       "      <td>0.800754</td>\n",
       "      <td>0.797561</td>\n",
       "      <td>0.803419</td>\n",
       "      <td>0.799159</td>\n",
       "      <td>485.180811</td>\n",
       "      <td>5.204470</td>\n",
       "      <td>0.001332</td>\n",
       "      <td>0.000799</td>\n",
       "      <td>19.79</td>\n",
       "    </tr>\n",
       "    <tr>\n",
       "      <th>4</th>\n",
       "      <td>678.264367</td>\n",
       "      <td>42.247382</td>\n",
       "      <td>19.791369</td>\n",
       "      <td>0.79836</td>\n",
       "      <td>0.01</td>\n",
       "      <td>100</td>\n",
       "      <td>{'gamma': 100, 'C': 0.01}</td>\n",
       "      <td>21</td>\n",
       "      <td>0.800754</td>\n",
       "      <td>0.797561</td>\n",
       "      <td>0.803419</td>\n",
       "      <td>0.799159</td>\n",
       "      <td>455.902137</td>\n",
       "      <td>7.908636</td>\n",
       "      <td>0.001332</td>\n",
       "      <td>0.000799</td>\n",
       "      <td>19.79</td>\n",
       "    </tr>\n",
       "  </tbody>\n",
       "</table>\n",
       "</div>"
      ],
      "text/plain": [
       "   mean_fit_time  mean_score_time  mean_test_score  mean_train_score param_C  \\\n",
       "0     726.061317        46.209252        19.791369           0.79836    0.01   \n",
       "1     760.969195        46.820340        19.791369           0.79836    0.01   \n",
       "2     714.459650        44.630063        19.791369           0.79836    0.01   \n",
       "3     718.333226        44.904255        19.791369           0.79836    0.01   \n",
       "4     678.264367        42.247382        19.791369           0.79836    0.01   \n",
       "\n",
       "  param_gamma                      params  rank_test_score  split0_test_score  \\\n",
       "0        0.01  {'gamma': 0.01, 'C': 0.01}               21           0.800754   \n",
       "1         0.1   {'gamma': 0.1, 'C': 0.01}               21           0.800754   \n",
       "2           1     {'gamma': 1, 'C': 0.01}               21           0.800754   \n",
       "3          10    {'gamma': 10, 'C': 0.01}               21           0.800754   \n",
       "4         100   {'gamma': 100, 'C': 0.01}               21           0.800754   \n",
       "\n",
       "   split0_train_score  split1_test_score  split1_train_score  std_fit_time  \\\n",
       "0            0.797561           0.803419            0.799159    477.938180   \n",
       "1            0.797561           0.803419            0.799159    515.918432   \n",
       "2            0.797561           0.803419            0.799159    486.181477   \n",
       "3            0.797561           0.803419            0.799159    485.180811   \n",
       "4            0.797561           0.803419            0.799159    455.902137   \n",
       "\n",
       "   std_score_time  std_test_score  std_train_score  mean_cv_error  \n",
       "0        7.128690        0.001332         0.000799          19.79  \n",
       "1        6.783356        0.001332         0.000799          19.79  \n",
       "2        6.463920        0.001332         0.000799          19.79  \n",
       "3        5.204470        0.001332         0.000799          19.79  \n",
       "4        7.908636        0.001332         0.000799          19.79  "
      ]
     },
     "execution_count": 13,
     "metadata": {},
     "output_type": "execute_result"
    }
   ],
   "source": [
    "results['mean_test_score']=100-results['mean_test_score']\n",
    "results['mean_cv_error']=results['mean_test_score'].round(decimals=2)\n",
    "results.head()"
   ]
  },
  {
   "cell_type": "code",
   "execution_count": 14,
   "metadata": {
    "colab": {},
    "colab_type": "code",
    "collapsed": true,
    "id": "P1i8d5XF-IrP"
   },
   "outputs": [],
   "source": [
    "test_score_heatmap=results.pivot(\t'param_C'\t,'param_gamma','mean_cv_error'\t)"
   ]
  },
  {
   "cell_type": "code",
   "execution_count": 15,
   "metadata": {
    "colab": {},
    "colab_type": "code",
    "id": "tXDf19R9-lb3"
   },
   "outputs": [
    {
     "data": {
      "text/html": [
       "<div>\n",
       "<table border=\"1\" class=\"dataframe\">\n",
       "  <thead>\n",
       "    <tr style=\"text-align: right;\">\n",
       "      <th>param_gamma</th>\n",
       "      <th>0.01</th>\n",
       "      <th>0.1</th>\n",
       "      <th>1.0</th>\n",
       "      <th>10.0</th>\n",
       "      <th>100.0</th>\n",
       "    </tr>\n",
       "    <tr>\n",
       "      <th>param_C</th>\n",
       "      <th></th>\n",
       "      <th></th>\n",
       "      <th></th>\n",
       "      <th></th>\n",
       "      <th></th>\n",
       "    </tr>\n",
       "  </thead>\n",
       "  <tbody>\n",
       "    <tr>\n",
       "      <th>0.01</th>\n",
       "      <td>19.79</td>\n",
       "      <td>19.79</td>\n",
       "      <td>19.79</td>\n",
       "      <td>19.79</td>\n",
       "      <td>19.79</td>\n",
       "    </tr>\n",
       "    <tr>\n",
       "      <th>0.10</th>\n",
       "      <td>17.83</td>\n",
       "      <td>17.84</td>\n",
       "      <td>17.84</td>\n",
       "      <td>17.84</td>\n",
       "      <td>17.84</td>\n",
       "    </tr>\n",
       "    <tr>\n",
       "      <th>1.00</th>\n",
       "      <td>15.05</td>\n",
       "      <td>15.09</td>\n",
       "      <td>15.10</td>\n",
       "      <td>15.10</td>\n",
       "      <td>15.10</td>\n",
       "    </tr>\n",
       "    <tr>\n",
       "      <th>10.00</th>\n",
       "      <td>15.05</td>\n",
       "      <td>15.09</td>\n",
       "      <td>15.10</td>\n",
       "      <td>15.10</td>\n",
       "      <td>15.10</td>\n",
       "    </tr>\n",
       "    <tr>\n",
       "      <th>100.00</th>\n",
       "      <td>15.05</td>\n",
       "      <td>15.09</td>\n",
       "      <td>15.10</td>\n",
       "      <td>15.10</td>\n",
       "      <td>15.10</td>\n",
       "    </tr>\n",
       "  </tbody>\n",
       "</table>\n",
       "</div>"
      ],
      "text/plain": [
       "param_gamma  0.01    0.10    1.00    10.00   100.00\n",
       "param_C                                            \n",
       "0.01          19.79   19.79   19.79   19.79   19.79\n",
       "0.10          17.83   17.84   17.84   17.84   17.84\n",
       "1.00          15.05   15.09   15.10   15.10   15.10\n",
       "10.00         15.05   15.09   15.10   15.10   15.10\n",
       "100.00        15.05   15.09   15.10   15.10   15.10"
      ]
     },
     "execution_count": 15,
     "metadata": {},
     "output_type": "execute_result"
    }
   ],
   "source": [
    "test_score_heatmap"
   ]
  },
  {
   "cell_type": "code",
   "execution_count": 19,
   "metadata": {
    "colab": {},
    "colab_type": "code",
    "id": "UyNgSoiV-mHb"
   },
   "outputs": [
    {
     "data": {
      "image/png": "[encoded data removed]",
      "text/plain": [
       "<matplotlib.figure.Figure at 0x7fa8fc5ce4e0>"
      ]
     },
     "metadata": {},
     "output_type": "display_data"
    }
   ],
   "source": [
    "import seaborn as sns\n",
    "sns.heatmap(test_score_heatmap,annot=True,annot_kws={\"size\": 10}, fmt='g',linewidths=.5)\n",
    "import matplotlib.pylab as plt\n",
    "plt.show()"
   ]
  },
  {
   "cell_type": "markdown",
   "metadata": {
    "colab_type": "text",
    "id": "6a_rCv04-4fb"
   },
   "source": [
    "# FROM HERE BEST HPYERPARAMETERS ARE GAMMA =0.01   AND  C=1"
   ]
  },
  {
   "cell_type": "code",
   "execution_count": 8,
   "metadata": {
    "colab": {},
    "colab_type": "code",
    "collapsed": true,
    "id": "S0wi404oGdVK"
   },
   "outputs": [],
   "source": [
    "svc=SVC(class_weight='balanced',probability=True,C=1,gamma=0.01)"
   ]
  },
  {
   "cell_type": "code",
   "execution_count": 9,
   "metadata": {
    "colab": {},
    "colab_type": "code",
    "collapsed": true,
    "id": "nikYs4BzEE70"
   },
   "outputs": [],
   "source": [
    "#fitting the model \n",
    "svc.fit(x_train_data,y_train)\n",
    "probs = svc.predict_proba(x_test_data)#predicting the model \n",
    "\n"
   ]
  },
  {
   "cell_type": "markdown",
   "metadata": {},
   "source": [
    "# PLOTTING THE AUC_SCORE FOR TRAIN DATA"
   ]
  },
  {
   "cell_type": "code",
   "execution_count": 33,
   "metadata": {},
   "outputs": [
    {
     "data": {
      "image/png": "[encoded data removed]",
      "text/plain": [
       "<matplotlib.figure.Figure at 0x1efa58ea898>"
      ]
     },
     "metadata": {},
     "output_type": "display_data"
    }
   ],
   "source": [
    "y_pred_train=model.predict_proba(x_train_data)\n",
    "fpr, tpr, threshold = metrics.roc_curve(y_train, prob_pos_isotonic)\n",
    "roc_auc = metrics.auc(fpr, tpr)\n",
    "\n",
    "# \n",
    "import matplotlib.pyplot as plt\n",
    "plt.title('Receiver Operating Characteristic')\n",
    "plt.plot(fpr, tpr, 'b', label = 'AUC = %0.2f' % roc_auc)\n",
    "plt.legend(loc = 'best')\n",
    "plt.plot([0, 1], [0, 1],'r--')\n",
    "plt.xlim([0, 1])\n",
    "plt.ylim([0, 1])\n",
    "plt.ylabel('True Positive Rate')\n",
    "plt.xlabel('False Positive Rate')\n",
    "plt.show()"
   ]
  },
  {
   "cell_type": "code",
   "execution_count": 34,
   "metadata": {},
   "outputs": [
    {
     "name": "stdout",
     "output_type": "stream",
     "text": [
      "AUC_SCORE FOR TRAIN DATA IS 96.8089099958\n"
     ]
    }
   ],
   "source": [
    "print('AUC_SCORE FOR TRAIN DATA IS',roc_auc*100)"
   ]
  },
  {
   "cell_type": "markdown",
   "metadata": {
    "collapsed": true
   },
   "source": [
    "# PLOTTING THE AUC_SCORE FOR TEST DATA"
   ]
  },
  {
   "cell_type": "code",
   "execution_count": 15,
   "metadata": {
    "colab": {},
    "colab_type": "code",
    "id": "JCObAUhGFNUs"
   },
   "outputs": [
    {
     "data": {
      "image/png": "[encoded data removed]",
      "text/plain": [
       "<matplotlib.figure.Figure at 0x7f9ec7819390>"
      ]
     },
     "metadata": {},
     "output_type": "display_data"
    }
   ],
   "source": [
    "\n",
    "fpr, tpr, threshold = metrics.roc_curve(y_test,y_pred)\n",
    "roc_auc = metrics.auc(fpr, tpr)\n",
    " \n",
    "import matplotlib.pyplot as plt\n",
    "plt.title('Receiver Operating Characteristic')\n",
    "plt.plot(fpr, tpr, 'b', label = 'AUC = %0.2f' % roc_auc)\n",
    "plt.legend(loc = 'best')\n",
    "plt.plot([0, 1], [0, 1],'r--')\n",
    "plt.xlim([0, 1])\n",
    "plt.ylim([0, 1])\n",
    "plt.ylabel('True Positive Rate')\n",
    "plt.xlabel('False Positive Rate')\n",
    "plt.show()"
   ]
  },
  {
   "cell_type": "markdown",
   "metadata": {
    "colab_type": "text",
    "id": "4drQtE5fcsM8"
   },
   "source": [
    "# USING BEST HYPERPARAMETER VALUE ON TEST DATA AND PLOTTING THE CONFUSION MATRIX WITH HEATMAP"
   ]
  },
  {
   "cell_type": "code",
   "execution_count": 11,
   "metadata": {
    "colab": {
     "base_uri": "https://localhost:8080/",
     "height": 511
    },
    "colab_type": "code",
    "executionInfo": {
     "elapsed": 16180,
     "status": "ok",
     "timestamp": 1547925038396,
     "user": {
      "displayName": "mayank aggarwal",
      "photoUrl": "",
      "userId": "04107947634097457088"
     },
     "user_tz": -330
    },
    "id": "Ox3k0a43cXmo",
    "outputId": "35cc20d6-c0dc-4a90-ce1e-772dfe292b3b"
   },
   "outputs": [
    {
     "name": "stdout",
     "output_type": "stream",
     "text": [
      "Accuracy on test set: 78.767%\n",
      "Precision on test set: 0.758\n",
      "Recall on test set: 1.000\n",
      "F1-Score on test set: 0.862\n",
      "Confusion Matrix of test set:\n",
      " [ [TN  FP]\n",
      " [FN TP] ]\n",
      "\n"
     ]
    },
    {
     "data": {
      "image/png": "[encoded data removed]",
      "text/plain": [
       "<matplotlib.figure.Figure at 0x7f9ec5934cf8>"
      ]
     },
     "metadata": {},
     "output_type": "display_data"
    }
   ],
   "source": [
    "#Testing Accuracy on Test data  \n",
    "import seaborn as sns #importing seaborn as sns\n",
    "from sklearn.metrics import *#importing varoius metrics from sklearn\n",
    "y_pred=svc.predict(x_test_data)\n",
    "print(\"Accuracy on test set: %0.3f%%\"%(accuracy_score(y_test, y_pred)*100))#printing accuracy\n",
    "print(\"Precision on test set: %0.3f\"%(precision_score(y_test, y_pred)))#printing precision score\n",
    "print(\"Recall on test set: %0.3f\"%(recall_score(y_test, y_pred))) #printing recall\n",
    "print(\"F1-Score on test set: %0.3f\"%(f1_score(y_test, y_pred))) \n",
    "print(\"Confusion Matrix of test set:\\n [ [TN  FP]\\n [FN TP] ]\\n\") \n",
    "df_cm = pd.DataFrame(confusion_matrix(y_test, y_pred), range(2),range(2)) #generating the heatmap for confusion matrix\n",
    "sns.set(font_scale=1.4)#for label size\n",
    "sns.heatmap(df_cm, annot=True,annot_kws={\"size\": 16}, fmt='g')\n",
    "import matplotlib.pyplot as plt\n",
    "plt.show()"
   ]
  },
  {
   "cell_type": "markdown",
   "metadata": {
    "colab_type": "text",
    "id": "7hfQFKwKuQMi"
   },
   "source": [
    "# <i>TFIDF VECTORIZATION WITH SUPPORT VECTOR MACHINE  WITH LINEAR KERNEL AND RBF KERNEL IS DONE<b>\n",
    " ********************************************************************************************************"
   ]
  },
  {
   "cell_type": "code",
   "execution_count": 0,
   "metadata": {
    "colab": {},
    "colab_type": "code",
    "collapsed": true,
    "id": "CyZdrheWdKSJ"
   },
   "outputs": [],
   "source": []
  }
 ],
 "metadata": {
  "colab": {
   "collapsed_sections": [],
   "name": "svm_tfidf.ipynb",
   "provenance": [
    {
     "file_id": "17Y959qZCaAjCSG15IRcyT8fjHIm1SO7A",
     "timestamp": 1547912102331
    }
   ],
   "version": "0.3.2"
  },
  "kernelspec": {
   "display_name": "Python 3",
   "language": "python",
   "name": "python3"
  },
  "language_info": {
   "codemirror_mode": {
    "name": "ipython",
    "version": 3
   },
   "file_extension": ".py",
   "mimetype": "text/x-python",
   "name": "python",
   "nbconvert_exporter": "python",
   "pygments_lexer": "ipython3",
   "version": "3.6.3"
  }
 },
 "nbformat": 4,
 "nbformat_minor": 1
}
