{
 "cells": [
  {
   "cell_type": "markdown",
   "metadata": {
    "colab_type": "text",
    "id": "_21b5wFMIGES"
   },
   "source": [
    "# OBJECTIVE \n",
    " 1. <b> APPLYING SVM  WITH   TFIDF WORD2VEC VECTORIZATION\n",
    "\n",
    "2. FINDING THE BEST HYPERPARAMETER USING GRIDSEARCHCV WITH TRAIN DATA AND CROSS-VALIDATION       DATA BY PLOTTING THE RESLUTS OF CROSS VALIDATION DATA UISNG HEATMAP\n",
    "  \n",
    "3. PLOTTING OF ROC CURVE TO CHECK FOR THE AUC_SCORE \n",
    "  \n",
    "4. USING THE APROPRIATE VALUE OF HYPERPARAMETER ,TESTING \n",
    "    ACCURACY ON TEST DATA USING AUC-SCORE\n",
    "  \n",
    "5. PLOTTING THE CONFUSION MATRIX TO GET THE PRECISOIN ,RECALL\n",
    "    VALUE WITH HELP OF HEATMAP\n",
    "  \n",
    "6. PRINTING THE TOP 30 MOST IMPORTANT FEATURES #"
   ]
  },
  {
   "cell_type": "code",
   "execution_count": 2,
   "metadata": {
    "colab": {},
    "colab_type": "code",
    "id": "5mY65CSoHLvF"
   },
   "outputs": [],
   "source": [
    "from sklearn.model_selection import train_test_split          #importing the necessary libraries\n",
    "from sklearn.model_selection import RandomizedSearchCV\n",
    "from sklearn.datasets import *\n",
    "from sklearn import naive_bayes\n",
    "from sklearn.feature_extraction.text import CountVectorizer\n",
    "from sklearn.feature_extraction.text import TfidfVectorizer\n",
    "import numpy as np\n",
    "import pandas as pd\n",
    "from sklearn import *\n",
    "import warnings\n",
    "warnings.filterwarnings(\"ignore\")\n",
    "from gensim.models import Word2Vec\n",
    "from tqdm import tqdm"
   ]
  },
  {
   "cell_type": "code",
   "execution_count": 3,
   "metadata": {
    "colab": {},
    "colab_type": "code",
    "collapsed": true,
    "id": "th4CA4XRHRpQ"
   },
   "outputs": [],
   "source": [
    "final_processed_data=pd.read_csv(\"C:/Users/Mayank/Desktop/final_new_data.csv\")#loading the preprocessed data  with 100k points into dataframe "
   ]
  },
  {
   "cell_type": "code",
   "execution_count": 4,
   "metadata": {
    "colab": {
     "base_uri": "https://localhost:8080/",
     "height": 52
    },
    "colab_type": "code",
    "executionInfo": {
     "elapsed": 1769,
     "status": "ok",
     "timestamp": 1548881423194,
     "user": {
      "displayName": "mayank aggarwal",
      "photoUrl": "",
      "userId": "04107947634097457088"
     },
     "user_tz": -330
    },
    "id": "S0i-MyocHc5X",
    "outputId": "b7fd41a4-99f1-40f4-c56c-3e479b053171"
   },
   "outputs": [
    {
     "name": "stdout",
     "output_type": "stream",
     "text": [
      "88521\n",
      "11479\n"
     ]
    }
   ],
   "source": [
    "# getting the counts of 0 and 1 in \"SCORE\" column to know whether it is unbalanced data or not\n",
    "count_of_1=0\n",
    "count_of_0=0\n",
    "for i in final_processed_data['Score']:\n",
    "   if i==1:\n",
    "    count_of_1+=1\n",
    "   else:\n",
    "    count_of_0+=1\n",
    "print(count_of_1)\n",
    "print(count_of_0)\n",
    "#it is an imbalanced dataset"
   ]
  },
  {
   "cell_type": "code",
   "execution_count": 5,
   "metadata": {
    "colab": {},
    "colab_type": "code",
    "collapsed": true,
    "id": "xylyFfmfHgqM"
   },
   "outputs": [],
   "source": [
    "#spliiting the data into train and test data\n",
    "x_train,x_test,y_train,y_test=model_selection.train_test_split(final_processed_data['CleanedText'].values,final_processed_data['Score'].values,test_size=0.2,shuffle=False)"
   ]
  },
  {
   "cell_type": "code",
   "execution_count": null,
   "metadata": {
    "colab": {
     "base_uri": "https://localhost:8080/",
     "height": 126
    },
    "colab_type": "code",
    "executionInfo": {
     "elapsed": 22824,
     "status": "ok",
     "timestamp": 1548881447039,
     "user": {
      "displayName": "mayank aggarwal",
      "photoUrl": "",
      "userId": "04107947634097457088"
     },
     "user_tz": -330
    },
    "id": "cQ_OOlWIhDog",
    "outputId": "50c5f309-f085-4172-a603-c2257c847766"
   },
   "outputs": [
    {
     "name": "stdout",
     "output_type": "stream",
     "text": [
      "witti littl book make son laugh loud recit car drive along alway sing refrain hes learn whale india droop love new word book introduc silli classic book will bet son still abl recit memori colleg\n",
      "*****************************************************************\n",
      "['witti', 'littl', 'book', 'make', 'son', 'laugh', 'loud', 'recit', 'car', 'drive', 'along', 'alway', 'sing', 'refrain', 'hes', 'learn', 'whale', 'india', 'droop', 'love', 'new', 'word', 'book', 'introduc', 'silli', 'classic', 'book', 'will', 'bet', 'son', 'still', 'abl', 'recit', 'memori', 'colleg']\n",
      "***********************************************************************\n",
      "sample words  ['witti', 'littl', 'book', 'make', 'son', 'laugh', 'loud', 'car', 'drive', 'along', 'alway', 'sing', 'refrain', 'hes', 'learn', 'india', 'droop', 'love', 'new', 'word']\n"
     ]
    }
   ],
   "source": [
    "# Training my own Word2Vec model using your own text corpus\n",
    "list_of_sent=[]\n",
    "for sent in x_train:\n",
    " list_of_sent.append(sent.split())#splitting of sentences into words AND appending them to list\n",
    "print(x_train[0])\n",
    "print(\"*****************************************************************\")\n",
    "print(list_of_sent[0])\n",
    "word_to_vector=Word2Vec(list_of_sent,min_count=5,size=100,workers=2)#constructing my our word to vector\n",
    "w_t_c_words=list(word_to_vector.wv.vocab)\n",
    "print(\"***********************************************************************\")\n",
    "print(\"sample words \", w_t_c_words[0:20])"
   ]
  },
  {
   "cell_type": "code",
   "execution_count": null,
   "metadata": {
    "colab": {
     "base_uri": "https://localhost:8080/",
     "height": 34
    },
    "colab_type": "code",
    "executionInfo": {
     "elapsed": 178224,
     "status": "ok",
     "timestamp": 1548881608179,
     "user": {
      "displayName": "mayank aggarwal",
      "photoUrl": "",
      "userId": "04107947634097457088"
     },
     "user_tz": -330
    },
    "id": "La7ZueKohDlk",
    "outputId": "d6e9e3f9-b7df-4002-d38d-8e8fb421d14f"
   },
   "outputs": [
    {
     "name": "stderr",
     "output_type": "stream",
     "text": [
      " 47%|███████████████████████████████████▌                                       | 37898/80000 [02:51<03:45, 186.83it/s]"
     ]
    }
   ],
   "source": [
    "###### NOW STARTING TFIDF WORD TO VEC FOR TRAIN DATA#################################################################\n",
    "#NOW STARTING TF-IDF WEIGHTED WORD-TO-VEC\n",
    "model = TfidfVectorizer()\n",
    "tf_idf_matrix = model.fit_transform(x_train)\n",
    "# we are converting a dictionary with word as a key, and the idf as a value\n",
    "dictionary = dict(zip(model.get_feature_names(), list(model.idf_)))\n",
    "train_tfidf_sent_vectors =[]# the tfidf-w2v for each sentence/review is stored in this list\n",
    "\n",
    "for sent in tqdm(list_of_sent): # for each review/sentence\n",
    "  sent_vec = np.zeros(100) # as word vectors are of zero length\n",
    "  weight_sum =0; # num of words with a valid vector in the sentence/review\n",
    "  for word in sent: # for each word in a review/sentence\n",
    "   if word in w_t_c_words:\n",
    "     vec = word_to_vector.wv[word]\n",
    "     tf_idf = dictionary[word]*(sent.count(word)/len(sent))# dictionary[word] = idf value of word in whole courpus\n",
    "     sent_vec += (vec * tf_idf)# sent.count(word) = tf valeus of word in this review\n",
    "     weight_sum += tf_idf \n",
    "  if weight_sum != 0:\n",
    "   sent_vec /= weight_sum\n",
    "   train_tfidf_sent_vectors.append(sent_vec)"
   ]
  },
  {
   "cell_type": "code",
   "execution_count": null,
   "metadata": {
    "colab": {
     "base_uri": "https://localhost:8080/",
     "height": 34
    },
    "colab_type": "code",
    "executionInfo": {
     "elapsed": 170612,
     "status": "ok",
     "timestamp": 1548881608634,
     "user": {
      "displayName": "mayank aggarwal",
      "photoUrl": "",
      "userId": "04107947634097457088"
     },
     "user_tz": -330
    },
    "id": "8P34R0vkhDfN",
    "outputId": "1c37e4da-8855-4ec3-8726-8dbab94bb126"
   },
   "outputs": [],
   "source": [
    "from sklearn.preprocessing import StandardScaler #standarizing the training  data  \n",
    "x_train_data=StandardScaler( with_mean=False).fit_transform(train_tfidf_sent_vectors)\n",
    "print(x_train_data.shape)"
   ]
  },
  {
   "cell_type": "code",
   "execution_count": null,
   "metadata": {
    "colab": {
     "base_uri": "https://localhost:8080/",
     "height": 87
    },
    "colab_type": "code",
    "executionInfo": {
     "elapsed": 162310,
     "status": "ok",
     "timestamp": 1548881608636,
     "user": {
      "displayName": "mayank aggarwal",
      "photoUrl": "",
      "userId": "04107947634097457088"
     },
     "user_tz": -330
    },
    "id": "OQGcFiq2hDZC",
    "outputId": "05cd9d41-628b-4742-ff20-1ddcb8e47782"
   },
   "outputs": [],
   "source": [
    "list_of_sent=[]\n",
    "for sent in x_test:\n",
    " list_of_sent.append(sent.split())#splitting of sentences into words AND appending them to list\n",
    "print(x_test[0])\n",
    "print(\"*****************************************************************\")\n",
    "print(list_of_sent[0])\n",
    "print('*******************************************************************')\n"
   ]
  },
  {
   "cell_type": "code",
   "execution_count": null,
   "metadata": {
    "colab": {
     "base_uri": "https://localhost:8080/",
     "height": 34
    },
    "colab_type": "code",
    "executionInfo": {
     "elapsed": 205557,
     "status": "ok",
     "timestamp": 1548881656656,
     "user": {
      "displayName": "mayank aggarwal",
      "photoUrl": "",
      "userId": "04107947634097457088"
     },
     "user_tz": -330
    },
    "id": "A7Zy-7Y6hDSt",
    "outputId": "01274e92-2005-4921-8a3f-4127a5b588ac"
   },
   "outputs": [],
   "source": [
    "###### NOW STARTING TFIDF WORD TO VEC FOR TEST DATA#################################################################\n",
    "#NOW STARTING TF-IDF WEIGHTED WORD-TO-VEC\n",
    "model = TfidfVectorizer()\n",
    "model.fit_transform(x_train)\n",
    "model.transform(x_test)\n",
    "# we are converting a dictionary with word as a key, and the idf as a value\n",
    "dictionary = dict(zip(model.get_feature_names(), list(model.idf_)))\n",
    "test_tfidf_sent_vectors =[]# the tfidf-w2v for each sentence/review is stored in this list\n",
    "\n",
    "for sent in tqdm(list_of_sent): # for each review/sentence\n",
    "  sent_vec = np.zeros(100) # as word vectors are of zero length\n",
    "  weight_sum =0; # num of words with a valid vector in the sentence/review\n",
    "  for word in sent: # for each word in a review/sentence\n",
    "   if word in w_t_c_words:\n",
    "     vec = word_to_vector.wv[word]\n",
    "     tf_idf = dictionary[word]*(sent.count(word)/len(sent))# dictionary[word] = idf value of word in whole courpus\n",
    "     sent_vec += (vec * tf_idf)# sent.count(word) = tf valeus of word in this review\n",
    "     weight_sum += tf_idf\n",
    "  if weight_sum != 0:\n",
    "   sent_vec /= weight_sum\n",
    "   test_tfidf_sent_vectors.append(sent_vec)"
   ]
  },
  {
   "cell_type": "code",
   "execution_count": null,
   "metadata": {
    "colab": {
     "base_uri": "https://localhost:8080/",
     "height": 34
    },
    "colab_type": "code",
    "executionInfo": {
     "elapsed": 203918,
     "status": "ok",
     "timestamp": 1548881656660,
     "user": {
      "displayName": "mayank aggarwal",
      "photoUrl": "",
      "userId": "04107947634097457088"
     },
     "user_tz": -330
    },
    "id": "7clSTKOJhDKc",
    "outputId": "6d0be4eb-bfd3-4619-ba5e-bd92d6826ceb"
   },
   "outputs": [],
   "source": [
    "from sklearn.preprocessing import StandardScaler #standarizing the training  data  \n",
    "x_test_data=StandardScaler( with_mean=False).fit_transform(test_tfidf_sent_vectors)\n",
    "print(x_test_data.shape)"
   ]
  },
  {
   "cell_type": "code",
   "execution_count": null,
   "metadata": {
    "colab": {},
    "colab_type": "code",
    "collapsed": true,
    "id": "loc-XZRehC_-"
   },
   "outputs": [],
   "source": []
  },
  {
   "cell_type": "code",
   "execution_count": 13,
   "metadata": {
    "colab": {},
    "colab_type": "code",
    "collapsed": true,
    "id": "QweFhr0LHyZi"
   },
   "outputs": [],
   "source": [
    "#using time series split method for cross-validation score\n",
    "from sklearn.model_selection import TimeSeriesSplit\n",
    "tscv = TimeSeriesSplit(n_splits=10) \n",
    "from sklearn.linear_model import SGDClassifier\n",
    "from sklearn.calibration import CalibratedClassifierCV\n",
    "data=[10**-4,10**-3,10**-2,10**-1,10**0,10**1,10**2,10**3,10**4]#range of hyperparameter\n",
    "\n",
    "\n",
    "sgd=SGDClassifier(loss='log',class_weight={1:0.5,0:0.5},n_jobs=-1)\n",
    "tuned_para=[{'alpha':data,'penalty':['l1','l2']}] \n"
   ]
  },
  {
   "cell_type": "code",
   "execution_count": 14,
   "metadata": {
    "colab": {
     "base_uri": "https://localhost:8080/",
     "height": 176
    },
    "colab_type": "code",
    "executionInfo": {
     "elapsed": 236682,
     "status": "ok",
     "timestamp": 1548881700980,
     "user": {
      "displayName": "mayank aggarwal",
      "photoUrl": "",
      "userId": "04107947634097457088"
     },
     "user_tz": -330
    },
    "id": "Ym2cHVNEPAbJ",
    "outputId": "d717ab81-ab72-48bd-c20a-48ee8fea33cc"
   },
   "outputs": [
    {
     "name": "stdout",
     "output_type": "stream",
     "text": [
      "Wall time: 0 ns\n",
      "BEST ESTIMATORS FOR MODEL ARE  SGDClassifier(alpha=0.01, average=False, class_weight={1: 0.5, 0: 0.5},\n",
      "       epsilon=0.1, eta0=0.0, fit_intercept=True, l1_ratio=0.15,\n",
      "       learning_rate='optimal', loss='log', max_iter=None, n_iter=None,\n",
      "       n_jobs=-1, penalty='l2', power_t=0.5, random_state=None,\n",
      "       shuffle=True, tol=None, verbose=0, warm_start=False)\n",
      "AUC_SCORE OF TEST DATA IS 0.866824824512\n"
     ]
    }
   ],
   "source": [
    "#applying the model of support vector machine and using gridsearchcv to find the best hyper parameter\n",
    "%time\n",
    "from sklearn.model_selection import GridSearchCV\n",
    "model = GridSearchCV(sgd, tuned_para, scoring = 'roc_auc', cv=tscv,n_jobs=-1)#building the gridsearchcv model\n",
    "model.fit(x_train_data, y_train)#fiitting the training data\n",
    "\n",
    "print('BEST ESTIMATORS FOR MODEL ARE ',model.best_estimator_)#printing the best_estimator\n",
    "print('AUC_SCORE OF TEST DATA IS',model.score(x_test_data, y_test))\n",
    "\n"
   ]
  },
  {
   "cell_type": "code",
   "execution_count": 14,
   "metadata": {
    "colab": {
     "base_uri": "https://localhost:8080/",
     "height": 1536
    },
    "colab_type": "code",
    "executionInfo": {
     "elapsed": 235373,
     "status": "ok",
     "timestamp": 1548881700988,
     "user": {
      "displayName": "mayank aggarwal",
      "photoUrl": "",
      "userId": "04107947634097457088"
     },
     "user_tz": -330
    },
    "id": "l-Xqmdy02trE",
    "outputId": "d0568671-0a64-440b-b0d6-755694bf76e9"
   },
   "outputs": [
    {
     "data": {
      "text/html": [
       "<div>\n",
       "<style scoped>\n",
       "    .dataframe tbody tr th:only-of-type {\n",
       "        vertical-align: middle;\n",
       "    }\n",
       "\n",
       "    .dataframe tbody tr th {\n",
       "        vertical-align: top;\n",
       "    }\n",
       "\n",
       "    .dataframe thead th {\n",
       "        text-align: right;\n",
       "    }\n",
       "</style>\n",
       "<table border=\"1\" class=\"dataframe\">\n",
       "  <thead>\n",
       "    <tr style=\"text-align: right;\">\n",
       "      <th></th>\n",
       "      <th>mean_fit_time</th>\n",
       "      <th>mean_score_time</th>\n",
       "      <th>mean_test_score</th>\n",
       "      <th>mean_train_score</th>\n",
       "      <th>param_alpha</th>\n",
       "      <th>param_penalty</th>\n",
       "      <th>params</th>\n",
       "      <th>rank_test_score</th>\n",
       "      <th>split0_test_score</th>\n",
       "      <th>split0_train_score</th>\n",
       "      <th>...</th>\n",
       "      <th>split7_test_score</th>\n",
       "      <th>split7_train_score</th>\n",
       "      <th>split8_test_score</th>\n",
       "      <th>split8_train_score</th>\n",
       "      <th>split9_test_score</th>\n",
       "      <th>split9_train_score</th>\n",
       "      <th>std_fit_time</th>\n",
       "      <th>std_score_time</th>\n",
       "      <th>std_test_score</th>\n",
       "      <th>std_train_score</th>\n",
       "    </tr>\n",
       "  </thead>\n",
       "  <tbody>\n",
       "    <tr>\n",
       "      <th>0</th>\n",
       "      <td>0.390841</td>\n",
       "      <td>0.007605</td>\n",
       "      <td>0.935846</td>\n",
       "      <td>0.938038</td>\n",
       "      <td>0.0001</td>\n",
       "      <td>l1</td>\n",
       "      <td>{'alpha': 0.0001, 'penalty': 'l1'}</td>\n",
       "      <td>15</td>\n",
       "      <td>0.878803</td>\n",
       "      <td>0.877079</td>\n",
       "      <td>...</td>\n",
       "      <td>0.941370</td>\n",
       "      <td>0.945736</td>\n",
       "      <td>0.931748</td>\n",
       "      <td>0.940631</td>\n",
       "      <td>0.938493</td>\n",
       "      <td>0.945956</td>\n",
       "      <td>0.141183</td>\n",
       "      <td>0.002710</td>\n",
       "      <td>0.019868</td>\n",
       "      <td>0.020471</td>\n",
       "    </tr>\n",
       "    <tr>\n",
       "      <th>1</th>\n",
       "      <td>0.256358</td>\n",
       "      <td>0.007321</td>\n",
       "      <td>0.937721</td>\n",
       "      <td>0.940642</td>\n",
       "      <td>0.0001</td>\n",
       "      <td>l2</td>\n",
       "      <td>{'alpha': 0.0001, 'penalty': 'l2'}</td>\n",
       "      <td>14</td>\n",
       "      <td>0.928379</td>\n",
       "      <td>0.932194</td>\n",
       "      <td>...</td>\n",
       "      <td>0.927074</td>\n",
       "      <td>0.930116</td>\n",
       "      <td>0.930539</td>\n",
       "      <td>0.941023</td>\n",
       "      <td>0.938065</td>\n",
       "      <td>0.943365</td>\n",
       "      <td>0.098449</td>\n",
       "      <td>0.002190</td>\n",
       "      <td>0.006868</td>\n",
       "      <td>0.005683</td>\n",
       "    </tr>\n",
       "    <tr>\n",
       "      <th>2</th>\n",
       "      <td>0.378334</td>\n",
       "      <td>0.008695</td>\n",
       "      <td>0.943315</td>\n",
       "      <td>0.946198</td>\n",
       "      <td>0.001</td>\n",
       "      <td>l1</td>\n",
       "      <td>{'alpha': 0.001, 'penalty': 'l1'}</td>\n",
       "      <td>2</td>\n",
       "      <td>0.947942</td>\n",
       "      <td>0.949173</td>\n",
       "      <td>...</td>\n",
       "      <td>0.938286</td>\n",
       "      <td>0.943686</td>\n",
       "      <td>0.936289</td>\n",
       "      <td>0.942591</td>\n",
       "      <td>0.937203</td>\n",
       "      <td>0.941801</td>\n",
       "      <td>0.157106</td>\n",
       "      <td>0.002786</td>\n",
       "      <td>0.005642</td>\n",
       "      <td>0.002847</td>\n",
       "    </tr>\n",
       "    <tr>\n",
       "      <th>3</th>\n",
       "      <td>0.255560</td>\n",
       "      <td>0.005737</td>\n",
       "      <td>0.942203</td>\n",
       "      <td>0.945842</td>\n",
       "      <td>0.001</td>\n",
       "      <td>l2</td>\n",
       "      <td>{'alpha': 0.001, 'penalty': 'l2'}</td>\n",
       "      <td>3</td>\n",
       "      <td>0.917327</td>\n",
       "      <td>0.917534</td>\n",
       "      <td>...</td>\n",
       "      <td>0.946498</td>\n",
       "      <td>0.949699</td>\n",
       "      <td>0.939487</td>\n",
       "      <td>0.949623</td>\n",
       "      <td>0.939617</td>\n",
       "      <td>0.946921</td>\n",
       "      <td>0.110155</td>\n",
       "      <td>0.002072</td>\n",
       "      <td>0.009144</td>\n",
       "      <td>0.009550</td>\n",
       "    </tr>\n",
       "    <tr>\n",
       "      <th>4</th>\n",
       "      <td>0.394182</td>\n",
       "      <td>0.006039</td>\n",
       "      <td>0.941242</td>\n",
       "      <td>0.941594</td>\n",
       "      <td>0.01</td>\n",
       "      <td>l1</td>\n",
       "      <td>{'alpha': 0.01, 'penalty': 'l1'}</td>\n",
       "      <td>5</td>\n",
       "      <td>0.942793</td>\n",
       "      <td>0.936916</td>\n",
       "      <td>...</td>\n",
       "      <td>0.937696</td>\n",
       "      <td>0.942494</td>\n",
       "      <td>0.934584</td>\n",
       "      <td>0.941963</td>\n",
       "      <td>0.937231</td>\n",
       "      <td>0.941230</td>\n",
       "      <td>0.170198</td>\n",
       "      <td>0.004510</td>\n",
       "      <td>0.004465</td>\n",
       "      <td>0.001813</td>\n",
       "    </tr>\n",
       "    <tr>\n",
       "      <th>5</th>\n",
       "      <td>0.253765</td>\n",
       "      <td>0.007308</td>\n",
       "      <td>0.943502</td>\n",
       "      <td>0.946110</td>\n",
       "      <td>0.01</td>\n",
       "      <td>l2</td>\n",
       "      <td>{'alpha': 0.01, 'penalty': 'l2'}</td>\n",
       "      <td>1</td>\n",
       "      <td>0.949298</td>\n",
       "      <td>0.949064</td>\n",
       "      <td>...</td>\n",
       "      <td>0.939720</td>\n",
       "      <td>0.944391</td>\n",
       "      <td>0.936358</td>\n",
       "      <td>0.942809</td>\n",
       "      <td>0.937637</td>\n",
       "      <td>0.943127</td>\n",
       "      <td>0.086618</td>\n",
       "      <td>0.002313</td>\n",
       "      <td>0.004808</td>\n",
       "      <td>0.002245</td>\n",
       "    </tr>\n",
       "    <tr>\n",
       "      <th>6</th>\n",
       "      <td>0.384208</td>\n",
       "      <td>0.006834</td>\n",
       "      <td>0.941242</td>\n",
       "      <td>0.941594</td>\n",
       "      <td>0.1</td>\n",
       "      <td>l1</td>\n",
       "      <td>{'alpha': 0.1, 'penalty': 'l1'}</td>\n",
       "      <td>5</td>\n",
       "      <td>0.942793</td>\n",
       "      <td>0.936916</td>\n",
       "      <td>...</td>\n",
       "      <td>0.937696</td>\n",
       "      <td>0.942494</td>\n",
       "      <td>0.934584</td>\n",
       "      <td>0.941963</td>\n",
       "      <td>0.937231</td>\n",
       "      <td>0.941230</td>\n",
       "      <td>0.158279</td>\n",
       "      <td>0.002568</td>\n",
       "      <td>0.004465</td>\n",
       "      <td>0.001813</td>\n",
       "    </tr>\n",
       "    <tr>\n",
       "      <th>7</th>\n",
       "      <td>0.259687</td>\n",
       "      <td>0.008779</td>\n",
       "      <td>0.941317</td>\n",
       "      <td>0.941594</td>\n",
       "      <td>0.1</td>\n",
       "      <td>l2</td>\n",
       "      <td>{'alpha': 0.1, 'penalty': 'l2'}</td>\n",
       "      <td>4</td>\n",
       "      <td>0.943470</td>\n",
       "      <td>0.936916</td>\n",
       "      <td>...</td>\n",
       "      <td>0.937696</td>\n",
       "      <td>0.942494</td>\n",
       "      <td>0.934584</td>\n",
       "      <td>0.941963</td>\n",
       "      <td>0.937231</td>\n",
       "      <td>0.941230</td>\n",
       "      <td>0.102671</td>\n",
       "      <td>0.004442</td>\n",
       "      <td>0.004492</td>\n",
       "      <td>0.001813</td>\n",
       "    </tr>\n",
       "    <tr>\n",
       "      <th>8</th>\n",
       "      <td>0.360240</td>\n",
       "      <td>0.007955</td>\n",
       "      <td>0.941242</td>\n",
       "      <td>0.941594</td>\n",
       "      <td>1</td>\n",
       "      <td>l1</td>\n",
       "      <td>{'alpha': 1, 'penalty': 'l1'}</td>\n",
       "      <td>5</td>\n",
       "      <td>0.942793</td>\n",
       "      <td>0.936916</td>\n",
       "      <td>...</td>\n",
       "      <td>0.937696</td>\n",
       "      <td>0.942494</td>\n",
       "      <td>0.934584</td>\n",
       "      <td>0.941963</td>\n",
       "      <td>0.937231</td>\n",
       "      <td>0.941230</td>\n",
       "      <td>0.165296</td>\n",
       "      <td>0.004964</td>\n",
       "      <td>0.004465</td>\n",
       "      <td>0.001813</td>\n",
       "    </tr>\n",
       "    <tr>\n",
       "      <th>9</th>\n",
       "      <td>0.258992</td>\n",
       "      <td>0.007090</td>\n",
       "      <td>0.941242</td>\n",
       "      <td>0.941594</td>\n",
       "      <td>1</td>\n",
       "      <td>l2</td>\n",
       "      <td>{'alpha': 1, 'penalty': 'l2'}</td>\n",
       "      <td>5</td>\n",
       "      <td>0.942793</td>\n",
       "      <td>0.936916</td>\n",
       "      <td>...</td>\n",
       "      <td>0.937696</td>\n",
       "      <td>0.942494</td>\n",
       "      <td>0.934584</td>\n",
       "      <td>0.941963</td>\n",
       "      <td>0.937231</td>\n",
       "      <td>0.941230</td>\n",
       "      <td>0.101260</td>\n",
       "      <td>0.002097</td>\n",
       "      <td>0.004465</td>\n",
       "      <td>0.001813</td>\n",
       "    </tr>\n",
       "    <tr>\n",
       "      <th>10</th>\n",
       "      <td>0.564400</td>\n",
       "      <td>0.005683</td>\n",
       "      <td>0.941242</td>\n",
       "      <td>0.941594</td>\n",
       "      <td>10</td>\n",
       "      <td>l1</td>\n",
       "      <td>{'alpha': 10, 'penalty': 'l1'}</td>\n",
       "      <td>5</td>\n",
       "      <td>0.942793</td>\n",
       "      <td>0.936916</td>\n",
       "      <td>...</td>\n",
       "      <td>0.937696</td>\n",
       "      <td>0.942494</td>\n",
       "      <td>0.934584</td>\n",
       "      <td>0.941963</td>\n",
       "      <td>0.937231</td>\n",
       "      <td>0.941230</td>\n",
       "      <td>0.261422</td>\n",
       "      <td>0.002081</td>\n",
       "      <td>0.004465</td>\n",
       "      <td>0.001813</td>\n",
       "    </tr>\n",
       "    <tr>\n",
       "      <th>11</th>\n",
       "      <td>0.305009</td>\n",
       "      <td>0.008994</td>\n",
       "      <td>0.941233</td>\n",
       "      <td>0.941392</td>\n",
       "      <td>10</td>\n",
       "      <td>l2</td>\n",
       "      <td>{'alpha': 10, 'penalty': 'l2'}</td>\n",
       "      <td>13</td>\n",
       "      <td>0.942793</td>\n",
       "      <td>0.936916</td>\n",
       "      <td>...</td>\n",
       "      <td>0.937696</td>\n",
       "      <td>0.942494</td>\n",
       "      <td>0.934652</td>\n",
       "      <td>0.941357</td>\n",
       "      <td>0.937231</td>\n",
       "      <td>0.941230</td>\n",
       "      <td>0.123847</td>\n",
       "      <td>0.004020</td>\n",
       "      <td>0.004457</td>\n",
       "      <td>0.001768</td>\n",
       "    </tr>\n",
       "    <tr>\n",
       "      <th>12</th>\n",
       "      <td>0.561000</td>\n",
       "      <td>0.006147</td>\n",
       "      <td>0.941242</td>\n",
       "      <td>0.941594</td>\n",
       "      <td>100</td>\n",
       "      <td>l1</td>\n",
       "      <td>{'alpha': 100, 'penalty': 'l1'}</td>\n",
       "      <td>5</td>\n",
       "      <td>0.942793</td>\n",
       "      <td>0.936916</td>\n",
       "      <td>...</td>\n",
       "      <td>0.937696</td>\n",
       "      <td>0.942494</td>\n",
       "      <td>0.934584</td>\n",
       "      <td>0.941963</td>\n",
       "      <td>0.937231</td>\n",
       "      <td>0.941230</td>\n",
       "      <td>0.267682</td>\n",
       "      <td>0.002842</td>\n",
       "      <td>0.004465</td>\n",
       "      <td>0.001813</td>\n",
       "    </tr>\n",
       "    <tr>\n",
       "      <th>13</th>\n",
       "      <td>0.311735</td>\n",
       "      <td>0.007591</td>\n",
       "      <td>0.837677</td>\n",
       "      <td>0.838774</td>\n",
       "      <td>100</td>\n",
       "      <td>l2</td>\n",
       "      <td>{'alpha': 100, 'penalty': 'l2'}</td>\n",
       "      <td>17</td>\n",
       "      <td>0.942793</td>\n",
       "      <td>0.936916</td>\n",
       "      <td>...</td>\n",
       "      <td>0.397017</td>\n",
       "      <td>0.433990</td>\n",
       "      <td>0.934584</td>\n",
       "      <td>0.941963</td>\n",
       "      <td>0.442260</td>\n",
       "      <td>0.421531</td>\n",
       "      <td>0.139592</td>\n",
       "      <td>0.001859</td>\n",
       "      <td>0.209303</td>\n",
       "      <td>0.205534</td>\n",
       "    </tr>\n",
       "    <tr>\n",
       "      <th>14</th>\n",
       "      <td>0.557370</td>\n",
       "      <td>0.006901</td>\n",
       "      <td>0.941242</td>\n",
       "      <td>0.941594</td>\n",
       "      <td>1000</td>\n",
       "      <td>l1</td>\n",
       "      <td>{'alpha': 1000, 'penalty': 'l1'}</td>\n",
       "      <td>5</td>\n",
       "      <td>0.942793</td>\n",
       "      <td>0.936916</td>\n",
       "      <td>...</td>\n",
       "      <td>0.937696</td>\n",
       "      <td>0.942494</td>\n",
       "      <td>0.934584</td>\n",
       "      <td>0.941963</td>\n",
       "      <td>0.937231</td>\n",
       "      <td>0.941230</td>\n",
       "      <td>0.239938</td>\n",
       "      <td>0.001998</td>\n",
       "      <td>0.004465</td>\n",
       "      <td>0.001813</td>\n",
       "    </tr>\n",
       "    <tr>\n",
       "      <th>15</th>\n",
       "      <td>0.315099</td>\n",
       "      <td>0.008764</td>\n",
       "      <td>0.941242</td>\n",
       "      <td>0.941594</td>\n",
       "      <td>1000</td>\n",
       "      <td>l2</td>\n",
       "      <td>{'alpha': 1000, 'penalty': 'l2'}</td>\n",
       "      <td>5</td>\n",
       "      <td>0.942793</td>\n",
       "      <td>0.936916</td>\n",
       "      <td>...</td>\n",
       "      <td>0.937696</td>\n",
       "      <td>0.942494</td>\n",
       "      <td>0.934584</td>\n",
       "      <td>0.941963</td>\n",
       "      <td>0.937231</td>\n",
       "      <td>0.941230</td>\n",
       "      <td>0.131972</td>\n",
       "      <td>0.001953</td>\n",
       "      <td>0.004465</td>\n",
       "      <td>0.001813</td>\n",
       "    </tr>\n",
       "    <tr>\n",
       "      <th>16</th>\n",
       "      <td>0.549220</td>\n",
       "      <td>0.007016</td>\n",
       "      <td>0.846963</td>\n",
       "      <td>0.847903</td>\n",
       "      <td>10000</td>\n",
       "      <td>l1</td>\n",
       "      <td>{'alpha': 10000, 'penalty': 'l1'}</td>\n",
       "      <td>16</td>\n",
       "      <td>0.000000</td>\n",
       "      <td>0.000000</td>\n",
       "      <td>...</td>\n",
       "      <td>0.937696</td>\n",
       "      <td>0.942494</td>\n",
       "      <td>0.934584</td>\n",
       "      <td>0.941963</td>\n",
       "      <td>0.937231</td>\n",
       "      <td>0.941230</td>\n",
       "      <td>0.247611</td>\n",
       "      <td>0.002079</td>\n",
       "      <td>0.282356</td>\n",
       "      <td>0.282636</td>\n",
       "    </tr>\n",
       "    <tr>\n",
       "      <th>17</th>\n",
       "      <td>0.304729</td>\n",
       "      <td>0.007485</td>\n",
       "      <td>0.658485</td>\n",
       "      <td>0.659720</td>\n",
       "      <td>10000</td>\n",
       "      <td>l2</td>\n",
       "      <td>{'alpha': 10000, 'penalty': 'l2'}</td>\n",
       "      <td>18</td>\n",
       "      <td>0.000000</td>\n",
       "      <td>0.000000</td>\n",
       "      <td>...</td>\n",
       "      <td>0.937696</td>\n",
       "      <td>0.942494</td>\n",
       "      <td>0.000000</td>\n",
       "      <td>0.000000</td>\n",
       "      <td>0.937231</td>\n",
       "      <td>0.941230</td>\n",
       "      <td>0.111026</td>\n",
       "      <td>0.001800</td>\n",
       "      <td>0.431088</td>\n",
       "      <td>0.431889</td>\n",
       "    </tr>\n",
       "  </tbody>\n",
       "</table>\n",
       "<p>18 rows × 32 columns</p>\n",
       "</div>"
      ],
      "text/plain": [
       "    mean_fit_time  mean_score_time  mean_test_score  mean_train_score  \\\n",
       "0        0.390841         0.007605         0.935846          0.938038   \n",
       "1        0.256358         0.007321         0.937721          0.940642   \n",
       "2        0.378334         0.008695         0.943315          0.946198   \n",
       "3        0.255560         0.005737         0.942203          0.945842   \n",
       "4        0.394182         0.006039         0.941242          0.941594   \n",
       "5        0.253765         0.007308         0.943502          0.946110   \n",
       "6        0.384208         0.006834         0.941242          0.941594   \n",
       "7        0.259687         0.008779         0.941317          0.941594   \n",
       "8        0.360240         0.007955         0.941242          0.941594   \n",
       "9        0.258992         0.007090         0.941242          0.941594   \n",
       "10       0.564400         0.005683         0.941242          0.941594   \n",
       "11       0.305009         0.008994         0.941233          0.941392   \n",
       "12       0.561000         0.006147         0.941242          0.941594   \n",
       "13       0.311735         0.007591         0.837677          0.838774   \n",
       "14       0.557370         0.006901         0.941242          0.941594   \n",
       "15       0.315099         0.008764         0.941242          0.941594   \n",
       "16       0.549220         0.007016         0.846963          0.847903   \n",
       "17       0.304729         0.007485         0.658485          0.659720   \n",
       "\n",
       "   param_alpha param_penalty                              params  \\\n",
       "0       0.0001            l1  {'alpha': 0.0001, 'penalty': 'l1'}   \n",
       "1       0.0001            l2  {'alpha': 0.0001, 'penalty': 'l2'}   \n",
       "2        0.001            l1   {'alpha': 0.001, 'penalty': 'l1'}   \n",
       "3        0.001            l2   {'alpha': 0.001, 'penalty': 'l2'}   \n",
       "4         0.01            l1    {'alpha': 0.01, 'penalty': 'l1'}   \n",
       "5         0.01            l2    {'alpha': 0.01, 'penalty': 'l2'}   \n",
       "6          0.1            l1     {'alpha': 0.1, 'penalty': 'l1'}   \n",
       "7          0.1            l2     {'alpha': 0.1, 'penalty': 'l2'}   \n",
       "8            1            l1       {'alpha': 1, 'penalty': 'l1'}   \n",
       "9            1            l2       {'alpha': 1, 'penalty': 'l2'}   \n",
       "10          10            l1      {'alpha': 10, 'penalty': 'l1'}   \n",
       "11          10            l2      {'alpha': 10, 'penalty': 'l2'}   \n",
       "12         100            l1     {'alpha': 100, 'penalty': 'l1'}   \n",
       "13         100            l2     {'alpha': 100, 'penalty': 'l2'}   \n",
       "14        1000            l1    {'alpha': 1000, 'penalty': 'l1'}   \n",
       "15        1000            l2    {'alpha': 1000, 'penalty': 'l2'}   \n",
       "16       10000            l1   {'alpha': 10000, 'penalty': 'l1'}   \n",
       "17       10000            l2   {'alpha': 10000, 'penalty': 'l2'}   \n",
       "\n",
       "    rank_test_score  split0_test_score  split0_train_score       ...         \\\n",
       "0                15           0.878803            0.877079       ...          \n",
       "1                14           0.928379            0.932194       ...          \n",
       "2                 2           0.947942            0.949173       ...          \n",
       "3                 3           0.917327            0.917534       ...          \n",
       "4                 5           0.942793            0.936916       ...          \n",
       "5                 1           0.949298            0.949064       ...          \n",
       "6                 5           0.942793            0.936916       ...          \n",
       "7                 4           0.943470            0.936916       ...          \n",
       "8                 5           0.942793            0.936916       ...          \n",
       "9                 5           0.942793            0.936916       ...          \n",
       "10                5           0.942793            0.936916       ...          \n",
       "11               13           0.942793            0.936916       ...          \n",
       "12                5           0.942793            0.936916       ...          \n",
       "13               17           0.942793            0.936916       ...          \n",
       "14                5           0.942793            0.936916       ...          \n",
       "15                5           0.942793            0.936916       ...          \n",
       "16               16           0.000000            0.000000       ...          \n",
       "17               18           0.000000            0.000000       ...          \n",
       "\n",
       "    split7_test_score  split7_train_score  split8_test_score  \\\n",
       "0            0.941370            0.945736           0.931748   \n",
       "1            0.927074            0.930116           0.930539   \n",
       "2            0.938286            0.943686           0.936289   \n",
       "3            0.946498            0.949699           0.939487   \n",
       "4            0.937696            0.942494           0.934584   \n",
       "5            0.939720            0.944391           0.936358   \n",
       "6            0.937696            0.942494           0.934584   \n",
       "7            0.937696            0.942494           0.934584   \n",
       "8            0.937696            0.942494           0.934584   \n",
       "9            0.937696            0.942494           0.934584   \n",
       "10           0.937696            0.942494           0.934584   \n",
       "11           0.937696            0.942494           0.934652   \n",
       "12           0.937696            0.942494           0.934584   \n",
       "13           0.397017            0.433990           0.934584   \n",
       "14           0.937696            0.942494           0.934584   \n",
       "15           0.937696            0.942494           0.934584   \n",
       "16           0.937696            0.942494           0.934584   \n",
       "17           0.937696            0.942494           0.000000   \n",
       "\n",
       "    split8_train_score  split9_test_score  split9_train_score  std_fit_time  \\\n",
       "0             0.940631           0.938493            0.945956      0.141183   \n",
       "1             0.941023           0.938065            0.943365      0.098449   \n",
       "2             0.942591           0.937203            0.941801      0.157106   \n",
       "3             0.949623           0.939617            0.946921      0.110155   \n",
       "4             0.941963           0.937231            0.941230      0.170198   \n",
       "5             0.942809           0.937637            0.943127      0.086618   \n",
       "6             0.941963           0.937231            0.941230      0.158279   \n",
       "7             0.941963           0.937231            0.941230      0.102671   \n",
       "8             0.941963           0.937231            0.941230      0.165296   \n",
       "9             0.941963           0.937231            0.941230      0.101260   \n",
       "10            0.941963           0.937231            0.941230      0.261422   \n",
       "11            0.941357           0.937231            0.941230      0.123847   \n",
       "12            0.941963           0.937231            0.941230      0.267682   \n",
       "13            0.941963           0.442260            0.421531      0.139592   \n",
       "14            0.941963           0.937231            0.941230      0.239938   \n",
       "15            0.941963           0.937231            0.941230      0.131972   \n",
       "16            0.941963           0.937231            0.941230      0.247611   \n",
       "17            0.000000           0.937231            0.941230      0.111026   \n",
       "\n",
       "    std_score_time  std_test_score  std_train_score  \n",
       "0         0.002710        0.019868         0.020471  \n",
       "1         0.002190        0.006868         0.005683  \n",
       "2         0.002786        0.005642         0.002847  \n",
       "3         0.002072        0.009144         0.009550  \n",
       "4         0.004510        0.004465         0.001813  \n",
       "5         0.002313        0.004808         0.002245  \n",
       "6         0.002568        0.004465         0.001813  \n",
       "7         0.004442        0.004492         0.001813  \n",
       "8         0.004964        0.004465         0.001813  \n",
       "9         0.002097        0.004465         0.001813  \n",
       "10        0.002081        0.004465         0.001813  \n",
       "11        0.004020        0.004457         0.001768  \n",
       "12        0.002842        0.004465         0.001813  \n",
       "13        0.001859        0.209303         0.205534  \n",
       "14        0.001998        0.004465         0.001813  \n",
       "15        0.001953        0.004465         0.001813  \n",
       "16        0.002079        0.282356         0.282636  \n",
       "17        0.001800        0.431088         0.431889  \n",
       "\n",
       "[18 rows x 32 columns]"
      ]
     },
     "execution_count": 14,
     "metadata": {
      "tags": []
     },
     "output_type": "execute_result"
    }
   ],
   "source": [
    "results=pd.DataFrame(model.cv_results_)# getting varoius cv_scores and train_scores various values of alpha given as parameter and storing it in a dataframe\n",
    "results#printing the dataframe"
   ]
  },
  {
   "cell_type": "code",
   "execution_count": 15,
   "metadata": {
    "colab": {
     "base_uri": "https://localhost:8080/",
     "height": 354
    },
    "colab_type": "code",
    "executionInfo": {
     "elapsed": 234477,
     "status": "ok",
     "timestamp": 1548881700993,
     "user": {
      "displayName": "mayank aggarwal",
      "photoUrl": "",
      "userId": "04107947634097457088"
     },
     "user_tz": -330
    },
    "id": "5gL7QRbrEn3F",
    "outputId": "159f55be-2933-492e-946d-1d8a9f722fc5"
   },
   "outputs": [
    {
     "data": {
      "text/plain": [
       "0     93.584643\n",
       "1     93.772139\n",
       "2     94.331540\n",
       "3     94.220349\n",
       "4     94.124239\n",
       "5     94.350178\n",
       "6     94.124239\n",
       "7     94.131700\n",
       "8     94.124239\n",
       "9     94.124239\n",
       "10    94.124239\n",
       "11    94.123293\n",
       "12    94.124239\n",
       "13    83.767744\n",
       "14    94.124239\n",
       "15    94.124239\n",
       "16    84.696311\n",
       "17    65.848527\n",
       "Name: mean_test_score, dtype: float64"
      ]
     },
     "execution_count": 15,
     "metadata": {
      "tags": []
     },
     "output_type": "execute_result"
    }
   ],
   "source": [
    "results['mean_test_score']=results['mean_test_score']*100\n",
    "results['mean_test_score']"
   ]
  },
  {
   "cell_type": "code",
   "execution_count": 16,
   "metadata": {
    "colab": {
     "base_uri": "https://localhost:8080/",
     "height": 496
    },
    "colab_type": "code",
    "executionInfo": {
     "elapsed": 233803,
     "status": "ok",
     "timestamp": 1548881701000,
     "user": {
      "displayName": "mayank aggarwal",
      "photoUrl": "",
      "userId": "04107947634097457088"
     },
     "user_tz": -330
    },
    "id": "93qdwt2zEnw1",
    "outputId": "343e9ec8-5379-4d21-922e-c9a8def5efe3"
   },
   "outputs": [
    {
     "data": {
      "text/html": [
       "<div>\n",
       "<style scoped>\n",
       "    .dataframe tbody tr th:only-of-type {\n",
       "        vertical-align: middle;\n",
       "    }\n",
       "\n",
       "    .dataframe tbody tr th {\n",
       "        vertical-align: top;\n",
       "    }\n",
       "\n",
       "    .dataframe thead th {\n",
       "        text-align: right;\n",
       "    }\n",
       "</style>\n",
       "<table border=\"1\" class=\"dataframe\">\n",
       "  <thead>\n",
       "    <tr style=\"text-align: right;\">\n",
       "      <th></th>\n",
       "      <th>mean_fit_time</th>\n",
       "      <th>mean_score_time</th>\n",
       "      <th>mean_test_score</th>\n",
       "      <th>mean_train_score</th>\n",
       "      <th>param_alpha</th>\n",
       "      <th>param_penalty</th>\n",
       "      <th>params</th>\n",
       "      <th>rank_test_score</th>\n",
       "      <th>split0_test_score</th>\n",
       "      <th>split0_train_score</th>\n",
       "      <th>...</th>\n",
       "      <th>split7_train_score</th>\n",
       "      <th>split8_test_score</th>\n",
       "      <th>split8_train_score</th>\n",
       "      <th>split9_test_score</th>\n",
       "      <th>split9_train_score</th>\n",
       "      <th>std_fit_time</th>\n",
       "      <th>std_score_time</th>\n",
       "      <th>std_test_score</th>\n",
       "      <th>std_train_score</th>\n",
       "      <th>mean_cv_error</th>\n",
       "    </tr>\n",
       "  </thead>\n",
       "  <tbody>\n",
       "    <tr>\n",
       "      <th>0</th>\n",
       "      <td>0.390841</td>\n",
       "      <td>0.007605</td>\n",
       "      <td>6.415357</td>\n",
       "      <td>0.938038</td>\n",
       "      <td>0.0001</td>\n",
       "      <td>l1</td>\n",
       "      <td>{'alpha': 0.0001, 'penalty': 'l1'}</td>\n",
       "      <td>15</td>\n",
       "      <td>0.878803</td>\n",
       "      <td>0.877079</td>\n",
       "      <td>...</td>\n",
       "      <td>0.945736</td>\n",
       "      <td>0.931748</td>\n",
       "      <td>0.940631</td>\n",
       "      <td>0.938493</td>\n",
       "      <td>0.945956</td>\n",
       "      <td>0.141183</td>\n",
       "      <td>0.002710</td>\n",
       "      <td>0.019868</td>\n",
       "      <td>0.020471</td>\n",
       "      <td>6.42</td>\n",
       "    </tr>\n",
       "    <tr>\n",
       "      <th>1</th>\n",
       "      <td>0.256358</td>\n",
       "      <td>0.007321</td>\n",
       "      <td>6.227861</td>\n",
       "      <td>0.940642</td>\n",
       "      <td>0.0001</td>\n",
       "      <td>l2</td>\n",
       "      <td>{'alpha': 0.0001, 'penalty': 'l2'}</td>\n",
       "      <td>14</td>\n",
       "      <td>0.928379</td>\n",
       "      <td>0.932194</td>\n",
       "      <td>...</td>\n",
       "      <td>0.930116</td>\n",
       "      <td>0.930539</td>\n",
       "      <td>0.941023</td>\n",
       "      <td>0.938065</td>\n",
       "      <td>0.943365</td>\n",
       "      <td>0.098449</td>\n",
       "      <td>0.002190</td>\n",
       "      <td>0.006868</td>\n",
       "      <td>0.005683</td>\n",
       "      <td>6.23</td>\n",
       "    </tr>\n",
       "    <tr>\n",
       "      <th>2</th>\n",
       "      <td>0.378334</td>\n",
       "      <td>0.008695</td>\n",
       "      <td>5.668460</td>\n",
       "      <td>0.946198</td>\n",
       "      <td>0.001</td>\n",
       "      <td>l1</td>\n",
       "      <td>{'alpha': 0.001, 'penalty': 'l1'}</td>\n",
       "      <td>2</td>\n",
       "      <td>0.947942</td>\n",
       "      <td>0.949173</td>\n",
       "      <td>...</td>\n",
       "      <td>0.943686</td>\n",
       "      <td>0.936289</td>\n",
       "      <td>0.942591</td>\n",
       "      <td>0.937203</td>\n",
       "      <td>0.941801</td>\n",
       "      <td>0.157106</td>\n",
       "      <td>0.002786</td>\n",
       "      <td>0.005642</td>\n",
       "      <td>0.002847</td>\n",
       "      <td>5.67</td>\n",
       "    </tr>\n",
       "    <tr>\n",
       "      <th>3</th>\n",
       "      <td>0.255560</td>\n",
       "      <td>0.005737</td>\n",
       "      <td>5.779651</td>\n",
       "      <td>0.945842</td>\n",
       "      <td>0.001</td>\n",
       "      <td>l2</td>\n",
       "      <td>{'alpha': 0.001, 'penalty': 'l2'}</td>\n",
       "      <td>3</td>\n",
       "      <td>0.917327</td>\n",
       "      <td>0.917534</td>\n",
       "      <td>...</td>\n",
       "      <td>0.949699</td>\n",
       "      <td>0.939487</td>\n",
       "      <td>0.949623</td>\n",
       "      <td>0.939617</td>\n",
       "      <td>0.946921</td>\n",
       "      <td>0.110155</td>\n",
       "      <td>0.002072</td>\n",
       "      <td>0.009144</td>\n",
       "      <td>0.009550</td>\n",
       "      <td>5.78</td>\n",
       "    </tr>\n",
       "    <tr>\n",
       "      <th>4</th>\n",
       "      <td>0.394182</td>\n",
       "      <td>0.006039</td>\n",
       "      <td>5.875761</td>\n",
       "      <td>0.941594</td>\n",
       "      <td>0.01</td>\n",
       "      <td>l1</td>\n",
       "      <td>{'alpha': 0.01, 'penalty': 'l1'}</td>\n",
       "      <td>5</td>\n",
       "      <td>0.942793</td>\n",
       "      <td>0.936916</td>\n",
       "      <td>...</td>\n",
       "      <td>0.942494</td>\n",
       "      <td>0.934584</td>\n",
       "      <td>0.941963</td>\n",
       "      <td>0.937231</td>\n",
       "      <td>0.941230</td>\n",
       "      <td>0.170198</td>\n",
       "      <td>0.004510</td>\n",
       "      <td>0.004465</td>\n",
       "      <td>0.001813</td>\n",
       "      <td>5.88</td>\n",
       "    </tr>\n",
       "  </tbody>\n",
       "</table>\n",
       "<p>5 rows × 33 columns</p>\n",
       "</div>"
      ],
      "text/plain": [
       "   mean_fit_time  mean_score_time  mean_test_score  mean_train_score  \\\n",
       "0       0.390841         0.007605         6.415357          0.938038   \n",
       "1       0.256358         0.007321         6.227861          0.940642   \n",
       "2       0.378334         0.008695         5.668460          0.946198   \n",
       "3       0.255560         0.005737         5.779651          0.945842   \n",
       "4       0.394182         0.006039         5.875761          0.941594   \n",
       "\n",
       "  param_alpha param_penalty                              params  \\\n",
       "0      0.0001            l1  {'alpha': 0.0001, 'penalty': 'l1'}   \n",
       "1      0.0001            l2  {'alpha': 0.0001, 'penalty': 'l2'}   \n",
       "2       0.001            l1   {'alpha': 0.001, 'penalty': 'l1'}   \n",
       "3       0.001            l2   {'alpha': 0.001, 'penalty': 'l2'}   \n",
       "4        0.01            l1    {'alpha': 0.01, 'penalty': 'l1'}   \n",
       "\n",
       "   rank_test_score  split0_test_score  split0_train_score      ...        \\\n",
       "0               15           0.878803            0.877079      ...         \n",
       "1               14           0.928379            0.932194      ...         \n",
       "2                2           0.947942            0.949173      ...         \n",
       "3                3           0.917327            0.917534      ...         \n",
       "4                5           0.942793            0.936916      ...         \n",
       "\n",
       "   split7_train_score  split8_test_score  split8_train_score  \\\n",
       "0            0.945736           0.931748            0.940631   \n",
       "1            0.930116           0.930539            0.941023   \n",
       "2            0.943686           0.936289            0.942591   \n",
       "3            0.949699           0.939487            0.949623   \n",
       "4            0.942494           0.934584            0.941963   \n",
       "\n",
       "   split9_test_score  split9_train_score  std_fit_time  std_score_time  \\\n",
       "0           0.938493            0.945956      0.141183        0.002710   \n",
       "1           0.938065            0.943365      0.098449        0.002190   \n",
       "2           0.937203            0.941801      0.157106        0.002786   \n",
       "3           0.939617            0.946921      0.110155        0.002072   \n",
       "4           0.937231            0.941230      0.170198        0.004510   \n",
       "\n",
       "   std_test_score  std_train_score  mean_cv_error  \n",
       "0        0.019868         0.020471           6.42  \n",
       "1        0.006868         0.005683           6.23  \n",
       "2        0.005642         0.002847           5.67  \n",
       "3        0.009144         0.009550           5.78  \n",
       "4        0.004465         0.001813           5.88  \n",
       "\n",
       "[5 rows x 33 columns]"
      ]
     },
     "execution_count": 16,
     "metadata": {
      "tags": []
     },
     "output_type": "execute_result"
    }
   ],
   "source": [
    "results['mean_test_score']=100-results['mean_test_score']\n",
    "results['mean_cv_error']=results['mean_test_score'].round(decimals=2)# creating a new row for cv_error\n",
    "results.head()"
   ]
  },
  {
   "cell_type": "markdown",
   "metadata": {
    "colab_type": "text",
    "id": "hNm70O1gFB3z"
   },
   "source": [
    "# PLOTTING THE HEATMAP WITH  HYPERPARAMETERS FOR CV_ERROR SCORE "
   ]
  },
  {
   "cell_type": "code",
   "execution_count": 0,
   "metadata": {
    "colab": {},
    "colab_type": "code",
    "collapsed": true,
    "id": "ilib5vfwEntX"
   },
   "outputs": [],
   "source": [
    "test_score_heatmap=results.pivot(\t'param_alpha'\t,'param_penalty','mean_cv_error'\t)"
   ]
  },
  {
   "cell_type": "code",
   "execution_count": 18,
   "metadata": {
    "colab": {
     "base_uri": "https://localhost:8080/",
     "height": 347
    },
    "colab_type": "code",
    "executionInfo": {
     "elapsed": 231460,
     "status": "ok",
     "timestamp": 1548881701010,
     "user": {
      "displayName": "mayank aggarwal",
      "photoUrl": "",
      "userId": "04107947634097457088"
     },
     "user_tz": -330
    },
    "id": "N75mhM21Enk8",
    "outputId": "3ac1f88a-5a18-4b11-d14e-836d76466422"
   },
   "outputs": [
    {
     "data": {
      "text/html": [
       "<div>\n",
       "<style scoped>\n",
       "    .dataframe tbody tr th:only-of-type {\n",
       "        vertical-align: middle;\n",
       "    }\n",
       "\n",
       "    .dataframe tbody tr th {\n",
       "        vertical-align: top;\n",
       "    }\n",
       "\n",
       "    .dataframe thead th {\n",
       "        text-align: right;\n",
       "    }\n",
       "</style>\n",
       "<table border=\"1\" class=\"dataframe\">\n",
       "  <thead>\n",
       "    <tr style=\"text-align: right;\">\n",
       "      <th>param_penalty</th>\n",
       "      <th>l1</th>\n",
       "      <th>l2</th>\n",
       "    </tr>\n",
       "    <tr>\n",
       "      <th>param_alpha</th>\n",
       "      <th></th>\n",
       "      <th></th>\n",
       "    </tr>\n",
       "  </thead>\n",
       "  <tbody>\n",
       "    <tr>\n",
       "      <th>0.0001</th>\n",
       "      <td>6.42</td>\n",
       "      <td>6.23</td>\n",
       "    </tr>\n",
       "    <tr>\n",
       "      <th>0.0010</th>\n",
       "      <td>5.67</td>\n",
       "      <td>5.78</td>\n",
       "    </tr>\n",
       "    <tr>\n",
       "      <th>0.0100</th>\n",
       "      <td>5.88</td>\n",
       "      <td>5.65</td>\n",
       "    </tr>\n",
       "    <tr>\n",
       "      <th>0.1000</th>\n",
       "      <td>5.88</td>\n",
       "      <td>5.87</td>\n",
       "    </tr>\n",
       "    <tr>\n",
       "      <th>1.0000</th>\n",
       "      <td>5.88</td>\n",
       "      <td>5.88</td>\n",
       "    </tr>\n",
       "    <tr>\n",
       "      <th>10.0000</th>\n",
       "      <td>5.88</td>\n",
       "      <td>5.88</td>\n",
       "    </tr>\n",
       "    <tr>\n",
       "      <th>100.0000</th>\n",
       "      <td>5.88</td>\n",
       "      <td>16.23</td>\n",
       "    </tr>\n",
       "    <tr>\n",
       "      <th>1000.0000</th>\n",
       "      <td>5.88</td>\n",
       "      <td>5.88</td>\n",
       "    </tr>\n",
       "    <tr>\n",
       "      <th>10000.0000</th>\n",
       "      <td>15.30</td>\n",
       "      <td>34.15</td>\n",
       "    </tr>\n",
       "  </tbody>\n",
       "</table>\n",
       "</div>"
      ],
      "text/plain": [
       "param_penalty     l1     l2\n",
       "param_alpha                \n",
       "0.0001          6.42   6.23\n",
       "0.0010          5.67   5.78\n",
       "0.0100          5.88   5.65\n",
       "0.1000          5.88   5.87\n",
       "1.0000          5.88   5.88\n",
       "10.0000         5.88   5.88\n",
       "100.0000        5.88  16.23\n",
       "1000.0000       5.88   5.88\n",
       "10000.0000     15.30  34.15"
      ]
     },
     "execution_count": 18,
     "metadata": {
      "tags": []
     },
     "output_type": "execute_result"
    }
   ],
   "source": [
    "test_score_heatmap# shape of data for heatmap \n",
    "# here each value of matrix represent the cv_error corresponding to values of hyperparameters "
   ]
  },
  {
   "cell_type": "code",
   "execution_count": 19,
   "metadata": {
    "colab": {
     "base_uri": "https://localhost:8080/",
     "height": 378
    },
    "colab_type": "code",
    "executionInfo": {
     "elapsed": 232520,
     "status": "ok",
     "timestamp": 1548881702971,
     "user": {
      "displayName": "mayank aggarwal",
      "photoUrl": "",
      "userId": "04107947634097457088"
     },
     "user_tz": -330
    },
    "id": "y1grLiohEnfM",
    "outputId": "499ab6cc-81f7-48de-dc43-db57b0b18b16"
   },
   "outputs": [
    {
     "data": {
      "text/plain": [
       "<matplotlib.axes._subplots.AxesSubplot at 0x7f05e0e82080>"
      ]
     },
     "execution_count": 19,
     "metadata": {
      "tags": []
     },
     "output_type": "execute_result"
    },
    {
     "data": {
      "image/png": "[encoded data removed]",
      "text/plain": [
       "<Figure size 576x396 with 2 Axes>"
      ]
     },
     "metadata": {
      "tags": []
     },
     "output_type": "display_data"
    }
   ],
   "source": [
    "# plotting of cv error with hyperparamter values\n",
    "import seaborn as sns\n",
    "sns.heatmap(test_score_heatmap,annot=True,annot_kws={\"size\": 18}, fmt='g',linewidths=.5)"
   ]
  },
  {
   "cell_type": "markdown",
   "metadata": {
    "colab_type": "text",
    "id": "jebJMIMJFNXj"
   },
   "source": [
    "# FROM HEATMAP THE BEST HYPERPARAMETER VALUES ARE FOUND TO BE PENALTY='L2' AND 'PARAM_ALPHA'=0.01"
   ]
  },
  {
   "cell_type": "markdown",
   "metadata": {
    "colab_type": "text",
    "id": "64zFfeD2FVN8"
   },
   "source": [
    "# BUILDING MODEL FOR SGD WITH CALIBRATED CLASSIFIER CV"
   ]
  },
  {
   "cell_type": "code",
   "execution_count": 15,
   "metadata": {
    "colab": {
     "base_uri": "https://localhost:8080/",
     "height": 123
    },
    "colab_type": "code",
    "executionInfo": {
     "elapsed": 1061,
     "status": "ok",
     "timestamp": 1548881737583,
     "user": {
      "displayName": "mayank aggarwal",
      "photoUrl": "",
      "userId": "04107947634097457088"
     },
     "user_tz": -330
    },
    "id": "O7gQsTruEnZK",
    "outputId": "69bcebd3-6864-42f0-a193-ea0f2be74288"
   },
   "outputs": [
    {
     "data": {
      "text/plain": [
       "SGDClassifier(alpha=0.01, average=False, class_weight={1: 0.5, 0: 0.5},\n",
       "       epsilon=0.1, eta0=0.0, fit_intercept=True, l1_ratio=0.15,\n",
       "       learning_rate='optimal', loss='log', max_iter=None, n_iter=None,\n",
       "       n_jobs=-1, penalty='l2', power_t=0.5, random_state=None,\n",
       "       shuffle=True, tol=None, verbose=0, warm_start=False)"
      ]
     },
     "execution_count": 15,
     "metadata": {},
     "output_type": "execute_result"
    }
   ],
   "source": [
    "sgd=SGDClassifier(loss='log',class_weight={1:0.5,0:0.5},n_jobs=-1,alpha=0.01,penalty='l2')\n",
    "sgd.fit(x_train_data,y_train)#building the sgd model"
   ]
  },
  {
   "cell_type": "code",
   "execution_count": 16,
   "metadata": {
    "colab": {
     "base_uri": "https://localhost:8080/",
     "height": 87
    },
    "colab_type": "code",
    "executionInfo": {
     "elapsed": 5066,
     "status": "ok",
     "timestamp": 1548881743217,
     "user": {
      "displayName": "mayank aggarwal",
      "photoUrl": "",
      "userId": "04107947634097457088"
     },
     "user_tz": -330
    },
    "id": "ogv0UKRIEnRU",
    "outputId": "b770244d-8980-4765-b853-b58b99f949f7"
   },
   "outputs": [
    {
     "name": "stdout",
     "output_type": "stream",
     "text": [
      "Brier scores: (the smaller the better)\n",
      "No calibration: 0.083\n",
      "With isotonic calibration: 0.082\n",
      "With sigmoid calibration: 0.083\n"
     ]
    }
   ],
   "source": [
    "# checking which mode of calibrated classifier is best and then using it\n",
    "from sklearn.metrics import brier_score_loss\n",
    "prob_pos_clf = sgd.predict_proba(x_test_data)[:, 1]\n",
    "\n",
    "# Gaussian Naive-Bayes with isotonic calibration\n",
    "from sklearn.calibration import   CalibratedClassifierCV\n",
    "clf_isotonic = CalibratedClassifierCV(sgd, cv=5, method='isotonic')\n",
    "clf_isotonic.fit(x_train_data, y_train)\n",
    "prob_pos_isotonic = clf_isotonic.predict_proba(x_test_data)[:, 1]\n",
    "\n",
    "# Gaussian Naive-Bayes with sigmoid calibration\n",
    "clf_sigmoid = CalibratedClassifierCV(sgd, cv=5, method='sigmoid')\n",
    "clf_sigmoid.fit(x_train_data, y_train)\n",
    "prob_pos_sigmoid = clf_sigmoid.predict_proba(x_test_data)[:, 1]\n",
    "\n",
    "print(\"Brier scores: (the smaller the better)\")\n",
    "\n",
    "clf_score = brier_score_loss(y_test, prob_pos_clf)\n",
    "print(\"No calibration: %1.3f\" % clf_score)\n",
    "\n",
    "\n",
    "clf_isotonic_score = brier_score_loss(y_test, prob_pos_isotonic)\n",
    "print(\"With isotonic calibration: %1.3f\" % clf_isotonic_score)\n",
    "\n",
    "clf_sigmoid_score = brier_score_loss(y_test, prob_pos_sigmoid)\n",
    "print(\"With sigmoid calibration: %1.3f\" % clf_sigmoid_score)"
   ]
  },
  {
   "cell_type": "markdown",
   "metadata": {
    "colab_type": "text",
    "id": "dMuuRBqKFjD1"
   },
   "source": [
    "# ISOTONIC CALIBRATION IS HAVING BEST VALUE  FOR CALIBRATED CLASSIFIER CV"
   ]
  },
  {
   "cell_type": "markdown",
   "metadata": {},
   "source": [
    " # PLOTTING THE ROC CURVE FOR TRAIN_DATA"
   ]
  },
  {
   "cell_type": "code",
   "execution_count": 18,
   "metadata": {},
   "outputs": [
    {
     "data": {
      "image/png": "[encoded data removed]",
      "text/plain": [
       "<matplotlib.figure.Figure at 0x1b302f54400>"
      ]
     },
     "metadata": {},
     "output_type": "display_data"
    }
   ],
   "source": [
    "from sklearn.calibration import   CalibratedClassifierCV\n",
    "clf_isotonic = CalibratedClassifierCV(sgd, cv=5, method='isotonic')\n",
    "clf_isotonic.fit(x_train_data, y_train)\n",
    "prob_pos_isotonic_train = clf_isotonic.predict_proba(x_train_data)[:, 1]\n",
    "\n",
    "fpr, tpr, threshold = metrics.roc_curve(y_train, prob_pos_isotonic_train)\n",
    "roc_auc = metrics.auc(fpr, tpr)\n",
    "\n",
    "# \n",
    "import matplotlib.pyplot as plt\n",
    "plt.title('Receiver Operating Characteristic')\n",
    "plt.plot(fpr, tpr, 'b', label = 'AUC = %0.2f' % roc_auc)\n",
    "plt.legend(loc = 'best')\n",
    "plt.plot([0, 1], [0, 1],'r--')\n",
    "plt.xlim([0, 1])\n",
    "plt.ylim([0, 1])\n",
    "plt.ylabel('True Positive Rate')\n",
    "plt.xlabel('False Positive Rate')\n",
    "plt.show()"
   ]
  },
  {
   "cell_type": "markdown",
   "metadata": {
    "colab_type": "text",
    "id": "jzsYaF1OBjVh"
   },
   "source": [
    " # PLOTTING THE ROC CURVE FOR TEST DATA"
   ]
  },
  {
   "cell_type": "code",
   "execution_count": 22,
   "metadata": {
    "colab": {
     "base_uri": "https://localhost:8080/",
     "height": 375
    },
    "colab_type": "code",
    "executionInfo": {
     "elapsed": 1070,
     "status": "ok",
     "timestamp": 1548881777046,
     "user": {
      "displayName": "mayank aggarwal",
      "photoUrl": "",
      "userId": "04107947634097457088"
     },
     "user_tz": -330
    },
    "id": "XClJpQT2Caf3",
    "outputId": "9a1fd995-43af-4170-8a6e-ad4c9a88608f"
   },
   "outputs": [
    {
     "data": {
      "image/png": "[encoded data removed]",
      "text/plain": [
       "<Figure size 576x396 with 1 Axes>"
      ]
     },
     "metadata": {
      "tags": []
     },
     "output_type": "display_data"
    }
   ],
   "source": [
    "fpr, tpr, threshold = metrics.roc_curve(y_test, prob_pos_isotonic)\n",
    "roc_auc = metrics.auc(fpr, tpr)\n",
    "\n",
    "# \n",
    "import matplotlib.pyplot as plt\n",
    "plt.title('Receiver Operating Characteristic')\n",
    "plt.plot(fpr, tpr, 'b', label = 'AUC = %0.2f' % roc_auc)\n",
    "plt.legend(loc = 'best')\n",
    "plt.plot([0, 1], [0, 1],'r--')\n",
    "plt.xlim([0, 1])\n",
    "plt.ylim([0, 1])\n",
    "plt.ylabel('True Positive Rate')\n",
    "plt.xlabel('False Positive Rate')\n",
    "plt.show()"
   ]
  },
  {
   "cell_type": "code",
   "execution_count": 23,
   "metadata": {
    "colab": {
     "base_uri": "https://localhost:8080/",
     "height": 34
    },
    "colab_type": "code",
    "executionInfo": {
     "elapsed": 1157,
     "status": "ok",
     "timestamp": 1548881780971,
     "user": {
      "displayName": "mayank aggarwal",
      "photoUrl": "",
      "userId": "04107947634097457088"
     },
     "user_tz": -330
    },
    "id": "LKVCQxCFChgm",
    "outputId": "e08be685-631d-4ae9-86b2-61b7483829cf"
   },
   "outputs": [
    {
     "name": "stdout",
     "output_type": "stream",
     "text": [
      "FROM ABOVE PLOT,AUC_SCORE IS FOUND AS  86.67474805956105\n"
     ]
    }
   ],
   "source": [
    "print(\"FROM ABOVE PLOT,AUC_SCORE IS FOUND AS \",roc_auc*100)"
   ]
  },
  {
   "cell_type": "markdown",
   "metadata": {
    "colab_type": "text",
    "id": "dvwK3vfmQWjs"
   },
   "source": [
    " # USING BEST HYPERPARAMETER VALUE ON TEST DATA AND PLOTTING THE CONFUSION MATRIX WITH HEATMAP"
   ]
  },
  {
   "cell_type": "code",
   "execution_count": 24,
   "metadata": {
    "colab": {
     "base_uri": "https://localhost:8080/",
     "height": 511
    },
    "colab_type": "code",
    "executionInfo": {
     "elapsed": 1070,
     "status": "ok",
     "timestamp": 1548881784527,
     "user": {
      "displayName": "mayank aggarwal",
      "photoUrl": "",
      "userId": "04107947634097457088"
     },
     "user_tz": -330
    },
    "id": "Ge4vBZmdQUR9",
    "outputId": "e53c6933-72a2-4f15-d077-d72efc104452"
   },
   "outputs": [
    {
     "name": "stdout",
     "output_type": "stream",
     "text": [
      "Accuracy on test set: 88.735%\n",
      "Precision on test set: 0.904\n",
      "Recall on test set: 0.974\n",
      "F1-Score on test set: 0.938\n",
      "Confusion Matrix of test set:\n",
      " [ [TN  FP]\n",
      " [FN TP] ]\n",
      "\n"
     ]
    },
    {
     "data": {
      "text/plain": [
       "<matplotlib.axes._subplots.AxesSubplot at 0x7f05e1496f28>"
      ]
     },
     "execution_count": 24,
     "metadata": {
      "tags": []
     },
     "output_type": "execute_result"
    },
    {
     "data": {
      "image/png": "[encoded data removed]",
      "text/plain": [
       "<Figure size 576x396 with 2 Axes>"
      ]
     },
     "metadata": {
      "tags": []
     },
     "output_type": "display_data"
    }
   ],
   "source": [
    "#Testing Accuracy on Test data  \n",
    "import seaborn as sns #importing seaborn as sns\n",
    "from sklearn.metrics import *#importing varoius metrics from sklearn\n",
    "y_pred=clf_isotonic.predict(x_test_data)\n",
    "print(\"Accuracy on test set: %0.3f%%\"%(accuracy_score(y_test, y_pred)*100))#printing accuracy\n",
    "print(\"Precision on test set: %0.3f\"%(precision_score(y_test, y_pred)))#printing precision score\n",
    "print(\"Recall on test set: %0.3f\"%(recall_score(y_test, y_pred))) #printing recall\n",
    "print(\"F1-Score on test set: %0.3f\"%(f1_score(y_test, y_pred))) \n",
    "print(\"Confusion Matrix of test set:\\n [ [TN  FP]\\n [FN TP] ]\\n\") \n",
    "df_cm = pd.DataFrame(confusion_matrix(y_test, y_pred), range(2),range(2)) #generating the heatmap for confusion matrix\n",
    "sns.set(font_scale=1.4)#for label size\n",
    "sns.heatmap(df_cm, annot=True,annot_kws={\"size\": 16}, fmt='g')"
   ]
  },
  {
   "cell_type": "markdown",
   "metadata": {
    "colab_type": "text",
    "id": "25nIzRzqlPJS"
   },
   "source": [
    "# RBF KERNEL WITH  TFIDF AVG WORD2VEC VECTORIZATION"
   ]
  },
  {
   "cell_type": "markdown",
   "metadata": {
    "colab_type": "text",
    "id": "LiSQg5z-IwJh"
   },
   "source": [
    "# OBJECTIVE \n",
    " 1. <b> APPLYING SVM WITH RBF KERNEL   WITH  TFIDF AVG WORD2VEC VECTORIZATION\n",
    "\n",
    "2. FINDING THE BEST HYPERPARAMETER USING GRIDSEARCHCV WITH TRAIN DATA AND CROSS-VALIDATION       DATA BY PLOTTING THE RESLUTS OF CROSS VALIDATION DATA UISNG HEATMAP\n",
    "  \n",
    "3. PLOTTING OF ROC CURVE TO CHECK FOR THE AUC_SCORE \n",
    "  \n",
    "4. USING THE APROPRIATE VALUE OF HYPERPARAMETER ,TESTING \n",
    "    ACCURACY ON TEST DATA USING F1-SCORE\n",
    "  \n",
    "5. PLOTTING THE CONFUSION MATRIX TO GET THE PRECISOIN ,RECALL\n",
    "    VALUE WITH HELP OF HEATMAP\n",
    "  "
   ]
  },
  {
   "cell_type": "markdown",
   "metadata": {
    "colab_type": "text",
    "id": "KaQJD-IQDVJ2"
   },
   "source": [
    "##  RBF KERNEL IS COMPUTATIONALLY EXPENSIVE SO USING FIRST 30K POINTS ONLY"
   ]
  },
  {
   "cell_type": "code",
   "execution_count": 3,
   "metadata": {
    "colab": {},
    "colab_type": "code",
    "id": "Zv-8Xekzl-0L"
   },
   "outputs": [
    {
     "data": {
      "text/html": [
       "<div>\n",
       "<table border=\"1\" class=\"dataframe\">\n",
       "  <thead>\n",
       "    <tr style=\"text-align: right;\">\n",
       "      <th></th>\n",
       "      <th>Unnamed: 0</th>\n",
       "      <th>Score</th>\n",
       "      <th>CleanedText</th>\n",
       "    </tr>\n",
       "  </thead>\n",
       "  <tbody>\n",
       "    <tr>\n",
       "      <th>0</th>\n",
       "      <td>0</td>\n",
       "      <td>1</td>\n",
       "      <td>realli like emerald nut buy smoke almond cashe...</td>\n",
       "    </tr>\n",
       "    <tr>\n",
       "      <th>1</th>\n",
       "      <td>1</td>\n",
       "      <td>1</td>\n",
       "      <td>crispi chewi intens flavor wow great ive love ...</td>\n",
       "    </tr>\n",
       "    <tr>\n",
       "      <th>2</th>\n",
       "      <td>2</td>\n",
       "      <td>1</td>\n",
       "      <td>great product fresh tast school teacher use po...</td>\n",
       "    </tr>\n",
       "    <tr>\n",
       "      <th>3</th>\n",
       "      <td>3</td>\n",
       "      <td>1</td>\n",
       "      <td>purchas along espresso ive mix two equal amoun...</td>\n",
       "    </tr>\n",
       "    <tr>\n",
       "      <th>4</th>\n",
       "      <td>4</td>\n",
       "      <td>1</td>\n",
       "      <td>yummi stuff surpris quick cook like mccann buy...</td>\n",
       "    </tr>\n",
       "  </tbody>\n",
       "</table>\n",
       "</div>"
      ],
      "text/plain": [
       "   Unnamed: 0  Score                                        CleanedText\n",
       "0           0      1  realli like emerald nut buy smoke almond cashe...\n",
       "1           1      1  crispi chewi intens flavor wow great ive love ...\n",
       "2           2      1  great product fresh tast school teacher use po...\n",
       "3           3      1  purchas along espresso ive mix two equal amoun...\n",
       "4           4      1  yummi stuff surpris quick cook like mccann buy..."
      ]
     },
     "execution_count": 3,
     "metadata": {},
     "output_type": "execute_result"
    }
   ],
   "source": [
    "\n",
    "final_data=pd.read_csv('final_data.csv',encoding='latin-1')# IMPORT THE DATA FILE\n",
    "final_data.head()\n"
   ]
  },
  {
   "cell_type": "code",
   "execution_count": 4,
   "metadata": {
    "colab": {
     "base_uri": "https://localhost:8080/",
     "height": 34
    },
    "colab_type": "code",
    "executionInfo": {
     "elapsed": 705,
     "status": "ok",
     "timestamp": 1548881984553,
     "user": {
      "displayName": "mayank aggarwal",
      "photoUrl": "",
      "userId": "04107947634097457088"
     },
     "user_tz": -330
    },
    "id": "iPujrxVTmNWv",
    "outputId": "a56aa75e-96d6-448c-d250-7167ac6babd4"
   },
   "outputs": [
    {
     "data": {
      "text/plain": [
       "(30000, 3)"
      ]
     },
     "execution_count": 4,
     "metadata": {},
     "output_type": "execute_result"
    }
   ],
   "source": [
    "final_data.shape#PRINTING THE SHAPE OF FILE"
   ]
  },
  {
   "cell_type": "code",
   "execution_count": 5,
   "metadata": {
    "colab": {},
    "colab_type": "code",
    "collapsed": true,
    "id": "sTw62Tcomceg"
   },
   "outputs": [],
   "source": [
    "#spliiting the data into train and test data\n",
    "x_train,x_test,y_train,y_test=model_selection.train_test_split(final_data['CleanedText'].values,final_data['Score'].values,test_size=0.30,shuffle=False)"
   ]
  },
  {
   "cell_type": "code",
   "execution_count": 6,
   "metadata": {
    "colab": {
     "base_uri": "https://localhost:8080/",
     "height": 126
    },
    "colab_type": "code",
    "executionInfo": {
     "elapsed": 8219,
     "status": "ok",
     "timestamp": 1548881997544,
     "user": {
      "displayName": "mayank aggarwal",
      "photoUrl": "",
      "userId": "04107947634097457088"
     },
     "user_tz": -330
    },
    "id": "Gr1mTTnxjXjq",
    "outputId": "a183f738-1889-4547-a791-171f19ae5f2e"
   },
   "outputs": [
    {
     "name": "stdout",
     "output_type": "stream",
     "text": [
      "realli like emerald nut buy smoke almond cashew cocoa roast almond preserv much like emerald nut fresh much oil high qualiti snack instead salti one sweet doesnt come sugar though sweeten light sucralos sweeten sold brand name splenda note product doesnt contain chocol though describ dark chocol flavor cocoa roast surfac nut almond coat chocol good part dont make mess theyr better choic someon tri avoid sweet sure bought expect get chocol disappoint like enough ill get especi need someth cut crave chocol candi enough chocol flavor one gram sugar per serv\n",
      "*****************************************************************\n",
      "['realli', 'like', 'emerald', 'nut', 'buy', 'smoke', 'almond', 'cashew', 'cocoa', 'roast', 'almond', 'preserv', 'much', 'like', 'emerald', 'nut', 'fresh', 'much', 'oil', 'high', 'qualiti', 'snack', 'instead', 'salti', 'one', 'sweet', 'doesnt', 'come', 'sugar', 'though', 'sweeten', 'light', 'sucralos', 'sweeten', 'sold', 'brand', 'name', 'splenda', 'note', 'product', 'doesnt', 'contain', 'chocol', 'though', 'describ', 'dark', 'chocol', 'flavor', 'cocoa', 'roast', 'surfac', 'nut', 'almond', 'coat', 'chocol', 'good', 'part', 'dont', 'make', 'mess', 'theyr', 'better', 'choic', 'someon', 'tri', 'avoid', 'sweet', 'sure', 'bought', 'expect', 'get', 'chocol', 'disappoint', 'like', 'enough', 'ill', 'get', 'especi', 'need', 'someth', 'cut', 'crave', 'chocol', 'candi', 'enough', 'chocol', 'flavor', 'one', 'gram', 'sugar', 'per', 'serv']\n",
      "***********************************************************************\n",
      "sample words  ['ecstat', 'rectifi', 'tendenc', 'heritag', 'transpir', 'cruis', 'salt', 'million', 'hunger', 'resembl', 'gluten', 'optim', 'sometim', 'anonym', 'hydrat', 'fond', 'sumatran', 'sicker', 'meager', 'kindey']\n"
     ]
    }
   ],
   "source": [
    "# Training my own Word2Vec model using your own text corpus\n",
    "list_of_sent=[]\n",
    "for sent in x_train:\n",
    " list_of_sent.append(sent.split())#splitting of sentences into words AND appending them to list\n",
    "print(x_train[0])\n",
    "print(\"*****************************************************************\")\n",
    "print(list_of_sent[0])\n",
    "word_to_vector=Word2Vec(list_of_sent,min_count=5,size=100,workers=2)#constructing my our word to vector\n",
    "w_t_c_words=list(word_to_vector.wv.vocab)\n",
    "print(\"***********************************************************************\")\n",
    "print(\"sample words \", w_t_c_words[0:20])"
   ]
  },
  {
   "cell_type": "code",
   "execution_count": 7,
   "metadata": {
    "colab": {
     "base_uri": "https://localhost:8080/",
     "height": 34
    },
    "colab_type": "code",
    "executionInfo": {
     "elapsed": 44892,
     "status": "ok",
     "timestamp": 1548882037631,
     "user": {
      "displayName": "mayank aggarwal",
      "photoUrl": "",
      "userId": "04107947634097457088"
     },
     "user_tz": -330
    },
    "id": "mcxdKHpSjX1N",
    "outputId": "b4bc35fd-d889-4a5a-d9eb-2a14cc5f88f9"
   },
   "outputs": [
    {
     "name": "stderr",
     "output_type": "stream",
     "text": [
      "100%|██████████| 21000/21000 [01:23<00:00, 252.54it/s]\n"
     ]
    }
   ],
   "source": [
    "###### NOW STARTING TFIDF WORD TO VEC FOR TRAIN DATA#################################################################\n",
    "#NOW STARTING TF-IDF WEIGHTED WORD-TO-VEC\n",
    "model = TfidfVectorizer()\n",
    "tf_idf_matrix = model.fit_transform(x_train)\n",
    "# we are converting a dictionary with word as a key, and the idf as a value\n",
    "dictionary = dict(zip(model.get_feature_names(), list(model.idf_)))\n",
    "train_tfidf_sent_vectors =[]# the tfidf-w2v for each sentence/review is stored in this list\n",
    "\n",
    "for sent in tqdm(list_of_sent): # for each review/sentence\n",
    "  sent_vec = np.zeros(100) # as word vectors are of zero length\n",
    "  weight_sum =0; # num of words with a valid vector in the sentence/review\n",
    "  for word in sent: # for each word in a review/sentence\n",
    "   if word in w_t_c_words:\n",
    "     vec = word_to_vector.wv[word]\n",
    "     tf_idf = dictionary[word]*(sent.count(word)/len(sent))# dictionary[word] = idf value of word in whole courpus\n",
    "     sent_vec += (vec * tf_idf)# sent.count(word) = tf valeus of word in this review\n",
    "     weight_sum += tf_idf \n",
    "  if weight_sum != 0:\n",
    "   sent_vec /= weight_sum\n",
    "   train_tfidf_sent_vectors.append(sent_vec)"
   ]
  },
  {
   "cell_type": "code",
   "execution_count": 8,
   "metadata": {
    "colab": {
     "base_uri": "https://localhost:8080/",
     "height": 34
    },
    "colab_type": "code",
    "executionInfo": {
     "elapsed": 42365,
     "status": "ok",
     "timestamp": 1548882037643,
     "user": {
      "displayName": "mayank aggarwal",
      "photoUrl": "",
      "userId": "04107947634097457088"
     },
     "user_tz": -330
    },
    "id": "3vpCL75ujX-o",
    "outputId": "a902908d-0a98-46d3-ddee-1869c30a08fe"
   },
   "outputs": [
    {
     "name": "stdout",
     "output_type": "stream",
     "text": [
      "(21000, 100)\n"
     ]
    }
   ],
   "source": [
    "from sklearn.preprocessing import StandardScaler #standarizing the training  data  \n",
    "x_train_data=StandardScaler( with_mean=False).fit_transform(train_tfidf_sent_vectors)\n",
    "print(x_train_data.shape)"
   ]
  },
  {
   "cell_type": "code",
   "execution_count": 9,
   "metadata": {
    "colab": {
     "base_uri": "https://localhost:8080/",
     "height": 107
    },
    "colab_type": "code",
    "executionInfo": {
     "elapsed": 39557,
     "status": "ok",
     "timestamp": 1548882037647,
     "user": {
      "displayName": "mayank aggarwal",
      "photoUrl": "",
      "userId": "04107947634097457088"
     },
     "user_tz": -330
    },
    "id": "8AtY9pYcjXxz",
    "outputId": "71ef5c65-dea4-4e14-ee84-d23dee42d41e"
   },
   "outputs": [
    {
     "name": "stdout",
     "output_type": "stream",
     "text": [
      "big famili hit bigger fruit tast found sweet make great snack even dessert\n",
      "*****************************************************************\n",
      "['big', 'famili', 'hit', 'bigger', 'fruit', 'tast', 'found', 'sweet', 'make', 'great', 'snack', 'even', 'dessert']\n",
      "*******************************************************************\n"
     ]
    }
   ],
   "source": [
    "list_of_sent=[]\n",
    "for sent in x_test:\n",
    " list_of_sent.append(sent.split())#splitting of sentences into words AND appending them to list\n",
    "print(x_test[0])\n",
    "print(\"*****************************************************************\")\n",
    "print(list_of_sent[0])\n",
    "print('*******************************************************************')\n"
   ]
  },
  {
   "cell_type": "code",
   "execution_count": 10,
   "metadata": {
    "colab": {
     "base_uri": "https://localhost:8080/",
     "height": 34
    },
    "colab_type": "code",
    "executionInfo": {
     "elapsed": 53112,
     "status": "ok",
     "timestamp": 1548882055207,
     "user": {
      "displayName": "mayank aggarwal",
      "photoUrl": "",
      "userId": "04107947634097457088"
     },
     "user_tz": -330
    },
    "id": "axIZUZsijXuz",
    "outputId": "f276f59a-aea0-4a31-c6e8-499204c45d27"
   },
   "outputs": [
    {
     "name": "stderr",
     "output_type": "stream",
     "text": [
      "100%|██████████| 9000/9000 [00:36<00:00, 246.74it/s]\n"
     ]
    }
   ],
   "source": [
    "###### NOW STARTING TFIDF WORD TO VEC FOR TEST DATA#################################################################\n",
    "#NOW STARTING TF-IDF WEIGHTED WORD-TO-VEC\n",
    "model = TfidfVectorizer()\n",
    "model.fit_transform(x_train)\n",
    "model.transform(x_test)\n",
    "# we are converting a dictionary with word as a key, and the idf as a value\n",
    "dictionary = dict(zip(model.get_feature_names(), list(model.idf_)))\n",
    "test_tfidf_sent_vectors =[]# the tfidf-w2v for each sentence/review is stored in this list\n",
    "\n",
    "for sent in tqdm(list_of_sent): # for each review/sentence\n",
    "  sent_vec = np.zeros(100) # as word vectors are of zero length\n",
    "  weight_sum =0; # num of words with a valid vector in the sentence/review\n",
    "  for word in sent: # for each word in a review/sentence\n",
    "   if word in w_t_c_words:\n",
    "     vec = word_to_vector.wv[word]\n",
    "     tf_idf = dictionary[word]*(sent.count(word)/len(sent))# dictionary[word] = idf value of word in whole courpus\n",
    "     sent_vec += (vec * tf_idf)# sent.count(word) = tf valeus of word in this review\n",
    "     weight_sum += tf_idf\n",
    "  if weight_sum != 0:\n",
    "   sent_vec /= weight_sum\n",
    "   test_tfidf_sent_vectors.append(sent_vec)"
   ]
  },
  {
   "cell_type": "code",
   "execution_count": 11,
   "metadata": {
    "colab": {
     "base_uri": "https://localhost:8080/",
     "height": 34
    },
    "colab_type": "code",
    "executionInfo": {
     "elapsed": 51635,
     "status": "ok",
     "timestamp": 1548882055213,
     "user": {
      "displayName": "mayank aggarwal",
      "photoUrl": "",
      "userId": "04107947634097457088"
     },
     "user_tz": -330
    },
    "id": "zludomLujXq_",
    "outputId": "c95d5de6-1aa5-4674-9bae-f7f20c672253"
   },
   "outputs": [
    {
     "name": "stdout",
     "output_type": "stream",
     "text": [
      "(9000, 100)\n"
     ]
    }
   ],
   "source": [
    "from sklearn.preprocessing import StandardScaler #standarizing the training  data  \n",
    "x_test_data=StandardScaler( with_mean=False).fit_transform(test_tfidf_sent_vectors)\n",
    "print(x_test_data.shape)"
   ]
  },
  {
   "cell_type": "code",
   "execution_count": 14,
   "metadata": {
    "colab": {},
    "colab_type": "code",
    "collapsed": true,
    "id": "lA40fAhIn0gR"
   },
   "outputs": [],
   "source": [
    "#using time series split method for cross-validation score\n",
    "from sklearn.model_selection import TimeSeriesSplit\n",
    "tscv = TimeSeriesSplit(n_splits=2) \n",
    "from sklearn.svm import SVC\n",
    "from sklearn.calibration import CalibratedClassifierCV\n",
    "c_values=[0.001,0.01,0.1,1,5,10,100]#range of hyperparameter\n",
    "gamma_values=[0.001,0.01,0.1,1,5,10,100]#range of hyperparameter\n",
    "\n",
    "\n",
    "\n",
    "svc=SVC(class_weight='balanced',probability=True)\n",
    "tuned_para=[{'C':c_values,'gamma':gamma_values}] "
   ]
  },
  {
   "cell_type": "code",
   "execution_count": 15,
   "metadata": {
    "colab": {
     "base_uri": "https://localhost:8080/",
     "height": 52
    },
    "colab_type": "code",
    "executionInfo": {
     "elapsed": 1275,
     "status": "ok",
     "timestamp": 1548882070876,
     "user": {
      "displayName": "mayank aggarwal",
      "photoUrl": "",
      "userId": "04107947634097457088"
     },
     "user_tz": -330
    },
    "id": "1lzPkBBToFgq",
    "outputId": "82fb17c5-6e7b-4a88-8ebf-a87e1b95d6a1"
   },
   "outputs": [
    {
     "name": "stdout",
     "output_type": "stream",
     "text": [
      "CPU times: user 3 µs, sys: 0 ns, total: 3 µs\n",
      "Wall time: 6.2 µs\n"
     ]
    }
   ],
   "source": [
    "#applying the model of support vector machine and using gridsearchcv to find the best hyper parameter\n",
    "%time\n",
    "from sklearn.model_selection import GridSearchCV\n",
    "model = GridSearchCV(svc, tuned_para, scoring = 'f1', cv=tscv,n_jobs=-1)#building the gridsearchcv model\n",
    "\n",
    "\n"
   ]
  },
  {
   "cell_type": "code",
   "execution_count": 16,
   "metadata": {
    "colab": {},
    "colab_type": "code",
    "id": "Z-As083ZpvVO"
   },
   "outputs": [
    {
     "name": "stdout",
     "output_type": "stream",
     "text": [
      "CPU times: user 8min 26s, sys: 865 ms, total: 8min 27s\n",
      "Wall time: 1h 55min 11s\n"
     ]
    },
    {
     "data": {
      "text/plain": [
       "GridSearchCV(cv=TimeSeriesSplit(max_train_size=None, n_splits=2),\n",
       "       error_score='raise-deprecating',\n",
       "       estimator=SVC(C=1.0, cache_size=200, class_weight='balanced', coef0=0.0,\n",
       "  decision_function_shape='ovr', degree=3, gamma='auto_deprecated',\n",
       "  kernel='rbf', max_iter=-1, probability=True, random_state=None,\n",
       "  shrinking=True, tol=0.001, verbose=False),\n",
       "       fit_params=None, iid='warn', n_jobs=-1,\n",
       "       param_grid=[{'gamma': [0.001, 0.01, 0.1, 1, 5, 10, 100], 'C': [0.001, 0.01, 0.1, 1, 5, 10, 100]}],\n",
       "       pre_dispatch='2*n_jobs', refit=True, return_train_score='warn',\n",
       "       scoring='f1', verbose=0)"
      ]
     },
     "execution_count": 16,
     "metadata": {},
     "output_type": "execute_result"
    }
   ],
   "source": [
    "%%time\n",
    "model.fit(x_train_data, y_train)#fiitting the training data"
   ]
  },
  {
   "cell_type": "code",
   "execution_count": 17,
   "metadata": {
    "colab": {
     "base_uri": "https://localhost:8080/",
     "height": 87
    },
    "colab_type": "code",
    "executionInfo": {
     "elapsed": 1299,
     "status": "ok",
     "timestamp": 1547925023447,
     "user": {
      "displayName": "mayank aggarwal",
      "photoUrl": "",
      "userId": "04107947634097457088"
     },
     "user_tz": -330
    },
    "id": "rsXj8EZZB6op",
    "outputId": "47e30a41-3397-4d2a-cfa4-c78035d8568d"
   },
   "outputs": [
    {
     "data": {
      "text/plain": [
       "SVC(C=10, cache_size=200, class_weight='balanced', coef0=0.0,\n",
       "  decision_function_shape='ovr', degree=3, gamma=0.01, kernel='rbf',\n",
       "  max_iter=-1, probability=True, random_state=None, shrinking=True,\n",
       "  tol=0.001, verbose=False)"
      ]
     },
     "execution_count": 17,
     "metadata": {},
     "output_type": "execute_result"
    }
   ],
   "source": [
    "model.best_estimator_"
   ]
  },
  {
   "cell_type": "markdown",
   "metadata": {
    "colab_type": "text",
    "id": "IjQAep1j-B_0"
   },
   "source": [
    "# BUILDING THE HEATMAP FOR CV_ERROR SCORE FOR HYPERPARAMETERS"
   ]
  },
  {
   "cell_type": "code",
   "execution_count": 18,
   "metadata": {
    "colab": {},
    "colab_type": "code",
    "id": "ajOV0oxn-BJN"
   },
   "outputs": [
    {
     "data": {
      "text/html": [
       "<div>\n",
       "<table border=\"1\" class=\"dataframe\">\n",
       "  <thead>\n",
       "    <tr style=\"text-align: right;\">\n",
       "      <th></th>\n",
       "      <th>mean_fit_time</th>\n",
       "      <th>mean_score_time</th>\n",
       "      <th>mean_test_score</th>\n",
       "      <th>mean_train_score</th>\n",
       "      <th>param_C</th>\n",
       "      <th>param_gamma</th>\n",
       "      <th>params</th>\n",
       "      <th>rank_test_score</th>\n",
       "      <th>split0_test_score</th>\n",
       "      <th>split0_train_score</th>\n",
       "      <th>split1_test_score</th>\n",
       "      <th>split1_train_score</th>\n",
       "      <th>std_fit_time</th>\n",
       "      <th>std_score_time</th>\n",
       "      <th>std_test_score</th>\n",
       "      <th>std_train_score</th>\n",
       "    </tr>\n",
       "  </thead>\n",
       "  <tbody>\n",
       "    <tr>\n",
       "      <th>0</th>\n",
       "      <td>285.671830</td>\n",
       "      <td>16.275460</td>\n",
       "      <td>0.802086</td>\n",
       "      <td>0.798360</td>\n",
       "      <td>0.001</td>\n",
       "      <td>0.001</td>\n",
       "      <td>{'gamma': 0.001, 'C': 0.001}</td>\n",
       "      <td>38</td>\n",
       "      <td>0.800754</td>\n",
       "      <td>0.797561</td>\n",
       "      <td>0.803419</td>\n",
       "      <td>0.799159</td>\n",
       "      <td>189.136487</td>\n",
       "      <td>6.014165</td>\n",
       "      <td>0.001332</td>\n",
       "      <td>0.000799</td>\n",
       "    </tr>\n",
       "    <tr>\n",
       "      <th>1</th>\n",
       "      <td>283.611784</td>\n",
       "      <td>17.385531</td>\n",
       "      <td>0.802155</td>\n",
       "      <td>0.798446</td>\n",
       "      <td>0.001</td>\n",
       "      <td>0.01</td>\n",
       "      <td>{'gamma': 0.01, 'C': 0.001}</td>\n",
       "      <td>37</td>\n",
       "      <td>0.800754</td>\n",
       "      <td>0.797561</td>\n",
       "      <td>0.803556</td>\n",
       "      <td>0.799331</td>\n",
       "      <td>186.461052</td>\n",
       "      <td>4.217537</td>\n",
       "      <td>0.001401</td>\n",
       "      <td>0.000885</td>\n",
       "    </tr>\n",
       "    <tr>\n",
       "      <th>2</th>\n",
       "      <td>303.652002</td>\n",
       "      <td>16.206489</td>\n",
       "      <td>0.802086</td>\n",
       "      <td>0.798360</td>\n",
       "      <td>0.001</td>\n",
       "      <td>0.1</td>\n",
       "      <td>{'gamma': 0.1, 'C': 0.001}</td>\n",
       "      <td>38</td>\n",
       "      <td>0.800754</td>\n",
       "      <td>0.797561</td>\n",
       "      <td>0.803419</td>\n",
       "      <td>0.799159</td>\n",
       "      <td>205.401840</td>\n",
       "      <td>5.735645</td>\n",
       "      <td>0.001332</td>\n",
       "      <td>0.000799</td>\n",
       "    </tr>\n",
       "    <tr>\n",
       "      <th>3</th>\n",
       "      <td>342.324184</td>\n",
       "      <td>16.511182</td>\n",
       "      <td>0.802086</td>\n",
       "      <td>0.798360</td>\n",
       "      <td>0.001</td>\n",
       "      <td>1</td>\n",
       "      <td>{'gamma': 1, 'C': 0.001}</td>\n",
       "      <td>38</td>\n",
       "      <td>0.800754</td>\n",
       "      <td>0.797561</td>\n",
       "      <td>0.803419</td>\n",
       "      <td>0.799159</td>\n",
       "      <td>243.801347</td>\n",
       "      <td>5.998402</td>\n",
       "      <td>0.001332</td>\n",
       "      <td>0.000799</td>\n",
       "    </tr>\n",
       "    <tr>\n",
       "      <th>4</th>\n",
       "      <td>331.226701</td>\n",
       "      <td>16.413724</td>\n",
       "      <td>0.802086</td>\n",
       "      <td>0.798360</td>\n",
       "      <td>0.001</td>\n",
       "      <td>5</td>\n",
       "      <td>{'gamma': 5, 'C': 0.001}</td>\n",
       "      <td>38</td>\n",
       "      <td>0.800754</td>\n",
       "      <td>0.797561</td>\n",
       "      <td>0.803419</td>\n",
       "      <td>0.799159</td>\n",
       "      <td>255.878136</td>\n",
       "      <td>5.930955</td>\n",
       "      <td>0.001332</td>\n",
       "      <td>0.000799</td>\n",
       "    </tr>\n",
       "  </tbody>\n",
       "</table>\n",
       "</div>"
      ],
      "text/plain": [
       "   mean_fit_time  mean_score_time  mean_test_score  mean_train_score param_C  \\\n",
       "0     285.671830        16.275460         0.802086          0.798360   0.001   \n",
       "1     283.611784        17.385531         0.802155          0.798446   0.001   \n",
       "2     303.652002        16.206489         0.802086          0.798360   0.001   \n",
       "3     342.324184        16.511182         0.802086          0.798360   0.001   \n",
       "4     331.226701        16.413724         0.802086          0.798360   0.001   \n",
       "\n",
       "  param_gamma                        params  rank_test_score  \\\n",
       "0       0.001  {'gamma': 0.001, 'C': 0.001}               38   \n",
       "1        0.01   {'gamma': 0.01, 'C': 0.001}               37   \n",
       "2         0.1    {'gamma': 0.1, 'C': 0.001}               38   \n",
       "3           1      {'gamma': 1, 'C': 0.001}               38   \n",
       "4           5      {'gamma': 5, 'C': 0.001}               38   \n",
       "\n",
       "   split0_test_score  split0_train_score  split1_test_score  \\\n",
       "0           0.800754            0.797561           0.803419   \n",
       "1           0.800754            0.797561           0.803556   \n",
       "2           0.800754            0.797561           0.803419   \n",
       "3           0.800754            0.797561           0.803419   \n",
       "4           0.800754            0.797561           0.803419   \n",
       "\n",
       "   split1_train_score  std_fit_time  std_score_time  std_test_score  \\\n",
       "0            0.799159    189.136487        6.014165        0.001332   \n",
       "1            0.799331    186.461052        4.217537        0.001401   \n",
       "2            0.799159    205.401840        5.735645        0.001332   \n",
       "3            0.799159    243.801347        5.998402        0.001332   \n",
       "4            0.799159    255.878136        5.930955        0.001332   \n",
       "\n",
       "   std_train_score  \n",
       "0         0.000799  \n",
       "1         0.000885  \n",
       "2         0.000799  \n",
       "3         0.000799  \n",
       "4         0.000799  "
      ]
     },
     "execution_count": 18,
     "metadata": {},
     "output_type": "execute_result"
    }
   ],
   "source": [
    "results=pd.DataFrame(model.cv_results_)# getting varoius cv_scores and train_scores various values of alpha given as parameter and storing it in a dataframe\n",
    "results.head()#printing the dataframe"
   ]
  },
  {
   "cell_type": "code",
   "execution_count": 19,
   "metadata": {
    "colab": {},
    "colab_type": "code",
    "id": "-x7ExOhG-Iw7"
   },
   "outputs": [
    {
     "data": {
      "text/html": [
       "<div>\n",
       "<table border=\"1\" class=\"dataframe\">\n",
       "  <thead>\n",
       "    <tr style=\"text-align: right;\">\n",
       "      <th></th>\n",
       "      <th>mean_fit_time</th>\n",
       "      <th>mean_score_time</th>\n",
       "      <th>mean_test_score</th>\n",
       "      <th>mean_train_score</th>\n",
       "      <th>param_C</th>\n",
       "      <th>param_gamma</th>\n",
       "      <th>params</th>\n",
       "      <th>rank_test_score</th>\n",
       "      <th>split0_test_score</th>\n",
       "      <th>split0_train_score</th>\n",
       "      <th>split1_test_score</th>\n",
       "      <th>split1_train_score</th>\n",
       "      <th>std_fit_time</th>\n",
       "      <th>std_score_time</th>\n",
       "      <th>std_test_score</th>\n",
       "      <th>std_train_score</th>\n",
       "      <th>mean_cv_error</th>\n",
       "    </tr>\n",
       "  </thead>\n",
       "  <tbody>\n",
       "    <tr>\n",
       "      <th>0</th>\n",
       "      <td>285.671830</td>\n",
       "      <td>16.275460</td>\n",
       "      <td>19.791369</td>\n",
       "      <td>0.798360</td>\n",
       "      <td>0.001</td>\n",
       "      <td>0.001</td>\n",
       "      <td>{'gamma': 0.001, 'C': 0.001}</td>\n",
       "      <td>38</td>\n",
       "      <td>0.800754</td>\n",
       "      <td>0.797561</td>\n",
       "      <td>0.803419</td>\n",
       "      <td>0.799159</td>\n",
       "      <td>189.136487</td>\n",
       "      <td>6.014165</td>\n",
       "      <td>0.001332</td>\n",
       "      <td>0.000799</td>\n",
       "      <td>19.79</td>\n",
       "    </tr>\n",
       "    <tr>\n",
       "      <th>1</th>\n",
       "      <td>283.611784</td>\n",
       "      <td>17.385531</td>\n",
       "      <td>19.784501</td>\n",
       "      <td>0.798446</td>\n",
       "      <td>0.001</td>\n",
       "      <td>0.01</td>\n",
       "      <td>{'gamma': 0.01, 'C': 0.001}</td>\n",
       "      <td>37</td>\n",
       "      <td>0.800754</td>\n",
       "      <td>0.797561</td>\n",
       "      <td>0.803556</td>\n",
       "      <td>0.799331</td>\n",
       "      <td>186.461052</td>\n",
       "      <td>4.217537</td>\n",
       "      <td>0.001401</td>\n",
       "      <td>0.000885</td>\n",
       "      <td>19.78</td>\n",
       "    </tr>\n",
       "    <tr>\n",
       "      <th>2</th>\n",
       "      <td>303.652002</td>\n",
       "      <td>16.206489</td>\n",
       "      <td>19.791369</td>\n",
       "      <td>0.798360</td>\n",
       "      <td>0.001</td>\n",
       "      <td>0.1</td>\n",
       "      <td>{'gamma': 0.1, 'C': 0.001}</td>\n",
       "      <td>38</td>\n",
       "      <td>0.800754</td>\n",
       "      <td>0.797561</td>\n",
       "      <td>0.803419</td>\n",
       "      <td>0.799159</td>\n",
       "      <td>205.401840</td>\n",
       "      <td>5.735645</td>\n",
       "      <td>0.001332</td>\n",
       "      <td>0.000799</td>\n",
       "      <td>19.79</td>\n",
       "    </tr>\n",
       "    <tr>\n",
       "      <th>3</th>\n",
       "      <td>342.324184</td>\n",
       "      <td>16.511182</td>\n",
       "      <td>19.791369</td>\n",
       "      <td>0.798360</td>\n",
       "      <td>0.001</td>\n",
       "      <td>1</td>\n",
       "      <td>{'gamma': 1, 'C': 0.001}</td>\n",
       "      <td>38</td>\n",
       "      <td>0.800754</td>\n",
       "      <td>0.797561</td>\n",
       "      <td>0.803419</td>\n",
       "      <td>0.799159</td>\n",
       "      <td>243.801347</td>\n",
       "      <td>5.998402</td>\n",
       "      <td>0.001332</td>\n",
       "      <td>0.000799</td>\n",
       "      <td>19.79</td>\n",
       "    </tr>\n",
       "    <tr>\n",
       "      <th>4</th>\n",
       "      <td>331.226701</td>\n",
       "      <td>16.413724</td>\n",
       "      <td>19.791369</td>\n",
       "      <td>0.798360</td>\n",
       "      <td>0.001</td>\n",
       "      <td>5</td>\n",
       "      <td>{'gamma': 5, 'C': 0.001}</td>\n",
       "      <td>38</td>\n",
       "      <td>0.800754</td>\n",
       "      <td>0.797561</td>\n",
       "      <td>0.803419</td>\n",
       "      <td>0.799159</td>\n",
       "      <td>255.878136</td>\n",
       "      <td>5.930955</td>\n",
       "      <td>0.001332</td>\n",
       "      <td>0.000799</td>\n",
       "      <td>19.79</td>\n",
       "    </tr>\n",
       "  </tbody>\n",
       "</table>\n",
       "</div>"
      ],
      "text/plain": [
       "   mean_fit_time  mean_score_time  mean_test_score  mean_train_score param_C  \\\n",
       "0     285.671830        16.275460        19.791369          0.798360   0.001   \n",
       "1     283.611784        17.385531        19.784501          0.798446   0.001   \n",
       "2     303.652002        16.206489        19.791369          0.798360   0.001   \n",
       "3     342.324184        16.511182        19.791369          0.798360   0.001   \n",
       "4     331.226701        16.413724        19.791369          0.798360   0.001   \n",
       "\n",
       "  param_gamma                        params  rank_test_score  \\\n",
       "0       0.001  {'gamma': 0.001, 'C': 0.001}               38   \n",
       "1        0.01   {'gamma': 0.01, 'C': 0.001}               37   \n",
       "2         0.1    {'gamma': 0.1, 'C': 0.001}               38   \n",
       "3           1      {'gamma': 1, 'C': 0.001}               38   \n",
       "4           5      {'gamma': 5, 'C': 0.001}               38   \n",
       "\n",
       "   split0_test_score  split0_train_score  split1_test_score  \\\n",
       "0           0.800754            0.797561           0.803419   \n",
       "1           0.800754            0.797561           0.803556   \n",
       "2           0.800754            0.797561           0.803419   \n",
       "3           0.800754            0.797561           0.803419   \n",
       "4           0.800754            0.797561           0.803419   \n",
       "\n",
       "   split1_train_score  std_fit_time  std_score_time  std_test_score  \\\n",
       "0            0.799159    189.136487        6.014165        0.001332   \n",
       "1            0.799331    186.461052        4.217537        0.001401   \n",
       "2            0.799159    205.401840        5.735645        0.001332   \n",
       "3            0.799159    243.801347        5.998402        0.001332   \n",
       "4            0.799159    255.878136        5.930955        0.001332   \n",
       "\n",
       "   std_train_score  mean_cv_error  \n",
       "0         0.000799          19.79  \n",
       "1         0.000885          19.78  \n",
       "2         0.000799          19.79  \n",
       "3         0.000799          19.79  \n",
       "4         0.000799          19.79  "
      ]
     },
     "execution_count": 19,
     "metadata": {},
     "output_type": "execute_result"
    }
   ],
   "source": [
    "results['mean_test_score']=results['mean_test_score']*100#multiplying mean_test_score by 100\n",
    "results['mean_test_score']=100-results['mean_test_score']#substracting from 100 to get a cv_error score\n",
    "results['mean_cv_error']=results['mean_test_score'].round(decimals=2)#  building a new column cv_error and rounding \n",
    "# cv_error score upto 2 decimal points\n",
    "results.head()"
   ]
  },
  {
   "cell_type": "code",
   "execution_count": 20,
   "metadata": {
    "colab": {},
    "colab_type": "code",
    "collapsed": true,
    "id": "P1i8d5XF-IrP"
   },
   "outputs": [],
   "source": [
    "test_score_heatmap=results.pivot('param_C','param_gamma','mean_cv_error')"
   ]
  },
  {
   "cell_type": "code",
   "execution_count": 21,
   "metadata": {
    "colab": {},
    "colab_type": "code",
    "id": "tXDf19R9-lb3"
   },
   "outputs": [
    {
     "data": {
      "text/html": [
       "<div>\n",
       "<table border=\"1\" class=\"dataframe\">\n",
       "  <thead>\n",
       "    <tr style=\"text-align: right;\">\n",
       "      <th>param_gamma</th>\n",
       "      <th>0.001</th>\n",
       "      <th>0.01</th>\n",
       "      <th>0.1</th>\n",
       "      <th>1.0</th>\n",
       "      <th>5.0</th>\n",
       "      <th>10.0</th>\n",
       "      <th>100.0</th>\n",
       "    </tr>\n",
       "    <tr>\n",
       "      <th>param_C</th>\n",
       "      <th></th>\n",
       "      <th></th>\n",
       "      <th></th>\n",
       "      <th></th>\n",
       "      <th></th>\n",
       "      <th></th>\n",
       "      <th></th>\n",
       "    </tr>\n",
       "  </thead>\n",
       "  <tbody>\n",
       "    <tr>\n",
       "      <th>0.001</th>\n",
       "      <td>19.79</td>\n",
       "      <td>19.78</td>\n",
       "      <td>19.79</td>\n",
       "      <td>19.79</td>\n",
       "      <td>19.79</td>\n",
       "      <td>19.79</td>\n",
       "      <td>19.79</td>\n",
       "    </tr>\n",
       "    <tr>\n",
       "      <th>0.010</th>\n",
       "      <td>22.39</td>\n",
       "      <td>18.17</td>\n",
       "      <td>19.79</td>\n",
       "      <td>19.79</td>\n",
       "      <td>19.79</td>\n",
       "      <td>19.79</td>\n",
       "      <td>19.79</td>\n",
       "    </tr>\n",
       "    <tr>\n",
       "      <th>0.100</th>\n",
       "      <td>18.52</td>\n",
       "      <td>16.49</td>\n",
       "      <td>16.44</td>\n",
       "      <td>17.84</td>\n",
       "      <td>17.84</td>\n",
       "      <td>17.84</td>\n",
       "      <td>17.84</td>\n",
       "    </tr>\n",
       "    <tr>\n",
       "      <th>1.000</th>\n",
       "      <td>16.87</td>\n",
       "      <td>13.87</td>\n",
       "      <td>11.97</td>\n",
       "      <td>15.05</td>\n",
       "      <td>15.09</td>\n",
       "      <td>15.10</td>\n",
       "      <td>15.10</td>\n",
       "    </tr>\n",
       "    <tr>\n",
       "      <th>5.000</th>\n",
       "      <td>15.94</td>\n",
       "      <td>11.87</td>\n",
       "      <td>11.87</td>\n",
       "      <td>15.05</td>\n",
       "      <td>15.09</td>\n",
       "      <td>15.10</td>\n",
       "      <td>15.10</td>\n",
       "    </tr>\n",
       "    <tr>\n",
       "      <th>10.000</th>\n",
       "      <td>15.38</td>\n",
       "      <td>11.42</td>\n",
       "      <td>11.90</td>\n",
       "      <td>15.05</td>\n",
       "      <td>15.09</td>\n",
       "      <td>15.10</td>\n",
       "      <td>15.10</td>\n",
       "    </tr>\n",
       "    <tr>\n",
       "      <th>100.000</th>\n",
       "      <td>13.91</td>\n",
       "      <td>11.81</td>\n",
       "      <td>11.89</td>\n",
       "      <td>15.05</td>\n",
       "      <td>15.09</td>\n",
       "      <td>15.10</td>\n",
       "      <td>15.10</td>\n",
       "    </tr>\n",
       "  </tbody>\n",
       "</table>\n",
       "</div>"
      ],
      "text/plain": [
       "param_gamma  0.001    0.010    0.100    1.000    5.000    10.000   100.000\n",
       "param_C                                                                   \n",
       "0.001          19.79    19.78    19.79    19.79    19.79    19.79    19.79\n",
       "0.010          22.39    18.17    19.79    19.79    19.79    19.79    19.79\n",
       "0.100          18.52    16.49    16.44    17.84    17.84    17.84    17.84\n",
       "1.000          16.87    13.87    11.97    15.05    15.09    15.10    15.10\n",
       "5.000          15.94    11.87    11.87    15.05    15.09    15.10    15.10\n",
       "10.000         15.38    11.42    11.90    15.05    15.09    15.10    15.10\n",
       "100.000        13.91    11.81    11.89    15.05    15.09    15.10    15.10"
      ]
     },
     "execution_count": 21,
     "metadata": {},
     "output_type": "execute_result"
    }
   ],
   "source": [
    "test_score_heatmap"
   ]
  },
  {
   "cell_type": "code",
   "execution_count": 24,
   "metadata": {
    "colab": {},
    "colab_type": "code",
    "id": "UyNgSoiV-mHb"
   },
   "outputs": [
    {
     "data": {
      "image/png": "[encoded data removed]",
      "text/plain": [
       "<matplotlib.figure.Figure at 0x7fe095530e48>"
      ]
     },
     "metadata": {},
     "output_type": "display_data"
    }
   ],
   "source": [
    "import seaborn as sns\n",
    "sns.heatmap(test_score_heatmap,annot=True,annot_kws={\"size\": 10}, fmt='g',linewidths=.5)\n",
    "import matplotlib.pylab as plt\n",
    "plt.show()\n",
    "#plotting the heatmap\n",
    "#here each value of cell contains the cv_error with given value of hyperparameters"
   ]
  },
  {
   "cell_type": "code",
   "execution_count": 25,
   "metadata": {},
   "outputs": [
    {
     "data": {
      "text/plain": [
       "SVC(C=10, cache_size=200, class_weight='balanced', coef0=0.0,\n",
       "  decision_function_shape='ovr', degree=3, gamma=0.01, kernel='rbf',\n",
       "  max_iter=-1, probability=True, random_state=None, shrinking=True,\n",
       "  tol=0.001, verbose=False)"
      ]
     },
     "execution_count": 25,
     "metadata": {},
     "output_type": "execute_result"
    }
   ],
   "source": [
    "model.best_estimator_"
   ]
  },
  {
   "cell_type": "markdown",
   "metadata": {
    "colab_type": "text",
    "id": "6a_rCv04-4fb"
   },
   "source": [
    "# FROM HERE BEST HPYERPARAMETERS ARE GAMMA =0.01   AND  C=10"
   ]
  },
  {
   "cell_type": "code",
   "execution_count": 26,
   "metadata": {
    "colab": {},
    "colab_type": "code",
    "collapsed": true,
    "id": "S0wi404oGdVK"
   },
   "outputs": [],
   "source": [
    "#building the svc model\n",
    "svc=SVC(class_weight='balanced',probability=True,C=10,gamma=0.01)"
   ]
  },
  {
   "cell_type": "markdown",
   "metadata": {},
   "source": [
    "# PLOTTING THE ROC CURVE FOR GETTING THE TRAIN_DATA"
   ]
  },
  {
   "cell_type": "code",
   "execution_count": 19,
   "metadata": {},
   "outputs": [
    {
     "data": {
      "image/png": "[encoded data removed]",
      "text/plain": [
       "<matplotlib.figure.Figure at 0x1b302f55748>"
      ]
     },
     "metadata": {},
     "output_type": "display_data"
    }
   ],
   "source": [
    "#fitting the model \n",
    "svc.fit(x_train_data,y_train)\n",
    "probs = svc.predict_proba(x_train_data)#predicting the model \n",
    "y_pred = probs[:,1]\n",
    "\n",
    "# \n",
    "import matplotlib.pyplot as plt\n",
    "plt.title('Receiver Operating Characteristic')\n",
    "plt.plot(fpr, tpr, 'b', label = 'AUC = %0.2f' % roc_auc)\n",
    "plt.legend(loc = 'best')\n",
    "plt.plot([0, 1], [0, 1],'r--')\n",
    "plt.xlim([0, 1])\n",
    "plt.ylim([0, 1])\n",
    "plt.ylabel('True Positive Rate')\n",
    "plt.xlabel('False Positive Rate')\n",
    "plt.show()"
   ]
  },
  {
   "cell_type": "markdown",
   "metadata": {
    "colab_type": "text",
    "id": "kFhxFv7dFNzE"
   },
   "source": [
    "# PLOTTING THE ROC CURVE FOR GETTING THE TEST_DATA"
   ]
  },
  {
   "cell_type": "code",
   "execution_count": null,
   "metadata": {
    "collapsed": true
   },
   "outputs": [],
   "source": [
    "#fitting the model \n",
    "svc.fit(x_train_data,y_train)\n",
    "probs = svc.predict_proba(x_test_data)#predicting the model \n",
    "y_pred = probs[:,1]\n"
   ]
  },
  {
   "cell_type": "code",
   "execution_count": 28,
   "metadata": {
    "colab": {},
    "colab_type": "code",
    "id": "JCObAUhGFNUs"
   },
   "outputs": [
    {
     "data": {
      "image/png": "[encoded data removed]",
      "text/plain": [
       "<matplotlib.figure.Figure at 0x7fe09534cfd0>"
      ]
     },
     "metadata": {},
     "output_type": "display_data"
    }
   ],
   "source": [
    "#plotting the curve for getting the auc_value\n",
    "fpr, tpr, threshold = metrics.roc_curve(y_test,y_pred)\n",
    "roc_auc = metrics.auc(fpr, tpr)\n",
    " \n",
    "import matplotlib.pyplot as plt\n",
    "plt.title('Receiver Operating Characteristic')\n",
    "plt.plot(fpr, tpr, 'b', label = 'AUC = %0.2f' % roc_auc)\n",
    "plt.legend(loc = 'best')\n",
    "plt.plot([0, 1], [0, 1],'r--')\n",
    "plt.xlim([0, 1])\n",
    "plt.ylim([0, 1])\n",
    "plt.ylabel('True Positive Rate')\n",
    "plt.xlabel('False Positive Rate')\n",
    "plt.show()"
   ]
  },
  {
   "cell_type": "markdown",
   "metadata": {
    "colab_type": "text",
    "id": "4drQtE5fcsM8"
   },
   "source": [
    "# USING BEST HYPERPARAMETER VALUE ON TEST DATA AND PLOTTING THE CONFUSION MATRIX WITH HEATMAP"
   ]
  },
  {
   "cell_type": "code",
   "execution_count": 32,
   "metadata": {
    "colab": {
     "base_uri": "https://localhost:8080/",
     "height": 511
    },
    "colab_type": "code",
    "executionInfo": {
     "elapsed": 16180,
     "status": "ok",
     "timestamp": 1547925038396,
     "user": {
      "displayName": "mayank aggarwal",
      "photoUrl": "",
      "userId": "04107947634097457088"
     },
     "user_tz": -330
    },
    "id": "Ox3k0a43cXmo",
    "outputId": "35cc20d6-c0dc-4a90-ce1e-772dfe292b3b"
   },
   "outputs": [
    {
     "name": "stdout",
     "output_type": "stream",
     "text": [
      "Accuracy on test set: 86.711%\n",
      "Precision on test set: 0.919\n",
      "Recall on test set: 0.877\n",
      "F1-Score on test set: 0.898\n",
      "Confusion Matrix of test set:\n",
      " [ [TN  FP]\n",
      " [FN TP] ]\n",
      "\n"
     ]
    },
    {
     "data": {
      "image/png": "[encoded data removed]",
      "text/plain": [
       "<matplotlib.figure.Figure at 0x7fe0953594a8>"
      ]
     },
     "metadata": {},
     "output_type": "display_data"
    }
   ],
   "source": [
    "#Testing Accuracy on Test data  \n",
    "import seaborn as sns #importing seaborn as sns\n",
    "from sklearn.metrics import *#importing varoius metrics from sklearn\n",
    "y_pred=svc.predict(x_test_data)\n",
    "print(\"Accuracy on test set: %0.3f%%\"%(accuracy_score(y_test, y_pred)*100))#printing accuracy\n",
    "print(\"Precision on test set: %0.3f\"%(precision_score(y_test, y_pred)))#printing precision score\n",
    "print(\"Recall on test set: %0.3f\"%(recall_score(y_test, y_pred))) #printing recall\n",
    "print(\"F1-Score on test set: %0.3f\"%(f1_score(y_test, y_pred))) \n",
    "print(\"Confusion Matrix of test set:\\n [ [TN  FP]\\n [FN TP] ]\\n\") \n",
    "df_cm = pd.DataFrame(confusion_matrix(y_test, y_pred), range(2),range(2)) #generating the heatmap for confusion matrix\n",
    "sns.set(font_scale=1.4)#for label size\n",
    "sns.heatmap(df_cm, annot=True,annot_kws={\"size\": 16}, fmt='g')\n",
    "import matplotlib.pyplot as plt\n",
    "plt.show()"
   ]
  },
  {
   "cell_type": "markdown",
   "metadata": {
    "colab_type": "text",
    "id": "7hfQFKwKuQMi"
   },
   "source": [
    "# <i>TFIDF WORD2VEC VECTORIZATION WITH SUPPORT VECTOR MACHINE  WITH LINEAR KERNEL AND RBF KERNEL IS DONE<b>\n",
    " ********************************************************************************************************"
   ]
  },
  {
   "cell_type": "markdown",
   "metadata": {
    "colab": {},
    "colab_type": "code",
    "collapsed": true,
    "id": "CyZdrheWdKSJ"
   },
   "source": [
    "# TABULATING VAROIUS VECTORIZATION RESULTS WITH DIFFERENT PARAMETERS"
   ]
  },
  {
   "cell_type": "code",
   "execution_count": 1,
   "metadata": {
    "collapsed": true
   },
   "outputs": [],
   "source": [
    "from tabulate import tabulate"
   ]
  },
  {
   "cell_type": "code",
   "execution_count": 5,
   "metadata": {},
   "outputs": [
    {
     "name": "stdout",
     "output_type": "stream",
     "text": [
      "PERFORMANCE EVALUATION for SVM WITH LINEAR KERNEL FOR ALL VECTORIZATIONS\n",
      "╒══════════════════════╤═══════════╤═══════════════╤════════════╤════════════╕\n",
      "│ VECTORIZATION        │ PENALTY   │   PARAM_ALPHA │ F1_SCORE   │ ACCURACY   │\n",
      "╞══════════════════════╪═══════════╪═══════════════╪════════════╪════════════╡\n",
      "│ BOW                  │ L2        │         0.1   │ 95.2%      │ 82.6%      │\n",
      "├──────────────────────┼───────────┼───────────────┼────────────┼────────────┤\n",
      "│ TF-IDF               │ L2        │         0.1   │ 95.6%      │ 89.1%      │\n",
      "├──────────────────────┼───────────┼───────────────┼────────────┼────────────┤\n",
      "│ AVG_WORD_2_VEC       │ L2        │         0.001 │ 94.1%      │ 89.8%      │\n",
      "├──────────────────────┼───────────┼───────────────┼────────────┼────────────┤\n",
      "│ TFIDF_AVG_WORD_2_VEC │ L2        │         0.01  │ 93.8%      │ 86.6%      │\n",
      "╘══════════════════════╧═══════════╧═══════════════╧════════════╧════════════╛\n"
     ]
    }
   ],
   "source": [
    "print(\"PERFORMANCE EVALUATION for SVM WITH LINEAR KERNEL FOR ALL VECTORIZATIONS\")\n",
    "table = [[\"BOW\",'L2','0.1','95.2%','82.6%'],[\"TF-IDF\",'L2','0.1','95.6%','89.1%'], [\"AVG_WORD_2_VEC\",'L2','0.001','94.1%','89.8%'],[\"TFIDF_AVG_WORD_2_VEC\",'L2','0.01','93.8%','86.6%']]\n",
    "headers=['VECTORIZATION','PENALTY','PARAM_ALPHA','F1_SCORE','ACCURACY']\n",
    "print (tabulate(table, headers, tablefmt=\"fancy_grid\"))"
   ]
  },
  {
   "cell_type": "code",
   "execution_count": 6,
   "metadata": {},
   "outputs": [
    {
     "name": "stdout",
     "output_type": "stream",
     "text": [
      "PERFORMANCE EVALUATION for SVM WITH RBF KERNEL FOR ALL VECTORIZATIONS\n",
      "╒══════════════════════╤═══════════════╤═══════════╤════════════╤════════════╕\n",
      "│ VECTORIZATION        │   PARAM_GAMMA │   PARAM_C │ F1_SCORE   │ ACCURACY   │\n",
      "╞══════════════════════╪═══════════════╪═══════════╪════════════╪════════════╡\n",
      "│ BOW                  │          0.01 │         1 │ 87.3%      │ 94.2%      │\n",
      "├──────────────────────┼───────────────┼───────────┼────────────┼────────────┤\n",
      "│ TF-IDF               │          0.01 │         1 │ 86.2%      │ 88.1%      │\n",
      "├──────────────────────┼───────────────┼───────────┼────────────┼────────────┤\n",
      "│ AVG_WORD_2_VEC       │          0.1  │        10 │ 91.2%      │ 94.3%      │\n",
      "├──────────────────────┼───────────────┼───────────┼────────────┼────────────┤\n",
      "│ TFIDF_AVG_WORD_2_VEC │          0.01 │        10 │ 89.8%      │ 93.6%      │\n",
      "╘══════════════════════╧═══════════════╧═══════════╧════════════╧════════════╛\n"
     ]
    }
   ],
   "source": [
    "print(\"PERFORMANCE EVALUATION for SVM WITH RBF KERNEL FOR ALL VECTORIZATIONS\")\n",
    "table = [[\"BOW\",'.01','1','87.3%','94.2%'],[\"TF-IDF\",'0.01','1','86.2%','88.1%'], [\"AVG_WORD_2_VEC\",'0.1','10','91.2%','94.3%'],[\"TFIDF_AVG_WORD_2_VEC\",'0.01','10','89.8%','93.6%']]\n",
    "headers=['VECTORIZATION','PARAM_GAMMA','PARAM_C','F1_SCORE','ACCURACY']\n",
    "print (tabulate(table, headers, tablefmt=\"fancy_grid\"))"
   ]
  },
  {
   "cell_type": "markdown",
   "metadata": {},
   "source": [
    "#  SVM ASSIGNMENT  WITH LINEAR KERNEL AND RBF KERNEL  IS DONE"
   ]
  },
  {
   "cell_type": "code",
   "execution_count": 9,
   "metadata": {},
   "outputs": [
    {
     "name": "stdout",
     "output_type": "stream",
     "text": [
      "############### SVM ASSIGNMENT WITH LINEAR KERNEL AND RBF KERNEL IS DONE for ALL VECTORIZATIONS######################\n"
     ]
    }
   ],
   "source": [
    "print('############### SVM ASSIGNMENT WITH LINEAR KERNEL AND RBF KERNEL IS DONE for ALL VECTORIZATIONS######################')"
   ]
  },
  {
   "cell_type": "code",
   "execution_count": null,
   "metadata": {
    "collapsed": true
   },
   "outputs": [],
   "source": []
  }
 ],
 "metadata": {
  "colab": {
   "collapsed_sections": [],
   "name": " svm_tfidf-avg_word_2_vec.ipynb",
   "provenance": [
    {
     "file_id": "1W_FUN-V9TcpfXDFa60ynVC8ATIYM8uT7",
     "timestamp": 1548881026565
    },
    {
     "file_id": "1OOWnvezB8fG4Dvu_Q0XuoP9E1Fv0iM9k",
     "timestamp": 1548879884056
    },
    {
     "file_id": "17Y959qZCaAjCSG15IRcyT8fjHIm1SO7A",
     "timestamp": 1547912102331
    }
   ],
   "version": "0.3.2"
  },
  "kernelspec": {
   "display_name": "Python 3",
   "language": "python",
   "name": "python3"
  },
  "language_info": {
   "codemirror_mode": {
    "name": "ipython",
    "version": 3
   },
   "file_extension": ".py",
   "mimetype": "text/x-python",
   "name": "python",
   "nbconvert_exporter": "python",
   "pygments_lexer": "ipython3",
   "version": "3.6.3"
  }
 },
 "nbformat": 4,
 "nbformat_minor": 1
}
