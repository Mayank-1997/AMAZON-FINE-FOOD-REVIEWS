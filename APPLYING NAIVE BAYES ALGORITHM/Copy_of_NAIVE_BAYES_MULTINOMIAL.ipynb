{
 "cells": [
  {
   "cell_type": "markdown",
   "metadata": {
    "colab_type": "text",
    "id": "6e7X7gjX-WQm"
   },
   "source": [
    "## OBJECTIVE::\n",
    "**TO IMPLEMENT   NIAVE BAYES MULTINOMIAL ALGORITHM  **\n",
    "\n",
    "### 1.  USING BOW VERTORIZATION\n",
    "### 2.   USING TFIDF VECTORIZATION \n",
    "\n"
   ]
  },
  {
   "cell_type": "markdown",
   "metadata": {
    "colab_type": "text",
    "id": "bLzz4gcIGCbC"
   },
   "source": [
    "## MULTINOMIAL IMPLEMENTATION WITH BOW VERTORIZATION"
   ]
  },
  {
   "cell_type": "code",
   "execution_count": 0,
   "metadata": {
    "colab": {},
    "colab_type": "code",
    "collapsed": true,
    "id": "Jkb-Cyye94jE"
   },
   "outputs": [],
   "source": [
    "from sklearn.model_selection import train_test_split          #importing the necessary libraries\n",
    "from sklearn.model_selection import GridSearchCV\n",
    "from sklearn.datasets import *\n",
    "from sklearn import naive_bayes\n",
    "from sklearn.feature_extraction.text import CountVectorizer\n",
    "from sklearn.feature_extraction.text import TfidfVectorizer\n",
    "import numpy as np\n",
    "import pandas as pd\n",
    "from sklearn import *\n",
    "import warnings\n",
    "warnings.filterwarnings(\"ignore\")"
   ]
  },
  {
   "cell_type": "code",
   "execution_count": 32,
   "metadata": {
    "colab": {
     "base_uri": "https://localhost:8080/",
     "height": 34
    },
    "colab_type": "code",
    "id": "mNt1s6sy-EZQ",
    "outputId": "736886ad-4f6e-4721-e9ea-1221727ab947"
   },
   "outputs": [
    {
     "name": "stdout",
     "output_type": "stream",
     "text": [
      "Drive already mounted at /content/gdrive; to attempt to forcibly remount, call drive.mount(\"/content/gdrive\", force_remount=True).\n"
     ]
    }
   ],
   "source": [
    "from google.colab import drive\n",
    "drive.mount('/content/gdrive')#geeting the content from the google drive"
   ]
  },
  {
   "cell_type": "code",
   "execution_count": 0,
   "metadata": {
    "colab": {},
    "colab_type": "code",
    "collapsed": true,
    "id": "4nTB5QOJ-wXj"
   },
   "outputs": [],
   "source": [
    "final_processed_data=pd.read_csv(\"gdrive/My Drive/final_new_data.csv\")#loading the preprocessed data  with 100k points into dataframe "
   ]
  },
  {
   "cell_type": "code",
   "execution_count": 34,
   "metadata": {
    "colab": {
     "base_uri": "https://localhost:8080/",
     "height": 51
    },
    "colab_type": "code",
    "id": "kyfXlYxY-zbZ",
    "outputId": "58780b47-826f-4e5f-be43-8c6923e91320"
   },
   "outputs": [
    {
     "name": "stdout",
     "output_type": "stream",
     "text": [
      "88521\n",
      "11479\n"
     ]
    }
   ],
   "source": [
    "# getting the counts of 0 and 1 in \"SCORE\" column to know whether it is unbalanced data or not\n",
    "count_of_1=0\n",
    "count_of_0=0\n",
    "for i in final_processed_data['Score']:\n",
    "   if i==1:\n",
    "    count_of_1+=1\n",
    "   else:\n",
    "    count_of_0+=1\n",
    "print(count_of_1)\n",
    "print(count_of_0)\n",
    "#it is an imbalanced dataset"
   ]
  },
  {
   "cell_type": "markdown",
   "metadata": {
    "colab_type": "text",
    "id": "CCl7xESv-6bJ"
   },
   "source": [
    "# **spliiting the data into train and test data**"
   ]
  },
  {
   "cell_type": "code",
   "execution_count": 0,
   "metadata": {
    "colab": {},
    "colab_type": "code",
    "collapsed": true,
    "id": "BGi02-ei-2IS"
   },
   "outputs": [],
   "source": [
    "x_train,x_test,y_train,y_test=model_selection.train_test_split(final_processed_data['CleanedText'].values,final_processed_data['Score'].values,test_size=0.2,shuffle=False)"
   ]
  },
  {
   "cell_type": "code",
   "execution_count": 36,
   "metadata": {
    "colab": {
     "base_uri": "https://localhost:8080/",
     "height": 34
    },
    "colab_type": "code",
    "id": "ejJMusKL_DHP",
    "outputId": "910a6ee9-f144-45f4-92c9-9b38f258d31c"
   },
   "outputs": [
    {
     "name": "stdout",
     "output_type": "stream",
     "text": [
      "(80000, 28059)\n"
     ]
    }
   ],
   "source": [
    "vectorizer=CountVectorizer()#building the vertorizer with word counts as weare dealing with multinomial MODEL  here\n",
    "train_bow=vectorizer.fit_transform(x_train)#fitting the model on training data\n",
    "print(train_bow.shape)"
   ]
  },
  {
   "cell_type": "code",
   "execution_count": 37,
   "metadata": {
    "colab": {
     "base_uri": "https://localhost:8080/",
     "height": 34
    },
    "colab_type": "code",
    "id": "jyuQw5AS_RCx",
    "outputId": "faeccc5a-8d9d-43bb-b727-4b86f4b219ce"
   },
   "outputs": [
    {
     "name": "stdout",
     "output_type": "stream",
     "text": [
      "(20000, 28059)\n"
     ]
    }
   ],
   "source": [
    "test_bow=vectorizer.transform(x_test)#fitting the model on test data\n",
    "print(test_bow.shape)"
   ]
  },
  {
   "cell_type": "code",
   "execution_count": 0,
   "metadata": {
    "colab": {},
    "colab_type": "code",
    "collapsed": true,
    "id": "d7rr7kX4_Vyc"
   },
   "outputs": [],
   "source": [
    "#using time series split method for cross-validation score\n",
    "from sklearn.model_selection import TimeSeriesSplit\n",
    "tscv = TimeSeriesSplit(n_splits=10) "
   ]
  },
  {
   "cell_type": "code",
   "execution_count": 39,
   "metadata": {
    "colab": {
     "base_uri": "https://localhost:8080/",
     "height": 51
    },
    "colab_type": "code",
    "id": "rIR2srgY_ZiL",
    "outputId": "35defa0f-4726-4f5e-e7a9-196b1068f351"
   },
   "outputs": [
    {
     "name": "stdout",
     "output_type": "stream",
     "text": [
      "MultinomialNB(alpha=10, class_prior=[0.5, 0.5], fit_prior=False)\n",
      "0.9487720052100818\n"
     ]
    }
   ],
   "source": [
    "#now,here biulding the multinomial  model by passing the class_prior as 0.5,0.5 as it highly imbalanced dataset\n",
    "mb=naive_bayes.MultinomialNB(fit_prior=False, class_prior=[0.5,0.5])\n",
    "tuned_parameters = [{'alpha':[10**-4,10**-3,10**-2,10**-1,0,10**1,10**2,10**3,10**4]}] #alpha value range to be used for gridsearchcv\n",
    "\n",
    "\n",
    "#now  Using GridSearchCV\n",
    "model = GridSearchCV(mb, tuned_parameters, scoring = 'f1', cv=tscv,n_jobs=-1)#building the gridsearchcv model\n",
    "model.fit(train_bow, y_train)#fiitting the training data\n",
    "\n",
    "print(model.best_estimator_)#printing the best_estimator\n",
    "print(model.score(train_bow, y_train))#predicting  f1 score on test data\n"
   ]
  },
  {
   "cell_type": "code",
   "execution_count": 0,
   "metadata": {
    "colab": {},
    "colab_type": "code",
    "collapsed": true,
    "id": "Fa5rSLEHDADm"
   },
   "outputs": [],
   "source": []
  },
  {
   "cell_type": "code",
   "execution_count": 40,
   "metadata": {
    "colab": {
     "base_uri": "https://localhost:8080/",
     "height": 533
    },
    "colab_type": "code",
    "id": "fQnBYb_MzSqh",
    "outputId": "85e437d7-9c0b-4387-89e4-bb3dec2d05db"
   },
   "outputs": [
    {
     "data": {
      "text/html": [
       "<div>\n",
       "<style scoped>\n",
       "    .dataframe tbody tr th:only-of-type {\n",
       "        vertical-align: middle;\n",
       "    }\n",
       "\n",
       "    .dataframe tbody tr th {\n",
       "        vertical-align: top;\n",
       "    }\n",
       "\n",
       "    .dataframe thead th {\n",
       "        text-align: right;\n",
       "    }\n",
       "</style>\n",
       "<table border=\"1\" class=\"dataframe\">\n",
       "  <thead>\n",
       "    <tr style=\"text-align: right;\">\n",
       "      <th></th>\n",
       "      <th>mean_fit_time</th>\n",
       "      <th>mean_score_time</th>\n",
       "      <th>mean_test_score</th>\n",
       "      <th>mean_train_score</th>\n",
       "      <th>param_alpha</th>\n",
       "      <th>params</th>\n",
       "      <th>rank_test_score</th>\n",
       "      <th>split0_test_score</th>\n",
       "      <th>split0_train_score</th>\n",
       "      <th>split1_test_score</th>\n",
       "      <th>...</th>\n",
       "      <th>split7_test_score</th>\n",
       "      <th>split7_train_score</th>\n",
       "      <th>split8_test_score</th>\n",
       "      <th>split8_train_score</th>\n",
       "      <th>split9_test_score</th>\n",
       "      <th>split9_train_score</th>\n",
       "      <th>std_fit_time</th>\n",
       "      <th>std_score_time</th>\n",
       "      <th>std_test_score</th>\n",
       "      <th>std_train_score</th>\n",
       "    </tr>\n",
       "  </thead>\n",
       "  <tbody>\n",
       "    <tr>\n",
       "      <th>0</th>\n",
       "      <td>0.072911</td>\n",
       "      <td>0.006320</td>\n",
       "      <td>0.919144</td>\n",
       "      <td>0.964464</td>\n",
       "      <td>0.0001</td>\n",
       "      <td>{'alpha': 0.0001}</td>\n",
       "      <td>6</td>\n",
       "      <td>0.914665</td>\n",
       "      <td>0.976224</td>\n",
       "      <td>0.925891</td>\n",
       "      <td>...</td>\n",
       "      <td>0.912098</td>\n",
       "      <td>0.958732</td>\n",
       "      <td>0.922074</td>\n",
       "      <td>0.958025</td>\n",
       "      <td>0.921506</td>\n",
       "      <td>0.957399</td>\n",
       "      <td>0.028765</td>\n",
       "      <td>0.000557</td>\n",
       "      <td>0.005979</td>\n",
       "      <td>0.006132</td>\n",
       "    </tr>\n",
       "    <tr>\n",
       "      <th>1</th>\n",
       "      <td>0.068627</td>\n",
       "      <td>0.006312</td>\n",
       "      <td>0.919204</td>\n",
       "      <td>0.963333</td>\n",
       "      <td>0.001</td>\n",
       "      <td>{'alpha': 0.001}</td>\n",
       "      <td>5</td>\n",
       "      <td>0.914120</td>\n",
       "      <td>0.974766</td>\n",
       "      <td>0.924982</td>\n",
       "      <td>...</td>\n",
       "      <td>0.913457</td>\n",
       "      <td>0.957578</td>\n",
       "      <td>0.922868</td>\n",
       "      <td>0.956812</td>\n",
       "      <td>0.921982</td>\n",
       "      <td>0.956116</td>\n",
       "      <td>0.029544</td>\n",
       "      <td>0.000917</td>\n",
       "      <td>0.006101</td>\n",
       "      <td>0.006127</td>\n",
       "    </tr>\n",
       "    <tr>\n",
       "      <th>2</th>\n",
       "      <td>0.066281</td>\n",
       "      <td>0.005938</td>\n",
       "      <td>0.917673</td>\n",
       "      <td>0.960688</td>\n",
       "      <td>0.01</td>\n",
       "      <td>{'alpha': 0.01}</td>\n",
       "      <td>8</td>\n",
       "      <td>0.912469</td>\n",
       "      <td>0.971515</td>\n",
       "      <td>0.922025</td>\n",
       "      <td>...</td>\n",
       "      <td>0.912506</td>\n",
       "      <td>0.954742</td>\n",
       "      <td>0.920173</td>\n",
       "      <td>0.954347</td>\n",
       "      <td>0.922397</td>\n",
       "      <td>0.953689</td>\n",
       "      <td>0.029059</td>\n",
       "      <td>0.000222</td>\n",
       "      <td>0.006583</td>\n",
       "      <td>0.006020</td>\n",
       "    </tr>\n",
       "    <tr>\n",
       "      <th>3</th>\n",
       "      <td>0.067966</td>\n",
       "      <td>0.006263</td>\n",
       "      <td>0.916704</td>\n",
       "      <td>0.956255</td>\n",
       "      <td>0.1</td>\n",
       "      <td>{'alpha': 0.1}</td>\n",
       "      <td>9</td>\n",
       "      <td>0.910867</td>\n",
       "      <td>0.970520</td>\n",
       "      <td>0.921702</td>\n",
       "      <td>...</td>\n",
       "      <td>0.908584</td>\n",
       "      <td>0.949319</td>\n",
       "      <td>0.919499</td>\n",
       "      <td>0.948203</td>\n",
       "      <td>0.920722</td>\n",
       "      <td>0.947904</td>\n",
       "      <td>0.029767</td>\n",
       "      <td>0.000513</td>\n",
       "      <td>0.008213</td>\n",
       "      <td>0.007455</td>\n",
       "    </tr>\n",
       "    <tr>\n",
       "      <th>4</th>\n",
       "      <td>0.066610</td>\n",
       "      <td>0.006354</td>\n",
       "      <td>0.918575</td>\n",
       "      <td>0.965679</td>\n",
       "      <td>0</td>\n",
       "      <td>{'alpha': 0}</td>\n",
       "      <td>7</td>\n",
       "      <td>0.913750</td>\n",
       "      <td>0.977521</td>\n",
       "      <td>0.924512</td>\n",
       "      <td>...</td>\n",
       "      <td>0.916057</td>\n",
       "      <td>0.960067</td>\n",
       "      <td>0.919696</td>\n",
       "      <td>0.959335</td>\n",
       "      <td>0.921927</td>\n",
       "      <td>0.958631</td>\n",
       "      <td>0.030343</td>\n",
       "      <td>0.000496</td>\n",
       "      <td>0.005305</td>\n",
       "      <td>0.006090</td>\n",
       "    </tr>\n",
       "    <tr>\n",
       "      <th>5</th>\n",
       "      <td>0.066080</td>\n",
       "      <td>0.006078</td>\n",
       "      <td>0.942213</td>\n",
       "      <td>0.944715</td>\n",
       "      <td>10</td>\n",
       "      <td>{'alpha': 10}</td>\n",
       "      <td>1</td>\n",
       "      <td>0.942793</td>\n",
       "      <td>0.939006</td>\n",
       "      <td>0.950195</td>\n",
       "      <td>...</td>\n",
       "      <td>0.940001</td>\n",
       "      <td>0.946902</td>\n",
       "      <td>0.938661</td>\n",
       "      <td>0.947739</td>\n",
       "      <td>0.937817</td>\n",
       "      <td>0.948685</td>\n",
       "      <td>0.028857</td>\n",
       "      <td>0.000577</td>\n",
       "      <td>0.003850</td>\n",
       "      <td>0.002846</td>\n",
       "    </tr>\n",
       "    <tr>\n",
       "      <th>6</th>\n",
       "      <td>0.065608</td>\n",
       "      <td>0.005930</td>\n",
       "      <td>0.941142</td>\n",
       "      <td>0.941473</td>\n",
       "      <td>100</td>\n",
       "      <td>{'alpha': 100}</td>\n",
       "      <td>4</td>\n",
       "      <td>0.942793</td>\n",
       "      <td>0.936683</td>\n",
       "      <td>0.950195</td>\n",
       "      <td>...</td>\n",
       "      <td>0.937619</td>\n",
       "      <td>0.942340</td>\n",
       "      <td>0.934584</td>\n",
       "      <td>0.941809</td>\n",
       "      <td>0.937231</td>\n",
       "      <td>0.941083</td>\n",
       "      <td>0.028607</td>\n",
       "      <td>0.000447</td>\n",
       "      <td>0.004446</td>\n",
       "      <td>0.001852</td>\n",
       "    </tr>\n",
       "    <tr>\n",
       "      <th>7</th>\n",
       "      <td>0.065100</td>\n",
       "      <td>0.006210</td>\n",
       "      <td>0.941150</td>\n",
       "      <td>0.941488</td>\n",
       "      <td>1000</td>\n",
       "      <td>{'alpha': 1000}</td>\n",
       "      <td>2</td>\n",
       "      <td>0.942793</td>\n",
       "      <td>0.936683</td>\n",
       "      <td>0.950195</td>\n",
       "      <td>...</td>\n",
       "      <td>0.937619</td>\n",
       "      <td>0.942359</td>\n",
       "      <td>0.934584</td>\n",
       "      <td>0.941835</td>\n",
       "      <td>0.937231</td>\n",
       "      <td>0.941114</td>\n",
       "      <td>0.027876</td>\n",
       "      <td>0.000617</td>\n",
       "      <td>0.004445</td>\n",
       "      <td>0.001857</td>\n",
       "    </tr>\n",
       "    <tr>\n",
       "      <th>8</th>\n",
       "      <td>0.062687</td>\n",
       "      <td>0.005697</td>\n",
       "      <td>0.941150</td>\n",
       "      <td>0.941488</td>\n",
       "      <td>10000</td>\n",
       "      <td>{'alpha': 10000}</td>\n",
       "      <td>2</td>\n",
       "      <td>0.942793</td>\n",
       "      <td>0.936683</td>\n",
       "      <td>0.950195</td>\n",
       "      <td>...</td>\n",
       "      <td>0.937619</td>\n",
       "      <td>0.942359</td>\n",
       "      <td>0.934584</td>\n",
       "      <td>0.941835</td>\n",
       "      <td>0.937231</td>\n",
       "      <td>0.941114</td>\n",
       "      <td>0.023985</td>\n",
       "      <td>0.001076</td>\n",
       "      <td>0.004445</td>\n",
       "      <td>0.001857</td>\n",
       "    </tr>\n",
       "  </tbody>\n",
       "</table>\n",
       "<p>9 rows × 31 columns</p>\n",
       "</div>"
      ],
      "text/plain": [
       "   mean_fit_time  mean_score_time  mean_test_score  mean_train_score  \\\n",
       "0       0.072911         0.006320         0.919144          0.964464   \n",
       "1       0.068627         0.006312         0.919204          0.963333   \n",
       "2       0.066281         0.005938         0.917673          0.960688   \n",
       "3       0.067966         0.006263         0.916704          0.956255   \n",
       "4       0.066610         0.006354         0.918575          0.965679   \n",
       "5       0.066080         0.006078         0.942213          0.944715   \n",
       "6       0.065608         0.005930         0.941142          0.941473   \n",
       "7       0.065100         0.006210         0.941150          0.941488   \n",
       "8       0.062687         0.005697         0.941150          0.941488   \n",
       "\n",
       "  param_alpha             params  rank_test_score  split0_test_score  \\\n",
       "0      0.0001  {'alpha': 0.0001}                6           0.914665   \n",
       "1       0.001   {'alpha': 0.001}                5           0.914120   \n",
       "2        0.01    {'alpha': 0.01}                8           0.912469   \n",
       "3         0.1     {'alpha': 0.1}                9           0.910867   \n",
       "4           0       {'alpha': 0}                7           0.913750   \n",
       "5          10      {'alpha': 10}                1           0.942793   \n",
       "6         100     {'alpha': 100}                4           0.942793   \n",
       "7        1000    {'alpha': 1000}                2           0.942793   \n",
       "8       10000   {'alpha': 10000}                2           0.942793   \n",
       "\n",
       "   split0_train_score  split1_test_score       ...         split7_test_score  \\\n",
       "0            0.976224           0.925891       ...                  0.912098   \n",
       "1            0.974766           0.924982       ...                  0.913457   \n",
       "2            0.971515           0.922025       ...                  0.912506   \n",
       "3            0.970520           0.921702       ...                  0.908584   \n",
       "4            0.977521           0.924512       ...                  0.916057   \n",
       "5            0.939006           0.950195       ...                  0.940001   \n",
       "6            0.936683           0.950195       ...                  0.937619   \n",
       "7            0.936683           0.950195       ...                  0.937619   \n",
       "8            0.936683           0.950195       ...                  0.937619   \n",
       "\n",
       "   split7_train_score  split8_test_score  split8_train_score  \\\n",
       "0            0.958732           0.922074            0.958025   \n",
       "1            0.957578           0.922868            0.956812   \n",
       "2            0.954742           0.920173            0.954347   \n",
       "3            0.949319           0.919499            0.948203   \n",
       "4            0.960067           0.919696            0.959335   \n",
       "5            0.946902           0.938661            0.947739   \n",
       "6            0.942340           0.934584            0.941809   \n",
       "7            0.942359           0.934584            0.941835   \n",
       "8            0.942359           0.934584            0.941835   \n",
       "\n",
       "   split9_test_score  split9_train_score  std_fit_time  std_score_time  \\\n",
       "0           0.921506            0.957399      0.028765        0.000557   \n",
       "1           0.921982            0.956116      0.029544        0.000917   \n",
       "2           0.922397            0.953689      0.029059        0.000222   \n",
       "3           0.920722            0.947904      0.029767        0.000513   \n",
       "4           0.921927            0.958631      0.030343        0.000496   \n",
       "5           0.937817            0.948685      0.028857        0.000577   \n",
       "6           0.937231            0.941083      0.028607        0.000447   \n",
       "7           0.937231            0.941114      0.027876        0.000617   \n",
       "8           0.937231            0.941114      0.023985        0.001076   \n",
       "\n",
       "   std_test_score  std_train_score  \n",
       "0        0.005979         0.006132  \n",
       "1        0.006101         0.006127  \n",
       "2        0.006583         0.006020  \n",
       "3        0.008213         0.007455  \n",
       "4        0.005305         0.006090  \n",
       "5        0.003850         0.002846  \n",
       "6        0.004446         0.001852  \n",
       "7        0.004445         0.001857  \n",
       "8        0.004445         0.001857  \n",
       "\n",
       "[9 rows x 31 columns]"
      ]
     },
     "execution_count": 40,
     "metadata": {
      "tags": []
     },
     "output_type": "execute_result"
    }
   ],
   "source": [
    "results=pd.DataFrame(model.cv_results_)# getting varoius cv_scores and train_scores various values of alpha given as parameter and storing it in a dataframe\n",
    "results#printing the dataframe"
   ]
  },
  {
   "cell_type": "code",
   "execution_count": 0,
   "metadata": {
    "colab": {},
    "colab_type": "code",
    "collapsed": true,
    "id": "X5-Fe70b5YNL"
   },
   "outputs": [],
   "source": []
  },
  {
   "cell_type": "code",
   "execution_count": 41,
   "metadata": {
    "colab": {
     "base_uri": "https://localhost:8080/",
     "height": 336
    },
    "colab_type": "code",
    "id": "FFmxEBtRH-2d",
    "outputId": "fb65cbd6-032d-4145-c3be-a15c842a6f31"
   },
   "outputs": [
    {
     "name": "stdout",
     "output_type": "stream",
     "text": [
      "[8.085611277862403, 8.079598651644249, 8.232742993822972, 8.329628510448483, 8.142518095805295, 5.778662439266002, 5.885765915742702, 5.8849942349506135, 5.8849942349506135]\n"
     ]
    },
    {
     "data": {
      "text/plain": [
       "<matplotlib.legend.Legend at 0x7f6433d75a20>"
      ]
     },
     "execution_count": 41,
     "metadata": {
      "tags": []
     },
     "output_type": "execute_result"
    },
    {
     "data": {
      "image/png": "[encoded data removed]",
      "text/plain": [
       "<matplotlib.figure.Figure at 0x7f642e2ab0f0>"
      ]
     },
     "metadata": {
      "tags": []
     },
     "output_type": "display_data"
    }
   ],
   "source": [
    "%matplotlib inline\n",
    "import matplotlib.pyplot as plt\n",
    "\n",
    "\n",
    "mean_test_score=list(results['mean_test_score'])#taking mean_test_score values of various alpha into a list\n",
    "mean_train_score=list(results['mean_train_score'])#taking mean_train_score values of varoius alpha into a list\n",
    "cv_error_list=[]\n",
    "train_error_list=[]\n",
    "for i  in mean_test_score:\n",
    "   i=1-i\n",
    "   i=i*100\n",
    "   cv_error_list.append(i)#appending the list with cv_error \n",
    "for i  in mean_train_score:\n",
    "   i=1-i\n",
    "   i=i*100\n",
    "   train_error_list.append(i)#appending  the list with train_error     \n",
    "    \n",
    "print(cv_error_list)\n",
    "alpha_values_in_10_power=[-4,-3,-2,-1,0,1,2,3,4]#list of alpha values in power of 10\n",
    "plt.plot(alpha_values_in_10_power,cv_error_list,label='cv_error')#plotting alpha with cv_error\n",
    "plt.plot(alpha_values_in_10_power,train_error_list,label='train_error')#plotting aplhawith train_error\n",
    "plt.xlabel('alpha value in  power of 10 ')\n",
    "plt.ylabel('cv error and train error')\n",
    "plt.legend(loc='best')\n"
   ]
  },
  {
   "cell_type": "markdown",
   "metadata": {
    "colab_type": "text",
    "id": "t7NAU2RtCy8e"
   },
   "source": [
    "**thus the best value of aplha is found to be 10 here as it is minimizing both train error and cv_error rate**"
   ]
  },
  {
   "cell_type": "code",
   "execution_count": 42,
   "metadata": {
    "colab": {
     "base_uri": "https://localhost:8080/",
     "height": 34
    },
    "colab_type": "code",
    "id": "jvvX5pjr_dCK",
    "outputId": "31845781-dbaa-4341-8c5c-844551e64fa6"
   },
   "outputs": [
    {
     "data": {
      "text/plain": [
       "MultinomialNB(alpha=10, class_prior=[0.5, 0.5], fit_prior=False)"
      ]
     },
     "execution_count": 42,
     "metadata": {
      "tags": []
     },
     "output_type": "execute_result"
    }
   ],
   "source": [
    "#now fitting the model again on train data to find the top important features for both positive and negative class\n",
    "mb=naive_bayes.MultinomialNB(alpha=10,fit_prior=False,class_prior=[0.5,0.5])\n",
    "mb.fit(train_bow,y_train)"
   ]
  },
  {
   "cell_type": "code",
   "execution_count": 43,
   "metadata": {
    "colab": {
     "base_uri": "https://localhost:8080/",
     "height": 34
    },
    "colab_type": "code",
    "id": "y1kJ71AzpP5q",
    "outputId": "0004fce0-c961-47b5-fc1e-b0ba9877f270"
   },
   "outputs": [
    {
     "name": "stdout",
     "output_type": "stream",
     "text": [
      "(80000, 28059)\n"
     ]
    }
   ],
   "source": [
    "vectorizer=CountVectorizer()#building the vertorizer with word counts as weare dealing with multinomial MODEL  here\n",
    "train_bow=vectorizer.fit_transform(x_train)#fitting the model on training data\n",
    "print(train_bow.shape)"
   ]
  },
  {
   "cell_type": "code",
   "execution_count": 59,
   "metadata": {
    "colab": {
     "base_uri": "https://localhost:8080/",
     "height": 85
    },
    "colab_type": "code",
    "id": "T2_hpFYwAMvq",
    "outputId": "35c0251f-a6e7-4400-8d2f-ac05432e22c1"
   },
   "outputs": [
    {
     "name": "stdout",
     "output_type": "stream",
     "text": [
      "['coffe' 'tri' 'one' 'product' 'flavor' 'tea' 'tast' 'good' 'like' 'great'\n",
      " 'love']\n",
      "['good' 'order' 'box' 'buy' 'tri' 'flavor' 'would' 'one' 'product' 'like'\n",
      " 'tast']\n"
     ]
    }
   ],
   "source": [
    "#getting the top most 10 features words for both +ve and-ve calss\n",
    "negative_class_prob_sorted = mb.feature_log_prob_[0,:].argsort()#finding featues of negative class and sorting it and storing in variable\n",
    "positive_class_prob_sorted = mb.feature_log_prob_[1,:].argsort()#finding featues of positive class and sorting it and storing in variable\n",
    "print(np.take(vectorizer.get_feature_names(),positive_class_prob_sorted[28048:])) \n",
    "print(np.take(vectorizer.get_feature_names(),negative_class_prob_sorted[28048:]))"
   ]
  },
  {
   "cell_type": "code",
   "execution_count": 0,
   "metadata": {
    "colab": {},
    "colab_type": "code",
    "collapsed": true,
    "id": "xAcTn9wIfkjq"
   },
   "outputs": [],
   "source": []
  },
  {
   "cell_type": "code",
   "execution_count": 0,
   "metadata": {
    "colab": {},
    "colab_type": "code",
    "collapsed": true,
    "id": "jlFpw0OV93VM"
   },
   "outputs": [],
   "source": [
    "#above are the top features for negative and positive class without any alphabatically  sorted  order "
   ]
  },
  {
   "cell_type": "markdown",
   "metadata": {
    "colab_type": "text",
    "id": "9HNClBkMjIVz"
   },
   "source": [
    "<h2>**IN THE FOLLOWING CELL ACCURACY OF THE MODEL IS TESTED ON TEST DATA USING F1_SCORE,PRECISION,RECALL,CONFUSION MATRIX  WITH BEST VALUE OF ALPHA **</h2>"
   ]
  },
  {
   "cell_type": "code",
   "execution_count": 46,
   "metadata": {
    "colab": {
     "base_uri": "https://localhost:8080/",
     "height": 504
    },
    "colab_type": "code",
    "id": "zogHYpISAU83",
    "outputId": "7e97f6b9-af98-4290-a6aa-ea7a8fb376a7"
   },
   "outputs": [
    {
     "name": "stdout",
     "output_type": "stream",
     "text": [
      "Accuracy on test set: 88.695%\n",
      "Precision on test set: 0.888\n",
      "Recall on test set: 0.996\n",
      "F1-Score on test set: 0.939\n",
      "Confusion Matrix of test set:\n",
      " [ [TN  FP]\n",
      " [FN TP] ]\n",
      "\n"
     ]
    },
    {
     "data": {
      "text/plain": [
       "<matplotlib.axes._subplots.AxesSubplot at 0x7f6433838198>"
      ]
     },
     "execution_count": 46,
     "metadata": {
      "tags": []
     },
     "output_type": "execute_result"
    },
    {
     "data": {
      "image/png": "[encoded data removed]",
      "text/plain": [
       "<matplotlib.figure.Figure at 0x7f6434b1d4e0>"
      ]
     },
     "metadata": {
      "tags": []
     },
     "output_type": "display_data"
    }
   ],
   "source": [
    "#Testing Accuracy on Test data  \n",
    "import seaborn as sns #import seaborn\n",
    "from sklearn.metrics import *#importing metrics from sklearn\n",
    "mb=naive_bayes.MultinomialNB(alpha=10,fit_prior=False,class_prior=[0.5,0.5])#biudling the naive bayes  multinomial model\n",
    "mb.fit(train_bow,y_train)#fitting the model\n",
    "y_pred = mb.predict(test_bow) #predicting on test data\n",
    "print(\"Accuracy on test set: %0.3f%%\"%(accuracy_score(y_test, y_pred)*100))#printing accuracy\n",
    "print(\"Precision on test set: %0.3f\"%(precision_score(y_test, y_pred)))#printing precision score\n",
    "print(\"Recall on test set: %0.3f\"%(recall_score(y_test, y_pred))) #printing recall\n",
    "print(\"F1-Score on test set: %0.3f\"%(f1_score(y_test, y_pred))) \n",
    "print(\"Confusion Matrix of test set:\\n [ [TN  FP]\\n [FN TP] ]\\n\") \n",
    "df_cm = pd.DataFrame(confusion_matrix(y_test, y_pred), range(2),range(2)) #generating the heatmap for confusion matrix\n",
    "sns.set(font_scale=1.4)#for label size/\n",
    "sns.heatmap(df_cm, annot=True,annot_kws={\"size\": 16}, fmt='g')\n"
   ]
  },
  {
   "cell_type": "code",
   "execution_count": 0,
   "metadata": {
    "colab": {},
    "colab_type": "code",
    "collapsed": true,
    "id": "tmC9EwKH7gyU"
   },
   "outputs": [],
   "source": []
  },
  {
   "cell_type": "markdown",
   "metadata": {
    "colab_type": "text",
    "id": "nFc9HS06BRa4"
   },
   "source": [
    "# ***TFIDF VECTORIZATION WITH MULTINOMIAL NAIVE BAYES ALGORITHM***"
   ]
  },
  {
   "cell_type": "code",
   "execution_count": 47,
   "metadata": {
    "colab": {
     "base_uri": "https://localhost:8080/",
     "height": 34
    },
    "colab_type": "code",
    "id": "a6jgwbGTBhL-",
    "outputId": "ab404ce8-1d57-4e30-a737-bd1b6c360a8e"
   },
   "outputs": [
    {
     "name": "stdout",
     "output_type": "stream",
     "text": [
      "(80000, 28059)\n"
     ]
    }
   ],
   "source": [
    "vectorizer=TfidfVectorizer()#building the tfidf vertorizer with word counts as weare dealing with multinomial here\n",
    "train_bow=vectorizer.fit_transform(x_train)#fitting and transforming the model on training data\n",
    "print(train_bow.shape)"
   ]
  },
  {
   "cell_type": "code",
   "execution_count": 48,
   "metadata": {
    "colab": {
     "base_uri": "https://localhost:8080/",
     "height": 34
    },
    "colab_type": "code",
    "id": "-2gjTGQ1Buy-",
    "outputId": "b529af0a-291c-489d-8f10-cf09955f5aae"
   },
   "outputs": [
    {
     "name": "stdout",
     "output_type": "stream",
     "text": [
      "(20000, 28059)\n"
     ]
    }
   ],
   "source": [
    "test_bow=vectorizer.transform(x_test)#fitting the model on test data\n",
    "print(test_bow.shape)"
   ]
  },
  {
   "cell_type": "code",
   "execution_count": 0,
   "metadata": {
    "colab": {},
    "colab_type": "code",
    "collapsed": true,
    "id": "NiRimJbkBzcO"
   },
   "outputs": [],
   "source": [
    "#using time series split method for cross-validation score\n",
    "from sklearn.model_selection import TimeSeriesSplit\n",
    "tscv = TimeSeriesSplit(n_splits=10) "
   ]
  },
  {
   "cell_type": "code",
   "execution_count": 50,
   "metadata": {
    "colab": {
     "base_uri": "https://localhost:8080/",
     "height": 51
    },
    "colab_type": "code",
    "id": "ZtbQmvNKB28o",
    "outputId": "cfec446d-f671-45f9-e1cc-8b6707e6e5c9"
   },
   "outputs": [
    {
     "name": "stdout",
     "output_type": "stream",
     "text": [
      "MultinomialNB(alpha=0.01, class_prior=None, fit_prior=True)\n",
      "0.9640960877771894\n"
     ]
    }
   ],
   "source": [
    "#now,here biulding the multinomial  model \n",
    "mb=naive_bayes.MultinomialNB()\n",
    "tuned_parameters = [{'alpha':[10**-4,10**-3,10**-2,10**-1,0,10**1,10**2,10**3,10**4]}] #alpha value range to be used for gridsearchcv\n",
    "\n",
    "\n",
    "#now  Using GridSearchCV\n",
    "model = GridSearchCV(mb, tuned_parameters, scoring = 'f1', cv=tscv,n_jobs=-1)#building the gridsearchcv model\n",
    "model.fit(train_bow, y_train)#fiitting the training data\n",
    "\n",
    "print(model.best_estimator_)#printing the best_estimator\n",
    "print(model.score(train_bow, y_train))#predicting  f1 score on test data\n"
   ]
  },
  {
   "cell_type": "markdown",
   "metadata": {
    "colab_type": "text",
    "id": "gqGkZgVfDNtb"
   },
   "source": [
    "*thus the best parameter is alpha=0.01*"
   ]
  },
  {
   "cell_type": "code",
   "execution_count": 51,
   "metadata": {
    "colab": {
     "base_uri": "https://localhost:8080/",
     "height": 533
    },
    "colab_type": "code",
    "id": "wDbyp7OAz8Mq",
    "outputId": "5f9278b2-1aab-48e5-fca7-6fd18a3756fc"
   },
   "outputs": [
    {
     "data": {
      "text/html": [
       "<div>\n",
       "<style scoped>\n",
       "    .dataframe tbody tr th:only-of-type {\n",
       "        vertical-align: middle;\n",
       "    }\n",
       "\n",
       "    .dataframe tbody tr th {\n",
       "        vertical-align: top;\n",
       "    }\n",
       "\n",
       "    .dataframe thead th {\n",
       "        text-align: right;\n",
       "    }\n",
       "</style>\n",
       "<table border=\"1\" class=\"dataframe\">\n",
       "  <thead>\n",
       "    <tr style=\"text-align: right;\">\n",
       "      <th></th>\n",
       "      <th>mean_fit_time</th>\n",
       "      <th>mean_score_time</th>\n",
       "      <th>mean_test_score</th>\n",
       "      <th>mean_train_score</th>\n",
       "      <th>param_alpha</th>\n",
       "      <th>params</th>\n",
       "      <th>rank_test_score</th>\n",
       "      <th>split0_test_score</th>\n",
       "      <th>split0_train_score</th>\n",
       "      <th>split1_test_score</th>\n",
       "      <th>...</th>\n",
       "      <th>split7_test_score</th>\n",
       "      <th>split7_train_score</th>\n",
       "      <th>split8_test_score</th>\n",
       "      <th>split8_train_score</th>\n",
       "      <th>split9_test_score</th>\n",
       "      <th>split9_train_score</th>\n",
       "      <th>std_fit_time</th>\n",
       "      <th>std_score_time</th>\n",
       "      <th>std_test_score</th>\n",
       "      <th>std_train_score</th>\n",
       "    </tr>\n",
       "  </thead>\n",
       "  <tbody>\n",
       "    <tr>\n",
       "      <th>0</th>\n",
       "      <td>0.064270</td>\n",
       "      <td>0.005545</td>\n",
       "      <td>0.944715</td>\n",
       "      <td>0.973267</td>\n",
       "      <td>0.0001</td>\n",
       "      <td>{'alpha': 0.0001}</td>\n",
       "      <td>4</td>\n",
       "      <td>0.945123</td>\n",
       "      <td>0.986689</td>\n",
       "      <td>0.950311</td>\n",
       "      <td>...</td>\n",
       "      <td>0.944238</td>\n",
       "      <td>0.968261</td>\n",
       "      <td>0.941876</td>\n",
       "      <td>0.967498</td>\n",
       "      <td>0.943117</td>\n",
       "      <td>0.966448</td>\n",
       "      <td>0.023994</td>\n",
       "      <td>0.000458</td>\n",
       "      <td>0.003173</td>\n",
       "      <td>0.006070</td>\n",
       "    </tr>\n",
       "    <tr>\n",
       "      <th>1</th>\n",
       "      <td>0.063023</td>\n",
       "      <td>0.005482</td>\n",
       "      <td>0.945178</td>\n",
       "      <td>0.972840</td>\n",
       "      <td>0.001</td>\n",
       "      <td>{'alpha': 0.001}</td>\n",
       "      <td>2</td>\n",
       "      <td>0.945463</td>\n",
       "      <td>0.986310</td>\n",
       "      <td>0.951552</td>\n",
       "      <td>...</td>\n",
       "      <td>0.944379</td>\n",
       "      <td>0.967843</td>\n",
       "      <td>0.942558</td>\n",
       "      <td>0.967006</td>\n",
       "      <td>0.944198</td>\n",
       "      <td>0.965998</td>\n",
       "      <td>0.026661</td>\n",
       "      <td>0.000240</td>\n",
       "      <td>0.003325</td>\n",
       "      <td>0.006086</td>\n",
       "    </tr>\n",
       "    <tr>\n",
       "      <th>2</th>\n",
       "      <td>0.062953</td>\n",
       "      <td>0.005649</td>\n",
       "      <td>0.945771</td>\n",
       "      <td>0.971311</td>\n",
       "      <td>0.01</td>\n",
       "      <td>{'alpha': 0.01}</td>\n",
       "      <td>1</td>\n",
       "      <td>0.945321</td>\n",
       "      <td>0.984115</td>\n",
       "      <td>0.952861</td>\n",
       "      <td>...</td>\n",
       "      <td>0.944745</td>\n",
       "      <td>0.966775</td>\n",
       "      <td>0.944449</td>\n",
       "      <td>0.965894</td>\n",
       "      <td>0.944539</td>\n",
       "      <td>0.964932</td>\n",
       "      <td>0.026032</td>\n",
       "      <td>0.000531</td>\n",
       "      <td>0.003163</td>\n",
       "      <td>0.005670</td>\n",
       "    </tr>\n",
       "    <tr>\n",
       "      <th>3</th>\n",
       "      <td>0.061800</td>\n",
       "      <td>0.005399</td>\n",
       "      <td>0.945110</td>\n",
       "      <td>0.963034</td>\n",
       "      <td>0.1</td>\n",
       "      <td>{'alpha': 0.1}</td>\n",
       "      <td>3</td>\n",
       "      <td>0.943415</td>\n",
       "      <td>0.961697</td>\n",
       "      <td>0.951925</td>\n",
       "      <td>...</td>\n",
       "      <td>0.946168</td>\n",
       "      <td>0.962450</td>\n",
       "      <td>0.942982</td>\n",
       "      <td>0.961840</td>\n",
       "      <td>0.942271</td>\n",
       "      <td>0.960811</td>\n",
       "      <td>0.026209</td>\n",
       "      <td>0.000337</td>\n",
       "      <td>0.003372</td>\n",
       "      <td>0.001316</td>\n",
       "    </tr>\n",
       "    <tr>\n",
       "      <th>4</th>\n",
       "      <td>0.061664</td>\n",
       "      <td>0.005398</td>\n",
       "      <td>0.943584</td>\n",
       "      <td>0.973684</td>\n",
       "      <td>0</td>\n",
       "      <td>{'alpha': 0}</td>\n",
       "      <td>5</td>\n",
       "      <td>0.944285</td>\n",
       "      <td>0.987145</td>\n",
       "      <td>0.948740</td>\n",
       "      <td>...</td>\n",
       "      <td>0.942083</td>\n",
       "      <td>0.968614</td>\n",
       "      <td>0.940862</td>\n",
       "      <td>0.967844</td>\n",
       "      <td>0.941681</td>\n",
       "      <td>0.966883</td>\n",
       "      <td>0.025311</td>\n",
       "      <td>0.000177</td>\n",
       "      <td>0.002983</td>\n",
       "      <td>0.006123</td>\n",
       "    </tr>\n",
       "    <tr>\n",
       "      <th>5</th>\n",
       "      <td>0.062752</td>\n",
       "      <td>0.005345</td>\n",
       "      <td>0.941242</td>\n",
       "      <td>0.941586</td>\n",
       "      <td>10</td>\n",
       "      <td>{'alpha': 10}</td>\n",
       "      <td>6</td>\n",
       "      <td>0.942793</td>\n",
       "      <td>0.936916</td>\n",
       "      <td>0.950195</td>\n",
       "      <td>...</td>\n",
       "      <td>0.937696</td>\n",
       "      <td>0.942484</td>\n",
       "      <td>0.934584</td>\n",
       "      <td>0.941937</td>\n",
       "      <td>0.937231</td>\n",
       "      <td>0.941199</td>\n",
       "      <td>0.027114</td>\n",
       "      <td>0.000205</td>\n",
       "      <td>0.004465</td>\n",
       "      <td>0.001812</td>\n",
       "    </tr>\n",
       "    <tr>\n",
       "      <th>6</th>\n",
       "      <td>0.063551</td>\n",
       "      <td>0.005324</td>\n",
       "      <td>0.941242</td>\n",
       "      <td>0.941594</td>\n",
       "      <td>100</td>\n",
       "      <td>{'alpha': 100}</td>\n",
       "      <td>6</td>\n",
       "      <td>0.942793</td>\n",
       "      <td>0.936916</td>\n",
       "      <td>0.950195</td>\n",
       "      <td>...</td>\n",
       "      <td>0.937696</td>\n",
       "      <td>0.942494</td>\n",
       "      <td>0.934584</td>\n",
       "      <td>0.941963</td>\n",
       "      <td>0.937231</td>\n",
       "      <td>0.941230</td>\n",
       "      <td>0.025164</td>\n",
       "      <td>0.000227</td>\n",
       "      <td>0.004465</td>\n",
       "      <td>0.001813</td>\n",
       "    </tr>\n",
       "    <tr>\n",
       "      <th>7</th>\n",
       "      <td>0.063994</td>\n",
       "      <td>0.005253</td>\n",
       "      <td>0.941242</td>\n",
       "      <td>0.941594</td>\n",
       "      <td>1000</td>\n",
       "      <td>{'alpha': 1000}</td>\n",
       "      <td>6</td>\n",
       "      <td>0.942793</td>\n",
       "      <td>0.936916</td>\n",
       "      <td>0.950195</td>\n",
       "      <td>...</td>\n",
       "      <td>0.937696</td>\n",
       "      <td>0.942494</td>\n",
       "      <td>0.934584</td>\n",
       "      <td>0.941963</td>\n",
       "      <td>0.937231</td>\n",
       "      <td>0.941230</td>\n",
       "      <td>0.026847</td>\n",
       "      <td>0.000211</td>\n",
       "      <td>0.004465</td>\n",
       "      <td>0.001813</td>\n",
       "    </tr>\n",
       "    <tr>\n",
       "      <th>8</th>\n",
       "      <td>0.059235</td>\n",
       "      <td>0.005098</td>\n",
       "      <td>0.941242</td>\n",
       "      <td>0.941594</td>\n",
       "      <td>10000</td>\n",
       "      <td>{'alpha': 10000}</td>\n",
       "      <td>6</td>\n",
       "      <td>0.942793</td>\n",
       "      <td>0.936916</td>\n",
       "      <td>0.950195</td>\n",
       "      <td>...</td>\n",
       "      <td>0.937696</td>\n",
       "      <td>0.942494</td>\n",
       "      <td>0.934584</td>\n",
       "      <td>0.941963</td>\n",
       "      <td>0.937231</td>\n",
       "      <td>0.941230</td>\n",
       "      <td>0.025341</td>\n",
       "      <td>0.000614</td>\n",
       "      <td>0.004465</td>\n",
       "      <td>0.001813</td>\n",
       "    </tr>\n",
       "  </tbody>\n",
       "</table>\n",
       "<p>9 rows × 31 columns</p>\n",
       "</div>"
      ],
      "text/plain": [
       "   mean_fit_time  mean_score_time  mean_test_score  mean_train_score  \\\n",
       "0       0.064270         0.005545         0.944715          0.973267   \n",
       "1       0.063023         0.005482         0.945178          0.972840   \n",
       "2       0.062953         0.005649         0.945771          0.971311   \n",
       "3       0.061800         0.005399         0.945110          0.963034   \n",
       "4       0.061664         0.005398         0.943584          0.973684   \n",
       "5       0.062752         0.005345         0.941242          0.941586   \n",
       "6       0.063551         0.005324         0.941242          0.941594   \n",
       "7       0.063994         0.005253         0.941242          0.941594   \n",
       "8       0.059235         0.005098         0.941242          0.941594   \n",
       "\n",
       "  param_alpha             params  rank_test_score  split0_test_score  \\\n",
       "0      0.0001  {'alpha': 0.0001}                4           0.945123   \n",
       "1       0.001   {'alpha': 0.001}                2           0.945463   \n",
       "2        0.01    {'alpha': 0.01}                1           0.945321   \n",
       "3         0.1     {'alpha': 0.1}                3           0.943415   \n",
       "4           0       {'alpha': 0}                5           0.944285   \n",
       "5          10      {'alpha': 10}                6           0.942793   \n",
       "6         100     {'alpha': 100}                6           0.942793   \n",
       "7        1000    {'alpha': 1000}                6           0.942793   \n",
       "8       10000   {'alpha': 10000}                6           0.942793   \n",
       "\n",
       "   split0_train_score  split1_test_score       ...         split7_test_score  \\\n",
       "0            0.986689           0.950311       ...                  0.944238   \n",
       "1            0.986310           0.951552       ...                  0.944379   \n",
       "2            0.984115           0.952861       ...                  0.944745   \n",
       "3            0.961697           0.951925       ...                  0.946168   \n",
       "4            0.987145           0.948740       ...                  0.942083   \n",
       "5            0.936916           0.950195       ...                  0.937696   \n",
       "6            0.936916           0.950195       ...                  0.937696   \n",
       "7            0.936916           0.950195       ...                  0.937696   \n",
       "8            0.936916           0.950195       ...                  0.937696   \n",
       "\n",
       "   split7_train_score  split8_test_score  split8_train_score  \\\n",
       "0            0.968261           0.941876            0.967498   \n",
       "1            0.967843           0.942558            0.967006   \n",
       "2            0.966775           0.944449            0.965894   \n",
       "3            0.962450           0.942982            0.961840   \n",
       "4            0.968614           0.940862            0.967844   \n",
       "5            0.942484           0.934584            0.941937   \n",
       "6            0.942494           0.934584            0.941963   \n",
       "7            0.942494           0.934584            0.941963   \n",
       "8            0.942494           0.934584            0.941963   \n",
       "\n",
       "   split9_test_score  split9_train_score  std_fit_time  std_score_time  \\\n",
       "0           0.943117            0.966448      0.023994        0.000458   \n",
       "1           0.944198            0.965998      0.026661        0.000240   \n",
       "2           0.944539            0.964932      0.026032        0.000531   \n",
       "3           0.942271            0.960811      0.026209        0.000337   \n",
       "4           0.941681            0.966883      0.025311        0.000177   \n",
       "5           0.937231            0.941199      0.027114        0.000205   \n",
       "6           0.937231            0.941230      0.025164        0.000227   \n",
       "7           0.937231            0.941230      0.026847        0.000211   \n",
       "8           0.937231            0.941230      0.025341        0.000614   \n",
       "\n",
       "   std_test_score  std_train_score  \n",
       "0        0.003173         0.006070  \n",
       "1        0.003325         0.006086  \n",
       "2        0.003163         0.005670  \n",
       "3        0.003372         0.001316  \n",
       "4        0.002983         0.006123  \n",
       "5        0.004465         0.001812  \n",
       "6        0.004465         0.001813  \n",
       "7        0.004465         0.001813  \n",
       "8        0.004465         0.001813  \n",
       "\n",
       "[9 rows x 31 columns]"
      ]
     },
     "execution_count": 51,
     "metadata": {
      "tags": []
     },
     "output_type": "execute_result"
    }
   ],
   "source": [
    "results=pd.DataFrame(model.cv_results_)# getting varoius cv_scores and train_scores various values of alpha given as parameter and storing it in a dataframe\n",
    "results#printing the dataframe"
   ]
  },
  {
   "cell_type": "code",
   "execution_count": 52,
   "metadata": {
    "colab": {
     "base_uri": "https://localhost:8080/",
     "height": 348
    },
    "colab_type": "code",
    "id": "TfvpvZqPz-g8",
    "outputId": "2c9c9b08-c6df-40cb-f605-420663817e52"
   },
   "outputs": [
    {
     "name": "stdout",
     "output_type": "stream",
     "text": [
      "[5.528490831314725, 5.482185028527054, 5.422896353755712, 5.489021881329659, 5.641619234621031, 5.875761377222, 5.875761377222, 5.875761377222, 5.875761377222]\n"
     ]
    },
    {
     "data": {
      "text/plain": [
       "<matplotlib.legend.Legend at 0x7f642e229d30>"
      ]
     },
     "execution_count": 52,
     "metadata": {
      "tags": []
     },
     "output_type": "execute_result"
    },
    {
     "data": {
      "image/png": "[encoded data removed]",
      "text/plain": [
       "<matplotlib.figure.Figure at 0x7f64348912b0>"
      ]
     },
     "metadata": {
      "tags": []
     },
     "output_type": "display_data"
    }
   ],
   "source": [
    "%matplotlib inline\n",
    "import matplotlib.pyplot as plt\n",
    "\n",
    "\n",
    "mean_test_score=list(results['mean_test_score'])#taking mean_test_score values of various alpha into a list\n",
    "mean_train_score=list(results['mean_train_score'])#taking mean_train_score values of varoius alpha into a list\n",
    "cv_error_list=[]\n",
    "train_error_list=[]\n",
    "for i  in mean_test_score:\n",
    "   i=1-i\n",
    "   i=i*100\n",
    "   cv_error_list.append(i)#appending the list with cv_error \n",
    "for i  in mean_train_score:\n",
    "   i=1-i\n",
    "   i=i*100\n",
    "   train_error_list.append(i)#appending  the list with train_error     \n",
    "    \n",
    "print(cv_error_list)\n",
    "alpha_values_in_10_power=[-4,-3,-2,-1,0,1,2,3,4]#list of alpha values in power of 10\n",
    "plt.plot(alpha_values_in_10_power,cv_error_list,label='cv_error')#plotting alpha with cv_error\n",
    "plt.plot(alpha_values_in_10_power,train_error_list,label='train_error')#plotting aplhawith train_error\n",
    "plt.xlabel('alpha value in  power of 10 ')\n",
    "plt.ylabel('cv error and train error')\n",
    "plt.legend(loc='best')"
   ]
  },
  {
   "cell_type": "markdown",
   "metadata": {
    "colab_type": "text",
    "id": "Rry5s-3G0Mo8"
   },
   "source": [
    "<h2>from above visualization best value of alpha is found to be 0.01</h2>"
   ]
  },
  {
   "cell_type": "code",
   "execution_count": 53,
   "metadata": {
    "colab": {
     "base_uri": "https://localhost:8080/",
     "height": 34
    },
    "colab_type": "code",
    "id": "Cm5ZcqCYB-bP",
    "outputId": "23a4fef4-2d19-43bf-b62e-3f6bbf77a695"
   },
   "outputs": [
    {
     "data": {
      "text/plain": [
       "MultinomialNB(alpha=0.01, class_prior=None, fit_prior=True)"
      ]
     },
     "execution_count": 53,
     "metadata": {
      "tags": []
     },
     "output_type": "execute_result"
    }
   ],
   "source": [
    "#now fitting the model again on train data to find the top important features for both positive and negative class\n",
    "mb=naive_bayes.MultinomialNB(alpha=0.01)\n",
    "mb.fit(train_bow,y_train)"
   ]
  },
  {
   "cell_type": "code",
   "execution_count": 54,
   "metadata": {
    "colab": {
     "base_uri": "https://localhost:8080/",
     "height": 85
    },
    "colab_type": "code",
    "id": "X7XC5QbnCcE-",
    "outputId": "35f91544-e812-4aec-84d8-c16c5c2ab08b"
   },
   "outputs": [
    {
     "name": "stdout",
     "output_type": "stream",
     "text": [
      "['dog' 'tri' 'buy' 'order' 'tea' 'one' 'flavor' 'would' 'product' 'like'\n",
      " 'tast']\n",
      "['tri' 'use' 'one' 'product' 'flavor' 'like' 'tast' 'good' 'love' 'great'\n",
      " 'tea']\n"
     ]
    }
   ],
   "source": [
    "#getting the top most 10 features words for both +ve and-ve calss\n",
    "negative_class_prob_sorted = mb.feature_log_prob_[0, :].argsort()#finding featues of negative class and sorting it and storing in variable\n",
    "positive_class_prob_sorted = mb.feature_log_prob_[1, :].argsort()#finding featues of positive class and sorting it and storing in variable\n",
    "\n",
    "print(np.take(vectorizer.get_feature_names(), negative_class_prob_sorted[28048:]))#printing the top 10 featues of negative class\n",
    "print(np.take(vectorizer.get_feature_names(), positive_class_prob_sorted[28048:]))#printing the top 10 features of positive class \n"
   ]
  },
  {
   "cell_type": "code",
   "execution_count": 55,
   "metadata": {
    "colab": {
     "base_uri": "https://localhost:8080/",
     "height": 504
    },
    "colab_type": "code",
    "id": "33vYCoZ0Cg3P",
    "outputId": "bca4b9b4-bbb4-49f6-bf13-2715b5ce177a"
   },
   "outputs": [
    {
     "name": "stdout",
     "output_type": "stream",
     "text": [
      "Accuracy on test set: 94.115%\n",
      "Precision on test set: 0.938\n",
      "Recall on test set: 0.999\n",
      "F1-Score on test set: 0.967\n",
      "Confusion Matrix of test set:\n",
      " [ [TN  FP]\n",
      " [FN TP] ]\n",
      "\n"
     ]
    },
    {
     "data": {
      "text/plain": [
       "<matplotlib.axes._subplots.AxesSubplot at 0x7f6434a520f0>"
      ]
     },
     "execution_count": 55,
     "metadata": {
      "tags": []
     },
     "output_type": "execute_result"
    },
    {
     "data": {
      "image/png": "[encoded data removed]",
      "text/plain": [
       "<matplotlib.figure.Figure at 0x7f643388ea58>"
      ]
     },
     "metadata": {
      "tags": []
     },
     "output_type": "display_data"
    }
   ],
   "source": [
    "#Testing Accuracy on Test data  \n",
    "import seaborn as sns #importing seaborn as sns\n",
    "from sklearn.metrics import *#importing varoius metrics from sklearn\n",
    "mb=naive_bayes.MultinomialNB(alpha=0.01)#building the model\n",
    "mb.fit(test_bow,y_test)\n",
    "y_pred = mb.predict(test_bow) \n",
    "print(\"Accuracy on test set: %0.3f%%\"%(accuracy_score(y_test, y_pred)*100))#printing accuracy\n",
    "print(\"Precision on test set: %0.3f\"%(precision_score(y_test, y_pred)))#printing precision score\n",
    "print(\"Recall on test set: %0.3f\"%(recall_score(y_test, y_pred))) #printing recall\n",
    "print(\"F1-Score on test set: %0.3f\"%(f1_score(y_test, y_pred))) \n",
    "print(\"Confusion Matrix of test set:\\n [ [TN  FP]\\n [FN TP] ]\\n\") \n",
    "df_cm = pd.DataFrame(confusion_matrix(y_test, y_pred), range(2),range(2)) #generating the heatmap for confusion matrix\n",
    "sns.set(font_scale=1.4)#for label size\n",
    "sns.heatmap(df_cm, annot=True,annot_kws={\"size\": 16}, fmt='g')\n"
   ]
  },
  {
   "cell_type": "code",
   "execution_count": 0,
   "metadata": {
    "colab": {},
    "colab_type": "code",
    "collapsed": true,
    "id": "_9Qld3q0zwRF"
   },
   "outputs": [],
   "source": [
    "#from above confusion matrix recall,precision,f1_score can be easily visualized"
   ]
  },
  {
   "cell_type": "markdown",
   "metadata": {
    "colab_type": "text",
    "id": "-MeulS24yxbh"
   },
   "source": [
    "<h1>OBSERVATIONS</h1>"
   ]
  },
  {
   "cell_type": "markdown",
   "metadata": {
    "colab_type": "text",
    "id": "VuHWSpXvy4OC"
   },
   "source": [
    "\n",
    "\n",
    "1.   **best value of alpha is 10 for bow vectorization with f1_score of 94% ..plotted with confusion matrix**\n",
    "2.   ** best value of alpha is 0.01 for tfidf vectorization with f1_score of 96% plotted with confusion matrix**\n",
    "\n"
   ]
  },
  {
   "cell_type": "code",
   "execution_count": 0,
   "metadata": {
    "colab": {},
    "colab_type": "code",
    "collapsed": true,
    "id": "5E5dIDlIyzu7"
   },
   "outputs": [],
   "source": [
    "#####END OF ASSIGNMENT###############"
   ]
  },
  {
   "cell_type": "code",
   "execution_count": 0,
   "metadata": {
    "colab": {},
    "colab_type": "code",
    "collapsed": true,
    "id": "lfC7GISe2uYZ"
   },
   "outputs": [],
   "source": []
  }
 ],
 "metadata": {
  "colab": {
   "collapsed_sections": [],
   "name": "Copy of NAIVE BAYES MULTINOMIAL.ipynb",
   "provenance": [],
   "version": "0.3.2"
  },
  "kernelspec": {
   "display_name": "Python 3",
   "language": "python",
   "name": "python3"
  },
  "language_info": {
   "codemirror_mode": {
    "name": "ipython",
    "version": 3
   },
   "file_extension": ".py",
   "mimetype": "text/x-python",
   "name": "python",
   "nbconvert_exporter": "python",
   "pygments_lexer": "ipython3",
   "version": "3.6.3"
  }
 },
 "nbformat": 4,
 "nbformat_minor": 1
}
